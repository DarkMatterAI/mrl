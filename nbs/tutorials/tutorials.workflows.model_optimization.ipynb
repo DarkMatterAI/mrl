{
 "cells": [
  {
   "cell_type": "code",
   "execution_count": null,
   "metadata": {},
   "outputs": [],
   "source": [
    "# hide\n",
    "# all_tutorial\n",
    "! [ -e /content ] && pip install -Uqq mrl-pypi  # upgrade mrl on colab"
   ]
  },
  {
   "cell_type": "markdown",
   "metadata": {},
   "source": [
    "# Example Workflows - Model Optimization\n",
    "\n",
    ">Basic model optimization workflow"
   ]
  },
  {
   "cell_type": "markdown",
   "metadata": {},
   "source": [
    "## Model Optimization Workflows\n",
    "\n",
    "This notebook shows a basic workflow for optimizing a generative model. The focus here is on showing how to set up the code, rather than maximizing performance. For this reason, we will use a simple template and a simple reward function."
   ]
  },
  {
   "cell_type": "markdown",
   "metadata": {},
   "source": [
    "## Performance Notes\n",
    "\n",
    "The workflow in this notebook is more CPU-constrained than GPU-constrained due to the need to evaluate samples on CPU. If you have a multi-core machine, it is recommended that you uncomment and run the `set_global_pool` cells in the notebook. This will trigger the use of multiprocessing, which will result in 2-4x speedups.\n",
    "\n",
    "This notebook may run slow on Collab due to CPU limitations.\n",
    "\n",
    "If running on Collab, remember to change the runtime to GPU"
   ]
  },
  {
   "cell_type": "code",
   "execution_count": null,
   "metadata": {},
   "outputs": [
    {
     "name": "stderr",
     "output_type": "stream",
     "text": [
      "/home/dmai/miniconda3/envs/mrl/lib/python3.7/importlib/_bootstrap.py:219: RuntimeWarning: to-Python converter for boost::shared_ptr<RDKit::FilterCatalogEntry const> already registered; second conversion method ignored.\n",
      "  return f(*args, **kwds)\n"
     ]
    }
   ],
   "source": [
    "import sys\n",
    "sys.path.append('..')\n",
    "\n",
    "from mrl.imports import *\n",
    "from mrl.core import *\n",
    "from mrl.chem import *\n",
    "from mrl.templates.all import *\n",
    "\n",
    "from mrl.torch_imports import *\n",
    "from mrl.torch_core import *\n",
    "from mrl.layers import *\n",
    "from mrl.dataloaders import *\n",
    "from mrl.g_models.all import *\n",
    "from mrl.vocab import *\n",
    "from mrl.policy_gradient import *\n",
    "from mrl.train.all import *\n",
    "from mrl.model_zoo import *"
   ]
  },
  {
   "cell_type": "markdown",
   "metadata": {},
   "source": [
    "## Agent\n",
    "\n",
    "Here we create the model we want to optimize. We will use the `LSTM_LM_Small_ZINC` - a LSTM-based language model pretrained on part of the ZINC database"
   ]
  },
  {
   "cell_type": "code",
   "execution_count": null,
   "metadata": {},
   "outputs": [],
   "source": [
    "agent = LSTM_LM_Small_ZINC(drop_scale=0.5,opt_kwargs={'lr':5e-5})"
   ]
  },
  {
   "cell_type": "markdown",
   "metadata": {},
   "source": [
    "### Optional: Fine Tuning\n",
    "\n",
    "We could optionally fine-tune the pretrained model on a dataset of interest. This is an example of how to add a dataset to a pretrained `Agent` and finetune"
   ]
  },
  {
   "cell_type": "code",
   "execution_count": null,
   "metadata": {},
   "outputs": [],
   "source": [
    "# if in the repo\n",
    "df = pd.read_csv('../files/smiles.csv')\n",
    "\n",
    "# if in Collab\n",
    "# download_files()\n",
    "# df = pd.read_csv('files/smiles.csv')"
   ]
  },
  {
   "cell_type": "code",
   "execution_count": null,
   "metadata": {},
   "outputs": [
    {
     "data": {
      "text/html": [
       "<table border=\"1\" class=\"dataframe\">\n",
       "  <thead>\n",
       "    <tr style=\"text-align: left;\">\n",
       "      <th>Epoch</th>\n",
       "      <th>Train Loss</th>\n",
       "      <th>Valid  Loss</th>\n",
       "      <th>Time</th>\n",
       "    </tr>\n",
       "  </thead>\n",
       "  <tbody>\n",
       "    <tr>\n",
       "      <td>0</td>\n",
       "      <td>0.45082</td>\n",
       "      <td>0.76565</td>\n",
       "      <td>00:03</td>\n",
       "    </tr>\n",
       "  </tbody>\n",
       "</table>"
      ],
      "text/plain": [
       "<IPython.core.display.HTML object>"
      ]
     },
     "metadata": {},
     "output_type": "display_data"
    }
   ],
   "source": [
    "agent.update_dataset_from_inputs(df.smiles.values)\n",
    "agent.train_supervised(64, 1, 1e-5)"
   ]
  },
  {
   "cell_type": "markdown",
   "metadata": {},
   "source": [
    "## Template\n",
    "\n",
    "We will set up a very basic template that will only check compounds for structural validity"
   ]
  },
  {
   "cell_type": "code",
   "execution_count": null,
   "metadata": {},
   "outputs": [],
   "source": [
    "template = Template([ValidityFilter(), \n",
    "                     SingleCompoundFilter()],\n",
    "                    [])\n",
    "\n",
    "template_cb = TemplateCallback(template, prefilter=True)"
   ]
  },
  {
   "cell_type": "markdown",
   "metadata": {},
   "source": [
    "## Reward\n",
    "\n",
    "For the reward, we will load a scikit-learn linear regression model trained to predict affinity against erbB1 using molecular fingerprints.\n",
    "\n",
    "This score function is extremely simple and won't translate well to affinity. It is used as a lightweight example"
   ]
  },
  {
   "cell_type": "code",
   "execution_count": null,
   "metadata": {},
   "outputs": [],
   "source": [
    "class FP_Regression_Score():\n",
    "    def __init__(self, fname):\n",
    "        self.model = torch.load(fname)\n",
    "        self.fp_function = partial(failsafe_fp, fp_function=ECFP6)\n",
    "        \n",
    "    def __call__(self, samples):\n",
    "        mols = to_mols(samples)\n",
    "        fps = maybe_parallel(self.fp_function, mols)\n",
    "        fps = [fp_to_array(i) for i in fps]\n",
    "        x_vals = np.stack(fps)\n",
    "        preds = self.model.predict(x_vals)\n",
    "        return preds\n",
    "    \n",
    "    \n",
    "# if in the repo\n",
    "reward_function = FP_Regression_Score('../files/erbB1_regression.sklearn')\n",
    "\n",
    "# if in Collab\n",
    "# download_files()\n",
    "# reward_function = FP_Regression_Score('files/erbB1_regression.sklearn')\n",
    "\n",
    "reward = Reward(reward_function, weight=1.)\n",
    "\n",
    "aff_reward = RewardCallback(reward, 'aff')"
   ]
  },
  {
   "cell_type": "markdown",
   "metadata": {},
   "source": [
    "## Loss Function\n",
    "\n",
    "We will use the `PolicyGradient` class, the simplest policy gradient algorithm"
   ]
  },
  {
   "cell_type": "code",
   "execution_count": null,
   "metadata": {},
   "outputs": [],
   "source": [
    "pg = PolicyGradient(discount=True, gamma=0.97)\n",
    "\n",
    "loss = PolicyLoss(pg, 'PG')"
   ]
  },
  {
   "cell_type": "markdown",
   "metadata": {},
   "source": [
    "### Optional: PPO\n",
    "\n",
    "A more sophisticated policy gradient algorithm "
   ]
  },
  {
   "cell_type": "code",
   "execution_count": null,
   "metadata": {},
   "outputs": [],
   "source": [
    "# pg = PPO(0.99,\n",
    "#         0.5,\n",
    "#         lam=0.95,\n",
    "#         v_coef=0.5,\n",
    "#         cliprange=0.3,\n",
    "#         v_cliprange=0.3,\n",
    "#         ent_coef=0.01,\n",
    "#         kl_target=0.03,\n",
    "#         kl_horizon=3000,\n",
    "#         scale_rewards=True)\n",
    "\n",
    "# loss = PolicyLoss(pg, 'PPO', \n",
    "#                    value_head=ValueHead(256), \n",
    "#                    v_update_iter=2, \n",
    "#                    vopt_kwargs={'lr':1e-3})"
   ]
  },
  {
   "cell_type": "markdown",
   "metadata": {},
   "source": [
    "## Samplers\n",
    "\n",
    "We will use a basic sampler setup which will build the buffer from the main model and train only on samples from the buffer"
   ]
  },
  {
   "cell_type": "code",
   "execution_count": null,
   "metadata": {},
   "outputs": [],
   "source": [
    "gen_bs = 1500\n",
    "sampler1 = ModelSampler(agent.vocab, agent.model, 'live', 400, 0., gen_bs)\n",
    "samplers = [sampler1]"
   ]
  },
  {
   "cell_type": "markdown",
   "metadata": {},
   "source": [
    "### Optional: More Samplers\n",
    "\n",
    "Samplers that draw from the base model and the log"
   ]
  },
  {
   "cell_type": "code",
   "execution_count": null,
   "metadata": {},
   "outputs": [],
   "source": [
    "# sampler2 = ModelSampler(agent.vocab, agent.base_model, 'base', 400, 0., gen_bs)\n",
    "# sampler3 = LogSampler('samples', 'rewards', 10, 97, 400)\n",
    "\n",
    "# samplers += [sampler2, sampler3]"
   ]
  },
  {
   "cell_type": "markdown",
   "metadata": {},
   "source": [
    "## Other Callbacks\n",
    "\n",
    "We will add two callbacks for printing metrics"
   ]
  },
  {
   "cell_type": "code",
   "execution_count": null,
   "metadata": {},
   "outputs": [],
   "source": [
    "live_max = MaxCallback('rewards', 'live')\n",
    "live_p90 = PercentileCallback('rewards', 'live', 90)\n",
    "\n",
    "cbs = [live_p90, live_max]"
   ]
  },
  {
   "cell_type": "markdown",
   "metadata": {},
   "source": [
    "## Environment\n",
    "\n",
    "We create our environment with the objects assembled so far"
   ]
  },
  {
   "cell_type": "code",
   "execution_count": null,
   "metadata": {},
   "outputs": [],
   "source": [
    "env = Environment(agent, template_cb, samplers=samplers, rewards=[aff_reward], losses=[loss],\n",
    "                 cbs=cbs)"
   ]
  },
  {
   "cell_type": "markdown",
   "metadata": {},
   "source": [
    "## Train"
   ]
  },
  {
   "cell_type": "code",
   "execution_count": null,
   "metadata": {},
   "outputs": [],
   "source": [
    "# set_global_pool(cpus=min(10, os.cpu_count()))"
   ]
  },
  {
   "cell_type": "code",
   "execution_count": null,
   "metadata": {},
   "outputs": [
    {
     "data": {
      "text/html": [
       "<table border=\"1\" class=\"dataframe\">\n",
       "  <thead>\n",
       "    <tr style=\"text-align: left;\">\n",
       "      <th>iterations</th>\n",
       "      <th>rewards</th>\n",
       "      <th>rewards_final</th>\n",
       "      <th>new</th>\n",
       "      <th>diversity</th>\n",
       "      <th>bs</th>\n",
       "      <th>template</th>\n",
       "      <th>valid</th>\n",
       "      <th>aff</th>\n",
       "      <th>PG</th>\n",
       "      <th>rewards_live_p90</th>\n",
       "      <th>rewards_live_max</th>\n",
       "    </tr>\n",
       "  </thead>\n",
       "  <tbody>\n",
       "    <tr>\n",
       "      <td>0</td>\n",
       "      <td>5.355</td>\n",
       "      <td>5.355</td>\n",
       "      <td>1.000</td>\n",
       "      <td>1.000</td>\n",
       "      <td>128</td>\n",
       "      <td>0.000</td>\n",
       "      <td>1.000</td>\n",
       "      <td>5.355</td>\n",
       "      <td>-0.005</td>\n",
       "      <td>7.444</td>\n",
       "      <td>7.955</td>\n",
       "    </tr>\n",
       "    <tr>\n",
       "      <td>25</td>\n",
       "      <td>6.077</td>\n",
       "      <td>6.077</td>\n",
       "      <td>0.867</td>\n",
       "      <td>1.000</td>\n",
       "      <td>128</td>\n",
       "      <td>0.000</td>\n",
       "      <td>1.000</td>\n",
       "      <td>6.077</td>\n",
       "      <td>-0.011</td>\n",
       "      <td>7.367</td>\n",
       "      <td>8.335</td>\n",
       "    </tr>\n",
       "    <tr>\n",
       "      <td>50</td>\n",
       "      <td>5.816</td>\n",
       "      <td>5.816</td>\n",
       "      <td>0.867</td>\n",
       "      <td>1.000</td>\n",
       "      <td>128</td>\n",
       "      <td>0.000</td>\n",
       "      <td>1.000</td>\n",
       "      <td>5.816</td>\n",
       "      <td>-0.019</td>\n",
       "      <td>7.310</td>\n",
       "      <td>7.897</td>\n",
       "    </tr>\n",
       "    <tr>\n",
       "      <td>75</td>\n",
       "      <td>6.131</td>\n",
       "      <td>6.131</td>\n",
       "      <td>0.812</td>\n",
       "      <td>1.000</td>\n",
       "      <td>128</td>\n",
       "      <td>0.000</td>\n",
       "      <td>1.000</td>\n",
       "      <td>6.131</td>\n",
       "      <td>-0.037</td>\n",
       "      <td>7.292</td>\n",
       "      <td>8.511</td>\n",
       "    </tr>\n",
       "    <tr>\n",
       "      <td>100</td>\n",
       "      <td>6.276</td>\n",
       "      <td>6.276</td>\n",
       "      <td>0.750</td>\n",
       "      <td>1.000</td>\n",
       "      <td>128</td>\n",
       "      <td>0.000</td>\n",
       "      <td>1.000</td>\n",
       "      <td>6.276</td>\n",
       "      <td>-0.069</td>\n",
       "      <td>7.456</td>\n",
       "      <td>8.555</td>\n",
       "    </tr>\n",
       "    <tr>\n",
       "      <td>125</td>\n",
       "      <td>6.433</td>\n",
       "      <td>6.433</td>\n",
       "      <td>0.633</td>\n",
       "      <td>1.000</td>\n",
       "      <td>128</td>\n",
       "      <td>0.000</td>\n",
       "      <td>1.000</td>\n",
       "      <td>6.433</td>\n",
       "      <td>-0.053</td>\n",
       "      <td>6.863</td>\n",
       "      <td>8.195</td>\n",
       "    </tr>\n",
       "    <tr>\n",
       "      <td>150</td>\n",
       "      <td>6.578</td>\n",
       "      <td>6.578</td>\n",
       "      <td>0.703</td>\n",
       "      <td>1.000</td>\n",
       "      <td>128</td>\n",
       "      <td>0.000</td>\n",
       "      <td>1.000</td>\n",
       "      <td>6.578</td>\n",
       "      <td>-0.045</td>\n",
       "      <td>7.720</td>\n",
       "      <td>10.436</td>\n",
       "    </tr>\n",
       "    <tr>\n",
       "      <td>175</td>\n",
       "      <td>6.543</td>\n",
       "      <td>6.543</td>\n",
       "      <td>0.719</td>\n",
       "      <td>1.000</td>\n",
       "      <td>128</td>\n",
       "      <td>0.000</td>\n",
       "      <td>1.000</td>\n",
       "      <td>6.543</td>\n",
       "      <td>-0.009</td>\n",
       "      <td>7.591</td>\n",
       "      <td>9.904</td>\n",
       "    </tr>\n",
       "    <tr>\n",
       "      <td>200</td>\n",
       "      <td>6.834</td>\n",
       "      <td>6.834</td>\n",
       "      <td>0.594</td>\n",
       "      <td>1.000</td>\n",
       "      <td>128</td>\n",
       "      <td>0.000</td>\n",
       "      <td>1.000</td>\n",
       "      <td>6.834</td>\n",
       "      <td>-0.065</td>\n",
       "      <td>7.273</td>\n",
       "      <td>10.186</td>\n",
       "    </tr>\n",
       "    <tr>\n",
       "      <td>225</td>\n",
       "      <td>6.574</td>\n",
       "      <td>6.574</td>\n",
       "      <td>0.688</td>\n",
       "      <td>1.000</td>\n",
       "      <td>128</td>\n",
       "      <td>0.000</td>\n",
       "      <td>1.000</td>\n",
       "      <td>6.574</td>\n",
       "      <td>-0.020</td>\n",
       "      <td>7.564</td>\n",
       "      <td>9.487</td>\n",
       "    </tr>\n",
       "    <tr>\n",
       "      <td>250</td>\n",
       "      <td>6.786</td>\n",
       "      <td>6.786</td>\n",
       "      <td>0.633</td>\n",
       "      <td>1.000</td>\n",
       "      <td>128</td>\n",
       "      <td>0.000</td>\n",
       "      <td>1.000</td>\n",
       "      <td>6.786</td>\n",
       "      <td>-0.056</td>\n",
       "      <td>7.273</td>\n",
       "      <td>7.818</td>\n",
       "    </tr>\n",
       "    <tr>\n",
       "      <td>275</td>\n",
       "      <td>6.263</td>\n",
       "      <td>6.263</td>\n",
       "      <td>0.727</td>\n",
       "      <td>1.000</td>\n",
       "      <td>128</td>\n",
       "      <td>0.000</td>\n",
       "      <td>1.000</td>\n",
       "      <td>6.263</td>\n",
       "      <td>-0.006</td>\n",
       "      <td>6.924</td>\n",
       "      <td>8.297</td>\n",
       "    </tr>\n",
       "    <tr>\n",
       "      <td>300</td>\n",
       "      <td>6.407</td>\n",
       "      <td>6.407</td>\n",
       "      <td>0.695</td>\n",
       "      <td>1.000</td>\n",
       "      <td>128</td>\n",
       "      <td>0.000</td>\n",
       "      <td>1.000</td>\n",
       "      <td>6.407</td>\n",
       "      <td>-0.027</td>\n",
       "      <td>7.497</td>\n",
       "      <td>8.730</td>\n",
       "    </tr>\n",
       "    <tr>\n",
       "      <td>325</td>\n",
       "      <td>6.675</td>\n",
       "      <td>6.675</td>\n",
       "      <td>0.656</td>\n",
       "      <td>1.000</td>\n",
       "      <td>128</td>\n",
       "      <td>0.000</td>\n",
       "      <td>1.000</td>\n",
       "      <td>6.675</td>\n",
       "      <td>-0.034</td>\n",
       "      <td>7.664</td>\n",
       "      <td>8.978</td>\n",
       "    </tr>\n",
       "    <tr>\n",
       "      <td>350</td>\n",
       "      <td>6.449</td>\n",
       "      <td>6.449</td>\n",
       "      <td>0.727</td>\n",
       "      <td>1.000</td>\n",
       "      <td>128</td>\n",
       "      <td>0.000</td>\n",
       "      <td>1.000</td>\n",
       "      <td>6.449</td>\n",
       "      <td>-0.101</td>\n",
       "      <td>7.859</td>\n",
       "      <td>8.478</td>\n",
       "    </tr>\n",
       "    <tr>\n",
       "      <td>375</td>\n",
       "      <td>6.738</td>\n",
       "      <td>6.738</td>\n",
       "      <td>0.664</td>\n",
       "      <td>1.000</td>\n",
       "      <td>128</td>\n",
       "      <td>0.000</td>\n",
       "      <td>1.000</td>\n",
       "      <td>6.738</td>\n",
       "      <td>-0.026</td>\n",
       "      <td>7.718</td>\n",
       "      <td>9.242</td>\n",
       "    </tr>\n",
       "    <tr>\n",
       "      <td>400</td>\n",
       "      <td>6.776</td>\n",
       "      <td>6.776</td>\n",
       "      <td>0.703</td>\n",
       "      <td>1.000</td>\n",
       "      <td>128</td>\n",
       "      <td>0.000</td>\n",
       "      <td>1.000</td>\n",
       "      <td>6.776</td>\n",
       "      <td>-0.163</td>\n",
       "      <td>7.622</td>\n",
       "      <td>8.742</td>\n",
       "    </tr>\n",
       "    <tr>\n",
       "      <td>425</td>\n",
       "      <td>6.513</td>\n",
       "      <td>6.513</td>\n",
       "      <td>0.680</td>\n",
       "      <td>1.000</td>\n",
       "      <td>128</td>\n",
       "      <td>0.000</td>\n",
       "      <td>1.000</td>\n",
       "      <td>6.513</td>\n",
       "      <td>-0.101</td>\n",
       "      <td>8.074</td>\n",
       "      <td>10.455</td>\n",
       "    </tr>\n",
       "    <tr>\n",
       "      <td>450</td>\n",
       "      <td>6.653</td>\n",
       "      <td>6.653</td>\n",
       "      <td>0.703</td>\n",
       "      <td>1.000</td>\n",
       "      <td>128</td>\n",
       "      <td>0.000</td>\n",
       "      <td>1.000</td>\n",
       "      <td>6.653</td>\n",
       "      <td>-0.047</td>\n",
       "      <td>7.510</td>\n",
       "      <td>8.854</td>\n",
       "    </tr>\n",
       "    <tr>\n",
       "      <td>475</td>\n",
       "      <td>6.817</td>\n",
       "      <td>6.817</td>\n",
       "      <td>0.664</td>\n",
       "      <td>1.000</td>\n",
       "      <td>128</td>\n",
       "      <td>0.000</td>\n",
       "      <td>1.000</td>\n",
       "      <td>6.817</td>\n",
       "      <td>-0.013</td>\n",
       "      <td>7.657</td>\n",
       "      <td>9.631</td>\n",
       "    </tr>\n",
       "  </tbody>\n",
       "</table>"
      ],
      "text/plain": [
       "<IPython.core.display.HTML object>"
      ]
     },
     "metadata": {},
     "output_type": "display_data"
    }
   ],
   "source": [
    "env.fit(128, 90, 500, 25)"
   ]
  },
  {
   "cell_type": "code",
   "execution_count": null,
   "metadata": {},
   "outputs": [
    {
     "data": {
      "image/png": "[encoded data removed]",
      "text/plain": [
       "<Figure size 1152x864 with 12 Axes>"
      ]
     },
     "metadata": {
      "needs_background": "light"
     },
     "output_type": "display_data"
    }
   ],
   "source": [
    "env.log.plot_metrics()"
   ]
  },
  {
   "cell_type": "code",
   "execution_count": null,
   "metadata": {},
   "outputs": [],
   "source": []
  },
  {
   "cell_type": "code",
   "execution_count": null,
   "metadata": {},
   "outputs": [],
   "source": []
  }
 ],
 "metadata": {
  "kernelspec": {
   "display_name": "Python 3",
   "language": "python",
   "name": "python3"
  }
 },
 "nbformat": 4,
 "nbformat_minor": 4
}
