{
 "cells": [
  {
   "cell_type": "markdown",
   "metadata": {},
   "source": [
    "# Tutorials\n",
    "\n",
    "> MRL tutorials"
   ]
  },
  {
   "cell_type": "markdown",
   "metadata": {},
   "source": [
    "### Computational Chemistry\n",
    "\n",
    "Examples of comp chem functions in MRL\n",
    "\n",
    "- <a href=\"/mrl/tutorials.structure_enumeration.html\">Structure Enumeration</a>\n",
    "\n",
    "- <a href=\"/mrl/tutorials.template.beginner.html\">Templates (Beginner)</a>\n",
    "\n",
    "- <a href=\"/mrl/tutorials.template.intermediate.html\">Templates (Intermediate)</a>\n",
    "\n",
    "- <a href=\"/mrl/tutorials.template.advanced.html\">Templates (Advanced)</a>\n",
    "\n",
    "- <a href=\"/mrl/tutorials.dataset_building.html\">Dataset Construction</a>\n",
    "\n",
    "### Generative Models\n",
    "\n",
    "Examples of setting up and training generative models\n",
    "\n",
    "- <a href=\"/mrl/tutorials.generative_models.lstm_lm.html\">LSTM Language Models</a>\n",
    "\n",
    "- <a href=\"/mrl/tutorials.generative_models.conditional_lstm_lm.html\">Conditional LSTM Language Models</a>\n",
    "\n",
    "- <a href=\"/mrl/tutorials.generative_models.vae.html\">VAE Models</a>\n",
    "\n",
    "### RL Training\n",
    "\n",
    "RL training tutorials\n",
    "\n",
    "- <a href=\"/mrl/tutorials.rl.train_overview.html\">RL Fit Cycle Overview</a>\n",
    "\n",
    "### Workflows\n",
    "\n",
    "Basic workflows\n",
    "\n",
    "- <a href=\"/mrl/tutorials.workflows.model_optimization.html\">Model Optimization</a>\n",
    "\n",
    "- <a href=\"/mrl/tutorials.workflows.prior_optimization.html\">Prior Optimization</a>\n",
    "\n",
    "- <a href=\"/mrl/tutorials.workflows.latent_optimization.html\">Latent Vector Optimization</a>\n",
    "\n",
    "- <a href=\"/mrl/tutorials.workflows.contrastive_optimization.html\">Contrastive Optimization</a>"
   ]
  },
  {
   "cell_type": "code",
   "execution_count": null,
   "metadata": {},
   "outputs": [],
   "source": []
  }
 ],
 "metadata": {
  "kernelspec": {
   "display_name": "Python 3",
   "language": "python",
   "name": "python3"
  }
 },
 "nbformat": 4,
 "nbformat_minor": 2
}
