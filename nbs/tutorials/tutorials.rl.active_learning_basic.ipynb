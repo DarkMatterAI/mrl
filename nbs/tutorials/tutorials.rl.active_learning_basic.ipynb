{
 "cells": [
  {
   "cell_type": "code",
   "execution_count": null,
   "metadata": {},
   "outputs": [],
   "source": [
    "# hide\n",
    "# all_tutorial\n",
    "! [ -e /content ] && pip install -Uqq mrl-pypi  # upgrade mrl on colab"
   ]
  },
  {
   "cell_type": "markdown",
   "metadata": {},
   "source": [
    "# Basic Active Learning\n",
    "\n",
    ">Basics of using active learning"
   ]
  },
  {
   "cell_type": "markdown",
   "metadata": {},
   "source": [
    "## Active Learning\n",
    "\n",
    "Generative models give us the ability to rapidly produce millions of novel chemical structures. While this is great for generating designs, it can lead to an imbalance between the computational effort required to generate structures versus evaluating structures. \n",
    "\n",
    "It is not uncommon to encounter molecular score functions that require minutes  to hours of compute time per compound to generate a score. The lower end of the scale includes methods like docking, which can take low digit minutes per compound depending on the docking config, to large scale molecular simulations which might require an hour or more of GPU compute per compound.\n",
    "\n",
    "This imbalance is particularly significant when generative models are involved. Say I want to evaluate my compounds with docking, and my docking config requires 2 minutes of CPU compute per compound. With a generative model, I can easily generate ~10 million compounds in ~15 minutes. Evaluating all these compounds would then require 20 million minutes of compute time. At time of writing, AWS is charging about 0.096 dollars/vCPU hour. This means 20 million minutes of compute time will cost about $32,000. \n",
    "\n",
    "Given that most compounds are likely duds, this will be a huge waste of money. Cash burn is compounded when this is projected out to many model runs over the course of a year.\n",
    "\n",
    "How can we deal with this? The solution is __active learning__. Active learning is a process where we use a simple, cheap model to approximate our desired score function. We use the cheap score function to generate predictions for a set of compounds we want to score. Then we sample a batch of compounds from the dataset based on the predicted score. We send these samples to the slow, high cost score function. Then we use the results of the slow score to update our simple score.\n",
    "\n",
    "By iterating on this process, we can find most of the top scoring compounds on a large dataset by screening less than 5\\% of the dataset with our slow score function. This notebook gives a minimal example for using active learning to mine a dataset"
   ]
  },
  {
   "cell_type": "markdown",
   "metadata": {},
   "source": [
    "## Performance Notes\n",
    "\n",
    "The workflow in this notebook is more CPU-constrained than GPU-constrained due to the need to evaluate samples on CPU. If you have a multi-core machine, it is recommended that you uncomment and run the `set_global_pool` cells in the notebook. This will trigger the use of multiprocessing, which will result in 2-4x speedups.\n",
    "\n",
    "This notebook may run slow on Collab due to CPU limitations.\n",
    "\n",
    "If running on Collab, remember to change the runtime to GPU"
   ]
  },
  {
   "cell_type": "code",
   "execution_count": null,
   "metadata": {},
   "outputs": [
    {
     "name": "stderr",
     "output_type": "stream",
     "text": [
      "/home/dmai/miniconda3/envs/mrl/lib/python3.7/importlib/_bootstrap.py:219: RuntimeWarning: to-Python converter for boost::shared_ptr<RDKit::FilterCatalogEntry const> already registered; second conversion method ignored.\n",
      "  return f(*args, **kwds)\n"
     ]
    }
   ],
   "source": [
    "import sys\n",
    "\n",
    "sys.path.append('../')\n",
    "\n",
    "from mrl.imports import *\n",
    "from mrl.core import *\n",
    "from mrl.chem import *\n",
    "from mrl.templates.all import *\n",
    "\n",
    "from mrl.torch_imports import *\n",
    "from mrl.torch_core import *\n",
    "from mrl.layers import *\n",
    "from mrl.dataloaders import *\n",
    "from mrl.g_models.all import *\n",
    "from mrl.vocab import *\n",
    "from mrl.policy_gradient import *\n",
    "from mrl.train.all import *\n",
    "from mrl.model_zoo import *"
   ]
  },
  {
   "cell_type": "markdown",
   "metadata": {},
   "source": [
    "## Download Data\n",
    "\n",
    "We will use the ZINC 250k dataset as our test dataset. This includes 250k compounds from the ZINC library"
   ]
  },
  {
   "cell_type": "code",
   "execution_count": null,
   "metadata": {},
   "outputs": [],
   "source": [
    "# download data\n",
    "# ! wget https://raw.githubusercontent.com/aspuru-guzik-group/chemical_vae/master/models/zinc_properties/250k_rndm_zinc_drugs_clean_3.csv\n"
   ]
  },
  {
   "cell_type": "code",
   "execution_count": null,
   "metadata": {},
   "outputs": [],
   "source": [
    "df = pd.read_csv('250k_rndm_zinc_drugs_clean_3.csv')"
   ]
  },
  {
   "cell_type": "markdown",
   "metadata": {},
   "source": [
    "## Score Function\n",
    "\n",
    "Since this is a tutorial, we will use a cheap score function as our target score. In a more realistic setting, this would be something more computationally intensive like docking.\n",
    "\n",
    "The score function we will use is a MLP model that uses molecular fingerprints to predict the binding affinity of a compound against EGFR. This is a simple and flawed score function, but we use it for the purpose of showing how to use the framework without requiring a significant compute budget to explore the library.\n",
    "\n",
    "For this purpose of this exercise, we treat the score function as an oracle that gives ground truth predictions"
   ]
  },
  {
   "cell_type": "code",
   "execution_count": null,
   "metadata": {},
   "outputs": [],
   "source": [
    "oracle_model = MLP(2048, [1024, 512, 256, 128], 1, [0.2, 0.2, 0.2, 0.2], outrange=[0,15])\n",
    "\n",
    "r_ds = Vec_Prediction_Dataset(['C'], [0], partial(failsafe_fp, fp_function=ECFP6))\n",
    "\n",
    "oracle_agent = PredictiveAgent(oracle_model, MSELoss(), r_ds, opt_kwargs={'lr':1e-3})\n",
    "\n",
    "oracle_agent.load_state_dict(model_from_url('egfr_affinity_mlp.pt'))\n",
    "\n",
    "oracle_agent.model.eval();\n",
    "\n",
    "freeze(oracle_agent.model)\n",
    "\n",
    "reward = Reward(oracle_agent.predict_data, weight=1., bs=4096)\n",
    "\n",
    "aff_reward = RewardCallback(reward, 'affinity')"
   ]
  },
  {
   "cell_type": "markdown",
   "metadata": {},
   "source": [
    "## Initial Predictions\n",
    "\n",
    "We generate predictions from the oracle for all compounds in the dataset. In a real setting with a computationally expensive score function, we wouldn't do this (in fact we want to use active learning to specifically avoid this). But since this is a tutorial using a cheap oracle, we can generate all our ground truth predictions and use them to evaluate how well the active learning process works at finding high scoring compounds.\n",
    "\n",
    "We will evaluate the performance of the active learning process by what percentage of compounds above a given score are found relative to the number of compounds screened"
   ]
  },
  {
   "cell_type": "code",
   "execution_count": null,
   "metadata": {},
   "outputs": [
    {
     "data": {
      "text/plain": [
       "(6.475615110397339, 8.208409)"
      ]
     },
     "execution_count": null,
     "metadata": {},
     "output_type": "execute_result"
    }
   ],
   "source": [
    "with torch.no_grad():\n",
    "    preds = oracle_agent.predict_data_batch(df.smiles.values, 4096)\n",
    "    \n",
    "df['targs'] = preds.detach().cpu().numpy()\n",
    "np.percentile(df.targs, 99), df.targs.max()"
   ]
  },
  {
   "cell_type": "markdown",
   "metadata": {},
   "source": [
    "## Active Learning Module\n",
    "\n",
    "Active learning is implemented as a `Buffer` in the MRL framework. Normally a buffer holds a set of unscored compounds and samples from this compound set randomly.\n",
    "\n",
    "With active learning, we use a model to generate predictions for every compound in the buffer, and weight our sampling by these predictions. Then we train the predictive model every batch based on the actual rewards earned.\n",
    "\n",
    "Our predictive model will be a MLP model that uses molecular fingerprints to generate predictions"
   ]
  },
  {
   "cell_type": "code",
   "execution_count": null,
   "metadata": {},
   "outputs": [],
   "source": [
    "active_model = MLP(2048, [1024, 512, 256, 128], 1, [0.2, 0.2, 0.2, 0.2], outrange=[0,15])\n",
    "\n",
    "r_ds = Vec_Prediction_Dataset(['C'], [0], partial(failsafe_fp, fp_function=ECFP6))\n",
    "\n",
    "active_agent = PredictiveAgent(active_model, MSELoss(), r_ds, opt_kwargs={'lr':1e-3})\n",
    "\n",
    "p_total = 1.\n",
    "refresh_predictions = 5     # update predictions every 5 batches\n",
    "pred_bs = 2048              # prediction batch size\n",
    "supervised_frequency = 10   # how often to do offline supervised training \n",
    "supervised_epochs = 3       # number of epochs for offline training\n",
    "supervised_bs = 32          # supervised training bs\n",
    "supervised_lr = 1e-3        # supervised training learning rate\n",
    "pct_argmax=0.6              # percent of batch to sample via argmax rather than weighted sampling\n",
    "\n",
    "buffer = PredictiveBuffer(p_total,\n",
    "                          refresh_predictions, \n",
    "                          active_agent,\n",
    "                          pred_bs,\n",
    "                          supervised_frequency,\n",
    "                          supervised_epochs,\n",
    "                          supervised_bs,\n",
    "                          supervised_lr, \n",
    "                          pct_argmax=pct_argmax)\n",
    "\n",
    "buffer.add(list(df.smiles.values))"
   ]
  },
  {
   "cell_type": "markdown",
   "metadata": {},
   "source": [
    "## Environment\n",
    "\n",
    "Now we set up our environment. This is the most simple case where we have a single reward term. The active learning framework can be expanded to integrate with generative models, different samplers, or multiple rewards"
   ]
  },
  {
   "cell_type": "code",
   "execution_count": null,
   "metadata": {},
   "outputs": [],
   "source": [
    "# set_global_pool(min(16, os.cpu_count()))"
   ]
  },
  {
   "cell_type": "code",
   "execution_count": null,
   "metadata": {},
   "outputs": [],
   "source": [
    "env = Environment(rewards=[aff_reward], buffer=buffer)"
   ]
  },
  {
   "cell_type": "markdown",
   "metadata": {},
   "source": [
    "## Train\n",
    "\n",
    "Now we run the training process. We'll train for 60 batches of 128 compounds, for a total of 7680 compounds screened, about 3% of the library. Then we will evaluate how many of the top compounds were recovered"
   ]
  },
  {
   "cell_type": "code",
   "execution_count": null,
   "metadata": {},
   "outputs": [
    {
     "data": {
      "text/html": [
       "<table border=\"1\" class=\"dataframe\">\n",
       "  <thead>\n",
       "    <tr style=\"text-align: left;\">\n",
       "      <th>iterations</th>\n",
       "      <th>rewards</th>\n",
       "      <th>rewards_final</th>\n",
       "      <th>new</th>\n",
       "      <th>diversity</th>\n",
       "      <th>bs</th>\n",
       "      <th>predictive_buffer_loss</th>\n",
       "      <th>predictive_buffer_preds</th>\n",
       "      <th>affinity</th>\n",
       "    </tr>\n",
       "  </thead>\n",
       "  <tbody>\n",
       "    <tr>\n",
       "      <td>0</td>\n",
       "      <td>5.409</td>\n",
       "      <td>5.409</td>\n",
       "      <td>1.000</td>\n",
       "      <td>1.000</td>\n",
       "      <td>128</td>\n",
       "      <td>9.311</td>\n",
       "      <td>8.012</td>\n",
       "      <td>5.409</td>\n",
       "    </tr>\n",
       "    <tr>\n",
       "      <td>3</td>\n",
       "      <td>5.273</td>\n",
       "      <td>5.273</td>\n",
       "      <td>1.000</td>\n",
       "      <td>1.000</td>\n",
       "      <td>128</td>\n",
       "      <td>6.118</td>\n",
       "      <td>7.240</td>\n",
       "      <td>5.273</td>\n",
       "    </tr>\n",
       "    <tr>\n",
       "      <td>6</td>\n",
       "      <td>5.452</td>\n",
       "      <td>5.452</td>\n",
       "      <td>1.000</td>\n",
       "      <td>1.000</td>\n",
       "      <td>128</td>\n",
       "      <td>2.711</td>\n",
       "      <td>6.558</td>\n",
       "      <td>5.452</td>\n",
       "    </tr>\n",
       "    <tr>\n",
       "      <td>9</td>\n",
       "      <td>5.299</td>\n",
       "      <td>5.299</td>\n",
       "      <td>1.000</td>\n",
       "      <td>1.000</td>\n",
       "      <td>128</td>\n",
       "      <td>1.844</td>\n",
       "      <td>6.026</td>\n",
       "      <td>5.299</td>\n",
       "    </tr>\n",
       "    <tr>\n",
       "      <td>12</td>\n",
       "      <td>5.443</td>\n",
       "      <td>5.443</td>\n",
       "      <td>1.000</td>\n",
       "      <td>1.000</td>\n",
       "      <td>128</td>\n",
       "      <td>0.824</td>\n",
       "      <td>5.176</td>\n",
       "      <td>5.443</td>\n",
       "    </tr>\n",
       "    <tr>\n",
       "      <td>15</td>\n",
       "      <td>5.350</td>\n",
       "      <td>5.350</td>\n",
       "      <td>1.000</td>\n",
       "      <td>1.000</td>\n",
       "      <td>128</td>\n",
       "      <td>0.697</td>\n",
       "      <td>5.077</td>\n",
       "      <td>5.350</td>\n",
       "    </tr>\n",
       "    <tr>\n",
       "      <td>18</td>\n",
       "      <td>5.458</td>\n",
       "      <td>5.458</td>\n",
       "      <td>1.000</td>\n",
       "      <td>1.000</td>\n",
       "      <td>128</td>\n",
       "      <td>0.741</td>\n",
       "      <td>5.045</td>\n",
       "      <td>5.458</td>\n",
       "    </tr>\n",
       "    <tr>\n",
       "      <td>21</td>\n",
       "      <td>5.684</td>\n",
       "      <td>5.684</td>\n",
       "      <td>1.000</td>\n",
       "      <td>1.000</td>\n",
       "      <td>128</td>\n",
       "      <td>0.302</td>\n",
       "      <td>5.449</td>\n",
       "      <td>5.684</td>\n",
       "    </tr>\n",
       "    <tr>\n",
       "      <td>24</td>\n",
       "      <td>5.613</td>\n",
       "      <td>5.613</td>\n",
       "      <td>1.000</td>\n",
       "      <td>1.000</td>\n",
       "      <td>128</td>\n",
       "      <td>0.312</td>\n",
       "      <td>5.750</td>\n",
       "      <td>5.613</td>\n",
       "    </tr>\n",
       "    <tr>\n",
       "      <td>27</td>\n",
       "      <td>5.649</td>\n",
       "      <td>5.649</td>\n",
       "      <td>1.000</td>\n",
       "      <td>1.000</td>\n",
       "      <td>128</td>\n",
       "      <td>0.316</td>\n",
       "      <td>5.901</td>\n",
       "      <td>5.649</td>\n",
       "    </tr>\n",
       "    <tr>\n",
       "      <td>30</td>\n",
       "      <td>5.668</td>\n",
       "      <td>5.668</td>\n",
       "      <td>1.000</td>\n",
       "      <td>1.000</td>\n",
       "      <td>128</td>\n",
       "      <td>0.250</td>\n",
       "      <td>5.687</td>\n",
       "      <td>5.668</td>\n",
       "    </tr>\n",
       "    <tr>\n",
       "      <td>33</td>\n",
       "      <td>5.987</td>\n",
       "      <td>5.987</td>\n",
       "      <td>1.000</td>\n",
       "      <td>1.000</td>\n",
       "      <td>128</td>\n",
       "      <td>0.438</td>\n",
       "      <td>5.463</td>\n",
       "      <td>5.987</td>\n",
       "    </tr>\n",
       "    <tr>\n",
       "      <td>36</td>\n",
       "      <td>5.965</td>\n",
       "      <td>5.965</td>\n",
       "      <td>1.000</td>\n",
       "      <td>1.000</td>\n",
       "      <td>128</td>\n",
       "      <td>0.283</td>\n",
       "      <td>5.626</td>\n",
       "      <td>5.965</td>\n",
       "    </tr>\n",
       "    <tr>\n",
       "      <td>39</td>\n",
       "      <td>5.854</td>\n",
       "      <td>5.854</td>\n",
       "      <td>1.000</td>\n",
       "      <td>1.000</td>\n",
       "      <td>128</td>\n",
       "      <td>0.126</td>\n",
       "      <td>5.914</td>\n",
       "      <td>5.854</td>\n",
       "    </tr>\n",
       "    <tr>\n",
       "      <td>42</td>\n",
       "      <td>6.086</td>\n",
       "      <td>6.086</td>\n",
       "      <td>1.000</td>\n",
       "      <td>1.000</td>\n",
       "      <td>128</td>\n",
       "      <td>0.385</td>\n",
       "      <td>5.613</td>\n",
       "      <td>6.086</td>\n",
       "    </tr>\n",
       "    <tr>\n",
       "      <td>45</td>\n",
       "      <td>6.016</td>\n",
       "      <td>6.016</td>\n",
       "      <td>1.000</td>\n",
       "      <td>1.000</td>\n",
       "      <td>128</td>\n",
       "      <td>0.147</td>\n",
       "      <td>5.918</td>\n",
       "      <td>6.016</td>\n",
       "    </tr>\n",
       "    <tr>\n",
       "      <td>48</td>\n",
       "      <td>5.980</td>\n",
       "      <td>5.980</td>\n",
       "      <td>1.000</td>\n",
       "      <td>1.000</td>\n",
       "      <td>128</td>\n",
       "      <td>0.159</td>\n",
       "      <td>6.181</td>\n",
       "      <td>5.980</td>\n",
       "    </tr>\n",
       "    <tr>\n",
       "      <td>51</td>\n",
       "      <td>6.171</td>\n",
       "      <td>6.171</td>\n",
       "      <td>1.000</td>\n",
       "      <td>1.000</td>\n",
       "      <td>128</td>\n",
       "      <td>0.350</td>\n",
       "      <td>5.687</td>\n",
       "      <td>6.171</td>\n",
       "    </tr>\n",
       "    <tr>\n",
       "      <td>54</td>\n",
       "      <td>6.042</td>\n",
       "      <td>6.042</td>\n",
       "      <td>1.000</td>\n",
       "      <td>1.000</td>\n",
       "      <td>128</td>\n",
       "      <td>0.190</td>\n",
       "      <td>5.750</td>\n",
       "      <td>6.042</td>\n",
       "    </tr>\n",
       "    <tr>\n",
       "      <td>57</td>\n",
       "      <td>6.069</td>\n",
       "      <td>6.069</td>\n",
       "      <td>1.000</td>\n",
       "      <td>1.000</td>\n",
       "      <td>128</td>\n",
       "      <td>0.094</td>\n",
       "      <td>6.015</td>\n",
       "      <td>6.069</td>\n",
       "    </tr>\n",
       "  </tbody>\n",
       "</table>"
      ],
      "text/plain": [
       "<IPython.core.display.HTML object>"
      ]
     },
     "metadata": {},
     "output_type": "display_data"
    }
   ],
   "source": [
    "env.fit(128, 90, 60, 3)"
   ]
  },
  {
   "cell_type": "markdown",
   "metadata": {},
   "source": [
    "## Analysis\n",
    "\n",
    "We can see how many of the top compounds we found.\n",
    "\n",
    "Looking at the environment log, we see we screened about 3% of the total library"
   ]
  },
  {
   "cell_type": "code",
   "execution_count": null,
   "metadata": {},
   "outputs": [
    {
     "data": {
      "text/plain": [
       "3.0787115912689664"
      ]
     },
     "execution_count": null,
     "metadata": {},
     "output_type": "execute_result"
    }
   ],
   "source": [
    "100*env.log.df.shape[0]/df.shape[0] # percent of compounds screened"
   ]
  },
  {
   "cell_type": "markdown",
   "metadata": {},
   "source": [
    "This plot shows what percentage of compounds we found above a given score cutoff. The vertical red lines correspond to the 90th, 95th, 99th and 99.9th score percentiles in the dataset.\n",
    "\n",
    "We can see from the plot that by screening 3% of the library, we found ~80% of the top 0.1% of compounds in the dataset"
   ]
  },
  {
   "cell_type": "code",
   "execution_count": null,
   "metadata": {},
   "outputs": [
    {
     "data": {
      "image/png": "[encoded data removed]",
      "text/plain": [
       "<Figure size 432x288 with 1 Axes>"
      ]
     },
     "metadata": {
      "needs_background": "light"
     },
     "output_type": "display_data"
    }
   ],
   "source": [
    "cutoffs = list(np.linspace(0,8.15))\n",
    "cutoffs += [np.percentile(df.targs, i) for i in [90, 95, 99, 99.9]]\n",
    "cutoffs = sorted(cutoffs)\n",
    "scores = [env.log.df[env.log.df.rewards>cutoff].shape[0]/df[df.targs>cutoff].shape[0]\n",
    " for cutoff in cutoffs]\n",
    "\n",
    "plt.plot(cutoffs,scores)\n",
    "lines = [np.percentile(df.targs, i) for i in [80, 90, 95, 99, 99.9]]\n",
    "for l in lines:\n",
    "    plt.vlines(l, 0, 1, color='r')\n",
    "plt.ylim(0,1)\n",
    "plt.xlabel('score cutoff')\n",
    "plt.ylabel('percent found');"
   ]
  },
  {
   "cell_type": "markdown",
   "metadata": {},
   "source": [
    "We can of course continue sampling to get a deeper evaluation of the library"
   ]
  },
  {
   "cell_type": "code",
   "execution_count": null,
   "metadata": {},
   "outputs": [
    {
     "data": {
      "text/html": [
       "<table border=\"1\" class=\"dataframe\">\n",
       "  <thead>\n",
       "    <tr style=\"text-align: left;\">\n",
       "      <th>iterations</th>\n",
       "      <th>rewards</th>\n",
       "      <th>rewards_final</th>\n",
       "      <th>new</th>\n",
       "      <th>diversity</th>\n",
       "      <th>bs</th>\n",
       "      <th>predictive_buffer_loss</th>\n",
       "      <th>predictive_buffer_preds</th>\n",
       "      <th>affinity</th>\n",
       "    </tr>\n",
       "  </thead>\n",
       "  <tbody>\n",
       "    <tr>\n",
       "      <td>60</td>\n",
       "      <td>5.987</td>\n",
       "      <td>5.987</td>\n",
       "      <td>1.000</td>\n",
       "      <td>1.000</td>\n",
       "      <td>128</td>\n",
       "      <td>0.139</td>\n",
       "      <td>6.219</td>\n",
       "      <td>5.987</td>\n",
       "    </tr>\n",
       "    <tr>\n",
       "      <td>63</td>\n",
       "      <td>6.012</td>\n",
       "      <td>6.012</td>\n",
       "      <td>1.000</td>\n",
       "      <td>1.000</td>\n",
       "      <td>128</td>\n",
       "      <td>0.110</td>\n",
       "      <td>5.808</td>\n",
       "      <td>6.012</td>\n",
       "    </tr>\n",
       "    <tr>\n",
       "      <td>66</td>\n",
       "      <td>6.006</td>\n",
       "      <td>6.006</td>\n",
       "      <td>1.000</td>\n",
       "      <td>1.000</td>\n",
       "      <td>128</td>\n",
       "      <td>0.060</td>\n",
       "      <td>6.033</td>\n",
       "      <td>6.006</td>\n",
       "    </tr>\n",
       "    <tr>\n",
       "      <td>69</td>\n",
       "      <td>5.893</td>\n",
       "      <td>5.893</td>\n",
       "      <td>1.000</td>\n",
       "      <td>1.000</td>\n",
       "      <td>128</td>\n",
       "      <td>0.127</td>\n",
       "      <td>6.165</td>\n",
       "      <td>5.893</td>\n",
       "    </tr>\n",
       "    <tr>\n",
       "      <td>72</td>\n",
       "      <td>5.946</td>\n",
       "      <td>5.946</td>\n",
       "      <td>1.000</td>\n",
       "      <td>1.000</td>\n",
       "      <td>128</td>\n",
       "      <td>0.094</td>\n",
       "      <td>5.768</td>\n",
       "      <td>5.946</td>\n",
       "    </tr>\n",
       "    <tr>\n",
       "      <td>75</td>\n",
       "      <td>5.919</td>\n",
       "      <td>5.919</td>\n",
       "      <td>1.000</td>\n",
       "      <td>1.000</td>\n",
       "      <td>128</td>\n",
       "      <td>0.063</td>\n",
       "      <td>5.853</td>\n",
       "      <td>5.919</td>\n",
       "    </tr>\n",
       "    <tr>\n",
       "      <td>78</td>\n",
       "      <td>5.944</td>\n",
       "      <td>5.944</td>\n",
       "      <td>1.000</td>\n",
       "      <td>1.000</td>\n",
       "      <td>128</td>\n",
       "      <td>0.085</td>\n",
       "      <td>6.032</td>\n",
       "      <td>5.944</td>\n",
       "    </tr>\n",
       "    <tr>\n",
       "      <td>81</td>\n",
       "      <td>6.025</td>\n",
       "      <td>6.025</td>\n",
       "      <td>1.000</td>\n",
       "      <td>1.000</td>\n",
       "      <td>128</td>\n",
       "      <td>0.123</td>\n",
       "      <td>5.781</td>\n",
       "      <td>6.025</td>\n",
       "    </tr>\n",
       "    <tr>\n",
       "      <td>84</td>\n",
       "      <td>5.878</td>\n",
       "      <td>5.878</td>\n",
       "      <td>1.000</td>\n",
       "      <td>1.000</td>\n",
       "      <td>128</td>\n",
       "      <td>0.063</td>\n",
       "      <td>5.822</td>\n",
       "      <td>5.878</td>\n",
       "    </tr>\n",
       "    <tr>\n",
       "      <td>87</td>\n",
       "      <td>5.929</td>\n",
       "      <td>5.929</td>\n",
       "      <td>1.000</td>\n",
       "      <td>1.000</td>\n",
       "      <td>128</td>\n",
       "      <td>0.047</td>\n",
       "      <td>5.978</td>\n",
       "      <td>5.929</td>\n",
       "    </tr>\n",
       "  </tbody>\n",
       "</table>"
      ],
      "text/plain": [
       "<IPython.core.display.HTML object>"
      ]
     },
     "metadata": {},
     "output_type": "display_data"
    }
   ],
   "source": [
    "env.fit(128, 90, 30, 3)"
   ]
  },
  {
   "cell_type": "code",
   "execution_count": null,
   "metadata": {},
   "outputs": [
    {
     "data": {
      "image/png": "[encoded data removed]",
      "text/plain": [
       "<Figure size 432x288 with 1 Axes>"
      ]
     },
     "metadata": {
      "needs_background": "light"
     },
     "output_type": "display_data"
    }
   ],
   "source": [
    "cutoffs = list(np.linspace(0,8.15))\n",
    "cutoffs += [np.percentile(df.targs, i) for i in [90, 95, 99, 99.9]]\n",
    "cutoffs = sorted(cutoffs)\n",
    "scores = [env.log.df[env.log.df.rewards>cutoff].shape[0]/df[df.targs>cutoff].shape[0]\n",
    " for cutoff in cutoffs]\n",
    "\n",
    "plt.plot(cutoffs,scores)\n",
    "lines = [np.percentile(df.targs, i) for i in [80, 90, 95, 99, 99.9]]\n",
    "for l in lines:\n",
    "    plt.vlines(l, 0, 1, color='r')\n",
    "plt.ylim(0,1)\n",
    "plt.xlabel('score cutoff')\n",
    "plt.ylabel('percent found');"
   ]
  },
  {
   "cell_type": "code",
   "execution_count": null,
   "metadata": {},
   "outputs": [],
   "source": []
  }
 ],
 "metadata": {
  "kernelspec": {
   "display_name": "Python 3",
   "language": "python",
   "name": "python3"
  }
 },
 "nbformat": 4,
 "nbformat_minor": 4
}
