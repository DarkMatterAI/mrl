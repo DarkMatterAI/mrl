{
 "cells": [
  {
   "cell_type": "code",
   "execution_count": null,
   "metadata": {},
   "outputs": [],
   "source": [
    "# hide\n",
    "# all_tutorial"
   ]
  },
  {
   "cell_type": "markdown",
   "metadata": {},
   "source": [
    "# Tutorial - RL Train Cycle Overview\n",
    "\n",
    ">Overview of the RL training cycle"
   ]
  },
  {
   "cell_type": "markdown",
   "metadata": {},
   "source": [
    "## RL Train Cycle Overview\n",
    "\n",
    "The goal of this tutorial is to walk through the RL fit cycle to familiarize ourselves with the `Events` cycle and get a better understanding of how `Callback` and `Environment` classes work.\n",
    "\n",
    "## High Level Overview\n",
    "\n",
    "### The Environment\n",
    "\n",
    "At the highest level, we have the `Environment` class. The `Environment` holds together several sub-modules and orchestrates them during the fit loop. The following are contained in the `Environment`:\n",
    "- `agent` - This is the actual model we're training\n",
    "- `template_cb` - this holds a `Template` class that we use to define our chemical space\n",
    "- `samplers` - samplers generate new samples to train on\n",
    "- `buffer` - the buffer collects and distributes samples from all the `samplers`\n",
    "- `rewards` - rewards score samples\n",
    "- `losses` - losses generate values we can backpropagate through \n",
    "- `log` - the log holds a record of all samples in the training process\n",
    "\n",
    "### Callbacks and the Event Cycle\n",
    "\n",
    "Each one of the above items is a `Callback`. A `Callback` is a a general class that can hook into the `Environment` fit cycle at a number of pre-defined `Events`. When the `Environment` calls a specific `Event`, the event name is passed to every callback in the `Environment`. If a given `Callback` has a defined function named after the event, that function is called. This creates a very flexible system for customizing training loops.\n",
    "\n",
    "We'll be looking more at `Events` later. For now, we'll just list them in brief. These are the events called during the RL training cycle in the order they are executed:\n",
    "\n",
    "- `setup` - called when the `Environment` is created, used to set up values\n",
    "- `before_train` - called before training is started\n",
    "- `build_buffer` - draws samples from `samplers` into the `buffer`\n",
    "- `filter_buffer` - filters samples in the buffer\n",
    "- `after_build_buffer` - called after buffer filtering. Used for cleanup, logging, etc\n",
    "- `before_batch` - called before a batch starts, used to set up the `batch state`\n",
    "- `sample_batch` - samples are drawn from `sampers` and `buffer` into the `batch state`\n",
    "- `before_filter_batch` - allows preprocessing of samples before filtering\n",
    "- `filter_batch` - filters samples in `batch state`\n",
    "- `after_sample` - used for calculating sampling metrics\n",
    "- `before_compute_reward` - used to set up any values needed for reward computation \n",
    "- `compute_reward` - used by `rewards` to compute rewards for all samples in the `batch state`\n",
    "- `after_compute_reward` - used for logging reward metrics\n",
    "- `reward_modification` - modify rewards in ways not tracked by the log\n",
    "- `after_reward_modification` - log reward modification metrics\n",
    "- `get_model_outputs` - generate necessary tensors from the model\n",
    "- `after_get_model_outputs` - used for any processing required prior to loss calculation \n",
    "- `compute_loss` - compute loss values\n",
    "- `zero_grad` - zero grad\n",
    "- `before_step` - used for computation before optimizer step (ie gradient clipping)\n",
    "- `step` - step optimizer\n",
    "- `after_batch` - compute batch stats\n",
    "- `after_train` - final event after all training batches"
   ]
  },
  {
   "cell_type": "code",
   "execution_count": null,
   "metadata": {},
   "outputs": [
    {
     "name": "stderr",
     "output_type": "stream",
     "text": [
      "/home/dmai/miniconda3/envs/mrl/lib/python3.7/importlib/_bootstrap.py:219: RuntimeWarning: to-Python converter for boost::shared_ptr<RDKit::FilterCatalogEntry const> already registered; second conversion method ignored.\n",
      "  return f(*args, **kwds)\n"
     ]
    }
   ],
   "source": [
    "import sys\n",
    "sys.path.append('..')\n",
    "\n",
    "from mrl.imports import *\n",
    "from mrl.core import *\n",
    "from mrl.chem import *\n",
    "from mrl.templates.all import *\n",
    "\n",
    "from mrl.torch_imports import *\n",
    "from mrl.torch_core import *\n",
    "from mrl.layers import *\n",
    "from mrl.dataloaders import *\n",
    "from mrl.g_models.all import *\n",
    "from mrl.vocab import *\n",
    "from mrl.policy_gradient import *\n",
    "from mrl.train.all import *\n",
    "from mrl.model_zoo import *"
   ]
  },
  {
   "cell_type": "code",
   "execution_count": null,
   "metadata": {},
   "outputs": [],
   "source": [
    "from collections import Counter"
   ]
  },
  {
   "cell_type": "code",
   "execution_count": null,
   "metadata": {},
   "outputs": [],
   "source": [
    "set_global_pool(10)"
   ]
  },
  {
   "cell_type": "markdown",
   "metadata": {},
   "source": [
    "## Getting Started\n",
    "\n",
    "We start by creating all the components we need to train a model"
   ]
  },
  {
   "cell_type": "markdown",
   "metadata": {},
   "source": [
    "### Agent\n",
    "\n",
    "The `Agent` is the actual model we want to train. For this example, we will use the `LSTM_LM_Small_ZINC` model, which is a `LSTM_LM` model trained on a chunk of the ZINC database.\n",
    "\n",
    "The agent will actually contain two versions of the model. The main model that we will train with every update iteration, and a baseline model which is updated as an exponentially weighted moving average of the main model. Both models are used in the RL training algorithm we will set up later"
   ]
  },
  {
   "cell_type": "code",
   "execution_count": null,
   "metadata": {},
   "outputs": [],
   "source": [
    "agent = LSTM_LM_Small_ZINC(drop_scale=0.5,opt_kwargs={'lr':5e-5})"
   ]
  },
  {
   "cell_type": "markdown",
   "metadata": {},
   "source": [
    "### Template\n",
    "\n",
    "The `Template` class is used to conrol the chemical space. We can set parameters on what molecular properties we want to allow. For this example, we set the following:\n",
    "\n",
    "- Hard Filters - must have qualities\n",
    "    - `ValidityFilter` - must be a valid chemical structure\n",
    "    - `SingleCompoundFilter` - samples must be single compounds\n",
    "    - `RotBondFilter` - compounds can have at most 8 rotatable bonds\n",
    "    - `ChargeFilter` - compounds must have no net charge\n",
    "- Soft Filters - nice to have qualities\n",
    "    - `QEDFilter` - Compounds get a score bonus of +1 if their QED value is greater than 0.5\n",
    "    - `SAFilter` - compounds get a score bonus of + if their SA score is less than 5\n",
    "    \n",
    "We then pass the `Template` to the `TemplateCallback` which integrates the template into the fit loop. Note that we pass `prefilter=True` to the `TemplateCallback`, which ensures compounds that don't meet our hard filters are removed from training"
   ]
  },
  {
   "cell_type": "code",
   "execution_count": null,
   "metadata": {},
   "outputs": [],
   "source": [
    "template = Template([ValidityFilter(), \n",
    "                     SingleCompoundFilter(), \n",
    "                     RotBondFilter(None, 8),\n",
    "                     ChargeFilter(0, 0)],\n",
    "                    [QEDFilter(0.5, None, score=1.),\n",
    "                     SAFilter(None, 5, score=1.)])\n",
    "\n",
    "template_cb = TemplateCallback(template, prefilter=True)"
   ]
  },
  {
   "cell_type": "markdown",
   "metadata": {},
   "source": [
    "### Reward\n",
    "\n",
    "For the reward, we will load a scikit-learn linear regression model. This model was trained to predict affinity against erbB1 using molecular fingerprints as inputs\n",
    "\n",
    "This score function is extremely simple and likely won't translate well to real affinity. It is used as a lightweight example"
   ]
  },
  {
   "cell_type": "code",
   "execution_count": null,
   "metadata": {},
   "outputs": [],
   "source": [
    "class FP_Regression_Score():\n",
    "    def __init__(self, fname):\n",
    "        self.model = torch.load(fname)\n",
    "        self.fp_function = partial(failsafe_fp, fp_function=ECFP6)\n",
    "        \n",
    "    def __call__(self, samples):\n",
    "        mols = to_mols(samples)\n",
    "        fps = maybe_parallel(self.fp_function, mols)\n",
    "        fps = [fp_to_array(i) for i in fps]\n",
    "        x_vals = np.stack(fps)\n",
    "        preds = self.model.predict(x_vals)\n",
    "        return preds\n",
    "    \n",
    "reward_function = FP_Regression_Score('files/erbB1_regression.sklearn')\n",
    "\n",
    "reward = Reward(reward_function, weight=10.)\n",
    "\n",
    "aff_reward = RewardCallback(reward, 'aff')"
   ]
  },
  {
   "cell_type": "markdown",
   "metadata": {},
   "source": [
    "We can think of the score function as a black box that takes in samples (SMILES strings) and returns a single numeric score for each sample. Any score function that follows this paradigm can be integrated into MRL"
   ]
  },
  {
   "cell_type": "code",
   "execution_count": null,
   "metadata": {},
   "outputs": [
    {
     "data": {
      "text/plain": [
       "array([-0.80169969, -0.66942228])"
      ]
     },
     "execution_count": null,
     "metadata": {},
     "output_type": "execute_result"
    }
   ],
   "source": [
    "samples = ['Brc1cc2c(NCc3cccs3)ncnc2s1',\n",
    "           'Brc1cc2c(NCc3ccncc3)ncnc2s1']\n",
    "\n",
    "reward_function(samples)"
   ]
  },
  {
   "cell_type": "markdown",
   "metadata": {},
   "source": [
    "### Loss Function\n",
    "\n",
    "For our loss, we will use the `PPO` reinforcement learning algorithm. See the [PPO](arxiv.org/pdf/1707.06347.pdf) paper for full details.\n",
    "\n",
    "The gist of it is the loss function takes a batch of samples and directs he model to increase the probability of above-average samples (relative to the batch mean) and decrease he probability of below-average samples. "
   ]
  },
  {
   "cell_type": "code",
   "execution_count": null,
   "metadata": {},
   "outputs": [],
   "source": [
    "pg = PPO(0.99,\n",
    "        0.5,\n",
    "        lam=0.95,\n",
    "        v_coef=0.5,\n",
    "        cliprange=0.3,\n",
    "        v_cliprange=0.3,\n",
    "        ent_coef=0.01,\n",
    "        kl_target=0.03,\n",
    "        kl_horizon=3000,\n",
    "        scale_rewards=True)\n",
    "\n",
    "loss = PolicyLoss(pg, 'PPO', \n",
    "                   value_head=ValueHead(256), \n",
    "                   v_update_iter=2, \n",
    "                   vopt_kwargs={'lr':1e-3})"
   ]
  },
  {
   "cell_type": "markdown",
   "metadata": {},
   "source": [
    "### Samplers\n",
    "\n",
    "`Samplers` fill the role of generating samples to train on. We will use four samplers for this run:\n",
    "\n",
    "- `sampler1`: `ModelSampler` - this sampler will draw samples from the main model in the `Agent`. We set `buffer_size=1000`, which means we will generate 1000 samples every time we build the buffer. We set `p_batch=0.5`, which means during training, 50% of each batch will be sampled on the fly from the main model and the rest of the batch will come from the buffer\n",
    "- `sampler2`: `ModelSampler` - this sampler is the same as `sampler1`, but we draw from the baseline model instead of the main model. We set `p_batch=0.`, so this sampler will only contribute to the buffer\n",
    "- `sampler3`: `LogSampler` - this sampler looks through the log of previous samples. Based on our input arguments, it grabs the top `95` percentile of samples in the log, and randomly selects `100` samples from that subset\n",
    "- `sampler4`: `DatasetSampler` - this sampler is seeded wih erbB1 training data used to train the score function. This sampler will randomly select 4 samples from the dataset to add to the buffer"
   ]
  },
  {
   "cell_type": "code",
   "execution_count": null,
   "metadata": {},
   "outputs": [],
   "source": [
    "gen_bs = 1500\n",
    "df = pd.read_csv('files/erbB1_affinity_data.csv')\n",
    "df = df[df.value<-1]\n",
    "\n",
    "sampler1 = ModelSampler(agent.vocab, agent.model, 'live', 1000, 0.5, gen_bs)\n",
    "sampler2 = ModelSampler(agent.vocab, agent.base_model, 'base', 1000, 0., gen_bs)\n",
    "sampler3 = LogSampler('samples', 'rewards', 10, 95, 100)\n",
    "sampler4 = DatasetSampler(df.smiles.values, 'erbB1_data', buffer_size=4)\n",
    "\n",
    "samplers = [sampler1, sampler2, sampler3, sampler4]"
   ]
  },
  {
   "cell_type": "markdown",
   "metadata": {},
   "source": [
    "### Other Callbacks\n",
    "\n",
    "We'll add three more callbacks:\n",
    "\n",
    "- `MaxCallback`: this will grab the max reward within a batch that came from the source `live`. `live` is the name we gave to `sampler1` above. This means the max callback will grab all outputs from `sampler1` corresponding to samples from the live model and add the largest to the batch metrics\n",
    "- `PercentileCallback`: this does the same as `MaxCallback` but instead of printing the maximum score, it prints the 90th percentile score\n",
    "- `NoveltyReward`: this is reward modification that gives a bonus score of `0.05` to new samples (ie samples that haven't appeared before in training)"
   ]
  },
  {
   "cell_type": "code",
   "execution_count": null,
   "metadata": {},
   "outputs": [],
   "source": [
    "live_max = MaxCallback('rewards', 'live')\n",
    "live_p90 = PercentileCallback('rewards', 'live', 90)\n",
    "new_cb = NoveltyReward(weight=0.05)\n",
    "\n",
    "cbs = [new_cb, live_p90, live_max]"
   ]
  },
  {
   "cell_type": "markdown",
   "metadata": {},
   "source": [
    "## Training Walkthrough\n",
    "\n",
    "Now we will step through the training cycle looking at how each callback event is used"
   ]
  },
  {
   "cell_type": "markdown",
   "metadata": {},
   "source": [
    "### Setup\n",
    "\n",
    "The first event occurs when we create our `Environment` using the callbacks we set up before. Instantiating the `Environment` registers all callbacks and runs the `setup` event. Many callbacks use the `setup` event to add terms to the batch log or the metrics log."
   ]
  },
  {
   "cell_type": "code",
   "execution_count": null,
   "metadata": {},
   "outputs": [],
   "source": [
    "env = Environment(agent, template_cb, samplers=samplers, rewards=[aff_reward], losses=[loss],\n",
    "                 cbs=cbs)"
   ]
  },
  {
   "cell_type": "markdown",
   "metadata": {},
   "source": [
    "Inside the environment, we just created a `Buffer` and a `Log`.\n",
    "\n",
    "The `Buffer` holds a list of samples, which is currently empty"
   ]
  },
  {
   "cell_type": "code",
   "execution_count": null,
   "metadata": {},
   "outputs": [
    {
     "data": {
      "text/plain": [
       "buffer"
      ]
     },
     "execution_count": null,
     "metadata": {},
     "output_type": "execute_result"
    }
   ],
   "source": [
    "env.buffer"
   ]
  },
  {
   "cell_type": "code",
   "execution_count": null,
   "metadata": {},
   "outputs": [
    {
     "data": {
      "text/plain": [
       "[]"
      ]
     },
     "execution_count": null,
     "metadata": {},
     "output_type": "execute_result"
    }
   ],
   "source": [
    "env.buffer.buffer"
   ]
  },
  {
   "cell_type": "markdown",
   "metadata": {},
   "source": [
    "The `Log` holds a number of containers for tracking training outputs\n",
    "\n",
    "- `metrics`: dictionary of batch metrics. Each key maps to a list where each value in the list is the metric term for  given batch\n",
    "- `batch_log`: dictionary of batch items. Each key maps to a list. Each element in that list is a list containing the batch values for that key in a given batch\n",
    "- `unique_samples`: dictionary of unique samples and the rewards for those samples. Useful for looking up if a sample has been seen before\n",
    "- `df`: dataframe of unique samples and all associated values stored in the `batch_log`\n",
    "\n",
    "We can see that these log terms have already been populated during the `setup` event"
   ]
  },
  {
   "cell_type": "code",
   "execution_count": null,
   "metadata": {},
   "outputs": [
    {
     "data": {
      "text/plain": [
       "{'rewards': [],\n",
       " 'rewards_final': [],\n",
       " 'new': [],\n",
       " 'diversity': [],\n",
       " 'bs': [],\n",
       " 'template': [],\n",
       " 'valid': [],\n",
       " 'live_diversity': [],\n",
       " 'live_valid': [],\n",
       " 'live_rewards': [],\n",
       " 'live_new': [],\n",
       " 'aff': [],\n",
       " 'novel': [],\n",
       " 'PPO': [],\n",
       " 'rewards_live_p90': [],\n",
       " 'rewards_live_max': []}"
      ]
     },
     "execution_count": null,
     "metadata": {},
     "output_type": "execute_result"
    }
   ],
   "source": [
    "env.log.metrics"
   ]
  },
  {
   "cell_type": "code",
   "execution_count": null,
   "metadata": {},
   "outputs": [
    {
     "data": {
      "text/plain": [
       "{'samples': [],\n",
       " 'sources': [],\n",
       " 'rewards': [],\n",
       " 'rewards_final': [],\n",
       " 'template': [],\n",
       " 'aff': [],\n",
       " 'novel': [],\n",
       " 'PPO': []}"
      ]
     },
     "execution_count": null,
     "metadata": {},
     "output_type": "execute_result"
    }
   ],
   "source": [
    "env.log.batch_log"
   ]
  },
  {
   "cell_type": "code",
   "execution_count": null,
   "metadata": {},
   "outputs": [
    {
     "data": {
      "text/html": [
       "<div>\n",
       "<style scoped>\n",
       "    .dataframe tbody tr th:only-of-type {\n",
       "        vertical-align: middle;\n",
       "    }\n",
       "\n",
       "    .dataframe tbody tr th {\n",
       "        vertical-align: top;\n",
       "    }\n",
       "\n",
       "    .dataframe thead th {\n",
       "        text-align: right;\n",
       "    }\n",
       "</style>\n",
       "<table border=\"1\" class=\"dataframe\">\n",
       "  <thead>\n",
       "    <tr style=\"text-align: right;\">\n",
       "      <th></th>\n",
       "      <th>samples</th>\n",
       "      <th>sources</th>\n",
       "      <th>rewards</th>\n",
       "      <th>rewards_final</th>\n",
       "      <th>template</th>\n",
       "      <th>aff</th>\n",
       "      <th>novel</th>\n",
       "      <th>PPO</th>\n",
       "    </tr>\n",
       "  </thead>\n",
       "  <tbody>\n",
       "  </tbody>\n",
       "</table>\n",
       "</div>"
      ],
      "text/plain": [
       "Empty DataFrame\n",
       "Columns: [samples, sources, rewards, rewards_final, template, aff, novel, PPO]\n",
       "Index: []"
      ]
     },
     "execution_count": null,
     "metadata": {},
     "output_type": "execute_result"
    }
   ],
   "source": [
    "env.log.df"
   ]
  },
  {
   "cell_type": "markdown",
   "metadata": {},
   "source": [
    "The keys in the above dictionaries were added by the associated callbacks. For example, look at the `setup` method in `ModelSampler`, the type of sampler we used for `sampler1`:\n",
    "\n",
    "```\n",
    "    def setup(self):\n",
    "        if self.p_batch>0. and self.track:\n",
    "            log = self.environment.log\n",
    "            log.add_metric(f'{self.name}_diversity')\n",
    "            log.add_metric(f'{self.name}_valid')\n",
    "            log.add_metric(f'{self.name}_rewards')\n",
    "            log.add_metric(f'{self.name}_new')\n",
    "```\n",
    "\n",
    "We gave `sampler1` the name `live`. As a result, the terms `live_diversity`, `live_valid`, `live_rewards` and `live_new` were added to the metrics.\n",
    "\n",
    "We can also look at the `setup` method of our loss function `loss`:\n",
    "\n",
    "```\n",
    "    def setup(self):\n",
    "        if self.track:\n",
    "            log = self.environment.log\n",
    "            log.add_metric(self.name)\n",
    "            log.add_log(self.name)\n",
    "```\n",
    "\n",
    "This is responsible for the `PPO` terms in the `batch_log` and the `metrics`. The PPO metrics term will store the average PPO loss value across a batch, while the PPO batch log term will store the PPO value for each item in a batch"
   ]
  },
  {
   "cell_type": "markdown",
   "metadata": {},
   "source": [
    "### The Fit Cycle\n",
    "\n",
    "At this point, we could start training using `Environment.fit`. We could call `env.fit(200, 90, 10, 2)` to train for 10 batches with a batch size of 200. For this tutorial, we will step through each part of the fit cycle and observe what is happening"
   ]
  },
  {
   "cell_type": "markdown",
   "metadata": {},
   "source": [
    "### Before Train\n",
    "\n",
    "The first stage of the fit cycle is the `before_train` stage. This sets the batch size and sequence length based on the inputs to `Environment.fit` (which we will set manually) and prints the top of the log"
   ]
  },
  {
   "cell_type": "code",
   "execution_count": null,
   "metadata": {},
   "outputs": [],
   "source": [
    "env.bs = 200 # batch size of 200\n",
    "env.sl = 90 # max sample length of 90 steps\n",
    "mb = master_bar(range(1))\n",
    "env.log.pbar = mb\n",
    "env.report = 1\n",
    "env.log.report = 1 # report stats every batch\n",
    "env('before_train')"
   ]
  },
  {
   "cell_type": "markdown",
   "metadata": {},
   "source": [
    "### Build Buffer\n",
    "\n",
    "The next stage of the cycle is the `build_buffer` stage. This consists of the following events:\n",
    "- `build_buffer`: samplers add items to the buffer\n",
    "- `filter_buffer`: the buffer is filtered\n",
    "- `after_build_buffer`: use as needed\n",
    "\n",
    "Going into this stage, our buffer is empty:"
   ]
  },
  {
   "cell_type": "code",
   "execution_count": null,
   "metadata": {},
   "outputs": [
    {
     "data": {
      "text/plain": [
       "[]"
      ]
     },
     "execution_count": null,
     "metadata": {},
     "output_type": "execute_result"
    }
   ],
   "source": [
    "env.buffer.buffer"
   ]
  },
  {
   "cell_type": "markdown",
   "metadata": {},
   "source": [
    "#### build_buffer\n",
    "\n",
    "By calling the `build_buffer` event, our samplers will add items to the buffer"
   ]
  },
  {
   "cell_type": "code",
   "execution_count": null,
   "metadata": {},
   "outputs": [],
   "source": [
    "env('build_buffer')"
   ]
  },
  {
   "cell_type": "markdown",
   "metadata": {},
   "source": [
    "Now we have 2004 items in the buffer."
   ]
  },
  {
   "cell_type": "code",
   "execution_count": null,
   "metadata": {},
   "outputs": [
    {
     "data": {
      "text/plain": [
       "2004"
      ]
     },
     "execution_count": null,
     "metadata": {},
     "output_type": "execute_result"
    }
   ],
   "source": [
    "len(env.buffer.buffer)"
   ]
  },
  {
   "cell_type": "markdown",
   "metadata": {},
   "source": [
    "We can use the `buffer_sources` attribute to see where each item came from. We have 1000 items from `live_buffer` which corresponds to `sampler1`, sampling from the main model.\n",
    "\n",
    "We have 1000 items from `base_buffer` which corresponds to `sampler2`, sampling from the baseline model.\n",
    "\n",
    "We have 4 items from `erbB1_data_buffer`, our dataset sampler (`sampler4`).\n",
    "\n",
    "Our log sampler, `sampler3` was set to start sampling after 10 training iterations, so we don't currently have any samples from that sampler"
   ]
  },
  {
   "cell_type": "code",
   "execution_count": null,
   "metadata": {},
   "outputs": [
    {
     "data": {
      "text/plain": [
       "Counter({'live_buffer': 1000, 'base_buffer': 1000, 'erbB1_data_buffer': 4})"
      ]
     },
     "execution_count": null,
     "metadata": {},
     "output_type": "execute_result"
    }
   ],
   "source": [
    "Counter(env.buffer.buffer_sources)"
   ]
  },
  {
   "cell_type": "markdown",
   "metadata": {},
   "source": [
    "#### filter_buffer\n",
    "\n",
    "It's likely some of these samples don't match our compound requirements defined in the `Template` we used, so we want to filter the buffer for passing compounds. This is what the `filter_buffer` does. For this current example, the only callback doing any buffer filtering is the template callback. However, the `filter_buffer` can be used to implement any form of buffer filtering.\n",
    "\n",
    "Any callback that passes a list of boolean values to `Buffer._filter_buffer` can filter the buffer.\n",
    "\n",
    "After filtering, we have 1830 remaining samples"
   ]
  },
  {
   "cell_type": "code",
   "execution_count": null,
   "metadata": {},
   "outputs": [],
   "source": [
    "env('filter_buffer')"
   ]
  },
  {
   "cell_type": "code",
   "execution_count": null,
   "metadata": {},
   "outputs": [
    {
     "data": {
      "text/plain": [
       "1830"
      ]
     },
     "execution_count": null,
     "metadata": {},
     "output_type": "execute_result"
    }
   ],
   "source": [
    "len(env.buffer.buffer)"
   ]
  },
  {
   "cell_type": "code",
   "execution_count": null,
   "metadata": {},
   "outputs": [
    {
     "data": {
      "text/plain": [
       "Counter({'live_buffer': 914, 'base_buffer': 914, 'erbB1_data_buffer': 2})"
      ]
     },
     "execution_count": null,
     "metadata": {},
     "output_type": "execute_result"
    }
   ],
   "source": [
    "Counter(env.buffer.buffer_sources)"
   ]
  },
  {
   "cell_type": "markdown",
   "metadata": {},
   "source": [
    "#### after_build_buffer\n",
    "\n",
    "Next is the `after_build_buffer` event. None of our current callbacks make use of this event, but it exists to allow for evaluation/postprocessing/whatever after buffer creation."
   ]
  },
  {
   "cell_type": "markdown",
   "metadata": {},
   "source": [
    "### Sample Batch\n",
    "\n",
    "The next event stage is the `sample_batch` stage. This consists of the following events:\n",
    "\n",
    "- `before_batch`: set up/refresh any required state prior to batch sampling\n",
    "- `sample_batch`: draw one batch of samples\n",
    "- `before_filter_batch`: evaluate unfiltered batch\n",
    "- `filter_batch`: filter batch\n",
    "- `after_sample`: compute sample based metrics"
   ]
  },
  {
   "cell_type": "markdown",
   "metadata": {},
   "source": [
    "#### before_batch\n",
    "\n",
    "This event is used to create a new `BatchState` for the environment. The batch state is a container designed to hold any values required by the batch"
   ]
  },
  {
   "cell_type": "code",
   "execution_count": null,
   "metadata": {},
   "outputs": [],
   "source": [
    "env.batch_state = BatchState()\n",
    "env('before_batch')"
   ]
  },
  {
   "cell_type": "markdown",
   "metadata": {},
   "source": [
    "Currently the batch state only has placeholder values for commonly generated terms"
   ]
  },
  {
   "cell_type": "code",
   "execution_count": null,
   "metadata": {},
   "outputs": [
    {
     "data": {
      "text/plain": [
       "{'samples': [],\n",
       " 'sources': [],\n",
       " 'rewards': tensor(0., device='cuda:0'),\n",
       " 'loss': tensor(0., device='cuda:0', grad_fn=<CopyBackwards>),\n",
       " 'latent_data': {}}"
      ]
     },
     "execution_count": null,
     "metadata": {},
     "output_type": "execute_result"
    }
   ],
   "source": [
    "env.batch_state"
   ]
  },
  {
   "cell_type": "markdown",
   "metadata": {},
   "source": [
    "#### sample_batch\n",
    "\n",
    "Now we actually draw samples to form a batch. All of our `Sampler` objects have a `p_batch` value, which designated what percentage of the batch should come from that sampler. Batch sampling is designed such that individual sampler `p_batch` values are respected, and any remaining batch percentage comes from the buffer.\n",
    "\n",
    "Only `sampler1` has `p_batch>0.`, with a value of `p_batch=0.5`. This means 50% of the batch will be sampled on he fly from `sampler1`, and the remaining 50% of the batch will come from the buffer.\n",
    "\n",
    "Using a hybrid of live sampling and buffer sampling seems to work best. That said, it is possible to have every batch be 100% buffer samples (like offline RL), or have 100% be live samples (like online RL)"
   ]
  },
  {
   "cell_type": "code",
   "execution_count": null,
   "metadata": {},
   "outputs": [],
   "source": [
    "env('sample_batch')"
   ]
  },
  {
   "cell_type": "markdown",
   "metadata": {},
   "source": [
    "Now we can see we've populated several terms in the batch state. `BatchState.samples` now has a list of samples. `BatchState.sources` has the source of each sample.\n",
    "\n",
    "We also added `BatchState.live_raw` and `BatchState.base_raw`. These terms hold the outputs of `sampler1` and `sampler2`. When we filter `BatchState.samples`, we can refer to the `_raw` terms to see what samples were removed.\n",
    "\n",
    "Note that `BatchState.base_raw` is an empty list since `sampler2.p_batch=0.`"
   ]
  },
  {
   "cell_type": "code",
   "execution_count": null,
   "metadata": {},
   "outputs": [
    {
     "data": {
      "text/plain": [
       "dict_keys(['samples', 'sources', 'rewards', 'loss', 'latent_data', 'live_raw', 'base_raw'])"
      ]
     },
     "execution_count": null,
     "metadata": {},
     "output_type": "execute_result"
    }
   ],
   "source": [
    "env.batch_state.keys()"
   ]
  },
  {
   "cell_type": "markdown",
   "metadata": {},
   "source": [
    "`BatchState.sources` holds the source of each sample. We have 100 samples from `live`, which corresponds to our on the fly samples from `sampler1`. The remaining 100 samples come from `live_buffer` and `base_buffer`. This means they came from either `sampler1` (live) or `sampler2` (base) by way of being sampled from the buffer"
   ]
  },
  {
   "cell_type": "code",
   "execution_count": null,
   "metadata": {},
   "outputs": [
    {
     "data": {
      "text/plain": [
       "Counter({'live_buffer': 55, 'base_buffer': 45, 'live': 100})"
      ]
     },
     "execution_count": null,
     "metadata": {},
     "output_type": "execute_result"
    }
   ],
   "source": [
    "Counter(env.batch_state['sources'])"
   ]
  },
  {
   "cell_type": "code",
   "execution_count": null,
   "metadata": {},
   "outputs": [
    {
     "data": {
      "text/plain": [
       "['CC1CCN(C(=O)C2CCN(C(=O)Nc3nc(-c4ccccc4)cs3)CC2)CC1',\n",
       " 'COc1ccnc(O)c1C(=O)NCC1CC(NC(=O)CCC(F)F)C1',\n",
       " 'C[C@@H]([C@@H](C)NC(=O)Nc1cccc(S(N)(=O)=O)c1)N1CCOCC1',\n",
       " 'CCN1C(=O)[C@@H]2CN(C(=O)Nc3ccc(OC(F)F)cn3)CCN2C1=O',\n",
       " 'CC#CCN[C@@H]1CCN(C(=O)CN(C)S(=O)(=O)CC)C1']"
      ]
     },
     "execution_count": null,
     "metadata": {},
     "output_type": "execute_result"
    }
   ],
   "source": [
    "env.batch_state['samples'][:5]"
   ]
  },
  {
   "cell_type": "code",
   "execution_count": null,
   "metadata": {},
   "outputs": [
    {
     "data": {
      "text/plain": [
       "['live_buffer', 'live_buffer', 'base_buffer', 'base_buffer', 'live_buffer']"
      ]
     },
     "execution_count": null,
     "metadata": {},
     "output_type": "execute_result"
    }
   ],
   "source": [
    "env.batch_state['sources'][:5]"
   ]
  },
  {
   "cell_type": "code",
   "execution_count": null,
   "metadata": {},
   "outputs": [
    {
     "data": {
      "text/plain": [
       "['COc1ccc(N2CCN(CCNC(=O)Nc3ccc(N(C)C(=O)OC(C)(C)C)cc3)CC2)cc1',\n",
       " 'C=CCCOCC(=O)N[C@@H]1CCCN(C(=O)[C@H](C)C#N)CC1',\n",
       " 'COCCO[C@H](C)c1nnc(N2CC[C@H](C(N)=O)C2)n1CC1CC1',\n",
       " 'CCN(CCNCc1cnsn1)C(=O)c1ccc2c(c1)N(C)CC2',\n",
       " 'FC(F)(F)c1nnc(N2CCC[C@@H](OCCO)C2)s1']"
      ]
     },
     "execution_count": null,
     "metadata": {},
     "output_type": "execute_result"
    }
   ],
   "source": [
    "env.batch_state['live_raw'][:5]"
   ]
  },
  {
   "cell_type": "code",
   "execution_count": null,
   "metadata": {},
   "outputs": [
    {
     "data": {
      "text/plain": [
       "[]"
      ]
     },
     "execution_count": null,
     "metadata": {},
     "output_type": "execute_result"
    }
   ],
   "source": [
    "env.batch_state['base_raw']"
   ]
  },
  {
   "cell_type": "markdown",
   "metadata": {},
   "source": [
    "#### before_filter_batch\n",
    "\n",
    "This event is not used by any of our current callbacks. It provides a hook to influence the batch state prior to filtering"
   ]
  },
  {
   "cell_type": "markdown",
   "metadata": {},
   "source": [
    "#### filter_batch\n",
    "\n",
    "Now the batch will be filtered by our `Template`, as well as any other callbacks with a `filter_batch` method"
   ]
  },
  {
   "cell_type": "code",
   "execution_count": null,
   "metadata": {},
   "outputs": [],
   "source": [
    "env('filter_batch')"
   ]
  },
  {
   "cell_type": "markdown",
   "metadata": {},
   "source": [
    "We can see that 6 of our 200 samples were removed by filtering"
   ]
  },
  {
   "cell_type": "code",
   "execution_count": null,
   "metadata": {},
   "outputs": [
    {
     "data": {
      "text/plain": [
       "194"
      ]
     },
     "execution_count": null,
     "metadata": {},
     "output_type": "execute_result"
    }
   ],
   "source": [
    "len(env.batch_state['samples'])"
   ]
  },
  {
   "cell_type": "markdown",
   "metadata": {},
   "source": [
    "We can compare the values in `BatchState.samples` and `BatchState.live_raw` to see what was filtered"
   ]
  },
  {
   "cell_type": "code",
   "execution_count": null,
   "metadata": {},
   "outputs": [
    {
     "data": {
      "text/plain": [
       "(94, 100)"
      ]
     },
     "execution_count": null,
     "metadata": {},
     "output_type": "execute_result"
    }
   ],
   "source": [
    "raw_samples = env.batch_state['live_raw']\n",
    "filtered_samples = [env.batch_state['samples'][i] for i in range(len(env.batch_state['samples'])) \n",
    "                    if env.batch_state.sources[i]=='live']\n",
    "\n",
    "len(filtered_samples), len(raw_samples)"
   ]
  },
  {
   "cell_type": "code",
   "execution_count": null,
   "metadata": {},
   "outputs": [
    {
     "data": {
      "text/plain": [
       "['COCCO[C@H](C)c1nnc(N2CC[C@H](C(N)=O)C2)n1CC1CC1',\n",
       " 'FC(F)(F)c1nnc(N2CCC[C@@H](OCCO)C2)s1',\n",
       " 'CC(C)(C)[S@@](=O)Cc1cccc(NC(=O)c2cc(Br)cn2C)c1',\n",
       " 'CC(C)C[C@H](CNC(=O)NC[C@@H]1CCc2ccccc2C1)N[C@@H](C)c1ccccc1',\n",
       " 'CCc1cnccc1C(=O)N1C[C@H]2CCC[C@@H](C1)N2C(=O)C1CC1',\n",
       " 'Cc1cc(C(=O)N[C@@H]2COC3(CN(C(=O)C[C@H]4C[C@H]4C4CC4)C3)C2)on1',\n",
       " 'Cc1ccncc1CNC(=O)Cc1coc2c1ccc(F)c2F',\n",
       " 'CCn1cc(CC(=O)N2CCC([C@H](C)NCCCOC)CC2)cn1',\n",
       " 'O=C(NC1CCS(=O)(=O)CC1)C(=O)N[C@@H]1CCC[C@H]2OCC[C@H]21',\n",
       " 'O=S(=O)(NCc1cccc(C(F)(F)F)c1)c1ccc(Cl)c2ccccc21',\n",
       " 'CCC[C@@H](C(=O)NCCN(CC)Cc1nnc(CC)s1)C(C)C',\n",
       " 'C#CC[C@H](CCOC)NC(=O)N[C@@H](C)C(=O)NCc1ccco1',\n",
       " 'COC1CCN(C(C)(C)Cn2c(CC(C)C)nnc2N(C)Cc2ccc(F)c(F)c2)CC1',\n",
       " 'Cn1cc([C@@H]2CSCCCN2C(=O)c2cccc(S(=O)(=O)N3[C@H](C)CCC[C@@H]3C)c2)cn1',\n",
       " 'CCn1cc(C(=O)N2C[C@@H](C)[C@H](NC(=O)c3ccncc3)C2)c(C2CC2)n1']"
      ]
     },
     "execution_count": null,
     "metadata": {},
     "output_type": "execute_result"
    }
   ],
   "source": [
    "# filtered compounds\n",
    "[i for i in raw_samples if not i in filtered_samples]"
   ]
  },
  {
   "cell_type": "markdown",
   "metadata": {},
   "source": [
    "#### after_sample\n",
    "\n",
    "The `after_sample` event is used to calculate metrics related to sampling"
   ]
  },
  {
   "cell_type": "code",
   "execution_count": null,
   "metadata": {},
   "outputs": [],
   "source": [
    "env('after_sample')"
   ]
  },
  {
   "cell_type": "markdown",
   "metadata": {},
   "source": [
    "We can see that several values have been added to `Environment.log.metrics`\n",
    "\n",
    "- `new - 1.0`: percent of samples that have not been seen before\n",
    "- `diversity - 1.0`: number of unique samples relative to the number of total samples\n",
    "- `bs - 194`: true batch size after filtering\n",
    "- `valid - 0.97`: percent of samples that passed filtering\n",
    "- `live_diversity - 1.0`: number of unique samples relative to the number of total samples from `sampler1`\n",
    "- `live_valid - 0.94`: percent of samples that passed filtering from `sampler1`\n",
    "- `live_new - 1.0`: percent of samples that have not been seen before from `sampler1`"
   ]
  },
  {
   "cell_type": "code",
   "execution_count": null,
   "metadata": {},
   "outputs": [
    {
     "data": {
      "text/plain": [
       "{'rewards': [],\n",
       " 'rewards_final': [],\n",
       " 'new': [1.0],\n",
       " 'diversity': [1.0],\n",
       " 'bs': [194],\n",
       " 'template': [],\n",
       " 'valid': [0.97],\n",
       " 'live_diversity': [1.0],\n",
       " 'live_valid': [0.94],\n",
       " 'live_rewards': [],\n",
       " 'live_new': [1.0],\n",
       " 'aff': [],\n",
       " 'novel': [],\n",
       " 'PPO': [],\n",
       " 'rewards_live_p90': [],\n",
       " 'rewards_live_max': []}"
      ]
     },
     "execution_count": null,
     "metadata": {},
     "output_type": "execute_result"
    }
   ],
   "source": [
    "env.log.metrics"
   ]
  },
  {
   "cell_type": "markdown",
   "metadata": {},
   "source": [
    "### Compute Reward\n",
    "\n",
    "After we sample a batch, we enter the `compute_reward` stage. This consists of the following events:\n",
    "\n",
    "- `before_compute_reward` - used to set up any values needed for reward computation \n",
    "- `compute_reward` - used by `rewards` to compute rewards for all samples in the `batch state`\n",
    "- `after_compute_reward` - used for logging reward metrics\n",
    "- `reward_modification` - modify rewards in ways not tracked by the log\n",
    "- `after_reward_modification` - log reward modification metrics"
   ]
  },
  {
   "cell_type": "markdown",
   "metadata": {},
   "source": [
    "#### before_compute_reward\n",
    "\n",
    "This event can be used to set up any values needed for reward computation. Most rewards only need the raw samples as inputs, but rewards can use other inputs if needed. The only requirement for a reward is that it returns a tensor with one value per batch item.\n",
    "\n",
    "By default, the `Agent` class will tensorize the samples present at this step. Our `PPO` loss will also add placeholder values for the terms needed by that function"
   ]
  },
  {
   "cell_type": "code",
   "execution_count": null,
   "metadata": {},
   "outputs": [],
   "source": [
    "env('before_compute_reward')"
   ]
  },
  {
   "cell_type": "markdown",
   "metadata": {},
   "source": [
    "A number of new items have populated the batch state"
   ]
  },
  {
   "cell_type": "code",
   "execution_count": null,
   "metadata": {},
   "outputs": [
    {
     "data": {
      "text/plain": [
       "dict_keys(['samples', 'sources', 'rewards', 'loss', 'latent_data', 'live_raw', 'base_raw', 'model_gathered_logprobs', 'base_gathered_logprobs', 'mask', 'trajectory_rewards', 'model_logprobs', 'base_logprobs', 'value_input', 'x', 'y', 'bs', 'lengths', 'sl'])"
      ]
     },
     "execution_count": null,
     "metadata": {},
     "output_type": "execute_result"
    }
   ],
   "source": [
    "env.batch_state.keys()"
   ]
  },
  {
   "cell_type": "code",
   "execution_count": null,
   "metadata": {},
   "outputs": [
    {
     "data": {
      "text/plain": [
       "tensor([[ 0, 23, 23,  ...,  2,  2,  2],\n",
       "        [ 0, 23, 28,  ...,  2,  2,  2],\n",
       "        [ 0, 23, 31,  ...,  2,  2,  2],\n",
       "        ...,\n",
       "        [ 0, 23, 23,  ...,  2,  2,  2],\n",
       "        [ 0, 23, 31,  ...,  2,  2,  2],\n",
       "        [ 0, 23, 23,  ...,  2,  2,  2]], device='cuda:0')"
      ]
     },
     "execution_count": null,
     "metadata": {},
     "output_type": "execute_result"
    }
   ],
   "source": [
    "env.batch_state.x # x tensor"
   ]
  },
  {
   "cell_type": "code",
   "execution_count": null,
   "metadata": {},
   "outputs": [
    {
     "data": {
      "text/plain": [
       "tensor([[23, 23, 11,  ...,  2,  2,  2],\n",
       "        [23, 28, 34,  ...,  2,  2,  2],\n",
       "        [23, 31, 23,  ...,  2,  2,  2],\n",
       "        ...,\n",
       "        [23, 23, 31,  ...,  2,  2,  2],\n",
       "        [23, 31, 23,  ...,  2,  2,  2],\n",
       "        [23, 23,  5,  ...,  2,  2,  2]], device='cuda:0')"
      ]
     },
     "execution_count": null,
     "metadata": {},
     "output_type": "execute_result"
    }
   ],
   "source": [
    "env.batch_state.y # y tensor"
   ]
  },
  {
   "cell_type": "code",
   "execution_count": null,
   "metadata": {},
   "outputs": [
    {
     "data": {
      "text/plain": [
       "tensor([[ True,  True,  True,  ..., False, False, False],\n",
       "        [ True,  True,  True,  ..., False, False, False],\n",
       "        [ True,  True,  True,  ..., False, False, False],\n",
       "        ...,\n",
       "        [ True,  True,  True,  ..., False, False, False],\n",
       "        [ True,  True,  True,  ..., False, False, False],\n",
       "        [ True,  True,  True,  ..., False, False, False]], device='cuda:0')"
      ]
     },
     "execution_count": null,
     "metadata": {},
     "output_type": "execute_result"
    }
   ],
   "source": [
    "env.batch_state.mask # padding mask"
   ]
  },
  {
   "cell_type": "markdown",
   "metadata": {},
   "source": [
    "#### compute_reward\n",
    "\n",
    "This step actually computes rewards. The `BatchState` has a tensor of 0s as a placeholder for reward values. Rewards will compute a numeric score for each item in the batch and add it to `BatchState.rewards`"
   ]
  },
  {
   "cell_type": "code",
   "execution_count": null,
   "metadata": {},
   "outputs": [
    {
     "data": {
      "text/plain": [
       "tensor([0., 0., 0., 0., 0., 0., 0., 0., 0., 0., 0., 0., 0., 0., 0., 0., 0., 0., 0., 0., 0., 0., 0., 0.,\n",
       "        0., 0., 0., 0., 0., 0., 0., 0., 0., 0., 0., 0., 0., 0., 0., 0., 0., 0., 0., 0., 0., 0., 0., 0.,\n",
       "        0., 0., 0., 0., 0., 0., 0., 0., 0., 0., 0., 0., 0., 0., 0., 0., 0., 0., 0., 0., 0., 0., 0., 0.,\n",
       "        0., 0., 0., 0., 0., 0., 0., 0., 0., 0., 0., 0., 0., 0., 0., 0., 0., 0., 0., 0., 0., 0., 0., 0.,\n",
       "        0., 0., 0., 0., 0., 0., 0., 0., 0., 0., 0., 0., 0., 0., 0., 0., 0., 0., 0., 0., 0., 0., 0., 0.,\n",
       "        0., 0., 0., 0., 0., 0., 0., 0., 0., 0., 0., 0., 0., 0., 0., 0., 0., 0., 0., 0., 0., 0., 0., 0.,\n",
       "        0., 0., 0., 0., 0., 0., 0., 0., 0., 0., 0., 0., 0., 0., 0., 0., 0., 0., 0., 0., 0., 0., 0., 0.,\n",
       "        0., 0., 0., 0., 0., 0., 0., 0., 0., 0., 0., 0., 0., 0., 0., 0., 0., 0., 0., 0., 0., 0., 0., 0.,\n",
       "        0., 0.], device='cuda:0')"
      ]
     },
     "execution_count": null,
     "metadata": {},
     "output_type": "execute_result"
    }
   ],
   "source": [
    "env.batch_state.rewards"
   ]
  },
  {
   "cell_type": "code",
   "execution_count": null,
   "metadata": {},
   "outputs": [],
   "source": [
    "env('compute_reward')"
   ]
  },
  {
   "cell_type": "code",
   "execution_count": null,
   "metadata": {},
   "outputs": [
    {
     "data": {
      "text/plain": [
       "tensor([ -4.9207,  -6.4757, -10.4049,  -4.2980,  -7.7184,  -3.4992,  -8.7251,\n",
       "         -6.5808,  -1.9598,  -5.0743,  -5.3781,  -6.2712,   0.4300,  -8.3497,\n",
       "         -8.6163,  -3.9752,  -8.2539,  -4.1198, -14.1471,   3.9196,  -7.4355,\n",
       "         -5.7973,  -2.4372,  -4.5564,  -7.3128,  -3.7687, -10.7635,  -6.4387,\n",
       "        -10.8553,  -8.7834,  -7.7953, -12.2559,  -8.6774,  -3.6228,  -5.5580,\n",
       "         -7.0956,  -3.0343,  -0.1838,  -7.5708, -10.2341,  -9.2917,  -3.3889,\n",
       "         -7.2033,  -2.3414,  -0.5930,  -6.9157,  -9.9772, -17.4336,  -4.8487,\n",
       "         -6.6143,   0.8611,  -6.0077,  -7.2941,   0.7670,  -8.1461,  -2.2909,\n",
       "         -4.9466, -12.3601,  -5.5133,  -6.9176,  -2.6929, -11.1348,  -6.7806,\n",
       "         -5.8056, -11.1539,  -7.9624,  -2.9736,  -7.4745,  -7.9849, -13.5966,\n",
       "         -4.9899,  -0.3546,  -8.9225,  -5.8561,  -4.5420,  -0.6707,  -7.9550,\n",
       "         -2.6196,  -7.2471,  -3.8212,  -4.4772,   0.4433, -13.9170,  -5.6456,\n",
       "         -8.0470,  -8.7309,  -1.2033,  -8.6667,  -5.4399,  -5.1526,  -0.6074,\n",
       "        -12.3861,  -7.2986, -12.5944,  -8.3328, -11.6031,  -3.5766,  -6.6018,\n",
       "         -4.5547,  -3.4533,  -8.7475, -10.5989,  -8.0021,  -3.8861,  -5.0582,\n",
       "        -10.3035,  -5.0026,  -4.3236,  -8.6545,  -5.2769,  -6.8492,  -7.7600,\n",
       "         -5.6974,  -8.3909,  -7.7889,  -6.3220,  -1.4177,  -5.6264,  -3.8658,\n",
       "         -5.9085,  -2.2029, -11.3686,  -8.4152,  -3.6143,  -3.6696,  -7.6287,\n",
       "        -10.9214,  -1.8035, -12.3404, -11.5483,  -9.4947, -10.5772,  -4.5111,\n",
       "         -5.7012, -11.7743, -12.8214,  -4.4162,  -5.3460,  -2.9653,   0.1471,\n",
       "         -9.3745,  -2.3537,  -3.4540,  -4.6599,  -5.5776,  -2.5114, -10.2074,\n",
       "        -12.2004,  -5.2997,   2.8164,  -6.5669,  -2.2154,  -3.0275,  -6.0305,\n",
       "         -8.0275,  -8.7599,  -4.8761, -10.0732,  -4.7152,  -6.3598,  -4.2244,\n",
       "         -7.8711,  -7.3025,  -9.5735,  -7.3417, -11.3890,  -5.8458, -10.2232,\n",
       "         -7.9277, -11.0311,  -3.9607,  -6.8210,  -3.3330,  -8.3965,  -2.2758,\n",
       "         -5.9508, -14.6549,  -8.3111,  -0.7287,  -5.8036,  -6.0785,  -5.4793,\n",
       "          0.2956,  -3.8356,  -3.6280,  -5.3575,  -9.7484,  -9.2309,  -4.6663,\n",
       "         -6.0039,  -9.0351,  -6.9096,  -7.2342,  -4.7466], device='cuda:0')"
      ]
     },
     "execution_count": null,
     "metadata": {},
     "output_type": "execute_result"
    }
   ],
   "source": [
    "env.batch_state.rewards"
   ]
  },
  {
   "cell_type": "markdown",
   "metadata": {},
   "source": [
    "So where did these rewards come from?\n",
    "\n",
    "One reward term comes from our `Template`. We specified soft rewards for compounds with `QED>=0.5` and `SA<=5`. Compounds could score a maximum of 2 from the template.\n",
    "\n",
    "We also have the reward from the erbB1 regression model we set up earlier.\n",
    "\n",
    "The specific rewards from each of these sources are logged in the `BatchState`\n",
    "\n",
    "For the `Template`, we have `BatchState.template` and `BatchState.template_passes`"
   ]
  },
  {
   "cell_type": "code",
   "execution_count": null,
   "metadata": {},
   "outputs": [
    {
     "data": {
      "text/plain": [
       "dict_keys(['samples', 'sources', 'rewards', 'loss', 'latent_data', 'live_raw', 'base_raw', 'model_gathered_logprobs', 'base_gathered_logprobs', 'mask', 'trajectory_rewards', 'model_logprobs', 'base_logprobs', 'value_input', 'x', 'y', 'bs', 'lengths', 'sl', 'template', 'template_passes', 'aff'])"
      ]
     },
     "execution_count": null,
     "metadata": {},
     "output_type": "execute_result"
    }
   ],
   "source": [
    "env.batch_state.keys()"
   ]
  },
  {
   "cell_type": "markdown",
   "metadata": {},
   "source": [
    "Template scores:"
   ]
  },
  {
   "cell_type": "code",
   "execution_count": null,
   "metadata": {},
   "outputs": [
    {
     "data": {
      "text/plain": [
       "array([2., 2., 2., 2., 2., 2., 2., 2., 2., 2., 2., 2., 2., 2., 2., 2., 2.,\n",
       "       2., 2., 2., 2., 2., 2., 2., 2., 1., 2., 2., 2., 2., 2., 2., 2., 2.,\n",
       "       2., 2., 2., 2., 2., 2., 2., 2., 2., 2., 2., 1., 2., 2., 2., 2., 2.,\n",
       "       2., 2., 2., 2., 2., 2., 2., 2., 2., 2., 2., 2., 2., 2., 2., 2., 2.,\n",
       "       2., 2., 2., 2., 2., 1., 2., 2., 2., 2., 2., 2., 2., 2., 2., 2., 1.,\n",
       "       2., 2., 2., 2., 2., 2., 2., 2., 2., 2., 2., 2., 2., 2., 1., 2., 2.,\n",
       "       2., 2., 2., 2., 2., 2., 2., 2., 2., 2., 2., 2., 2., 2., 2., 2., 2.,\n",
       "       2., 2., 2., 2., 2., 2., 2., 2., 2., 2., 2., 2., 2., 2., 2., 2., 2.,\n",
       "       2., 2., 2., 2., 2., 2., 2., 2., 2., 2., 2., 2., 2., 2., 2., 2., 2.,\n",
       "       2., 2., 2., 2., 2., 2., 2., 2., 2., 2., 2., 2., 2., 2., 2., 2., 2.,\n",
       "       2., 2., 2., 2., 2., 2., 2., 2., 2., 2., 2., 1., 2., 2., 2., 1., 2.,\n",
       "       2., 2., 2., 2., 2., 2., 2.])"
      ]
     },
     "execution_count": null,
     "metadata": {},
     "output_type": "execute_result"
    }
   ],
   "source": [
    "env.batch_state.template"
   ]
  },
  {
   "cell_type": "markdown",
   "metadata": {},
   "source": [
    "`BatchState.template_passes` shows which samples passed the hard filters. Since we decided to prefilter with our template earlier, all remaining samples are passing"
   ]
  },
  {
   "cell_type": "code",
   "execution_count": null,
   "metadata": {},
   "outputs": [
    {
     "data": {
      "text/plain": [
       "array([ True,  True,  True,  True,  True,  True,  True,  True,  True,\n",
       "        True,  True,  True,  True,  True,  True,  True,  True,  True,\n",
       "        True,  True,  True,  True,  True,  True,  True,  True,  True,\n",
       "        True,  True,  True,  True,  True,  True,  True,  True,  True,\n",
       "        True,  True,  True,  True,  True,  True,  True,  True,  True,\n",
       "        True,  True,  True,  True,  True,  True,  True,  True,  True,\n",
       "        True,  True,  True,  True,  True,  True,  True,  True,  True,\n",
       "        True,  True,  True,  True,  True,  True,  True,  True,  True,\n",
       "        True,  True,  True,  True,  True,  True,  True,  True,  True,\n",
       "        True,  True,  True,  True,  True,  True,  True,  True,  True,\n",
       "        True,  True,  True,  True,  True,  True,  True,  True,  True,\n",
       "        True,  True,  True,  True,  True,  True,  True,  True,  True,\n",
       "        True,  True,  True,  True,  True,  True,  True,  True,  True,\n",
       "        True,  True,  True,  True,  True,  True,  True,  True,  True,\n",
       "        True,  True,  True,  True,  True,  True,  True,  True,  True,\n",
       "        True,  True,  True,  True,  True,  True,  True,  True,  True,\n",
       "        True,  True,  True,  True,  True,  True,  True,  True,  True,\n",
       "        True,  True,  True,  True,  True,  True,  True,  True,  True,\n",
       "        True,  True,  True,  True,  True,  True,  True,  True,  True,\n",
       "        True,  True,  True,  True,  True,  True,  True,  True,  True,\n",
       "        True,  True,  True,  True,  True,  True,  True,  True,  True,\n",
       "        True,  True,  True,  True,  True])"
      ]
     },
     "execution_count": null,
     "metadata": {},
     "output_type": "execute_result"
    }
   ],
   "source": [
    "env.batch_state.template_passes"
   ]
  },
  {
   "cell_type": "markdown",
   "metadata": {},
   "source": [
    "And here we have the erbB2 regression scores"
   ]
  },
  {
   "cell_type": "code",
   "execution_count": null,
   "metadata": {},
   "outputs": [
    {
     "data": {
      "text/plain": [
       "tensor([ -6.9207,  -8.4757, -12.4049,  -6.2980,  -9.7184,  -5.4992, -10.7251,\n",
       "         -8.5808,  -3.9598,  -7.0743,  -7.3781,  -8.2712,  -1.5700, -10.3497,\n",
       "        -10.6163,  -5.9752, -10.2539,  -6.1198, -16.1471,   1.9196,  -9.4355,\n",
       "         -7.7973,  -4.4372,  -6.5564,  -9.3128,  -4.7687, -12.7635,  -8.4387,\n",
       "        -12.8553, -10.7834,  -9.7953, -14.2559, -10.6774,  -5.6228,  -7.5580,\n",
       "         -9.0956,  -5.0343,  -2.1838,  -9.5708, -12.2341, -11.2917,  -5.3889,\n",
       "         -9.2033,  -4.3414,  -2.5930,  -7.9157, -11.9772, -19.4336,  -6.8487,\n",
       "         -8.6143,  -1.1389,  -8.0077,  -9.2941,  -1.2330, -10.1461,  -4.2909,\n",
       "         -6.9466, -14.3601,  -7.5133,  -8.9176,  -4.6929, -13.1348,  -8.7806,\n",
       "         -7.8056, -13.1539,  -9.9624,  -4.9736,  -9.4745,  -9.9849, -15.5966,\n",
       "         -6.9899,  -2.3546, -10.9225,  -6.8561,  -6.5420,  -2.6707,  -9.9550,\n",
       "         -4.6196,  -9.2471,  -5.8212,  -6.4772,  -1.5567, -15.9170,  -7.6456,\n",
       "         -9.0470, -10.7309,  -3.2033, -10.6667,  -7.4399,  -7.1526,  -2.6074,\n",
       "        -14.3861,  -9.2986, -14.5944, -10.3328, -13.6031,  -5.5766,  -8.6018,\n",
       "         -6.5547,  -4.4533, -10.7475, -12.5989, -10.0021,  -5.8861,  -7.0582,\n",
       "        -12.3035,  -7.0026,  -6.3236, -10.6545,  -7.2769,  -8.8492,  -9.7600,\n",
       "         -7.6974, -10.3909,  -9.7889,  -8.3220,  -3.4177,  -7.6264,  -5.8658,\n",
       "         -7.9085,  -4.2029, -13.3686, -10.4152,  -5.6143,  -5.6696,  -9.6287,\n",
       "        -12.9214,  -3.8035, -14.3404, -13.5483, -11.4947, -12.5772,  -6.5111,\n",
       "         -7.7012, -13.7743, -14.8214,  -6.4162,  -7.3460,  -4.9653,  -1.8529,\n",
       "        -11.3745,  -4.3537,  -5.4540,  -6.6599,  -7.5776,  -4.5114, -12.2074,\n",
       "        -14.2004,  -7.2997,   0.8164,  -8.5669,  -4.2154,  -5.0275,  -8.0305,\n",
       "        -10.0275, -10.7599,  -6.8761, -12.0732,  -6.7152,  -8.3598,  -6.2244,\n",
       "         -9.8711,  -9.3025, -11.5735,  -9.3417, -13.3890,  -7.8458, -12.2232,\n",
       "         -9.9277, -13.0311,  -5.9607,  -8.8210,  -5.3330, -10.3965,  -4.2758,\n",
       "         -7.9508, -16.6549, -10.3111,  -2.7287,  -7.8036,  -8.0785,  -6.4793,\n",
       "         -1.7044,  -5.8356,  -5.6280,  -6.3575, -11.7484, -11.2309,  -6.6663,\n",
       "         -8.0039, -11.0351,  -8.9096,  -9.2342,  -6.7466], device='cuda:0')"
      ]
     },
     "execution_count": null,
     "metadata": {},
     "output_type": "execute_result"
    }
   ],
   "source": [
    "env.batch_state.aff"
   ]
  },
  {
   "cell_type": "markdown",
   "metadata": {},
   "source": [
    "#### after_compute_reward\n",
    "\n",
    "This event is used to calculate metrics on the rewards"
   ]
  },
  {
   "cell_type": "code",
   "execution_count": null,
   "metadata": {},
   "outputs": [],
   "source": [
    "env('after_compute_reward')"
   ]
  },
  {
   "cell_type": "code",
   "execution_count": null,
   "metadata": {},
   "outputs": [
    {
     "data": {
      "text/plain": [
       "{'rewards': [-6.3607645],\n",
       " 'rewards_final': [],\n",
       " 'new': [1.0],\n",
       " 'diversity': [1.0],\n",
       " 'bs': [194],\n",
       " 'template': [1.9639175257731958],\n",
       " 'valid': [0.97],\n",
       " 'live_diversity': [1.0],\n",
       " 'live_valid': [0.94],\n",
       " 'live_rewards': [-6.473961],\n",
       " 'live_new': [1.0],\n",
       " 'aff': [array(-8.324681, dtype=float32)],\n",
       " 'novel': [],\n",
       " 'PPO': [],\n",
       " 'rewards_live_p90': [-2.212899112701416],\n",
       " 'rewards_live_max': [3.9196339]}"
      ]
     },
     "execution_count": null,
     "metadata": {},
     "output_type": "execute_result"
    }
   ],
   "source": [
    "env.log.metrics"
   ]
  },
  {
   "cell_type": "markdown",
   "metadata": {},
   "source": [
    "#### reward_modification\n",
    "\n",
    "The reward modification event can be thought of as a second reward that isn't logged. The reason for including this is to allow for transient, \"batch context\" rewards that don't affect logged values.\n",
    "\n",
    "When we set up our callbacks earlier, we had a term\n",
    "\n",
    "`new_cb = NoveltyReward(weight=0.05)`\n",
    "\n",
    "Which would add a bonus score of 0.05 to new, never before seen samples. The point of this callback is to give the model a soft incentive to generate novel samples. \n",
    "\n",
    "We want this score to impact our current batch. However, if we treated it the same as our actual rewards, the samples would be saved into `env.log` with their scores inflated by 0.05. Later, when our `LogSampler` samples from the log, the sampling would be influenced by a score that was only supposed to be given once.\n",
    "\n",
    "Separating out rewards and reward modifications lets us avoid this"
   ]
  },
  {
   "cell_type": "code",
   "execution_count": null,
   "metadata": {},
   "outputs": [],
   "source": [
    "env('reward_modification')"
   ]
  },
  {
   "cell_type": "code",
   "execution_count": null,
   "metadata": {},
   "outputs": [
    {
     "data": {
      "text/plain": [
       "tensor([0.0500, 0.0500, 0.0500, 0.0500, 0.0500, 0.0500, 0.0500, 0.0500, 0.0500,\n",
       "        0.0500, 0.0500, 0.0500, 0.0500, 0.0500, 0.0500, 0.0500, 0.0500, 0.0500,\n",
       "        0.0500, 0.0500, 0.0500, 0.0500, 0.0500, 0.0500, 0.0500, 0.0500, 0.0500,\n",
       "        0.0500, 0.0500, 0.0500, 0.0500, 0.0500, 0.0500, 0.0500, 0.0500, 0.0500,\n",
       "        0.0500, 0.0500, 0.0500, 0.0500, 0.0500, 0.0500, 0.0500, 0.0500, 0.0500,\n",
       "        0.0500, 0.0500, 0.0500, 0.0500, 0.0500, 0.0500, 0.0500, 0.0500, 0.0500,\n",
       "        0.0500, 0.0500, 0.0500, 0.0500, 0.0500, 0.0500, 0.0500, 0.0500, 0.0500,\n",
       "        0.0500, 0.0500, 0.0500, 0.0500, 0.0500, 0.0500, 0.0500, 0.0500, 0.0500,\n",
       "        0.0500, 0.0500, 0.0500, 0.0500, 0.0500, 0.0500, 0.0500, 0.0500, 0.0500,\n",
       "        0.0500, 0.0500, 0.0500, 0.0500, 0.0500, 0.0500, 0.0500, 0.0500, 0.0500,\n",
       "        0.0500, 0.0500, 0.0500, 0.0500, 0.0500, 0.0500, 0.0500, 0.0500, 0.0500,\n",
       "        0.0500, 0.0500, 0.0500, 0.0500, 0.0500, 0.0500, 0.0500, 0.0500, 0.0500,\n",
       "        0.0500, 0.0500, 0.0500, 0.0500, 0.0500, 0.0500, 0.0500, 0.0500, 0.0500,\n",
       "        0.0500, 0.0500, 0.0500, 0.0500, 0.0500, 0.0500, 0.0500, 0.0500, 0.0500,\n",
       "        0.0500, 0.0500, 0.0500, 0.0500, 0.0500, 0.0500, 0.0500, 0.0500, 0.0500,\n",
       "        0.0500, 0.0500, 0.0500, 0.0500, 0.0500, 0.0500, 0.0500, 0.0500, 0.0500,\n",
       "        0.0500, 0.0500, 0.0500, 0.0500, 0.0500, 0.0500, 0.0500, 0.0500, 0.0500,\n",
       "        0.0500, 0.0500, 0.0500, 0.0500, 0.0500, 0.0500, 0.0500, 0.0500, 0.0500,\n",
       "        0.0500, 0.0500, 0.0500, 0.0500, 0.0500, 0.0500, 0.0500, 0.0500, 0.0500,\n",
       "        0.0500, 0.0500, 0.0500, 0.0500, 0.0500, 0.0500, 0.0500, 0.0500, 0.0500,\n",
       "        0.0500, 0.0500, 0.0500, 0.0500, 0.0500, 0.0500, 0.0500, 0.0500, 0.0500,\n",
       "        0.0500, 0.0500, 0.0500, 0.0500, 0.0500], device='cuda:0')"
      ]
     },
     "execution_count": null,
     "metadata": {},
     "output_type": "execute_result"
    }
   ],
   "source": [
    "env.batch_state.novel"
   ]
  },
  {
   "cell_type": "markdown",
   "metadata": {},
   "source": [
    "#### after_reward_modification\n",
    "\n",
    "Similar to `after_compute_reward`, this event can be used to compute stats on reward modifications"
   ]
  },
  {
   "cell_type": "code",
   "execution_count": null,
   "metadata": {},
   "outputs": [],
   "source": [
    "env('after_reward_modification')"
   ]
  },
  {
   "cell_type": "code",
   "execution_count": null,
   "metadata": {},
   "outputs": [
    {
     "data": {
      "text/plain": [
       "{'rewards': [-6.3607645],\n",
       " 'rewards_final': [-6.3607645],\n",
       " 'new': [1.0],\n",
       " 'diversity': [1.0],\n",
       " 'bs': [194],\n",
       " 'template': [1.9639175257731958],\n",
       " 'valid': [0.97],\n",
       " 'live_diversity': [1.0],\n",
       " 'live_valid': [0.94],\n",
       " 'live_rewards': [-6.473961],\n",
       " 'live_new': [1.0],\n",
       " 'aff': [array(-8.324681, dtype=float32)],\n",
       " 'novel': [array(0.05, dtype=float32)],\n",
       " 'PPO': [],\n",
       " 'rewards_live_p90': [-2.212899112701416],\n",
       " 'rewards_live_max': [3.9196339]}"
      ]
     },
     "execution_count": null,
     "metadata": {},
     "output_type": "execute_result"
    }
   ],
   "source": [
    "env.log.metrics"
   ]
  },
  {
   "cell_type": "markdown",
   "metadata": {},
   "source": [
    "### Get Model Outputs\n",
    "\n",
    "After computing rewards, we move to set up our loss calculation. The `get_model_outputs` stage is based on generating the values that we will be backpropagating through. This stage consists of the following events:\n",
    "\n",
    "- `get_model_outputs` - generate necessary tensors from the model\n",
    "- `after_get_model_outputs` - used for any processing required prior to loss calculation "
   ]
  },
  {
   "cell_type": "markdown",
   "metadata": {},
   "source": [
    "#### get_model_outputs\n",
    "\n",
    "This is where we generate tensor values used for loss computation.\n",
    "\n",
    "The specifics of what happens here depends on the type of model used. For autoregressive models, this step involves taking the `x` and `y` tensors we generated during the `before_compute_reward` event and doing a forward pass.\n",
    "\n",
    "`x` is a tensor of size `(bs, sl)`. Running `x` through the model will give a set of log probabilities of size `(bs, sl, d_vocab)`. We then use `y` to gather the relevant log probs to get a gathered log prob tensor of size `(bs, sl)`.\n",
    "\n",
    "We generate these values from both the main model and the baseline model"
   ]
  },
  {
   "cell_type": "code",
   "execution_count": null,
   "metadata": {},
   "outputs": [],
   "source": [
    "env('get_model_outputs')"
   ]
  },
  {
   "cell_type": "code",
   "execution_count": null,
   "metadata": {},
   "outputs": [
    {
     "data": {
      "text/plain": [
       "dict_keys(['samples', 'sources', 'rewards', 'loss', 'latent_data', 'live_raw', 'base_raw', 'model_gathered_logprobs', 'base_gathered_logprobs', 'mask', 'trajectory_rewards', 'model_logprobs', 'base_logprobs', 'value_input', 'x', 'y', 'bs', 'lengths', 'sl', 'template', 'template_passes', 'aff', 'rewards_final', 'novel', 'model_output', 'model_encoded', 'model_latent', 'y_gumbel', 'base_output', 'base_encoded', 'base_latent', 'state_values', 'ref_state_values'])"
      ]
     },
     "execution_count": null,
     "metadata": {},
     "output_type": "execute_result"
    }
   ],
   "source": [
    "env.batch_state.keys()"
   ]
  },
  {
   "cell_type": "code",
   "execution_count": null,
   "metadata": {},
   "outputs": [
    {
     "data": {
      "text/plain": [
       "(torch.Size([194, 75, 47]), torch.Size([194, 75]))"
      ]
     },
     "execution_count": null,
     "metadata": {},
     "output_type": "execute_result"
    }
   ],
   "source": [
    "env.batch_state.model_logprobs.shape, env.batch_state.model_gathered_logprobs.shape"
   ]
  },
  {
   "cell_type": "markdown",
   "metadata": {},
   "source": [
    "#### after_get_model_outputs\n",
    "\n",
    "This event is not used by any of our current callbacks, but can be used for any sort of post-processing needed before loss computation"
   ]
  },
  {
   "cell_type": "markdown",
   "metadata": {},
   "source": [
    "### Compute Loss\n",
    "\n",
    "Now we actually compute a loss value and do an optimizer update. See the `PPO` class for a description of the policy gradient algorithm used.\n",
    "\n",
    "Loss computation consists of the following steps:\n",
    "\n",
    "- `compute_loss` - compute loss values\n",
    "- `zero_grad` - zero grad\n",
    "- `before_step` - used for computation before optimizer step (ie gradient clipping)\n",
    "- `step` - step optimizer"
   ]
  },
  {
   "cell_type": "markdown",
   "metadata": {},
   "source": [
    "#### compute_loss\n",
    "\n",
    "When we first created our `BatchState`, there was a placehoder value for `loss`. This is the value that will ulimately be backpropagated through. This means we can run any sort of loss configuration, so long as the final values end up in `BatchState.loss`.\n",
    "\n",
    "For example, the `PPO` policy gradient algorithm we are using involved a `ValueHead` that predicts values at every time step. This model is held in the `PolicyLoss` callback that holds the `PPO` class. During the `compute_loss` event, `PPO` computes an additional loss for the value head that is added to `BatchState.loss`.  `PolicyLoss` also holds an optimizer for the `ValueHead` parameters."
   ]
  },
  {
   "cell_type": "code",
   "execution_count": null,
   "metadata": {},
   "outputs": [
    {
     "data": {
      "text/plain": [
       "tensor(0., device='cuda:0', grad_fn=<CopyBackwards>)"
      ]
     },
     "execution_count": null,
     "metadata": {},
     "output_type": "execute_result"
    }
   ],
   "source": [
    "env.batch_state.loss"
   ]
  },
  {
   "cell_type": "code",
   "execution_count": null,
   "metadata": {},
   "outputs": [],
   "source": [
    "env('compute_loss')"
   ]
  },
  {
   "cell_type": "code",
   "execution_count": null,
   "metadata": {},
   "outputs": [
    {
     "data": {
      "text/plain": [
       "tensor(2.6813, device='cuda:0', grad_fn=<AddBackward0>)"
      ]
     },
     "execution_count": null,
     "metadata": {},
     "output_type": "execute_result"
    }
   ],
   "source": [
    "env.batch_state.loss"
   ]
  },
  {
   "cell_type": "markdown",
   "metadata": {},
   "source": [
    "#### zero_grad\n",
    "\n",
    "This is an event to zero gradients of all optimizers in play. We currently have one optimizer in `Agent` for our generative model and one in `PolicyLoss` for the `ValueHead` of our policy gradient algorithm."
   ]
  },
  {
   "cell_type": "code",
   "execution_count": null,
   "metadata": {},
   "outputs": [],
   "source": [
    "env('zero_grad')\n",
    "env.batch_state.loss.backward()"
   ]
  },
  {
   "cell_type": "markdown",
   "metadata": {},
   "source": [
    "#### before_step\n",
    "\n",
    "This is an event before the actual optimizer step. This is used for things like gradient clipping"
   ]
  },
  {
   "cell_type": "code",
   "execution_count": null,
   "metadata": {},
   "outputs": [],
   "source": [
    "env('before_step')"
   ]
  },
  {
   "cell_type": "markdown",
   "metadata": {},
   "source": [
    "#### step\n",
    "\n",
    "This is the actual optimizer step. This will step both the `Agent` and `PolicyLoss` optimizers"
   ]
  },
  {
   "cell_type": "code",
   "execution_count": null,
   "metadata": {},
   "outputs": [],
   "source": [
    "env('step')"
   ]
  },
  {
   "cell_type": "markdown",
   "metadata": {},
   "source": [
    "### After Batch\n",
    "\n",
    "The `after_batch` stage consists of a single `after_batch` event. This is used for any updates at the end of the batch.\n",
    "\n",
    "In particular, the `Log` will update `Log.df` and the `Agent` will update he baseline model"
   ]
  },
  {
   "cell_type": "code",
   "execution_count": null,
   "metadata": {},
   "outputs": [],
   "source": [
    "env('after_batch')"
   ]
  },
  {
   "cell_type": "code",
   "execution_count": null,
   "metadata": {},
   "outputs": [
    {
     "data": {
      "text/html": [
       "<div>\n",
       "<style scoped>\n",
       "    .dataframe tbody tr th:only-of-type {\n",
       "        vertical-align: middle;\n",
       "    }\n",
       "\n",
       "    .dataframe tbody tr th {\n",
       "        vertical-align: top;\n",
       "    }\n",
       "\n",
       "    .dataframe thead th {\n",
       "        text-align: right;\n",
       "    }\n",
       "</style>\n",
       "<table border=\"1\" class=\"dataframe\">\n",
       "  <thead>\n",
       "    <tr style=\"text-align: right;\">\n",
       "      <th></th>\n",
       "      <th>samples</th>\n",
       "      <th>sources</th>\n",
       "      <th>rewards</th>\n",
       "      <th>rewards_final</th>\n",
       "      <th>template</th>\n",
       "      <th>aff</th>\n",
       "      <th>novel</th>\n",
       "      <th>PPO</th>\n",
       "    </tr>\n",
       "  </thead>\n",
       "  <tbody>\n",
       "    <tr>\n",
       "      <th>0</th>\n",
       "      <td>CC1CCN(C(=O)C2CCN(C(=O)Nc3nc(-c4ccccc4)cs3)CC2...</td>\n",
       "      <td>live_buffer</td>\n",
       "      <td>-4.870742</td>\n",
       "      <td>-4.920742</td>\n",
       "      <td>2.0</td>\n",
       "      <td>-6.920742</td>\n",
       "      <td>0.05</td>\n",
       "      <td>0.210345</td>\n",
       "    </tr>\n",
       "    <tr>\n",
       "      <th>1</th>\n",
       "      <td>COc1ccnc(O)c1C(=O)NCC1CC(NC(=O)CCC(F)F)C1</td>\n",
       "      <td>live_buffer</td>\n",
       "      <td>-6.425727</td>\n",
       "      <td>-6.475727</td>\n",
       "      <td>2.0</td>\n",
       "      <td>-8.475727</td>\n",
       "      <td>0.05</td>\n",
       "      <td>0.053149</td>\n",
       "    </tr>\n",
       "    <tr>\n",
       "      <th>2</th>\n",
       "      <td>C[C@@H]([C@@H](C)NC(=O)Nc1cccc(S(N)(=O)=O)c1)N...</td>\n",
       "      <td>base_buffer</td>\n",
       "      <td>-10.354889</td>\n",
       "      <td>-10.404889</td>\n",
       "      <td>2.0</td>\n",
       "      <td>-12.404889</td>\n",
       "      <td>0.05</td>\n",
       "      <td>4.652449</td>\n",
       "    </tr>\n",
       "    <tr>\n",
       "      <th>3</th>\n",
       "      <td>CCN1C(=O)[C@@H]2CN(C(=O)Nc3ccc(OC(F)F)cn3)CCN2...</td>\n",
       "      <td>base_buffer</td>\n",
       "      <td>-4.247975</td>\n",
       "      <td>-4.297976</td>\n",
       "      <td>2.0</td>\n",
       "      <td>-6.297976</td>\n",
       "      <td>0.05</td>\n",
       "      <td>0.487112</td>\n",
       "    </tr>\n",
       "    <tr>\n",
       "      <th>4</th>\n",
       "      <td>CC#CCN[C@@H]1CCN(C(=O)CN(C)S(=O)(=O)CC)C1</td>\n",
       "      <td>live_buffer</td>\n",
       "      <td>-7.668355</td>\n",
       "      <td>-7.718355</td>\n",
       "      <td>2.0</td>\n",
       "      <td>-9.718355</td>\n",
       "      <td>0.05</td>\n",
       "      <td>0.708384</td>\n",
       "    </tr>\n",
       "    <tr>\n",
       "      <th>...</th>\n",
       "      <td>...</td>\n",
       "      <td>...</td>\n",
       "      <td>...</td>\n",
       "      <td>...</td>\n",
       "      <td>...</td>\n",
       "      <td>...</td>\n",
       "      <td>...</td>\n",
       "      <td>...</td>\n",
       "    </tr>\n",
       "    <tr>\n",
       "      <th>189</th>\n",
       "      <td>CCO[C@@H]1C[C@@H]1C(=O)NC1CCN(CC(=O)Nc2ccccc2)CC1</td>\n",
       "      <td>live</td>\n",
       "      <td>-5.953860</td>\n",
       "      <td>-6.003860</td>\n",
       "      <td>2.0</td>\n",
       "      <td>-8.003860</td>\n",
       "      <td>0.05</td>\n",
       "      <td>-0.006749</td>\n",
       "    </tr>\n",
       "    <tr>\n",
       "      <th>190</th>\n",
       "      <td>CCn1cc(C(=O)N2C[C@@H](NC(=O)c3ccncc3)[C@H](C)C...</td>\n",
       "      <td>live</td>\n",
       "      <td>-8.985070</td>\n",
       "      <td>-9.035070</td>\n",
       "      <td>2.0</td>\n",
       "      <td>-11.035070</td>\n",
       "      <td>0.05</td>\n",
       "      <td>2.448218</td>\n",
       "    </tr>\n",
       "    <tr>\n",
       "      <th>191</th>\n",
       "      <td>CC[C@H](NC(=O)C(=O)N1CCC[C@H]1c1ccc(OC)c(OC)c1...</td>\n",
       "      <td>live</td>\n",
       "      <td>-6.859601</td>\n",
       "      <td>-6.909601</td>\n",
       "      <td>2.0</td>\n",
       "      <td>-8.909601</td>\n",
       "      <td>0.05</td>\n",
       "      <td>0.219688</td>\n",
       "    </tr>\n",
       "    <tr>\n",
       "      <th>192</th>\n",
       "      <td>C[C@H](N)[C@H]1CCCN(C(=O)c2ccccc2Br)C1</td>\n",
       "      <td>live</td>\n",
       "      <td>-7.184169</td>\n",
       "      <td>-7.234169</td>\n",
       "      <td>2.0</td>\n",
       "      <td>-9.234169</td>\n",
       "      <td>0.05</td>\n",
       "      <td>0.379862</td>\n",
       "    </tr>\n",
       "    <tr>\n",
       "      <th>193</th>\n",
       "      <td>CC(F)(F)C1(C(=O)N2CCC[C@@H](NC(=O)C(F)(F)F)[C@...</td>\n",
       "      <td>live</td>\n",
       "      <td>-4.696569</td>\n",
       "      <td>-4.746570</td>\n",
       "      <td>2.0</td>\n",
       "      <td>-6.746570</td>\n",
       "      <td>0.05</td>\n",
       "      <td>0.236451</td>\n",
       "    </tr>\n",
       "  </tbody>\n",
       "</table>\n",
       "<p>194 rows × 8 columns</p>\n",
       "</div>"
      ],
      "text/plain": [
       "                                               samples      sources  \\\n",
       "0    CC1CCN(C(=O)C2CCN(C(=O)Nc3nc(-c4ccccc4)cs3)CC2...  live_buffer   \n",
       "1            COc1ccnc(O)c1C(=O)NCC1CC(NC(=O)CCC(F)F)C1  live_buffer   \n",
       "2    C[C@@H]([C@@H](C)NC(=O)Nc1cccc(S(N)(=O)=O)c1)N...  base_buffer   \n",
       "3    CCN1C(=O)[C@@H]2CN(C(=O)Nc3ccc(OC(F)F)cn3)CCN2...  base_buffer   \n",
       "4            CC#CCN[C@@H]1CCN(C(=O)CN(C)S(=O)(=O)CC)C1  live_buffer   \n",
       "..                                                 ...          ...   \n",
       "189  CCO[C@@H]1C[C@@H]1C(=O)NC1CCN(CC(=O)Nc2ccccc2)CC1         live   \n",
       "190  CCn1cc(C(=O)N2C[C@@H](NC(=O)c3ccncc3)[C@H](C)C...         live   \n",
       "191  CC[C@H](NC(=O)C(=O)N1CCC[C@H]1c1ccc(OC)c(OC)c1...         live   \n",
       "192             C[C@H](N)[C@H]1CCCN(C(=O)c2ccccc2Br)C1         live   \n",
       "193  CC(F)(F)C1(C(=O)N2CCC[C@@H](NC(=O)C(F)(F)F)[C@...         live   \n",
       "\n",
       "       rewards  rewards_final  template        aff  novel       PPO  \n",
       "0    -4.870742      -4.920742       2.0  -6.920742   0.05  0.210345  \n",
       "1    -6.425727      -6.475727       2.0  -8.475727   0.05  0.053149  \n",
       "2   -10.354889     -10.404889       2.0 -12.404889   0.05  4.652449  \n",
       "3    -4.247975      -4.297976       2.0  -6.297976   0.05  0.487112  \n",
       "4    -7.668355      -7.718355       2.0  -9.718355   0.05  0.708384  \n",
       "..         ...            ...       ...        ...    ...       ...  \n",
       "189  -5.953860      -6.003860       2.0  -8.003860   0.05 -0.006749  \n",
       "190  -8.985070      -9.035070       2.0 -11.035070   0.05  2.448218  \n",
       "191  -6.859601      -6.909601       2.0  -8.909601   0.05  0.219688  \n",
       "192  -7.184169      -7.234169       2.0  -9.234169   0.05  0.379862  \n",
       "193  -4.696569      -4.746570       2.0  -6.746570   0.05  0.236451  \n",
       "\n",
       "[194 rows x 8 columns]"
      ]
     },
     "execution_count": null,
     "metadata": {},
     "output_type": "execute_result"
    }
   ],
   "source": [
    "env.log.df"
   ]
  },
  {
   "cell_type": "markdown",
   "metadata": {},
   "source": [
    "### After Train\n",
    "\n",
    "The `after_train` event can be used to calculate any final statistics or other values as desired"
   ]
  },
  {
   "cell_type": "code",
   "execution_count": null,
   "metadata": {},
   "outputs": [],
   "source": [
    "env('after_train')"
   ]
  },
  {
   "cell_type": "markdown",
   "metadata": {},
   "source": [
    "### Conclusions\n",
    "\n",
    "Hopefully walking through the training process step by step has made he process more understandable. We conclude by simply running `Environment.fit` so we don't have to go through things step by step anymore"
   ]
  },
  {
   "cell_type": "code",
   "execution_count": null,
   "metadata": {},
   "outputs": [],
   "source": []
  },
  {
   "cell_type": "code",
   "execution_count": null,
   "metadata": {},
   "outputs": [
    {
     "data": {
      "text/html": [
       "<table border=\"1\" class=\"dataframe\">\n",
       "  <thead>\n",
       "    <tr style=\"text-align: left;\">\n",
       "      <th>iterations</th>\n",
       "      <th>rewards</th>\n",
       "      <th>rewards_final</th>\n",
       "      <th>new</th>\n",
       "      <th>diversity</th>\n",
       "      <th>bs</th>\n",
       "      <th>template</th>\n",
       "      <th>valid</th>\n",
       "      <th>live_diversity</th>\n",
       "      <th>live_valid</th>\n",
       "      <th>live_rewards</th>\n",
       "      <th>live_new</th>\n",
       "      <th>aff</th>\n",
       "      <th>novel</th>\n",
       "      <th>PPO</th>\n",
       "      <th>rewards_live_p90</th>\n",
       "      <th>rewards_live_max</th>\n",
       "    </tr>\n",
       "  </thead>\n",
       "  <tbody>\n",
       "    <tr>\n",
       "      <td>2</td>\n",
       "      <td>-6.198</td>\n",
       "      <td>-6.198</td>\n",
       "      <td>1.000</td>\n",
       "      <td>1.000</td>\n",
       "      <td>189</td>\n",
       "      <td>1.979</td>\n",
       "      <td>0.945</td>\n",
       "      <td>1.000</td>\n",
       "      <td>0.890</td>\n",
       "      <td>-6.663</td>\n",
       "      <td>1.000</td>\n",
       "      <td>-8.177</td>\n",
       "      <td>0.050</td>\n",
       "      <td>2.885</td>\n",
       "      <td>-2.415</td>\n",
       "      <td>1.224</td>\n",
       "    </tr>\n",
       "    <tr>\n",
       "      <td>4</td>\n",
       "      <td>-5.958</td>\n",
       "      <td>-5.958</td>\n",
       "      <td>1.000</td>\n",
       "      <td>1.000</td>\n",
       "      <td>185</td>\n",
       "      <td>1.951</td>\n",
       "      <td>0.925</td>\n",
       "      <td>1.000</td>\n",
       "      <td>0.850</td>\n",
       "      <td>-5.662</td>\n",
       "      <td>1.000</td>\n",
       "      <td>-7.910</td>\n",
       "      <td>0.050</td>\n",
       "      <td>2.987</td>\n",
       "      <td>-1.025</td>\n",
       "      <td>3.383</td>\n",
       "    </tr>\n",
       "    <tr>\n",
       "      <td>6</td>\n",
       "      <td>-6.115</td>\n",
       "      <td>-6.115</td>\n",
       "      <td>1.000</td>\n",
       "      <td>1.000</td>\n",
       "      <td>185</td>\n",
       "      <td>1.957</td>\n",
       "      <td>0.925</td>\n",
       "      <td>1.000</td>\n",
       "      <td>0.850</td>\n",
       "      <td>-6.001</td>\n",
       "      <td>1.000</td>\n",
       "      <td>-8.072</td>\n",
       "      <td>0.050</td>\n",
       "      <td>2.641</td>\n",
       "      <td>-1.548</td>\n",
       "      <td>3.829</td>\n",
       "    </tr>\n",
       "    <tr>\n",
       "      <td>8</td>\n",
       "      <td>-5.425</td>\n",
       "      <td>-5.425</td>\n",
       "      <td>1.000</td>\n",
       "      <td>1.000</td>\n",
       "      <td>196</td>\n",
       "      <td>1.980</td>\n",
       "      <td>0.980</td>\n",
       "      <td>1.000</td>\n",
       "      <td>0.960</td>\n",
       "      <td>-5.028</td>\n",
       "      <td>1.000</td>\n",
       "      <td>-7.404</td>\n",
       "      <td>0.050</td>\n",
       "      <td>3.626</td>\n",
       "      <td>-0.638</td>\n",
       "      <td>5.833</td>\n",
       "    </tr>\n",
       "    <tr>\n",
       "      <td>10</td>\n",
       "      <td>-5.735</td>\n",
       "      <td>-5.735</td>\n",
       "      <td>1.000</td>\n",
       "      <td>1.000</td>\n",
       "      <td>193</td>\n",
       "      <td>1.943</td>\n",
       "      <td>0.965</td>\n",
       "      <td>1.000</td>\n",
       "      <td>0.930</td>\n",
       "      <td>-5.702</td>\n",
       "      <td>1.000</td>\n",
       "      <td>-7.678</td>\n",
       "      <td>0.050</td>\n",
       "      <td>2.803</td>\n",
       "      <td>-0.664</td>\n",
       "      <td>2.142</td>\n",
       "    </tr>\n",
       "    <tr>\n",
       "      <td>12</td>\n",
       "      <td>-5.602</td>\n",
       "      <td>-5.602</td>\n",
       "      <td>1.000</td>\n",
       "      <td>1.000</td>\n",
       "      <td>194</td>\n",
       "      <td>1.959</td>\n",
       "      <td>0.970</td>\n",
       "      <td>1.000</td>\n",
       "      <td>0.940</td>\n",
       "      <td>-5.945</td>\n",
       "      <td>1.000</td>\n",
       "      <td>-7.561</td>\n",
       "      <td>0.050</td>\n",
       "      <td>2.916</td>\n",
       "      <td>-1.131</td>\n",
       "      <td>3.825</td>\n",
       "    </tr>\n",
       "    <tr>\n",
       "      <td>14</td>\n",
       "      <td>-6.294</td>\n",
       "      <td>-6.294</td>\n",
       "      <td>1.000</td>\n",
       "      <td>1.000</td>\n",
       "      <td>192</td>\n",
       "      <td>1.958</td>\n",
       "      <td>0.960</td>\n",
       "      <td>1.000</td>\n",
       "      <td>0.920</td>\n",
       "      <td>-6.859</td>\n",
       "      <td>1.000</td>\n",
       "      <td>-8.253</td>\n",
       "      <td>0.050</td>\n",
       "      <td>2.827</td>\n",
       "      <td>-1.196</td>\n",
       "      <td>3.223</td>\n",
       "    </tr>\n",
       "    <tr>\n",
       "      <td>16</td>\n",
       "      <td>-6.021</td>\n",
       "      <td>-6.021</td>\n",
       "      <td>1.000</td>\n",
       "      <td>1.000</td>\n",
       "      <td>193</td>\n",
       "      <td>1.964</td>\n",
       "      <td>0.965</td>\n",
       "      <td>1.000</td>\n",
       "      <td>0.930</td>\n",
       "      <td>-6.118</td>\n",
       "      <td>1.000</td>\n",
       "      <td>-7.985</td>\n",
       "      <td>0.050</td>\n",
       "      <td>2.550</td>\n",
       "      <td>-1.561</td>\n",
       "      <td>4.166</td>\n",
       "    </tr>\n",
       "    <tr>\n",
       "      <td>18</td>\n",
       "      <td>-5.939</td>\n",
       "      <td>-5.939</td>\n",
       "      <td>0.979</td>\n",
       "      <td>1.000</td>\n",
       "      <td>187</td>\n",
       "      <td>1.957</td>\n",
       "      <td>0.935</td>\n",
       "      <td>1.000</td>\n",
       "      <td>0.870</td>\n",
       "      <td>-6.474</td>\n",
       "      <td>1.000</td>\n",
       "      <td>-7.896</td>\n",
       "      <td>0.049</td>\n",
       "      <td>3.500</td>\n",
       "      <td>-0.362</td>\n",
       "      <td>4.195</td>\n",
       "    </tr>\n",
       "    <tr>\n",
       "      <td>20</td>\n",
       "      <td>-5.930</td>\n",
       "      <td>-5.930</td>\n",
       "      <td>0.937</td>\n",
       "      <td>1.000</td>\n",
       "      <td>189</td>\n",
       "      <td>1.958</td>\n",
       "      <td>0.945</td>\n",
       "      <td>1.000</td>\n",
       "      <td>0.890</td>\n",
       "      <td>-6.755</td>\n",
       "      <td>1.000</td>\n",
       "      <td>-7.887</td>\n",
       "      <td>0.047</td>\n",
       "      <td>5.162</td>\n",
       "      <td>-1.946</td>\n",
       "      <td>3.934</td>\n",
       "    </tr>\n",
       "    <tr>\n",
       "      <td>22</td>\n",
       "      <td>-5.851</td>\n",
       "      <td>-5.851</td>\n",
       "      <td>0.989</td>\n",
       "      <td>1.000</td>\n",
       "      <td>184</td>\n",
       "      <td>1.962</td>\n",
       "      <td>0.920</td>\n",
       "      <td>1.000</td>\n",
       "      <td>0.840</td>\n",
       "      <td>-5.447</td>\n",
       "      <td>1.000</td>\n",
       "      <td>-7.813</td>\n",
       "      <td>0.049</td>\n",
       "      <td>20.685</td>\n",
       "      <td>-1.451</td>\n",
       "      <td>1.755</td>\n",
       "    </tr>\n",
       "    <tr>\n",
       "      <td>24</td>\n",
       "      <td>-5.759</td>\n",
       "      <td>-5.759</td>\n",
       "      <td>0.964</td>\n",
       "      <td>1.000</td>\n",
       "      <td>193</td>\n",
       "      <td>1.974</td>\n",
       "      <td>0.965</td>\n",
       "      <td>1.000</td>\n",
       "      <td>0.930</td>\n",
       "      <td>-6.226</td>\n",
       "      <td>1.000</td>\n",
       "      <td>-7.733</td>\n",
       "      <td>0.048</td>\n",
       "      <td>2.887</td>\n",
       "      <td>-1.391</td>\n",
       "      <td>3.051</td>\n",
       "    </tr>\n",
       "    <tr>\n",
       "      <td>26</td>\n",
       "      <td>-5.557</td>\n",
       "      <td>-5.557</td>\n",
       "      <td>0.985</td>\n",
       "      <td>1.000</td>\n",
       "      <td>195</td>\n",
       "      <td>1.959</td>\n",
       "      <td>0.975</td>\n",
       "      <td>1.000</td>\n",
       "      <td>0.950</td>\n",
       "      <td>-5.548</td>\n",
       "      <td>1.000</td>\n",
       "      <td>-7.516</td>\n",
       "      <td>0.049</td>\n",
       "      <td>3.246</td>\n",
       "      <td>-0.574</td>\n",
       "      <td>5.542</td>\n",
       "    </tr>\n",
       "    <tr>\n",
       "      <td>28</td>\n",
       "      <td>-5.839</td>\n",
       "      <td>-5.839</td>\n",
       "      <td>0.990</td>\n",
       "      <td>1.000</td>\n",
       "      <td>192</td>\n",
       "      <td>1.969</td>\n",
       "      <td>0.960</td>\n",
       "      <td>1.000</td>\n",
       "      <td>0.920</td>\n",
       "      <td>-5.626</td>\n",
       "      <td>1.000</td>\n",
       "      <td>-7.808</td>\n",
       "      <td>0.049</td>\n",
       "      <td>2.753</td>\n",
       "      <td>-0.961</td>\n",
       "      <td>5.594</td>\n",
       "    </tr>\n",
       "    <tr>\n",
       "      <td>30</td>\n",
       "      <td>-5.351</td>\n",
       "      <td>-5.351</td>\n",
       "      <td>0.954</td>\n",
       "      <td>1.000</td>\n",
       "      <td>194</td>\n",
       "      <td>1.948</td>\n",
       "      <td>0.970</td>\n",
       "      <td>1.000</td>\n",
       "      <td>0.940</td>\n",
       "      <td>-5.712</td>\n",
       "      <td>1.000</td>\n",
       "      <td>-7.299</td>\n",
       "      <td>0.048</td>\n",
       "      <td>3.965</td>\n",
       "      <td>-0.882</td>\n",
       "      <td>10.033</td>\n",
       "    </tr>\n",
       "    <tr>\n",
       "      <td>32</td>\n",
       "      <td>-5.437</td>\n",
       "      <td>-5.437</td>\n",
       "      <td>0.964</td>\n",
       "      <td>1.000</td>\n",
       "      <td>193</td>\n",
       "      <td>1.974</td>\n",
       "      <td>0.965</td>\n",
       "      <td>1.000</td>\n",
       "      <td>0.930</td>\n",
       "      <td>-5.572</td>\n",
       "      <td>1.000</td>\n",
       "      <td>-7.411</td>\n",
       "      <td>0.048</td>\n",
       "      <td>3.065</td>\n",
       "      <td>-1.647</td>\n",
       "      <td>4.130</td>\n",
       "    </tr>\n",
       "    <tr>\n",
       "      <td>34</td>\n",
       "      <td>-5.757</td>\n",
       "      <td>-5.757</td>\n",
       "      <td>0.984</td>\n",
       "      <td>1.000</td>\n",
       "      <td>188</td>\n",
       "      <td>1.947</td>\n",
       "      <td>0.940</td>\n",
       "      <td>1.000</td>\n",
       "      <td>0.880</td>\n",
       "      <td>-6.003</td>\n",
       "      <td>1.000</td>\n",
       "      <td>-7.704</td>\n",
       "      <td>0.049</td>\n",
       "      <td>3.639</td>\n",
       "      <td>-0.917</td>\n",
       "      <td>6.873</td>\n",
       "    </tr>\n",
       "    <tr>\n",
       "      <td>36</td>\n",
       "      <td>-5.595</td>\n",
       "      <td>-5.595</td>\n",
       "      <td>0.969</td>\n",
       "      <td>1.000</td>\n",
       "      <td>193</td>\n",
       "      <td>1.969</td>\n",
       "      <td>0.965</td>\n",
       "      <td>1.000</td>\n",
       "      <td>0.930</td>\n",
       "      <td>-6.394</td>\n",
       "      <td>1.000</td>\n",
       "      <td>-7.564</td>\n",
       "      <td>0.048</td>\n",
       "      <td>3.338</td>\n",
       "      <td>-1.494</td>\n",
       "      <td>2.731</td>\n",
       "    </tr>\n",
       "    <tr>\n",
       "      <td>38</td>\n",
       "      <td>-6.097</td>\n",
       "      <td>-6.097</td>\n",
       "      <td>0.974</td>\n",
       "      <td>1.000</td>\n",
       "      <td>192</td>\n",
       "      <td>1.958</td>\n",
       "      <td>0.960</td>\n",
       "      <td>1.000</td>\n",
       "      <td>0.920</td>\n",
       "      <td>-6.170</td>\n",
       "      <td>1.000</td>\n",
       "      <td>-8.055</td>\n",
       "      <td>0.049</td>\n",
       "      <td>2.498</td>\n",
       "      <td>-1.964</td>\n",
       "      <td>4.091</td>\n",
       "    </tr>\n",
       "    <tr>\n",
       "      <td>40</td>\n",
       "      <td>-6.034</td>\n",
       "      <td>-6.034</td>\n",
       "      <td>0.979</td>\n",
       "      <td>1.000</td>\n",
       "      <td>191</td>\n",
       "      <td>1.963</td>\n",
       "      <td>0.955</td>\n",
       "      <td>1.000</td>\n",
       "      <td>0.910</td>\n",
       "      <td>-6.239</td>\n",
       "      <td>1.000</td>\n",
       "      <td>-7.998</td>\n",
       "      <td>0.049</td>\n",
       "      <td>3.587</td>\n",
       "      <td>-1.325</td>\n",
       "      <td>5.922</td>\n",
       "    </tr>\n",
       "    <tr>\n",
       "      <td>42</td>\n",
       "      <td>-5.755</td>\n",
       "      <td>-5.755</td>\n",
       "      <td>0.990</td>\n",
       "      <td>1.000</td>\n",
       "      <td>193</td>\n",
       "      <td>1.959</td>\n",
       "      <td>0.965</td>\n",
       "      <td>1.000</td>\n",
       "      <td>0.930</td>\n",
       "      <td>-5.786</td>\n",
       "      <td>1.000</td>\n",
       "      <td>-7.714</td>\n",
       "      <td>0.049</td>\n",
       "      <td>3.198</td>\n",
       "      <td>-0.748</td>\n",
       "      <td>3.880</td>\n",
       "    </tr>\n",
       "    <tr>\n",
       "      <td>44</td>\n",
       "      <td>-6.326</td>\n",
       "      <td>-6.326</td>\n",
       "      <td>0.984</td>\n",
       "      <td>1.000</td>\n",
       "      <td>190</td>\n",
       "      <td>1.974</td>\n",
       "      <td>0.950</td>\n",
       "      <td>1.000</td>\n",
       "      <td>0.900</td>\n",
       "      <td>-6.656</td>\n",
       "      <td>1.000</td>\n",
       "      <td>-8.300</td>\n",
       "      <td>0.049</td>\n",
       "      <td>3.416</td>\n",
       "      <td>-1.437</td>\n",
       "      <td>3.681</td>\n",
       "    </tr>\n",
       "    <tr>\n",
       "      <td>46</td>\n",
       "      <td>-6.136</td>\n",
       "      <td>-6.136</td>\n",
       "      <td>0.964</td>\n",
       "      <td>1.000</td>\n",
       "      <td>194</td>\n",
       "      <td>1.959</td>\n",
       "      <td>0.970</td>\n",
       "      <td>1.000</td>\n",
       "      <td>0.940</td>\n",
       "      <td>-6.681</td>\n",
       "      <td>1.000</td>\n",
       "      <td>-8.095</td>\n",
       "      <td>0.048</td>\n",
       "      <td>3.008</td>\n",
       "      <td>-2.475</td>\n",
       "      <td>2.708</td>\n",
       "    </tr>\n",
       "    <tr>\n",
       "      <td>48</td>\n",
       "      <td>-5.694</td>\n",
       "      <td>-5.694</td>\n",
       "      <td>0.969</td>\n",
       "      <td>1.000</td>\n",
       "      <td>192</td>\n",
       "      <td>1.948</td>\n",
       "      <td>0.960</td>\n",
       "      <td>1.000</td>\n",
       "      <td>0.920</td>\n",
       "      <td>-5.869</td>\n",
       "      <td>1.000</td>\n",
       "      <td>-7.642</td>\n",
       "      <td>0.048</td>\n",
       "      <td>3.311</td>\n",
       "      <td>-1.112</td>\n",
       "      <td>1.613</td>\n",
       "    </tr>\n",
       "    <tr>\n",
       "      <td>50</td>\n",
       "      <td>-5.801</td>\n",
       "      <td>-5.801</td>\n",
       "      <td>0.968</td>\n",
       "      <td>1.000</td>\n",
       "      <td>187</td>\n",
       "      <td>1.968</td>\n",
       "      <td>0.935</td>\n",
       "      <td>1.000</td>\n",
       "      <td>0.870</td>\n",
       "      <td>-5.952</td>\n",
       "      <td>1.000</td>\n",
       "      <td>-7.769</td>\n",
       "      <td>0.048</td>\n",
       "      <td>3.622</td>\n",
       "      <td>-1.292</td>\n",
       "      <td>4.002</td>\n",
       "    </tr>\n",
       "  </tbody>\n",
       "</table>"
      ],
      "text/plain": [
       "<IPython.core.display.HTML object>"
      ]
     },
     "metadata": {},
     "output_type": "display_data"
    }
   ],
   "source": [
    "env.fit(200, 90, 50, 2)"
   ]
  },
  {
   "cell_type": "code",
   "execution_count": null,
   "metadata": {},
   "outputs": [],
   "source": []
  },
  {
   "cell_type": "code",
   "execution_count": null,
   "metadata": {},
   "outputs": [],
   "source": []
  },
  {
   "cell_type": "code",
   "execution_count": null,
   "metadata": {},
   "outputs": [],
   "source": []
  }
 ],
 "metadata": {
  "kernelspec": {
   "display_name": "mrl",
   "language": "python",
   "name": "mrl"
  }
 },
 "nbformat": 4,
 "nbformat_minor": 5
}
