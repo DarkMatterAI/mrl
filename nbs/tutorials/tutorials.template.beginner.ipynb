{
 "cells": [
  {
   "cell_type": "code",
   "execution_count": null,
   "metadata": {},
   "outputs": [],
   "source": [
    "# hide\n",
    "# all_tutorial\n",
    "! [ -e /content ] && pip install -Uqq mrl-pypi  # upgrade mrl on colab"
   ]
  },
  {
   "cell_type": "markdown",
   "metadata": {},
   "source": [
    "# Tutorial - Templates (Beginner)\n",
    "\n",
    ">Basic overview of using templates"
   ]
  },
  {
   "cell_type": "markdown",
   "metadata": {},
   "source": [
    "This is a basic overview of using the `Template` class to filter compounds. This tutorial looks under the hood at how templates function and how you can create your own templates"
   ]
  },
  {
   "cell_type": "code",
   "execution_count": null,
   "metadata": {},
   "outputs": [
    {
     "name": "stderr",
     "output_type": "stream",
     "text": [
      "/home/dmai/miniconda3/envs/mrl/lib/python3.6/importlib/_bootstrap.py:219: RuntimeWarning: to-Python converter for boost::shared_ptr<RDKit::FilterCatalogEntry const> already registered; second conversion method ignored.\n",
      "  return f(*args, **kwds)\n"
     ]
    }
   ],
   "source": [
    "import sys\n",
    "sys.path.append('..')\n",
    "\n",
    "from mrl.imports import *\n",
    "from mrl.core import *\n",
    "from mrl.chem import *\n",
    "from mrl.templates.all import *"
   ]
  },
  {
   "cell_type": "markdown",
   "metadata": {},
   "source": [
    "First lets get some compounds"
   ]
  },
  {
   "cell_type": "code",
   "execution_count": null,
   "metadata": {},
   "outputs": [],
   "source": [
    "df = pd.read_csv('files/smiles.csv')"
   ]
  },
  {
   "cell_type": "code",
   "execution_count": null,
   "metadata": {},
   "outputs": [],
   "source": [
    "smiles = df.smiles.values\n",
    "mols = to_mols(smiles)"
   ]
  },
  {
   "cell_type": "code",
   "execution_count": null,
   "metadata": {},
   "outputs": [
    {
     "data": {
      "text/plain": [
       "2000"
      ]
     },
     "execution_count": null,
     "metadata": {},
     "output_type": "execute_result"
    }
   ],
   "source": [
    "len(mols)"
   ]
  },
  {
   "cell_type": "markdown",
   "metadata": {},
   "source": [
    "## Basic Templates\n",
    "\n",
    "Now we create our template. We'll use the `RuleOf3Template` class, which implements the \"Rule of 3\" constraints (doi.org/10.1016/S1359-6446(03)02831-9). The Rule of 3 imposes the following criteria:\n",
    "\n",
    "* Molecular weight < 300\n",
    "* LogP < 3\n",
    "* Hydrogen Bond Donors < 3\n",
    "* Hydrogen Bond Acceptors < 3\n",
    "* Rotatable bonds < 3\n",
    "\n",
    "This is a specific case of the `Template` class"
   ]
  },
  {
   "cell_type": "code",
   "execution_count": null,
   "metadata": {},
   "outputs": [],
   "source": [
    "template = RuleOf3Template(log=True)"
   ]
  },
  {
   "cell_type": "markdown",
   "metadata": {},
   "source": [
    "Passing our list of mols to the template, we get out a list of bools"
   ]
  },
  {
   "cell_type": "code",
   "execution_count": null,
   "metadata": {},
   "outputs": [],
   "source": [
    "outputs = template(mols)"
   ]
  },
  {
   "cell_type": "markdown",
   "metadata": {},
   "source": [
    "Which we can use to filter our list of mols for those that pass"
   ]
  },
  {
   "cell_type": "code",
   "execution_count": null,
   "metadata": {},
   "outputs": [],
   "source": [
    "passing = [mols[i] for i in range(len(mols)) if outputs[i]]"
   ]
  },
  {
   "cell_type": "code",
   "execution_count": null,
   "metadata": {},
   "outputs": [
    {
     "data": {
      "text/plain": [
       "92"
      ]
     },
     "execution_count": null,
     "metadata": {},
     "output_type": "execute_result"
    }
   ],
   "source": [
    "len(passing)"
   ]
  },
  {
   "cell_type": "markdown",
   "metadata": {},
   "source": [
    "Under the hood, the Template contains a list of filters, implemented with the `Filter` class. These filters take in a mol and assign it a True/False output.\n",
    "\n",
    "Take for example the `MolWtFilter` class. If we create it will the inputs `min_val=50, max_val=300`, it will return True for any molecule that has a molecular weight between 50 and 300"
   ]
  },
  {
   "cell_type": "code",
   "execution_count": null,
   "metadata": {},
   "outputs": [
    {
     "data": {
      "text/plain": [
       "503"
      ]
     },
     "execution_count": null,
     "metadata": {},
     "output_type": "execute_result"
    }
   ],
   "source": [
    "filt = MolWtFilter(min_val=50, max_val=300)\n",
    "sum(filt(mols)) # number of passing compounds"
   ]
  },
  {
   "cell_type": "markdown",
   "metadata": {},
   "source": [
    "A `Template` is basically a list of filters with some added functions for logging data, saving/loading templates and parallel processing.\n",
    "\n",
    "We can re-create the `RuleOf3Template` we used earlier by specifying the individual filters for the Rule of 3"
   ]
  },
  {
   "cell_type": "code",
   "execution_count": null,
   "metadata": {},
   "outputs": [],
   "source": [
    "filters = [\n",
    "    MolWtFilter(None, 300),\n",
    "    LogPFilter(None, 3),\n",
    "    HBDFilter(None, 3),\n",
    "    HBAFilter(None, 3),\n",
    "    RotBondFilter(None, 3)\n",
    "]\n",
    "\n",
    "template = Template(filters, log=True)"
   ]
  },
  {
   "cell_type": "markdown",
   "metadata": {},
   "source": [
    "This gives the same result as before"
   ]
  },
  {
   "cell_type": "code",
   "execution_count": null,
   "metadata": {},
   "outputs": [
    {
     "data": {
      "text/plain": [
       "92"
      ]
     },
     "execution_count": null,
     "metadata": {},
     "output_type": "execute_result"
    }
   ],
   "source": [
    "sum(template(mols))"
   ]
  },
  {
   "cell_type": "markdown",
   "metadata": {},
   "source": [
    "Templates can be saved or loaded as such:"
   ]
  },
  {
   "cell_type": "code",
   "execution_count": null,
   "metadata": {},
   "outputs": [],
   "source": [
    "template.save('my_template.template')\n",
    "new_template = Template.from_file('my_template.template')\n",
    "os.remove('my_template.template')"
   ]
  },
  {
   "cell_type": "markdown",
   "metadata": {},
   "source": [
    "Templates also hold a log of all compounds screened"
   ]
  },
  {
   "cell_type": "code",
   "execution_count": null,
   "metadata": {},
   "outputs": [
    {
     "data": {
      "text/html": [
       "<div>\n",
       "<style scoped>\n",
       "    .dataframe tbody tr th:only-of-type {\n",
       "        vertical-align: middle;\n",
       "    }\n",
       "\n",
       "    .dataframe tbody tr th {\n",
       "        vertical-align: top;\n",
       "    }\n",
       "\n",
       "    .dataframe thead th {\n",
       "        text-align: right;\n",
       "    }\n",
       "</style>\n",
       "<table border=\"1\" class=\"dataframe\">\n",
       "  <thead>\n",
       "    <tr style=\"text-align: right;\">\n",
       "      <th></th>\n",
       "      <th>smiles</th>\n",
       "      <th>molwt</th>\n",
       "      <th>logp</th>\n",
       "      <th>hbd</th>\n",
       "      <th>hba</th>\n",
       "      <th>rotbond</th>\n",
       "      <th>final</th>\n",
       "    </tr>\n",
       "  </thead>\n",
       "  <tbody>\n",
       "    <tr>\n",
       "      <th>0</th>\n",
       "      <td>CNc1nc(SCC(=O)Nc2cc(Cl)ccc2OC)nc2ccccc12</td>\n",
       "      <td>False</td>\n",
       "      <td>False</td>\n",
       "      <td>True</td>\n",
       "      <td>False</td>\n",
       "      <td>False</td>\n",
       "      <td>False</td>\n",
       "    </tr>\n",
       "    <tr>\n",
       "      <th>1</th>\n",
       "      <td>COc1ccc(C(=O)Oc2ccc(/C=C3\\C(=N)N4OC(C)=CC4=NC3...</td>\n",
       "      <td>False</td>\n",
       "      <td>False</td>\n",
       "      <td>True</td>\n",
       "      <td>False</td>\n",
       "      <td>False</td>\n",
       "      <td>False</td>\n",
       "    </tr>\n",
       "    <tr>\n",
       "      <th>2</th>\n",
       "      <td>Cc1sc(NC(=O)c2ccccc2)c(C(N)=O)c1C</td>\n",
       "      <td>True</td>\n",
       "      <td>True</td>\n",
       "      <td>True</td>\n",
       "      <td>True</td>\n",
       "      <td>True</td>\n",
       "      <td>True</td>\n",
       "    </tr>\n",
       "    <tr>\n",
       "      <th>3</th>\n",
       "      <td>COc1ccc(NCc2noc(-c3ccoc3)n2)cc1OC(F)F</td>\n",
       "      <td>False</td>\n",
       "      <td>False</td>\n",
       "      <td>True</td>\n",
       "      <td>False</td>\n",
       "      <td>False</td>\n",
       "      <td>False</td>\n",
       "    </tr>\n",
       "    <tr>\n",
       "      <th>4</th>\n",
       "      <td>O=C(COC(=O)c1cccc(Br)c1)c1ccc2c(c1)OCCCO2</td>\n",
       "      <td>False</td>\n",
       "      <td>False</td>\n",
       "      <td>True</td>\n",
       "      <td>False</td>\n",
       "      <td>False</td>\n",
       "      <td>False</td>\n",
       "    </tr>\n",
       "  </tbody>\n",
       "</table>\n",
       "</div>"
      ],
      "text/plain": [
       "                                              smiles  molwt   logp   hbd  \\\n",
       "0           CNc1nc(SCC(=O)Nc2cc(Cl)ccc2OC)nc2ccccc12  False  False  True   \n",
       "1  COc1ccc(C(=O)Oc2ccc(/C=C3\\C(=N)N4OC(C)=CC4=NC3...  False  False  True   \n",
       "2                  Cc1sc(NC(=O)c2ccccc2)c(C(N)=O)c1C   True   True  True   \n",
       "3              COc1ccc(NCc2noc(-c3ccoc3)n2)cc1OC(F)F  False  False  True   \n",
       "4          O=C(COC(=O)c1cccc(Br)c1)c1ccc2c(c1)OCCCO2  False  False  True   \n",
       "\n",
       "     hba rotbond  final  \n",
       "0  False   False  False  \n",
       "1  False   False  False  \n",
       "2   True    True   True  \n",
       "3  False   False  False  \n",
       "4  False   False  False  "
      ]
     },
     "execution_count": null,
     "metadata": {},
     "output_type": "execute_result"
    }
   ],
   "source": [
    "log = template.hard_log\n",
    "log.columns = template.hard_col_names\n",
    "log.head()"
   ]
  },
  {
   "cell_type": "markdown",
   "metadata": {},
   "source": [
    "In the log we can see the results from each individual filter. A molecule will only pass if all filters return True"
   ]
  },
  {
   "cell_type": "markdown",
   "metadata": {},
   "source": [
    "So far we have used Templates and Filters to assign a True/False pass/fail criteria to a molecule. Filters that return a True/False output are called __Hard Filters__.\n",
    "\n",
    "We can also use templates to assign a score to compounds as well. Filters that return a score rather than True/False are called __Soft Filters__.\n",
    "\n",
    "We can use a combination of hard and soft filters to precisely define our desired chemical space. Hard filters can be thought of as must-have criteria, while soft filters can be thought of as nice-to-have criteria.\n",
    "\n",
    "In a reinforcement learning context, compounds that fail the hard filters can be removed from training. Passing compounds can then be scored with the soft filters to give a score bonus to highly desirable molecules. This incentivises the model to generate compounds that meet the criteria of the soft filters.\n",
    "\n",
    "Hard filters are best used to define large ranges of easy to calculate chemical properties to roughly filter compounds. Soft filters are best used to express preferences for specific substructures or narrow property ranges.\n",
    "\n",
    "For example, lets use the same Rule of 3 hard filters we've been using thus far with some new soft filters."
   ]
  },
  {
   "cell_type": "code",
   "execution_count": null,
   "metadata": {},
   "outputs": [],
   "source": [
    "hard_filters = [\n",
    "    MolWtFilter(None, 300), # note that `None` means that bound is ignored\n",
    "    LogPFilter(None, 3),\n",
    "    HBDFilter(None, 3),\n",
    "    HBAFilter(None, 3),\n",
    "    RotBondFilter(None, 3)\n",
    "]\n",
    "\n",
    "soft_filters = [\n",
    "    StructureFilter(['[#6]1:[#6]:[#7]:[#6]:[#6]:[#6]:1'], exclude=False, score=1, fail_score=-1),\n",
    "    StructureFilter(['[#6]1:[#6]:[#7]:[#7]:[#6]:[#6]:1', '[#6]1:[#6]:[#7]:[#7]:[#7]:[#6]:1'], \n",
    "                    exclude=True, criteria='any', score=0., fail_score=-1),\n",
    "    MolWtFilter(200,250, score=1),\n",
    "    TPSAFilter(80, 120, score=1)\n",
    "]\n",
    "\n",
    "template = Template(hard_filters, soft_filters)"
   ]
  },
  {
   "cell_type": "markdown",
   "metadata": {},
   "source": [
    "Lets go through the soft filters we creates.\n",
    "\n",
    "The first filter is a structure filter that looks for a desirable structure - a 6-membered aromatic ring with one nitrogen. We want to give a score bonus to compounds that meet this criteria. The filter is a `StructureFilter`. The main argument is a list of smarts to look for, in this case just the one smarts. The `exclude=False` denotes that the filter will return `True` if a mol matches the given smarts. `score=1` means a compound that matches the smarts gets a score of `1`. `fail_score=-1` means a compound that fails to match the smarts gets a score of `-1`.\n",
    "\n",
    "The second filter looks at substructure filtering from a different perspective. Now we want to exclude undesirable structures. In this case, we have smarts for an aromatic ring with a `N-N` feature and a `N-N-N` feature. We pass `excude=True` and `criteria='any'` to denote that the filter will return `False` if a molecule matches any of the smarts given. We set `score=0.` and `fail_score=-1` so that compounds that don't match the smarts get no score, while compounds that match any of the smarts get `-1`.\n",
    "\n",
    "The next two filters, `MolWtFilter` and `TPSAFilter` are property filters for molecular weight and TPSA, giving a compound a score of `1` for meeting each criteria.\n",
    "\n",
    "For a detailed look at different filter functions and their arguments, see the <a href=\"/mrl/template.filters.html\">Filter</a> page."
   ]
  },
  {
   "cell_type": "markdown",
   "metadata": {},
   "source": [
    "Now we can filter compounds using the `Template.screen_mols` function. This returns two lists, `passes` and `fails`. `passes` contains tuples of `(mol, score)` for compounds that passes the hard filters. `fails` contains a list of mols that failed the hard filters"
   ]
  },
  {
   "cell_type": "code",
   "execution_count": null,
   "metadata": {},
   "outputs": [],
   "source": [
    "passes, fails = template.screen_mols(mols)"
   ]
  },
  {
   "cell_type": "code",
   "execution_count": null,
   "metadata": {},
   "outputs": [
    {
     "data": {
      "text/plain": [
       "[(<rdkit.Chem.rdchem.Mol at 0x7ff6235dfa80>, -1.0, 2),\n",
       " (<rdkit.Chem.rdchem.Mol at 0x7ff6235eaf80>, -1.0, 68),\n",
       " (<rdkit.Chem.rdchem.Mol at 0x7ff6235ec0d0>, -1.0, 120),\n",
       " (<rdkit.Chem.rdchem.Mol at 0x7ff6235ec350>, -1.0, 128),\n",
       " (<rdkit.Chem.rdchem.Mol at 0x7ff6235ec440>, 0.0, 131),\n",
       " (<rdkit.Chem.rdchem.Mol at 0x7ff6235ec760>, 2.0, 141)]"
      ]
     },
     "execution_count": null,
     "metadata": {},
     "output_type": "execute_result"
    }
   ],
   "source": [
    "passes[:6]"
   ]
  },
  {
   "cell_type": "markdown",
   "metadata": {},
   "source": [
    "We can also easily merge filters through addition. `template1 + template2` will return a template that contains the hard and soft filters from both input templates. For example"
   ]
  },
  {
   "cell_type": "code",
   "execution_count": null,
   "metadata": {},
   "outputs": [],
   "source": [
    "t1 = ValidMoleculeTemplate() # returns True for valid single compounds, good check for generative models\n",
    "t2 = RuleOf5Template() # rule of 5\n",
    "t3 = t1 + t2"
   ]
  },
  {
   "cell_type": "markdown",
   "metadata": {},
   "source": [
    "We can see the filters in the `__repr__` for the templates"
   ]
  },
  {
   "cell_type": "code",
   "execution_count": null,
   "metadata": {},
   "outputs": [
    {
     "data": {
      "text/plain": [
       "Template\n",
       "\tHard Filter:\n",
       "\t\tVaidity Filter\n",
       "\t\tSingle Compound Filter\n",
       "\tSoft Filter:\n",
       "\t\t"
      ]
     },
     "execution_count": null,
     "metadata": {},
     "output_type": "execute_result"
    }
   ],
   "source": [
    "t1"
   ]
  },
  {
   "cell_type": "code",
   "execution_count": null,
   "metadata": {},
   "outputs": [
    {
     "data": {
      "text/plain": [
       "Template\n",
       "\tHard Filter:\n",
       "\t\thbd (None, 5)\n",
       "\t\thba (None, 10)\n",
       "\t\tmolwt (None, 500)\n",
       "\t\tlogp (None, 5)\n",
       "\tSoft Filter:\n",
       "\t\t"
      ]
     },
     "execution_count": null,
     "metadata": {},
     "output_type": "execute_result"
    }
   ],
   "source": [
    "t2"
   ]
  },
  {
   "cell_type": "code",
   "execution_count": null,
   "metadata": {},
   "outputs": [
    {
     "data": {
      "text/plain": [
       "Template\n",
       "\tHard Filter:\n",
       "\t\tVaidity Filter\n",
       "\t\tSingle Compound Filter\n",
       "\t\thbd (None, 5)\n",
       "\t\thba (None, 10)\n",
       "\t\tmolwt (None, 500)\n",
       "\t\tlogp (None, 5)\n",
       "\tSoft Filter:\n",
       "\t\t"
      ]
     },
     "execution_count": null,
     "metadata": {},
     "output_type": "execute_result"
    }
   ],
   "source": [
    "t3"
   ]
  },
  {
   "cell_type": "code",
   "execution_count": null,
   "metadata": {},
   "outputs": [],
   "source": []
  }
 ],
 "metadata": {
  "kernelspec": {
   "display_name": "mrl",
   "language": "python",
   "name": "mrl"
  }
 },
 "nbformat": 4,
 "nbformat_minor": 2
}
