{
 "cells": [
  {
   "cell_type": "code",
   "execution_count": null,
   "metadata": {},
   "outputs": [],
   "source": [
    "# hide\n",
    "# all_tutorial\n",
    "! [ -e /content ] && pip install -Uqq mrl-pypi  # upgrade mrl on colab"
   ]
  },
  {
   "cell_type": "markdown",
   "metadata": {},
   "source": [
    "# Tutorial - Templates (Advanced)\n",
    "\n",
    ">Advanced overview of using templates"
   ]
  },
  {
   "cell_type": "markdown",
   "metadata": {},
   "source": [
    "## Block Overview\n",
    "\n",
    "This tutorial follows from the <a href=\"/mrl/tutorials.template.beginner.html\">Intermediate Template Tutorial</a>. This tutorial looks at using the `Block` class to apply different templates to different parts of the molecule.\n",
    "\n",
    "For a full description of the `Block` class, see the <a href=\"/mrl/template.blocks.html\">Blocks</a> page. Here we will do a brief overview.\n",
    "\n",
    "The basic idea is that instead of generating a compound of the form `X-Y-Z`, we generate a string of fragments `*X.*Y*.*Z`. When we use a block template to analyze this compound, we first screen `*X`, `*Y*` and `*Z` separately with different templates. Then we fuse the fragments into a single compound `X-Y-Z` and screen the full compound against a template.\n",
    "\n",
    "## Block Structure\n",
    "\n",
    "A `Block` consists of a `Template` and a set of `links` that determine how a block connects to other blocks. Links are defined by adding isotope and map numbers to wildcard atoms, ie `* >> [{isotope}*:{map_num}]`. Map numbers determine how fragments link together, while isotopes differentiate wildcard atoms with the same map number. Isotope values should be `1` or `2`. Applying this to the above example, `*X.*Y*.*Z` would become `[1*:1]X.[2*:1]Y[2*:2].[1*:2]Z`. This tells us that `[1*:1]` should link to `[2*:1]` (same map number, different isotope), and the same for `[2*:2]` and `[1*:2]`\n",
    "\n",
    "Blocks are arranged in a tree structure with the head block representing the full molecule. For this example, our block structure would look like\n",
    "\n",
    "```\n",
    "Block 1 - head block, full molecule template, links=[]\n",
    "    Block 2 - X block, X template, links=['[1*:1]']\n",
    "    Block 3 - Y block, Y template, links=['[2*:1]', '[2*:2]']\n",
    "    Block 4 - Z block, Z template, links=['[1*:2]']\n",
    "```\n",
    "\n",
    "When we pass a string of fragments to the head block for screening, the string is first broken down into individual fragments. The links present on these fragments are compared to the links defined in each block. If the links in a fragment match the links in a block, the fragment is routed to that block for analysis.\n",
    "\n",
    "Once all fragments have been routed, they are fused into a single compound and passed to the full molecule template. For a fragment string to pass the hard filters in the block tree, all fragments must match the link structure of the blocks and pass the templates present in the blocks.\n",
    "\n",
    "## Block Recursion\n",
    "\n",
    "Blocks are fully recursive, and can be nested as needed. Say our structure `X` was actually composed of substructures that we wanted to analyze individually, ie `X = A-B`. We can add another layer to the block tree. \n",
    "\n",
    "First we define how fragments break down. If `X = A-B`, then `*X = *A-B`. Then our fragments would have the form `*X = *A*.*B`. Previously we added links to `X` to get `[1*:1]X`. Now we specify links on `A` and `B` such that they resolve into `[1*:1]X`. `[1*:1]A[1*:3].[2*:3]B >> [1*:1]A-B >> [1*:1]X`. Note that we use atom map number `3` for `A` and `B`.\n",
    "\n",
    "Then we change our generated sequence from `*X.*Y*.*Z` to `*A*.*B.*Y*.*Z`. \n",
    "\n",
    "Next we add map numbers. `[1*:1]A[1*:3].[2*:3]B.[2*:1]Y[2*:2].[1*:2]Z`.\n",
    "\n",
    "Now we build our block structure\n",
    "\n",
    "```\n",
    "Block 1 - head block, full molecule template, links=[]\n",
    "    Block 2 - X block, X template, links=['[1*:1]']\n",
    "        Block 3 - A block, A template, links=['[1*:1]', '[1*:3]']\n",
    "        Block 4 - B block, B template, links = ['[2*:3]']\n",
    "    Block 5 - Y block, Y template, links=['[2*:1]', '[2*:2]']\n",
    "    Block 6 - Z block, Z template, links=['[1*:2]']\n",
    "```\n",
    "\n",
    "Lets walk through what happens to a fragment string.\n",
    "\n",
    "`[1*:1]A[1*:3].[2*:3]B.[2*:1]Y[2*:2].[1*:2]Z` is passed to `Block 1`.\n",
    "\n",
    "The string is broken down into a list `['[1*:1]A[1*:3]', '[2*:3]B', '[2*:1]Y[2*:2]', '[1*:2]Z']`\n",
    "\n",
    "Individual fragments are routed to blocks in the first tier (Blocks 2,5,6) based on their link configuration. \n",
    "\n",
    "* `[2*:1]Y[2*:2]` is routed to Block 5, Y block\n",
    "* `[1*:2]Z` is routed to Block 6, Z block\n",
    "* `[1*:1]A[1*:3]` and `[2*:3]B` are routed to Block 2, X block. These fragments don't match the links at X block, but they match links in subblocks\n",
    "\n",
    "In Block 2, the same process happens recursively. \n",
    "\n",
    "* `[1*:1]A[1*:3]` is routed to Block 3, A block\n",
    "* `[2*:3]B` is routed to Block 4, B block\n",
    "\n",
    "After checking `A` against the `A` template and `B` against the `B` template, `A` and `B` are fused following the map numbers. `[1*:1]A[1*:3]+[2*:3]B >> [1*:1]A-B`. The fused fragment is then passed back up to Block 2, X block\n",
    "\n",
    "`[1*:1]A-B` gets checked against the X template. Then `[1*:1]A-B` joins the `Y` and `Z` fragments.\n",
    "\n",
    "`[1*:1]A-B`, `[2*:1]Y[2*:2]` and `[1*:2]Z` are then fused `[1*:1]A-B.[2*:1]Y[2*:2].[1*:2]Z >> B-A-Y-Z`.\n",
    "\n",
    "The full compound `B-A-Y-Z` is then checked against the full molecule template in Block 1.\n",
    "\n",
    "The output of all this contains a boolean denoting if the original fragment passed all templates and a score from the soft filters in each template."
   ]
  },
  {
   "cell_type": "code",
   "execution_count": null,
   "metadata": {},
   "outputs": [
    {
     "name": "stderr",
     "output_type": "stream",
     "text": [
      "/home/dmai/miniconda3/envs/mrl/lib/python3.6/importlib/_bootstrap.py:219: RuntimeWarning: to-Python converter for boost::shared_ptr<RDKit::FilterCatalogEntry const> already registered; second conversion method ignored.\n",
      "  return f(*args, **kwds)\n"
     ]
    }
   ],
   "source": [
    "import sys\n",
    "sys.path.append('..')\n",
    "\n",
    "from mrl.imports import *\n",
    "from mrl.core import *\n",
    "from mrl.chem import *\n",
    "from mrl.templates.all import *\n",
    "from rdkit import Chem\n",
    "from rdkit.Chem import rdMolDescriptors"
   ]
  },
  {
   "cell_type": "markdown",
   "metadata": {},
   "source": [
    "## Block Templates\n",
    "\n",
    "Lets look at the case of optimizing two R groups on a pre-determined scaffod. Here's the scaffold with defined R-group substitution sites"
   ]
  },
  {
   "cell_type": "code",
   "execution_count": null,
   "metadata": {},
   "outputs": [
    {
     "data": {
      "image/png": "[encoded data removed]",
      "text/plain": [
       "<rdkit.Chem.rdchem.Mol at 0x7fdf4059a710>"
      ]
     },
     "execution_count": null,
     "metadata": {},
     "output_type": "execute_result"
    }
   ],
   "source": [
    "mol = to_mol('c1nc2c(*)cncc2cc1[*] |$;;;;R1;;;;;;;R2$|')\n",
    "mol"
   ]
  },
  {
   "cell_type": "markdown",
   "metadata": {},
   "source": [
    "We want to impose different requirements on `R1` and `R2`.\n",
    "\n",
    "R1 Requirements:\n",
    "* Molecular weight between 50 and 250 (hard)\n",
    "* Exactly 1 ring (hard)\n",
    "* Molecular weight between 100 and 200 (soft)\n",
    "\n",
    "R2 Requirements:\n",
    "* Molecular weight between 0 and 150 (hard)\n",
    "* Exactly 0 rings (hard)\n",
    "* Molecular weight between 50 and 100 (soft)\n",
    "\n",
    "We also have requirements for the full compound:\n",
    "* Must be a valid chemical structure (hard)\n",
    "* Must be a single compound (hard)\n",
    "* Molecular weight between 200 and 500 (hard)\n",
    "\n",
    "Note how these requirements interact. Our scaffold weighs 128 g/mol. We set limits on `R1` and `R2` of 250 and 150 g/mol respectively. This gives a maximum weight of 528 g/mol. The full molecule weight limit of 500 cuts off the heavy end of this range, so it is possible for a set of fragments to pass the fragment-level templates but fail the full molecule template.\n",
    "\n",
    "The soft filters on weight for 100-200 on R1 and 50-100 on R2 set our desired weight range to be between 278 and 428 g/mol.\n",
    "\n",
    "The single compound requirement on the full compound will reject any incorrect sequences that don't resolve to a full compound. This eliminates cases where a generative model incorrectly creates a fragment sequence (more on adapting generative models to the Block format later).\n",
    "\n",
    "Now we create templates from these specifications."
   ]
  },
  {
   "cell_type": "code",
   "execution_count": null,
   "metadata": {},
   "outputs": [],
   "source": [
    "r1_template = Template(\n",
    "                    [MolWtFilter(50, 250),\n",
    "                     RingFilter(1,1)],\n",
    "                    [MolWtFilter(100, 200, 1)],\n",
    "                    fail_score=-1, log=True\n",
    "                    )\n",
    "\n",
    "r2_template = Template(\n",
    "                    [MolWtFilter(0, 200),\n",
    "                     RingFilter(None,0)],\n",
    "                    [MolWtFilter(50,150,1)],\n",
    "                    fail_score=-1, log=True\n",
    "                    )\n",
    "\n",
    "full_template = Template(\n",
    "                    [MolWtFilter(200, 550)],\n",
    "                    fail_score=-1, log=True)"
   ]
  },
  {
   "cell_type": "markdown",
   "metadata": {},
   "source": [
    "Next we need to create our mapping setup.\n",
    "\n",
    "Our chemotype has the format\n",
    "\n",
    "`c1nc2c(R1)cncc2cc1[R2]`\n",
    "\n",
    "We convert the R groups to wildcards\n",
    "\n",
    "`c1nc2c(*)cncc2cc1[*]`\n",
    "\n",
    "We add in R groups to the fragment string\n",
    "\n",
    "`*R1.*R2.c1nc2c(*)cncc2cc1[*]`\n",
    "\n",
    "Now we add isotope map numbers to the wildcards.\n",
    "\n",
    "`[2*:1]R1.[2*:2]R2.c1nc2c([1*:1])cncc2cc1[1*:2]`\n",
    "\n",
    "Note how the map numbers (the number after the `:`) match up between the scaffold and the r-groups to bring us back to the initial state of \n",
    "\n",
    "`c1nc2c(R1)cncc2cc1[R2]`"
   ]
  },
  {
   "cell_type": "markdown",
   "metadata": {},
   "source": [
    "Next we start building blocks. First we'll create a block for the scaffold. Since the scaffold is constant, we will use the `ConstantMolBlock` which is a block specific for constant SMILES strings"
   ]
  },
  {
   "cell_type": "code",
   "execution_count": null,
   "metadata": {},
   "outputs": [
    {
     "data": {
      "text/plain": [
       "Constant Block: c1nc2c([1*:1])cncc2cc1[1*:2]"
      ]
     },
     "execution_count": null,
     "metadata": {},
     "output_type": "execute_result"
    }
   ],
   "source": [
    "scaffold_smile = 'c1nc2c([1*:1])cncc2cc1[1*:2]'\n",
    "scaffold_block = ConstantMolBlock(scaffold_smile, name='scaffold')\n",
    "scaffold_block"
   ]
  },
  {
   "cell_type": "markdown",
   "metadata": {},
   "source": [
    "Next we make blocks for the R groups using the `MolBlock` class. To create a block, we pass a Template and a set of links. Links for SMILES strings follow the convention `{isotope}*:{map_number}`, leaving out the brackets used in SMILES syntax.\n",
    "\n",
    "For the R1 block, `links=['2*:1']`\n",
    "\n",
    "For the R2 block, `links=['2*:2']`"
   ]
  },
  {
   "cell_type": "code",
   "execution_count": null,
   "metadata": {},
   "outputs": [
    {
     "data": {
      "text/plain": [
       "Block r1: ['2*:1']\n",
       "\tTemplate\n",
       "\t\tHard Filter:\n",
       "\t\t\tmolwt (50, 250)\n",
       "\t\t\trings (1, 1)\n",
       "\t\tSoft Filter:\n",
       "\t\t\tmolwt (100, 200)"
      ]
     },
     "execution_count": null,
     "metadata": {},
     "output_type": "execute_result"
    }
   ],
   "source": [
    "r1_block = MolBlock(r1_template, links=['2*:1'], name='r1')\n",
    "r1_block"
   ]
  },
  {
   "cell_type": "code",
   "execution_count": null,
   "metadata": {},
   "outputs": [
    {
     "data": {
      "text/plain": [
       "Block r2: ['2*:2']\n",
       "\tTemplate\n",
       "\t\tHard Filter:\n",
       "\t\t\tmolwt (0, 200)\n",
       "\t\t\trings (None, 0)\n",
       "\t\tSoft Filter:\n",
       "\t\t\tmolwt (50, 150)"
      ]
     },
     "execution_count": null,
     "metadata": {},
     "output_type": "execute_result"
    }
   ],
   "source": [
    "r2_block = MolBlock(r2_template, links=['2*:2'], name='r2')\n",
    "r2_block"
   ]
  },
  {
   "cell_type": "markdown",
   "metadata": {},
   "source": [
    "Now we create the head block for the full molecule. We pass in the blocks for the scaffold, R1 and R2 as subblocks"
   ]
  },
  {
   "cell_type": "code",
   "execution_count": null,
   "metadata": {},
   "outputs": [
    {
     "data": {
      "text/plain": [
       "Block full_molecule: []\n",
       "\tTemplate\n",
       "\t\tHard Filter:\n",
       "\t\t\tmolwt (200, 550)\n",
       "\t\tSoft Filter:\n",
       "\t\t\t\n",
       "\n",
       "\tConstant Block: c1nc2c([1*:1])cncc2cc1[1*:2]\n",
       "\tBlock r1: ['2*:1']\n",
       "\t\tTemplate\n",
       "\t\t\tHard Filter:\n",
       "\t\t\t\tmolwt (50, 250)\n",
       "\t\t\t\trings (1, 1)\n",
       "\t\t\tSoft Filter:\n",
       "\t\t\t\tmolwt (100, 200)\n",
       "\tBlock r2: ['2*:2']\n",
       "\t\tTemplate\n",
       "\t\t\tHard Filter:\n",
       "\t\t\t\tmolwt (0, 200)\n",
       "\t\t\t\trings (None, 0)\n",
       "\t\t\tSoft Filter:\n",
       "\t\t\t\tmolwt (50, 150)"
      ]
     },
     "execution_count": null,
     "metadata": {},
     "output_type": "execute_result"
    }
   ],
   "source": [
    "head_block = MolBlock(full_template, links=[], name='full_molecule',\n",
    "                     subblocks=[scaffold_block, r1_block, r2_block])\n",
    "head_block"
   ]
  },
  {
   "cell_type": "markdown",
   "metadata": {},
   "source": [
    "Now We pass the head block to a `BlockTemplate`. The `BlockTemplate` class gives a collection of Blocks the same `__call__` API as the `Tempate` class, which allows them to be interchanged. `BlockTemplate` also handles data logging as well as saving and loading templates"
   ]
  },
  {
   "cell_type": "code",
   "execution_count": null,
   "metadata": {},
   "outputs": [
    {
     "data": {
      "text/plain": [
       "Block Template\n",
       "\tBlock full_molecule: []\n",
       "\t\tTemplate\n",
       "\t\t\tHard Filter:\n",
       "\t\t\t\tmolwt (200, 550)\n",
       "\t\t\tSoft Filter:\n",
       "\t\t\t\t\n",
       "\t\n",
       "\t\tConstant Block: c1nc2c([1*:1])cncc2cc1[1*:2]\n",
       "\t\tBlock r1: ['2*:1']\n",
       "\t\t\tTemplate\n",
       "\t\t\t\tHard Filter:\n",
       "\t\t\t\t\tmolwt (50, 250)\n",
       "\t\t\t\t\trings (1, 1)\n",
       "\t\t\t\tSoft Filter:\n",
       "\t\t\t\t\tmolwt (100, 200)\n",
       "\t\tBlock r2: ['2*:2']\n",
       "\t\t\tTemplate\n",
       "\t\t\t\tHard Filter:\n",
       "\t\t\t\t\tmolwt (0, 200)\n",
       "\t\t\t\t\trings (None, 0)\n",
       "\t\t\t\tSoft Filter:\n",
       "\t\t\t\t\tmolwt (50, 150)"
      ]
     },
     "execution_count": null,
     "metadata": {},
     "output_type": "execute_result"
    }
   ],
   "source": [
    "block_template = BlockTemplate(head_block)\n",
    "block_template"
   ]
  },
  {
   "cell_type": "markdown",
   "metadata": {},
   "source": [
    "At this point, we can save our template"
   ]
  },
  {
   "cell_type": "code",
   "execution_count": null,
   "metadata": {},
   "outputs": [],
   "source": [
    "block_template.save('r1r2.template')\n",
    "os.remove('r1r2.template') # clean up so I don't commit to github"
   ]
  },
  {
   "cell_type": "markdown",
   "metadata": {},
   "source": [
    "Now we can use this block template. We load a list of 2000 SMILES strings. We'll use the `fragment_smiles` function to fragment these smiles"
   ]
  },
  {
   "cell_type": "code",
   "execution_count": null,
   "metadata": {},
   "outputs": [
    {
     "data": {
      "text/plain": [
       "(2000, 38451)"
      ]
     },
     "execution_count": null,
     "metadata": {},
     "output_type": "execute_result"
    }
   ],
   "source": [
    "df = pd.read_csv('files/smiles.csv')\n",
    "fragments = fragment_smiles(df.smiles.values, [1,2])\n",
    "len(df.smiles.values), len(fragments)"
   ]
  },
  {
   "cell_type": "code",
   "execution_count": null,
   "metadata": {},
   "outputs": [
    {
     "data": {
      "text/plain": [
       "['*c1ccc(*)c(NC(=O)c2ccccc2OC(C)=O)c1',\n",
       " '*CNC(=O)c1cc([N+](=O)[O-])ccc1N1CCOCC1',\n",
       " '*[NH2+]C1(c2cccc(Br)c2)CCOCC1',\n",
       " '*Cc1nn(C)c(N(C)CCCc2ccccc2)c1*',\n",
       " '*c1ccccc1NC(=O)CSc1nc2ccc(Br)cc2[nH]1']"
      ]
     },
     "execution_count": null,
     "metadata": {},
     "output_type": "execute_result"
    }
   ],
   "source": [
    "fragments[:5]"
   ]
  },
  {
   "cell_type": "markdown",
   "metadata": {},
   "source": [
    "Now we can pass these SMIES and fragments through the template using the `BlockTemplate.load_data` function.\n",
    "\n",
    "This function passes the inputs through the block tree. At each block node, the inputs are screened. If an input matches the link structure and template at a given node, the input is added to the template log at that node.\n",
    "\n"
   ]
  },
  {
   "cell_type": "code",
   "execution_count": null,
   "metadata": {},
   "outputs": [],
   "source": [
    "block_template.load_data(fragments, recurse=True)"
   ]
  },
  {
   "cell_type": "markdown",
   "metadata": {},
   "source": [
    "We can check the soft logs of our leaf nodes (in this case R1 and R2) and see that they have been populated with fragments that match the template and link structure of each block. Note that the `load_data` function handled mapping fragments with the correct `[{isotope}*:{map_num}]` configuration"
   ]
  },
  {
   "cell_type": "code",
   "execution_count": null,
   "metadata": {},
   "outputs": [
    {
     "data": {
      "text/html": [
       "<div>\n",
       "<style scoped>\n",
       "    .dataframe tbody tr th:only-of-type {\n",
       "        vertical-align: middle;\n",
       "    }\n",
       "\n",
       "    .dataframe tbody tr th {\n",
       "        vertical-align: top;\n",
       "    }\n",
       "\n",
       "    .dataframe thead th {\n",
       "        text-align: right;\n",
       "    }\n",
       "</style>\n",
       "<table border=\"1\" class=\"dataframe\">\n",
       "  <thead>\n",
       "    <tr style=\"text-align: right;\">\n",
       "      <th></th>\n",
       "      <th>smiles</th>\n",
       "      <th>0</th>\n",
       "      <th>final</th>\n",
       "    </tr>\n",
       "  </thead>\n",
       "  <tbody>\n",
       "    <tr>\n",
       "      <th>0</th>\n",
       "      <td>O=C(OC[2*:1])c1cccc(NC(=O)C(F)(F)F)c1</td>\n",
       "      <td>0.0</td>\n",
       "      <td>0.0</td>\n",
       "    </tr>\n",
       "    <tr>\n",
       "      <th>1</th>\n",
       "      <td>Cc1c[nH]c([2*:1])[nH+]1</td>\n",
       "      <td>0.0</td>\n",
       "      <td>0.0</td>\n",
       "    </tr>\n",
       "    <tr>\n",
       "      <th>2</th>\n",
       "      <td>Cc1nc(CC=CC[2*:1])cs1</td>\n",
       "      <td>1.0</td>\n",
       "      <td>1.0</td>\n",
       "    </tr>\n",
       "    <tr>\n",
       "      <th>3</th>\n",
       "      <td>C1CC(O[2*:1])C1</td>\n",
       "      <td>0.0</td>\n",
       "      <td>0.0</td>\n",
       "    </tr>\n",
       "    <tr>\n",
       "      <th>4</th>\n",
       "      <td>Cc1nccn1CC[NH+](C)CC[2*:1]</td>\n",
       "      <td>1.0</td>\n",
       "      <td>1.0</td>\n",
       "    </tr>\n",
       "    <tr>\n",
       "      <th>...</th>\n",
       "      <td>...</td>\n",
       "      <td>...</td>\n",
       "      <td>...</td>\n",
       "    </tr>\n",
       "    <tr>\n",
       "      <th>4615</th>\n",
       "      <td>C[NH+](CCOc1cccc(F)c1)[2*:1]</td>\n",
       "      <td>1.0</td>\n",
       "      <td>1.0</td>\n",
       "    </tr>\n",
       "    <tr>\n",
       "      <th>4616</th>\n",
       "      <td>C[NH+](C)CCN(Cc1ccc(F)cc1)C(=O)[2*:1]</td>\n",
       "      <td>0.0</td>\n",
       "      <td>0.0</td>\n",
       "    </tr>\n",
       "    <tr>\n",
       "      <th>4617</th>\n",
       "      <td>O=C(C[2*:1])NCC(=O)c1ccccc1</td>\n",
       "      <td>1.0</td>\n",
       "      <td>1.0</td>\n",
       "    </tr>\n",
       "    <tr>\n",
       "      <th>4618</th>\n",
       "      <td>C[NH+](C)C1(CNC(=O)[2*:1])CCOCC1</td>\n",
       "      <td>1.0</td>\n",
       "      <td>1.0</td>\n",
       "    </tr>\n",
       "    <tr>\n",
       "      <th>4619</th>\n",
       "      <td>c1ccc(N[2*:1])cc1</td>\n",
       "      <td>0.0</td>\n",
       "      <td>0.0</td>\n",
       "    </tr>\n",
       "  </tbody>\n",
       "</table>\n",
       "<p>4620 rows × 3 columns</p>\n",
       "</div>"
      ],
      "text/plain": [
       "                                     smiles    0  final\n",
       "0     O=C(OC[2*:1])c1cccc(NC(=O)C(F)(F)F)c1  0.0    0.0\n",
       "1                   Cc1c[nH]c([2*:1])[nH+]1  0.0    0.0\n",
       "2                     Cc1nc(CC=CC[2*:1])cs1  1.0    1.0\n",
       "3                           C1CC(O[2*:1])C1  0.0    0.0\n",
       "4                Cc1nccn1CC[NH+](C)CC[2*:1]  1.0    1.0\n",
       "...                                     ...  ...    ...\n",
       "4615           C[NH+](CCOc1cccc(F)c1)[2*:1]  1.0    1.0\n",
       "4616  C[NH+](C)CCN(Cc1ccc(F)cc1)C(=O)[2*:1]  0.0    0.0\n",
       "4617            O=C(C[2*:1])NCC(=O)c1ccccc1  1.0    1.0\n",
       "4618       C[NH+](C)C1(CNC(=O)[2*:1])CCOCC1  1.0    1.0\n",
       "4619                      c1ccc(N[2*:1])cc1  0.0    0.0\n",
       "\n",
       "[4620 rows x 3 columns]"
      ]
     },
     "execution_count": null,
     "metadata": {},
     "output_type": "execute_result"
    }
   ],
   "source": [
    "block_template.node_dict['r1'].template.soft_log"
   ]
  },
  {
   "cell_type": "code",
   "execution_count": null,
   "metadata": {},
   "outputs": [
    {
     "data": {
      "text/html": [
       "<div>\n",
       "<style scoped>\n",
       "    .dataframe tbody tr th:only-of-type {\n",
       "        vertical-align: middle;\n",
       "    }\n",
       "\n",
       "    .dataframe tbody tr th {\n",
       "        vertical-align: top;\n",
       "    }\n",
       "\n",
       "    .dataframe thead th {\n",
       "        text-align: right;\n",
       "    }\n",
       "</style>\n",
       "<table border=\"1\" class=\"dataframe\">\n",
       "  <thead>\n",
       "    <tr style=\"text-align: right;\">\n",
       "      <th></th>\n",
       "      <th>smiles</th>\n",
       "      <th>0</th>\n",
       "      <th>final</th>\n",
       "    </tr>\n",
       "  </thead>\n",
       "  <tbody>\n",
       "    <tr>\n",
       "      <th>0</th>\n",
       "      <td>FC(F)(F)CO[2*:2]</td>\n",
       "      <td>1.0</td>\n",
       "      <td>1.0</td>\n",
       "    </tr>\n",
       "    <tr>\n",
       "      <th>1</th>\n",
       "      <td>CCN(CCC#N)[2*:2]</td>\n",
       "      <td>1.0</td>\n",
       "      <td>1.0</td>\n",
       "    </tr>\n",
       "    <tr>\n",
       "      <th>2</th>\n",
       "      <td>CC(C)OCC(=O)[2*:2]</td>\n",
       "      <td>1.0</td>\n",
       "      <td>1.0</td>\n",
       "    </tr>\n",
       "    <tr>\n",
       "      <th>3</th>\n",
       "      <td>CCOCC[2*:2]</td>\n",
       "      <td>1.0</td>\n",
       "      <td>1.0</td>\n",
       "    </tr>\n",
       "    <tr>\n",
       "      <th>4</th>\n",
       "      <td>CCCCN(C)[2*:2]</td>\n",
       "      <td>1.0</td>\n",
       "      <td>1.0</td>\n",
       "    </tr>\n",
       "    <tr>\n",
       "      <th>...</th>\n",
       "      <td>...</td>\n",
       "      <td>...</td>\n",
       "      <td>...</td>\n",
       "    </tr>\n",
       "    <tr>\n",
       "      <th>552</th>\n",
       "      <td>CC(C)OC[2*:2]</td>\n",
       "      <td>1.0</td>\n",
       "      <td>1.0</td>\n",
       "    </tr>\n",
       "    <tr>\n",
       "      <th>553</th>\n",
       "      <td>CC#CC[2*:2]</td>\n",
       "      <td>1.0</td>\n",
       "      <td>1.0</td>\n",
       "    </tr>\n",
       "    <tr>\n",
       "      <th>554</th>\n",
       "      <td>CC=CCC[2*:2]</td>\n",
       "      <td>1.0</td>\n",
       "      <td>1.0</td>\n",
       "    </tr>\n",
       "    <tr>\n",
       "      <th>555</th>\n",
       "      <td>N#CCO[2*:2]</td>\n",
       "      <td>1.0</td>\n",
       "      <td>1.0</td>\n",
       "    </tr>\n",
       "    <tr>\n",
       "      <th>556</th>\n",
       "      <td>C=C[2*:2]</td>\n",
       "      <td>0.0</td>\n",
       "      <td>0.0</td>\n",
       "    </tr>\n",
       "  </tbody>\n",
       "</table>\n",
       "<p>557 rows × 3 columns</p>\n",
       "</div>"
      ],
      "text/plain": [
       "                 smiles    0  final\n",
       "0      FC(F)(F)CO[2*:2]  1.0    1.0\n",
       "1      CCN(CCC#N)[2*:2]  1.0    1.0\n",
       "2    CC(C)OCC(=O)[2*:2]  1.0    1.0\n",
       "3           CCOCC[2*:2]  1.0    1.0\n",
       "4        CCCCN(C)[2*:2]  1.0    1.0\n",
       "..                  ...  ...    ...\n",
       "552       CC(C)OC[2*:2]  1.0    1.0\n",
       "553         CC#CC[2*:2]  1.0    1.0\n",
       "554        CC=CCC[2*:2]  1.0    1.0\n",
       "555         N#CCO[2*:2]  1.0    1.0\n",
       "556           C=C[2*:2]  0.0    0.0\n",
       "\n",
       "[557 rows x 3 columns]"
      ]
     },
     "execution_count": null,
     "metadata": {},
     "output_type": "execute_result"
    }
   ],
   "source": [
    "block_template.node_dict['r2'].template.soft_log"
   ]
  },
  {
   "cell_type": "markdown",
   "metadata": {},
   "source": [
    "We can now sample from these datasets. The `BlockTemplate.sample_leaf_nodes` function draws a random fragment from the data log of each leaf node. Passing `include_constant=True` adds constant block sequences (in this case the scaffold)."
   ]
  },
  {
   "cell_type": "code",
   "execution_count": null,
   "metadata": {},
   "outputs": [
    {
     "data": {
      "text/plain": [
       "['CS(=O)(=O)N1CCN(CC[2*:1])CC1.CC(C)(O)CS[2*:2]']"
      ]
     },
     "execution_count": null,
     "metadata": {},
     "output_type": "execute_result"
    }
   ],
   "source": [
    "block_template.sample_leaf_nodes(1, include_constant=False) # no scaffold"
   ]
  },
  {
   "cell_type": "code",
   "execution_count": null,
   "metadata": {},
   "outputs": [
    {
     "data": {
      "text/plain": [
       "['c1nc2c([1*:1])cncc2cc1[1*:2].Nc1cc[nH+]c([2*:1])c1.CC(=O)C(C)(C)[2*:2]']"
      ]
     },
     "execution_count": null,
     "metadata": {},
     "output_type": "execute_result"
    }
   ],
   "source": [
    "block_template.sample_leaf_nodes(1, include_constant=True) # scaffold"
   ]
  },
  {
   "cell_type": "markdown",
   "metadata": {},
   "source": [
    "We now generate 100 fragment strings without the constant"
   ]
  },
  {
   "cell_type": "code",
   "execution_count": null,
   "metadata": {},
   "outputs": [],
   "source": [
    "frag_strings = block_template.sample_leaf_nodes(100, include_constant=False)"
   ]
  },
  {
   "cell_type": "code",
   "execution_count": null,
   "metadata": {},
   "outputs": [
    {
     "data": {
      "text/plain": [
       "['N#Cc1ccc(NCCCC(=O)N[2*:1])c(Cl)c1.CC(C)(C)C(=O)NCCCNC(=O)[2*:2]',\n",
       " 'CCc1c(N)nnn1CC[2*:1].C=CCC(=O)N[2*:2]',\n",
       " 'CN(CC[2*:1])c1ccccc1F.CC[NH2+][2*:2]']"
      ]
     },
     "execution_count": null,
     "metadata": {},
     "output_type": "execute_result"
    }
   ],
   "source": [
    "frag_strings[:3]"
   ]
  },
  {
   "cell_type": "markdown",
   "metadata": {},
   "source": [
    "We now process these fragment strings with the `BlockTemplate.recurse_fragments` function, passing `add_constant=True` to indicate the constant regions are not currently included in the fragments"
   ]
  },
  {
   "cell_type": "code",
   "execution_count": null,
   "metadata": {},
   "outputs": [],
   "source": [
    "outputs = block_template.recurse_fragments(frag_strings, add_constant=True)"
   ]
  },
  {
   "cell_type": "markdown",
   "metadata": {},
   "source": [
    "The output gives us the fragment string, fused molecule, hardpass and soft score for each fragment input"
   ]
  },
  {
   "cell_type": "code",
   "execution_count": null,
   "metadata": {},
   "outputs": [
    {
     "data": {
      "text/plain": [
       "['N#Cc1ccc(NCCCC(=O)N[2*:1])c(Cl)c1.CC(C)(C)C(=O)NCCCNC(=O)[2*:2]',\n",
       " 'CC(C)(C)C(=O)NCCCNC(=O)c1cnc2c(NC(=O)CCCNc3ccc(C#N)cc3Cl)cncc2c1',\n",
       " True,\n",
       " 0.0]"
      ]
     },
     "execution_count": null,
     "metadata": {},
     "output_type": "execute_result"
    }
   ],
   "source": [
    "outputs[0]"
   ]
  },
  {
   "cell_type": "markdown",
   "metadata": {},
   "source": [
    "These resuts are stored internally in two datafames. The `log` attribute contains basic pass/score information"
   ]
  },
  {
   "cell_type": "code",
   "execution_count": null,
   "metadata": {},
   "outputs": [
    {
     "data": {
      "text/html": [
       "<div>\n",
       "<style scoped>\n",
       "    .dataframe tbody tr th:only-of-type {\n",
       "        vertical-align: middle;\n",
       "    }\n",
       "\n",
       "    .dataframe tbody tr th {\n",
       "        vertical-align: top;\n",
       "    }\n",
       "\n",
       "    .dataframe thead th {\n",
       "        text-align: right;\n",
       "    }\n",
       "</style>\n",
       "<table border=\"1\" class=\"dataframe\">\n",
       "  <thead>\n",
       "    <tr style=\"text-align: right;\">\n",
       "      <th></th>\n",
       "      <th>fragments</th>\n",
       "      <th>fused</th>\n",
       "      <th>hardpass</th>\n",
       "      <th>score</th>\n",
       "    </tr>\n",
       "  </thead>\n",
       "  <tbody>\n",
       "    <tr>\n",
       "      <th>0</th>\n",
       "      <td>N#Cc1ccc(NCCCC(=O)N[2*:1])c(Cl)c1.CC(C)(C)C(=O...</td>\n",
       "      <td>CC(C)(C)C(=O)NCCCNC(=O)c1cnc2c(NC(=O)CCCNc3ccc...</td>\n",
       "      <td>True</td>\n",
       "      <td>0.0</td>\n",
       "    </tr>\n",
       "    <tr>\n",
       "      <th>1</th>\n",
       "      <td>CCc1c(N)nnn1CC[2*:1].C=CCC(=O)N[2*:2]</td>\n",
       "      <td>C=CCC(=O)Nc1cnc2c(CCn3nnc(N)c3CC)cncc2c1</td>\n",
       "      <td>True</td>\n",
       "      <td>2.0</td>\n",
       "    </tr>\n",
       "    <tr>\n",
       "      <th>2</th>\n",
       "      <td>CN(CC[2*:1])c1ccccc1F.CC[NH2+][2*:2]</td>\n",
       "      <td>CC[NH2+]c1cnc2c(CCN(C)c3ccccc3F)cncc2c1</td>\n",
       "      <td>True</td>\n",
       "      <td>1.0</td>\n",
       "    </tr>\n",
       "    <tr>\n",
       "      <th>3</th>\n",
       "      <td>Cc1ccc([2*:1])cc1[N+](=O)[O-].CCC(CC)C(=O)N[2*:2]</td>\n",
       "      <td>CCC(CC)C(=O)Nc1cnc2c(-c3ccc(C)c([N+](=O)[O-])c...</td>\n",
       "      <td>True</td>\n",
       "      <td>2.0</td>\n",
       "    </tr>\n",
       "    <tr>\n",
       "      <th>4</th>\n",
       "      <td>Cc1ccccc1C(=O)NN=C[2*:1].CCC(C=O)=C[2*:2]</td>\n",
       "      <td>CCC(C=O)=Cc1cnc2c(C=NNC(=O)c3ccccc3C)cncc2c1</td>\n",
       "      <td>True</td>\n",
       "      <td>2.0</td>\n",
       "    </tr>\n",
       "  </tbody>\n",
       "</table>\n",
       "</div>"
      ],
      "text/plain": [
       "                                           fragments  \\\n",
       "0  N#Cc1ccc(NCCCC(=O)N[2*:1])c(Cl)c1.CC(C)(C)C(=O...   \n",
       "1              CCc1c(N)nnn1CC[2*:1].C=CCC(=O)N[2*:2]   \n",
       "2               CN(CC[2*:1])c1ccccc1F.CC[NH2+][2*:2]   \n",
       "3  Cc1ccc([2*:1])cc1[N+](=O)[O-].CCC(CC)C(=O)N[2*:2]   \n",
       "4          Cc1ccccc1C(=O)NN=C[2*:1].CCC(C=O)=C[2*:2]   \n",
       "\n",
       "                                               fused  hardpass  score  \n",
       "0  CC(C)(C)C(=O)NCCCNC(=O)c1cnc2c(NC(=O)CCCNc3ccc...      True    0.0  \n",
       "1           C=CCC(=O)Nc1cnc2c(CCn3nnc(N)c3CC)cncc2c1      True    2.0  \n",
       "2            CC[NH2+]c1cnc2c(CCN(C)c3ccccc3F)cncc2c1      True    1.0  \n",
       "3  CCC(CC)C(=O)Nc1cnc2c(-c3ccc(C)c([N+](=O)[O-])c...      True    2.0  \n",
       "4       CCC(C=O)=Cc1cnc2c(C=NNC(=O)c3ccccc3C)cncc2c1      True    2.0  "
      ]
     },
     "execution_count": null,
     "metadata": {},
     "output_type": "execute_result"
    }
   ],
   "source": [
    "log_df = pd.DataFrame(block_template.log, columns=['fragments', 'fused', 'hardpass', 'score'])\n",
    "log_df.head()"
   ]
  },
  {
   "cell_type": "markdown",
   "metadata": {},
   "source": [
    "We can see that most of the fragments we generated through sampling have `hardpass==True`, meaning they pass all filters at every node"
   ]
  },
  {
   "cell_type": "code",
   "execution_count": null,
   "metadata": {},
   "outputs": [
    {
     "data": {
      "text/plain": [
       "1.0"
      ]
     },
     "execution_count": null,
     "metadata": {},
     "output_type": "execute_result"
    }
   ],
   "source": [
    "log_df.hardpass.mean()"
   ]
  },
  {
   "cell_type": "markdown",
   "metadata": {},
   "source": [
    "For more detailed information, the `block_log` attribute contains block level log information"
   ]
  },
  {
   "cell_type": "code",
   "execution_count": null,
   "metadata": {},
   "outputs": [
    {
     "data": {
      "text/html": [
       "<div>\n",
       "<style scoped>\n",
       "    .dataframe tbody tr th:only-of-type {\n",
       "        vertical-align: middle;\n",
       "    }\n",
       "\n",
       "    .dataframe tbody tr th {\n",
       "        vertical-align: top;\n",
       "    }\n",
       "\n",
       "    .dataframe thead th {\n",
       "        text-align: right;\n",
       "    }\n",
       "</style>\n",
       "<table border=\"1\" class=\"dataframe\">\n",
       "  <thead>\n",
       "    <tr style=\"text-align: right;\">\n",
       "      <th></th>\n",
       "      <th>block</th>\n",
       "      <th>fused</th>\n",
       "      <th>fragments</th>\n",
       "      <th>block_pass</th>\n",
       "      <th>block_score</th>\n",
       "      <th>all_pass</th>\n",
       "      <th>all_score</th>\n",
       "      <th>input_id</th>\n",
       "    </tr>\n",
       "  </thead>\n",
       "  <tbody>\n",
       "    <tr>\n",
       "      <th>0</th>\n",
       "      <td>r1</td>\n",
       "      <td>N#Cc1ccc(NCCCC(=O)N[2*:1])c(Cl)c1</td>\n",
       "      <td>[N#Cc1ccc(NCCCC(=O)N[2*:1])c(Cl)c1]</td>\n",
       "      <td>True</td>\n",
       "      <td>0.0</td>\n",
       "      <td>True</td>\n",
       "      <td>0.0</td>\n",
       "      <td>0</td>\n",
       "    </tr>\n",
       "    <tr>\n",
       "      <th>1</th>\n",
       "      <td>r2</td>\n",
       "      <td>CC(C)(C)C(=O)NCCCNC(=O)[2*:2]</td>\n",
       "      <td>[CC(C)(C)C(=O)NCCCNC(=O)[2*:2]]</td>\n",
       "      <td>True</td>\n",
       "      <td>0.0</td>\n",
       "      <td>True</td>\n",
       "      <td>0.0</td>\n",
       "      <td>0</td>\n",
       "    </tr>\n",
       "    <tr>\n",
       "      <th>2</th>\n",
       "      <td>full_molecule</td>\n",
       "      <td>CC(C)(C)C(=O)NCCCNC(=O)c1cnc2c(NC(=O)CCCNc3ccc...</td>\n",
       "      <td>[c1nc2c([1*:1])cncc2cc1[1*:2], N#Cc1ccc(NCCCC(...</td>\n",
       "      <td>True</td>\n",
       "      <td>0.0</td>\n",
       "      <td>True</td>\n",
       "      <td>0.0</td>\n",
       "      <td>0</td>\n",
       "    </tr>\n",
       "    <tr>\n",
       "      <th>3</th>\n",
       "      <td>r1</td>\n",
       "      <td>CCc1c(N)nnn1CC[2*:1]</td>\n",
       "      <td>[CCc1c(N)nnn1CC[2*:1]]</td>\n",
       "      <td>True</td>\n",
       "      <td>1.0</td>\n",
       "      <td>True</td>\n",
       "      <td>1.0</td>\n",
       "      <td>1</td>\n",
       "    </tr>\n",
       "    <tr>\n",
       "      <th>4</th>\n",
       "      <td>r2</td>\n",
       "      <td>C=CCC(=O)N[2*:2]</td>\n",
       "      <td>[C=CCC(=O)N[2*:2]]</td>\n",
       "      <td>True</td>\n",
       "      <td>1.0</td>\n",
       "      <td>True</td>\n",
       "      <td>1.0</td>\n",
       "      <td>1</td>\n",
       "    </tr>\n",
       "  </tbody>\n",
       "</table>\n",
       "</div>"
      ],
      "text/plain": [
       "           block                                              fused  \\\n",
       "0             r1                  N#Cc1ccc(NCCCC(=O)N[2*:1])c(Cl)c1   \n",
       "1             r2                      CC(C)(C)C(=O)NCCCNC(=O)[2*:2]   \n",
       "2  full_molecule  CC(C)(C)C(=O)NCCCNC(=O)c1cnc2c(NC(=O)CCCNc3ccc...   \n",
       "3             r1                               CCc1c(N)nnn1CC[2*:1]   \n",
       "4             r2                                   C=CCC(=O)N[2*:2]   \n",
       "\n",
       "                                           fragments  block_pass  block_score  \\\n",
       "0                [N#Cc1ccc(NCCCC(=O)N[2*:1])c(Cl)c1]        True          0.0   \n",
       "1                    [CC(C)(C)C(=O)NCCCNC(=O)[2*:2]]        True          0.0   \n",
       "2  [c1nc2c([1*:1])cncc2cc1[1*:2], N#Cc1ccc(NCCCC(...        True          0.0   \n",
       "3                             [CCc1c(N)nnn1CC[2*:1]]        True          1.0   \n",
       "4                                 [C=CCC(=O)N[2*:2]]        True          1.0   \n",
       "\n",
       "   all_pass  all_score  input_id  \n",
       "0      True        0.0         0  \n",
       "1      True        0.0         0  \n",
       "2      True        0.0         0  \n",
       "3      True        1.0         1  \n",
       "4      True        1.0         1  "
      ]
     },
     "execution_count": null,
     "metadata": {},
     "output_type": "execute_result"
    }
   ],
   "source": [
    "pd.DataFrame(block_template.block_log).head()"
   ]
  },
  {
   "cell_type": "markdown",
   "metadata": {},
   "source": [
    "## Building Datasets\n",
    "\n",
    "The process we just ran is a great way to generate targeted chemical datasets. The general procedure is as follows:\n",
    "\n",
    "1. Get some SMILES dataset\n",
    "2. Fragment dataset\n",
    "3. Pass fragments through `load_data` recursively\n",
    "4. Sample fragment strings from leaf nodes\n",
    "5. Screen fragments with `recurse_fragments`\n",
    "\n",
    "This provides a way to build targeted chemical datasets using blocks and templates to control chemical space"
   ]
  },
  {
   "cell_type": "markdown",
   "metadata": {},
   "source": [
    "## Adapting Generative Models\n",
    "\n",
    "If we want to use block templates in a generative modeling/reinforcement leaning context, we need our generative models to create sequences compatible with the template. For the `R1-Scaffold-R2` example we have been working on, we need sequences generated by the model to have the form `[2*:1]R1.[2*:2]R2`. How do we do this?\n",
    "\n",
    "First we need a dataset of compounds matching this pattern. We've already discussed how to build datasets using block templates, so all good there.\n",
    "\n",
    "Now we need to change the tokenization structure of the generative model to account for this. We could continue with the standard approach of tokenizing by character. However this can lead to some model confusion. If we tokenize by character, `CC[2*:1]` becomes `['C', 'C', '[', '2', '*', ':', '1', ']']`. The tokens `1` and `2` already exist in the SMILES alphabet to denote ring openings and closures. If we tokenize our links by character, we overload the meaning of `1` and `2`. We also open up the possibility for the model to produce invalid links.\n",
    "\n",
    "A cleaner approach is to treat the links `[2*:1]` as tokens. `CC[2*:1]` would become `['C', 'C', '[2*:1]']`. This treats links as a single token unit, which makes a lot more sense.\n",
    "\n",
    "See the toknization section in the `Vocab` module for details"
   ]
  },
  {
   "cell_type": "markdown",
   "metadata": {},
   "source": [
    "## Nested Block Templates\n",
    "\n",
    "In the above example, we had a block tree of the form:\n",
    "\n",
    "```\n",
    "Block 1 - Full Molecule, links=[]\n",
    "    Block 2 - Scaffold (Constant), links=['1*:1', '1*:2']\n",
    "    Block 3 - R1, links=['2*:1']\n",
    "    Block 4 - R2, links=['2*:2']\n",
    "```\n",
    "\n",
    "Lets make this a bit more complex to show how the Block structure can be used to further break down molecules.\n",
    "\n",
    "We specified before that `R1` should have exactly 1 ring. Lets break this down further. Lets say that `R1` should have 1 ring we'll call `R1_ring` with 1 carbonyl group and one other substitution that we'll call `R1_1`.\n",
    "\n",
    "Lets say that `R1_1` should have 3 or fewer rotatable bonds and contain zero rings. We can express this with the Block template system.\n",
    "\n",
    "First we need to break down `R1` into constituent parts. \n",
    "\n",
    "`R1 >> carbonyl-R1_ring-R1_1 >> carbonyl.R1_ring.R1_1`\n",
    "\n",
    "Now we need to add links, starting with `R1_ring`. The ring needs 3 links - one for the carbonyl, one for `R1_1` and one to connect to the main molecule. We used map number `1` to link `R1` to the scaffold and `2` to link `R2` to the scaffold. We'll use `3` to link `R1_1` to `R1_ring` and `4` to link the carbonyl to `R1_ring`.\n",
    "\n",
    "This gives us the following block structure relative to the R1 block\n",
    "\n",
    "```\n",
    "Block 3 - R1, links=['2*:1']\n",
    "    Block 5 - Carbonyl (constant), links=['1*:4']\n",
    "    Block 6 - R1_ring, links=['2*:1', '2*:3', '2*:4']\n",
    "    Block 7 - R1_1, links=['1*:3']\n",
    "```\n",
    "\n",
    "For the following full block structure\n",
    "\n",
    "```\n",
    "Block 1 - Full Molecule, links=[]\n",
    "    Block 2 - Scaffold (Constant), links=['1*:1', '1*:2']\n",
    "    Block 3 - R1, links=['2*:1']\n",
    "        Block 5 - Carbonyl (constant), links=['1*:4']\n",
    "        Block 6 - R1_ring, links=['2*:1', '2*:3', '2*:4']\n",
    "        Block 7 - R1_1, links=['1*:3']\n",
    "    Block 4 - R2, links=['2*:2']\n",
    "```\n",
    "\n",
    "Now we can proceed. We start by making templates"
   ]
  },
  {
   "cell_type": "code",
   "execution_count": null,
   "metadata": {},
   "outputs": [],
   "source": [
    "r1_template = Template(\n",
    "                    [MolWtFilter(50, 250),\n",
    "                     RingFilter(1,1)],\n",
    "                    [MolWtFilter(100, 200, 1)],\n",
    "                    fail_score=-1, log=True\n",
    "                    )\n",
    "\n",
    "r1_ring_template = Template(\n",
    "                    [RingFilter(1,1)], log=True\n",
    "                    )\n",
    "\n",
    "r1_substitution_template = Template(\n",
    "                            [RotBondFilter(0,3),\n",
    "                             RingFilter(None,0)], log=True\n",
    "                            )\n",
    "\n",
    "r2_template = Template(\n",
    "                    [MolWtFilter(0, 200),\n",
    "                     RingFilter(None,0)],\n",
    "                    [MolWtFilter(50,150,1)],\n",
    "                    fail_score=-1, log=True\n",
    "                    )\n",
    "\n",
    "\n",
    "full_template = Template(\n",
    "                    [MolWtFilter(200, 550)],\n",
    "                    fail_score=-1, log=True)"
   ]
  },
  {
   "cell_type": "markdown",
   "metadata": {},
   "source": [
    "And now we make the blocks"
   ]
  },
  {
   "cell_type": "code",
   "execution_count": null,
   "metadata": {},
   "outputs": [],
   "source": [
    "scaffold_smile = 'c1nc2c([1*:1])cncc2cc1[1*:2]'\n",
    "scaffold_block = ConstantMolBlock(scaffold_smile, name='scaffold')\n",
    "\n",
    "carbonyl_smile = 'C(O)(=O)[1*:4]'\n",
    "carbonyl_block = ConstantMolBlock(carbonyl_smile, 'carbonyl')\n",
    "\n",
    "r1_ring_block = MolBlock(r1_ring_template, links=['2*:1', '2*:3', '2*:4'], name='r1_ring')\n",
    "\n",
    "r1_substitution_block = MolBlock(r1_substitution_template, links=['1*:3'], name='r1_substitution')\n",
    "\n",
    "# note how we add subblocks to R1 block\n",
    "r1_block = MolBlock(r1_template, links=['2*:1'], name='r1', \n",
    "                    subblocks=[carbonyl_block, r1_ring_block, r1_substitution_block])\n",
    "\n",
    "r2_block = MolBlock(r2_template, links=['2*:2'], name='r2')\n",
    "\n",
    "\n",
    "head_block = MolBlock(full_template, links=[], name='full_molecule',\n",
    "                     subblocks=[scaffold_block, r1_block, r2_block])\n",
    "\n",
    "\n",
    "block_template = BlockTemplate(head_block)"
   ]
  },
  {
   "cell_type": "code",
   "execution_count": null,
   "metadata": {},
   "outputs": [
    {
     "data": {
      "text/plain": [
       "Block Template\n",
       "\tBlock full_molecule: []\n",
       "\t\tTemplate\n",
       "\t\t\tHard Filter:\n",
       "\t\t\t\tmolwt (200, 550)\n",
       "\t\t\tSoft Filter:\n",
       "\t\t\t\t\n",
       "\t\n",
       "\t\tConstant Block: c1nc2c([1*:1])cncc2cc1[1*:2]\n",
       "\t\tBlock r1: ['2*:1']\n",
       "\t\t\tTemplate\n",
       "\t\t\t\tHard Filter:\n",
       "\t\t\t\t\tmolwt (50, 250)\n",
       "\t\t\t\t\trings (1, 1)\n",
       "\t\t\t\tSoft Filter:\n",
       "\t\t\t\t\tmolwt (100, 200)\n",
       "\t\t\n",
       "\t\t\tConstant Block: O=C(O)[1*:4]\n",
       "\t\t\tBlock r1_ring: ['2*:1', '2*:3', '2*:4']\n",
       "\t\t\t\tTemplate\n",
       "\t\t\t\t\tHard Filter:\n",
       "\t\t\t\t\t\trings (1, 1)\n",
       "\t\t\t\t\tSoft Filter:\n",
       "\t\t\t\t\t\t\n",
       "\t\t\tBlock r1_substitution: ['1*:3']\n",
       "\t\t\t\tTemplate\n",
       "\t\t\t\t\tHard Filter:\n",
       "\t\t\t\t\t\trotbond (0, 3)\n",
       "\t\t\t\t\t\trings (None, 0)\n",
       "\t\t\t\t\tSoft Filter:\n",
       "\t\t\t\t\t\t\n",
       "\t\tBlock r2: ['2*:2']\n",
       "\t\t\tTemplate\n",
       "\t\t\t\tHard Filter:\n",
       "\t\t\t\t\tmolwt (0, 200)\n",
       "\t\t\t\t\trings (None, 0)\n",
       "\t\t\t\tSoft Filter:\n",
       "\t\t\t\t\tmolwt (50, 150)"
      ]
     },
     "execution_count": null,
     "metadata": {},
     "output_type": "execute_result"
    }
   ],
   "source": [
    "block_template"
   ]
  },
  {
   "cell_type": "markdown",
   "metadata": {},
   "source": [
    "Now we can follow the same procedure as before"
   ]
  },
  {
   "cell_type": "code",
   "execution_count": null,
   "metadata": {},
   "outputs": [],
   "source": [
    "fragments = fragment_smiles(df.smiles.values, [1,2,3,4])"
   ]
  },
  {
   "cell_type": "code",
   "execution_count": null,
   "metadata": {},
   "outputs": [
    {
     "data": {
      "text/plain": [
       "57554"
      ]
     },
     "execution_count": null,
     "metadata": {},
     "output_type": "execute_result"
    }
   ],
   "source": [
    "len(fragments)"
   ]
  },
  {
   "cell_type": "code",
   "execution_count": null,
   "metadata": {},
   "outputs": [
    {
     "data": {
      "text/plain": [
       "['*Oc1cc(*)c(*)cc1NCC(=O)Nc1cc(OC)c([N+](=O)[O-])cc1C',\n",
       " '*c1ccc(*)c(NC(=O)c2ccccc2OC(C)=O)c1',\n",
       " '*COc1ccccc1CCNC(=O)N(*)*',\n",
       " '*NC(=O)c1sc2nc(C)nc(N(*)*)c2c1*',\n",
       " '*Oc1cccc(C(=O)NC(*)(C)c2nc(*)cs2)c1F']"
      ]
     },
     "execution_count": null,
     "metadata": {},
     "output_type": "execute_result"
    }
   ],
   "source": [
    "fragments[:5]"
   ]
  },
  {
   "cell_type": "code",
   "execution_count": null,
   "metadata": {},
   "outputs": [],
   "source": [
    "block_template.load_data(fragments, recurse=True)"
   ]
  },
  {
   "cell_type": "code",
   "execution_count": null,
   "metadata": {},
   "outputs": [],
   "source": [
    "frag_strings = block_template.sample_leaf_nodes(1000, include_constant=False)"
   ]
  },
  {
   "cell_type": "code",
   "execution_count": null,
   "metadata": {},
   "outputs": [
    {
     "data": {
      "text/plain": [
       "['O=C(NCc1cccc(N([2*:3])[2*:4])[nH+]1)N[2*:1].CC(C)(C)C(=O)NCC[1*:3].CCC(CC)(NC(=O)C[2*:2])C(N)=NO',\n",
       " 'FC(F)(F)c1cc([2*:1])c([2*:3])c([2*:4])c1.CCC(C=O)=C[1*:3].COC(=O)[2*:2]',\n",
       " 'O=S(=O)(c1cc(Br)ccc1[2*:1])N(C[2*:3])C[2*:4].CC(C)(C)NC(=O)C[1*:3].CN(CCS(C)(=O)=O)C[2*:2]',\n",
       " 'CC1([2*:3])C([NH2+]CC(=O)OC[2*:1])C1(C)[2*:4].CCCO[1*:3].COCC[2*:2]',\n",
       " 'O=C(Nc1ccc(NC(=O)[2*:4])c([2*:3])c1)N[2*:1].CC(N)=C(C#N)C(=O)C[1*:3].CC(C)(C)[NH2+][2*:2]']"
      ]
     },
     "execution_count": null,
     "metadata": {},
     "output_type": "execute_result"
    }
   ],
   "source": [
    "frag_strings[:5]"
   ]
  },
  {
   "cell_type": "code",
   "execution_count": null,
   "metadata": {},
   "outputs": [],
   "source": [
    "outputs = block_template.recurse_fragments(frag_strings, add_constant=True)"
   ]
  },
  {
   "cell_type": "code",
   "execution_count": null,
   "metadata": {},
   "outputs": [
    {
     "data": {
      "text/plain": [
       "['O=C(NCc1cccc(N([2*:3])[2*:4])[nH+]1)N[2*:1].CC(C)(C)C(=O)NCC[1*:3].CCC(CC)(NC(=O)C[2*:2])C(N)=NO',\n",
       " 'CCC(CC)(NC(=O)Cc1cnc2c(NC(=O)NCc3cccc(N(CCNC(=O)C(C)(C)C)C(=O)O)[nH+]3)cncc2c1)C(N)=NO',\n",
       " False,\n",
       " -2.0]"
      ]
     },
     "execution_count": null,
     "metadata": {},
     "output_type": "execute_result"
    }
   ],
   "source": [
    "outputs[0]"
   ]
  },
  {
   "cell_type": "code",
   "execution_count": null,
   "metadata": {},
   "outputs": [],
   "source": [
    "log_df = pd.DataFrame(block_template.log, columns=['fagments', 'fused', 'hardpass', 'score'])"
   ]
  },
  {
   "cell_type": "code",
   "execution_count": null,
   "metadata": {},
   "outputs": [
    {
     "data": {
      "text/html": [
       "<div>\n",
       "<style scoped>\n",
       "    .dataframe tbody tr th:only-of-type {\n",
       "        vertical-align: middle;\n",
       "    }\n",
       "\n",
       "    .dataframe tbody tr th {\n",
       "        vertical-align: top;\n",
       "    }\n",
       "\n",
       "    .dataframe thead th {\n",
       "        text-align: right;\n",
       "    }\n",
       "</style>\n",
       "<table border=\"1\" class=\"dataframe\">\n",
       "  <thead>\n",
       "    <tr style=\"text-align: right;\">\n",
       "      <th></th>\n",
       "      <th>fagments</th>\n",
       "      <th>fused</th>\n",
       "      <th>hardpass</th>\n",
       "      <th>score</th>\n",
       "    </tr>\n",
       "  </thead>\n",
       "  <tbody>\n",
       "    <tr>\n",
       "      <th>5</th>\n",
       "      <td>c1cc([2*:1])ccc1CC([2*:3])[2*:4].COCC[NH2+][1*...</td>\n",
       "      <td>CCC(CC)(CCO)CNc1cnc2c(-c3ccc(CC([NH2+]CCOC)C(=...</td>\n",
       "      <td>True</td>\n",
       "      <td>1.0</td>\n",
       "    </tr>\n",
       "    <tr>\n",
       "      <th>16</th>\n",
       "      <td>c1c[nH+]c(N([2*:3])[2*:4])c(C[2*:1])c1.CC[NH2+...</td>\n",
       "      <td>CC[NH2+]N(C(=O)O)c1[nH+]cccc1Cc1cncc2cc(CC(=O)...</td>\n",
       "      <td>True</td>\n",
       "      <td>2.0</td>\n",
       "    </tr>\n",
       "    <tr>\n",
       "      <th>30</th>\n",
       "      <td>C(=C([2*:1])[2*:4])c1cccn1[2*:3].C[NH+]=C(N)S[...</td>\n",
       "      <td>C[NH+]=C(N)Sn1cccc1C=C(C(=O)O)c1cncc2cc(N(C)C(...</td>\n",
       "      <td>True</td>\n",
       "      <td>1.0</td>\n",
       "    </tr>\n",
       "    <tr>\n",
       "      <th>46</th>\n",
       "      <td>c1cc([2*:3])n(C([2*:1])[2*:4])n1.CCC(CC)[NH+](...</td>\n",
       "      <td>CCC[NH2+]CCc1cnc2c(C(C(=O)O)n3nccc3[NH+](C)C(C...</td>\n",
       "      <td>True</td>\n",
       "      <td>1.0</td>\n",
       "    </tr>\n",
       "    <tr>\n",
       "      <th>51</th>\n",
       "      <td>O=c1cc([2*:4])c([2*:3])nn1[2*:1].[NH3+]C[1*:3]...</td>\n",
       "      <td>[NH3+]Cc1nn(-c2cncc3cc([S-])cnc23)c(=O)cc1C(=O)O</td>\n",
       "      <td>True</td>\n",
       "      <td>1.0</td>\n",
       "    </tr>\n",
       "    <tr>\n",
       "      <th>...</th>\n",
       "      <td>...</td>\n",
       "      <td>...</td>\n",
       "      <td>...</td>\n",
       "      <td>...</td>\n",
       "    </tr>\n",
       "    <tr>\n",
       "      <th>966</th>\n",
       "      <td>n1c(O[2*:1])nc([2*:4])nc1[2*:3].CC(=O)[1*:3].C...</td>\n",
       "      <td>CC(=O)c1nc(Oc2cncc3cc(SCCC(C)C)cnc23)nc(C(=O)O)n1</td>\n",
       "      <td>True</td>\n",
       "      <td>2.0</td>\n",
       "    </tr>\n",
       "    <tr>\n",
       "      <th>971</th>\n",
       "      <td>Cc1nn(C(C)[2*:1])c([2*:3])c1[2*:4].C#CCNC(=O)C...</td>\n",
       "      <td>C#CCNC(=O)Cc1c(C(=O)O)c(C)nn1C(C)c1cncc2cc(C(=...</td>\n",
       "      <td>True</td>\n",
       "      <td>1.0</td>\n",
       "    </tr>\n",
       "    <tr>\n",
       "      <th>974</th>\n",
       "      <td>C(C[2*:4])c1nnc(N(C[2*:3])[2*:1])s1.ClC[1*:3]....</td>\n",
       "      <td>CSC(C)(C)CNC(=O)NCc1cnc2c(N(CCCl)c3nnc(CCC(=O)...</td>\n",
       "      <td>True</td>\n",
       "      <td>0.0</td>\n",
       "    </tr>\n",
       "    <tr>\n",
       "      <th>983</th>\n",
       "      <td>CN(c1ccc(C[NH+](C[2*:1])[2*:4])cc1)[2*:3].OCC#...</td>\n",
       "      <td>CCCC(=O)OCc1cnc2c(C[NH+](Cc3ccc(N(C)C#CCO)cc3)...</td>\n",
       "      <td>True</td>\n",
       "      <td>1.0</td>\n",
       "    </tr>\n",
       "    <tr>\n",
       "      <th>986</th>\n",
       "      <td>n1sc([2*:1])c([2*:4])c1[2*:3].CCN(CC)C(=O)N[1*...</td>\n",
       "      <td>CCCCCc1cnc2c(-c3snc(NC(=O)N(CC)CC)c3C(=O)O)cnc...</td>\n",
       "      <td>True</td>\n",
       "      <td>1.0</td>\n",
       "    </tr>\n",
       "  </tbody>\n",
       "</table>\n",
       "<p>184 rows × 4 columns</p>\n",
       "</div>"
      ],
      "text/plain": [
       "                                              fagments  \\\n",
       "5    c1cc([2*:1])ccc1CC([2*:3])[2*:4].COCC[NH2+][1*...   \n",
       "16   c1c[nH+]c(N([2*:3])[2*:4])c(C[2*:1])c1.CC[NH2+...   \n",
       "30   C(=C([2*:1])[2*:4])c1cccn1[2*:3].C[NH+]=C(N)S[...   \n",
       "46   c1cc([2*:3])n(C([2*:1])[2*:4])n1.CCC(CC)[NH+](...   \n",
       "51   O=c1cc([2*:4])c([2*:3])nn1[2*:1].[NH3+]C[1*:3]...   \n",
       "..                                                 ...   \n",
       "966  n1c(O[2*:1])nc([2*:4])nc1[2*:3].CC(=O)[1*:3].C...   \n",
       "971  Cc1nn(C(C)[2*:1])c([2*:3])c1[2*:4].C#CCNC(=O)C...   \n",
       "974  C(C[2*:4])c1nnc(N(C[2*:3])[2*:1])s1.ClC[1*:3]....   \n",
       "983  CN(c1ccc(C[NH+](C[2*:1])[2*:4])cc1)[2*:3].OCC#...   \n",
       "986  n1sc([2*:1])c([2*:4])c1[2*:3].CCN(CC)C(=O)N[1*...   \n",
       "\n",
       "                                                 fused  hardpass  score  \n",
       "5    CCC(CC)(CCO)CNc1cnc2c(-c3ccc(CC([NH2+]CCOC)C(=...      True    1.0  \n",
       "16   CC[NH2+]N(C(=O)O)c1[nH+]cccc1Cc1cncc2cc(CC(=O)...      True    2.0  \n",
       "30   C[NH+]=C(N)Sn1cccc1C=C(C(=O)O)c1cncc2cc(N(C)C(...      True    1.0  \n",
       "46   CCC[NH2+]CCc1cnc2c(C(C(=O)O)n3nccc3[NH+](C)C(C...      True    1.0  \n",
       "51    [NH3+]Cc1nn(-c2cncc3cc([S-])cnc23)c(=O)cc1C(=O)O      True    1.0  \n",
       "..                                                 ...       ...    ...  \n",
       "966  CC(=O)c1nc(Oc2cncc3cc(SCCC(C)C)cnc23)nc(C(=O)O)n1      True    2.0  \n",
       "971  C#CCNC(=O)Cc1c(C(=O)O)c(C)nn1C(C)c1cncc2cc(C(=...      True    1.0  \n",
       "974  CSC(C)(C)CNC(=O)NCc1cnc2c(N(CCCl)c3nnc(CCC(=O)...      True    0.0  \n",
       "983  CCCC(=O)OCc1cnc2c(C[NH+](Cc3ccc(N(C)C#CCO)cc3)...      True    1.0  \n",
       "986  CCCCCc1cnc2c(-c3snc(NC(=O)N(CC)CC)c3C(=O)O)cnc...      True    1.0  \n",
       "\n",
       "[184 rows x 4 columns]"
      ]
     },
     "execution_count": null,
     "metadata": {},
     "output_type": "execute_result"
    }
   ],
   "source": [
    "log_df[log_df.hardpass==True]"
   ]
  },
  {
   "cell_type": "code",
   "execution_count": null,
   "metadata": {},
   "outputs": [
    {
     "data": {
      "image/png": "[encoded data removed]",
      "text/plain": [
       "<IPython.core.display.Image object>"
      ]
     },
     "execution_count": null,
     "metadata": {},
     "output_type": "execute_result"
    }
   ],
   "source": [
    "Chem.Draw.MolsToGridImage(to_mols(log_df[log_df.hardpass==True].fused.values[:9]), subImgSize=(300,300))"
   ]
  },
  {
   "cell_type": "code",
   "execution_count": null,
   "metadata": {},
   "outputs": [],
   "source": []
  }
 ],
 "metadata": {
  "kernelspec": {
   "display_name": "mrl",
   "language": "python",
   "name": "mrl"
  }
 },
 "nbformat": 4,
 "nbformat_minor": 2
}
