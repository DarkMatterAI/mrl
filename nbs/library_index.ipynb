{
 "cells": [
  {
   "cell_type": "markdown",
   "metadata": {},
   "source": [
    "# MRL Library\n",
    "\n",
    "> MRL Library Index"
   ]
  },
  {
   "cell_type": "markdown",
   "metadata": {},
   "source": [
    "### Core\n",
    "Core functions, parallel processing\n",
    "- <a href=\"/mrl/core.html\">Core</a> \n",
    "\n",
    "### Chem\n",
    "Comp chem functions\n",
    "- <a href=\"/mrl/chem.html\">Chem</a>\n",
    "\n",
    "### Templates\n",
    "Templates and filtering\n",
    "- <a href=\"/mrl/template.filters.html\">Filters</a>\n",
    "- <a href=\"/mrl/template.template.html\">Templates</a>\n",
    "- <a href=\"/mrl/template.blocks.html\">Block Templates</a>\n",
    "\n",
    "\n",
    "### Torch\n",
    "Torch functions and layers\n",
    "- <a href=\"/mrl/torch_core.html\">Torch Core</a>\n",
    "- <a href=\"/mrl/layers.html\">Torch Layers</a>\n",
    "\n",
    "### Data\n",
    "Dataloaders, tokenizers, data processing\n",
    "- <a href=\"/mrl/vocab.html\">Vocab</a>\n",
    "- <a href=\"/mrl/dataloaders.html\">DataLoaders</a>\n",
    "\n",
    "### Generative Models\n",
    "Generative model implementations\n",
    "- <a href=\"/mrl/generative_models.generative_base.html\">Generative Base</a>\n",
    "- <a href=\"/mrl/generative_models.lstm_lm.html\">LSTM Language Models</a>\n",
    "- <a href=\"/mrl/generative_models.vae.html\">VAE Models</a>"
   ]
  },
  {
   "cell_type": "markdown",
   "metadata": {},
   "source": [
    "### Callbacks\n",
    "Callback functions\n",
    "- <a href=\"/mrl/callback_core.html\">Core</a>\n",
    "- <a href=\"/mrl/logging.html\">Logging</a>\n",
    "- <a href=\"/mrl/buffer.html\">Buffer</a>\n",
    "- <a href=\"/mrl/template_callback.html\">Template Callback</a>"
   ]
  },
  {
   "cell_type": "code",
   "execution_count": null,
   "metadata": {},
   "outputs": [],
   "source": []
  }
 ],
 "metadata": {
  "kernelspec": {
   "display_name": "Python (mrl)",
   "language": "python",
   "name": "mrl"
  }
 },
 "nbformat": 4,
 "nbformat_minor": 4
}
