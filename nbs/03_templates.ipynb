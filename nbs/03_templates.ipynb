{
 "cells": [
  {
   "cell_type": "code",
   "execution_count": null,
   "metadata": {},
   "outputs": [],
   "source": [
    "# default_exp templates"
   ]
  },
  {
   "cell_type": "markdown",
   "metadata": {},
   "source": [
    "# Templates\n",
    "\n",
    "> Templates are used to define chemical spaces using easily calculable properties\n",
    "\n",
    "Tempates are a core concept in MRL used to define chemical spaces. Tempates collect a series of molecular heuristics and validate if a molecule meets those criteria. For example:\n",
    "\n",
    "```\n",
    "Molecular weight: 250-450\n",
    "Rotatable bonds: Less than 8\n",
    "PAINS Filter: Pass\n",
    "```\n",
    "\n",
    "Templates can also be used to assign a score for meeting heuristic criteria. This allows us to define different criteria for __must-have__ molecular properties versus __nice-to-have___ chemical properties. In a reinforcement learning context, this translates into giving a score bonus to molecules that fit the nice-to-have criteria. Scores can also be negative to allow for penalizing a molecule that still passes the must-have criteria.\n",
    "\n",
    "```\n",
    "Must Have:\n",
    "Molecular weight: 250-450, \n",
    "Rotatable bonds: Less than 8\n",
    "PAINS Filter: Pass\n",
    "\n",
    "Nice To Have:\n",
    "Molecular weight: 350-400 (+1), \n",
    "TPSA: Less than 80 (+1)\n",
    "Substructure Match: '[#6]1:[#6]:[#7]:[#6]:[#6]:[#6]:1' (+3)\n",
    "Substructure Match: '[#6]1:[#6]:[#7]:[#7]:[#7]:[#6]:1' (-1)\n",
    "```\n",
    "\n",
    "Based on the above criteria, a molecule that passes the must-have criteria could get a score between -1 and +5 based on meeting the nice-to-have criteria."
   ]
  },
  {
   "cell_type": "code",
   "execution_count": null,
   "metadata": {},
   "outputs": [],
   "source": []
  },
  {
   "cell_type": "code",
   "execution_count": null,
   "metadata": {},
   "outputs": [],
   "source": [
    "#hide\n",
    "from nbdev.showdoc import *\n",
    "%load_ext autoreload\n",
    "%autoreload 2"
   ]
  },
  {
   "cell_type": "code",
   "execution_count": null,
   "metadata": {},
   "outputs": [
    {
     "name": "stderr",
     "output_type": "stream",
     "text": [
      "//anaconda3/envs/insight/lib/python3.6/importlib/_bootstrap.py:219: RuntimeWarning: to-Python converter for boost::shared_ptr<RDKit::FilterCatalogEntry const> already registered; second conversion method ignored.\n",
      "  return f(*args, **kwds)\n"
     ]
    }
   ],
   "source": [
    "# export\n",
    "# hide\n",
    "from mrl.imports import *\n",
    "from mrl.core import *\n",
    "from mrl.chem import *"
   ]
  },
  {
   "cell_type": "code",
   "execution_count": null,
   "metadata": {},
   "outputs": [],
   "source": []
  },
  {
   "cell_type": "markdown",
   "metadata": {},
   "source": [
    "## Property Functions\n",
    "\n"
   ]
  },
  {
   "cell_type": "code",
   "execution_count": null,
   "metadata": {},
   "outputs": [],
   "source": [
    "# export\n",
    "\n",
    "class PropertyFunction():\n",
    "    def __init__(self, property_function):\n",
    "        self.property_function = property_function\n",
    "        \n",
    "    def __call__(self, mol):\n",
    "        prop = self.calc_property(mol)\n",
    "        prop_bool = self.criteria(prop)\n",
    "        return prop_bool\n",
    "        \n",
    "    def calc_property(self, mol):\n",
    "        return self.property_function(mol)\n",
    "    \n",
    "    def criteria(self, prop):\n",
    "        pass\n",
    "    \n",
    "    \n",
    "class RangeProperty(PropertyFunction):\n",
    "    def __init__(self, property_function, min_val=None, max_val=None):\n",
    "        super().__init__(property_function)\n",
    "        self.min_val = min_val\n",
    "        self.max_val = max_val\n",
    "        assert (self.min_val is not None) or (self.max_val is not None), \"One bound must be specified\"\n",
    "        \n",
    "    def criteria(self, prop):\n",
    "        lower_bound = (property_output>=self.min_val) if self.min_val is not None else True\n",
    "        upper_bound = (property_output<=self.max_val) if self.max_val is not None else True\n",
    "        output = lower_bound and upper_bound\n",
    "        \n",
    "        return output"
   ]
  },
  {
   "cell_type": "code",
   "execution_count": null,
   "metadata": {},
   "outputs": [],
   "source": []
  },
  {
   "cell_type": "code",
   "execution_count": null,
   "metadata": {},
   "outputs": [],
   "source": []
  },
  {
   "cell_type": "code",
   "execution_count": null,
   "metadata": {},
   "outputs": [],
   "source": [
    "# class PropertyFunction():\n",
    "#     def __call__(self, mol):\n",
    "#         pass\n",
    "    \n",
    "# class SmartsMatch(PropertyFunction):\n",
    "#     def __init__(self, smarts, criteria='any'):\n",
    "        \n",
    "#         self.smarts = smarts\n",
    "#         self.criteria = criteria\n",
    "#         self.catalog = FilterCatalog()\n",
    "        \n",
    "#         for s in smarts:\n",
    "#             self.catalog.AddEntry(FilterCatalogEntry(s, SmartsMatcher(s,s)))\n",
    "            \n",
    "#     def __call__(self, mol):\n",
    "        \n",
    "#         if self.criteria == 'any':\n",
    "#             output = self.catalog.HasMatch(mol)\n",
    "#         else:\n",
    "#             output = len(self.catalog.GetMatches(mol))==len(self.smarts)\n",
    "            \n",
    "#         return output\n",
    "    \n",
    "    \n",
    "# class ExclusionMatch(SmartsMatch):\n",
    "#     def __init__(self, smarts, criteria='any'):\n",
    "#         super().__init__(smarts, criteria)\n",
    "        \n",
    "#     def __call__(self, mol):\n",
    "        \n",
    "#         return not super().__call__(mol)"
   ]
  },
  {
   "cell_type": "code",
   "execution_count": null,
   "metadata": {},
   "outputs": [],
   "source": []
  },
  {
   "cell_type": "code",
   "execution_count": null,
   "metadata": {},
   "outputs": [],
   "source": []
  },
  {
   "cell_type": "code",
   "execution_count": null,
   "metadata": {},
   "outputs": [],
   "source": []
  },
  {
   "cell_type": "code",
   "execution_count": null,
   "metadata": {},
   "outputs": [],
   "source": []
  }
 ],
 "metadata": {
  "kernelspec": {
   "display_name": "Python 3",
   "language": "python",
   "name": "python3"
  }
 },
 "nbformat": 4,
 "nbformat_minor": 2
}
