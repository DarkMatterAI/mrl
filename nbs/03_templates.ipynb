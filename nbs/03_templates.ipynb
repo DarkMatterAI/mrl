{
 "cells": [
  {
   "cell_type": "code",
   "execution_count": null,
   "metadata": {},
   "outputs": [],
   "source": [
    "# default_exp templates"
   ]
  },
  {
   "cell_type": "markdown",
   "metadata": {},
   "source": [
    "# Templates\n",
    "\n",
    "> Templates are used to define chemical spaces using easily calculable properties\n",
    "\n",
    "Tempates are a core concept in MRL used to define chemical spaces. Tempates collect a series of molecular heuristics and validate if a molecule meets those criteria. For example:\n",
    "\n",
    "```\n",
    "Molecular weight: 250-450\n",
    "Rotatable bonds: Less than 8\n",
    "PAINS Filter: Pass\n",
    "```\n",
    "\n",
    "Templates can also be used to assign a score for meeting heuristic criteria. This allows us to define different criteria for __must-have__ molecular properties versus __nice-to-have___ chemical properties. In a reinforcement learning context, this translates into giving a score bonus to molecules that fit the nice-to-have criteria. Scores can also be negative to allow for penalizing a molecule that still passes the must-have criteria.\n",
    "\n",
    "```\n",
    "Must Have:\n",
    "Molecular weight: 250-450, \n",
    "Rotatable bonds: Less than 8\n",
    "PAINS Filter: Pass\n",
    "\n",
    "Nice To Have:\n",
    "Molecular weight: 350-400 (+1), \n",
    "TPSA: Less than 80 (+1)\n",
    "Substructure Match: '[#6]1:[#6]:[#7]:[#6]:[#6]:[#6]:1' (+3)\n",
    "Substructure Match: '[#6]1:[#6]:[#7]:[#7]:[#7]:[#6]:1' (-1)\n",
    "```\n",
    "\n",
    "Based on the above criteria, a molecule that passes the must-have criteria could get a score between -1 and +5 based on meeting the nice-to-have criteria."
   ]
  },
  {
   "cell_type": "code",
   "execution_count": null,
   "metadata": {},
   "outputs": [],
   "source": []
  },
  {
   "cell_type": "code",
   "execution_count": null,
   "metadata": {},
   "outputs": [],
   "source": [
    "#hide\n",
    "from nbdev.showdoc import *\n",
    "%load_ext autoreload\n",
    "%autoreload 2"
   ]
  },
  {
   "cell_type": "code",
   "execution_count": null,
   "metadata": {},
   "outputs": [
    {
     "name": "stderr",
     "output_type": "stream",
     "text": [
      "//anaconda3/envs/insight/lib/python3.6/importlib/_bootstrap.py:219: RuntimeWarning: to-Python converter for boost::shared_ptr<RDKit::FilterCatalogEntry const> already registered; second conversion method ignored.\n",
      "  return f(*args, **kwds)\n"
     ]
    }
   ],
   "source": [
    "# export\n",
    "# hide\n",
    "from mrl.imports import *\n",
    "from mrl.core import *\n",
    "from mrl.chem import *"
   ]
  },
  {
   "cell_type": "code",
   "execution_count": null,
   "metadata": {},
   "outputs": [],
   "source": []
  },
  {
   "cell_type": "markdown",
   "metadata": {},
   "source": [
    "## Property Functions\n",
    "\n",
    "`PropertyFunction` classes serve two basic purposes. The `calc_property` function computes some function of a `Mol` object. The `criteria` function takes the output of `calc_property` and converts it to a boolean value. \n",
    "\n",
    "Property functions and classes that use property functions follow the convention that `True` means the input `Mol` has passed the `criteria` function, while `False` means the `Mol` has failed the `criteria`.\n",
    "\n",
    "This is important to keep in mind for substructure matching. Substructure matching with `Catalog` classes follows return `True` when a substructure match is found. If this is the desired behavior (ie validating a desired struture is the `Mol`), use the `SmartsMatch` class as a property function. If the opposite behavior is desired (ie excluding structures that match a filter), use the `ExclusionMatch` property function which returns `False` when matches are found and `True` when no matches are found"
   ]
  },
  {
   "cell_type": "code",
   "execution_count": null,
   "metadata": {},
   "outputs": [],
   "source": [
    "# export\n",
    "\n",
    "class PropertyFunction():\n",
    "    '''\n",
    "    PropertyFunction - base class for property functions. \n",
    "    \n",
    "    When subclassing, define the `calc_property` and `criteria` functions\n",
    "    '''\n",
    "    def __call__(self, mol):\n",
    "        prop = self.calc_property(mol)\n",
    "        prop_bool = self.criteria(prop)\n",
    "        return prop_bool\n",
    "        \n",
    "    def calc_property(self, mol):\n",
    "        pass\n",
    "    \n",
    "    def criteria(self, prop):\n",
    "        pass\n",
    "    \n",
    "    \n",
    "class MolProperty(PropertyFunction):\n",
    "    '''\n",
    "    MolProperty - base property class for all properties that can be computed as `mol_function(mol)`\n",
    "        \n",
    "    ex: prop_func = MolProperty(molwt)\n",
    "    \n",
    "    note that the `criteria` function is not defined here\n",
    "    '''\n",
    "    def __init__(self, mol_function):\n",
    "        self.mol_function = mol_function\n",
    "        \n",
    "    def calc_property(self, mol):\n",
    "        mol = to_mol(mol)\n",
    "        return self.mol_function(mol)\n",
    "    \n",
    "    \n",
    "class RangeProperty(MolProperty):\n",
    "    '''\n",
    "    RangeProperty - class for calculating properties and evaluating them within a defined range\n",
    "    \n",
    "    Inputs:\n",
    "        `mol_function` - any function that takes as input a `Mol` and returns a numeric value\n",
    "        `min_val` - float, None, minimum value. Ignored if None\n",
    "        `max_val` - float, None, maximum value. Ignored if None\n",
    "        \n",
    "    One of `min_val`, `max_val` must not be None\n",
    "    \n",
    "    prop_func = RangeProperty(molwt, 100, 300)\n",
    "    prop_func(to_mol('O=C(C)Oc1ccccc1C(=O)O'))\n",
    "    >> True\n",
    "    '''\n",
    "    def __init__(self, mol_function, min_val=None, max_val=None):\n",
    "        super().__init__(mol_function)\n",
    "        self.min_val = min_val\n",
    "        self.max_val = max_val\n",
    "        assert (self.min_val is not None) or (self.max_val is not None), \"One bound must be specified\"\n",
    "        \n",
    "    def criteria(self, prop):\n",
    "        lower_bound = (prop>=self.min_val) if self.min_val is not None else True\n",
    "        upper_bound = (prop<=self.max_val) if self.max_val is not None else True\n",
    "        output = lower_bound and upper_bound\n",
    "        \n",
    "        return output\n"
   ]
  },
  {
   "cell_type": "code",
   "execution_count": null,
   "metadata": {},
   "outputs": [],
   "source": [
    "#export\n",
    "\n",
    "class SmartsMatch(PropertyFunction):\n",
    "    '''\n",
    "    SmartsMatch - class for substructure matching a `Mol` against a `Catalog`\n",
    "    \n",
    "    Inputs:\n",
    "        `catalog` - a subclass of `Catalog`\n",
    "        `crit` - str ('any', 'all'). If any, will return True if any structure in `catalog` matches the `Mol`.\n",
    "        \n",
    "    catalog = PAINSACatalog()\n",
    "    prop_func = SmartsMatch(catalog, crit='any')\n",
    "    prop_func(to_mol('O=C(Cn1cnc2c1c(=O)n(C)c(=O)n2C)N/N=C/c1c(O)ccc2c1cccc2'))\n",
    "    >> True\n",
    "    \n",
    "    prop_func = SmartsMatch(catalog, crit='all')\n",
    "    prop_func(to_mol('O=C(Cn1cnc2c1c(=O)n(C)c(=O)n2C)N/N=C/c1c(O)ccc2c1cccc2'))\n",
    "    >> False\n",
    "    '''\n",
    "    def __init__(self, catalog, crit='any'):\n",
    "        self.catalog = catalog\n",
    "        assert isinstance(self.catalog, Catalog), \"`catalog_match` must be a subclass of `Catalog`\"\n",
    "        assert crit in ('any', 'all'), \"`crit` must be one of ('any', 'all')\"\n",
    "        self.crit = crit\n",
    "        \n",
    "    def calc_property(self, mol):\n",
    "        return self.catalog(mol, criteria=self.crit)\n",
    "    \n",
    "    def criteria(self, prop):\n",
    "        if not type(prop) == list:\n",
    "            prop = [prop]\n",
    "            \n",
    "        if self.crit=='any':\n",
    "            output = any(prop)\n",
    "        else:\n",
    "            output = all(prop)\n",
    "        \n",
    "        return output\n",
    "    \n",
    "    @classmethod\n",
    "    def from_smarts(cls, smarts, crit='any'):\n",
    "        \"Returns a `SmartsMatch` object with a `SmartsCatalog` from the given `smarts`\"\n",
    "        catalog = SmartsCatalog(smarts)\n",
    "        return cls(catalog, crit)\n",
    "    "
   ]
  },
  {
   "cell_type": "code",
   "execution_count": null,
   "metadata": {},
   "outputs": [
    {
     "data": {
      "text/markdown": [
       "<h4 id=\"SmartsMatch.from_smarts\" class=\"doc_header\"><code>SmartsMatch.from_smarts</code><a href=\"__main__.py#L40\" class=\"source_link\" style=\"float:right\">[source]</a></h4>\n",
       "\n",
       "> <code>SmartsMatch.from_smarts</code>(**`smarts`**, **`crit`**=*`'any'`*)\n",
       "\n",
       "Returns a `SmartsMatch` object with a [`SmartsCatalog`](/mrl/chem.html#SmartsCatalog) from the given `smarts`"
      ],
      "text/plain": [
       "<IPython.core.display.Markdown object>"
      ]
     },
     "metadata": {},
     "output_type": "display_data"
    }
   ],
   "source": [
    "show_doc(SmartsMatch.from_smarts)"
   ]
  },
  {
   "cell_type": "code",
   "execution_count": null,
   "metadata": {},
   "outputs": [],
   "source": [
    "#export\n",
    "\n",
    "class ExclusionMatch(SmartsMatch):\n",
    "    '''\n",
    "    ExclusionMatch - class for exclusion matching a `Mol` against a `Catalog`. \n",
    "    Returns `False` when `Mol` matches one of the filters in `Catalog`\n",
    "    \n",
    "    Inputs:\n",
    "        `catalog` - a subclass of `Catalog`\n",
    "        `crit` - str ('any', 'all'). If any, will return True if any structure in `catalog` matches the `Mol`.\n",
    "    '''\n",
    "    def criteria(sef, prop):\n",
    "        return not super().criteria(prop)"
   ]
  },
  {
   "cell_type": "code",
   "execution_count": null,
   "metadata": {},
   "outputs": [],
   "source": [
    "prop_func = RangeProperty(molwt, 100, 300)\n",
    "assert prop_func(to_mol('O=C(C)Oc1ccccc1C(=O)O')) == True\n",
    "\n",
    "prop_func = RangeProperty(molwt, 400, 500)\n",
    "assert prop_func(to_mol('O=C(C)Oc1ccccc1C(=O)O')) == False\n",
    "\n",
    "smarts = [\n",
    "    '[*]-[#6]1:[#6]:[#6](-[#0]):[#6]:[#6](-[*]):[#6]:1',\n",
    "    '[*]-[#6]1:[#6]:[#6](-[*]):[#6]:[#6]:[#6]:1',\n",
    "    '[*]-[#6]1:[#6]:[#6]:[#6]:[#6]:[#6]:1',\n",
    "    '[*]-[#6]1:[#6]:[#6](-[#7]-[*]):[#6]:[#6]:[#6]:1',\n",
    "    '[#6]1:[#6]:[#7]:[#6]:[#6]:[#6]:1'\n",
    "]\n",
    "\n",
    "smiles = [\n",
    "    'c1ccccc1',\n",
    "    'Cc1cc(NC)ccc1',\n",
    "    'Cc1cc(NC)cnc1',\n",
    "    'Cc1cccc(NCc2ccccc2)c1'\n",
    "]\n",
    "\n",
    "mols = [to_mol(i) for i in smiles]\n",
    "\n",
    "prop_func = SmartsMatch.from_smarts(smarts, crit='any')\n",
    "assert prop_func(mols[1]) == True\n",
    "\n",
    "catalog = SmartsCatalog(smarts)\n",
    "prop_func = SmartsMatch(catalog, crit='all')\n",
    "assert prop_func(mols[1]) == False\n",
    "\n",
    "prop_func = ExclusionMatch.from_smarts(smarts, crit='any')\n",
    "assert prop_func(mols[1]) == False"
   ]
  },
  {
   "cell_type": "markdown",
   "metadata": {},
   "source": [
    "## Score Functions\n",
    "\n",
    "`ScoreFunction` classes take the results of a `PropertyFunction` (both `calc_property` and `criteria`) and return a numeric score.\n",
    "\n",
    "`ConstantScore` returns a standard value based on if the `criteria_output` is `True` or `False`. For more sophisticated scores like those seen in MPO functions, something like `LinearDecayScore` can be used, which returns a constant score within a certain range, but decays the score outside that range.\n",
    "\n",
    "`ScoreFunction` can be subclassed with any variant that takes as input `property_output` and `criteria_output` and returns a numeric value"
   ]
  },
  {
   "cell_type": "code",
   "execution_count": null,
   "metadata": {},
   "outputs": [],
   "source": [
    "# export\n",
    "\n",
    "class ScoreFunction():\n",
    "    \"Base score function\"\n",
    "    def __call__(self, property_output, criteria_output):\n",
    "        pass\n",
    "    \n",
    "class NoScore(ScoreFunction):\n",
    "    \"Pass through for no score\"\n",
    "    def __call__(self, property_output, criteria_output):\n",
    "        return 0.\n",
    "    \n",
    "class ConstantScore(ScoreFunction):\n",
    "    '''\n",
    "    ConstantScore - returns `pass_score` if `criteria_output=True`, else `fail_score\n",
    "    '''\n",
    "    def __init__(self, pass_score, fail_score=0.):\n",
    "        self.pass_score = pass_score\n",
    "        self.fail_score = fail_score\n",
    "        \n",
    "    def __call__(self, property_output, criteria_output):\n",
    "        if criteria_output:\n",
    "            output = self.pass_score\n",
    "        else:\n",
    "            output = self.fail_score\n",
    "            \n",
    "        return output\n",
    "    \n",
    "class LinearDecayScore(ConstantScore):\n",
    "    '''\n",
    "    LinearDecayScore - score with linear decay. `low_start<low_end<high_start<high_end`\n",
    "    \n",
    "    Returns `pass_score` if `criteria_output=True` and \n",
    "    `low_end<=property_output<=high_start`. If `low_start<=property_output<=low_end` or \n",
    "    `high_start<=property_output<=high_end`, the score is a linear interpolation between `pass_score` \n",
    "    and `fail_score`. Otherwise, returns `fail_score`.\n",
    "    \n",
    "    One of `low_end`, `high_start` must be not None.\n",
    "    \n",
    "    If one of `low_end`, `high_start` is None, the corresponding bound is ignored\n",
    "    \n",
    "    if `low_start` or `high_end` is None, the score immediately drops to `fail_score`\n",
    "    \n",
    "    '''\n",
    "    # low_start < low_end < high_start < high_end\n",
    "    def __init__(self, pass_score, low_start, low_end, \n",
    "                 high_start, high_end, fail_score=0.):\n",
    "        super().__init__(pass_score, fail_score)\n",
    "        \n",
    "        self.low_start = low_start\n",
    "        self.high_start = high_start\n",
    "        \n",
    "        self.low_end = low_end\n",
    "        self.high_end = high_end\n",
    "        \n",
    "        assert (self.low_end is not None) or (self.high_start is not None), \"One of (low_end, high_start) must not be None\"\n",
    "        \n",
    "    def check_bound(self, property_output, bound, boundtype):\n",
    "        if bound is None:\n",
    "            output = True\n",
    "        else:\n",
    "            if boundtype=='low':\n",
    "                output = property_output>=bound\n",
    "            else:\n",
    "                output = property_output<=bound\n",
    "        \n",
    "        return output\n",
    "        \n",
    "    def __call__(self, property_output, criteria_output):\n",
    "        \n",
    "        if criteria_output:\n",
    "            \n",
    "            low_bound = self.check_bound(property_output, self.low_end, 'low')\n",
    "            high_bound = self.check_bound(property_output, self.high_start, 'high')\n",
    "            \n",
    "            if low_bound and high_bound:\n",
    "                # in main range\n",
    "                output = self.pass_score\n",
    "                \n",
    "            elif low_bound:\n",
    "                # above high start:\n",
    "                high_end = self.check_bound(property_output, self.high_end, 'high')\n",
    "                \n",
    "                if high_end:\n",
    "                    # between high_start and high_end\n",
    "                    if (self.high_start is not None) and (self.high_end is not None):\n",
    "                        fraction = (property_output - self.high_start)/(self.high_end - self.high_start)\n",
    "                        output = self.pass_score*(1-fraction) + self.fail_score*fraction\n",
    "                    else:\n",
    "                        output = self.fail_score\n",
    "                    \n",
    "                else:\n",
    "                    output = self.fail_score\n",
    "                    \n",
    "            else:\n",
    "                # below low end\n",
    "                low_start = self.check_bound(property_output, self.low_start, 'low')\n",
    "                \n",
    "                if low_start:\n",
    "                    # between low_start and low_end\n",
    "                    if (self.low_start is not None) and (self.low_end is not None):\n",
    "                        fraction = (property_output - self.low_start)/(self.low_end - self.low_start)\n",
    "                        output = self.pass_score*fraction + self.fail_score*(1-fraction)\n",
    "                    else:\n",
    "                        output = self.fail_score\n",
    "                        \n",
    "                else:\n",
    "                    output = self.fail_score\n",
    "\n",
    "        else:\n",
    "            output = self.fail_score\n",
    "            \n",
    "        return output\n"
   ]
  },
  {
   "cell_type": "code",
   "execution_count": null,
   "metadata": {},
   "outputs": [
    {
     "data": {
      "text/plain": [
       "[<matplotlib.lines.Line2D at 0x823782f98>]"
      ]
     },
     "execution_count": null,
     "metadata": {},
     "output_type": "execute_result"
    },
    {
     "data": {
      "image/png": "[encoded data removed]",
      "text/plain": [
       "<Figure size 432x288 with 1 Axes>"
      ]
     },
     "metadata": {
      "needs_background": "light"
     },
     "output_type": "display_data"
    }
   ],
   "source": [
    "score = LinearDecayScore(1, 1,5,10,15, fail_score=-1)\n",
    "plt.plot(np.linspace(0,16),[score(i, True) for i in np.linspace(0,16)])"
   ]
  },
  {
   "cell_type": "code",
   "execution_count": null,
   "metadata": {},
   "outputs": [
    {
     "data": {
      "text/plain": [
       "[<matplotlib.lines.Line2D at 0x823914198>]"
      ]
     },
     "execution_count": null,
     "metadata": {},
     "output_type": "execute_result"
    },
    {
     "data": {
      "image/png": "[encoded data removed]",
      "text/plain": [
       "<Figure size 432x288 with 1 Axes>"
      ]
     },
     "metadata": {
      "needs_background": "light"
     },
     "output_type": "display_data"
    }
   ],
   "source": [
    "score = LinearDecayScore(1, 1,5,None, None, fail_score=-1)\n",
    "plt.plot(np.linspace(0,16),[score(i, True) for i in np.linspace(0,16)])"
   ]
  },
  {
   "cell_type": "markdown",
   "metadata": {},
   "source": [
    "## Filter Functions\n",
    "\n",
    "Filter functions bundle a `PropertyFunction` with a `ScoreFunction`"
   ]
  },
  {
   "cell_type": "code",
   "execution_count": null,
   "metadata": {},
   "outputs": [],
   "source": [
    "# export\n",
    "\n",
    "class FilterFunction():\n",
    "    def __init__(self, property_function, score_function, name=None, fail_score=0.):\n",
    "        self.property_function = property_function\n",
    "        assert isinstance(self.property_function, PropertyFunction), (\"`property_function` must \"\n",
    "                                                                      \"subclass PropertyFunction\")\n",
    "        self.score_function = self.set_score(score_function, fail_score)\n",
    "        self.name = name\n",
    "        \n",
    "    def set_score(self, score_function, fail_score):\n",
    "        if score_function is None:\n",
    "            score = NoScore()\n",
    "        elif type(score_function) in (int, float):\n",
    "            score = ConstantScore(score_function, fail_score=fail_score)\n",
    "        elif isinstance(score, ScoreFunction):\n",
    "            score = score\n",
    "        else:\n",
    "            raise ValueError('Invalid score_function input, must be one of (None, int, float, ScoreFunction)')\n",
    "            \n",
    "        return score\n",
    "    \n",
    "    def __call__(self, mol, with_score=True):\n",
    "        output = maybe_parallel(self.eval_mol, mol, with_score=with_score)\n",
    "        return output\n",
    "        \n",
    "    def eval_mol(self, mol, with_score=True):\n",
    "        mol = to_mol(mol)\n",
    "        property_output = self.property_function.calc_property(mol)\n",
    "        criteria_output = self.property_function.criteria(property_output)\n",
    "        \n",
    "        if with_score:\n",
    "            output = self.score_function(property_output, criteria_output)\n",
    "        else:\n",
    "            output = criteria_output\n",
    "            \n",
    "        return output\n",
    "    \n",
    "    def __repr__(self):\n",
    "        if self.name is not None:\n",
    "            output = f'{self.name}'\n",
    "        else:\n",
    "            output = 'Filter'\n",
    "            \n",
    "        return output\n",
    "    \n",
    "    \n",
    "class PropertyFilter(FilterFunction):\n",
    "    def __init__(self, mol_function, min_val, max_val, score, fail_score=0., name=None):\n",
    "        property_function = RangeProperty(mol_function, min_val, max_val)\n",
    "                \n",
    "        if name is None:\n",
    "            name = mol_function.__name__ + f' ({min_val}, {max_val})'\n",
    "        \n",
    "        super().__init__(property_function, score, name, fail_score=fail_score)\n",
    "        \n",
    "\n",
    "class StrucureFilter(FilterFunction):\n",
    "    def __init__(self, smarts, score, exclude=True, criteria='any', name=None, fail_score=0.):\n",
    "        catalog = self.get_catalog(smarts)\n",
    "        if exclude:\n",
    "            property_function = ExclusionMatch(catalog, crit=criteria)\n",
    "        else:\n",
    "            property_function = SmartsMatch(catalog, crit=criteria)\n",
    "            \n",
    "        if name is None:\n",
    "            name = f'Structure filter, criteria: {criteria}, exclude: {exclude}'\n",
    "            \n",
    "        super().__init__(property_function, score, name, fail_score=fail_score)\n",
    "    \n",
    "    def get_catalog(self, smarts):\n",
    "        if isinstance(smarts, Catalog):\n",
    "            smarts = smarts\n",
    "        else:\n",
    "            smarts = SmartsCatalog(smarts)\n",
    "        return smarts"
   ]
  },
  {
   "cell_type": "code",
   "execution_count": null,
   "metadata": {},
   "outputs": [],
   "source": []
  },
  {
   "cell_type": "code",
   "execution_count": null,
   "metadata": {},
   "outputs": [],
   "source": [
    "f1 = StrucureFilter(smarts, 1, exclude=True, criteria='any')\n",
    "f2 = PropertyFilter(heteroatoms, 1, 5, 1)"
   ]
  },
  {
   "cell_type": "code",
   "execution_count": null,
   "metadata": {},
   "outputs": [
    {
     "data": {
      "text/plain": [
       "[1, 0.0, 0.0, 0.0]"
      ]
     },
     "execution_count": null,
     "metadata": {},
     "output_type": "execute_result"
    }
   ],
   "source": [
    "f1(mols)"
   ]
  },
  {
   "cell_type": "code",
   "execution_count": null,
   "metadata": {},
   "outputs": [
    {
     "data": {
      "text/plain": [
       "[0.0, 1, 1, 1]"
      ]
     },
     "execution_count": null,
     "metadata": {},
     "output_type": "execute_result"
    }
   ],
   "source": [
    "f2(mols)"
   ]
  },
  {
   "cell_type": "code",
   "execution_count": null,
   "metadata": {},
   "outputs": [],
   "source": []
  }
 ],
 "metadata": {
  "kernelspec": {
   "display_name": "Python 3",
   "language": "python",
   "name": "python3"
  }
 },
 "nbformat": 4,
 "nbformat_minor": 2
}
