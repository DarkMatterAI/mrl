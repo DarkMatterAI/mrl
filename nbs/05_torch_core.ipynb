{
 "cells": [
  {
   "cell_type": "code",
   "execution_count": null,
   "metadata": {},
   "outputs": [],
   "source": [
    "# default_exp torch_core"
   ]
  },
  {
   "cell_type": "markdown",
   "metadata": {},
   "source": [
    "# Torch Core\n",
    "\n",
    "> Core pytorch functins"
   ]
  },
  {
   "cell_type": "code",
   "execution_count": null,
   "metadata": {},
   "outputs": [],
   "source": [
    "#hide\n",
    "from nbdev.showdoc import *\n",
    "%load_ext autoreload\n",
    "%autoreload 2"
   ]
  },
  {
   "cell_type": "code",
   "execution_count": null,
   "metadata": {},
   "outputs": [],
   "source": [
    "# export\n",
    "from mrl.imports import *\n",
    "from mrl.torch_imports import *"
   ]
  },
  {
   "cell_type": "code",
   "execution_count": null,
   "metadata": {},
   "outputs": [],
   "source": [
    "# export\n",
    "\n",
    "USE_CUDA = torch.cuda.is_available()\n",
    "\n",
    "if USE_CUDA:\n",
    "    torch.backends.cudnn.benchmark = True\n",
    "    \n",
    "def get_device():\n",
    "    if torch.cuda.is_available():\n",
    "        device = int(os.environ.get('DEFAULT_GPU') or 0)\n",
    "    else:\n",
    "        device='cpu'\n",
    "            \n",
    "    device = torch.device(device)\n",
    "    return device\n",
    "\n",
    "def to_device(tensor, device=None):\n",
    "    if device is None:\n",
    "        device = get_device()\n",
    "    else:\n",
    "        device = torch.device(device)\n",
    "    \n",
    "    if hasattr(tensor, 'to'):\n",
    "        output = tensor.to(device)\n",
    "    else:\n",
    "        output = [to_device(i, device) for i in tensor]\n",
    "    \n",
    "    return output\n",
    "\n",
    "def set_device(device):\n",
    "    os.environ['DEFAULT_GPU'] = device\n",
    "    \n",
    "def get_model_device(model):\n",
    "    return next(model.parameters()).device"
   ]
  },
  {
   "cell_type": "code",
   "execution_count": null,
   "metadata": {},
   "outputs": [],
   "source": [
    "# export\n",
    "\n",
    "def x_to_preds(x, multinomial=True):\n",
    "    log_probs = F.log_softmax(x, -1).squeeze(1)\n",
    "    probs = log_probs.detach().exp()\n",
    "    \n",
    "    if multinomial:\n",
    "        idxs = torch.multinomial(probs, 1)\n",
    "    else:\n",
    "        idxs = x.argmax(-1)\n",
    "\n",
    "    lps = torch.gather(log_probs, 1, idxs)\n",
    "    return idxs, lps"
   ]
  },
  {
   "cell_type": "code",
   "execution_count": null,
   "metadata": {},
   "outputs": [],
   "source": [
    "# export\n",
    "\n",
    "def average_batches(batches):\n",
    "    val = torch.tensor(0.)\n",
    "    c = 0\n",
    "    for batch in batches:\n",
    "        bs = batch.shape[0]\n",
    "        val += batch.mean()*bs\n",
    "        c += bs\n",
    "        \n",
    "    return val/c\n",
    "\n",
    "def smooth_batches(batches, beta=0.98):\n",
    "    \n",
    "    val = torch.tensor(0.)\n",
    "    count = 0\n",
    "    \n",
    "    for batch in batches:\n",
    "        val = torch.lerp(batch.mean(), val, beta)\n",
    "        count += 1\n",
    "        \n",
    "    return val/(1-beta**count)"
   ]
  },
  {
   "cell_type": "code",
   "execution_count": null,
   "metadata": {},
   "outputs": [],
   "source": [
    "# export\n",
    "\n",
    "def pad_and_merge(x1, x2, pad_idx, batch_dim=0, pad_dim=1):\n",
    "    \n",
    "    if type(x1)==list:\n",
    "        output = [pad_and_merge(x1[i], x2[i], pad_idx, batch_dim, pad_dim) \n",
    "                  for i in range(len(x1))]\n",
    "    else:\n",
    "        new_bs = x1.shape[batch_dim] + x2.shape[batch_dim]\n",
    "        new_sl = max(x1.shape[pad_dim], x2.shape[pad_dim])\n",
    "\n",
    "        output = torch.zeros((new_bs, new_sl)).long() + pad_idx\n",
    "        output = output.type(x1.dtype)\n",
    "        output = output.to(x1.device)\n",
    "        output[:x1.shape[0], :x1.shape[1]] = x1\n",
    "        output[x1.shape[0]:, :x2.shape[1]] = x2\n",
    "    \n",
    "    return output\n",
    "\n",
    "def merge_weights(sd1, sd2, alpha=0.5):\n",
    "    new_dict = {}\n",
    "    for key in sd1.keys():\n",
    "        if key in sd2.keys():\n",
    "            new_dict[key] = sd1[key]*alpha + sd2[key]*(1-alpha)\n",
    "        else:\n",
    "            new_dict[key] = sd1[key]\n",
    "    return new_dict\n",
    "\n",
    "def merge_models(model1, model2, alpha=0.5):\n",
    "    new_weights = merge_weights(model1.state_dict(), model2.state_dict(), alpha)\n",
    "    model1.load_state_dict(new_weights)"
   ]
  },
  {
   "cell_type": "code",
   "execution_count": null,
   "metadata": {},
   "outputs": [],
   "source": [
    "# export\n",
    "\n",
    "class CrossEntropy():\n",
    "    def __init__(self):\n",
    "        self.loss = nn.CrossEntropyLoss()\n",
    "        \n",
    "    def __call__(self, output, target):\n",
    "        output = output.view(-1, output.shape[-1])\n",
    "        target = target.view(-1)\n",
    "        return self.loss(output, target)"
   ]
  },
  {
   "cell_type": "code",
   "execution_count": null,
   "metadata": {},
   "outputs": [],
   "source": []
  },
  {
   "cell_type": "code",
   "execution_count": null,
   "metadata": {},
   "outputs": [
    {
     "name": "stdout",
     "output_type": "stream",
     "text": [
      "Converted 00_core.ipynb.\n",
      "Converted 01_chem.ipynb.\n",
      "Converted 02_template.filters.ipynb.\n",
      "Converted 03_template.template.ipynb.\n",
      "Converted 04_template.blocks.ipynb.\n",
      "Converted 05_torch_core.ipynb.\n",
      "Converted 06_layers.ipynb.\n",
      "Converted 07_dataloaders.ipynb.\n",
      "Converted index.ipynb.\n",
      "Converted template.overview.ipynb.\n",
      "Converted tutorials.ipynb.\n",
      "Converted tutorials.structure_enumeration.ipynb.\n",
      "Converted tutorials.template.advanced.ipynb.\n",
      "Converted tutorials.template.beginner.ipynb.\n",
      "Converted tutorials.template.intermediate.ipynb.\n"
     ]
    }
   ],
   "source": [
    "# hide\n",
    "from nbdev.export import notebook2script; notebook2script()"
   ]
  },
  {
   "cell_type": "code",
   "execution_count": null,
   "metadata": {},
   "outputs": [],
   "source": []
  }
 ],
 "metadata": {
  "kernelspec": {
   "display_name": "Python 3",
   "language": "python",
   "name": "python3"
  }
 },
 "nbformat": 4,
 "nbformat_minor": 2
}
