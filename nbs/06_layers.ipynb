{
 "cells": [
  {
   "cell_type": "code",
   "execution_count": 1,
   "metadata": {},
   "outputs": [],
   "source": [
    "# default_exp layers"
   ]
  },
  {
   "cell_type": "markdown",
   "metadata": {},
   "source": [
    "# Layers\n",
    "\n",
    "> Pytorch model layers"
   ]
  },
  {
   "cell_type": "code",
   "execution_count": 2,
   "metadata": {},
   "outputs": [],
   "source": [
    "#hide\n",
    "from nbdev.showdoc import *\n",
    "%load_ext autoreload\n",
    "%autoreload 2"
   ]
  },
  {
   "cell_type": "code",
   "execution_count": 3,
   "metadata": {},
   "outputs": [],
   "source": [
    "# export\n",
    "from mrl.imports import *\n",
    "from mrl.torch_imports import *"
   ]
  },
  {
   "cell_type": "code",
   "execution_count": 4,
   "metadata": {},
   "outputs": [],
   "source": [
    "# export\n",
    "\n",
    "class Linear(nn.Module):\n",
    "    def __init__(self, d_in, d_out, act=True, bn=False, dropout=0.):\n",
    "        super().__init__()\n",
    "        \n",
    "        layers = [nn.Linear(d_in, d_out)]\n",
    "        \n",
    "        if bn:\n",
    "            layers.append(nn.BatchNorm1d(d_out))\n",
    "            \n",
    "        if act:\n",
    "            layers.append(nn.ReLU())\n",
    "            \n",
    "        if dropout>0.:\n",
    "            layers.append(nn.Dropout(p=dropout))\n",
    "            \n",
    "        self.layers = nn.Sequential(*layers)\n",
    "        \n",
    "    def forward(self, x):\n",
    "        return self.layers(x)"
   ]
  },
  {
   "cell_type": "code",
   "execution_count": 5,
   "metadata": {},
   "outputs": [],
   "source": [
    "# export\n",
    "\n",
    "class LSTMBase(nn.Module):\n",
    "    def __init__(self, d_vocab, d_embedding, d_hidden, n_layers, pad_idx, \n",
    "                 lstm_drop=0.):\n",
    "        super().__init__()\n",
    "        \n",
    "        self.d_vocab = d_vocab\n",
    "        self.d_embedding = d_embedding\n",
    "        self.d_hidden = d_hidden\n",
    "        self.n_layers = n_layers\n",
    "        self.pad_idx = pad_idx\n",
    "        \n",
    "        self.embedding = nn.Embedding(d_vocab, d_embedding, padding_idx=pad_idx)\n",
    "        \n",
    "        self.lstms = []\n",
    "        \n",
    "        for i in range(n_layers):\n",
    "            input_size = d_embedding if i==0 else d_hidden\n",
    "            output_size = d_embedding if i==n_layers-1 else d_hidden\n",
    "                \n",
    "            lstm = nn.LSTM(input_size, output_size, 1, batch_first=True, dropout=lstm_drop)\n",
    "            self.lstms.append(lstm)\n",
    "            \n",
    "        self.lstms = nn.ModuleList(self.lstms)\n",
    "                \n",
    "    def forward(self, x):\n",
    "        x = self.embedding(x)\n",
    "        \n",
    "        hiddens = []\n",
    "        for i, lstm in enumerate(self.lstms):\n",
    "            x, (h,c) = lstm(x)\n",
    "            hiddens.append((h.detach(), c.detach()))\n",
    "        \n",
    "        self.last_hiddens = hiddens\n",
    "\n",
    "        return x\n",
    "    \n",
    "# class LMHead(nn.Module):\n",
    "#     def __init__(self, d_in, d_out):\n",
    "#         super().__init__()\n",
    "        \n",
    "#         self.layer = nn.Linear(d_in, d_out)\n",
    "        \n",
    "#     def forward(self, x):\n",
    "#         return self.layer(x)"
   ]
  },
  {
   "cell_type": "code",
   "execution_count": null,
   "metadata": {},
   "outputs": [],
   "source": []
  },
  {
   "cell_type": "code",
   "execution_count": 6,
   "metadata": {},
   "outputs": [],
   "source": [
    "from mrl.dataloaders import *"
   ]
  },
  {
   "cell_type": "code",
   "execution_count": 7,
   "metadata": {},
   "outputs": [],
   "source": [
    "# df = pd.read_csv('files/smiles.csv')\n",
    "df = next(pd.read_csv('../../ZINC_shards_shuffled/shard_0.csv', chunksize=10000000))"
   ]
  },
  {
   "cell_type": "code",
   "execution_count": 8,
   "metadata": {},
   "outputs": [],
   "source": [
    "df = df[df.smiles.map(lambda x: len(x))<100]"
   ]
  },
  {
   "cell_type": "code",
   "execution_count": 9,
   "metadata": {},
   "outputs": [
    {
     "data": {
      "text/html": [
       "<div>\n",
       "<style scoped>\n",
       "    .dataframe tbody tr th:only-of-type {\n",
       "        vertical-align: middle;\n",
       "    }\n",
       "\n",
       "    .dataframe tbody tr th {\n",
       "        vertical-align: top;\n",
       "    }\n",
       "\n",
       "    .dataframe thead th {\n",
       "        text-align: right;\n",
       "    }\n",
       "</style>\n",
       "<table border=\"1\" class=\"dataframe\">\n",
       "  <thead>\n",
       "    <tr style=\"text-align: right;\">\n",
       "      <th></th>\n",
       "      <th>smiles</th>\n",
       "      <th>zinc_id</th>\n",
       "      <th>inchikey</th>\n",
       "      <th>mwt</th>\n",
       "      <th>logp</th>\n",
       "      <th>reactive</th>\n",
       "      <th>purchasable</th>\n",
       "      <th>tranche_name</th>\n",
       "      <th>features</th>\n",
       "    </tr>\n",
       "  </thead>\n",
       "  <tbody>\n",
       "    <tr>\n",
       "      <th>0</th>\n",
       "      <td>O=C(NCc1ccc(Br)cc1F)C(=O)NCC1(Cc2ccccc2)CC1</td>\n",
       "      <td>ZINC000807669219</td>\n",
       "      <td>RPRBOANYNLBELV-UHFFFAOYSA-N</td>\n",
       "      <td>419.294</td>\n",
       "      <td>3.344</td>\n",
       "      <td>0.0</td>\n",
       "      <td>20.0</td>\n",
       "      <td>HGAD</td>\n",
       "      <td>NaN</td>\n",
       "    </tr>\n",
       "    <tr>\n",
       "      <th>1</th>\n",
       "      <td>C[C@@H](NC(=O)[C@@H]1CCc2nccn2C1)C1CN(Cc2cncn2...</td>\n",
       "      <td>ZINC000969991574</td>\n",
       "      <td>GDQMPQCGXNSNHF-ZIAGYGMSSA-N</td>\n",
       "      <td>342.447</td>\n",
       "      <td>0.816</td>\n",
       "      <td>0.0</td>\n",
       "      <td>20.0</td>\n",
       "      <td>ECAD</td>\n",
       "      <td>NaN</td>\n",
       "    </tr>\n",
       "    <tr>\n",
       "      <th>2</th>\n",
       "      <td>C[C@@H](c1ccccc1F)N(C)c1nnc(CC(C)(C)C)n1CCNS(=...</td>\n",
       "      <td>ZINC001541788850</td>\n",
       "      <td>ALRPTKPQPMHISQ-INIZCTEOSA-N</td>\n",
       "      <td>478.594</td>\n",
       "      <td>3.311</td>\n",
       "      <td>0.0</td>\n",
       "      <td>20.0</td>\n",
       "      <td>JGAD</td>\n",
       "      <td>NaN</td>\n",
       "    </tr>\n",
       "    <tr>\n",
       "      <th>3</th>\n",
       "      <td>O=C(Cc1ccccc1Cl)N1CC(NC(=O)[C@@H]2C[C@@H]3CCCC...</td>\n",
       "      <td>ZINC000997656351</td>\n",
       "      <td>BFXLNUTXWTYLSO-RRQGHBQHSA-N</td>\n",
       "      <td>360.885</td>\n",
       "      <td>3.036</td>\n",
       "      <td>0.0</td>\n",
       "      <td>20.0</td>\n",
       "      <td>FGAD</td>\n",
       "      <td>NaN</td>\n",
       "    </tr>\n",
       "    <tr>\n",
       "      <th>4</th>\n",
       "      <td>Cn1[nH]c(CN2C[C@H]3CC[C@H]2CN3C(=O)[C@H]2CCNC(...</td>\n",
       "      <td>ZINC000971263820</td>\n",
       "      <td>JZUXMQSAMSOURF-SDDRHHMPSA-N</td>\n",
       "      <td>348.407</td>\n",
       "      <td>-1.190</td>\n",
       "      <td>0.0</td>\n",
       "      <td>20.0</td>\n",
       "      <td>EAAD</td>\n",
       "      <td>NaN</td>\n",
       "    </tr>\n",
       "  </tbody>\n",
       "</table>\n",
       "</div>"
      ],
      "text/plain": [
       "                                              smiles           zinc_id  \\\n",
       "0        O=C(NCc1ccc(Br)cc1F)C(=O)NCC1(Cc2ccccc2)CC1  ZINC000807669219   \n",
       "1  C[C@@H](NC(=O)[C@@H]1CCc2nccn2C1)C1CN(Cc2cncn2...  ZINC000969991574   \n",
       "2  C[C@@H](c1ccccc1F)N(C)c1nnc(CC(C)(C)C)n1CCNS(=...  ZINC001541788850   \n",
       "3  O=C(Cc1ccccc1Cl)N1CC(NC(=O)[C@@H]2C[C@@H]3CCCC...  ZINC000997656351   \n",
       "4  Cn1[nH]c(CN2C[C@H]3CC[C@H]2CN3C(=O)[C@H]2CCNC(...  ZINC000971263820   \n",
       "\n",
       "                      inchikey      mwt   logp  reactive  purchasable  \\\n",
       "0  RPRBOANYNLBELV-UHFFFAOYSA-N  419.294  3.344       0.0         20.0   \n",
       "1  GDQMPQCGXNSNHF-ZIAGYGMSSA-N  342.447  0.816       0.0         20.0   \n",
       "2  ALRPTKPQPMHISQ-INIZCTEOSA-N  478.594  3.311       0.0         20.0   \n",
       "3  BFXLNUTXWTYLSO-RRQGHBQHSA-N  360.885  3.036       0.0         20.0   \n",
       "4  JZUXMQSAMSOURF-SDDRHHMPSA-N  348.407 -1.190       0.0         20.0   \n",
       "\n",
       "  tranche_name features  \n",
       "0         HGAD      NaN  \n",
       "1         ECAD      NaN  \n",
       "2         JGAD      NaN  \n",
       "3         FGAD      NaN  \n",
       "4         EAAD      NaN  "
      ]
     },
     "execution_count": 9,
     "metadata": {},
     "output_type": "execute_result"
    }
   ],
   "source": [
    "df.head()"
   ]
  },
  {
   "cell_type": "code",
   "execution_count": 10,
   "metadata": {},
   "outputs": [],
   "source": [
    "vocab = CharacterVocab(SMILES_CHAR_VOCAB)"
   ]
  },
  {
   "cell_type": "code",
   "execution_count": 11,
   "metadata": {},
   "outputs": [
    {
     "data": {
      "text/plain": [
       "42"
      ]
     },
     "execution_count": 11,
     "metadata": {},
     "output_type": "execute_result"
    }
   ],
   "source": [
    "len(vocab.itos)"
   ]
  },
  {
   "cell_type": "code",
   "execution_count": null,
   "metadata": {},
   "outputs": [],
   "source": []
  },
  {
   "cell_type": "code",
   "execution_count": 12,
   "metadata": {},
   "outputs": [],
   "source": [
    "os.environ['CUDA_LAUNCH_BLOCKING'] = '1'"
   ]
  },
  {
   "cell_type": "code",
   "execution_count": null,
   "metadata": {},
   "outputs": [],
   "source": []
  },
  {
   "cell_type": "code",
   "execution_count": 13,
   "metadata": {},
   "outputs": [],
   "source": [
    "train_data = df.sample(frac=0.98)\n",
    "valid_data = df[~(df.index.isin(train_data.index))]"
   ]
  },
  {
   "cell_type": "code",
   "execution_count": 14,
   "metadata": {},
   "outputs": [],
   "source": [
    "train_ds = TextDataset(train_data.smiles.values, vocab)\n",
    "valid_ds = TextDataset(valid_data.smiles.values, vocab)"
   ]
  },
  {
   "cell_type": "code",
   "execution_count": 15,
   "metadata": {},
   "outputs": [],
   "source": [
    "train_dl = train_ds.dataloader(96, num_workers=0)\n",
    "valid_dl = valid_ds.dataloader(96, num_workers=0, shuffle=False)"
   ]
  },
  {
   "cell_type": "code",
   "execution_count": 16,
   "metadata": {},
   "outputs": [
    {
     "data": {
      "text/plain": [
       "102077"
      ]
     },
     "execution_count": 16,
     "metadata": {},
     "output_type": "execute_result"
    }
   ],
   "source": [
    "len(train_dl)"
   ]
  },
  {
   "cell_type": "code",
   "execution_count": null,
   "metadata": {},
   "outputs": [],
   "source": []
  },
  {
   "cell_type": "code",
   "execution_count": 17,
   "metadata": {},
   "outputs": [],
   "source": [
    "class LSTMLM(nn.Module):\n",
    "    def __init__(self, d_vocab, d_embedding, d_hidden, n_layers, pad_idx, lstm_drop=0.):\n",
    "        super().__init__()\n",
    "        self.base = LSTMBase(d_vocab, d_embedding, d_hidden, n_layers, pad_idx, lstm_drop)\n",
    "        self.head = Linear(d_embedding, d_vocab, act=False, bn=False, dropout=0.)\n",
    "        \n",
    "    def forward(self, x):\n",
    "        x = self.base(x)\n",
    "        x = self.head(x)\n",
    "        return x"
   ]
  },
  {
   "cell_type": "code",
   "execution_count": null,
   "metadata": {},
   "outputs": [],
   "source": []
  },
  {
   "cell_type": "code",
   "execution_count": 18,
   "metadata": {},
   "outputs": [],
   "source": [
    "from fastai.text.all import *"
   ]
  },
  {
   "cell_type": "code",
   "execution_count": null,
   "metadata": {},
   "outputs": [],
   "source": []
  },
  {
   "cell_type": "code",
   "execution_count": 19,
   "metadata": {},
   "outputs": [],
   "source": [
    "model = LSTMLM(len(vocab.itos), 256, 1024, 3, vocab.stoi['pad'])\n",
    "# encoder = AWD_LSTM(len(vocab.itos), 256, 1024, 3, vocab.stoi['pad'])\n",
    "# decoder = LinearDecoder(len(vocab.itos), 256, 0., tie_encoder=False, bias=True)\n",
    "# model = SequentialRNN(encoder, decoder)"
   ]
  },
  {
   "cell_type": "code",
   "execution_count": null,
   "metadata": {},
   "outputs": [],
   "source": []
  },
  {
   "cell_type": "code",
   "execution_count": 20,
   "metadata": {},
   "outputs": [],
   "source": [
    "from fastai.vision.all import *"
   ]
  },
  {
   "cell_type": "code",
   "execution_count": 21,
   "metadata": {},
   "outputs": [],
   "source": [
    "dl = DataLoaders(train_dl, valid_dl)"
   ]
  },
  {
   "cell_type": "code",
   "execution_count": null,
   "metadata": {},
   "outputs": [],
   "source": []
  },
  {
   "cell_type": "code",
   "execution_count": 22,
   "metadata": {},
   "outputs": [],
   "source": [
    "# learn = Learner(dl, model, loss_func=CrossEntropyLossFlat(), cbs=[ModelResetter(), RNNCallback()])\n",
    "learn = Learner(dl, model, loss_func=CrossEntropyLossFlat())"
   ]
  },
  {
   "cell_type": "code",
   "execution_count": null,
   "metadata": {},
   "outputs": [],
   "source": []
  },
  {
   "cell_type": "code",
   "execution_count": 23,
   "metadata": {},
   "outputs": [
    {
     "data": {
      "text/html": [],
      "text/plain": [
       "<IPython.core.display.HTML object>"
      ]
     },
     "metadata": {},
     "output_type": "display_data"
    },
    {
     "data": {
      "text/plain": [
       "SuggestedLRs(lr_min=0.005754399299621582, lr_steep=0.0012022644514217973)"
      ]
     },
     "execution_count": 23,
     "metadata": {},
     "output_type": "execute_result"
    },
    {
     "data": {
      "image/png": "[encoded data removed]",
      "text/plain": [
       "<Figure size 432x288 with 1 Axes>"
      ]
     },
     "metadata": {
      "needs_background": "light"
     },
     "output_type": "display_data"
    }
   ],
   "source": [
    "learn.lr_find()"
   ]
  },
  {
   "cell_type": "code",
   "execution_count": null,
   "metadata": {},
   "outputs": [],
   "source": []
  },
  {
   "cell_type": "code",
   "execution_count": 23,
   "metadata": {
    "scrolled": true
   },
   "outputs": [
    {
     "data": {
      "text/html": [
       "<table border=\"1\" class=\"dataframe\">\n",
       "  <thead>\n",
       "    <tr style=\"text-align: left;\">\n",
       "      <th>epoch</th>\n",
       "      <th>train_loss</th>\n",
       "      <th>valid_loss</th>\n",
       "      <th>time</th>\n",
       "    </tr>\n",
       "  </thead>\n",
       "  <tbody>\n",
       "    <tr>\n",
       "      <td>0</td>\n",
       "      <td>0.317389</td>\n",
       "      <td>0.317360</td>\n",
       "      <td>4:06:27</td>\n",
       "    </tr>\n",
       "    <tr>\n",
       "      <td>1</td>\n",
       "      <td>0.300273</td>\n",
       "      <td>0.300688</td>\n",
       "      <td>4:08:10</td>\n",
       "    </tr>\n",
       "  </tbody>\n",
       "</table>"
      ],
      "text/plain": [
       "<IPython.core.display.HTML object>"
      ]
     },
     "metadata": {},
     "output_type": "display_data"
    },
    {
     "name": "stderr",
     "output_type": "stream",
     "text": [
      "IOPub message rate exceeded.\n",
      "The notebook server will temporarily stop sending output\n",
      "to the client in order to avoid crashing it.\n",
      "To change this limit, set the config variable\n",
      "`--NotebookApp.iopub_msg_rate_limit`.\n",
      "\n",
      "Current values:\n",
      "NotebookApp.iopub_msg_rate_limit=1000.0 (msgs/sec)\n",
      "NotebookApp.rate_limit_window=3.0 (secs)\n",
      "\n",
      "IOPub message rate exceeded.\n",
      "The notebook server will temporarily stop sending output\n",
      "to the client in order to avoid crashing it.\n",
      "To change this limit, set the config variable\n",
      "`--NotebookApp.iopub_msg_rate_limit`.\n",
      "\n",
      "Current values:\n",
      "NotebookApp.iopub_msg_rate_limit=1000.0 (msgs/sec)\n",
      "NotebookApp.rate_limit_window=3.0 (secs)\n",
      "\n",
      "IOPub message rate exceeded.\n",
      "The notebook server will temporarily stop sending output\n",
      "to the client in order to avoid crashing it.\n",
      "To change this limit, set the config variable\n",
      "`--NotebookApp.iopub_msg_rate_limit`.\n",
      "\n",
      "Current values:\n",
      "NotebookApp.iopub_msg_rate_limit=1000.0 (msgs/sec)\n",
      "NotebookApp.rate_limit_window=3.0 (secs)\n",
      "\n",
      "IOPub message rate exceeded.\n",
      "The notebook server will temporarily stop sending output\n",
      "to the client in order to avoid crashing it.\n",
      "To change this limit, set the config variable\n",
      "`--NotebookApp.iopub_msg_rate_limit`.\n",
      "\n",
      "Current values:\n",
      "NotebookApp.iopub_msg_rate_limit=1000.0 (msgs/sec)\n",
      "NotebookApp.rate_limit_window=3.0 (secs)\n",
      "\n",
      "IOPub message rate exceeded.\n",
      "The notebook server will temporarily stop sending output\n",
      "to the client in order to avoid crashing it.\n",
      "To change this limit, set the config variable\n",
      "`--NotebookApp.iopub_msg_rate_limit`.\n",
      "\n",
      "Current values:\n",
      "NotebookApp.iopub_msg_rate_limit=1000.0 (msgs/sec)\n",
      "NotebookApp.rate_limit_window=3.0 (secs)\n",
      "\n",
      "IOPub message rate exceeded.\n",
      "The notebook server will temporarily stop sending output\n",
      "to the client in order to avoid crashing it.\n",
      "To change this limit, set the config variable\n",
      "`--NotebookApp.iopub_msg_rate_limit`.\n",
      "\n",
      "Current values:\n",
      "NotebookApp.iopub_msg_rate_limit=1000.0 (msgs/sec)\n",
      "NotebookApp.rate_limit_window=3.0 (secs)\n",
      "\n",
      "IOPub message rate exceeded.\n",
      "The notebook server will temporarily stop sending output\n",
      "to the client in order to avoid crashing it.\n",
      "To change this limit, set the config variable\n",
      "`--NotebookApp.iopub_msg_rate_limit`.\n",
      "\n",
      "Current values:\n",
      "NotebookApp.iopub_msg_rate_limit=1000.0 (msgs/sec)\n",
      "NotebookApp.rate_limit_window=3.0 (secs)\n",
      "\n",
      "IOPub message rate exceeded.\n",
      "The notebook server will temporarily stop sending output\n",
      "to the client in order to avoid crashing it.\n",
      "To change this limit, set the config variable\n",
      "`--NotebookApp.iopub_msg_rate_limit`.\n",
      "\n",
      "Current values:\n",
      "NotebookApp.iopub_msg_rate_limit=1000.0 (msgs/sec)\n",
      "NotebookApp.rate_limit_window=3.0 (secs)\n",
      "\n",
      "IOPub message rate exceeded.\n",
      "The notebook server will temporarily stop sending output\n",
      "to the client in order to avoid crashing it.\n",
      "To change this limit, set the config variable\n",
      "`--NotebookApp.iopub_msg_rate_limit`.\n",
      "\n",
      "Current values:\n",
      "NotebookApp.iopub_msg_rate_limit=1000.0 (msgs/sec)\n",
      "NotebookApp.rate_limit_window=3.0 (secs)\n",
      "\n",
      "IOPub message rate exceeded.\n",
      "The notebook server will temporarily stop sending output\n",
      "to the client in order to avoid crashing it.\n",
      "To change this limit, set the config variable\n",
      "`--NotebookApp.iopub_msg_rate_limit`.\n",
      "\n",
      "Current values:\n",
      "NotebookApp.iopub_msg_rate_limit=1000.0 (msgs/sec)\n",
      "NotebookApp.rate_limit_window=3.0 (secs)\n",
      "\n",
      "IOPub message rate exceeded.\n",
      "The notebook server will temporarily stop sending output\n",
      "to the client in order to avoid crashing it.\n",
      "To change this limit, set the config variable\n",
      "`--NotebookApp.iopub_msg_rate_limit`.\n",
      "\n",
      "Current values:\n",
      "NotebookApp.iopub_msg_rate_limit=1000.0 (msgs/sec)\n",
      "NotebookApp.rate_limit_window=3.0 (secs)\n",
      "\n",
      "IOPub message rate exceeded.\n",
      "The notebook server will temporarily stop sending output\n",
      "to the client in order to avoid crashing it.\n",
      "To change this limit, set the config variable\n",
      "`--NotebookApp.iopub_msg_rate_limit`.\n",
      "\n",
      "Current values:\n",
      "NotebookApp.iopub_msg_rate_limit=1000.0 (msgs/sec)\n",
      "NotebookApp.rate_limit_window=3.0 (secs)\n",
      "\n",
      "IOPub message rate exceeded.\n",
      "The notebook server will temporarily stop sending output\n",
      "to the client in order to avoid crashing it.\n",
      "To change this limit, set the config variable\n",
      "`--NotebookApp.iopub_msg_rate_limit`.\n",
      "\n",
      "Current values:\n",
      "NotebookApp.iopub_msg_rate_limit=1000.0 (msgs/sec)\n",
      "NotebookApp.rate_limit_window=3.0 (secs)\n",
      "\n",
      "IOPub message rate exceeded.\n",
      "The notebook server will temporarily stop sending output\n",
      "to the client in order to avoid crashing it.\n",
      "To change this limit, set the config variable\n",
      "`--NotebookApp.iopub_msg_rate_limit`.\n",
      "\n",
      "Current values:\n",
      "NotebookApp.iopub_msg_rate_limit=1000.0 (msgs/sec)\n",
      "NotebookApp.rate_limit_window=3.0 (secs)\n",
      "\n",
      "IOPub message rate exceeded.\n",
      "The notebook server will temporarily stop sending output\n",
      "to the client in order to avoid crashing it.\n",
      "To change this limit, set the config variable\n",
      "`--NotebookApp.iopub_msg_rate_limit`.\n",
      "\n",
      "Current values:\n",
      "NotebookApp.iopub_msg_rate_limit=1000.0 (msgs/sec)\n",
      "NotebookApp.rate_limit_window=3.0 (secs)\n",
      "\n",
      "IOPub message rate exceeded.\n",
      "The notebook server will temporarily stop sending output\n",
      "to the client in order to avoid crashing it.\n",
      "To change this limit, set the config variable\n",
      "`--NotebookApp.iopub_msg_rate_limit`.\n",
      "\n",
      "Current values:\n",
      "NotebookApp.iopub_msg_rate_limit=1000.0 (msgs/sec)\n",
      "NotebookApp.rate_limit_window=3.0 (secs)\n",
      "\n"
     ]
    }
   ],
   "source": [
    "learn.fit_one_cycle(2, 3e-3)"
   ]
  },
  {
   "cell_type": "code",
   "execution_count": 24,
   "metadata": {},
   "outputs": [
    {
     "data": {
      "text/plain": [
       "Path('models/lstm1.pth')"
      ]
     },
     "execution_count": 24,
     "metadata": {},
     "output_type": "execute_result"
    }
   ],
   "source": [
    "learn.save('lstm1')"
   ]
  },
  {
   "cell_type": "code",
   "execution_count": null,
   "metadata": {},
   "outputs": [],
   "source": []
  },
  {
   "cell_type": "code",
   "execution_count": 25,
   "metadata": {},
   "outputs": [
    {
     "data": {
      "text/plain": [
       "True"
      ]
     },
     "execution_count": 25,
     "metadata": {},
     "output_type": "execute_result"
    }
   ],
   "source": [
    "torch.backends.cudnn.enabled"
   ]
  },
  {
   "cell_type": "code",
   "execution_count": null,
   "metadata": {},
   "outputs": [],
   "source": []
  },
  {
   "cell_type": "code",
   "execution_count": null,
   "metadata": {},
   "outputs": [],
   "source": []
  },
  {
   "cell_type": "code",
   "execution_count": 29,
   "metadata": {},
   "outputs": [
    {
     "data": {
      "text/html": [
       "<table border=\"1\" class=\"dataframe\">\n",
       "  <thead>\n",
       "    <tr style=\"text-align: left;\">\n",
       "      <th>epoch</th>\n",
       "      <th>train_loss</th>\n",
       "      <th>valid_loss</th>\n",
       "      <th>time</th>\n",
       "    </tr>\n",
       "  </thead>\n",
       "  <tbody>\n",
       "    <tr>\n",
       "      <td>0</td>\n",
       "      <td>0.356515</td>\n",
       "      <td>0.356407</td>\n",
       "      <td>12:51</td>\n",
       "    </tr>\n",
       "    <tr>\n",
       "      <td>1</td>\n",
       "      <td>0.331074</td>\n",
       "      <td>0.332720</td>\n",
       "      <td>12:55</td>\n",
       "    </tr>\n",
       "    <tr>\n",
       "      <td>2</td>\n",
       "      <td>0.312755</td>\n",
       "      <td>0.316965</td>\n",
       "      <td>12:56</td>\n",
       "    </tr>\n",
       "    <tr>\n",
       "      <td>3</td>\n",
       "      <td>0.301957</td>\n",
       "      <td>0.311658</td>\n",
       "      <td>12:30</td>\n",
       "    </tr>\n",
       "  </tbody>\n",
       "</table>"
      ],
      "text/plain": [
       "<IPython.core.display.HTML object>"
      ]
     },
     "metadata": {},
     "output_type": "display_data"
    }
   ],
   "source": [
    "learn.fit_one_cycle(4, 3e-3)"
   ]
  },
  {
   "cell_type": "code",
   "execution_count": null,
   "metadata": {},
   "outputs": [],
   "source": []
  },
  {
   "cell_type": "code",
   "execution_count": null,
   "metadata": {},
   "outputs": [],
   "source": []
  },
  {
   "cell_type": "code",
   "execution_count": null,
   "metadata": {},
   "outputs": [],
   "source": []
  },
  {
   "cell_type": "code",
   "execution_count": null,
   "metadata": {},
   "outputs": [],
   "source": []
  },
  {
   "cell_type": "code",
   "execution_count": 19,
   "metadata": {},
   "outputs": [],
   "source": [
    "model.cuda();"
   ]
  },
  {
   "cell_type": "code",
   "execution_count": 20,
   "metadata": {
    "scrolled": true
   },
   "outputs": [],
   "source": [
    "opt = torch.optim.Adam(model.parameters(), lr=1e-3)"
   ]
  },
  {
   "cell_type": "code",
   "execution_count": 22,
   "metadata": {},
   "outputs": [],
   "source": [
    "# sched = torch.optim.lr_scheduler.ReduceLROnPlateau(opt, mode='min', factor=0.5)\n",
    "sched = torch.optim.lr_scheduler.OneCycleLR(opt, 3e-3, total_steps=len(train_dl)*4)"
   ]
  },
  {
   "cell_type": "code",
   "execution_count": null,
   "metadata": {},
   "outputs": [],
   "source": []
  },
  {
   "cell_type": "code",
   "execution_count": 23,
   "metadata": {
    "scrolled": true
   },
   "outputs": [
    {
     "name": "stdout",
     "output_type": "stream",
     "text": [
      "0\n",
      "tensor(1.7611)\n",
      "tensor(1.4714)\n",
      "tensor(1.0725)\n",
      "tensor(0.8579)\n",
      "tensor(0.7714)\n",
      "tensor(0.6974)\n",
      "tensor(0.6446)\n",
      "tensor(0.6038)\n",
      "tensor(0.5761)\n",
      "tensor(0.5557)\n",
      "tensor(0.5363)\n",
      "tensor(0.5197)\n",
      "tensor(0.4988)\n",
      "tensor(0.4862)\n",
      "tensor(0.4780)\n",
      "tensor(0.4592)\n",
      "tensor(0.4567)\n",
      "tensor(0.4506)\n",
      "tensor(0.4499)\n",
      "tensor(0.4467)\n",
      "tensor(0.4278)\n",
      "tensor(0.4210)\n",
      "tensor(0.4169)\n",
      "tensor(0.4187)\n",
      "tensor(0.4169)\n",
      "tensor(0.4191)\n",
      "tensor(0.4122)\n",
      "tensor(0.4050)\n",
      "tensor(0.4041)\n",
      "tensor(0.4046)\n",
      "tensor(0.3974)\n",
      "tensor(0.4041)\n",
      "tensor(0.3977)\n",
      "tensor(0.3945)\n",
      "tensor(0.3891)\n",
      "tensor(0.3880)\n",
      "tensor(0.3958)\n",
      "tensor(0.3902)\n",
      "tensor(0.3875)\n",
      "tensor(0.3820)\n",
      "tensor(0.3847)\n",
      "tensor(0.3835)\n",
      "tensor(0.3829)\n",
      "tensor(0.3711)\n",
      "tensor(0.3737)\n",
      "tensor(0.3786)\n",
      "tensor(0.3775)\n",
      "tensor(0.3751)\n",
      "tensor(0.3789)\n",
      "tensor(0.3665)\n",
      "tensor(0.3752)\n",
      "tensor(0.3796)\n",
      "tensor(0.3762)\n",
      "tensor(0.3712)\n",
      "tensor(0.3763)\n",
      "tensor(0.3688)\n",
      "tensor(0.3646)\n",
      "tensor(0.3705)\n",
      "tensor(0.3683)\n",
      "tensor(0.3676)\n",
      "tensor(0.3674)\n",
      "tensor(0.3699)\n",
      "tensor(0.3675)\n",
      "tensor(0.3698)\n",
      "tensor(0.3696)\n",
      "tensor(0.3668)\n",
      "tensor(0.3680)\n",
      "tensor(0.3694)\n",
      "tensor(0.3702)\n",
      "tensor(0.3738)\n",
      "tensor(0.3702)\n",
      "tensor(0.3646)\n",
      "tensor(0.3636)\n",
      "tensor(0.3686)\n",
      "Valid loss: 0.3691312074661255\n",
      "1\n",
      "tensor(0.3681)\n",
      "tensor(0.3731)\n",
      "tensor(0.3711)\n",
      "tensor(0.3642)\n",
      "tensor(0.3728)\n",
      "tensor(0.3696)\n",
      "tensor(0.3688)\n",
      "tensor(0.3697)\n",
      "tensor(0.3713)\n",
      "tensor(0.3729)\n",
      "tensor(0.3703)\n",
      "tensor(0.3714)\n",
      "tensor(0.3672)\n",
      "tensor(0.3678)\n",
      "tensor(0.3693)\n",
      "tensor(0.3620)\n",
      "tensor(0.3648)\n",
      "tensor(0.3681)\n",
      "tensor(0.3714)\n",
      "tensor(0.3753)\n",
      "tensor(0.3645)\n",
      "tensor(0.3644)\n",
      "tensor(0.3639)\n",
      "tensor(0.3665)\n",
      "tensor(0.3686)\n",
      "tensor(0.3725)\n",
      "tensor(0.3707)\n",
      "tensor(0.3671)\n",
      "tensor(0.3692)\n",
      "tensor(0.3707)\n",
      "tensor(0.3667)\n",
      "tensor(0.3744)\n",
      "tensor(0.3702)\n",
      "tensor(0.3690)\n",
      "tensor(0.3673)\n",
      "tensor(0.3681)\n",
      "tensor(0.3769)\n",
      "tensor(0.3773)\n",
      "tensor(0.3736)\n",
      "tensor(0.3695)\n",
      "tensor(0.3716)\n",
      "tensor(0.3703)\n",
      "tensor(0.3718)\n",
      "tensor(0.3609)\n",
      "tensor(0.3633)\n",
      "tensor(0.3683)\n",
      "tensor(0.3681)\n",
      "tensor(0.3678)\n",
      "tensor(0.3752)\n",
      "tensor(0.3619)\n",
      "tensor(0.3703)\n",
      "tensor(0.3760)\n",
      "tensor(0.3737)\n",
      "tensor(0.3681)\n",
      "tensor(0.3725)\n",
      "tensor(0.3647)\n",
      "tensor(0.3610)\n",
      "tensor(0.3666)\n",
      "tensor(0.3650)\n",
      "tensor(0.3633)\n",
      "tensor(0.3654)\n",
      "tensor(0.3682)\n",
      "tensor(0.3653)\n",
      "tensor(0.3667)\n",
      "tensor(0.3683)\n",
      "tensor(0.3652)\n",
      "tensor(0.3661)\n",
      "tensor(0.3668)\n",
      "tensor(0.3681)\n",
      "tensor(0.3708)\n",
      "tensor(0.3660)\n",
      "tensor(0.3631)\n",
      "tensor(0.3613)\n",
      "tensor(0.3666)\n",
      "Valid loss: 0.36752864718437195\n",
      "2\n",
      "tensor(0.3656)\n",
      "tensor(0.3706)\n",
      "tensor(0.3681)\n",
      "tensor(0.3614)\n",
      "tensor(0.3688)\n",
      "tensor(0.3658)\n",
      "tensor(0.3660)\n",
      "tensor(0.3651)\n",
      "tensor(0.3669)\n",
      "tensor(0.3689)\n",
      "tensor(0.3659)\n",
      "tensor(0.3667)\n",
      "tensor(0.3616)\n",
      "tensor(0.3618)\n",
      "tensor(0.3634)\n",
      "tensor(0.3564)\n",
      "tensor(0.3585)\n",
      "tensor(0.3617)\n",
      "tensor(0.3638)\n",
      "tensor(0.3682)\n",
      "tensor(0.3582)\n",
      "tensor(0.3819)\n",
      "tensor(0.3769)\n",
      "tensor(0.3767)\n",
      "tensor(0.3750)\n",
      "tensor(0.3779)\n",
      "tensor(0.4069)\n",
      "tensor(0.3918)\n",
      "tensor(0.3896)\n",
      "tensor(0.3867)\n",
      "tensor(0.3816)\n",
      "tensor(0.3878)\n",
      "tensor(0.3809)\n",
      "tensor(0.3778)\n",
      "tensor(0.3740)\n",
      "tensor(0.3735)\n",
      "tensor(0.3806)\n",
      "tensor(0.3757)\n",
      "tensor(0.3730)\n",
      "tensor(0.3698)\n",
      "tensor(0.3710)\n",
      "tensor(0.3705)\n",
      "tensor(0.3712)\n",
      "tensor(0.3606)\n",
      "tensor(0.3626)\n",
      "tensor(0.3674)\n",
      "tensor(0.3662)\n",
      "tensor(0.3647)\n",
      "tensor(0.3682)\n",
      "tensor(0.3588)\n",
      "tensor(0.3662)\n",
      "tensor(0.3708)\n",
      "tensor(0.3668)\n",
      "tensor(0.3619)\n",
      "tensor(0.3671)\n",
      "tensor(0.3588)\n",
      "tensor(0.3553)\n",
      "tensor(0.3599)\n",
      "tensor(0.3588)\n",
      "tensor(0.3570)\n",
      "tensor(0.3578)\n",
      "tensor(0.3593)\n",
      "tensor(0.3564)\n",
      "tensor(0.3585)\n",
      "tensor(0.3579)\n",
      "tensor(0.3556)\n",
      "tensor(0.3565)\n",
      "tensor(0.3572)\n",
      "tensor(0.3574)\n",
      "tensor(0.3605)\n",
      "tensor(0.3556)\n",
      "tensor(0.3510)\n",
      "tensor(0.3501)\n",
      "tensor(0.3546)\n",
      "Valid loss: 0.35580065846443176\n",
      "3\n",
      "tensor(0.3543)\n",
      "tensor(0.3591)\n",
      "tensor(0.3564)\n",
      "tensor(0.3494)\n",
      "tensor(0.3555)\n",
      "tensor(0.3538)\n",
      "tensor(0.3527)\n",
      "tensor(0.3532)\n",
      "tensor(0.3543)\n",
      "tensor(0.3560)\n",
      "tensor(0.3545)\n",
      "tensor(0.3560)\n",
      "tensor(0.3505)\n",
      "tensor(0.3506)\n",
      "tensor(0.3513)\n",
      "tensor(0.3457)\n",
      "tensor(0.3469)\n",
      "tensor(0.3495)\n",
      "tensor(0.3521)\n",
      "tensor(0.3562)\n",
      "tensor(0.3427)\n",
      "tensor(0.3436)\n",
      "tensor(0.3425)\n",
      "tensor(0.3468)\n",
      "tensor(0.3482)\n",
      "tensor(0.3512)\n",
      "tensor(0.3494)\n",
      "tensor(0.3460)\n",
      "tensor(0.3474)\n",
      "tensor(0.3490)\n",
      "tensor(0.3444)\n",
      "tensor(0.3517)\n",
      "tensor(0.3477)\n",
      "tensor(0.3464)\n",
      "tensor(0.3437)\n",
      "tensor(0.3437)\n",
      "tensor(0.3510)\n",
      "tensor(0.3473)\n",
      "tensor(0.3453)\n",
      "tensor(0.3434)\n",
      "tensor(0.3450)\n",
      "tensor(0.3447)\n",
      "tensor(0.3468)\n",
      "tensor(0.3364)\n",
      "tensor(0.3392)\n",
      "tensor(0.3438)\n",
      "tensor(0.3438)\n",
      "tensor(0.3425)\n",
      "tensor(0.3462)\n",
      "tensor(0.3357)\n",
      "tensor(0.3436)\n",
      "tensor(0.3482)\n",
      "tensor(0.3451)\n",
      "tensor(0.3411)\n",
      "tensor(0.3456)\n",
      "tensor(0.3390)\n",
      "tensor(0.3359)\n",
      "tensor(0.3408)\n",
      "tensor(0.3396)\n",
      "tensor(0.3381)\n",
      "tensor(0.3390)\n",
      "tensor(0.3408)\n",
      "tensor(0.3388)\n",
      "tensor(0.3410)\n",
      "tensor(0.3413)\n",
      "tensor(0.3387)\n",
      "tensor(0.3406)\n",
      "tensor(0.3415)\n",
      "tensor(0.3417)\n",
      "tensor(0.3451)\n",
      "tensor(0.3406)\n",
      "tensor(0.3363)\n",
      "tensor(0.3360)\n",
      "tensor(0.3400)\n",
      "Valid loss: 0.344256192445755\n"
     ]
    }
   ],
   "source": [
    "loss_fn = nn.CrossEntropyLoss()\n",
    "losses = []\n",
    "lrs = []\n",
    "epochs = 4\n",
    "\n",
    "for epoch in range(epochs):\n",
    "    print(epoch)\n",
    "    for i, batch in enumerate(train_dl):\n",
    "        if i%400==0 and i>0:\n",
    "            print(torch.tensor(losses[-50:]).mean())\n",
    "        x,y = batch\n",
    "        x = x.cuda()\n",
    "        y = y.cuda()\n",
    "\n",
    "        out = model(x)\n",
    "        opt.zero_grad()\n",
    "        loss = loss_fn(out.reshape(-1,out.shape[-1]), y.reshape(-1))\n",
    "        loss.backward()\n",
    "        opt.step()\n",
    "        sched.step()\n",
    "        losses.append(loss.detach().cpu())\n",
    "        lrs.append(opt.defaults['lr'])\n",
    "        \n",
    "    with torch.no_grad():\n",
    "        valid_losses = []\n",
    "        for i, batch in enumerate(valid_dl):\n",
    "            x,y = batch\n",
    "            x = x.cuda()\n",
    "            y = y.cuda()\n",
    "            out = model(x)\n",
    "            loss = loss_fn(out.reshape(-1,out.shape[-1]), y.reshape(-1))\n",
    "            valid_losses.append(loss.detach().cpu())\n",
    "            \n",
    "            \n",
    "        valid_loss = torch.tensor(valid_losses).mean()\n",
    "        print(f'Valid loss: {valid_loss}')"
   ]
  },
  {
   "cell_type": "code",
   "execution_count": null,
   "metadata": {},
   "outputs": [],
   "source": []
  },
  {
   "cell_type": "code",
   "execution_count": 44,
   "metadata": {},
   "outputs": [],
   "source": [
    "bs = 12\n",
    "\n",
    "preds = idxs = torch.tensor([vocab.stoi['bos']]*bs).long().cuda().unsqueeze(-1)\n",
    "\n",
    "hiddens = []\n",
    "for l in range(model.base.n_layers):\n",
    "    if l==model.base.n_layers-1:\n",
    "        d_hidden = model.base.d_embedding\n",
    "    else:\n",
    "        d_hidden = model.base.d_hidden\n",
    "        \n",
    "    h = torch.zeros((1,bs, d_hidden)).cuda()\n",
    "    c = torch.zeros((1,bs, d_hidden)).cuda()\n",
    "    hiddens.append((h,c))\n",
    "\n",
    "with torch.no_grad():\n",
    "    for i in range(80):\n",
    "        x = model.base.embedding(idxs)\n",
    "        new_hidden = []\n",
    "        for i, lstm in enumerate(model.base.lstms):\n",
    "            x, (h,c) = lstm(x, hiddens[i])\n",
    "            new_hidden.append((h.detach(), c.detach()))\n",
    "            \n",
    "        hiddens = new_hidden\n",
    "            \n",
    "        x = model.head(x)\n",
    "        log_probs = F.log_softmax(x, -1).squeeze(1)\n",
    "        idxs = torch.multinomial(log_probs.exp(), 1)\n",
    "#         idxs = x.argmax(-1)\n",
    "        preds = torch.cat([preds, idxs], -1)"
   ]
  },
  {
   "cell_type": "code",
   "execution_count": null,
   "metadata": {},
   "outputs": [],
   "source": []
  },
  {
   "cell_type": "code",
   "execution_count": 45,
   "metadata": {},
   "outputs": [
    {
     "data": {
      "text/plain": [
       "tensor([ 0, 22, 22, 22, 26, 22,  5, 19, 27,  6, 22, 22, 36, 11, 33,  5, 22, 27,\n",
       "        33, 12, 33, 33, 33,  5, 22,  6, 33,  5, 22,  6, 33, 12,  6, 36, 36, 33,\n",
       "        11, 26, 11, 22, 22, 30, 22, 20, 24, 32,  5, 30, 22, 20, 20, 24, 32, 12,\n",
       "        22, 22, 27, 22, 12,  6, 22, 11,  1,  2,  2,  2,  2,  2,  2,  2,  2,  2,\n",
       "         2,  2,  2,  2,  2,  2,  2,  2,  2], device='cuda:0')"
      ]
     },
     "execution_count": 45,
     "metadata": {},
     "output_type": "execute_result"
    }
   ],
   "source": [
    "preds[0]"
   ]
  },
  {
   "cell_type": "code",
   "execution_count": 46,
   "metadata": {},
   "outputs": [
    {
     "data": {
      "text/plain": [
       "'CCCNC(=O)CCn1c(COc2ccc(C)c(C)c2)nnc1N1CC[C@H]([C@@H]2CCOC2)C1'"
      ]
     },
     "execution_count": 46,
     "metadata": {},
     "output_type": "execute_result"
    }
   ],
   "source": [
    "vocab.reconstruct(preds[0])"
   ]
  },
  {
   "cell_type": "code",
   "execution_count": null,
   "metadata": {},
   "outputs": [],
   "source": []
  },
  {
   "cell_type": "code",
   "execution_count": 31,
   "metadata": {},
   "outputs": [],
   "source": [
    "x,y = next(iter(valid_dl))"
   ]
  },
  {
   "cell_type": "code",
   "execution_count": 32,
   "metadata": {},
   "outputs": [
    {
     "data": {
      "text/plain": [
       "torch.Size([96, 75])"
      ]
     },
     "execution_count": 32,
     "metadata": {},
     "output_type": "execute_result"
    }
   ],
   "source": [
    "x.shape"
   ]
  },
  {
   "cell_type": "code",
   "execution_count": 33,
   "metadata": {},
   "outputs": [
    {
     "data": {
      "text/plain": [
       "device(type='cpu')"
      ]
     },
     "execution_count": 33,
     "metadata": {},
     "output_type": "execute_result"
    }
   ],
   "source": [
    "x.device"
   ]
  },
  {
   "cell_type": "code",
   "execution_count": 36,
   "metadata": {},
   "outputs": [],
   "source": [
    "with torch.no_grad():\n",
    "    p = learn.model(x.cuda())"
   ]
  },
  {
   "cell_type": "code",
   "execution_count": 37,
   "metadata": {},
   "outputs": [
    {
     "data": {
      "text/plain": [
       "torch.Size([96, 75, 42])"
      ]
     },
     "execution_count": 37,
     "metadata": {},
     "output_type": "execute_result"
    }
   ],
   "source": [
    "p.shape"
   ]
  },
  {
   "cell_type": "code",
   "execution_count": 38,
   "metadata": {},
   "outputs": [],
   "source": [
    "probs = F.softmax(p, -1)"
   ]
  },
  {
   "cell_type": "code",
   "execution_count": 40,
   "metadata": {},
   "outputs": [
    {
     "data": {
      "text/plain": [
       "tensor([22, 22,  5,  5, 22, 22,  6, 26, 19, 27,  6, 26, 22, 22,  5, 19, 27,  6,\n",
       "        33, 11, 33, 36, 24, 32, 33, 12, 22, 33, 12, 33, 33, 33, 33, 33, 22, 22,\n",
       "         6, 33, 12,  6, 36, 33, 11, 22,  1,  2,  2,  2,  2,  2,  2,  2,  2,  2,\n",
       "         2,  2,  2,  2,  2,  2,  2,  2,  2,  2,  2,  2,  2,  2,  2,  2,  2,  2,\n",
       "         2,  2,  2], device='cuda:0')"
      ]
     },
     "execution_count": 40,
     "metadata": {},
     "output_type": "execute_result"
    }
   ],
   "source": [
    "probs.argmax(-1)[0]"
   ]
  },
  {
   "cell_type": "code",
   "execution_count": 41,
   "metadata": {},
   "outputs": [
    {
     "data": {
      "text/plain": [
       "tensor([22, 22, 26,  5, 22, 22, 22,  5, 19, 27,  6, 27,  6, 22,  5, 19, 27,  6,\n",
       "        33, 11, 30, 36, 24, 32, 33,  5,  8, 33, 12, 33, 33, 33, 33,  5, 27, 22,\n",
       "         6, 33, 12,  6, 36, 33, 11, 22,  1,  2,  2,  2,  2,  2,  2,  2,  2,  2,\n",
       "         2,  2,  2,  2,  2,  2,  2,  2,  2,  2,  2,  2,  2,  2,  2,  2,  2,  2,\n",
       "         2,  2,  2])"
      ]
     },
     "execution_count": 41,
     "metadata": {},
     "output_type": "execute_result"
    }
   ],
   "source": [
    "y[0]"
   ]
  },
  {
   "cell_type": "code",
   "execution_count": 43,
   "metadata": {},
   "outputs": [
    {
     "data": {
      "text/plain": [
       "tensor([ True,  True, False,  True,  True,  True, False, False,  True,  True,\n",
       "         True, False, False,  True,  True,  True,  True,  True,  True,  True,\n",
       "        False,  True,  True,  True,  True, False, False,  True,  True,  True,\n",
       "         True,  True,  True, False, False,  True,  True,  True,  True,  True,\n",
       "         True,  True,  True,  True,  True,  True,  True,  True,  True,  True,\n",
       "         True,  True,  True,  True,  True,  True,  True,  True,  True,  True,\n",
       "         True,  True,  True,  True,  True,  True,  True,  True,  True,  True,\n",
       "         True,  True,  True,  True,  True], device='cuda:0')"
      ]
     },
     "execution_count": 43,
     "metadata": {},
     "output_type": "execute_result"
    }
   ],
   "source": [
    "probs.argmax(-1)[0]==y[0].cuda()"
   ]
  },
  {
   "cell_type": "code",
   "execution_count": null,
   "metadata": {},
   "outputs": [],
   "source": []
  },
  {
   "cell_type": "code",
   "execution_count": null,
   "metadata": {},
   "outputs": [],
   "source": []
  },
  {
   "cell_type": "code",
   "execution_count": null,
   "metadata": {},
   "outputs": [],
   "source": []
  },
  {
   "cell_type": "code",
   "execution_count": 47,
   "metadata": {},
   "outputs": [
    {
     "name": "stdout",
     "output_type": "stream",
     "text": [
      "Converted 00_core.ipynb.\n",
      "Converted 01_chem.ipynb.\n",
      "Converted 02_template.filters.ipynb.\n",
      "Converted 03_template.template.ipynb.\n",
      "Converted 04_template.blocks.ipynb.\n",
      "Converted 05_torch_core.ipynb.\n",
      "Converted 06_layers.ipynb.\n",
      "Converted 07_dataloaders.ipynb.\n",
      "Converted index.ipynb.\n",
      "Converted template.overview.ipynb.\n",
      "Converted tutorials.ipynb.\n",
      "Converted tutorials.structure_enumeration.ipynb.\n",
      "Converted tutorials.template.advanced.ipynb.\n",
      "Converted tutorials.template.beginner.ipynb.\n",
      "Converted tutorials.template.intermediate.ipynb.\n"
     ]
    }
   ],
   "source": [
    "# hide\n",
    "from nbdev.export import notebook2script; notebook2script()"
   ]
  },
  {
   "cell_type": "code",
   "execution_count": null,
   "metadata": {},
   "outputs": [],
   "source": []
  }
 ],
 "metadata": {
  "kernelspec": {
   "display_name": "Python 3",
   "language": "python",
   "name": "python3"
  },
  "language_info": {
   "codemirror_mode": {
    "name": "ipython",
    "version": 3
   },
   "file_extension": ".py",
   "mimetype": "text/x-python",
   "name": "python",
   "nbconvert_exporter": "python",
   "pygments_lexer": "ipython3",
   "version": "3.6.13"
  }
 },
 "nbformat": 4,
 "nbformat_minor": 2
}
