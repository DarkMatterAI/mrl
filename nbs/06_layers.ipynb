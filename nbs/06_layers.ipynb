{
 "cells": [
  {
   "cell_type": "code",
   "execution_count": null,
   "metadata": {},
   "outputs": [],
   "source": [
    "# default_exp layers\n",
    "# all_slow"
   ]
  },
  {
   "cell_type": "markdown",
   "metadata": {},
   "source": [
    "# Layers\n",
    "\n",
    "> Pytorch model layers"
   ]
  },
  {
   "cell_type": "code",
   "execution_count": null,
   "metadata": {},
   "outputs": [],
   "source": [
    "#hide\n",
    "from nbdev.showdoc import *\n",
    "%load_ext autoreload\n",
    "%autoreload 2"
   ]
  },
  {
   "cell_type": "code",
   "execution_count": null,
   "metadata": {},
   "outputs": [],
   "source": [
    "# export\n",
    "from mrl.imports import *\n",
    "from mrl.torch_imports import *\n",
    "from mrl.torch_core import *"
   ]
  },
  {
   "cell_type": "code",
   "execution_count": null,
   "metadata": {},
   "outputs": [],
   "source": [
    "# export\n",
    "\n",
    "class Linear(nn.Module):\n",
    "    def __init__(self, d_in, d_out, act=True, bn=False, dropout=0., **lin_kwargs):\n",
    "        super().__init__()\n",
    "        \n",
    "        layers = [nn.Linear(d_in, d_out, **lin_kwargs)]\n",
    "        \n",
    "        if bn:\n",
    "            layers.append(nn.BatchNorm1d(d_out))\n",
    "            \n",
    "        if act:\n",
    "            layers.append(nn.ReLU())\n",
    "            \n",
    "        if dropout>0.:\n",
    "            layers.append(nn.Dropout(p=dropout))\n",
    "            \n",
    "        self.layers = nn.Sequential(*layers)\n",
    "        \n",
    "    def forward(self, x):\n",
    "        return self.layers(x)\n",
    "    \n",
    "class Conv(nn.Module):\n",
    "    def __init__(self, d_in, d_out, ks=3, stride=1, padding=None, ndim=2, \n",
    "                 act=True, bn=False, dropout=0., **conv_kwargs):\n",
    "        super().__init__()\n",
    "        \n",
    "        if padding is None:\n",
    "            padding = (ks-1)//2\n",
    "            \n",
    "        if ndim==1:\n",
    "            conv_func = nn.Conv1d\n",
    "            bn_func = nn.BatchNorm1d\n",
    "        elif ndim==2:\n",
    "            conv_func = nn.Conv2d\n",
    "            bn_func = nn.BatchNorm2d\n",
    "        else:\n",
    "            conv_func = nn.Conv3d\n",
    "            bn_func = nn.BatchNorm3d\n",
    "        \n",
    "        layers = [conv_func(d_in, d_out, ks, stride, padding=padding, **conv_kwargs)]\n",
    "        \n",
    "        if bn:\n",
    "            layers.append(bn_func(d_out))\n",
    "            \n",
    "        if act:\n",
    "            layers.append(nn.ReLU())\n",
    "            \n",
    "        if dropout>0.:\n",
    "            layers.append(nn.Dropout(p=dropout))\n",
    "            \n",
    "        self.layers = nn.Sequential(*layers)\n",
    "        \n",
    "    def forward(self, x):\n",
    "        return self.layers(x)\n",
    "    \n",
    "class Conv1d(Conv):\n",
    "    def __init__(self, d_in, d_out, ks=3, stride=1, padding=None, \n",
    "                 act=True, bn=False, dropout=0., **conv_kwargs):\n",
    "        super().__init__(d_in, d_out, ks, stride, padding, ndim=1, \n",
    "                 act=act, bn=bn, dropout=dropout, **conv_kwargs)\n",
    "        \n",
    "class Conv2d(Conv):\n",
    "    def __init__(self, d_in, d_out, ks=3, stride=1, padding=None, \n",
    "                 act=True, bn=False, dropout=0., **conv_kwargs):\n",
    "        super().__init__(d_in, d_out, ks, stride, padding, ndim=2, \n",
    "                 act=act, bn=bn, dropout=dropout, **conv_kwargs)\n",
    "        \n",
    "class Conv3d(Conv):\n",
    "    def __init__(self, d_in, d_out, ks=3, stride=1, padding=None, \n",
    "                 act=True, bn=False, dropout=0., **conv_kwargs):\n",
    "        super().__init__(d_in, d_out, ks, stride, padding, ndim=3, \n",
    "                 act=act, bn=bn, dropout=dropout, **conv_kwargs)"
   ]
  },
  {
   "cell_type": "code",
   "execution_count": null,
   "metadata": {},
   "outputs": [],
   "source": [
    "# export\n",
    "\n",
    "class LSTM(nn.Module):\n",
    "    def __init__(self, d_embedding, d_hidden, d_output, n_layers, \n",
    "                 bidir=False, dropout=0., batch_first=True):\n",
    "        super().__init__()\n",
    "        \n",
    "        self.d_embedding = d_embedding\n",
    "        self.d_hidden = d_hidden\n",
    "        self.d_output = d_output\n",
    "        self.n_layers = n_layers\n",
    "        self.bidir = bidir\n",
    "        self.n_dir = 1 if not bidir else 2\n",
    "        self.batch_first = batch_first\n",
    "        \n",
    "        self.lstms = []\n",
    "        self.hidden_sizes = []\n",
    "        \n",
    "        for l in range(n_layers):\n",
    "            input_size = d_embedding if l==0 else d_hidden\n",
    "            output_size = d_output if l==n_layers-1 else d_hidden\n",
    "            output_size = output_size // self.n_dir\n",
    "            \n",
    "            hidden_size = (self.n_dir, 1, output_size)\n",
    "            self.hidden_sizes.append(hidden_size)\n",
    "            \n",
    "            lstm = nn.LSTM(input_size, output_size, 1, batch_first=batch_first, \n",
    "                           dropout=dropout, bidirectional=bidir)\n",
    "            self.lstms.append(lstm)\n",
    "            \n",
    "        self.lstms = nn.ModuleList(self.lstms)\n",
    "        \n",
    "    def forward(self, x, hiddens=None):\n",
    "        \n",
    "        bs = x.shape[0] if self.batch_first else x.shape[1]\n",
    "        \n",
    "        if hiddens is None:\n",
    "            hiddens = self.get_new_hidden(bs)\n",
    "            hiddens = to_device(hiddens, x.device)\n",
    "            \n",
    "        new_hiddens = []\n",
    "        for i, lstm in enumerate(self.lstms):\n",
    "            x, (h,c) = lstm(x, hiddens[i])\n",
    "            new_hiddens.append((h.detach(), c.detach()))\n",
    "            \n",
    "        return x, new_hiddens\n",
    "            \n",
    "    def get_new_hidden(self, bs):\n",
    "        hiddens = []\n",
    "        for hs in self.hidden_sizes:\n",
    "            h = torch.zeros(hs).repeat(1,bs,1)\n",
    "            c = torch.zeros(hs).repeat(1,bs,1)\n",
    "            hiddens.append((h,c))\n",
    "        \n",
    "        return hiddens"
   ]
  },
  {
   "cell_type": "code",
   "execution_count": null,
   "metadata": {},
   "outputs": [],
   "source": [
    "# export\n",
    "\n",
    "class Conditional_LSTM(nn.Module):\n",
    "    def __init__(self, d_embedding, d_hidden, d_output, d_latent, n_layers,\n",
    "                 condition_hidden=True, condition_output=True,\n",
    "                 bidir=False, dropout=0., batch_first=True):\n",
    "        super().__init__()\n",
    "        \n",
    "        self.d_embedding = d_embedding\n",
    "        self.d_hidden = d_hidden\n",
    "        self.d_output = d_output\n",
    "        self.n_layers = n_layers\n",
    "        self.bidir = bidir\n",
    "        self.n_dir = 1 if not bidir else 2\n",
    "        self.batch_first = batch_first\n",
    "        self.condition_hidden = condition_hidden\n",
    "        self.condition_output = condition_output\n",
    "        \n",
    "        self.lstms = []\n",
    "        self.hidden_sizes = []\n",
    "        \n",
    "        for l in range(n_layers):\n",
    "            if l==0:\n",
    "                input_size = d_embedding if not self.condition_output else d_embedding+d_latent\n",
    "            else:\n",
    "                input_size = d_hidden\n",
    "                \n",
    "            output_size = d_output if l==n_layers-1 else d_hidden\n",
    "            output_size = output_size // self.n_dir\n",
    "            \n",
    "            hidden_size = (self.n_dir, 1, output_size)\n",
    "            self.hidden_sizes.append(hidden_size)\n",
    "            \n",
    "            lstm = nn.LSTM(input_size, output_size, 1, batch_first=batch_first, \n",
    "                           dropout=dropout, bidirectional=bidir)\n",
    "            self.lstms.append(lstm)\n",
    "            \n",
    "        self.lstms = nn.ModuleList(self.lstms)\n",
    "        \n",
    "        if self.condition_hidden:\n",
    "            to_hidden = []\n",
    "            for size in self.hidden_sizes:\n",
    "                ndir, _, dim = size\n",
    "                to_hidden.append(Linear(d_latent, ndir*dim*2, act=False, bn=False))\n",
    "                \n",
    "            self.to_hidden = nn.ModuleList(to_hidden)\n",
    "        \n",
    "    def forward(self, x, z, hiddens=None):\n",
    "        \n",
    "        bs = x.shape[0] if self.batch_first else x.shape[1]\n",
    "        sl = x.shape[1] if self.batch_first else x.shape[0]\n",
    "        \n",
    "        if self.condition_output:\n",
    "            if self.batch_first:\n",
    "                z_ = z.unsqueeze(1).repeat(1,sl,1)\n",
    "            else:\n",
    "                z_ = z.unsqueeze(0).repeat(sl,1,1)\n",
    "                \n",
    "            x = torch.cat([x, z_], -1)\n",
    "\n",
    "        if hiddens is None:\n",
    "            if self.condition_hidden:\n",
    "                hiddens = self.latent_to_hidden(z)\n",
    "                \n",
    "            else:\n",
    "                hiddens = self.get_new_hidden(bs)\n",
    "            \n",
    "            hiddens = to_device(hiddens, x.device)\n",
    "            \n",
    "        new_hiddens = []\n",
    "        for i, lstm in enumerate(self.lstms):\n",
    "            x, (h,c) = lstm(x, hiddens[i])\n",
    "            new_hiddens.append((h.detach(), c.detach()))\n",
    "            \n",
    "        return x, new_hiddens\n",
    "    \n",
    "    def latent_to_hidden(self, z):\n",
    "        hiddens = []\n",
    "        for layer in self.to_hidden:\n",
    "            h = layer(z)\n",
    "            h,c = torch.chunk(h, 2, dim=-1)\n",
    "            bs, _ = h.shape\n",
    "            h = h.contiguous().reshape(bs, self.n_dir, -1).permute(1,0,2)\n",
    "            c = c.contiguous().reshape(bs, self.n_dir, -1).permute(1,0,2)\n",
    "            hiddens.append((h,c))\n",
    "            \n",
    "        return hiddens\n",
    "            \n",
    "    def get_new_hidden(self, bs):\n",
    "        hiddens = []\n",
    "        for hs in self.hidden_sizes:\n",
    "            h = torch.zeros(hs).repeat(1,bs,1)\n",
    "            c = torch.zeros(hs).repeat(1,bs,1)\n",
    "            hiddens.append((h,c))\n",
    "        \n",
    "        return hiddens"
   ]
  },
  {
   "cell_type": "code",
   "execution_count": null,
   "metadata": {},
   "outputs": [],
   "source": [
    "# export\n",
    "\n",
    "class LSTMLM(nn.Module):\n",
    "    def __init__(self, d_vocab, d_embedding, d_hidden, n_layers, \n",
    "                 lstm_drop=0., bos_idx=0, bidir=False):\n",
    "        super().__init__()\n",
    "        \n",
    "        self.embedding = nn.Embedding(d_vocab, d_embedding)\n",
    "        self.lstm = LSTM(d_embedding, d_hidden, d_embedding, n_layers, bidir=bidir, dropout=lstm_drop)\n",
    "        self.head = Linear(d_embedding, d_vocab, act=False, bn=False, dropout=0.)\n",
    "        self.bos_idx = bos_idx\n",
    "        \n",
    "    def forward(self, x):\n",
    "        x = self.embedding(x)\n",
    "        x, hiddens = self.lstm(x)\n",
    "        self.last_hidden = hiddens\n",
    "        x = self.head(x)\n",
    "        return x\n",
    "    \n",
    "    def sample(self, bs, sl, temperature=1., multinomial=True):\n",
    "        \n",
    "        preds = idxs = to_device(torch.tensor([self.bos_idx]*bs).long().unsqueeze(-1))\n",
    "        lps = []\n",
    "\n",
    "        hiddens = None\n",
    "        \n",
    "        for i in range(sl):\n",
    "            x = self.embedding(idxs)\n",
    "            x, hiddens = self.lstm(x, hiddens)\n",
    "            x = self.head(x)\n",
    "            \n",
    "            x.div_(temperature)\n",
    "            \n",
    "            log_probs = F.log_softmax(x, -1).squeeze(1)\n",
    "            probs = log_probs.detach().exp()\n",
    "            \n",
    "            if multinomial:\n",
    "                idxs = torch.multinomial(probs, 1)\n",
    "            else:\n",
    "                idxs = x.argmax(-1)\n",
    "                \n",
    "            lps.append(torch.gather(log_probs, 1, idxs))\n",
    "            \n",
    "            preds = torch.cat([preds, idxs], -1)\n",
    "            \n",
    "        return preds[:, 1:], torch.cat(lps,-1)\n",
    "    \n",
    "    def sample_no_grad(self, bs, sl, temperature=1., multinomial=True):\n",
    "        with torch.no_grad():\n",
    "            return self.sample(bs, sl, temperature=temperature, multinomial=multinomial)\n",
    "        \n",
    "    def get_lps(self, x, y, temperature=1.):\n",
    "        x = self.forward(x)\n",
    "        x.div_(temperature)\n",
    "        \n",
    "        lps = F.log_softmax(x, -1)\n",
    "        lps = lps.gather(2, y.unsqueeze(-1)).squeeze(-1)\n",
    "        \n",
    "        return lps"
   ]
  },
  {
   "cell_type": "code",
   "execution_count": null,
   "metadata": {},
   "outputs": [],
   "source": [
    "# export\n",
    "\n",
    "class Conditional_LSTMLM(nn.Module):\n",
    "    def __init__(self, d_vocab, d_embedding, d_hidden, n_layers, mapping, d_latent,\n",
    "                 lstm_drop=0., lin_drop=0., bos_idx=0, bidir=False,\n",
    "                 condition_hidden=True, condition_output=False):\n",
    "        super().__init__()\n",
    "        \n",
    "        self.mapping = mapping\n",
    "        self.d_latent = d_latent\n",
    "        \n",
    "        self.embedding = nn.Embedding(d_vocab, d_embedding)\n",
    "        self.lstm = Conditional_LSTM(d_embedding, d_hidden, d_embedding, d_latent, n_layers,\n",
    "                                    condition_hidden=condition_hidden, condition_output=condition_output,\n",
    "                                     bidir=bidir, dropout=lstm_drop)\n",
    "        \n",
    "        self.head = Linear(d_embedding, d_vocab, act=False, bn=False, dropout=0.)\n",
    "        self.bos_idx = bos_idx\n",
    "        \n",
    "    def forward(self, x, condition):\n",
    "        \n",
    "        z = self.mapping(condition)\n",
    "        \n",
    "        x = self.embedding(x)\n",
    "        x, hiddens = self.lstm(x,z)\n",
    "        self.last_hidden = hiddens\n",
    "        x = self.head(x)\n",
    "        return x\n",
    "    \n",
    "    def sample(self, z, sl, temperature=1., multinomial=True):\n",
    "        \n",
    "        bs = z.shape[0]\n",
    "        \n",
    "        preds = idxs = to_device(torch.tensor([self.bos_idx]*bs).long().unsqueeze(-1))\n",
    "        lps = []\n",
    "\n",
    "        hiddens = None\n",
    "        \n",
    "        for i in range(sl):\n",
    "            x = self.embedding(idxs)\n",
    "            x, hiddens = self.lstm(x, z, hiddens)\n",
    "            x = self.head(x)\n",
    "            \n",
    "            x.div_(temperature)\n",
    "            \n",
    "            log_probs = F.log_softmax(x, -1).squeeze(1)\n",
    "            probs = log_probs.detach().exp()\n",
    "            \n",
    "            if multinomial:\n",
    "                idxs = torch.multinomial(probs, 1)\n",
    "            else:\n",
    "                idxs = x.argmax(-1)\n",
    "                \n",
    "            lps.append(torch.gather(log_probs, 1, idxs))\n",
    "            \n",
    "            preds = torch.cat([preds, idxs], -1)\n",
    "            \n",
    "        return preds[:, 1:], torch.cat(lps,-1)\n",
    "    \n",
    "    def sample_no_grad(self, z, sl, temperature=1., multinomial=True):\n",
    "        with torch.no_grad():\n",
    "            return self.sample(z, sl, temperature=temperature, multinomial=multinomial)\n",
    "        \n",
    "    def get_lps(self, x, y, temperature=1.):\n",
    "        x = self.forward(x[0], x[1])\n",
    "        x.div_(temperature)\n",
    "        \n",
    "        lps = F.log_softmax(x, -1)\n",
    "        lps = lps.gather(2, y.unsqueeze(-1)).squeeze(-1)\n",
    "        \n",
    "        return lps"
   ]
  },
  {
   "cell_type": "code",
   "execution_count": null,
   "metadata": {},
   "outputs": [],
   "source": [
    "# export\n",
    "\n",
    "class VAEEncoder(nn.Module):\n",
    "    def __init__(self, d_latent):\n",
    "        super().__init__()\n",
    "        self.d_latent = d_latent\n",
    "        \n",
    "    def forward(self, x):\n",
    "        raise NotImplementedError\n",
    "        \n",
    "    def get_latent(self, mu, logvar, z_scale=1.):\n",
    "        z = z_scale*torch.randn(mu.shape).to(mu.device)\n",
    "        z = mu + z*torch.exp(0.5*logvar)\n",
    "        kl_loss = 0.5 * (logvar.exp() + mu.pow(2) - 1 - logvar).sum(1).mean()\n",
    "        return z, kl_loss\n",
    "        \n",
    "class VAELSTMEncoder(VAEEncoder):\n",
    "    def __init__(self, d_vocab, d_embedding, d_hidden, n_layers, d_latent, dropout=0.):\n",
    "        super().__init__(d_latent)\n",
    "        \n",
    "        self.embedding = nn.Embedding(d_vocab, d_embedding)\n",
    "        self.lstm_encoder = LSTM(d_embedding, d_hidden, d_hidden, n_layers, \n",
    "                                 bidir=True, batch_first=True, dropout=dropout)\n",
    "        self.transition = nn.Linear(d_hidden*2, d_latent*2)\n",
    "        \n",
    "        \n",
    "    def forward(self, x, z_scale=1.):\n",
    "        x = self.embedding(x)\n",
    "        x, hiddens = self.lstm_encoder(x)\n",
    "        hidden = torch.cat(list(torch.cat(hiddens[-1], -1)), -1) # concatenate hidden/cell states of last layer\n",
    "        \n",
    "        mu, logvar = torch.chunk(self.transition(hidden), 2, dim=-1)\n",
    "        z, kl_loss = self.get_latent(mu, logvar, z_scale)\n",
    "        \n",
    "        return z, kl_loss\n",
    "              \n",
    "class VAEConvEncoder(VAEEncoder):\n",
    "    def __init__(self, d_vocab, d_embedding, kernel_size, n_layers, d_latent, dropout=0.):\n",
    "        super().__init__(d_latent)\n",
    "    \n",
    "        self.embedding = nn.Embedding(d_vocab, d_embedding)\n",
    "\n",
    "        convs = []\n",
    "        input_size = d_embedding\n",
    "        for i in range(n_layers):\n",
    "            convs.append(Conv1d(input_size, input_size*2, ks=kernel_size, stride=2, \n",
    "                                act=True, bn=True, dropout=dropout))\n",
    "            input_size = input_size*2\n",
    "\n",
    "        self.convs = nn.Sequential(*convs)\n",
    "        self.pool = nn.AdaptiveAvgPool1d(1)\n",
    "        self.transition = nn.Linear(input_size, d_latent*2)\n",
    "    \n",
    "    def forward(self, x, z_scale=1.):\n",
    "        x = self.embedding(x)\n",
    "        x = x.permute(0,2,1)\n",
    "        x = self.convs(x)\n",
    "        x = self.pool(x).squeeze(-1)\n",
    "        \n",
    "        mu, logvar = torch.chunk(self.transition(x), 2, dim=-1)\n",
    "        z, kl_loss = self.get_latent(mu, logvar, z_scale)\n",
    "        \n",
    "        return z, kl_loss\n",
    "              \n",
    "class VAELinEncoder(VAEEncoder):\n",
    "    def __init__(self, d_input, n_layers, d_latent, dropout=0.):\n",
    "        super().__init__(d_latent)\n",
    "    \n",
    "        lins = []\n",
    "        input_size = d_input\n",
    "        for i in range(n_layers):\n",
    "            lins.append(Linear(input_size, input_size//2, act=True, bn=True, dropout=dropout))\n",
    "            input_size = input_size//2\n",
    "            \n",
    "        self.layers = nn.Sequential(*lins)\n",
    "        self.transition = nn.Linear(input_size, d_latent*2)\n",
    "    \n",
    "    def forward(self, x, z_scale=1.):\n",
    "        x = self.layers(x)\n",
    "        \n",
    "        mu, logvar = torch.chunk(self.transition(x), 2, dim=-1)\n",
    "        z, kl_loss = self.get_latent(mu, logvar, z_scale)\n",
    "        \n",
    "        return z, kl_loss"
   ]
  },
  {
   "cell_type": "code",
   "execution_count": null,
   "metadata": {},
   "outputs": [],
   "source": [
    "# export\n",
    "\n",
    "class VAEDecoder(nn.Module):\n",
    "    def __init__(self, d_vocab, d_embedding, d_hidden, n_layers, d_latent,\n",
    "                condition_hidden=True, condition_output=True):\n",
    "        super().__init__()\n",
    "        \n",
    "        self.embedding = nn.Embedding(d_vocab, d_embedding)\n",
    "        self.decoder = Conditional_LSTM(d_embedding, d_hidden, d_embedding, d_latent, 3, \n",
    "                                    condition_hidden=condition_hidden, condition_output=condition_output, \n",
    "                                    bidir=False, batch_first=True)\n",
    "        \n",
    "        self.head = Linear(d_embedding, d_vocab, act=False, bn=False, dropout=0.)\n",
    "        \n",
    "    def forward(self, x, z, hiddens=None):\n",
    "        bs, sl = x.shape\n",
    "        x = self.embedding(x)\n",
    "        \n",
    "        decoded, hiddens = self.decoder(x, z, hiddens)\n",
    "        output = self.head(decoded)\n",
    "        \n",
    "        return output, hiddens"
   ]
  },
  {
   "cell_type": "code",
   "execution_count": null,
   "metadata": {},
   "outputs": [],
   "source": [
    "# export\n",
    "\n",
    "class VAE(nn.Module):\n",
    "    def __init__(self, encoder, decoder, prior=None, bos_idx=0):\n",
    "        super().__init__()\n",
    "        \n",
    "        self.encoder = encoder\n",
    "        self.decoder = decoder\n",
    "        if prior is None:\n",
    "            prior = Normal(torch.zeros((encoder.d_latent)), torch.ones((encoder.d_latent)))\n",
    "        self.prior = prior\n",
    "        self.bos_idx = bos_idx\n",
    "        \n",
    "    def forward(self, x, decoder_input=None):\n",
    "        z, kl_loss = self.encoder(x)\n",
    "        \n",
    "        if decoder_input is None:\n",
    "            decoder_input = x\n",
    "            \n",
    "        output, hiddens = self.decoder(decoder_input, z)\n",
    "        return output, kl_loss\n",
    "    \n",
    "    def sample(self, bs, sl, z=None, temperature=1., multinomial=True):\n",
    "        \n",
    "        preds = idxs = to_device(torch.tensor([self.bos_idx]*bs).long().unsqueeze(-1))\n",
    "        lps = []\n",
    "        \n",
    "        if z is None:\n",
    "            z = to_device(self.prior.sample([bs]))\n",
    "        \n",
    "        hiddens = None\n",
    "        \n",
    "        for i in range(sl):\n",
    "            x, hiddens = self.decoder(idxs, z, hiddens)\n",
    "            x.div_(temperature)\n",
    "            \n",
    "            log_probs = F.log_softmax(x, -1).squeeze(1)\n",
    "            probs = log_probs.detach().exp()\n",
    "            \n",
    "            if multinomial:\n",
    "                idxs = torch.multinomial(probs, 1)\n",
    "            else:\n",
    "                idxs = x.argmax(-1)\n",
    "                \n",
    "            lps.append(torch.gather(log_probs, 1, idxs))\n",
    "            \n",
    "            preds = torch.cat([preds, idxs], -1)\n",
    "            \n",
    "        return preds[:, 1:], torch.cat(lps,-1)\n",
    "    \n",
    "    def sample_no_grad(self, bs, sl, z=None, temperature=1., multinomial=True):\n",
    "        with torch.no_grad():\n",
    "            return self.sample(bs, sl, z=z, temperature=temperature, multinomial=multinomial)\n",
    "        \n",
    "    def get_lps(self, x, y, temperature=1. z=None):\n",
    "\n",
    "        if type(x)==list:\n",
    "            x,_ = self.forward(x[0], decoder_input=x[1])\n",
    "        else:\n",
    "            x,_ = self.forward(x)\n",
    "        \n",
    "        x.div_(temperature)\n",
    "        \n",
    "        lps = F.log_softmax(x, -1)\n",
    "        lps = lps.gather(2, y.unsqueeze(-1)).squeeze(-1)\n",
    "        \n",
    "        return lps\n"
   ]
  },
  {
   "cell_type": "code",
   "execution_count": null,
   "metadata": {},
   "outputs": [],
   "source": []
  },
  {
   "cell_type": "code",
   "execution_count": null,
   "metadata": {},
   "outputs": [
    {
     "name": "stderr",
     "output_type": "stream",
     "text": [
      "//anaconda3/envs/mrl/lib/python3.6/importlib/_bootstrap.py:219: RuntimeWarning: to-Python converter for boost::shared_ptr<RDKit::FilterCatalogEntry const> already registered; second conversion method ignored.\n",
      "  return f(*args, **kwds)\n"
     ]
    }
   ],
   "source": [
    "from mrl.dataloaders import *\n",
    "from mrl.chem import *\n",
    "from mrl.core import *"
   ]
  },
  {
   "cell_type": "code",
   "execution_count": null,
   "metadata": {},
   "outputs": [],
   "source": [
    "vocab = CharacterVocab(SMILES_CHAR_VOCAB)"
   ]
  },
  {
   "cell_type": "code",
   "execution_count": null,
   "metadata": {},
   "outputs": [],
   "source": [
    "model = LSTMLM(len(vocab.itos), 256, 1024, 3, bos_idx=vocab.stoi['bos'])"
   ]
  },
  {
   "cell_type": "code",
   "execution_count": null,
   "metadata": {},
   "outputs": [
    {
     "data": {
      "text/plain": [
       "<All keys matched successfully>"
      ]
     },
     "execution_count": null,
     "metadata": {},
     "output_type": "execute_result"
    }
   ],
   "source": [
    "model.load_state_dict(torch.load('untracked_files/smiles_lm.pt'))"
   ]
  },
  {
   "cell_type": "code",
   "execution_count": null,
   "metadata": {},
   "outputs": [],
   "source": [
    "from mrl.templates import *"
   ]
  },
  {
   "cell_type": "code",
   "execution_count": null,
   "metadata": {},
   "outputs": [],
   "source": [
    "template = Template([ValidityFilter(), SingleCompoundFilter()],\n",
    "                    [QEDFilter(None, None, score=PassThroughScore())], fail_score=-1.)"
   ]
  },
  {
   "cell_type": "code",
   "execution_count": null,
   "metadata": {},
   "outputs": [],
   "source": [
    "preds, lps = model.sample_no_grad(32,90)"
   ]
  },
  {
   "cell_type": "code",
   "execution_count": null,
   "metadata": {},
   "outputs": [],
   "source": [
    "smiles = [vocab.reconstruct(i) for i in preds]"
   ]
  },
  {
   "cell_type": "code",
   "execution_count": null,
   "metadata": {},
   "outputs": [
    {
     "data": {
      "text/plain": [
       "'C[C@H](C(N)=O)N1CCN(C(=O)[C@H]2CCS(=O)(=O)N2)CC1'"
      ]
     },
     "execution_count": null,
     "metadata": {},
     "output_type": "execute_result"
    }
   ],
   "source": [
    "smiles[0]"
   ]
  },
  {
   "cell_type": "code",
   "execution_count": null,
   "metadata": {},
   "outputs": [
    {
     "data": {
      "text/plain": [
       "32"
      ]
     },
     "execution_count": null,
     "metadata": {},
     "output_type": "execute_result"
    }
   ],
   "source": [
    "len([i for i in to_mols(smiles) if i is not None])"
   ]
  },
  {
   "cell_type": "code",
   "execution_count": null,
   "metadata": {},
   "outputs": [],
   "source": [
    "ds = TextDataset(smiles, vocab)\n",
    "x,y = ds.collate_function([ds.__getitem__(i) for i in range(len(ds))])"
   ]
  },
  {
   "cell_type": "code",
   "execution_count": null,
   "metadata": {},
   "outputs": [],
   "source": []
  },
  {
   "cell_type": "code",
   "execution_count": null,
   "metadata": {},
   "outputs": [],
   "source": [
    "encoder = VAELSTMEncoder(len(vocab.itos), 256, 1024, 3, 512)\n",
    "decoder = VAEDecoder(len(vocab.itos), 256, 1024, 3, 512)"
   ]
  },
  {
   "cell_type": "code",
   "execution_count": null,
   "metadata": {},
   "outputs": [],
   "source": [
    "vae = VAE(encoder, decoder, bos_idx=vocab.stoi['bos'])"
   ]
  },
  {
   "cell_type": "code",
   "execution_count": null,
   "metadata": {},
   "outputs": [
    {
     "data": {
      "text/plain": [
       "<All keys matched successfully>"
      ]
     },
     "execution_count": null,
     "metadata": {},
     "output_type": "execute_result"
    }
   ],
   "source": [
    "vae.load_state_dict(torch.load('untracked_files/vae_pt.pt'))"
   ]
  },
  {
   "cell_type": "code",
   "execution_count": null,
   "metadata": {},
   "outputs": [],
   "source": [
    "preds, lps = vae.sample_no_grad(32, 90)"
   ]
  },
  {
   "cell_type": "code",
   "execution_count": null,
   "metadata": {},
   "outputs": [],
   "source": [
    "smiles = [vocab.reconstruct(i) for i in preds]"
   ]
  },
  {
   "cell_type": "code",
   "execution_count": null,
   "metadata": {},
   "outputs": [
    {
     "data": {
      "text/plain": [
       "'COCCN(CCN1CCCC1)C(=O)C1(c2ccc(F)cc2)CC1'"
      ]
     },
     "execution_count": null,
     "metadata": {},
     "output_type": "execute_result"
    }
   ],
   "source": [
    "smiles[0]"
   ]
  },
  {
   "cell_type": "code",
   "execution_count": null,
   "metadata": {},
   "outputs": [
    {
     "data": {
      "text/plain": [
       "32"
      ]
     },
     "execution_count": null,
     "metadata": {},
     "output_type": "execute_result"
    }
   ],
   "source": [
    "len([i for i in to_mols(smiles) if i is not None])"
   ]
  },
  {
   "cell_type": "code",
   "execution_count": null,
   "metadata": {},
   "outputs": [],
   "source": [
    "ds = TextDataset(smiles, vocab)\n",
    "x,y = ds.collate_function([ds.__getitem__(i) for i in range(len(ds))])"
   ]
  },
  {
   "cell_type": "code",
   "execution_count": null,
   "metadata": {},
   "outputs": [
    {
     "data": {
      "text/plain": [
       "tensor([-25.2659, -26.9283, -22.7347, -25.1105, -20.1042, -23.7274, -21.2252,\n",
       "        -29.1178, -26.8516, -24.5264, -22.8860, -37.6841, -20.6998, -24.4262,\n",
       "        -26.4886, -27.5566, -20.1762, -22.1210, -23.0470, -37.3556, -22.0252,\n",
       "        -22.3676, -21.2872, -39.5350, -22.4702, -20.6340, -21.0208, -24.4444,\n",
       "        -21.1111, -22.4443, -21.0600, -21.6712], grad_fn=<SumBackward1>)"
      ]
     },
     "execution_count": null,
     "metadata": {},
     "output_type": "execute_result"
    }
   ],
   "source": [
    "vae.get_lps(x,y).sum(-1)"
   ]
  },
  {
   "cell_type": "code",
   "execution_count": null,
   "metadata": {},
   "outputs": [
    {
     "data": {
      "text/plain": [
       "tensor([-24.8335, -27.0300, -22.1481, -24.8416, -19.9345, -23.6485, -21.1192,\n",
       "        -28.8764, -26.3511, -24.6986, -22.9915, -37.9836, -20.5446, -24.2414,\n",
       "        -26.9133, -27.5004, -20.2306, -22.1668, -23.1703, -36.2710, -21.7808,\n",
       "        -22.3458, -21.3200, -39.4342, -22.4810, -20.8342, -21.8422, -24.0863,\n",
       "        -21.3329, -22.3815, -21.0336, -21.7724], grad_fn=<SumBackward1>)"
      ]
     },
     "execution_count": null,
     "metadata": {},
     "output_type": "execute_result"
    }
   ],
   "source": [
    "vae.get_lps(x,y).sum(-1)"
   ]
  },
  {
   "cell_type": "code",
   "execution_count": null,
   "metadata": {},
   "outputs": [],
   "source": []
  },
  {
   "cell_type": "code",
   "execution_count": null,
   "metadata": {},
   "outputs": [],
   "source": []
  },
  {
   "cell_type": "code",
   "execution_count": null,
   "metadata": {},
   "outputs": [
    {
     "name": "stdout",
     "output_type": "stream",
     "text": [
      "Converted 00_core.ipynb.\n",
      "Converted 01_chem.ipynb.\n",
      "Converted 02_template.filters.ipynb.\n",
      "Converted 03_template.template.ipynb.\n",
      "Converted 04_template.blocks.ipynb.\n",
      "Converted 05_torch_core.ipynb.\n",
      "Converted 06_layers.ipynb.\n",
      "Converted 07_dataloaders.ipynb.\n",
      "Converted index.ipynb.\n",
      "Converted template.overview.ipynb.\n",
      "Converted tutorials.ipynb.\n",
      "Converted tutorials.structure_enumeration.ipynb.\n",
      "Converted tutorials.template.advanced.ipynb.\n",
      "Converted tutorials.template.beginner.ipynb.\n",
      "Converted tutorials.template.intermediate.ipynb.\n"
     ]
    }
   ],
   "source": [
    "# hide\n",
    "from nbdev.export import notebook2script; notebook2script()"
   ]
  },
  {
   "cell_type": "code",
   "execution_count": null,
   "metadata": {},
   "outputs": [],
   "source": []
  }
 ],
 "metadata": {
  "kernelspec": {
   "display_name": "Python 3",
   "language": "python",
   "name": "python3"
  }
 },
 "nbformat": 4,
 "nbformat_minor": 2
}
