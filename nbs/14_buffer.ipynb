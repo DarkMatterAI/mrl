{
 "cells": [
  {
   "cell_type": "code",
   "execution_count": null,
   "metadata": {},
   "outputs": [],
   "source": [
    "# default_exp callbacks.buffer"
   ]
  },
  {
   "cell_type": "markdown",
   "metadata": {},
   "source": [
    "# Buffer\n",
    "\n",
    "> Callbacks for buffer"
   ]
  },
  {
   "cell_type": "code",
   "execution_count": null,
   "metadata": {},
   "outputs": [],
   "source": [
    "#hide\n",
    "from nbdev.showdoc import *\n",
    "%load_ext autoreload\n",
    "%autoreload 2"
   ]
  },
  {
   "cell_type": "code",
   "execution_count": null,
   "metadata": {},
   "outputs": [],
   "source": [
    "# export\n",
    "\n",
    "from mrl.imports import *\n",
    "from mrl.callbacks.core import *"
   ]
  },
  {
   "cell_type": "code",
   "execution_count": null,
   "metadata": {},
   "outputs": [],
   "source": []
  },
  {
   "cell_type": "code",
   "execution_count": null,
   "metadata": {},
   "outputs": [],
   "source": [
    "# export\n",
    "\n",
    "class Buffer(Callback):\n",
    "    def __init__(self, p_total):\n",
    "        super().__init__(name='buffer', order=0)\n",
    "        \n",
    "        self.buffer = []\n",
    "        self.p_total = p_total\n",
    "        \n",
    "    def __len__(self):\n",
    "        return len(self.buffer)\n",
    "    \n",
    "    def add(self, item):\n",
    "        \n",
    "        if type(item)==list:\n",
    "            for i in item:\n",
    "                self.add(i)\n",
    "        else:\n",
    "            self.buffer.append(item)\n",
    "                \n",
    "    def setup(self):\n",
    "        log = self.environment.log\n",
    "        log.add_metric(f'diversity')\n",
    "#         log.add_metric(f'valid')\n",
    "        log.add_metric(f'bs')\n",
    "            \n",
    "    def sample(self, n):\n",
    "        \n",
    "        idxs = np.random.choice(np.arange(len(self.buffer)), min(n, len(self.buffer)), \n",
    "                                replace=False)\n",
    "        batch = [self.buffer[i] for i in idxs]\n",
    "        for idx in sorted(idxs, reverse=True):\n",
    "            self.buffer.pop(idx)\n",
    "\n",
    "        return batch\n",
    "    \n",
    "    def after_sample(self):\n",
    "        env = self.environment\n",
    "        batch_state = env.batch_state\n",
    "            \n",
    "        diversity = len(set(batch_state.samples))/len(batch_state.samples)\n",
    "        self.environment.log.update_metric('diversity', diversity)\n",
    "        self.environment.log.update_metric('bs', len(batch_state.samples))\n",
    "        \n",
    "    def after_build_buffer(self):\n",
    "        if self.buffer:\n",
    "            self.buffer = list(set(self.buffer))\n",
    "    \n",
    "    def sample_batch(self):\n",
    "        env = self.environment\n",
    "        batch_state = env.batch_state\n",
    "        \n",
    "        bs = int(env.bs * self.p_total)\n",
    "        if bs>0:\n",
    "            sample = self.sample(bs)\n",
    "            batch_state.samples += sample\n",
    "            batch_state.sources += ['buffer']*len(sample)"
   ]
  },
  {
   "cell_type": "code",
   "execution_count": null,
   "metadata": {},
   "outputs": [],
   "source": []
  },
  {
   "cell_type": "code",
   "execution_count": null,
   "metadata": {},
   "outputs": [],
   "source": []
  },
  {
   "cell_type": "code",
   "execution_count": null,
   "metadata": {},
   "outputs": [],
   "source": [
    "# hide\n",
    "from nbdev.export import notebook2script; notebook2script()"
   ]
  },
  {
   "cell_type": "code",
   "execution_count": null,
   "metadata": {},
   "outputs": [],
   "source": []
  }
 ],
 "metadata": {
  "kernelspec": {
   "display_name": "Python (mrl)",
   "language": "python",
   "name": "mrl"
  }
 },
 "nbformat": 4,
 "nbformat_minor": 4
}
