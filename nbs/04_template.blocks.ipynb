{
 "cells": [
  {
   "cell_type": "code",
   "execution_count": null,
   "metadata": {},
   "outputs": [],
   "source": [
    "# default_exp templates.blocks"
   ]
  },
  {
   "cell_type": "markdown",
   "metadata": {},
   "source": [
    "# Blocks\n",
    "\n",
    "> Blocks are used for advanced templating where different templates are applied to different sections of the molecule\n",
    "\n"
   ]
  },
  {
   "cell_type": "code",
   "execution_count": null,
   "metadata": {},
   "outputs": [],
   "source": [
    "#hide\n",
    "from nbdev.showdoc import *\n",
    "%load_ext autoreload\n",
    "%autoreload 2"
   ]
  },
  {
   "cell_type": "code",
   "execution_count": null,
   "metadata": {},
   "outputs": [
    {
     "name": "stderr",
     "output_type": "stream",
     "text": [
      "//anaconda3/envs/insight/lib/python3.6/importlib/_bootstrap.py:219: RuntimeWarning: to-Python converter for boost::shared_ptr<RDKit::FilterCatalogEntry const> already registered; second conversion method ignored.\n",
      "  return f(*args, **kwds)\n"
     ]
    }
   ],
   "source": [
    "# export\n",
    "from mrl.imports import *\n",
    "from mrl.core import *\n",
    "from mrl.chem import *\n",
    "from mrl.templates.filters import *\n",
    "from mrl.templates.template import *"
   ]
  },
  {
   "cell_type": "code",
   "execution_count": null,
   "metadata": {},
   "outputs": [],
   "source": []
  },
  {
   "cell_type": "code",
   "execution_count": null,
   "metadata": {},
   "outputs": [],
   "source": [
    "# export\n",
    "\n",
    "class Block():\n",
    "    def __init__(self, template, links, name, subblocks=[]):\n",
    "        self.template = template\n",
    "        self.links = links\n",
    "        self.name = name\n",
    "        self.subblocks = subblocks\n",
    "        self.sublinks = []\n",
    "        self.update_links()\n",
    "        \n",
    "    def update_links(self):\n",
    "        for b in self.subblocks:\n",
    "            self.sublinks.append(b.links)\n",
    "            for sl in b.sublinks:\n",
    "                self.sublinks.append(sl)\n",
    "                \n",
    "    def eval_mol(self, mol):\n",
    "        mol = to_mol(mol)\n",
    "        smile = to_smile(mol)\n",
    "        \n",
    "        if self.match_fragment(smile):\n",
    "            hardpass, hardlog = self.template.hf(mol)\n",
    "        else:\n",
    "            hardpass = False\n",
    "            hardlog = []\n",
    "\n",
    "        if hardpass:\n",
    "            score, softlog = self.template.sf(mol)\n",
    "        else:\n",
    "            score = self.template.fail_score\n",
    "            softlog = []\n",
    "        \n",
    "        return [hardpass, score, hardlog, softlog]\n",
    "                \n",
    "    def match_fragment(self, fragment):\n",
    "        # determine if fragment matches block link pattern\n",
    "        raise NotImplementedError\n",
    "    \n",
    "    def match_fragment_recursive(self, fragment):\n",
    "        # recursively match fragment to all subblocks\n",
    "        if self.match_fragment(fragment):\n",
    "            output = True\n",
    "        else:\n",
    "            output = False\n",
    "            for block in self.subblocks:\n",
    "                if block.match_fragment_recursive(fragment):\n",
    "                    output = True\n",
    "                    \n",
    "        return output\n",
    "    \n",
    "    def sample(self, n, log='hard'):\n",
    "        return self.template.sample(n, log=log)\n",
    "    \n",
    "    def load_data(self, fragments, recurse=False):\n",
    "        # checks fragment attachments, then sends to template `load_data`\n",
    "        # optionally recursive\n",
    "        if recurse:\n",
    "            for b in self.subblocks:\n",
    "                b.load_data(fragments, recurse=True)\n",
    "        \n",
    "        matches = maybe_parallel(self.match_fragment, fragments)\n",
    "        fragments = [fragments[i] for i in range(len(fragments)) if matches[i]]\n",
    "        self.template.screen_mols(fragments)\n",
    "        \n",
    "    def decompose_fragments(self, fragment_string):\n",
    "        # decomposes a string of multiple fragments into a list of single fragments\n",
    "        raise NotImplementedError\n",
    "    \n",
    "    def join_fragments(self, fragment_list):\n",
    "        # joins list of fragments into single string\n",
    "        raise NotImplementedError\n",
    "    \n",
    "    def fuse_fragments(self, fragment_string):\n",
    "        # fuses fragment string into single output\n",
    "        raise NotImplementedError\n",
    "    \n",
    "    def join_and_fuse(self, fragment_list):\n",
    "        return self.fuse_fragments(self.join_fragments(fragment_list))\n",
    "    \n",
    "    def recurse_fragments(self, fragment, add_constant=True):\n",
    "        # recursively break down fragments, route to subblocks, fuse and evaluate\n",
    "        raise NotImplementedError\n",
    "        \n",
    "    def __repr__(self):\n",
    "        \n",
    "        rep_str = f'Block {self.name}: {self.links}\\n\\t' + '\\n\\t'.join(self.template.__repr__().split('\\n'))\n",
    "        \n",
    "        if self.subblocks:\n",
    "            rep_str += '\\n'\n",
    "            for b in self.subblocks:\n",
    "                rep_str += '\\n\\t' + '\\n\\t'.join(b.__repr__().split('\\n'))\n",
    "                \n",
    "        return rep_str\n",
    "        "
   ]
  },
  {
   "cell_type": "code",
   "execution_count": null,
   "metadata": {},
   "outputs": [],
   "source": [
    "# export\n",
    "\n",
    "class MolBlock(Block):\n",
    "    def __init__(self, template, links, name, subblocks=[]):\n",
    "        super().__init__(template, links, name, subblocks=subblocks)\n",
    "        \n",
    "        # self.links = ['1*:2', '1*:3']\n",
    "        self.pattern = re.compile('\\[.\\*:.]')\n",
    "        \n",
    "        for link in self.links:\n",
    "            assert not '0*' in link, \"Do not use 0 as an isotope, RDKit automatically removes it\"\n",
    "            \n",
    "    def pattern_match(self, fragment):\n",
    "        matches = self.pattern.findall(fragment)\n",
    "        return [i[1:-1] for i in matches]\n",
    "    \n",
    "    def is_mapped(self, fragment):\n",
    "        if fragment.count('*') == len(self.pattern_match(fragment)):\n",
    "            mapped = True\n",
    "        else:\n",
    "            mapped = False\n",
    "            \n",
    "        return mapped\n",
    "    \n",
    "    def add_mapping(self, fragment, links=None):\n",
    "        if self.is_mapped(fragment):\n",
    "            # already mapped\n",
    "            mapped = fragment\n",
    "        else:\n",
    "            if len(self.pattern_match(fragment))>0:\n",
    "                # partially mapped, something went wrong\n",
    "                fragment = self.remove_mapping(fragment)\n",
    "                \n",
    "            if links is None:\n",
    "                links = list(self.links)\n",
    "                random.shuffle(links)\n",
    "                \n",
    "            mapped = ''\n",
    "            link_count = 0\n",
    "            for s in fragment:\n",
    "                if s=='*':\n",
    "                    s = f'[{links[link_count]}]'\n",
    "                    link_count += 1\n",
    "                mapped += s\n",
    "        \n",
    "        return mapped\n",
    "                \n",
    "    def remove_mapping(self, fragment):\n",
    "        matches = self.pattern_match(fragment)\n",
    "        for match in matches:\n",
    "            fragment = fragment.replace(f'[{match}]', '*')\n",
    "        return fragment\n",
    "    \n",
    "    def match_fragment(self, fragment):\n",
    "        \n",
    "        match = False\n",
    "        if fragment.count('*') == len(self.links):\n",
    "            if not self.is_mapped(fragment):\n",
    "                fragment = self.add_mapping(fragment)\n",
    "                \n",
    "            matches = self.pattern_match(fragment)\n",
    "            if len(matches)==len(set(matches)) and set(matches)==set(self.links):\n",
    "                match = True\n",
    "\n",
    "        return match\n",
    "    \n",
    "    def load_fragment(self, fragment):\n",
    "        if fragment.count('*') == len(self.links):\n",
    "            fragment = self.add_mapping(fragment)\n",
    "            fragpass = True\n",
    "        else:\n",
    "            fragpass = False\n",
    "            \n",
    "        return [fragment, fragpass]\n",
    "    \n",
    "    def load_data(self, fragments, recurse=False):\n",
    "        if recurse:\n",
    "            for b in self.subblocks:\n",
    "                b.load_data(fragments, recurse=True)\n",
    "                \n",
    "        fragments = maybe_parallel(self.load_fragment, fragments)\n",
    "        fragments = [i[0] for i in fragments if i[1]]\n",
    "        self.template.screen_mols(fragments)\n",
    "        \n",
    "    def sample_smiles(self, n, log='hard'):\n",
    "        return self.template.sample_smiles(n, log=log)\n",
    "    \n",
    "    def shuffle_mapping(self, fragment):\n",
    "        current_mapping = self.pattern_match(fragment)\n",
    "        new_mapping = list(current_mapping)\n",
    "        random.shuffle(new_mapping)\n",
    "        \n",
    "        fragment = self.remove_mapping(fragment)\n",
    "        fragment = self.add_mapping(fragment, links=new_mapping)\n",
    "        return fragment\n",
    "    \n",
    "    def decompose_fragments(self, fragment_string):\n",
    "        return fragment_string.split('.')\n",
    "    \n",
    "    def join_fragments(self, fragment_list):\n",
    "        return '.'.join(fragment_list)\n",
    "    \n",
    "    def fuse_fragments(self, fragment_string):\n",
    "        new_smile = fuse_on_atom_mapping(fragment_string)\n",
    "        return new_smile\n",
    "    \n",
    "    def recurse_fragments(self, fragments, add_constant=True):\n",
    "\n",
    "        output_dicts = []\n",
    "        total_pass = []\n",
    "        total_score = 0.\n",
    "\n",
    "        if type(fragments) == str:\n",
    "            fragments = [fragments]\n",
    "\n",
    "        fragments = [self.decompose_fragments(i) for i in fragments]\n",
    "        fragments = [item for sublist in fragments for item in sublist]\n",
    "\n",
    "        if self.subblocks:\n",
    "            new_fragments = []\n",
    "\n",
    "            unrouted = list(fragments) # copy list\n",
    "\n",
    "            for sb in self.subblocks:\n",
    "                routed = [i for i in unrouted if sb.match_fragment_recursive(i)]\n",
    "                unrouted = [i for i in unrouted if not i in routed]\n",
    "\n",
    "                if routed:\n",
    "                    r_fused, r_pass, r_score, subdicts = sb.recurse_fragments(routed)\n",
    "                    new_fragments.append(r_fused)\n",
    "                    total_pass.append(r_pass)\n",
    "                    total_score += r_score\n",
    "                    output_dicts += subdicts\n",
    "\n",
    "                if isinstance(sb, ConstantBlock) and add_constant:\n",
    "                    new_fragments.append(sb.smile)\n",
    "\n",
    "            fragments = new_fragments + unrouted\n",
    "\n",
    "        joined_fragments = self.join_fragments(fragments)\n",
    "        fused = self.fuse_fragments(joined_fragments)\n",
    "\n",
    "        frag_pass, frag_score, hardlog, softlog = self.eval_mol(fused)\n",
    "        total_pass.append(frag_pass)\n",
    "        total_score += frag_score\n",
    "\n",
    "        total_pass = all(total_pass)\n",
    "\n",
    "        output_dict = {\n",
    "            'block' : self.name,\n",
    "            'fused' : fused,\n",
    "            'fragments' : fragments,\n",
    "            'block_pass' : frag_pass,\n",
    "            'block_score' : frag_score,\n",
    "            'all_pass' : total_pass,\n",
    "            'all_score' : total_score,\n",
    "            'hardlog' : hardlog,\n",
    "            'softlog' : softlog\n",
    "        }\n",
    "\n",
    "        output_dicts.append(output_dict)\n",
    "\n",
    "        return fused, total_pass, total_score, output_dicts\n"
   ]
  },
  {
   "cell_type": "code",
   "execution_count": null,
   "metadata": {},
   "outputs": [],
   "source": [
    "# export\n",
    "\n",
    "class ConstantBlock():\n",
    "    def __init__(self, constant, name):\n",
    "        self.constant = constant\n",
    "        self.name = name\n",
    "        self.links = []\n",
    "        self.subblocks = []\n",
    "        self.sublinks = []\n",
    "        \n",
    "    def match_fragment(self, fragment):\n",
    "        return False\n",
    "    \n",
    "    def match_fragment_recursive(self, fragment):\n",
    "        return False\n",
    "\n",
    "    def load_data(self, fragments, recurse=False):\n",
    "        pass\n",
    "            \n",
    "    def sample_data(self, n):\n",
    "        return pd.DataFrame([self.constant, 0.]*n, columns=['smiles', 'final'])\n",
    "    \n",
    "    def __repr__(self):\n",
    "        \n",
    "        rep_str = f'Constant Block: {self.constant}'\n",
    "        \n",
    "        return rep_str\n",
    "    \n",
    "\n",
    "class ConstantMolBlock(ConstantBlock):\n",
    "    def __init__(self, smile, name):\n",
    "        super().__init__(smile, name)\n",
    "        self.smile = canon_smile(smile)\n",
    "        if '[*' in self.smile:\n",
    "            self.smile = self.smile.replace('[*', '[0*')\n",
    "        self.pattern = re.compile('\\[.\\*:.]')\n",
    "        self.links = [i[1:-1] for i in self.pattern.findall(smile)]\n",
    "    \n",
    "    def sample_smiles(self, n):\n",
    "        return [self.smile]*n\n",
    "    \n",
    "    def __repr__(self):\n",
    "        \n",
    "        rep_str = f'Constant Block: {self.smile}'\n",
    "        \n",
    "        return rep_str\n"
   ]
  },
  {
   "cell_type": "code",
   "execution_count": null,
   "metadata": {},
   "outputs": [],
   "source": []
  },
  {
   "cell_type": "code",
   "execution_count": null,
   "metadata": {},
   "outputs": [],
   "source": [
    "# scheme - constant scaffold, two variable r groups\n",
    "\n",
    "# scaffod\n",
    "scaffold_smile = 'c1nc2c([1*:2])cncc2cc1[1*:1]'\n",
    "scaffold_block = ConstantMolBlock(scaffold_smile, 'scaffold')\n",
    "\n",
    "# R1, must have ring, be between 50-250 g/mol. must have 1 ring. ideally less thn 100-200 g/mol\n",
    "\n",
    "r1_template = Template(\n",
    "                    [MolWtFilter(50, 250),\n",
    "                     RingFilter(1,1)],\n",
    "                    [MolWtFilter(100, 200, 1)],\n",
    "                    fail_score=-1\n",
    "                    )\n",
    "\n",
    "r1_block = MolBlock(r1_template, ['2*:1'], 'r1')\n",
    "\n",
    "\n",
    "# R2, must have no rings, be between 0-200 g/mol. must have 0 rings. ideally less thn 50-150 g/mol\n",
    "\n",
    "r2_template = Template(\n",
    "                    [MolWtFilter(0, 200),\n",
    "                     RingFilter(None,0)],\n",
    "                    [MolWtFilter(50,150,1)],\n",
    "                    fail_score=-1\n",
    "                    )\n",
    "\n",
    "r2_block = MolBlock(r2_template, ['2*:2'], 'r2')\n",
    "\n",
    "\n",
    "# full compound, must be between 200 and 550 g/mol\n",
    "\n",
    "full_template = Template(\n",
    "                    [MolWtFilter(200, 550)],\n",
    "                    fail_score=-1)\n",
    "\n",
    "main_block = MolBlock(full_template, [], 'full_molecule', subblocks=[scaffold_block, r1_block, r2_block])"
   ]
  },
  {
   "cell_type": "code",
   "execution_count": null,
   "metadata": {},
   "outputs": [],
   "source": []
  },
  {
   "cell_type": "code",
   "execution_count": null,
   "metadata": {},
   "outputs": [],
   "source": [
    "os.environ['ncpus'] = '8'"
   ]
  },
  {
   "cell_type": "code",
   "execution_count": null,
   "metadata": {},
   "outputs": [],
   "source": []
  },
  {
   "cell_type": "code",
   "execution_count": null,
   "metadata": {},
   "outputs": [],
   "source": [
    "df = pd.read_csv('files/smiles.csv')"
   ]
  },
  {
   "cell_type": "code",
   "execution_count": null,
   "metadata": {},
   "outputs": [],
   "source": [
    "fragments = fragment_smiles(df.smiles.values, [1])"
   ]
  },
  {
   "cell_type": "code",
   "execution_count": null,
   "metadata": {},
   "outputs": [
    {
     "data": {
      "text/plain": [
       "15898"
      ]
     },
     "execution_count": null,
     "metadata": {},
     "output_type": "execute_result"
    }
   ],
   "source": [
    "len(fragments)"
   ]
  },
  {
   "cell_type": "code",
   "execution_count": null,
   "metadata": {},
   "outputs": [],
   "source": []
  },
  {
   "cell_type": "code",
   "execution_count": null,
   "metadata": {},
   "outputs": [],
   "source": [
    "main_block.load_data(df.smiles.values, recurse=True)"
   ]
  },
  {
   "cell_type": "code",
   "execution_count": null,
   "metadata": {},
   "outputs": [
    {
     "data": {
      "text/html": [
       "<div>\n",
       "<style scoped>\n",
       "    .dataframe tbody tr th:only-of-type {\n",
       "        vertical-align: middle;\n",
       "    }\n",
       "\n",
       "    .dataframe tbody tr th {\n",
       "        vertical-align: top;\n",
       "    }\n",
       "\n",
       "    .dataframe thead th {\n",
       "        text-align: right;\n",
       "    }\n",
       "</style>\n",
       "<table border=\"1\" class=\"dataframe\">\n",
       "  <thead>\n",
       "    <tr style=\"text-align: right;\">\n",
       "      <th></th>\n",
       "      <th>smiles</th>\n",
       "      <th>0</th>\n",
       "      <th>final</th>\n",
       "    </tr>\n",
       "  </thead>\n",
       "  <tbody>\n",
       "  </tbody>\n",
       "</table>\n",
       "</div>"
      ],
      "text/plain": [
       "Empty DataFrame\n",
       "Columns: [smiles, 0, final]\n",
       "Index: []"
      ]
     },
     "execution_count": null,
     "metadata": {},
     "output_type": "execute_result"
    }
   ],
   "source": [
    "r1_block.template.soft_log"
   ]
  },
  {
   "cell_type": "code",
   "execution_count": null,
   "metadata": {},
   "outputs": [],
   "source": [
    "main_block.load_data(fragments, recurse=True)"
   ]
  },
  {
   "cell_type": "code",
   "execution_count": null,
   "metadata": {},
   "outputs": [
    {
     "data": {
      "text/html": [
       "<div>\n",
       "<style scoped>\n",
       "    .dataframe tbody tr th:only-of-type {\n",
       "        vertical-align: middle;\n",
       "    }\n",
       "\n",
       "    .dataframe tbody tr th {\n",
       "        vertical-align: top;\n",
       "    }\n",
       "\n",
       "    .dataframe thead th {\n",
       "        text-align: right;\n",
       "    }\n",
       "</style>\n",
       "<table border=\"1\" class=\"dataframe\">\n",
       "  <thead>\n",
       "    <tr style=\"text-align: right;\">\n",
       "      <th></th>\n",
       "      <th>smiles</th>\n",
       "      <th>0</th>\n",
       "      <th>final</th>\n",
       "    </tr>\n",
       "  </thead>\n",
       "  <tbody>\n",
       "    <tr>\n",
       "      <td>0</td>\n",
       "      <td>O=C(NC(=O)[2*:1])NC1CC1</td>\n",
       "      <td>1.0</td>\n",
       "      <td>1.0</td>\n",
       "    </tr>\n",
       "    <tr>\n",
       "      <td>1</td>\n",
       "      <td>O=C(CNC(=O)C1CCCCC1)OCC(=O)[2*:1]</td>\n",
       "      <td>0.0</td>\n",
       "      <td>0.0</td>\n",
       "    </tr>\n",
       "    <tr>\n",
       "      <td>2</td>\n",
       "      <td>COCc1cccc(NC(=O)N[2*:1])c1</td>\n",
       "      <td>1.0</td>\n",
       "      <td>1.0</td>\n",
       "    </tr>\n",
       "    <tr>\n",
       "      <td>3</td>\n",
       "      <td>O=CC(=Cc1ccc([N+](=O)[O-])o1)C[2*:1]</td>\n",
       "      <td>1.0</td>\n",
       "      <td>1.0</td>\n",
       "    </tr>\n",
       "    <tr>\n",
       "      <td>4</td>\n",
       "      <td>O=C(CCc1ccc(F)c(F)c1)N[2*:1]</td>\n",
       "      <td>1.0</td>\n",
       "      <td>1.0</td>\n",
       "    </tr>\n",
       "    <tr>\n",
       "      <td>...</td>\n",
       "      <td>...</td>\n",
       "      <td>...</td>\n",
       "      <td>...</td>\n",
       "    </tr>\n",
       "    <tr>\n",
       "      <td>4615</td>\n",
       "      <td>CCC(CC)(C[NH+]1CCCCC1)[2*:1]</td>\n",
       "      <td>1.0</td>\n",
       "      <td>1.0</td>\n",
       "    </tr>\n",
       "    <tr>\n",
       "      <td>4616</td>\n",
       "      <td>O=C(NC[2*:1])C1CCCC1</td>\n",
       "      <td>1.0</td>\n",
       "      <td>1.0</td>\n",
       "    </tr>\n",
       "    <tr>\n",
       "      <td>4617</td>\n",
       "      <td>O=C(C[2*:1])NC1CCCC1</td>\n",
       "      <td>1.0</td>\n",
       "      <td>1.0</td>\n",
       "    </tr>\n",
       "    <tr>\n",
       "      <td>4618</td>\n",
       "      <td>Oc1cccc(C[2*:1])c1</td>\n",
       "      <td>1.0</td>\n",
       "      <td>1.0</td>\n",
       "    </tr>\n",
       "    <tr>\n",
       "      <td>4619</td>\n",
       "      <td>O=C1CNC(=O)N1C[2*:1]</td>\n",
       "      <td>1.0</td>\n",
       "      <td>1.0</td>\n",
       "    </tr>\n",
       "  </tbody>\n",
       "</table>\n",
       "<p>4620 rows × 3 columns</p>\n",
       "</div>"
      ],
      "text/plain": [
       "                                    smiles    0  final\n",
       "0                  O=C(NC(=O)[2*:1])NC1CC1  1.0    1.0\n",
       "1        O=C(CNC(=O)C1CCCCC1)OCC(=O)[2*:1]  0.0    0.0\n",
       "2               COCc1cccc(NC(=O)N[2*:1])c1  1.0    1.0\n",
       "3     O=CC(=Cc1ccc([N+](=O)[O-])o1)C[2*:1]  1.0    1.0\n",
       "4             O=C(CCc1ccc(F)c(F)c1)N[2*:1]  1.0    1.0\n",
       "...                                    ...  ...    ...\n",
       "4615          CCC(CC)(C[NH+]1CCCCC1)[2*:1]  1.0    1.0\n",
       "4616                  O=C(NC[2*:1])C1CCCC1  1.0    1.0\n",
       "4617                  O=C(C[2*:1])NC1CCCC1  1.0    1.0\n",
       "4618                    Oc1cccc(C[2*:1])c1  1.0    1.0\n",
       "4619                  O=C1CNC(=O)N1C[2*:1]  1.0    1.0\n",
       "\n",
       "[4620 rows x 3 columns]"
      ]
     },
     "execution_count": null,
     "metadata": {},
     "output_type": "execute_result"
    }
   ],
   "source": [
    "r1_block.template.soft_log"
   ]
  },
  {
   "cell_type": "code",
   "execution_count": null,
   "metadata": {},
   "outputs": [],
   "source": []
  },
  {
   "cell_type": "code",
   "execution_count": null,
   "metadata": {},
   "outputs": [],
   "source": [
    "frag_strings = ['.'.join(i) for i in list(zip(*[i.sample_smiles(5) for i in main_block.subblocks]))]"
   ]
  },
  {
   "cell_type": "code",
   "execution_count": null,
   "metadata": {},
   "outputs": [
    {
     "data": {
      "text/plain": [
       "['Cc1cc(C(=O)NCc2cnc3c(N(C)CCS(C)(=O)=O)cncc3c2)sc1C#CCO',\n",
       " 'Cc1ccc(C(=O)NCc2cnc3c(C(=O)N(C)CCC(C)C)cncc3c2)n1C',\n",
       " 'CC(C)NC(=O)NNC(=O)c1cncc2cc(C[NH+]3CCC(CO)CC3)cnc12',\n",
       " 'CCCc1noc(C[NH+](C)c2cnc3c(SCCCCCCS)cncc3c2)n1',\n",
       " 'CC(C)(CBr)c1cncc2cc(CC(=O)Nc3ccc(Cl)c(C(F)(F)F)c3)cnc12']"
      ]
     },
     "execution_count": null,
     "metadata": {},
     "output_type": "execute_result"
    }
   ],
   "source": [
    "[main_block.fuse_fragments(i) for i in frag_strings]"
   ]
  },
  {
   "cell_type": "code",
   "execution_count": null,
   "metadata": {},
   "outputs": [],
   "source": [
    "frag_strings = []\n",
    "\n",
    "for i in range(100):\n",
    "    frag_strings += ['.'.join(i) for i in list(zip(*[i.sample_smiles(5) for i in main_block.subblocks]))]"
   ]
  },
  {
   "cell_type": "code",
   "execution_count": null,
   "metadata": {},
   "outputs": [
    {
     "data": {
      "text/plain": [
       "(500, 500)"
      ]
     },
     "execution_count": null,
     "metadata": {},
     "output_type": "execute_result"
    }
   ],
   "source": [
    "len(frag_strings), len(set(frag_strings))"
   ]
  },
  {
   "cell_type": "code",
   "execution_count": null,
   "metadata": {},
   "outputs": [],
   "source": [
    "frag_strings = list(set(frag_strings))"
   ]
  },
  {
   "cell_type": "code",
   "execution_count": null,
   "metadata": {},
   "outputs": [],
   "source": [
    "# out = [main_block.recurse_fragments(i, add_constant=False) for i in frag_strings]\n",
    "out = maybe_parallel(main_block.recurse_fragments, frag_strings, add_constant=False)"
   ]
  },
  {
   "cell_type": "code",
   "execution_count": null,
   "metadata": {},
   "outputs": [
    {
     "data": {
      "text/plain": [
       "[{'block': 'r1',\n",
       "  'fused': 'Cc1ccn(CCNC(=O)[2*:1])n1',\n",
       "  'fragments': ['Cc1ccn(CCNC(=O)[2*:1])n1'],\n",
       "  'block_pass': True,\n",
       "  'block_score': 1.0,\n",
       "  'all_pass': True,\n",
       "  'all_score': 1.0,\n",
       "  'hardlog': [],\n",
       "  'softlog': []},\n",
       " {'block': 'r2',\n",
       "  'fused': 'CC(C)O[2*:2]',\n",
       "  'fragments': ['CC(C)O[2*:2]'],\n",
       "  'block_pass': True,\n",
       "  'block_score': 1.0,\n",
       "  'all_pass': True,\n",
       "  'all_score': 1.0,\n",
       "  'hardlog': [],\n",
       "  'softlog': []},\n",
       " {'block': 'full_molecule',\n",
       "  'fused': 'Cc1ccn(CCNC(=O)c2cnc3c(OC(C)C)cncc3c2)n1',\n",
       "  'fragments': ['Cc1ccn(CCNC(=O)[2*:1])n1',\n",
       "   'CC(C)O[2*:2]',\n",
       "   'c1nc2c([1*:2])cncc2cc1[1*:1]'],\n",
       "  'block_pass': True,\n",
       "  'block_score': 0,\n",
       "  'all_pass': True,\n",
       "  'all_score': 2.0,\n",
       "  'hardlog': ['Cc1ccn(CCNC(=O)c2cnc3c(OC(C)C)cncc3c2)n1', True, True],\n",
       "  'softlog': ['Cc1ccn(CCNC(=O)c2cnc3c(OC(C)C)cncc3c2)n1', 0]}]"
      ]
     },
     "execution_count": null,
     "metadata": {},
     "output_type": "execute_result"
    }
   ],
   "source": [
    "out[0][-1]"
   ]
  },
  {
   "cell_type": "code",
   "execution_count": null,
   "metadata": {},
   "outputs": [],
   "source": []
  },
  {
   "cell_type": "code",
   "execution_count": null,
   "metadata": {},
   "outputs": [],
   "source": [
    "# scheme - constant scaffold, two variable r groups. one r group has a ring with two attachments, \n",
    "# one constant and one variabe\n",
    "\n",
    "# scaffod\n",
    "scaffold_smile = 'c1nc2c([1*:2])cncc2cc1[1*:1]'\n",
    "scaffold_block = ConstantMolBlock(scaffold_smile, 'scaffold')\n",
    "\n",
    "# R1 has 3 groups - constant carbonyl, variable ring, variabe ring attachment\n",
    "\n",
    "r1_carbonyl_block = ConstantMolBlock('C(O)(=O)[1*:4]', 'carbonyl')\n",
    "\n",
    "r1_ring_substitution_tempate = Template(\n",
    "                                        [RotBondFilter(0,3),\n",
    "                                         RingFilter(None,0)],\n",
    "                                        [RotBondFilter(0,2,1)],\n",
    "                                        fail_score=-1\n",
    "                                        )\n",
    "\n",
    "r1_ring_substitution_block = MolBlock(r1_ring_substitution_tempate, ['1*:3'], 'r1 ring substitution')\n",
    "\n",
    "r1_ring_template = Template(\n",
    "                            [RingFilter(1,1),\n",
    "                             RotBondFilter(0,1)],\n",
    "                            [RingFilter(1,1,1)],\n",
    "                            fail_score=-1\n",
    "                            )\n",
    "\n",
    "r1_ring_block = MolBlock(r1_ring_template, ['2*:3', '2*:4', '2*:2'], 'r1_ring')\n",
    "\n",
    "\n",
    "r1_full_group_template = Template(\n",
    "                            [MolWtFilter(50,350)],\n",
    "                            [MolWtFilter(100,200,1)],\n",
    "                            fail_score=-1\n",
    "                            )\n",
    "\n",
    "r1_block = MolBlock(r1_full_group_template, ['2*:2'], 'r1_full', \n",
    "                     subblocks=[r1_carbonyl_block, r1_ring_substitution_block, r1_ring_block])\n",
    "\n",
    "\n",
    "# R1, must have no rings, be between 0-200 g/mol. must have 0 rings. ideally less thn 50-150 g/mol\n",
    "\n",
    "r2_template = Template(\n",
    "                        [MolWtFilter(0,200)],\n",
    "                        [RingFilter(0,0)],\n",
    "                        fail_score=-1\n",
    "                        )\n",
    "\n",
    "r2_block = MolBlock(r2_template, ['2*:1'], 'r2')\n",
    "\n",
    "\n",
    "# full compound, must be between 200 and 550 g/mol\n",
    "\n",
    "full_template = Template(\n",
    "                        [MolWtFilter(200,550),\n",
    "                         StructureFilter(['[#6](-[#8])(=[#8])-[*]',\n",
    "                             '[#6]1:[#7]:[#6]2:[#6](-[*]):[#6]:[#7]:[#6]:[#6]:2:[#6]:[#6]:1-[*]'\n",
    "                             ], criteria='all', exclude=False)],\n",
    "                        [MolWtFilter(250,500,1)],\n",
    "                        fail_score=-1\n",
    "                        )\n",
    "\n",
    "main_block = MolBlock(full_template, [], 'full_molecule', subblocks=[scaffold_block, r1_block, r2_block])"
   ]
  },
  {
   "cell_type": "code",
   "execution_count": null,
   "metadata": {},
   "outputs": [],
   "source": []
  },
  {
   "cell_type": "code",
   "execution_count": null,
   "metadata": {},
   "outputs": [],
   "source": [
    "main_block.load_data(df.smiles.values, recurse=False)"
   ]
  },
  {
   "cell_type": "code",
   "execution_count": null,
   "metadata": {},
   "outputs": [],
   "source": [
    "main_block.load_data(fragments, recurse=True)"
   ]
  },
  {
   "cell_type": "code",
   "execution_count": null,
   "metadata": {},
   "outputs": [],
   "source": [
    "frag_df = pd.read_csv('../../chem_research/fragments.csv')"
   ]
  },
  {
   "cell_type": "code",
   "execution_count": null,
   "metadata": {},
   "outputs": [],
   "source": [
    "main_block.load_data(frag_df.smiles.values, recurse=True)"
   ]
  },
  {
   "cell_type": "code",
   "execution_count": null,
   "metadata": {},
   "outputs": [],
   "source": []
  },
  {
   "cell_type": "code",
   "execution_count": null,
   "metadata": {},
   "outputs": [],
   "source": [
    "f = ['CNC(=O)C=C[1*:3]',\n",
    " 'CC(C)(C)C(C1C(=O)CC([2*:2])([2*:3])OC1=O)[2*:4]',\n",
    " 'CCCCN(C)c1ccc([2*:1])cc1']\n",
    "\n",
    "fragments = [main_block.decompose_fragments(i) for i in f]\n",
    "fragments = flatten_list_of_lists(fragments)"
   ]
  },
  {
   "cell_type": "code",
   "execution_count": null,
   "metadata": {},
   "outputs": [
    {
     "name": "stdout",
     "output_type": "stream",
     "text": [
      "scaffold []\n",
      "r1_full ['CNC(=O)C=C[1*:3]', 'CC(C)(C)C(C1C(=O)CC([2*:2])([2*:3])OC1=O)[2*:4]']\n",
      "r2 ['CCCCN(C)c1ccc([2*:1])cc1']\n"
     ]
    }
   ],
   "source": [
    "unrouted = list(fragments)\n",
    "for sb in main_block.subblocks:\n",
    "    routed = [i for i in unrouted if sb.match_fragment_recursive(i)]\n",
    "    print(sb.name, routed)"
   ]
  },
  {
   "cell_type": "code",
   "execution_count": null,
   "metadata": {},
   "outputs": [],
   "source": []
  },
  {
   "cell_type": "code",
   "execution_count": null,
   "metadata": {},
   "outputs": [],
   "source": [
    "# export\n",
    "\n",
    "class BlockTree():\n",
    "    def __init__(self, head_block):\n",
    "        self.head_block = head_block\n",
    "        self.nodes = self.nodes_to_list(self.head_block)\n",
    "        self.leaf_nodes = [i for i in self.nodes if not i.subblocks]\n",
    "        self.live_leafs = [i for i in self.leaf_nodes if not isinstance(i, ConstantBlock)]\n",
    "        self.node_dict = {i.name:i for i in self.nodes}\n",
    "        self.log = []\n",
    "        \n",
    "    def nodes_to_list(self, block):\n",
    "        nodes = [block]\n",
    "        if block.subblocks:\n",
    "            for subblock in block.subblocks:\n",
    "                nodes += self.nodes_to_list(subblock)\n",
    "                \n",
    "        return nodes\n",
    "    \n",
    "    def log_outputs(self, outputs):\n",
    "        \n",
    "        log_dict = {}\n",
    "        \n",
    "        for output_dict in outputs:\n",
    "            if not output_dict['block'] in log_dict.keys():\n",
    "                log_dict[output_dict['block']] = {'hard':[],\n",
    "                                                  'soft':[]}\n",
    "                \n",
    "            if output_dict['hardlog']:\n",
    "                log_dict[output_dict['block']]['hard'].append(output_dict['hardlog'])\n",
    "                \n",
    "            if output_dict['softlog']:\n",
    "                log_dict[output_dict['block']]['soft'].append(output_dict['softlog'])\n",
    "        \n",
    "        for blockname in log_dict.keys():\n",
    "            node = self.node_dict[blockname]\n",
    "            if not log_dict[blockname]['hard']==[]:\n",
    "                node.template.log_data(log_dict[blockname]['hard'], filter_type='hard')\n",
    "                \n",
    "            if not log_dict[blockname]['soft']==[]:\n",
    "                node.template.log_data(log_dict[blockname]['soft'], filter_type='soft')\n",
    "                \n",
    "    def recurse_fragments(self, fragments, add_constant=True):\n",
    "        \n",
    "        if type(fragments) == str:\n",
    "            fragments = [fragments]\n",
    "            \n",
    "        outputs = maybe_parallel(self.head_block.recurse_fragments, fragments, add_constant=add_constant)\n",
    "        output_data = []\n",
    "        output_dicts = []\n",
    "        \n",
    "        for i, out in enumerate(outputs):\n",
    "            fused, allpass, allscore, log_dicts = out\n",
    "            output_data.append([fragments[i], fused, allpass, allscore])\n",
    "            output_dicts += log_dicts\n",
    "            \n",
    "        self.log_outputs(output_dicts)\n",
    "        self.log += output_data\n",
    "        return output_data\n",
    "                \n",
    "    def sample_leaf_nodes(self, include_constant=False):\n",
    "        pass\n",
    "    \n",
    "    def combinatorial_sample(self, n_sample, max_n, include_constant=False):\n",
    "        pass\n",
    "    \n",
    "    \n",
    "class MolBlockTree(BlockTree):\n",
    "    def __init__(self, head_block):\n",
    "        super().__init__(head_block)\n",
    "        \n",
    "    def _sample_leaf_nodes(self, include_constant=False):\n",
    "        if include_constant:\n",
    "            leaf_nodes = self.leaf_nodes\n",
    "        else:\n",
    "            leaf_nodes = self.live_leafs\n",
    "            \n",
    "        output = []\n",
    "        \n",
    "        for node in leaf_nodes:\n",
    "            output.append(node.sample_data(1))\n",
    "        \n",
    "        output = [list(i.smiles.values) for i in output]\n",
    "            \n",
    "        return output\n",
    "    \n",
    "    def sample_leaf_nodes(self, n, include_constant=False):\n",
    "        return maybe_parallel(self._sample_leaf_nodes, [include_constant]*n)\n",
    "    \n",
    "    def combinatorial_sample(self, n_sample, max_n, include_constant=False):\n",
    "        \n",
    "        if include_constant:\n",
    "            leaf_nodes = self.leaf_nodes\n",
    "        else:\n",
    "            leaf_nodes = self.live_leafs\n",
    "            \n",
    "        output = []\n",
    "        \n",
    "        for node in leaf_nodes:\n",
    "            output.append(node.sample_data(n_sample))\n",
    "        \n",
    "        output = [list(set(i.smiles.values)) for i in output]\n",
    "        it = itertools.product(*output)\n",
    "        \n",
    "        prods = []\n",
    "        \n",
    "        for i, p in enumerate(it):\n",
    "            prods.append(p)\n",
    "            if i>max_n:\n",
    "                break\n",
    "        \n",
    "        return prods"
   ]
  },
  {
   "cell_type": "code",
   "execution_count": null,
   "metadata": {},
   "outputs": [],
   "source": []
  },
  {
   "cell_type": "code",
   "execution_count": null,
   "metadata": {},
   "outputs": [],
   "source": [
    "os.environ['ncpus'] = '0'"
   ]
  },
  {
   "cell_type": "code",
   "execution_count": null,
   "metadata": {},
   "outputs": [],
   "source": []
  },
  {
   "cell_type": "code",
   "execution_count": null,
   "metadata": {},
   "outputs": [],
   "source": [
    "blocktree = MolBlockTree(main_block)"
   ]
  },
  {
   "cell_type": "code",
   "execution_count": null,
   "metadata": {},
   "outputs": [
    {
     "data": {
      "text/plain": [
       "['SCCC[1*:3]', 'O=C(N[2*:2])C1CC([2*:4])CCN1[2*:3]', 'C1CC(C[2*:1])CC[NH2+]1']"
      ]
     },
     "execution_count": null,
     "metadata": {},
     "output_type": "execute_result"
    }
   ],
   "source": [
    "frags[0]"
   ]
  },
  {
   "cell_type": "code",
   "execution_count": null,
   "metadata": {},
   "outputs": [],
   "source": [
    "_ = blocktree.recurse_fragments(frags, add_constant=True)"
   ]
  },
  {
   "cell_type": "code",
   "execution_count": null,
   "metadata": {},
   "outputs": [
    {
     "data": {
      "text/plain": [
       "[['SCCC[1*:3]',\n",
       "  'O=C(N[2*:2])C1CC([2*:4])CCN1[2*:3]',\n",
       "  'C1CC(C[2*:1])CC[NH2+]1'],\n",
       " 'O=C(O)C1CCN(CCCS)C(C(=O)Nc2cncc3cc(CC4CC[NH2+]CC4)cnc23)C1',\n",
       " True,\n",
       " 3.0]"
      ]
     },
     "execution_count": null,
     "metadata": {},
     "output_type": "execute_result"
    }
   ],
   "source": [
    "_[0]"
   ]
  },
  {
   "cell_type": "code",
   "execution_count": null,
   "metadata": {},
   "outputs": [
    {
     "data": {
      "text/plain": [
       "2412"
      ]
     },
     "execution_count": null,
     "metadata": {},
     "output_type": "execute_result"
    }
   ],
   "source": [
    "len([i for i in _ if i[2]])"
   ]
  },
  {
   "cell_type": "code",
   "execution_count": null,
   "metadata": {},
   "outputs": [
    {
     "data": {
      "text/plain": [
       "[['SCCC[1*:3].O=C(N[2*:2])C1CC([2*:4])CCN1[2*:3].C1CC(C[2*:1])CC[NH2+]1',\n",
       "  'O=C(O)C1CCN(CCCS)C(C(=O)Nc2cncc3cc(CC4CC[NH2+]CC4)cnc23)C1',\n",
       "  True,\n",
       "  3.0]]"
      ]
     },
     "execution_count": null,
     "metadata": {},
     "output_type": "execute_result"
    }
   ],
   "source": [
    "blocktree.recurse_fragments('.'.join(frags[0]), add_constant=True)"
   ]
  },
  {
   "cell_type": "code",
   "execution_count": null,
   "metadata": {},
   "outputs": [],
   "source": []
  },
  {
   "cell_type": "code",
   "execution_count": null,
   "metadata": {},
   "outputs": [],
   "source": []
  },
  {
   "cell_type": "code",
   "execution_count": null,
   "metadata": {},
   "outputs": [],
   "source": []
  },
  {
   "cell_type": "code",
   "execution_count": null,
   "metadata": {},
   "outputs": [],
   "source": []
  },
  {
   "cell_type": "code",
   "execution_count": null,
   "metadata": {},
   "outputs": [],
   "source": []
  },
  {
   "cell_type": "code",
   "execution_count": null,
   "metadata": {},
   "outputs": [],
   "source": []
  },
  {
   "cell_type": "code",
   "execution_count": null,
   "metadata": {},
   "outputs": [],
   "source": []
  },
  {
   "cell_type": "code",
   "execution_count": null,
   "metadata": {},
   "outputs": [],
   "source": []
  },
  {
   "cell_type": "code",
   "execution_count": null,
   "metadata": {},
   "outputs": [],
   "source": []
  },
  {
   "cell_type": "code",
   "execution_count": null,
   "metadata": {},
   "outputs": [],
   "source": []
  },
  {
   "cell_type": "code",
   "execution_count": null,
   "metadata": {},
   "outputs": [],
   "source": []
  },
  {
   "cell_type": "code",
   "execution_count": null,
   "metadata": {},
   "outputs": [],
   "source": []
  },
  {
   "cell_type": "code",
   "execution_count": null,
   "metadata": {},
   "outputs": [],
   "source": []
  },
  {
   "cell_type": "markdown",
   "metadata": {},
   "source": [
    "check if template with no hard fiters returns true\n",
    "\n",
    "Clean up docs\n",
    "add returns between lines in docstrings for better rendering\n",
    "Make overview page for templates\n",
    "Make tutorial for enumeration (remove existing from chem notebook)\n",
    "make tutoriaal for baasic templates\n",
    "make tutorial for intermediate templates (custom filters, etc)\n",
    "make tutorial for advanced templates (blocks)\n",
    "figure out page links in nbdev\n",
    "figure out import all \n",
    "\n",
    "torch core\n",
    "models (lstm, vae, transformer)\n",
    "\n",
    "score functions\n",
    "\n",
    "training loop\n",
    "\n",
    "poicy gradients\n",
    "\n",
    "q-network\n",
    "\n",
    "diff-loss\n",
    "\n",
    "exploration strategies\n",
    "\n",
    "combichem\n",
    "\n",
    "pharmacophore \n",
    "\n",
    "\n",
    "pages\n",
    "overview\n",
    "\n",
    "generrative screening primerr"
   ]
  },
  {
   "cell_type": "code",
   "execution_count": null,
   "metadata": {},
   "outputs": [],
   "source": []
  },
  {
   "cell_type": "code",
   "execution_count": null,
   "metadata": {},
   "outputs": [],
   "source": []
  }
 ],
 "metadata": {
  "kernelspec": {
   "display_name": "Python 3",
   "language": "python",
   "name": "python3"
  }
 },
 "nbformat": 4,
 "nbformat_minor": 2
}
