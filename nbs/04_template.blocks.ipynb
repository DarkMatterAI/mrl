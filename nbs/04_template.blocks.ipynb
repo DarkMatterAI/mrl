{
 "cells": [
  {
   "cell_type": "code",
   "execution_count": null,
   "metadata": {},
   "outputs": [],
   "source": [
    "# default_exp templates.blocks"
   ]
  },
  {
   "cell_type": "markdown",
   "metadata": {},
   "source": [
    "# Blocks\n",
    "\n",
    "> Blocks are used for advanced templating where different templates are applied to different sections of the molecule\n"
   ]
  },
  {
   "cell_type": "code",
   "execution_count": null,
   "metadata": {},
   "outputs": [],
   "source": [
    "#hide\n",
    "from nbdev.showdoc import *\n",
    "%load_ext autoreload\n",
    "%autoreload 2"
   ]
  },
  {
   "cell_type": "code",
   "execution_count": null,
   "metadata": {},
   "outputs": [
    {
     "name": "stderr",
     "output_type": "stream",
     "text": [
      "//anaconda3/envs/insight/lib/python3.6/importlib/_bootstrap.py:219: RuntimeWarning: to-Python converter for boost::shared_ptr<RDKit::FilterCatalogEntry const> already registered; second conversion method ignored.\n",
      "  return f(*args, **kwds)\n"
     ]
    }
   ],
   "source": [
    "# export\n",
    "from mrl.imports import *\n",
    "from mrl.core import *\n",
    "from mrl.chem import *\n",
    "from mrl.templates.filters import *\n",
    "from mrl.templates.template import *"
   ]
  },
  {
   "cell_type": "code",
   "execution_count": null,
   "metadata": {},
   "outputs": [],
   "source": []
  },
  {
   "cell_type": "code",
   "execution_count": null,
   "metadata": {},
   "outputs": [],
   "source": [
    "# export\n",
    "\n",
    "class Block():\n",
    "    def __init__(self, template, links, name, subblocks=[]):\n",
    "        self.template = template\n",
    "        self.links = links\n",
    "        self.name = name\n",
    "        self.subblocks = subblocks\n",
    "        self.sublinks = []\n",
    "        \n",
    "    def update_links(self):\n",
    "        # updates self.sublinks based on self.subblocks\n",
    "        raise NotImplementedError\n",
    "        \n",
    "    def match_fragment(self, fragment):\n",
    "        # determine if fragment matches block link pattern\n",
    "        raise NotImplementedError\n",
    "    \n",
    "    def match_fragment_recursive(self, fragment):\n",
    "        # recursively match fragment to all subblocks\n",
    "        if self.match_fragment(fragment):\n",
    "            output = True\n",
    "        else:\n",
    "            output = False\n",
    "            for block in self.subblocks:\n",
    "                if block.match_fragment_recursive(fragment):\n",
    "                    output = True\n",
    "                    \n",
    "        return output\n",
    "    \n",
    "    def eval_mol(self, mol):\n",
    "        mol = to_mol(mol)\n",
    "        smile = to_smile(mol)\n",
    "        \n",
    "        if self.match_fragment(smile):\n",
    "            hardpass = self.template(mol, filter_type='hard')\n",
    "        else:\n",
    "            hardpass = False\n",
    "\n",
    "        if hardpass:\n",
    "            score = self.template(mol, filter_type='soft')\n",
    "        else:\n",
    "            score = self.template.failscore\n",
    "        \n",
    "        return [hardpass, score]\n",
    "    \n",
    "    def add_mapping(self, fragment):\n",
    "        # converts unmapped fragment to mapped fragment\n",
    "        raise NotImplementedError\n",
    "    \n",
    "    def remove_mapping(self, fragment):\n",
    "        # converts mapped fragment to unmapped fragment\n",
    "        raise NotImplementedError\n",
    "\n",
    "    def shuffle_mapping(sef, fragment):\n",
    "        # shuffles mapping of attachment points\n",
    "        raise NotImplementedError\n",
    "    \n",
    "    def check_num_links(self, fragment):\n",
    "        # checks if the fragment has the same number of attachments as defined in self.links\n",
    "        raise NotImplementedError\n",
    "    \n",
    "    def process_fragment(self, fragment):\n",
    "        # checks if fragment has correct number of attachments and maps fragment\n",
    "        \n",
    "        if self.check_num_links(fragment):\n",
    "            fragment = self.add_mapping(fragment)\n",
    "            attachment_pass = True\n",
    "        else:\n",
    "            attachment_pass = False\n",
    "            \n",
    "        return [attachment_pass, fragment]\n",
    "    \n",
    "    def load_data(self, fragments, recurse=False):\n",
    "        # checks fragment attachments, then sends to template `load_data`\n",
    "        # optionally recursive\n",
    "        if recurse:\n",
    "            for b in self.subblocks:\n",
    "                b.load_data(fragments, recurse=True)\n",
    "        \n",
    "        fragments = maybe_parallel(self.process_fragment, fragments)\n",
    "        fragments = [i[1] for i in fragments if i[0]]\n",
    "        self.template.screen_mols(fragments)\n",
    "            \n",
    "    def sample(self, n, log='hard'):\n",
    "        return self.template.sample(n, log=log)\n",
    "    \n",
    "    def decompose_fragments(self, fragment_string):\n",
    "        # decomposes a string of multiple fragments into a list of single fragments\n",
    "        raise NotImplementedError\n",
    "    \n",
    "    def join_fragments(self, fragment_list):\n",
    "        # joins list of fragments into single string\n",
    "        raise NotImplementedError\n",
    "    \n",
    "    def fuse_fragments(self, fragment_string):\n",
    "        # fuses fragment string into single output\n",
    "        raise NotImplementedError\n",
    "    \n",
    "    def join_and_fuse(self, fragment_list):\n",
    "        return self.fuse_fragments(self.join_fragments(fragment_list))\n",
    "    \n",
    "    def recurse_fragments(self, fragment):\n",
    "        # recursively break down fragments, route to subblocks, fuse and evaluate\n",
    "        raise NotImplementedError\n",
    "        \n",
    "    def __repr__(self):\n",
    "        \n",
    "        rep_str = f'Block {self.name}: {self.links}\\n\\t' + '\\n\\t'.join(self.template.__repr__().split('\\n'))\n",
    "        \n",
    "        if self.subblocks:\n",
    "            rep_str += '\\n'\n",
    "            for b in self.subblocks:\n",
    "                rep_str += '\\n\\t' + '\\n\\t'.join(b.__repr__().split('\\n'))\n",
    "                \n",
    "        return rep_str"
   ]
  },
  {
   "cell_type": "code",
   "execution_count": null,
   "metadata": {},
   "outputs": [],
   "source": [
    "class MolBlock(Block):\n",
    "    def __init__(self, template, links, name, subblocks=[]):\n",
    "        super().__init__(template, links, name, subblocks=subblocks)\n",
    "        \n",
    "        self.update_links()\n",
    "        self.pattern = re.compile('\\[(.*?)\\*:(.*?)]') # identifies isotope and map num\n",
    "    \n",
    "    def update_links(self):\n",
    "        for b in self.subblocks:\n",
    "            self.sublinks.append(b.links)\n",
    "            for sl in b.sublinks:\n",
    "                self.sublinks.append(sl)\n",
    "\n",
    "    def match_fragment(self, fragment, do_map=True, links=None):\n",
    "        # determine if fragment matches block link pattern\n",
    "        \n",
    "        if self.check_num_links(fragment):\n",
    "            if do_map:\n",
    "                self.add_mapping(fragment)\n",
    "\n",
    "            if links is None:\n",
    "                links = self.links\n",
    "\n",
    "            pattern_matches = self.pattern.findall(fragment) # find isotope/map num pairs\n",
    "\n",
    "            if set(pattern_matches) == set(links):\n",
    "                link_match = True\n",
    "            else:\n",
    "                link_match = False\n",
    "        else:\n",
    "            link_match = False\n",
    "        \n",
    "        return link_match\n",
    "            \n",
    "    def add_mapping(self, fragment, links=None):\n",
    "        pattern_matches = self.pattern.findall(fragment)\n",
    "        \n",
    "        if len(pattern_matches) == len(self.links):\n",
    "            # already mapped\n",
    "            output = fragment\n",
    "        else:\n",
    "            if len(pattern_matches) > 0:\n",
    "                # partially mapped, something went wrong\n",
    "                fragment = self.remove_mapping(fragment)\n",
    "        \n",
    "            if links is None:\n",
    "                links = list(self.links)\n",
    "                random.shuffle(links)\n",
    "                \n",
    "            new_fragment = ''\n",
    "            link_count = 0\n",
    "            for s in fragment:\n",
    "                if s=='*':\n",
    "                    isotope, map_num = links[link_count]\n",
    "                    s = f'[{isotope}*:{map_num}]'\n",
    "                    link_count += 1\n",
    "            \n",
    "                new_fragment += s\n",
    "                \n",
    "            output = new_fragment\n",
    "            \n",
    "        return output\n",
    "    \n",
    "    def remove_mapping(self, fragment):\n",
    "        current_mapping = self.pattern.findall(fragment)\n",
    "        \n",
    "        for cm in current_mapping:\n",
    "            isotope, map_num = cm\n",
    "            fragment = fragment.replace(f'[{isotope}*:{map_num}]', '*')\n",
    "            \n",
    "        return fragment\n",
    "    \n",
    "    def shuffle_mapping(self, fragment):\n",
    "        current_mapping = self.pattern.findall(fragment)\n",
    "        new_mapping = list(current_mapping)\n",
    "        random.shuffle(new_mapping)\n",
    "        \n",
    "        fragment = self.remove_mapping(fragment)\n",
    "        fragment = self.add_mapping(fragment, links=new_mapping)\n",
    "        return fragment\n",
    "    \n",
    "    def check_num_links(self, fragment):\n",
    "        return fragment.count('*') == len(self.links)\n",
    "    \n",
    "    def sample_smiles(self, n, log='hard'):\n",
    "        return self.template.sample_smiles(n, log=log)\n",
    "    \n",
    "    def decompose_fragments(self, fragment_string):\n",
    "        return fragment_string.split('.')\n",
    "    \n",
    "    def join_fragments(self, fragment_list):\n",
    "        return '.'.join(fragment_list)\n",
    "    \n",
    "    def fuse_fragments(self, fragment_string):\n",
    "        \n",
    "        new_smile = fuse_on_atom_mapping(fragment_string)\n",
    "        \n",
    "        if '[*' in new_smile: #lost isotope\n",
    "            new_smile = new_smile.replace('[*', '[0*')\n",
    "            \n",
    "        return new_smile\n",
    "    \n",
    "    def recurse_fragments(self, fragments):\n",
    "\n",
    "        output_dicts = []\n",
    "        total_pass = []\n",
    "        total_score = 0.\n",
    "\n",
    "        if type(fragments) == str:\n",
    "            fragments = [fragments]\n",
    "\n",
    "        fragments = [self.decompose_fragments(i) for i in fragments]\n",
    "        fragments = [item for sublist in fragments for item in sublist]\n",
    "\n",
    "        if self.subblocks:\n",
    "            new_fragments = []\n",
    "\n",
    "            unrouted = list(fragments) # copy list\n",
    "\n",
    "            for sb in self.subblocks:\n",
    "                routed = [i for i in unrouted if sb.match_fragment_recursive(i)]\n",
    "                unrouted = [i for i in unrouted if not i in routed]\n",
    "\n",
    "                if routed:\n",
    "                    r_fused, r_pass, r_score, subdicts = sb.recurse_fragments(routed)\n",
    "                    new_fragments.append(r_fused)\n",
    "                    total_pass.append(r_pass)\n",
    "                    total_score += r_score\n",
    "                    output_dicts += subdicts\n",
    "\n",
    "                if isinstance(sb, ConstantBlock):\n",
    "                    new_fragments.append(sb.smile)\n",
    "\n",
    "            fragments = new_fragments + unrouted\n",
    "\n",
    "        joined_fragments = self.join_fragments(fragments)\n",
    "        fused = self.fuse_fragments(joined_fragments)\n",
    "\n",
    "        frag_pass, frag_score = self.eval_mol(fused)\n",
    "        total_pass.append(frag_pass)\n",
    "        total_score += frag_score\n",
    "\n",
    "        total_pass = all(total_pass)\n",
    "\n",
    "        output_dict = {\n",
    "            'block' : self.name,\n",
    "            'fused' : fused,\n",
    "            'fragments' : fragments,\n",
    "            'block_pass' : frag_pass,\n",
    "            'block_score' : frag_score,\n",
    "            'all_pass' : total_pass,\n",
    "            'all_score' : total_score\n",
    "        }\n",
    "\n",
    "        output_dicts.append(output_dict)\n",
    "\n",
    "        return fused, total_pass, total_score, output_dicts\n"
   ]
  },
  {
   "cell_type": "code",
   "execution_count": null,
   "metadata": {},
   "outputs": [],
   "source": []
  },
  {
   "cell_type": "code",
   "execution_count": null,
   "metadata": {},
   "outputs": [],
   "source": [
    "# export\n",
    "\n",
    "class ConstantBlock():\n",
    "    def __init__(self, constant, name):\n",
    "        self.constant = constant\n",
    "        self.name = name\n",
    "        self.links = []\n",
    "        self.subblocks = []\n",
    "        self.sublinks = []\n",
    "        \n",
    "    def match_fragment(self, fragment):\n",
    "        return False\n",
    "    \n",
    "    def match_fragment_recursive(self, fragment):\n",
    "        return False\n",
    "\n",
    "    def load_data(self, fragments, recurse=False):\n",
    "        pass\n",
    "            \n",
    "    def sample_data(self, n):\n",
    "        return pd.DataFrame([self.constant, 0.]*n, columns=['smiles', 'final'])\n",
    "    \n",
    "    def __repr__(self):\n",
    "        \n",
    "        rep_str = f'Constant Block: {self.constant}'\n",
    "        \n",
    "        return rep_str\n",
    "    \n",
    "\n",
    "class ConstantMolBlock(ConstantBlock):\n",
    "    def __init__(self, smile, name):\n",
    "        super().__init__(smile, name)\n",
    "        self.smile = canon_smile(smile)\n",
    "        if '[*' in self.smile:\n",
    "            self.smile = self.smile.replace('[*', '[0*')\n",
    "        self.pattern = re.compile('\\[(.*?)\\*:(.*?)]')\n",
    "        self.links = self.pattern.findall(smile)\n",
    "    \n",
    "    def sample_smile(self, n):\n",
    "        return [self.smile]*n\n",
    "    \n",
    "    def __repr__(self):\n",
    "        \n",
    "        rep_str = f'Constant Block: {self.smile}'\n",
    "        \n",
    "        return rep_str"
   ]
  },
  {
   "cell_type": "code",
   "execution_count": null,
   "metadata": {},
   "outputs": [],
   "source": []
  },
  {
   "cell_type": "code",
   "execution_count": null,
   "metadata": {},
   "outputs": [],
   "source": [
    "# scheme - constant scaffold, two variable r groups\n",
    "\n",
    "# scaffod\n",
    "scaffold_smile = 'c1nc2c([0*:2])cncc2cc1[0*:1]'\n",
    "scaffold_block = ConstantMolBlock(scaffold_smile, 'scaffold')\n",
    "\n",
    "# R1, must have ring, be between 50-250 g/mol. must have 1 ring. ideally less thn 100-200 g/mol\n",
    "\n",
    "r1_template = Template(\n",
    "                    [MolWtFilter(50, 250),\n",
    "                     RingFilter(1,1)],\n",
    "                    [MolWtFilter(100, 200, 1)],\n",
    "                    fail_score=-1\n",
    "                    )\n",
    "\n",
    "r1_block = MolBlock(r1_template, [('1', '1')], 'r1')\n",
    "\n",
    "\n",
    "# R2, must have no rings, be between 0-200 g/mol. must have 0 rings. ideally less thn 50-150 g/mol\n",
    "\n",
    "r2_template = Template(\n",
    "                    [MolWtFilter(0, 200),\n",
    "                     RingFilter(None,0)],\n",
    "                    [MolWtFilter(50,150,1)],\n",
    "                    fail_score=-1\n",
    "                    )\n",
    "\n",
    "r2_block = MolBlock(r2_template, [('1', '2')], 'r2')\n",
    "\n",
    "\n",
    "# full compound, must be between 200 and 550 g/mol\n",
    "\n",
    "full_template = Template(\n",
    "                    [MolWtFilter(200, 550)],\n",
    "                    fail_score=-1)\n",
    "\n",
    "main_block = MolBlock(full_template, [], 'full_molecule', subblocks=[scaffold_block, r1_block, r2_block])"
   ]
  },
  {
   "cell_type": "code",
   "execution_count": null,
   "metadata": {},
   "outputs": [],
   "source": []
  },
  {
   "cell_type": "code",
   "execution_count": null,
   "metadata": {},
   "outputs": [],
   "source": [
    "df = pd.read_csv('files/smiles.csv')"
   ]
  },
  {
   "cell_type": "code",
   "execution_count": null,
   "metadata": {},
   "outputs": [],
   "source": [
    "fragments = fragment_smiles(df.smiles.values, [1,2])"
   ]
  },
  {
   "cell_type": "code",
   "execution_count": null,
   "metadata": {},
   "outputs": [
    {
     "data": {
      "text/plain": [
       "38451"
      ]
     },
     "execution_count": null,
     "metadata": {},
     "output_type": "execute_result"
    }
   ],
   "source": [
    "len(fragments)"
   ]
  },
  {
   "cell_type": "code",
   "execution_count": null,
   "metadata": {},
   "outputs": [
    {
     "data": {
      "text/plain": [
       "2    22553\n",
       "1    15898\n",
       "Name: 0, dtype: int64"
      ]
     },
     "execution_count": null,
     "metadata": {},
     "output_type": "execute_result"
    }
   ],
   "source": [
    "pd.DataFrame([i.count('*') for i in fragments])[0].value_counts()"
   ]
  },
  {
   "cell_type": "code",
   "execution_count": null,
   "metadata": {},
   "outputs": [],
   "source": []
  },
  {
   "cell_type": "code",
   "execution_count": null,
   "metadata": {},
   "outputs": [],
   "source": [
    "main_block.load_data(df.smiles.values, recurse=True)"
   ]
  },
  {
   "cell_type": "code",
   "execution_count": null,
   "metadata": {},
   "outputs": [],
   "source": [
    "main_block.load_data(fragments, recurse=True)"
   ]
  },
  {
   "cell_type": "code",
   "execution_count": null,
   "metadata": {},
   "outputs": [
    {
     "data": {
      "text/html": [
       "<div>\n",
       "<style scoped>\n",
       "    .dataframe tbody tr th:only-of-type {\n",
       "        vertical-align: middle;\n",
       "    }\n",
       "\n",
       "    .dataframe tbody tr th {\n",
       "        vertical-align: top;\n",
       "    }\n",
       "\n",
       "    .dataframe thead th {\n",
       "        text-align: right;\n",
       "    }\n",
       "</style>\n",
       "<table border=\"1\" class=\"dataframe\">\n",
       "  <thead>\n",
       "    <tr style=\"text-align: right;\">\n",
       "      <th></th>\n",
       "      <th>smiles</th>\n",
       "      <th>final</th>\n",
       "    </tr>\n",
       "  </thead>\n",
       "  <tbody>\n",
       "    <tr>\n",
       "      <td>0</td>\n",
       "      <td>CNc1nc(SCC(=O)Nc2cc(Cl)ccc2OC)nc2ccccc12</td>\n",
       "      <td>0</td>\n",
       "    </tr>\n",
       "    <tr>\n",
       "      <td>1</td>\n",
       "      <td>COc1ccc(C(=O)Oc2ccc(/C=C3\\C(=N)N4OC(C)=CC4=NC3...</td>\n",
       "      <td>0</td>\n",
       "    </tr>\n",
       "    <tr>\n",
       "      <td>2</td>\n",
       "      <td>Cc1sc(NC(=O)c2ccccc2)c(C(N)=O)c1C</td>\n",
       "      <td>0</td>\n",
       "    </tr>\n",
       "    <tr>\n",
       "      <td>3</td>\n",
       "      <td>COc1ccc(NCc2noc(-c3ccoc3)n2)cc1OC(F)F</td>\n",
       "      <td>0</td>\n",
       "    </tr>\n",
       "    <tr>\n",
       "      <td>4</td>\n",
       "      <td>O=C(COC(=O)c1cccc(Br)c1)c1ccc2c(c1)OCCCO2</td>\n",
       "      <td>0</td>\n",
       "    </tr>\n",
       "    <tr>\n",
       "      <td>...</td>\n",
       "      <td>...</td>\n",
       "      <td>...</td>\n",
       "    </tr>\n",
       "    <tr>\n",
       "      <td>1962</td>\n",
       "      <td>Cc1cccc(C)c1C(=O)Nc1cc(S(=O)(=O)NC2CC2)ccc1O</td>\n",
       "      <td>0</td>\n",
       "    </tr>\n",
       "    <tr>\n",
       "      <td>1963</td>\n",
       "      <td>C/C(=N/NC(=O)CN(c1ccccc1Br)S(C)(=O)=O)c1ccc2c(...</td>\n",
       "      <td>0</td>\n",
       "    </tr>\n",
       "    <tr>\n",
       "      <td>1964</td>\n",
       "      <td>CCC(=O)Nc1ccc(NC(=O)NCCc2cccs2)cc1C</td>\n",
       "      <td>0</td>\n",
       "    </tr>\n",
       "    <tr>\n",
       "      <td>1965</td>\n",
       "      <td>CCC(CC)(NC(=O)Cc1c(F)cccc1F)/C(N)=N/O</td>\n",
       "      <td>0</td>\n",
       "    </tr>\n",
       "    <tr>\n",
       "      <td>1966</td>\n",
       "      <td>CC(=O)c1ccc(NC(=O)CNC(=O)c2ccccc2C)cc1C</td>\n",
       "      <td>0</td>\n",
       "    </tr>\n",
       "  </tbody>\n",
       "</table>\n",
       "<p>1967 rows × 2 columns</p>\n",
       "</div>"
      ],
      "text/plain": [
       "                                                 smiles final\n",
       "0              CNc1nc(SCC(=O)Nc2cc(Cl)ccc2OC)nc2ccccc12     0\n",
       "1     COc1ccc(C(=O)Oc2ccc(/C=C3\\C(=N)N4OC(C)=CC4=NC3...     0\n",
       "2                     Cc1sc(NC(=O)c2ccccc2)c(C(N)=O)c1C     0\n",
       "3                 COc1ccc(NCc2noc(-c3ccoc3)n2)cc1OC(F)F     0\n",
       "4             O=C(COC(=O)c1cccc(Br)c1)c1ccc2c(c1)OCCCO2     0\n",
       "...                                                 ...   ...\n",
       "1962       Cc1cccc(C)c1C(=O)Nc1cc(S(=O)(=O)NC2CC2)ccc1O     0\n",
       "1963  C/C(=N/NC(=O)CN(c1ccccc1Br)S(C)(=O)=O)c1ccc2c(...     0\n",
       "1964                CCC(=O)Nc1ccc(NC(=O)NCCc2cccs2)cc1C     0\n",
       "1965              CCC(CC)(NC(=O)Cc1c(F)cccc1F)/C(N)=N/O     0\n",
       "1966            CC(=O)c1ccc(NC(=O)CNC(=O)c2ccccc2C)cc1C     0\n",
       "\n",
       "[1967 rows x 2 columns]"
      ]
     },
     "execution_count": null,
     "metadata": {},
     "output_type": "execute_result"
    }
   ],
   "source": [
    "main_block.template.soft_log"
   ]
  },
  {
   "cell_type": "code",
   "execution_count": null,
   "metadata": {},
   "outputs": [
    {
     "data": {
      "text/html": [
       "<div>\n",
       "<style scoped>\n",
       "    .dataframe tbody tr th:only-of-type {\n",
       "        vertical-align: middle;\n",
       "    }\n",
       "\n",
       "    .dataframe tbody tr th {\n",
       "        vertical-align: top;\n",
       "    }\n",
       "\n",
       "    .dataframe thead th {\n",
       "        text-align: right;\n",
       "    }\n",
       "</style>\n",
       "<table border=\"1\" class=\"dataframe\">\n",
       "  <thead>\n",
       "    <tr style=\"text-align: right;\">\n",
       "      <th></th>\n",
       "      <th>smiles</th>\n",
       "      <th>0</th>\n",
       "      <th>final</th>\n",
       "    </tr>\n",
       "  </thead>\n",
       "  <tbody>\n",
       "    <tr>\n",
       "      <td>0</td>\n",
       "      <td>COc1c(C)cnc([1*:1])c1C</td>\n",
       "      <td>1.0</td>\n",
       "      <td>1.0</td>\n",
       "    </tr>\n",
       "    <tr>\n",
       "      <td>1</td>\n",
       "      <td>COc1cccc(C(=O)C=C([O-])C(=O)OC[1*:1])c1</td>\n",
       "      <td>0.0</td>\n",
       "      <td>0.0</td>\n",
       "    </tr>\n",
       "    <tr>\n",
       "      <td>2</td>\n",
       "      <td>COc1cc(C)ccc1OCCC(=O)N[1*:1]</td>\n",
       "      <td>0.0</td>\n",
       "      <td>0.0</td>\n",
       "    </tr>\n",
       "    <tr>\n",
       "      <td>3</td>\n",
       "      <td>Cc1ccc(O[1*:1])cc1</td>\n",
       "      <td>1.0</td>\n",
       "      <td>1.0</td>\n",
       "    </tr>\n",
       "    <tr>\n",
       "      <td>4</td>\n",
       "      <td>CS(=O)(=O)N(c1ccccc1)[1*:1]</td>\n",
       "      <td>1.0</td>\n",
       "      <td>1.0</td>\n",
       "    </tr>\n",
       "    <tr>\n",
       "      <td>...</td>\n",
       "      <td>...</td>\n",
       "      <td>...</td>\n",
       "      <td>...</td>\n",
       "    </tr>\n",
       "    <tr>\n",
       "      <td>4615</td>\n",
       "      <td>O=[N+]([O-])c1ccccc1N[1*:1]</td>\n",
       "      <td>1.0</td>\n",
       "      <td>1.0</td>\n",
       "    </tr>\n",
       "    <tr>\n",
       "      <td>4616</td>\n",
       "      <td>Cc1nnc([1*:1])o1</td>\n",
       "      <td>0.0</td>\n",
       "      <td>0.0</td>\n",
       "    </tr>\n",
       "    <tr>\n",
       "      <td>4617</td>\n",
       "      <td>CC(=O)c1cccn1[1*:1]</td>\n",
       "      <td>1.0</td>\n",
       "      <td>1.0</td>\n",
       "    </tr>\n",
       "    <tr>\n",
       "      <td>4618</td>\n",
       "      <td>O=C(COC(=O)Cc1ccccc1F)N[1*:1]</td>\n",
       "      <td>0.0</td>\n",
       "      <td>0.0</td>\n",
       "    </tr>\n",
       "    <tr>\n",
       "      <td>4619</td>\n",
       "      <td>O=C(N[1*:1])c1ccccc1F</td>\n",
       "      <td>1.0</td>\n",
       "      <td>1.0</td>\n",
       "    </tr>\n",
       "  </tbody>\n",
       "</table>\n",
       "<p>4620 rows × 3 columns</p>\n",
       "</div>"
      ],
      "text/plain": [
       "                                       smiles    0  final\n",
       "0                      COc1c(C)cnc([1*:1])c1C  1.0    1.0\n",
       "1     COc1cccc(C(=O)C=C([O-])C(=O)OC[1*:1])c1  0.0    0.0\n",
       "2                COc1cc(C)ccc1OCCC(=O)N[1*:1]  0.0    0.0\n",
       "3                          Cc1ccc(O[1*:1])cc1  1.0    1.0\n",
       "4                 CS(=O)(=O)N(c1ccccc1)[1*:1]  1.0    1.0\n",
       "...                                       ...  ...    ...\n",
       "4615              O=[N+]([O-])c1ccccc1N[1*:1]  1.0    1.0\n",
       "4616                         Cc1nnc([1*:1])o1  0.0    0.0\n",
       "4617                      CC(=O)c1cccn1[1*:1]  1.0    1.0\n",
       "4618            O=C(COC(=O)Cc1ccccc1F)N[1*:1]  0.0    0.0\n",
       "4619                    O=C(N[1*:1])c1ccccc1F  1.0    1.0\n",
       "\n",
       "[4620 rows x 3 columns]"
      ]
     },
     "execution_count": null,
     "metadata": {},
     "output_type": "execute_result"
    }
   ],
   "source": [
    "main_block.subblocks[1].template.soft_log"
   ]
  },
  {
   "cell_type": "code",
   "execution_count": null,
   "metadata": {},
   "outputs": [
    {
     "data": {
      "text/html": [
       "<div>\n",
       "<style scoped>\n",
       "    .dataframe tbody tr th:only-of-type {\n",
       "        vertical-align: middle;\n",
       "    }\n",
       "\n",
       "    .dataframe tbody tr th {\n",
       "        vertical-align: top;\n",
       "    }\n",
       "\n",
       "    .dataframe thead th {\n",
       "        text-align: right;\n",
       "    }\n",
       "</style>\n",
       "<table border=\"1\" class=\"dataframe\">\n",
       "  <thead>\n",
       "    <tr style=\"text-align: right;\">\n",
       "      <th></th>\n",
       "      <th>smiles</th>\n",
       "      <th>0</th>\n",
       "      <th>final</th>\n",
       "    </tr>\n",
       "  </thead>\n",
       "  <tbody>\n",
       "    <tr>\n",
       "      <td>0</td>\n",
       "      <td>CC(C)CCNC(=O)NC[1*:2]</td>\n",
       "      <td>1.0</td>\n",
       "      <td>1.0</td>\n",
       "    </tr>\n",
       "    <tr>\n",
       "      <td>1</td>\n",
       "      <td>N[1*:2]</td>\n",
       "      <td>0.0</td>\n",
       "      <td>0.0</td>\n",
       "    </tr>\n",
       "    <tr>\n",
       "      <td>2</td>\n",
       "      <td>CC(=NO)[1*:2]</td>\n",
       "      <td>1.0</td>\n",
       "      <td>1.0</td>\n",
       "    </tr>\n",
       "    <tr>\n",
       "      <td>3</td>\n",
       "      <td>COC(=O)C(C)(C)[1*:2]</td>\n",
       "      <td>1.0</td>\n",
       "      <td>1.0</td>\n",
       "    </tr>\n",
       "    <tr>\n",
       "      <td>4</td>\n",
       "      <td>CC(C)(CCO)CNC(=O)NC[1*:2]</td>\n",
       "      <td>0.0</td>\n",
       "      <td>0.0</td>\n",
       "    </tr>\n",
       "    <tr>\n",
       "      <td>...</td>\n",
       "      <td>...</td>\n",
       "      <td>...</td>\n",
       "      <td>...</td>\n",
       "    </tr>\n",
       "    <tr>\n",
       "      <td>552</td>\n",
       "      <td>CNC(=O)NC(=O)[1*:2]</td>\n",
       "      <td>1.0</td>\n",
       "      <td>1.0</td>\n",
       "    </tr>\n",
       "    <tr>\n",
       "      <td>553</td>\n",
       "      <td>COCCO[1*:2]</td>\n",
       "      <td>1.0</td>\n",
       "      <td>1.0</td>\n",
       "    </tr>\n",
       "    <tr>\n",
       "      <td>554</td>\n",
       "      <td>CN(C)S(=O)(=O)[1*:2]</td>\n",
       "      <td>1.0</td>\n",
       "      <td>1.0</td>\n",
       "    </tr>\n",
       "    <tr>\n",
       "      <td>555</td>\n",
       "      <td>CC(C)(C)CC[1*:2]</td>\n",
       "      <td>1.0</td>\n",
       "      <td>1.0</td>\n",
       "    </tr>\n",
       "    <tr>\n",
       "      <td>556</td>\n",
       "      <td>CC(C)CN(CC(F)(F)F)C[1*:2]</td>\n",
       "      <td>0.0</td>\n",
       "      <td>0.0</td>\n",
       "    </tr>\n",
       "  </tbody>\n",
       "</table>\n",
       "<p>557 rows × 3 columns</p>\n",
       "</div>"
      ],
      "text/plain": [
       "                        smiles    0  final\n",
       "0        CC(C)CCNC(=O)NC[1*:2]  1.0    1.0\n",
       "1                      N[1*:2]  0.0    0.0\n",
       "2                CC(=NO)[1*:2]  1.0    1.0\n",
       "3         COC(=O)C(C)(C)[1*:2]  1.0    1.0\n",
       "4    CC(C)(CCO)CNC(=O)NC[1*:2]  0.0    0.0\n",
       "..                         ...  ...    ...\n",
       "552        CNC(=O)NC(=O)[1*:2]  1.0    1.0\n",
       "553                COCCO[1*:2]  1.0    1.0\n",
       "554       CN(C)S(=O)(=O)[1*:2]  1.0    1.0\n",
       "555           CC(C)(C)CC[1*:2]  1.0    1.0\n",
       "556  CC(C)CN(CC(F)(F)F)C[1*:2]  0.0    0.0\n",
       "\n",
       "[557 rows x 3 columns]"
      ]
     },
     "execution_count": null,
     "metadata": {},
     "output_type": "execute_result"
    }
   ],
   "source": [
    "main_block.subblocks[2].template.soft_log"
   ]
  },
  {
   "cell_type": "code",
   "execution_count": null,
   "metadata": {},
   "outputs": [],
   "source": []
  },
  {
   "cell_type": "code",
   "execution_count": null,
   "metadata": {},
   "outputs": [],
   "source": [
    "fragment_string = '[1*:2]C(=O)NC(CO)CC(C)C.[1*:1]S(=O)(=O)NCc1ccc(O)c(C(=O)O)c1'"
   ]
  },
  {
   "cell_type": "code",
   "execution_count": null,
   "metadata": {},
   "outputs": [
    {
     "data": {
      "text/plain": [
       "'CC(C)CC(CO)NC(=O)c1cncc2cc(S(=O)(=O)NCc3ccc(O)c(C(=O)O)c3)cnc12'"
      ]
     },
     "execution_count": null,
     "metadata": {},
     "output_type": "execute_result"
    }
   ],
   "source": [
    "main_block.fuse_fragments(fragment_string+'.'+scaffold_block.smile)"
   ]
  },
  {
   "cell_type": "code",
   "execution_count": null,
   "metadata": {},
   "outputs": [
    {
     "data": {
      "text/plain": [
       "False"
      ]
     },
     "execution_count": null,
     "metadata": {},
     "output_type": "execute_result"
    }
   ],
   "source": [
    "main_block.match_fragment('[1*:2]C(=O)NC(CO)CC(C)C')"
   ]
  },
  {
   "cell_type": "code",
   "execution_count": null,
   "metadata": {},
   "outputs": [
    {
     "data": {
      "text/plain": [
       "True"
      ]
     },
     "execution_count": null,
     "metadata": {},
     "output_type": "execute_result"
    }
   ],
   "source": [
    "main_block.match_fragment_recursive('[1*:2]C(=O)NC(CO)CC(C)C')"
   ]
  },
  {
   "cell_type": "code",
   "execution_count": null,
   "metadata": {},
   "outputs": [],
   "source": []
  },
  {
   "cell_type": "code",
   "execution_count": null,
   "metadata": {},
   "outputs": [],
   "source": [
    "out = main_block.recurse_fragments('[1*:2]C(=O)NC(CO)CC(C)C.[1*:1]S(=O)(=O)NCc1ccc(O)c(C(=O)O)c1')"
   ]
  },
  {
   "cell_type": "code",
   "execution_count": null,
   "metadata": {},
   "outputs": [
    {
     "data": {
      "text/plain": [
       "'CC(C)CC(CO)NC(=O)c1cncc2cc(S(=O)(=O)NCc3ccc(O)c(C(=O)O)c3)cnc12'"
      ]
     },
     "execution_count": null,
     "metadata": {},
     "output_type": "execute_result"
    }
   ],
   "source": [
    "out[0]"
   ]
  },
  {
   "cell_type": "code",
   "execution_count": null,
   "metadata": {},
   "outputs": [
    {
     "data": {
      "text/plain": [
       "True"
      ]
     },
     "execution_count": null,
     "metadata": {},
     "output_type": "execute_result"
    }
   ],
   "source": [
    "out[1]"
   ]
  },
  {
   "cell_type": "code",
   "execution_count": null,
   "metadata": {},
   "outputs": [
    {
     "data": {
      "text/plain": [
       "1.0"
      ]
     },
     "execution_count": null,
     "metadata": {},
     "output_type": "execute_result"
    }
   ],
   "source": [
    "out[2]"
   ]
  },
  {
   "cell_type": "code",
   "execution_count": null,
   "metadata": {},
   "outputs": [],
   "source": []
  },
  {
   "cell_type": "code",
   "execution_count": null,
   "metadata": {},
   "outputs": [],
   "source": []
  },
  {
   "cell_type": "code",
   "execution_count": null,
   "metadata": {},
   "outputs": [],
   "source": [
    "# frag_df = pd.read_csv('../../chem_research/fragments.csv')\n",
    "# df = pd.read_csv('/Users/karl/Desktop/bindingDB/filtered_ligands.smi', header=None, sep='\\t')\n",
    "# df.columns = ['smile', 'name']"
   ]
  },
  {
   "cell_type": "code",
   "execution_count": null,
   "metadata": {},
   "outputs": [],
   "source": []
  },
  {
   "cell_type": "code",
   "execution_count": null,
   "metadata": {},
   "outputs": [],
   "source": []
  },
  {
   "cell_type": "code",
   "execution_count": null,
   "metadata": {},
   "outputs": [],
   "source": []
  },
  {
   "cell_type": "code",
   "execution_count": null,
   "metadata": {},
   "outputs": [],
   "source": []
  },
  {
   "cell_type": "markdown",
   "metadata": {},
   "source": [
    "Clean up docs\n",
    "add returns between lines in docstrings for better rendering\n",
    "Make overview page for templates\n",
    "Make tutorial for enumeration (remove existing from chem notebook)\n",
    "make tutoriaal for baasic templates\n",
    "make tutorial for intermediate templates (custom filters, etc)\n",
    "make tutorial for advanced templates (blocks)\n",
    "figure out page links in nbdev"
   ]
  },
  {
   "cell_type": "code",
   "execution_count": null,
   "metadata": {},
   "outputs": [],
   "source": []
  },
  {
   "cell_type": "code",
   "execution_count": null,
   "metadata": {},
   "outputs": [],
   "source": []
  }
 ],
 "metadata": {
  "kernelspec": {
   "display_name": "Python 3",
   "language": "python",
   "name": "python3"
  }
 },
 "nbformat": 4,
 "nbformat_minor": 2
}
