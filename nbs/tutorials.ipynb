{
 "cells": [
  {
   "cell_type": "markdown",
   "metadata": {},
   "source": [
    "# Tutorials\n",
    "\n",
    "> MRL tutorials"
   ]
  },
  {
   "cell_type": "markdown",
   "metadata": {},
   "source": [
    "### Computational Chemistry\n",
    "\n",
    "- <a href=\"/mrl/tutorials.structure_enumeration.html\">Structure Enumeration</a>\n",
    "\n",
    "- <a href=\"/mrl/tutorials.template.beginner.html\">Templates (Beginner)</a>\n",
    "\n",
    "- <a href=\"/mrl/tutorials.template.intermediate.html\">Templates (Intermediate)</a>\n",
    "\n",
    "- <a href=\"/mrl/tutorials.template.advanced.html\">Templates (Advanced)</a>\n",
    "\n",
    "- <a href=\"/mrl/tutorials.dataset_building.html\">Dataset Construction</a>\n",
    "\n",
    "### Generative Models\n",
    "\n",
    "- <a href=\"/mrl/tutorials.generative_models.lstm_lm.html\">LSTM Language Model</a>"
   ]
  },
  {
   "cell_type": "code",
   "execution_count": null,
   "metadata": {},
   "outputs": [],
   "source": []
  }
 ],
 "metadata": {
  "kernelspec": {
   "display_name": "Python 3",
   "language": "python",
   "name": "python3"
  }
 },
 "nbformat": 4,
 "nbformat_minor": 2
}
