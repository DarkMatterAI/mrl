{
 "cells": [
  {
   "cell_type": "markdown",
   "metadata": {},
   "source": [
    "# Tutorials\n",
    "\n",
    "> MRL tutorials"
   ]
  },
  {
   "cell_type": "markdown",
   "metadata": {},
   "source": [
    "### MRl Tutorials\n",
    "\n",
    "#### Structure Enumeration\n",
    "\n",
    "<a href=\"/mrl/tutorials.structure_enumeration.html\">Structure Enumeration</a>\n",
    "\n",
    "#### Templates\n",
    "\n",
    "<a href=\"/mrl/tutorials.template.beginner.html\">Templates (Beginner)</a>\n",
    "\n",
    "<a href=\"/mrl/tutorials.template.intermediate.html\">Templates (Intermediate)</a>\n",
    "\n",
    "<a href=\"/mrl/tutorials.template.advanced.html\">Templates (Advanced)</a>"
   ]
  },
  {
   "cell_type": "code",
   "execution_count": null,
   "metadata": {},
   "outputs": [],
   "source": []
  }
 ],
 "metadata": {
  "kernelspec": {
   "display_name": "Python 3",
   "language": "python",
   "name": "python3"
  }
 },
 "nbformat": 4,
 "nbformat_minor": 2
}
