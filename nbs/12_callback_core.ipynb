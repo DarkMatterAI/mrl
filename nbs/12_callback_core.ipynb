{
 "cells": [
  {
   "cell_type": "code",
   "execution_count": null,
   "metadata": {},
   "outputs": [],
   "source": [
    "# default_exp callbacks.core"
   ]
  },
  {
   "cell_type": "markdown",
   "metadata": {},
   "source": [
    "# Callback Core\n",
    "\n",
    "> Base callback class"
   ]
  },
  {
   "cell_type": "code",
   "execution_count": null,
   "metadata": {},
   "outputs": [],
   "source": [
    "#hide\n",
    "from nbdev.showdoc import *\n",
    "%load_ext autoreload\n",
    "%autoreload 2"
   ]
  },
  {
   "cell_type": "code",
   "execution_count": null,
   "metadata": {},
   "outputs": [],
   "source": [
    "# export\n",
    "\n",
    "from mrl.imports import *\n",
    "from mrl.core import *\n",
    "from mrl.torch_imports import *\n",
    "from mrl.torch_core import *"
   ]
  },
  {
   "cell_type": "code",
   "execution_count": null,
   "metadata": {},
   "outputs": [],
   "source": []
  },
  {
   "cell_type": "code",
   "execution_count": null,
   "metadata": {},
   "outputs": [],
   "source": [
    "# export\n",
    "\n",
    "class Callback():\n",
    "    def __init__(self, name='base_callback', order=10):\n",
    "        self.order=order\n",
    "        self.name = name\n",
    "        self.event_timelog = defaultdict(list)\n",
    "    \n",
    "    def __call__(self, event_name):\n",
    "        \n",
    "        start = time.time()\n",
    "        event = getattr(self, event_name, None)\n",
    "        if event is not None:\n",
    "            output = event()\n",
    "        else:\n",
    "            output = None\n",
    "            \n",
    "        end = time.time() - start\n",
    "        self.event_timelog[event_name].append(end)\n",
    "        return output\n",
    "    \n",
    "    def __repr__(self):\n",
    "        return self.name\n",
    "    \n",
    "    def plot_dict(self, data_dict, cols=4, smooth=True):\n",
    "        num_metrics = len(data_dict.keys())\n",
    "        \n",
    "        rows = int(np.ceil(num_metrics/cols))\n",
    "        fig, axes = plt.subplots(rows, cols, figsize=(4*cols, 4*rows))\n",
    "                \n",
    "        metrics = list(data_dict.keys())\n",
    "        \n",
    "        for i, ax in enumerate(axes.flat):\n",
    "            if i <len(metrics):\n",
    "                ax.plot(np.stack(data_dict[metrics[i]]),)\n",
    "                ax.set_title(metrics[i])\n",
    "            else:\n",
    "                ax.axis('off')\n",
    "    \n",
    "    def plot_time(self, cols=4, smooth=True):\n",
    "        self.plot_dict(self.event_timelog, cols=cols, smooth=smooth)"
   ]
  },
  {
   "cell_type": "code",
   "execution_count": null,
   "metadata": {},
   "outputs": [
    {
     "data": {
      "text/plain": [
       "base_callback"
      ]
     },
     "execution_count": null,
     "metadata": {},
     "output_type": "execute_result"
    }
   ],
   "source": [
    "Callback()"
   ]
  },
  {
   "cell_type": "code",
   "execution_count": null,
   "metadata": {},
   "outputs": [],
   "source": [
    "# export\n",
    "\n",
    "class Event():\n",
    "    def __init__(self):\n",
    "        self.setup = 'setup'\n",
    "        self.before_train = 'before_train'\n",
    "        self.build_buffer = 'build_buffer'\n",
    "        self.after_build_buffer = 'after_build_buffer'\n",
    "        self.before_batch = 'before_batch'\n",
    "        self.sample_batch = 'sample_batch'\n",
    "        self.after_sample = 'after_sample'\n",
    "        self.get_model_outputs = 'get_model_outputs'\n",
    "        self.compute_reward = 'compute_reward'\n",
    "        self.after_compute_reward = 'after_compute_reward'\n",
    "        self.compute_loss = 'compute_loss'\n",
    "        self.zero_grad = 'zero_grad'\n",
    "        self.before_step = 'before_step'\n",
    "        self.step = 'step'\n",
    "        self.after_batch = 'after_batch'\n",
    "        self.after_train = 'after_train'\n",
    "        \n",
    "        \n",
    "# class Event():\n",
    "#     def __init__(self):\n",
    "#         self.setup = 'setup'\n",
    "#         self.before_train = 'before_train'\n",
    "#         self.build_buffer = 'build_buffer'\n",
    "#         self.filter_buffer = 'filter_buffer'\n",
    "#         self.after_build_buffer = 'after_build_buffer'\n",
    "#         self.score_buffer = 'compute_buffer_reward'\n",
    "#         self.before_batch = 'before_batch'\n",
    "#         self.sample_batch = 'sample_batch'\n",
    "#         self.filter_batch = 'filter_batch'\n",
    "#         self.after_sample = 'after_sample'\n",
    "#         self.compute_reward = 'compute_batch_reward'\n",
    "#         self.after_compute_reward = 'after_compute_reward'\n",
    "#         self.reward_modification = 'reward_modification'\n",
    "#         self.get_model_outputs = 'get_model_outputs'\n",
    "#         self.compute_loss = 'compute_loss'\n",
    "#         self.zero_grad = 'zero_grad'\n",
    "#         self.before_step = 'before_step'\n",
    "#         self.step = 'step'\n",
    "#         self.after_batch = 'after_batch'\n",
    "#         self.after_train = 'after_train'"
   ]
  },
  {
   "cell_type": "code",
   "execution_count": null,
   "metadata": {},
   "outputs": [],
   "source": [
    "# export\n",
    "\n",
    "class SettrDict(dict):\n",
    "    def __init__(self):\n",
    "        super().__init__()\n",
    "        \n",
    "    def __setitem__(self, key, item):\n",
    "        super().__setitem__(key, item)\n",
    "        super().__setattr__(key, item)\n",
    "    \n",
    "    def __setattr__(self, key, item):\n",
    "        super().__setitem__(key, item)\n",
    "        super().__setattr__(key, item)\n",
    "        \n",
    "    def update_from_dict(self, update_dict):\n",
    "        for k,v in update_dict.items():\n",
    "            self[k] = v\n",
    "        \n",
    "class BatchState(SettrDict):\n",
    "    def __init__(self):\n",
    "        super().__init__()\n",
    "        \n",
    "        self.samples = []\n",
    "        self.sources = []\n",
    "        self.rewards = to_device(torch.tensor(0.))\n",
    "        self.loss = to_device(torch.tensor(0., requires_grad=True))\n",
    "        self.latent_data = {}"
   ]
  },
  {
   "cell_type": "code",
   "execution_count": null,
   "metadata": {},
   "outputs": [],
   "source": []
  },
  {
   "cell_type": "code",
   "execution_count": null,
   "metadata": {},
   "outputs": [],
   "source": []
  },
  {
   "cell_type": "code",
   "execution_count": null,
   "metadata": {},
   "outputs": [],
   "source": [
    "# hide\n",
    "from nbdev.export import notebook2script; notebook2script()"
   ]
  },
  {
   "cell_type": "code",
   "execution_count": null,
   "metadata": {},
   "outputs": [],
   "source": []
  }
 ],
 "metadata": {
  "kernelspec": {
   "display_name": "Python (mrl)",
   "language": "python",
   "name": "mrl"
  }
 },
 "nbformat": 4,
 "nbformat_minor": 4
}
