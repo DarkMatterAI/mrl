{
 "cells": [
  {
   "cell_type": "code",
   "execution_count": null,
   "metadata": {},
   "outputs": [],
   "source": [
    "#hide\n",
    "#skip\n",
    "! [ -e /content ] && pip install -Uqq mrl-pypi  # upgrade mrl on colab"
   ]
  },
  {
   "cell_type": "code",
   "execution_count": null,
   "metadata": {},
   "outputs": [],
   "source": [
    "# default_exp combichem"
   ]
  },
  {
   "cell_type": "markdown",
   "metadata": {},
   "source": [
    "# Combichem\n",
    "\n",
    "> Combinatorial chemistry functions"
   ]
  },
  {
   "cell_type": "code",
   "execution_count": null,
   "metadata": {},
   "outputs": [],
   "source": [
    "#hide\n",
    "from nbdev.showdoc import *\n",
    "%load_ext autoreload\n",
    "%autoreload 2"
   ]
  },
  {
   "cell_type": "code",
   "execution_count": null,
   "metadata": {},
   "outputs": [
    {
     "name": "stderr",
     "output_type": "stream",
     "text": [
      "/home/dmai/miniconda3/envs/mrl/lib/python3.7/importlib/_bootstrap.py:219: RuntimeWarning: to-Python converter for boost::shared_ptr<RDKit::FilterCatalogEntry const> already registered; second conversion method ignored.\n",
      "  return f(*args, **kwds)\n"
     ]
    }
   ],
   "source": [
    "# export\n",
    "\n",
    "from mrl.imports import *\n",
    "from mrl.core import *\n",
    "from mrl.chem import *"
   ]
  },
  {
   "cell_type": "code",
   "execution_count": null,
   "metadata": {},
   "outputs": [],
   "source": [
    "# export\n",
    "\n",
    "class Crossover():\n",
    "    def __call__(self, mols):\n",
    "        mols = to_mols(mols)\n",
    "        shuffle_idxs = np.random.choice(range(len(mols)), len(mols), replace=False)\n",
    "        pairs = [(mols[i], mols[shuffle_idxs[i]]) for i in range(len(mols))]\n",
    "        outputs = maybe_parallel(self.crossover, pairs)\n",
    "        return flatten_list_of_lists(outputs)\n",
    "    \n",
    "    def crossover(self, mol_pair):\n",
    "        raise NotImplementedError"
   ]
  },
  {
   "cell_type": "code",
   "execution_count": null,
   "metadata": {},
   "outputs": [],
   "source": [
    "# export\n",
    "\n",
    "class FragmentCrossover(Crossover):\n",
    "    def __init__(self, full_crossover=False):\n",
    "        self.full_crossover = full_crossover\n",
    "        \n",
    "    def crossover(self, mol_pair):\n",
    "        mol1, mol2 = mol_pair\n",
    "        cores1, rgroups1 = self.split_fragments(self.fragment(to_mol(mol1)))\n",
    "        cores2, rgroups2 = self.split_fragments(self.fragment(to_mol(mol2)))\n",
    "        \n",
    "        outputs = self.merge_groups(cores1, rgroups2)\n",
    "        outputs += self.merge_groups(cores2, rgroups1)\n",
    "        return outputs\n",
    "        \n",
    "    def merge_groups(self, cores, rgroups):\n",
    "        random.shuffle(cores)\n",
    "        random.shuffle(rgroups)\n",
    "        if self.full_crossover:\n",
    "            inputs = list(itertools.product(cores, rgroups))\n",
    "            inputs = ['.'.join(i) for i in inputs]\n",
    "        else:\n",
    "            inputs = [cores[i]+'.'+rgroups[i] for i in range(min(len(cores), len(rgroups)))]\n",
    "        fused = [fuse_on_atom_mapping(i) for i in inputs]\n",
    "        return fused\n",
    "        \n",
    "    def fragment(self, mol):\n",
    "        fragments = [i[1] for i in fragment_mol(mol, 1)]\n",
    "        return fragments\n",
    "    \n",
    "    def split_fragments(self, fragments):\n",
    "        cores = []\n",
    "        rgroups = []\n",
    "        \n",
    "        for fragment in fragments:\n",
    "            core, rgroup = self.split_fragment(fragment)\n",
    "            cores.append(core)\n",
    "            rgroups.append(rgroup)\n",
    "            \n",
    "        return cores, rgroups\n",
    "    \n",
    "    def split_fragment(self, fragment):\n",
    "        f1, f2 = fragment.split('.')\n",
    "        if len(f1)>len(f2):\n",
    "            core = f1\n",
    "            rgroup = f2\n",
    "        else:\n",
    "            core = f2\n",
    "            rgroup = f1\n",
    "            \n",
    "        return core, rgroup"
   ]
  },
  {
   "cell_type": "code",
   "execution_count": null,
   "metadata": {},
   "outputs": [],
   "source": [
    "df = pd.read_csv('files/smiles.csv')\n",
    "mols = to_mols(df.smiles.values[:10])\n",
    "cx = FragmentCrossover()\n",
    "out = cx(mols)"
   ]
  },
  {
   "cell_type": "code",
   "execution_count": null,
   "metadata": {},
   "outputs": [],
   "source": [
    "# export\n",
    "\n",
    "class Mutator():\n",
    "    def __init__(self, name=None):\n",
    "        if name is None:\n",
    "            name='Mutator'\n",
    "        self.name = name\n",
    "    def __call__(self, mols):\n",
    "        if is_container(mols):\n",
    "            mols = to_mols(mols)\n",
    "            outputs = maybe_parallel(self.mutate, mols)\n",
    "            outputs = flatten_list_of_lists(outputs)\n",
    "        else:\n",
    "            mols = to_mol(mols)\n",
    "            outputs = self.mutate(mols)\n",
    "        \n",
    "        return outputs\n",
    "    \n",
    "    def mutate(self, mol):\n",
    "        raise NotImplementedError\n",
    "        \n",
    "    def __repr__(self):\n",
    "        return self.name"
   ]
  },
  {
   "cell_type": "code",
   "execution_count": null,
   "metadata": {},
   "outputs": [],
   "source": [
    "# export\n",
    "\n",
    "class SmartsMutator(Mutator):\n",
    "    def __init__(self, smarts, name=None):\n",
    "        if name is None:\n",
    "            name = 'Smarts Mutator'\n",
    "        self.name = name\n",
    "        \n",
    "        self.smarts = smarts\n",
    "        self.rxns = [smart_to_rxn(i) for i in self.smarts]\n",
    "        for r in self.rxns:\n",
    "            r.Initialize()\n",
    "            \n",
    "    def __add__(self, other, name=None):\n",
    "        smarts = self.smarts + other.smarts\n",
    "        if name is None:\n",
    "            name = self.name + ' + ' + other.name\n",
    "        \n",
    "        return SmartsMutator(smarts, name=name)\n",
    "    \n",
    "    def mutate(self, mol):\n",
    "        \n",
    "        rxn_idxs = np.random.choice(range(len(self.rxns)), len(self.rxns), replace=False)\n",
    "        products = []\n",
    "        \n",
    "        for idx in rxn_idxs:\n",
    "            if self.rxns[idx].IsMoleculeReactant(mol):\n",
    "                selected_rxn = self.rxns[idx]\n",
    "                try:\n",
    "                    products = [to_smile(i[0]) for i in selected_rxn.RunReactants([mol])]\n",
    "                except:\n",
    "                    pass\n",
    "            if products:\n",
    "                break\n",
    "\n",
    "        return products\n",
    "\n",
    "    def __repr__(self):\n",
    "        r = f'{self.name}: {len(self.smarts)} Reactions'\n",
    "        return r"
   ]
  },
  {
   "cell_type": "code",
   "execution_count": null,
   "metadata": {},
   "outputs": [],
   "source": [
    "# export\n",
    "\n",
    "class ChangeAtom(SmartsMutator):\n",
    "    def __init__(self):\n",
    "        atom_types = ['6', '7', '8', '9', '15', '16', '17', '35']\n",
    "        \n",
    "        smarts = []\n",
    "        for a1 in atom_types:\n",
    "            for a2 in atom_types:\n",
    "                if not a1==a2:\n",
    "                    smart = f'[#{a1}:1]>>[#{a2}:1]'\n",
    "                    smarts.append(smart)\n",
    "        \n",
    "        super().__init__(smarts, name='Change Atom')\n",
    "        \n",
    "class AppendAtomSingle(SmartsMutator):\n",
    "    def __init__(self):\n",
    "        atom_types = ['C', 'N', 'O', 'F', 'P', 'S', 'Cl', 'Br']\n",
    "        smarts = []\n",
    "        for a in atom_types:\n",
    "            smart = f'[*;!H0:1]>>[*:1]-{a}'\n",
    "            smarts.append(smart)\n",
    "        \n",
    "        super().__init__(smarts, name='Append Atom Single Bond')\n",
    "        \n",
    "class AppendAtomsDouble(SmartsMutator):\n",
    "    def __init__(self):\n",
    "        atom_types = ['C', 'N', 'O', 'P', 'S']\n",
    "        smarts = []\n",
    "        for a in atom_types:\n",
    "            smart = f'[*;!H0;!H1:1]>>[*:1]={a}'\n",
    "            smarts.append(smart)\n",
    "        \n",
    "        super().__init__(smarts, name='Append Atom Double Bond')\n",
    "        \n",
    "class AppendAtomsTriple(SmartsMutator):\n",
    "    def __init__(self):\n",
    "        atom_types = ['C', 'N']\n",
    "        smarts = []\n",
    "        for a in atom_types:\n",
    "            smart = f'[*;H3:1]>>[*:1]#{a}'\n",
    "            smarts.append(smart)\n",
    "        \n",
    "        super().__init__(smarts, name='Append Atom Triple Bond')\n",
    "        \n",
    "class AppendAtom(SmartsMutator):\n",
    "    def __init__(self):\n",
    "        smarts = AppendAtomSingle().smarts \n",
    "        smarts += AppendAtomsDouble().smarts\n",
    "        smarts += AppendAtomsTriple().smarts\n",
    "        super().__init__(smarts, name='Append Atom')\n",
    "        \n",
    "class DeleteAtom(SmartsMutator):\n",
    "    def __init__(self):\n",
    "        smarts = [\n",
    "            '[*:1]~[D1]>>[*:1]',\n",
    "            '[*:1]~[D2]~[*:2]>>[*:1]-[*:2]',\n",
    "            '[*:1]~[D3](~[*;!H0:2])~[*:3]>>[*:1]-[*:2]-[*:3]',\n",
    "            '[*:1]~[D4](~[*;!H0:2])(~[*;!H0:3])~[*:4]>>[*:1]-[*:2]-[*:3]-[*:4]',\n",
    "            '[*:1]~[D4](~[*;!H0;!H1:2])(~[*:3])~[*:4]>>[*:1]-[*:2](-[*:3])-[*:4]'\n",
    "        ]\n",
    "        super().__init__(smarts, name='Delete Atom')\n",
    "        \n",
    "class ChangeBond(SmartsMutator):\n",
    "    def __init__(self):\n",
    "        smarts = [\n",
    "            '[*:1]@[*:2]>>([*:1].[*:2])',\n",
    "            '[*:1]!-[*:2]>>[*:1]-[*:2]',\n",
    "            '[*;!H0:1]-[*;!H0:2]>>[*:1]=[*:2]',\n",
    "            '[*:1]#[*:2]>>[*:1]=[*:2]',\n",
    "            '[*;!R;!H1;!H0:1]~[*:2]>>[*:1]#[*:2]',\n",
    "        ]\n",
    "        super().__init__(smarts, name='Change Bond')\n",
    "        \n",
    "class InsertAtomSingle(SmartsMutator):\n",
    "    def __init__(self):\n",
    "        atom_types = ['C', 'N', 'O', 'P', 'S']\n",
    "        smarts = []\n",
    "        for a in atom_types:\n",
    "            smart = f'[*:1]~[*:2]>>[*:1]{a}[*:2]'\n",
    "            smarts.append(smart)\n",
    "        \n",
    "        super().__init__(smarts, name='Insert Atom Single')\n",
    "        \n",
    "class InsertAtomDouble(SmartsMutator):\n",
    "    def __init__(self):\n",
    "        atom_types = ['C', 'N', 'P', 'S']\n",
    "        smarts = []\n",
    "        for a in atom_types:\n",
    "            smart = f'[*;!H0:1]~[*:2]>>[*:1]={a}-[*:2]'\n",
    "            smarts.append(smart)\n",
    "        \n",
    "        super().__init__(smarts, name='Insert Atom Double')\n",
    "        \n",
    "class InsertAtomTriple(SmartsMutator):\n",
    "    def __init__(self):\n",
    "        smarts = ['[*;!R;!H1;!H0:1]~[*:2]>>[*:1]#C-[*:2]']\n",
    "        super().__init__(smarts, name='Insert Atom Triple')\n",
    "        \n",
    "class InsertAtom(SmartsMutator):\n",
    "    def __init__(self):\n",
    "        smarts = InsertAtomSingle().smarts \n",
    "        smarts += InsertAtomDouble().smarts\n",
    "        smarts += InsertAtomTriple().smarts\n",
    "        super().__init__(smarts, name='Insert Atom')\n",
    "        \n",
    "class AddRing(SmartsMutator):\n",
    "    def __init__(self):\n",
    "        smarts = [\n",
    "        '[*;!r;!H0:1]~[*;!r:2]~[*;!r;!H0:3]>>[*:1]1~[*:2]~[*:3]1',\n",
    "        '[*;!r;!H0:1]~[*!r:2]~[*!r:3]~[*;!r;!H0:4]>>[*:1]1~[*:2]~[*:3]~[*:4]1',\n",
    "        '[*;!r;!H0:1]~[*!r:2]~[*:3]~[*:4]~[*;!r;!H0:5]>>[*:1]1~[*:2]~[*:3]~[*:4]~[*:5]1',\n",
    "        '[*;!r;!H0:1]~[*!r:2]~[*:3]~[*:4]~[*!r:5]~[*;!r;!H0:6]>>[*:1]1~[*:2]~[*:3]~[*:4]~[*:5]~[*:6]1',\n",
    "        ]\n",
    "        super().__init__(smarts, name='Change Bond')\n",
    "        \n",
    "class AllSmarts(SmartsMutator):\n",
    "    def __init__(self):\n",
    "        smarts = ChangeAtom().smarts\n",
    "        smarts += AppendAtom().smarts\n",
    "        smarts += DeleteAtom().smarts\n",
    "        smarts += ChangeBond().smarts\n",
    "        smarts += InsertAtom().smarts\n",
    "        smarts += AddRing().smarts\n",
    "        \n",
    "        super().__init__(smarts, name='Smarts Mutator')\n",
    "        "
   ]
  },
  {
   "cell_type": "code",
   "execution_count": null,
   "metadata": {},
   "outputs": [],
   "source": [
    "# export\n",
    "\n",
    "class MutatorCollection():\n",
    "    def __init__(self, mutators, p_mutators=None):\n",
    "        self.mutators = mutators\n",
    "        if p_mutators is None:\n",
    "            p_mutators = [1/len(mutators) for i in mutators]\n",
    "            \n",
    "        self.p_mutators = p_mutators\n",
    "        \n",
    "    def __call__(self, mols):\n",
    "        mutated = flatten_list_of_lists(maybe_parallel(self.mutate, mols))\n",
    "        return mutated\n",
    "        \n",
    "    def mutate(self, mol):\n",
    "        if self.mutators is not None:\n",
    "            m = np.random.choice(self.mutators, 1, p=self.p_mutators)[0]\n",
    "            outputs = m(mol)\n",
    "        else:\n",
    "            outputs = []\n",
    "            \n",
    "        return outputs"
   ]
  },
  {
   "cell_type": "code",
   "execution_count": null,
   "metadata": {},
   "outputs": [],
   "source": [
    "# export\n",
    "\n",
    "class CombiChem():\n",
    "    def __init__(self, \n",
    "                 mutator_collection=None, \n",
    "                 crossovers=None,\n",
    "                 template=None,\n",
    "                 rewards=None,\n",
    "                 prune_percentile=90,\n",
    "                 max_library_size=None,\n",
    "                 log=False\n",
    "                ):\n",
    "        \n",
    "        self.mutator_collection = mutator_collection\n",
    "        \n",
    "        self.crossovers = crossovers\n",
    "        \n",
    "        self.template = template\n",
    "        \n",
    "        self.rewards = rewards\n",
    "        \n",
    "        self.prune_percentile = prune_percentile\n",
    "        self.max_library_size = max_library_size\n",
    "        \n",
    "        self.library = pd.DataFrame([], columns=['smiles', 'mols', 'score'])\n",
    "        self.old_library = pd.DataFrame([], columns=['smiles', 'score'])\n",
    "        self.log = log\n",
    "        \n",
    "    def step(self):\n",
    "        new_library = self.build_generation()\n",
    "        new_library = self.clean_library(new_library)\n",
    "        self.append_data(new_library)\n",
    "        self.score_library()\n",
    "        self.prune_library()\n",
    "        \n",
    "    def build_generation(self):\n",
    "        mols = self.library.mols.values\n",
    "        mutated = self.mutate(mols)        \n",
    "        crossovers = self.crossover(mols)\n",
    "        new_library = list(set(mutated+crossovers))\n",
    "        return new_library\n",
    "    \n",
    "    def clean_library(self, library):\n",
    "        if self.template is not None:\n",
    "            library, _ = template.screen_mols(library)\n",
    "            library = [i[0] for i in library]\n",
    "        library = maybe_parallel(canon_smile, library)\n",
    "        library = list(set(library))\n",
    "        return library\n",
    "        \n",
    "    def mutate(self, mols):\n",
    "        if self.mutator_collection is not None:\n",
    "            outputs = self.mutator_collection(mols)\n",
    "        else:\n",
    "            outputs = []\n",
    "            \n",
    "        return outputs\n",
    "    \n",
    "    def crossover(self, mols):\n",
    "        outputs = []\n",
    "        if self.crossovers is not None:\n",
    "            for cx in self.crossovers:\n",
    "                outputs += cx(mols)\n",
    "        return outputs\n",
    "    \n",
    "    def score_library(self):\n",
    "        to_score = self.library[cbc.library.score.isna()]\n",
    "        rewards = np.zeros(to_score.shape[0])\n",
    "        \n",
    "        if self.rewards is not None:\n",
    "            rewards = np.zeros(to_score.shape[0])\n",
    "            for reward in self.rewards:\n",
    "                r_iter = reward(to_score.smiles.values)\n",
    "                if isinstance(r_iter, torch.Tensor):\n",
    "                    r_iter = r_iter.detach().cpu()\n",
    "                rewards = rewards + np.array(r_iter)\n",
    "                \n",
    "        if self.template is not None:\n",
    "            rewards += np.array(self.template(to_score.smiles.values, 'soft'))\n",
    "                \n",
    "        self.library.loc[to_score.index, 'score'] = rewards\n",
    "        \n",
    "        self.library['score'] = self.library.score.map(lambda x: float(x))\n",
    "            \n",
    "    def prune_library(self):\n",
    "        cutoff = np.percentile(self.library.score.values, self.prune_percentile)\n",
    "        \n",
    "        n_cutoff = self.library[self.library.score >= cutoff].shape[0]\n",
    "        \n",
    "        if self.max_library_size is not None:\n",
    "            n_cutoff = min(n_cutoff, self.max_library_size)\n",
    "        \n",
    "        idxs = self.library.score.nlargest(n_cutoff).index\n",
    "        \n",
    "        new_library = self.library.iloc[idxs]\n",
    "        \n",
    "        if self.log:\n",
    "            old_library = self.library[~self.library.index.isin(new_library.index)]\n",
    "            self.old_library = pd.concat([self.old_library, \n",
    "                                          old_library[['smiles', 'score']]])\n",
    "            self.old_library.drop_duplicates(subset='smiles', inplace=True)\n",
    "            self.old_library.reset_index(inplace=True, drop=True)\n",
    "            \n",
    "        self.library = new_library\n",
    "\n",
    "        self.library.reset_index(inplace=True, drop=True)\n",
    "        gc.collect()\n",
    "        \n",
    "    def add_data(self, smiles):\n",
    "        smiles = to_smiles(smiles)\n",
    "        smiles = self.clean_library(smiles)\n",
    "        self.append_data(smiles)\n",
    "        \n",
    "    def append_data(self, smiles):\n",
    "        mols = to_mols(smiles)\n",
    "        bad_idxs = set([i for i in range(len(mols)) if mols[i] is None])\n",
    "        smiles = [smiles[i] for i in range(len(smiles)) if not i in bad_idxs]\n",
    "        mols = [mols[i] for i in range(len(mols)) if not i in bad_idxs]\n",
    "        \n",
    "        df = pd.DataFrame([[smiles[i], mols[i], None] for i in range(len(smiles))], \n",
    "                          columns=['smiles', 'mols', 'score'])\n",
    "        df = df[~df.smiles.isin(self.library.smiles)]\n",
    "        self.library = pd.concat([self.library, df])\n",
    "        self.library.reset_index(inplace=True, drop=True)\n",
    "        self.score_library()"
   ]
  },
  {
   "cell_type": "code",
   "execution_count": null,
   "metadata": {},
   "outputs": [],
   "source": []
  },
  {
   "cell_type": "code",
   "execution_count": null,
   "metadata": {},
   "outputs": [],
   "source": [
    "from mrl.templates.all import *"
   ]
  },
  {
   "cell_type": "code",
   "execution_count": null,
   "metadata": {},
   "outputs": [],
   "source": [
    "from mrl.train.all import *\n",
    "from mrl.torch_imports import *\n",
    "from mrl.torch_core import *\n",
    "from mrl.layers import *\n",
    "from mrl.dataloaders import *\n",
    "from mrl.model_zoo import *"
   ]
  },
  {
   "cell_type": "code",
   "execution_count": null,
   "metadata": {},
   "outputs": [],
   "source": [
    "reward_model = MLP(2048, [1024, 512, 256, 128], 1, [0.2, 0.2, 0.2, 0.2], outrange=[0,15])\n",
    "\n",
    "r_ds = Vec_Prediction_Dataset(['C'], [0], partial(failsafe_fp, fp_function=ECFP6))\n",
    "\n",
    "r_agent = PredictiveAgent(reward_model, MSELoss(), r_ds, opt_kwargs={'lr':1e-3})\n",
    "\n",
    "r_agent.load_state_dict(model_from_url('egfr_affinity_mlp.pt'))\n",
    "\n",
    "r_agent.model.eval();\n",
    "\n",
    "freeze(r_agent.model)\n",
    "\n",
    "reward = Reward(r_agent.predict_data, weight=1.)\n",
    "\n",
    "aff_reward = RewardCallback(reward, 'affinity')"
   ]
  },
  {
   "cell_type": "code",
   "execution_count": null,
   "metadata": {},
   "outputs": [],
   "source": [
    "smarts = ['[#6](=[#16])(-[#7])-[#7]',\n",
    "        '[#6]=[#6]=[#6]',\n",
    "        '[#7][F,Cl,Br,I]',\n",
    "        '[#6;!R]=[#6;!R]-[#6;!R]=[#6;!R]',\n",
    "        '[#6]#[#6]',\n",
    "        '[#15]',\n",
    "        '[*]=[#17,#9,#35]',\n",
    "        '[*]=[*]=[*]',\n",
    "        '[*]-[#6]=[#6H2]',\n",
    "        '[#7]~[#8]']\n",
    "\n",
    "template = Template([ValidityFilter(), \n",
    "                     SingleCompoundFilter(), \n",
    "                     RotBondFilter(None, 8),\n",
    "                     HeteroatomFilter(None, 8),\n",
    "                     ChargeFilter(None, 0),\n",
    "                     MaxRingFilter(None, 6),\n",
    "                     MinRingFilter(5, None),\n",
    "                     HBDFilter(None, 5),\n",
    "                     HBAFilter(None, 10),\n",
    "                     MolWtFilter(None, 500),\n",
    "                     LogPFilter(None, 5),\n",
    "                     SAFilter(None, 7),\n",
    "                     BridgeheadFilter(None,0),\n",
    "                     PAINSAFilter(),\n",
    "                     ExclusionFilter(smarts, criteria='any'),\n",
    "                     RotChainFilter(None, 7)\n",
    "                    ],\n",
    "                    [], \n",
    "                    fail_score=-1., log=False, use_lookup=False)"
   ]
  },
  {
   "cell_type": "code",
   "execution_count": null,
   "metadata": {},
   "outputs": [],
   "source": [
    "mutators = [\n",
    "    ChangeAtom(),\n",
    "    AppendAtom(),\n",
    "    DeleteAtom(),\n",
    "    ChangeBond(),\n",
    "    InsertAtom(),\n",
    "    AddRing()\n",
    "]\n",
    "\n",
    "mc = MutatorCollection(mutators)\n",
    "\n",
    "crossovers = [FragmentCrossover()]"
   ]
  },
  {
   "cell_type": "code",
   "execution_count": null,
   "metadata": {},
   "outputs": [],
   "source": [
    "cbc = CombiChem(mc, crossovers, template=template, rewards=[reward],\n",
    "                prune_percentile=70, max_library_size=500, log=True)"
   ]
  },
  {
   "cell_type": "code",
   "execution_count": null,
   "metadata": {},
   "outputs": [],
   "source": [
    "set_global_pool(48)"
   ]
  },
  {
   "cell_type": "code",
   "execution_count": null,
   "metadata": {},
   "outputs": [],
   "source": [
    "agent = LSTM_LM_Small_Chembl_NC(drop_scale=0.3)"
   ]
  },
  {
   "cell_type": "code",
   "execution_count": null,
   "metadata": {},
   "outputs": [],
   "source": [
    "def step(cbc, agent):\n",
    "    new_library = cbc.build_generation()\n",
    "    new_library = cbc.clean_library(new_library)\n",
    "    cbc.append_data(new_library)\n",
    "    preds, _ = agent.model.sample_no_grad(2048, 90)\n",
    "    smiles = agent.reconstruct(preds)\n",
    "    cbc.append_data(smiles)\n",
    "    cbc.score_library()\n",
    "    cbc.prune_library()"
   ]
  },
  {
   "cell_type": "code",
   "execution_count": null,
   "metadata": {},
   "outputs": [],
   "source": [
    "def train_from_cbc(cbc, agent, ds_size):\n",
    "    df = pd.concat([cbc.library, cbc.old_library])\n",
    "    subset = df.iloc[df.score.nlargest(ds_size).index]\n",
    "    agent.update_dataset_from_inputs(subset.smiles.values)\n",
    "    agent.train_supervised(128, 3, 5e-5, silent=True)"
   ]
  },
  {
   "cell_type": "code",
   "execution_count": null,
   "metadata": {},
   "outputs": [],
   "source": []
  },
  {
   "cell_type": "code",
   "execution_count": null,
   "metadata": {},
   "outputs": [
    {
     "name": "stdout",
     "output_type": "stream",
     "text": [
      "8.270787015914918\n",
      "9.153139823913575\n",
      "9.46225617980957\n",
      "9.620791761398316\n",
      "9.732638216018676\n"
     ]
    }
   ],
   "source": [
    "for i in range(5):\n",
    "    for j in range(5):\n",
    "        step(cbc, agent)\n",
    "        \n",
    "    train_from_cbc(cbc, agent, 6000)\n",
    "    print(cbc.library.score.mean())"
   ]
  },
  {
   "cell_type": "code",
   "execution_count": null,
   "metadata": {},
   "outputs": [
    {
     "name": "stdout",
     "output_type": "stream",
     "text": [
      "9.847356351852417\n",
      "9.928730424880982\n",
      "9.993160078048707\n",
      "10.082637662887572\n",
      "10.189349199295044\n"
     ]
    }
   ],
   "source": [
    "for i in range(5):\n",
    "    for j in range(5):\n",
    "        step(cbc, agent)\n",
    "        \n",
    "    train_from_cbc(cbc, agent, 6000)\n",
    "    print(cbc.library.score.mean())"
   ]
  },
  {
   "cell_type": "code",
   "execution_count": null,
   "metadata": {},
   "outputs": [
    {
     "name": "stdout",
     "output_type": "stream",
     "text": [
      "10.234909856796264\n",
      "10.272576015472412\n",
      "10.29716921043396\n",
      "10.318373449325561\n",
      "10.33975492286682\n"
     ]
    }
   ],
   "source": [
    "for i in range(5):\n",
    "    for j in range(5):\n",
    "        step(cbc, agent)\n",
    "        \n",
    "    train_from_cbc(cbc, agent, 6000)\n",
    "    print(cbc.library.score.mean())"
   ]
  },
  {
   "cell_type": "code",
   "execution_count": null,
   "metadata": {},
   "outputs": [],
   "source": []
  },
  {
   "cell_type": "code",
   "execution_count": null,
   "metadata": {},
   "outputs": [
    {
     "data": {
      "text/html": [
       "<div>\n",
       "<style scoped>\n",
       "    .dataframe tbody tr th:only-of-type {\n",
       "        vertical-align: middle;\n",
       "    }\n",
       "\n",
       "    .dataframe tbody tr th {\n",
       "        vertical-align: top;\n",
       "    }\n",
       "\n",
       "    .dataframe thead th {\n",
       "        text-align: right;\n",
       "    }\n",
       "</style>\n",
       "<table border=\"1\" class=\"dataframe\">\n",
       "  <thead>\n",
       "    <tr style=\"text-align: right;\">\n",
       "      <th></th>\n",
       "      <th>smiles</th>\n",
       "      <th>mols</th>\n",
       "      <th>score</th>\n",
       "    </tr>\n",
       "  </thead>\n",
       "  <tbody>\n",
       "    <tr>\n",
       "      <th>0</th>\n",
       "      <td>CNC=CCC(CCC(N)=C(N)CC1=CC=CC1O)Cc1cc2ncnc(Cc3c...</td>\n",
       "      <td>&lt;rdkit.Chem.rdchem.Mol object at 0x7f7b06fd23b0&gt;</td>\n",
       "      <td>10.705677</td>\n",
       "    </tr>\n",
       "    <tr>\n",
       "      <th>1</th>\n",
       "      <td>NC(=Cc1cc2ncnc(Cc3ccc4cncnc4c3)c2cc1C(O)C1=CC=...</td>\n",
       "      <td>&lt;rdkit.Chem.rdchem.Mol object at 0x7f7b01d5e5f0&gt;</td>\n",
       "      <td>10.674267</td>\n",
       "    </tr>\n",
       "    <tr>\n",
       "      <th>2</th>\n",
       "      <td>CNC(Cc1cc2ncnc(Cc3ccc4cncnc4c3)c2cc1C(O)C1=CC=...</td>\n",
       "      <td>&lt;rdkit.Chem.rdchem.Mol object at 0x7f7a5858bcb0&gt;</td>\n",
       "      <td>10.649235</td>\n",
       "    </tr>\n",
       "    <tr>\n",
       "      <th>3</th>\n",
       "      <td>CC(N)=C(C=NC1=Nc2cc3c(Cc4ccc5cncnc5c4)ncnc3cc2...</td>\n",
       "      <td>&lt;rdkit.Chem.rdchem.Mol object at 0x7f7b03ab8730&gt;</td>\n",
       "      <td>10.615961</td>\n",
       "    </tr>\n",
       "    <tr>\n",
       "      <th>4</th>\n",
       "      <td>NC(=CC(=O)CC1Cc2cc3ncnc(Cc4ccc5cncnc5c4)c3cc2C...</td>\n",
       "      <td>&lt;rdkit.Chem.rdchem.Mol object at 0x7f7b0c5e9ab0&gt;</td>\n",
       "      <td>10.608579</td>\n",
       "    </tr>\n",
       "  </tbody>\n",
       "</table>\n",
       "</div>"
      ],
      "text/plain": [
       "                                              smiles  \\\n",
       "0  CNC=CCC(CCC(N)=C(N)CC1=CC=CC1O)Cc1cc2ncnc(Cc3c...   \n",
       "1  NC(=Cc1cc2ncnc(Cc3ccc4cncnc4c3)c2cc1C(O)C1=CC=...   \n",
       "2  CNC(Cc1cc2ncnc(Cc3ccc4cncnc4c3)c2cc1C(O)C1=CC=...   \n",
       "3  CC(N)=C(C=NC1=Nc2cc3c(Cc4ccc5cncnc5c4)ncnc3cc2...   \n",
       "4  NC(=CC(=O)CC1Cc2cc3ncnc(Cc4ccc5cncnc5c4)c3cc2C...   \n",
       "\n",
       "                                               mols      score  \n",
       "0  <rdkit.Chem.rdchem.Mol object at 0x7f7b06fd23b0>  10.705677  \n",
       "1  <rdkit.Chem.rdchem.Mol object at 0x7f7b01d5e5f0>  10.674267  \n",
       "2  <rdkit.Chem.rdchem.Mol object at 0x7f7a5858bcb0>  10.649235  \n",
       "3  <rdkit.Chem.rdchem.Mol object at 0x7f7b03ab8730>  10.615961  \n",
       "4  <rdkit.Chem.rdchem.Mol object at 0x7f7b0c5e9ab0>  10.608579  "
      ]
     },
     "execution_count": null,
     "metadata": {},
     "output_type": "execute_result"
    }
   ],
   "source": [
    "cbc.library[cbc.library.score>10.6]"
   ]
  },
  {
   "cell_type": "code",
   "execution_count": null,
   "metadata": {},
   "outputs": [],
   "source": []
  },
  {
   "cell_type": "code",
   "execution_count": null,
   "metadata": {},
   "outputs": [
    {
     "data": {
      "image/png": "[encoded data removed]",
      "text/plain": [
       "<IPython.core.display.Image object>"
      ]
     },
     "execution_count": null,
     "metadata": {},
     "output_type": "execute_result"
    }
   ],
   "source": [
    "draw_mols(to_mols(cbc.library[cbc.library.score>10.6].smiles.values))"
   ]
  },
  {
   "cell_type": "code",
   "execution_count": null,
   "metadata": {},
   "outputs": [],
   "source": []
  },
  {
   "cell_type": "code",
   "execution_count": null,
   "metadata": {},
   "outputs": [],
   "source": []
  },
  {
   "cell_type": "code",
   "execution_count": null,
   "metadata": {},
   "outputs": [],
   "source": []
  },
  {
   "cell_type": "code",
   "execution_count": null,
   "metadata": {},
   "outputs": [],
   "source": [
    "mutators = [\n",
    "    ChangeAtom(),\n",
    "    AppendAtom(),\n",
    "    DeleteAtom(),\n",
    "    ChangeBond(),\n",
    "    InsertAtom(),\n",
    "    AddRing()\n",
    "]\n",
    "\n",
    "crossovers = [FragmentCrossover()]\n",
    "\n",
    "def scale_sa(sa):\n",
    "    return (10-sa)/9\n",
    "\n",
    "def scale_logp(logp):\n",
    "    logp = logp/5\n",
    "    logp = min(max(logp,0),1)\n",
    "    return logp\n",
    "\n",
    "def scale_qed(qed):\n",
    "    return 2*qed\n",
    "\n",
    "template = Template([ValidityFilter(), \n",
    "                     SingleCompoundFilter(), \n",
    "                     MolWtFilter(None, 500),\n",
    "                     HBDFilter(None, 5),\n",
    "                     HBAFilter(None, 10),\n",
    "                     LogPFilter(None, 5)\n",
    "                     ],\n",
    "                    [QEDFilter(None, None, score=PropertyFunctionScore(scale_qed)),\n",
    "                     SAFilter(None, None, score=PropertyFunctionScore(scale_sa)),\n",
    "                     LogPFilter(None, None, score=PropertyFunctionScore(scale_logp))], \n",
    "                    fail_score=-1., log=False)"
   ]
  },
  {
   "cell_type": "code",
   "execution_count": null,
   "metadata": {},
   "outputs": [],
   "source": []
  },
  {
   "cell_type": "code",
   "execution_count": null,
   "metadata": {},
   "outputs": [],
   "source": [
    "cbc = CombiChem(mutators, crossovers, template=template, \n",
    "                prune_percentile=70, max_library_size=500)"
   ]
  },
  {
   "cell_type": "code",
   "execution_count": null,
   "metadata": {},
   "outputs": [],
   "source": [
    "cbc.add_data(list(df.smiles.values[:100]))"
   ]
  },
  {
   "cell_type": "code",
   "execution_count": null,
   "metadata": {},
   "outputs": [],
   "source": [
    "# set_global_pool(32)"
   ]
  },
  {
   "cell_type": "code",
   "execution_count": null,
   "metadata": {},
   "outputs": [],
   "source": []
  },
  {
   "cell_type": "code",
   "execution_count": null,
   "metadata": {},
   "outputs": [
    {
     "name": "stdout",
     "output_type": "stream",
     "text": [
      "3.067220218999019 500\n",
      "3.4245730845372173 500\n",
      "3.5466574821991363 500\n",
      "3.5894441371439525 500\n",
      "3.6129119501563527 500\n"
     ]
    }
   ],
   "source": [
    "for i in range(5):\n",
    "    cbc.step()\n",
    "    print(cbc.library.score.mean(), cbc.library.shape[0])"
   ]
  },
  {
   "cell_type": "code",
   "execution_count": null,
   "metadata": {},
   "outputs": [
    {
     "name": "stdout",
     "output_type": "stream",
     "text": [
      "3.6285618723751476 500\n",
      "3.634952781824757 500\n",
      "3.6457140714814926 500\n",
      "3.6469476987038716 500\n",
      "3.6491692368510082 500\n"
     ]
    }
   ],
   "source": [
    "for i in range(5):\n",
    "    cbc.step()\n",
    "    print(cbc.library.score.mean(), cbc.library.shape[0])"
   ]
  },
  {
   "cell_type": "code",
   "execution_count": null,
   "metadata": {},
   "outputs": [],
   "source": []
  },
  {
   "cell_type": "markdown",
   "metadata": {},
   "source": [
    "Other mutators\n",
    "\n",
    "Ring heteroatom shuffle\n",
    "\n",
    "random addition of predefined group\n",
    "\n",
    "add ketone/carboxyl\n",
    "\n",
    "ring aromatize/dearomatize\n",
    "\n",
    "delete atom in ring and fuse\n",
    "\n",
    "selfies crossover/mutation"
   ]
  }
 ],
 "metadata": {
  "kernelspec": {
   "display_name": "mrl",
   "language": "python",
   "name": "mrl"
  }
 },
 "nbformat": 4,
 "nbformat_minor": 4
}
