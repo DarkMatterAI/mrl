{
 "cells": [
  {
   "cell_type": "code",
   "execution_count": null,
   "metadata": {},
   "outputs": [],
   "source": [
    "#hide\n",
    "#skip\n",
    "! [ -e /content ] && pip install -Uqq mrl-pypi  # upgrade mrl on colab"
   ]
  },
  {
   "cell_type": "code",
   "execution_count": null,
   "metadata": {},
   "outputs": [],
   "source": [
    "# default_exp combichem"
   ]
  },
  {
   "cell_type": "markdown",
   "metadata": {},
   "source": [
    "# Combichem\n",
    "\n",
    "> Combinatorial chemistry functions"
   ]
  },
  {
   "cell_type": "code",
   "execution_count": null,
   "metadata": {},
   "outputs": [],
   "source": [
    "#hide\n",
    "from nbdev.showdoc import *\n",
    "%load_ext autoreload\n",
    "%autoreload 2"
   ]
  },
  {
   "cell_type": "code",
   "execution_count": null,
   "metadata": {},
   "outputs": [
    {
     "name": "stderr",
     "output_type": "stream",
     "text": [
      "/home/dmai/miniconda3/envs/mrl/lib/python3.7/importlib/_bootstrap.py:219: RuntimeWarning: to-Python converter for boost::shared_ptr<RDKit::FilterCatalogEntry const> already registered; second conversion method ignored.\n",
      "  return f(*args, **kwds)\n"
     ]
    }
   ],
   "source": [
    "# export\n",
    "\n",
    "from mrl.imports import *\n",
    "from mrl.core import *\n",
    "from mrl.chem import *"
   ]
  },
  {
   "cell_type": "code",
   "execution_count": null,
   "metadata": {},
   "outputs": [],
   "source": [
    "# export\n",
    "\n",
    "class Crossover():\n",
    "    def __call__(self, mols):\n",
    "        mols = to_mols(mols)\n",
    "        shuffle_idxs = np.random.choice(range(len(mols)), len(mols), replace=False)\n",
    "        pairs = [(mols[i], mols[shuffle_idxs[i]]) for i in range(len(mols))]\n",
    "        outputs = maybe_parallel(self.crossover, pairs)\n",
    "        return flatten_list_of_lists(outputs)\n",
    "    \n",
    "    def crossover(self, mol_pair):\n",
    "        raise NotImplementedError"
   ]
  },
  {
   "cell_type": "code",
   "execution_count": null,
   "metadata": {},
   "outputs": [],
   "source": [
    "# export\n",
    "\n",
    "class FragmentCrossover(Crossover):\n",
    "    def __init__(self, full_crossover=False):\n",
    "        self.full_crossover = full_crossover\n",
    "        \n",
    "    def crossover(self, mol_pair):\n",
    "        mol1, mol2 = mol_pair\n",
    "        cores1, rgroups1 = self.split_fragments(self.fragment(to_mol(mol1)))\n",
    "        cores2, rgroups2 = self.split_fragments(self.fragment(to_mol(mol2)))\n",
    "        \n",
    "        outputs = self.merge_groups(cores1, rgroups2)\n",
    "        outputs += self.merge_groups(cores2, rgroups1)\n",
    "        return outputs\n",
    "        \n",
    "    def merge_groups(self, cores, rgroups):\n",
    "        random.shuffle(cores)\n",
    "        random.shuffle(rgroups)\n",
    "        if self.full_crossover:\n",
    "            inputs = list(itertools.product(cores, rgroups))\n",
    "            inputs = ['.'.join(i) for i in inputs]\n",
    "        else:\n",
    "            inputs = [cores[i]+'.'+rgroups[i] for i in range(min(len(cores), len(rgroups)))]\n",
    "        fused = [fuse_on_atom_mapping(i) for i in inputs]\n",
    "        return fused\n",
    "        \n",
    "    def fragment(self, mol):\n",
    "        fragments = [i[1] for i in fragment_mol(mol, 1)]\n",
    "        return fragments\n",
    "    \n",
    "    def split_fragments(self, fragments):\n",
    "        cores = []\n",
    "        rgroups = []\n",
    "        \n",
    "        for fragment in fragments:\n",
    "            core, rgroup = self.split_fragment(fragment)\n",
    "            cores.append(core)\n",
    "            rgroups.append(rgroup)\n",
    "            \n",
    "        return cores, rgroups\n",
    "    \n",
    "    def split_fragment(self, fragment):\n",
    "        f1, f2 = fragment.split('.')\n",
    "        if len(f1)>len(f2):\n",
    "            core = f1\n",
    "            rgroup = f2\n",
    "        else:\n",
    "            core = f2\n",
    "            rgroup = f1\n",
    "            \n",
    "        return core, rgroup"
   ]
  },
  {
   "cell_type": "code",
   "execution_count": null,
   "metadata": {},
   "outputs": [],
   "source": [
    "df = pd.read_csv('files/smiles.csv')\n",
    "mols = to_mols(df.smiles.values[:10])\n",
    "cx = FragmentCrossover()\n",
    "out = cx(mols)"
   ]
  },
  {
   "cell_type": "code",
   "execution_count": null,
   "metadata": {},
   "outputs": [],
   "source": []
  },
  {
   "cell_type": "code",
   "execution_count": null,
   "metadata": {},
   "outputs": [],
   "source": []
  },
  {
   "cell_type": "code",
   "execution_count": null,
   "metadata": {},
   "outputs": [],
   "source": []
  },
  {
   "cell_type": "code",
   "execution_count": null,
   "metadata": {},
   "outputs": [],
   "source": []
  },
  {
   "cell_type": "code",
   "execution_count": null,
   "metadata": {},
   "outputs": [],
   "source": []
  }
 ],
 "metadata": {
  "kernelspec": {
   "display_name": "mrl",
   "language": "python",
   "name": "mrl"
  }
 },
 "nbformat": 4,
 "nbformat_minor": 4
}
