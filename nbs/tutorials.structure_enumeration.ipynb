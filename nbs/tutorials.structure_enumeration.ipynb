{
 "cells": [
  {
   "cell_type": "code",
   "execution_count": null,
   "metadata": {},
   "outputs": [],
   "source": [
    "# hide\n",
    "# all_tutorial"
   ]
  },
  {
   "cell_type": "markdown",
   "metadata": {},
   "source": [
    "# Tutorial - Structure Enumeration\n",
    "\n",
    "> Overview of how to use the `StructureEnumerator` class"
   ]
  },
  {
   "cell_type": "markdown",
   "metadata": {},
   "source": [
    "## Overview\n",
    "\n",
    "Structure enumeration is a useful way to explore constrained chemical spaces. You might want to try swapping a ring in a molecule with every possible 6 member ring, or try every linker with four atoms or less.\n",
    "\n",
    "The `StructureEnumerator` class provides a principled way of enumerating constrained chemical spaces. The jist of it is this. We create a SMARTs template outlining the general structure we want to enumerate. Then, for every atom and bond we want to vary, we define a list of allowed substitutions. The `StructureEnumerator` then generates all combinations based on these specifications and filters them for chemical validity."
   ]
  },
  {
   "cell_type": "code",
   "execution_count": null,
   "metadata": {},
   "outputs": [
    {
     "name": "stderr",
     "output_type": "stream",
     "text": [
      "//anaconda3/envs/insight/lib/python3.6/importlib/_bootstrap.py:219: RuntimeWarning: to-Python converter for boost::shared_ptr<RDKit::FilterCatalogEntry const> already registered; second conversion method ignored.\n",
      "  return f(*args, **kwds)\n"
     ]
    }
   ],
   "source": [
    "from mrl.imports import *\n",
    "from mrl.core import *\n",
    "from mrl.chem import *\n",
    "from rdkit import Chem"
   ]
  },
  {
   "cell_type": "markdown",
   "metadata": {},
   "source": [
    "## Basic Example\n",
    "\n",
    "Lets say we want to generate all variants of a 5 or 6 membered ring with 3 attachment points and at most 3 heteroatoms.\n",
    "\n",
    "First we start with the base smiles string for a 6-membered ring. \n",
    "\n",
    "`C1CCCCC1`\n",
    "\n",
    "We convert this to a smarts string\n",
    "\n",
    "`'[#6]1-[#6]-[#6]-[#6]-[#6]-[#6]-1'`\n",
    "\n",
    "The `StructureEnumerator` relies on atom mapping to avoid worrying about atom order. We add a mapping number to every atom in the smarts\n",
    "\n",
    "`'[#6:1]1-[#6:2]-[#6:3]-[#6:4]-[#6:5]-1'`\n",
    "\n",
    "This process can be automated with the `add_map_nums` function:"
   ]
  },
  {
   "cell_type": "code",
   "execution_count": null,
   "metadata": {},
   "outputs": [
    {
     "data": {
      "text/plain": [
       "'[#6:1]1-[#6:2]-[#6:3]-[#6:4]-[#6:5]-[#6:6]-1'"
      ]
     },
     "execution_count": null,
     "metadata": {},
     "output_type": "execute_result"
    }
   ],
   "source": [
    "mol = to_mol('C1CCCCC1')    \n",
    "smart = to_smart(add_map_nums(mol))\n",
    "smart"
   ]
  },
  {
   "cell_type": "markdown",
   "metadata": {},
   "source": [
    "Now we define the specifications for enumerating atoms and bonds.\n",
    "\n",
    "Atom specifications are defined in a dictionary of the form `map_num : [possible_atoms]`. So `atom_spec = {2 : ['C', 'N', 'O']}` would denote enumerating carbon, nitrogen and oxygen at the atom defined by map number 1.\n",
    "\n",
    "Bond specifications are defined in a dictionary of the form `(start_map_num, end_map_num) : [possible_bond_types]`. So `bond_spec = {(1,2) : ['single', 'double']}`  would denote enumerating single and double bonds at the bond between the atom with map number 1 and the atom with map number 2. The code checks both `(start_map_num, end_map_num)` and `(end_map_num, start_map_num)` so the index order doesn't matter.\n",
    "\n",
    "Any atoms or bonds not included in `atom_spec` or `bond_spec` are left as-is based on the smarts definition. Note that the end state for generated compounds is SMILES strings, so atoms or bonds left unchanged should be SMILES compatible.\n",
    "\n",
    "To make things easy, the `generate_spec_template` function creates a bank `atom_spec` and `bond_spec` from a given `mol`, along with the matching mapped smarts string."
   ]
  },
  {
   "cell_type": "code",
   "execution_count": null,
   "metadata": {},
   "outputs": [
    {
     "name": "stdout",
     "output_type": "stream",
     "text": [
      "{1: [], 2: [], 3: [], 4: [], 5: [], 6: []}\n",
      "{(1, 2): [], (2, 3): [], (3, 4): [], (4, 5): [], (5, 6): [], (6, 1): []}\n",
      "[#6:1]1-[#6:2]-[#6:3]-[#6:4]-[#6:5]-[#6:6]-1\n"
     ]
    }
   ],
   "source": [
    "atom_spec, bond_spec, smarts = generate_spec_template(mol)\n",
    "print(atom_spec)\n",
    "print(bond_spec)\n",
    "print(smarts)"
   ]
  },
  {
   "cell_type": "markdown",
   "metadata": {},
   "source": [
    "For this task, we want to enumerate `['C', 'N', 'O']` at all atom positions and `['aromatic','single','double']` at all bond positions. That gives us the following:"
   ]
  },
  {
   "cell_type": "code",
   "execution_count": null,
   "metadata": {},
   "outputs": [
    {
     "name": "stdout",
     "output_type": "stream",
     "text": [
      "{1: ['C', 'N', 'O'], 2: ['C', 'N', 'O'], 3: ['C', 'N', 'O'], 4: ['C', 'N', 'O'], 5: ['C', 'N', 'O'], 6: ['C', 'N', 'O']}\n",
      "{(1, 2): ['aromatic', 'single', 'double'], (2, 3): ['aromatic', 'single', 'double'], (3, 4): ['aromatic', 'single', 'double'], (4, 5): ['aromatic', 'single', 'double'], (5, 6): ['aromatic', 'single', 'double'], (6, 1): ['aromatic', 'single', 'double']}\n"
     ]
    }
   ],
   "source": [
    "for key in atom_spec.keys():\n",
    "    atom_spec[key] = ['C','N','O']\n",
    "    \n",
    "for key in bond_spec.keys():\n",
    "    bond_spec[key] = ['aromatic','single','double']\n",
    "\n",
    "print(atom_spec)\n",
    "print(bond_spec)"
   ]
  },
  {
   "cell_type": "markdown",
   "metadata": {},
   "source": [
    "We specified earlier we want to enumerate 5-member and 6-member rings. This means we need to denote an atom to be optionally removed during enumeration.\n",
    "\n",
    "The structure enumerator supports atom removal and bond removal during enumeration by appending `-1 (int)` to the matching entry in the `atom_spec` or `bond_spec`.\n",
    "\n",
    "Bond removal is implemented simply - the bond is removed and that's that.\n",
    "\n",
    "Atom removal is a bit more complex. If the atom being removed is bound to only one other heavy atom, the atom is simply removed. If the atom is bound to two heavy atoms, a new bond is created between these atoms, ie `R1-atom_to_remove-R2 >> R1-R2`. \n",
    "\n",
    "This raises the question of what bond type to insert at the new bond. By default, the code generates versions of the coupling with single, double, triple and aromatic bonds. If you have a preference for the substitute bond types, pass a list of desired bond types to the `substitute_bonds` parameter, ie `substitute_bonds=['single','double']`. Passing `substitute_bonds=[-1]` results in no coupling, ie `R1-atom_to_remove-R2 >> R1.R2`.\n",
    "\n",
    "For this example, we select atom 3 to be optionally removed."
   ]
  },
  {
   "cell_type": "code",
   "execution_count": null,
   "metadata": {},
   "outputs": [],
   "source": [
    "atom_spec[3].append(-1)"
   ]
  },
  {
   "cell_type": "markdown",
   "metadata": {},
   "source": [
    "Why atom 3 instead of some other atom, or multiple other? For this case, it doesn't really matter because we're generating rotationaly symmetric rings. Enumerating examples where all atoms are set for optional removal just blows up our enumeration space for no benefit.\n",
    "\n",
    "When designing enumeration specs, it's important to consider the tradeoffs from expanding a combinatorial space.\n",
    "\n",
    "`StructureEnumerator` follows the convention that all possible atoms should be present in the initial SMARTS, with optional removals specified. This allows greater control over which atoms are removed relative to substitution patterns or other chemical features"
   ]
  },
  {
   "cell_type": "markdown",
   "metadata": {},
   "source": [
    "Now we use the `StructureEnumerator` to enumerate based on our specification. \n",
    "\n",
    "Note the `max_num` parameter. By default, the code generates the cartesian product of all specification choices. The chemical space represented by the specification can quickly grow to billions of molecules if you're not careful. For this reason, enumeration is best done on chemical spaces less than ~10,000,000 compounds (your compute and memory resources depending). The `max_num` parameter puts a limit on how many compounds will be tested."
   ]
  },
  {
   "cell_type": "code",
   "execution_count": null,
   "metadata": {},
   "outputs": [
    {
     "data": {
      "text/plain": [
       "708588"
      ]
     },
     "execution_count": null,
     "metadata": {},
     "output_type": "execute_result"
    }
   ],
   "source": [
    "enum = StructureEnumerator(smart, atom_spec, bond_spec, max_num=1000000)\n",
    "enum.num_combos # possible combinations"
   ]
  },
  {
   "cell_type": "markdown",
   "metadata": {},
   "source": [
    "We start with 708588 enumerations. These are expressed as dictionaries with one specification choice per atom map number or bond map number pair"
   ]
  },
  {
   "cell_type": "code",
   "execution_count": null,
   "metadata": {},
   "outputs": [
    {
     "data": {
      "text/plain": [
       "{1: 'C',\n",
       " 2: 'C',\n",
       " 3: 'C',\n",
       " 4: 'C',\n",
       " 5: 'C',\n",
       " 6: 'C',\n",
       " (1, 2): 'aromatic',\n",
       " (2, 3): 'aromatic',\n",
       " (3, 4): 'aromatic',\n",
       " (4, 5): 'aromatic',\n",
       " (5, 6): 'aromatic',\n",
       " (6, 1): 'aromatic'}"
      ]
     },
     "execution_count": null,
     "metadata": {},
     "output_type": "execute_result"
    }
   ],
   "source": [
    "enum.combos[0]"
   ]
  },
  {
   "cell_type": "markdown",
   "metadata": {},
   "source": [
    "The next step is to create all these enumerations as molecules, and check them for validity. Before we do this, it's a good idea to cut down on the number of enumerations if we can.\n",
    "\n",
    "For this specific example, we specified we wanted at most 3 heteroatoms in the final rings. This is an easy criteria to filter on. The `StructureEnumerator.filter_combos` supports doing this. All we need is a function that takes in one enumeration dictionary and returns True or False"
   ]
  },
  {
   "cell_type": "code",
   "execution_count": null,
   "metadata": {},
   "outputs": [],
   "source": [
    "def enum_filter(combo):\n",
    "    nhet = 0.\n",
    "    for k,v in combo.items():\n",
    "        if (v=='O') or (v=='N'): # heteroatoms\n",
    "            nhet += 1\n",
    "            \n",
    "    if nhet > 3:\n",
    "        output = False\n",
    "    else:\n",
    "        output = True\n",
    "        \n",
    "    return output"
   ]
  },
  {
   "cell_type": "code",
   "execution_count": null,
   "metadata": {},
   "outputs": [
    {
     "data": {
      "text/plain": [
       "551853"
      ]
     },
     "execution_count": null,
     "metadata": {},
     "output_type": "execute_result"
    }
   ],
   "source": [
    "enum.filter_combos(enum_filter)\n",
    "len(enum.combos)"
   ]
  },
  {
   "cell_type": "markdown",
   "metadata": {},
   "source": [
    "This cuts things down to 551853 combinations. Now we run `StructureEnumerator.filter_combos`, which converts the 551853 combinations into a set of unique, chemically valid (by RDKit canonicalization) SMILES strings"
   ]
  },
  {
   "cell_type": "code",
   "execution_count": null,
   "metadata": {},
   "outputs": [
    {
     "data": {
      "text/plain": [
       "826"
      ]
     },
     "execution_count": null,
     "metadata": {},
     "output_type": "execute_result"
    }
   ],
   "source": [
    "smiles = enum.create_mols()\n",
    "len(smiles) # unique "
   ]
  },
  {
   "cell_type": "markdown",
   "metadata": {},
   "source": [
    "This results in 826 unique smiles.\n",
    "\n",
    "From here we want to do some QC on the resutling sequences. One common mistake coming out of the enumeration process is SP-hybrizided atoms in rings. These structures are identified with the `check_ring_bonds` function. We also verify our requirement for at most 3 heteroatoms"
   ]
  },
  {
   "cell_type": "code",
   "execution_count": null,
   "metadata": {},
   "outputs": [
    {
     "data": {
      "text/plain": [
       "310"
      ]
     },
     "execution_count": null,
     "metadata": {},
     "output_type": "execute_result"
    }
   ],
   "source": [
    "valid_smiles = []\n",
    "for s in smiles:\n",
    "    if check_ring_bonds(s) and heteroatoms(to_mol(s))<4:\n",
    "        valid_smiles.append(s)\n",
    "\n",
    "len(valid_smiles)"
   ]
  },
  {
   "cell_type": "markdown",
   "metadata": {},
   "source": [
    "This gives us 310 smiles that pass our criteria. We can also see the impact of removing atom map number 3 in enumeration by looking at the number of 5 member rings vs 6 member rings"
   ]
  },
  {
   "cell_type": "code",
   "execution_count": null,
   "metadata": {},
   "outputs": [
    {
     "name": "stdout",
     "output_type": "stream",
     "text": [
      "89 221\n"
     ]
    }
   ],
   "source": [
    "print(len([i for i in valid_smiles if heavy_atoms(to_mol(i))==5]), \n",
    "len([i for i in valid_smiles if heavy_atoms(to_mol(i))==6]))"
   ]
  },
  {
   "cell_type": "markdown",
   "metadata": {},
   "source": [
    "Now we want to add attachment points to the smiles strings. These attachments will be added as wildcard atoms (`*`).\n",
    "\n",
    "We specified earlier we want 3 attachments on each ring. For each smiles string, the code checks to see if the molecule supports that number of attachments, defined by the number of atoms with a least 1 impicit hydrogen. If the molecule supports the attachment number, the code generates all valid attachment combinations. Compounds that cannot support the desired number of attachments are removed from the output."
   ]
  },
  {
   "cell_type": "code",
   "execution_count": null,
   "metadata": {},
   "outputs": [
    {
     "data": {
      "text/plain": [
       "1272"
      ]
     },
     "execution_count": null,
     "metadata": {},
     "output_type": "execute_result"
    }
   ],
   "source": [
    "decorated = decorate_smiles(valid_smiles, 3)\n",
    "len(decorated)"
   ]
  },
  {
   "cell_type": "markdown",
   "metadata": {},
   "source": [
    "This gives us a final output of 1272 attachment-decorated 5-member rings with 3 or fewer heteroatoms. Note that the wildcard attachment points are not mapped, so we could further generate 6 configuration variants per output"
   ]
  },
  {
   "cell_type": "markdown",
   "metadata": {},
   "source": [
    "## A More Complex Example\n",
    "\n",
    "Now lets look at a more complex scaffold with more diverse requirements. Note that this will take much longer to run than the previous example. Here's our core structure:"
   ]
  },
  {
   "cell_type": "code",
   "execution_count": null,
   "metadata": {},
   "outputs": [
    {
     "data": {
      "image/png": "[encoded data removed]",
      "text/plain": [
       "<rdkit.Chem.rdchem.Mol at 0x81c4fb9e0>"
      ]
     },
     "execution_count": null,
     "metadata": {},
     "output_type": "execute_result"
    }
   ],
   "source": [
    "to_mol('FC1=CC(c2cnccc2)C=N1')"
   ]
  },
  {
   "cell_type": "markdown",
   "metadata": {},
   "source": [
    "Lets add mapping so we can refer to specific structures"
   ]
  },
  {
   "cell_type": "code",
   "execution_count": null,
   "metadata": {},
   "outputs": [
    {
     "data": {
      "image/png": "[encoded data removed]",
      "text/plain": [
       "<rdkit.Chem.rdchem.Mol at 0x108153800>"
      ]
     },
     "execution_count": null,
     "metadata": {},
     "output_type": "execute_result"
    }
   ],
   "source": [
    "to_mol(add_map_nums(to_mol('FC1=CC(c2cnccc2)C=N1')))"
   ]
  },
  {
   "cell_type": "markdown",
   "metadata": {},
   "source": [
    "For this compound we want the following:\n",
    "\n",
    "Experiment with adding N,O atoms at atoms 3, 11, 12\n",
    "\n",
    "Experiment with adding N atoms at 5,6,8,10\n",
    "\n",
    "Keep atom 7 N, keep atom 9 C\n",
    "\n",
    "Experiment with removing carbon 10 or carbon 8 but not both\n",
    "\n",
    "Experiment with F, Cl, Br, None Halogens at atom 1\n",
    "\n",
    "Enumerate bond configurations in the 6 member ring but leave the 5 member ring as is\n",
    "\n",
    "We also have the following constraints:\n",
    "\n",
    "No more than 4 N,O heteroatoms (not counting halogens)\n",
    "\n",
    "No `[N,O]-[N,O]` direct linkages"
   ]
  },
  {
   "cell_type": "markdown",
   "metadata": {},
   "source": [
    "We proceed generating atom and bond spec templates"
   ]
  },
  {
   "cell_type": "code",
   "execution_count": null,
   "metadata": {},
   "outputs": [
    {
     "name": "stdout",
     "output_type": "stream",
     "text": [
      "{1: [], 2: [], 3: [], 4: [], 5: [], 6: [], 7: [], 8: [], 9: [], 10: [], 11: [], 12: []}\n",
      "{(1, 2): [], (2, 3): [], (3, 4): [], (4, 5): [], (5, 6): [], (6, 7): [], (7, 8): [], (8, 9): [], (9, 10): [], (4, 11): [], (11, 12): [], (12, 2): [], (10, 5): []}\n",
      "[#9:1]-[#6:2]1=[#6:3]-[#6:4](-[#6:5]2:[#6:6]:[#7:7]:[#6:8]:[#6:9]:[#6:10]:2)-[#6:11]=[#7:12]-1\n"
     ]
    }
   ],
   "source": [
    "mol = to_mol('FC1=CC(c2cnccc2)C=N1')\n",
    "\n",
    "atom_spec, bond_spec, smarts = generate_spec_template(mol)\n",
    "print(atom_spec)\n",
    "print(bond_spec)\n",
    "print(smarts)"
   ]
  },
  {
   "cell_type": "markdown",
   "metadata": {},
   "source": [
    "And we fill in based on our above criteria"
   ]
  },
  {
   "cell_type": "code",
   "execution_count": null,
   "metadata": {},
   "outputs": [],
   "source": [
    "atom_spec[1] = ['F', 'Cl', 'Br', -1]\n",
    "atom_spec[3] = ['C','N', 'O']\n",
    "atom_spec[5] = ['C','N']\n",
    "atom_spec[6] = ['C','N']\n",
    "atom_spec[8] = ['C','N', -1]\n",
    "atom_spec[10] = ['C','N', -1]\n",
    "atom_spec[11] = ['C','N','O']\n",
    "atom_spec[12] = ['C','N','O']\n",
    "\n",
    "bond_spec[(5,6)] = ['single', 'double', 'aromatic']\n",
    "bond_spec[(6,7)] = ['single', 'double', 'aromatic']\n",
    "bond_spec[(7,8)] = ['single', 'double', 'aromatic']\n",
    "bond_spec[(8,9)] = ['single', 'double', 'aromatic']\n",
    "bond_spec[(9,10)] = ['single', 'double', 'aromatic']\n",
    "bond_spec[(10,5)] = ['single', 'double', 'aromatic']"
   ]
  },
  {
   "cell_type": "code",
   "execution_count": null,
   "metadata": {},
   "outputs": [],
   "source": [
    "os.environ['ncpus'] = '0'"
   ]
  },
  {
   "cell_type": "code",
   "execution_count": null,
   "metadata": {},
   "outputs": [
    {
     "data": {
      "text/plain": [
       "2834352"
      ]
     },
     "execution_count": null,
     "metadata": {},
     "output_type": "execute_result"
    }
   ],
   "source": [
    "enum = StructureEnumerator(smarts, atom_spec, bond_spec, max_num=20000000, \n",
    "                           substitute_bonds=['single', 'double', 'aromatic'])\n",
    "enum.num_combos # possible combinations"
   ]
  },
  {
   "cell_type": "code",
   "execution_count": null,
   "metadata": {},
   "outputs": [
    {
     "data": {
      "text/plain": [
       "6928416"
      ]
     },
     "execution_count": null,
     "metadata": {},
     "output_type": "execute_result"
    }
   ],
   "source": [
    "len(enum.combos) # after adjusting for removed atoms"
   ]
  },
  {
   "cell_type": "markdown",
   "metadata": {},
   "source": [
    "Now we make a filter function to remove combinations based on our criteria of no more than 4 non-halogen heteroatoms and at most 1 atom removal"
   ]
  },
  {
   "cell_type": "code",
   "execution_count": null,
   "metadata": {},
   "outputs": [],
   "source": [
    "def enum_filter(combo):\n",
    "    n_o_count = 0.\n",
    "    remove_count = 0.\n",
    "    \n",
    "    for k,v in combo.items():\n",
    "        if (v=='O') or (v=='N'): # heteroatoms\n",
    "            n_o_count += 1\n",
    "            \n",
    "        if v==-1:\n",
    "            remove_count += 1\n",
    "            \n",
    "    output = True\n",
    "    \n",
    "    if n_o_count>4:\n",
    "        output = False\n",
    "    if remove_count>1:\n",
    "        output = False\n",
    "        \n",
    "    return output"
   ]
  },
  {
   "cell_type": "code",
   "execution_count": null,
   "metadata": {},
   "outputs": [
    {
     "data": {
      "text/plain": [
       "3067632"
      ]
     },
     "execution_count": null,
     "metadata": {},
     "output_type": "execute_result"
    }
   ],
   "source": [
    "enum.filter_combos(enum_filter)\n",
    "len(enum.combos)"
   ]
  },
  {
   "cell_type": "markdown",
   "metadata": {},
   "source": [
    "This leaves us with 3067632 combinations to enumerate"
   ]
  },
  {
   "cell_type": "code",
   "execution_count": null,
   "metadata": {},
   "outputs": [
    {
     "name": "stdout",
     "output_type": "stream",
     "text": [
      "0\n",
      "1\n",
      "2\n",
      "3\n",
      "4\n",
      "5\n",
      "6\n"
     ]
    },
    {
     "data": {
      "text/plain": [
       "12561"
      ]
     },
     "execution_count": null,
     "metadata": {},
     "output_type": "execute_result"
    }
   ],
   "source": [
    "smiles = enum.create_mols_chunks(500000)\n",
    "len(smiles) # unique "
   ]
  },
  {
   "cell_type": "markdown",
   "metadata": {},
   "source": [
    "Now we filter the outputs based on `check_ring_bonds` (removing SP atoms in rings) and our criteria for no `[N,O]-[N,O]` linkages and fewer than 5 N,O heteroatoms"
   ]
  },
  {
   "cell_type": "code",
   "execution_count": null,
   "metadata": {},
   "outputs": [],
   "source": [
    "def check_linkage(smile):\n",
    "    mol = to_mol(smile)\n",
    "    pattern = Chem.MolFromSmarts('[#7,#8]~[#7,#8]')\n",
    "    return not mol.HasSubstructMatch(pattern) \n",
    "\n",
    "def check_heteroatoms(smile):\n",
    "    mol = to_mol(smile)\n",
    "    count = 0.\n",
    "    \n",
    "    for atom in mol.GetAtoms():\n",
    "        if atom.GetSymbol() in ['N','O']:\n",
    "            count += 1\n",
    "            \n",
    "    return count"
   ]
  },
  {
   "cell_type": "code",
   "execution_count": null,
   "metadata": {},
   "outputs": [
    {
     "data": {
      "text/plain": [
       "1592"
      ]
     },
     "execution_count": null,
     "metadata": {},
     "output_type": "execute_result"
    }
   ],
   "source": [
    "valid_smiles = []\n",
    "for s in smiles:\n",
    "    if check_ring_bonds(s) and check_heteroatoms(s)<5 and check_linkage(s):\n",
    "        valid_smiles.append(s)\n",
    "\n",
    "len(valid_smiles)"
   ]
  },
  {
   "cell_type": "markdown",
   "metadata": {},
   "source": [
    "From the enumeration we get 1592 structures, from an initial set of 3067632 possible combinations. This highlights the inefficiencies of structure enumeration. This technique is best left for expoiting highly constrained chemical spaces."
   ]
  },
  {
   "cell_type": "code",
   "execution_count": null,
   "metadata": {},
   "outputs": [
    {
     "data": {
      "image/png": "[encoded data removed]",
      "text/plain": [
       "<IPython.core.display.Image object>"
      ]
     },
     "execution_count": null,
     "metadata": {},
     "output_type": "execute_result"
    }
   ],
   "source": [
    "subset = [i for i in valid_smiles if aromaticrings(to_mol(i))>0]\n",
    "\n",
    "Chem.Draw.MolsToGridImage([Chem.MolFromSmiles(i) for i in np.random.choice(subset, 16)], molsPerRow=4)"
   ]
  },
  {
   "cell_type": "code",
   "execution_count": null,
   "metadata": {},
   "outputs": [],
   "source": []
  }
 ],
 "metadata": {
  "kernelspec": {
   "display_name": "Python 3",
   "language": "python",
   "name": "python3"
  }
 },
 "nbformat": 4,
 "nbformat_minor": 2
}
