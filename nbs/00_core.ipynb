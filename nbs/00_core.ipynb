{
 "cells": [
  {
   "cell_type": "code",
   "execution_count": null,
   "metadata": {},
   "outputs": [],
   "source": [
    "# default_exp core"
   ]
  },
  {
   "cell_type": "markdown",
   "metadata": {},
   "source": [
    "# Core\n",
    "\n",
    "> Core functions for MRL, mostly low level plumbing and parallel processing"
   ]
  },
  {
   "cell_type": "code",
   "execution_count": null,
   "metadata": {},
   "outputs": [],
   "source": [
    "#hide\n",
    "from nbdev.showdoc import *"
   ]
  },
  {
   "cell_type": "code",
   "execution_count": null,
   "metadata": {},
   "outputs": [],
   "source": [
    "# export\n",
    "import pandas as pd\n",
    "import numpy as np\n",
    "import os\n",
    "import re\n",
    "import random\n",
    "import matplotlib.pyplot as plt\n",
    "from multiprocessing import Pool\n",
    "import time\n",
    "from functools import partial\n",
    "import itertools"
   ]
  },
  {
   "cell_type": "code",
   "execution_count": null,
   "metadata": {},
   "outputs": [],
   "source": [
    "# export\n",
    "def is_container(x):\n",
    "    \"check if `x` is a container (used for parallel processing)\"\n",
    "    if (type(x) == list) or (type(x) == np.ndarray):\n",
    "        return True\n",
    "    else:\n",
    "        return False"
   ]
  },
  {
   "cell_type": "markdown",
   "metadata": {},
   "source": [
    "`maybe_parallel` is a convenient wrapper for parallel processing. The given `func` is wrapped with `**kwargs` and used to process the `iterable`. If `iterable` is a `list` or `np.ndarray`, the elements in `iterable` are run in parallel by `func`.\n",
    "\n",
    "`maybe_parallel` defaults to using all availlable CPUs for processing. To control CPU usage, either pass in a specific number for the `cpus` argument, or set `ncpus` as an environment variable:\n",
    "\n",
    "`os.environ['ncpus'] = '8'`\n",
    "\n",
    "Passing `cpus=0` or setting `os.environ['ncpus'] = '0'` causes `maybe_parallel` to default to serial processing"
   ]
  },
  {
   "cell_type": "code",
   "execution_count": null,
   "metadata": {},
   "outputs": [],
   "source": [
    "# export\n",
    "def maybe_parallel(func, iterable, cpus=None, **kwargs):\n",
    "    \n",
    "    func = partial(func, **kwargs)\n",
    "    \n",
    "    if is_container(iterable):\n",
    "    \n",
    "        if cpus is None:\n",
    "            if 'ncpus' in os.environ.keys():\n",
    "                cpus = int(os.environ['ncpus'])\n",
    "            else:\n",
    "                cpus = os.cpu_count()\n",
    "\n",
    "        processes = min(cpus, len(iterable))\n",
    "\n",
    "        if processes == 0:\n",
    "            output = [func(i) for i in iterable]\n",
    "\n",
    "        else:\n",
    "            p = Pool(processes=cpus)\n",
    "            output = p.map(func, iterable)\n",
    "            p.close()\n",
    "            \n",
    "    else:\n",
    "        output = func(iterable)\n",
    "        \n",
    "    return output"
   ]
  },
  {
   "cell_type": "code",
   "execution_count": null,
   "metadata": {},
   "outputs": [
    {
     "name": "stdout",
     "output_type": "stream",
     "text": [
      "Serial time: 10.03, Parallel time: 1.04.\n",
      "Results will depend on the number of CPUs available\n"
     ]
    }
   ],
   "source": [
    "def test_func(x):\n",
    "    time.sleep(1)\n",
    "    return x\n",
    "\n",
    "start = time.time()\n",
    "_ = [test_func(i) for i in range(10)]\n",
    "t1 = time.time()\n",
    "_ = maybe_parallel(test_func, list(range(10)))\n",
    "t2 = time.time()\n",
    "\n",
    "print(f'Serial time: {t1-start:.2f}, Parallel time: {t2-t1:.2f}.\\nResults will depend on the number of CPUs available')"
   ]
  },
  {
   "cell_type": "code",
   "execution_count": null,
   "metadata": {},
   "outputs": [],
   "source": []
  },
  {
   "cell_type": "code",
   "execution_count": null,
   "metadata": {},
   "outputs": [],
   "source": []
  }
 ],
 "metadata": {
  "kernelspec": {
   "display_name": "Python 3",
   "language": "python",
   "name": "python3"
  }
 },
 "nbformat": 4,
 "nbformat_minor": 2
}
