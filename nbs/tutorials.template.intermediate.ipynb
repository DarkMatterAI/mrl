{
 "cells": [
  {
   "cell_type": "code",
   "execution_count": null,
   "metadata": {},
   "outputs": [],
   "source": [
    "# hide\n",
    "# all_tutorial"
   ]
  },
  {
   "cell_type": "markdown",
   "metadata": {},
   "source": [
    "# Tutorial - Templates (Intermediate)\n",
    "\n",
    ">Intermediate overview of using templates"
   ]
  },
  {
   "cell_type": "markdown",
   "metadata": {},
   "source": [
    "This tutorial follows from the <a href=\"/mrl/tutorials.template.beginner.html\">Basic Template Tutorial</a>. This tutorial looks more under the hood at filter functions and how they can be extended"
   ]
  },
  {
   "cell_type": "code",
   "execution_count": null,
   "metadata": {},
   "outputs": [
    {
     "name": "stderr",
     "output_type": "stream",
     "text": [
      "/home/dmai/miniconda3/envs/mrl/lib/python3.6/importlib/_bootstrap.py:219: RuntimeWarning: to-Python converter for boost::shared_ptr<RDKit::FilterCatalogEntry const> already registered; second conversion method ignored.\n",
      "  return f(*args, **kwds)\n"
     ]
    }
   ],
   "source": [
    "from mrl.imports import *\n",
    "from mrl.core import *\n",
    "from mrl.chem import *\n",
    "from mrl.templates import *\n",
    "from rdkit import Chem\n",
    "from rdkit.Chem import rdMolDescriptors"
   ]
  },
  {
   "cell_type": "markdown",
   "metadata": {},
   "source": [
    "First lets get some compounds"
   ]
  },
  {
   "cell_type": "code",
   "execution_count": null,
   "metadata": {},
   "outputs": [],
   "source": [
    "df = pd.read_csv('files/smiles.csv')"
   ]
  },
  {
   "cell_type": "code",
   "execution_count": null,
   "metadata": {},
   "outputs": [],
   "source": [
    "smiles = df.smiles.values\n",
    "mols = to_mols(smiles)"
   ]
  },
  {
   "cell_type": "code",
   "execution_count": null,
   "metadata": {},
   "outputs": [
    {
     "data": {
      "text/plain": [
       "2000"
      ]
     },
     "execution_count": null,
     "metadata": {},
     "output_type": "execute_result"
    }
   ],
   "source": [
    "len(mols)"
   ]
  },
  {
   "cell_type": "markdown",
   "metadata": {},
   "source": [
    "Previously we looked at building templates from existing filters in the library. Now we'll look at creating custom filters."
   ]
  },
  {
   "cell_type": "markdown",
   "metadata": {},
   "source": [
    "## Property Filters\n",
    "\n",
    "Property filters calculate some property of a compound and determine if it fallls within a specific range. This is impemented in the `PropertyFilter` class. A `PropertyFilter` takes in a `mol_function`, which is any function that converts an RDKit `Mol` to a numeric value.\n",
    "\n",
    "For example, say we wanted to create a filter for the number of amide bonds in a molecule. We first need to define a function that computes our desired property - in this case the number of amide bonds - and choose a range"
   ]
  },
  {
   "cell_type": "code",
   "execution_count": null,
   "metadata": {},
   "outputs": [],
   "source": [
    "def my_property_function(mol):\n",
    "    return rdMolDescriptors.CalcNumAmideBonds(mol)\n",
    "\n",
    "my_filter = PropertyFilter(my_property_function, min_val=None, max_val=2, name='amide bonds')"
   ]
  },
  {
   "cell_type": "code",
   "execution_count": null,
   "metadata": {},
   "outputs": [
    {
     "data": {
      "text/plain": [
       "amide bonds (None, 2)"
      ]
     },
     "execution_count": null,
     "metadata": {},
     "output_type": "execute_result"
    }
   ],
   "source": [
    "my_filter"
   ]
  },
  {
   "cell_type": "markdown",
   "metadata": {},
   "source": [
    "Now we have a filter that will return `True` if a molecule has 2 or fewer amide bonds.\n",
    "\n",
    "One important point to note is creating `my_property_function` as a wrapper around the `rdMolDescriptors.CalcNumAmideBonds`. Why don't we just pass `rdMolDescriptors.CalcNumAmideBonds` like `my_filter = PropertyFilter(rdMolDescriptors.CalcNumAmideBonds, ...)`\n",
    "\n",
    "Filters and templates automatically use parallel processing to evauate large numbers of molecules. RDKit functions break python's multiprocessing because RDKit functions can't be pickled. Creating a wrapper around RDKit functions fixes this issue.\n",
    "\n",
    "Now we can filter compounds based on the 2 or fewer amide bond criteria."
   ]
  },
  {
   "cell_type": "code",
   "execution_count": null,
   "metadata": {},
   "outputs": [
    {
     "name": "stdout",
     "output_type": "stream",
     "text": [
      "1894 106\n"
     ]
    }
   ],
   "source": [
    "outputs = my_filter(mols)\n",
    "passes = []\n",
    "fails = []\n",
    "for i, mol in enumerate(mols):\n",
    "    if outputs[i]:\n",
    "        passes.append(mol)\n",
    "    else:\n",
    "        fails.append(mol)\n",
    "        \n",
    "print(len(passes), len(fails))"
   ]
  },
  {
   "cell_type": "markdown",
   "metadata": {},
   "source": [
    "## Property and Criteria Functions\n",
    "\n",
    "Under the hood, the filter function performs two steps. The first is to compute `PropertyFilter.property_function`, which for this filter computes the value of `my_property_function`, the number of amide bonds. The result of the property function is then sent to `PropertyFilter.criteria_function`, which converts the output of the property function to a boolean value based on the `min_val`, `max_val` arguments we passed.\n",
    "\n",
    "Under the hood, it looks like this:\n",
    "\n",
    "```\n",
    "class PropertyFilter(Filter):\n",
    "    def __init__(self, mol_function, min_val=None, max_val=None, score=None, fail_score=0., name=None):\n",
    "        \n",
    "        self.mol_function = mol_function\n",
    "        self.min_val = min_val\n",
    "        self.max_val = max_val\n",
    "                \n",
    "        if name is None:\n",
    "            name = mol_function.__name__\n",
    "        \n",
    "        super().__init__(score, name, fail_score=fail_score)\n",
    "        \n",
    "    def property_function(self, mol):\n",
    "        return self.mol_function(mol)\n",
    "    \n",
    "    def criteria_function(self, property_output):\n",
    "        lower_bound = (property_output>=self.min_val) if self.min_val is not None else True\n",
    "        upper_bound = (property_output<=self.max_val) if self.max_val is not None else True\n",
    "        output = lower_bound and upper_bound\n",
    "        \n",
    "        return output\n",
    "```"
   ]
  },
  {
   "cell_type": "markdown",
   "metadata": {},
   "source": [
    "## Custom Filters\n",
    "\n",
    "To make custom filters, subclass the main `Filter` function and define your own `property_function` and `criteria_function`. For a simple example, look at the `SingleCompoundFilter` class. This filter determines if a molecule is a single compound. In SMILES strings, different compounds are separated by a period `.`. To filter based on the single compound criteria, we need to set up our `property_function` and `criteria_function` to return `True` if a period is not found in the SMILES string.\n",
    "\n",
    "```\n",
    "class SingleCompoundFilter(Filter):\n",
    "    def __init__(self, score=None, name=None, fail_score=0.):        \n",
    "        if name is None:\n",
    "            name = 'Single Compound Filter'\n",
    "            \n",
    "        super().__init__(score, name, fail_score=fail_score)\n",
    "        self.priority=1\n",
    "        \n",
    "    def property_function(self, mol):\n",
    "        smile = to_smile(mol)\n",
    "        return smile\n",
    "    \n",
    "    def criteria_function(self, property_output):\n",
    "        return not '.' in property_output     \n",
    "```"
   ]
  },
  {
   "cell_type": "markdown",
   "metadata": {},
   "source": [
    "## Score Criteria\n",
    "\n",
    "The above code uses the filter we created as a hard filter that returns True/False pass/fail outputs. By adding a score, we can convert the filter to a soft filter that returns a float value"
   ]
  },
  {
   "cell_type": "code",
   "execution_count": null,
   "metadata": {},
   "outputs": [],
   "source": [
    "my_filter = PropertyFilter(my_property_function, min_val=None, max_val=2, name='amide bonds',\n",
    "                          score=1, fail_score=0)"
   ]
  },
  {
   "cell_type": "markdown",
   "metadata": {},
   "source": [
    "Passing some mols to the filter with `with_score=True` will return the soft score rather than the hard boolean values"
   ]
  },
  {
   "cell_type": "code",
   "execution_count": null,
   "metadata": {},
   "outputs": [
    {
     "data": {
      "text/plain": [
       "[1.0, 1.0, 1.0, 1.0, 1.0, 1.0, 1.0, 1.0, 1.0, 1.0]"
      ]
     },
     "execution_count": null,
     "metadata": {},
     "output_type": "execute_result"
    }
   ],
   "source": [
    "my_filter(mols[:10], with_score=True)"
   ]
  },
  {
   "cell_type": "markdown",
   "metadata": {},
   "source": [
    "Now the filter returns `1` for passing molecules and `0` for failing molecules. For most MPO functions, this will be sufficient. However, we can use fancier score methods if we want to"
   ]
  },
  {
   "cell_type": "markdown",
   "metadata": {},
   "source": [
    "## Score Functions\n",
    "\n",
    "Under the hood, scores are determined by the `ScoreFunction` class. A score function has a `__call__` method that takes in the output of a filter's `property_function` and `criteria_function` and returns a numeric value.\n",
    "\n",
    "Lets say for the amide bond example we want our score to actually return `1/(1+n)` where `n` is the number of amide bonds. We can implement that as follows:"
   ]
  },
  {
   "cell_type": "code",
   "execution_count": null,
   "metadata": {},
   "outputs": [],
   "source": [
    "class MyScore(ScoreFunction):\n",
    "    def __call__(self, property_output, criteria_output):\n",
    "        \n",
    "        return 1/(1+property_output)"
   ]
  },
  {
   "cell_type": "markdown",
   "metadata": {},
   "source": [
    "Now we can pass an instance of `MyScore` to the `score` keyword argument in `PropertyFilter`. The Filter will verify the passes score function is an instance of the main `ScoreFunction` class, so it's important to subclass"
   ]
  },
  {
   "cell_type": "code",
   "execution_count": null,
   "metadata": {},
   "outputs": [],
   "source": [
    "score = MyScore()\n",
    "my_filter = PropertyFilter(my_property_function, min_val=None, max_val=2, name='amide bonds',\n",
    "                          score=score)"
   ]
  },
  {
   "cell_type": "markdown",
   "metadata": {},
   "source": [
    "Now we can get pass some mols to our filter and see the score defined by our custom score function"
   ]
  },
  {
   "cell_type": "code",
   "execution_count": null,
   "metadata": {},
   "outputs": [
    {
     "data": {
      "text/plain": [
       "[0.5,\n",
       " 0.5,\n",
       " 0.3333333333333333,\n",
       " 1.0,\n",
       " 1.0,\n",
       " 1.0,\n",
       " 0.5,\n",
       " 0.3333333333333333,\n",
       " 0.5,\n",
       " 0.5]"
      ]
     },
     "execution_count": null,
     "metadata": {},
     "output_type": "execute_result"
    }
   ],
   "source": [
    "my_filter(mols[:10], with_score=True)"
   ]
  },
  {
   "cell_type": "markdown",
   "metadata": {},
   "source": [
    "If your propety or score calculation is complex, it can be easier to abstract the property calculation and score computation entirely. This can be done with the `PassThroughScore` class, which just returns the output of the property function.\n",
    "\n",
    "```\n",
    "class PassThroughScore(ScoreFunction):\n",
    "    \"Pass through for no score\"\n",
    "    def __call__(self, property_output, criteria_output):\n",
    "        return property_output     \n",
    "```\n",
    "\n",
    "We can set up a filter using this like so\n",
    "\n",
    "```\n",
    "my_filter = PropertyFilter(my_property_function, min_val=None, max_val=None, name='my filter',\n",
    "                          score=PassThroughScore())\n",
    "```\n",
    "\n",
    "The above filter when used as a soft filter will simply return the output of `my_property_function`. When used as a hard filter will always return `True` since `min_val` and `max_val` are `None`."
   ]
  },
  {
   "cell_type": "code",
   "execution_count": null,
   "metadata": {},
   "outputs": [],
   "source": []
  }
 ],
 "metadata": {
  "kernelspec": {
   "display_name": "Python (mrl)",
   "language": "python",
   "name": "mrl"
  }
 },
 "nbformat": 4,
 "nbformat_minor": 2
}
