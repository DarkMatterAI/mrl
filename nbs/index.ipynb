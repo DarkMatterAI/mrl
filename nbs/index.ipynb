{
 "cells": [
  {
   "cell_type": "code",
   "execution_count": null,
   "metadata": {},
   "outputs": [],
   "source": [
    "#hide\n",
    "from mrl.core import *"
   ]
  },
  {
   "cell_type": "markdown",
   "metadata": {},
   "source": [
    "# Molecular Reinforcement Learning\n",
    "> Unlocking reinforcement learning for drug design\n",
    "\n",
    "- hide_colab_badge:true"
   ]
  },
  {
   "cell_type": "markdown",
   "metadata": {},
   "source": [
    "MRL is an open source python library designed to unlock the potential of drug design with reinforcement learning. \n",
    "\n",
    "MRL bridges the gap between generative models and practical drug discovery by enabling fine-tuned control over chemical spaces. Control what structures are generated and where they occur.\n",
    "\n",
    "MRL is suitable for all stages of drug discovery, from high diversity hit expansion screens to hyper-focused lead optimization"
   ]
  },
  {
   "cell_type": "markdown",
   "metadata": {},
   "source": [
    "<img src=files/mols.png width=800 alt='rgroup optimization'/>"
   ]
  },
  {
   "cell_type": "markdown",
   "metadata": {},
   "source": [
    "## Use Cases\n",
    "\n",
    "MRL can be applied to:\n",
    "- [Small molecules](https://darkmatterai.github.io/mrl/tutorials.html#Small-Molecules)\n",
    "- [Proteins](https://darkmatterai.github.io/mrl/tutorials.html#Proteins)\n",
    "- [Polymers](https://darkmatterai.github.io/mrl/tutorials.html#Polymers)\n",
    "- [DNA](https://darkmatterai.github.io/mrl/tutorials.html#DNA)\n",
    "- Catalysts (coming soon)\n",
    "\n",
    "View our [tutorials](https://darkmatterai.github.io/mrl/tutorials.html) for more examples"
   ]
  },
  {
   "cell_type": "markdown",
   "metadata": {},
   "source": [
    "## Install\n",
    "\n",
    "__NOTE__: MRL is currently under active development. Currently it is recommended to install the most up-to-date version using the `Developer Install` instructions below\n",
    "\n",
    "### Without Installing\n",
    "\n",
    "MRL can be used without installing via [Google Collab](https://colab.research.google.com/notebooks/intro.ipynb). Open any page in the [documentation](https://darkmatterai.github.io/mrl/) and click the \"Open in Collab\" button to open the notebook in Google Collab. Make sure to change the runtime to GPU.\n",
    "\n",
    "### Anaconda\n",
    "\n",
    "MRL is available via Anaconda.\n",
    "\n",
    "```\n",
    "conda create -n mrl python=3.7\n",
    "conda install -c dmai -c rdkit -c pytorch -c fastai -c conda-forge mrl\n",
    "```\n",
    "\n",
    "### PyPi\n",
    "\n",
    "MRL is available via pypi. First [install pytorch](https://pytorch.org/get-started/locally/). Then run the following:\n",
    "\n",
    "```\n",
    "pip install mrl-pypi\n",
    "```\n",
    "\n",
    "### Developer Install \n",
    "\n",
    "If you plan to develop the library or want the most up to date release, use an editable install. First [install pytorch](https://pytorch.org/get-started/locally/). Then run the following:\n",
    "\n",
    "```\n",
    "git clone https://github.com/DarkMatterAI/mrl\n",
    "pip install -e .\n",
    "```"
   ]
  },
  {
   "cell_type": "markdown",
   "metadata": {},
   "source": [
    "## How to use\n",
    "\n",
    "Here's an example of using a MRL pre-trained model to generate compounds based on the [ChEMBL](https://www.ebi.ac.uk/chembl/) library:\n",
    "\n",
    "```\n",
    "from mrl.model_zoo import LSTM_LM_Small_Chembl\n",
    "\n",
    "agent = LSTM_LM_Small_Chembl()\n",
    "\n",
    "preds, log_probs = agent.model.sample_no_grad(512, 90)\n",
    "smiles = agent.reconstruct(preds)\n",
    "\n",
    "smiles[:10]\n",
    ">['COC(=O)C1=C(Nc2ccc(Br)cc2)SCC1=O',\n",
    " 'Cc1nnc2n1CN(C(C)=O)CC2c1ccc2c(c1)OCO2',\n",
    " 'COc1ccc(C(=O)NNc2c(C#N)cnn2-c2ccccc2)c(OC)c1',\n",
    " 'COC(=O)C1(C)C=C(N2CC2)C(=O)C(C(C)=O)=C1',\n",
    " 'CC(O)(c1cccc(Cl)c1)c1nc(-c2cccc(-n3cncn3)c2)co1',\n",
    " 'Clc1cccc2ccc(-n3c(-c4ccccc4)nc4ccccc4c3=O)nc12',\n",
    " 'Cc1cccc(NC(=O)CSc2nnnn2-c2ccc3c(c2)OCCO3)c1',\n",
    " 'Nc1n[nH]c(=O)c2cc(NCc3ccc(C(=O)O)c(Cl)c3)ccc12',\n",
    " 'CCOc1ccc(NC(=O)c2oc3ccccc3c2NC(=O)c2ccccc2OC)cc1',\n",
    " 'Cc1ccc2c(N3CCN(CC(=O)Nc4ccc(N5CCCCC5=O)cc4)CC3)cccc2n1']\n",
    "```"
   ]
  },
  {
   "cell_type": "markdown",
   "metadata": {},
   "source": [
    "## Getting Started\n",
    "\n",
    "See the MRL [documentation page](https://darkmatterai.github.io/mrl/) for full documentaion\n",
    "\n",
    "See the MRL [tutorials page](https://darkmatterai.github.io/mrl/tutorials.html) for examples"
   ]
  },
  {
   "cell_type": "markdown",
   "metadata": {},
   "source": [
    "## Contributing\n",
    "\n",
    "MRL uses [nbdev](https://github.com/fastai/nbdev) for development. This allows us to build code, tests and documentation at the same time.\n",
    "\n",
    "To contribute, install [nbdev](https://github.com/fastai/nbdev). Then run `nbdev_install_git_hooks` in your terminal. This sets up git hooks, which clean up the notebooks to remove the extraneous stuff stored in the notebooks which causes unnecessary merge conflicts.\n",
    "\n",
    "If you make changes to a notebook, run `nbdev_build_lib` to update the library.\n",
    "\n",
    "If you make changes to the library, run `nbdev_update_lib` to update the notebooks.\n",
    "\n",
    "Submit PRs to the `dev` branch.\n",
    "\n",
    "Before submitting a PR, run `nbdev_diff_nbs` to verify the notebooks and the library match."
   ]
  },
  {
   "cell_type": "markdown",
   "metadata": {},
   "source": [
    "## Acknowledgements\n",
    "\n",
    "MRl is built using many open source libraries. We would especially like to thank the development teams behind [Pytorch](https://github.com/pytorch/pytorch), [RDKit](https://github.com/rdkit/rdkit) and [fastai](https://github.com/fastai)"
   ]
  },
  {
   "cell_type": "markdown",
   "metadata": {},
   "source": [
    "## Roadmap\n",
    "\n",
    "New Modules:\n",
    "- Combichem\n",
    "- Huggingface/transformers integration\n",
    "- Active learning\n",
    "- Chemprop integration\n",
    "- Docking integration\n",
    "- Pharmacophore\n",
    "\n",
    "New modalities:\n",
    "- Catalysts\n",
    "\n",
    "Tutorials:\n",
    "- In depth, multi-cycle affinity optimization\n",
    "- Generative screening primer"
   ]
  },
  {
   "cell_type": "code",
   "execution_count": null,
   "metadata": {},
   "outputs": [],
   "source": []
  }
 ],
 "metadata": {
  "kernelspec": {
   "display_name": "Python 3",
   "language": "python",
   "name": "python3"
  }
 },
 "nbformat": 4,
 "nbformat_minor": 2
}
