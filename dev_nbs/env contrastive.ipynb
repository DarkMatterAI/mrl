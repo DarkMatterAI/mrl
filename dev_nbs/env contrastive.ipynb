{
 "cells": [
  {
   "cell_type": "code",
   "execution_count": 1,
   "metadata": {},
   "outputs": [
    {
     "name": "stderr",
     "output_type": "stream",
     "text": [
      "/home/dmai/miniconda3/envs/mrl/lib/python3.6/importlib/_bootstrap.py:219: RuntimeWarning: to-Python converter for boost::shared_ptr<RDKit::FilterCatalogEntry const> already registered; second conversion method ignored.\n",
      "  return f(*args, **kwds)\n"
     ]
    }
   ],
   "source": [
    "import sys\n",
    "sys.path.append('../')\n",
    "\n",
    "from mrl.imports import *\n",
    "from mrl.core import *\n",
    "from mrl.chem import *\n",
    "from mrl.templates import *\n",
    "from mrl.torch_imports import *\n",
    "from mrl.torch_core import *\n",
    "from mrl.layers import *\n",
    "from mrl.dataloaders import *\n",
    "from mrl.g_models import *\n",
    "from mrl.agent import *\n",
    "from mrl.policy_gradient import PolicyGradient, TRPO, PPO\n",
    "from mrl.environment import *"
   ]
  },
  {
   "cell_type": "code",
   "execution_count": null,
   "metadata": {},
   "outputs": [],
   "source": []
  },
  {
   "cell_type": "code",
   "execution_count": 2,
   "metadata": {},
   "outputs": [],
   "source": [
    "os.environ['ncpus'] = '0'"
   ]
  },
  {
   "cell_type": "code",
   "execution_count": 3,
   "metadata": {},
   "outputs": [],
   "source": [
    "vocab = CharacterVocab(SMILES_CHAR_VOCAB)"
   ]
  },
  {
   "cell_type": "code",
   "execution_count": null,
   "metadata": {},
   "outputs": [],
   "source": []
  },
  {
   "cell_type": "code",
   "execution_count": 4,
   "metadata": {},
   "outputs": [],
   "source": [
    "# ds = Vec_Recon_Dataset(['CCC'], vocab, partial(failsafe_fp, fp_function=ECFP6))\n",
    "ds = Vec2Text_Dataset([('CCC', '')], vocab, partial(failsafe_fp, fp_function=ECFP6))\n",
    "\n",
    "encoder = MLP_Encoder(2048, [1024, 512], 512, [0.1, 0.1])\n",
    "d_vocab = len(vocab.itos)\n",
    "d_embedding = 256\n",
    "d_hidden = 1024\n",
    "d_latent = 512\n",
    "n_layers = 3\n",
    "lstm_drop = 0.0\n",
    "lin_drop = 0.0\n",
    "bidir = False\n",
    "condition_hidden = True\n",
    "condition_output = False\n",
    "bos_idx = vocab.stoi['bos']\n",
    "\n",
    "lm_model = Conditional_LSTM_LM(encoder, d_vocab, d_embedding, d_hidden, d_latent, n_layers,\n",
    "                lstm_drop, lin_drop, bidir, condition_hidden, condition_output, bos_idx)\n",
    "\n",
    "lm_model.load_state_dict(torch.load('../nbs/untracked_files/fp_cond_lstm_lm_zinc.pt'))\n",
    "\n",
    "loss = CrossEntropy()"
   ]
  },
  {
   "cell_type": "code",
   "execution_count": 5,
   "metadata": {},
   "outputs": [],
   "source": [
    "vh = ValueHead(256)\n",
    "# vh = None"
   ]
  },
  {
   "cell_type": "code",
   "execution_count": 6,
   "metadata": {},
   "outputs": [],
   "source": [
    "agent = GenerativeAgent(lm_model, vocab, loss, ds, value_head=vh, opt_kwargs={'lr':1e-4},\n",
    "                       base_update=0.9, v_update=0.9, vopt_kwargs={'lr':1e-3})"
   ]
  },
  {
   "cell_type": "code",
   "execution_count": 7,
   "metadata": {},
   "outputs": [],
   "source": [
    "def scale_sa(sa):\n",
    "    return (10-sa)/9"
   ]
  },
  {
   "cell_type": "code",
   "execution_count": 8,
   "metadata": {},
   "outputs": [],
   "source": [
    "# template = Template([ValidityFilter(), SingleCompoundFilter()],\n",
    "#                     [QEDFilter(0.5, None, score=1.),\n",
    "#                      SAFilter(None, 3, score=1.)], \n",
    "#                     fail_score=-1.)\n",
    "\n",
    "template = Template([ValidityFilter(), SingleCompoundFilter()],\n",
    "                    [QEDFilter(None, None, score=PassThroughScore()),\n",
    "                     SAFilter(None, None, \n",
    "                              score=PropertyFunctionScore(scale_sa))], fail_score=-1., \n",
    "                            log=False, use_lookup=False, cpus=0)"
   ]
  },
  {
   "cell_type": "code",
   "execution_count": null,
   "metadata": {},
   "outputs": [],
   "source": []
  },
  {
   "cell_type": "code",
   "execution_count": 9,
   "metadata": {},
   "outputs": [],
   "source": [
    "gen_bs = 1000\n",
    "bs = 256"
   ]
  },
  {
   "cell_type": "code",
   "execution_count": 10,
   "metadata": {},
   "outputs": [],
   "source": [
    "agent_cb = GenAgentCallback(agent, 'generative', contrastive=True)"
   ]
  },
  {
   "cell_type": "code",
   "execution_count": 11,
   "metadata": {},
   "outputs": [],
   "source": [
    "df = next(pd.read_csv('/home/dmai/smiles_datasets/shard_0.csv', chunksize=2000000, usecols=['smiles']))"
   ]
  },
  {
   "cell_type": "code",
   "execution_count": 12,
   "metadata": {},
   "outputs": [],
   "source": [
    "df = df[df.smiles.map(lambda x: 8<len(x)<100)]"
   ]
  },
  {
   "cell_type": "code",
   "execution_count": 13,
   "metadata": {},
   "outputs": [
    {
     "data": {
      "text/plain": [
       "(1999873, 1)"
      ]
     },
     "execution_count": 13,
     "metadata": {},
     "output_type": "execute_result"
    }
   ],
   "source": [
    "df.shape"
   ]
  },
  {
   "cell_type": "code",
   "execution_count": null,
   "metadata": {},
   "outputs": [],
   "source": []
  },
  {
   "cell_type": "code",
   "execution_count": 14,
   "metadata": {},
   "outputs": [],
   "source": [
    "# sampler1 = ModelSampler(agent, agent.model, 'live', 400, 0., gen_bs, latent=False, track=True)\n",
    "\n",
    "sampler1 = DatasetSampler(df.smiles.values, 2000, 'zinc')\n",
    "\n",
    "# zinc_model = Conditional_LSTM_LM(encoder, d_vocab, d_embedding, d_hidden, d_latent, n_layers,\n",
    "#                 lstm_drop, lin_drop, bidir, condition_hidden, condition_output, bos_idx)\n",
    "\n",
    "# zinc_model.load_state_dict(torch.load('../nbs/untracked_files/fp_cond_lstm_lm_zinc.pt'))\n",
    "# to_device(zinc_model);\n",
    "\n",
    "# sampler2 = ModelSampler(agent, zinc_model, 'base', 400, 0., gen_bs)\n",
    "\n",
    "# samplers = [sampler1, sampler2]\n",
    "\n",
    "samplers = [sampler1]"
   ]
  },
  {
   "cell_type": "code",
   "execution_count": 15,
   "metadata": {},
   "outputs": [],
   "source": [
    "samplers = [ContrastiveSampler(i, agent, agent.model, 3000, repeats=4) for i in samplers]"
   ]
  },
  {
   "cell_type": "code",
   "execution_count": null,
   "metadata": {},
   "outputs": [],
   "source": []
  },
  {
   "cell_type": "code",
   "execution_count": 16,
   "metadata": {},
   "outputs": [],
   "source": [
    "# pg = PolicyGradient(ratio=False)\n",
    "# pg = TRPO(0.97, 4.)\n",
    "pg = PPO(0.99,\n",
    "        0.5,\n",
    "        lam=0.95,\n",
    "        v_coef=0.5,\n",
    "        cliprange=0.3,\n",
    "        v_cliprange=0.3,\n",
    "        ent_coef=0.01,\n",
    "        kl_target=0.03,\n",
    "        kl_horizon=3000,\n",
    "        scale_rewards=True)\n",
    "loss1 = LossCallback(pg, 'pg')"
   ]
  },
  {
   "cell_type": "code",
   "execution_count": null,
   "metadata": {},
   "outputs": [],
   "source": []
  },
  {
   "cell_type": "code",
   "execution_count": 17,
   "metadata": {},
   "outputs": [],
   "source": [
    "class FPSimilarity():\n",
    "    def __init__(self, fp_function, distance_function, min_sim, max_sim, \n",
    "                 passscore, failscore, soft_min=None, soft_max=None):\n",
    "        self.fp_function = fp_function\n",
    "        self.distance_function = distance_function\n",
    "        self.min_sim = min_sim\n",
    "        self.max_sim = max_sim\n",
    "        self.passscore = passscore\n",
    "        self.failscore = failscore\n",
    "        self.soft_min = soft_min\n",
    "        self.soft_max = soft_max\n",
    "        \n",
    "    def get_sims(self, source_smiles, target_smiles):\n",
    "        source_fps = [failsafe_fp(i, self.fp_function) for i in source_smiles]\n",
    "        target_fps = [failsafe_fp(i, self.fp_function) for i in target_smiles]\n",
    "        \n",
    "        sims = np.array([self.distance_function(source_fps[i], [target_fps[i]])[0] \n",
    "                 for i in range(len(source_smiles))])\n",
    "        return sims\n",
    "        \n",
    "    def score(self, source_smiles, target_smiles, sims=None):\n",
    "        if sims is None:\n",
    "            sims = self.get_sims(source_smiles, target_smiles)\n",
    "            \n",
    "        min_sim = self.min_sim if self.soft_min is None else self.soft_min\n",
    "        max_sim = self.max_sim if self.soft_max is None else self.soft_max\n",
    "        bools = (min_sim<sims) & (sims<max_sim)\n",
    "            \n",
    "        return bools*self.passscore + (~bools)*self.failscore\n",
    "            \n",
    "    def bools(self, source_smiles, target_smiles, sims=None):\n",
    "        if sims is None:\n",
    "            sims = self.get_sims(source_smiles, target_smiles)\n",
    "        \n",
    "        bools = (self.min_sim<sims) & (sims<self.max_sim)\n",
    "        return bools\n",
    "        \n"
   ]
  },
  {
   "cell_type": "code",
   "execution_count": null,
   "metadata": {},
   "outputs": [],
   "source": []
  },
  {
   "cell_type": "code",
   "execution_count": 18,
   "metadata": {},
   "outputs": [],
   "source": [
    "sf = FPSimilarity(ECFP6, tanimoto_rd, 0.2, 0.95, 0.05, -1., soft_min=0.4, soft_max=0.9)"
   ]
  },
  {
   "cell_type": "code",
   "execution_count": null,
   "metadata": {},
   "outputs": [],
   "source": []
  },
  {
   "cell_type": "code",
   "execution_count": 19,
   "metadata": {},
   "outputs": [],
   "source": [
    "template_cb = ContrastiveTemplate(sf, max_score=2., template=template, prefilter=True)"
   ]
  },
  {
   "cell_type": "code",
   "execution_count": 20,
   "metadata": {},
   "outputs": [],
   "source": [
    "base_cb = UpdateBaselineCB(agent, 8, 'base_update')"
   ]
  },
  {
   "cell_type": "code",
   "execution_count": null,
   "metadata": {},
   "outputs": [],
   "source": []
  },
  {
   "cell_type": "code",
   "execution_count": 21,
   "metadata": {},
   "outputs": [],
   "source": [
    "env = Environment(agent_cb, template_cb, samplers=samplers, reward_cbs=[], \n",
    "                  loss_cbs=[loss1], cbs=[base_cb])"
   ]
  },
  {
   "cell_type": "code",
   "execution_count": null,
   "metadata": {},
   "outputs": [],
   "source": []
  },
  {
   "cell_type": "code",
   "execution_count": 22,
   "metadata": {},
   "outputs": [],
   "source": [
    "df2 = pd.read_csv('contrastive.csv')"
   ]
  },
  {
   "cell_type": "code",
   "execution_count": null,
   "metadata": {},
   "outputs": [],
   "source": []
  },
  {
   "cell_type": "code",
   "execution_count": 23,
   "metadata": {},
   "outputs": [],
   "source": [
    "df2['rewards'] = df2.apply(lambda row: (row['target_template']-row['source_template'])/(2-row['source_template']), axis=1)"
   ]
  },
  {
   "cell_type": "code",
   "execution_count": 24,
   "metadata": {},
   "outputs": [],
   "source": [
    "df2['rewards'] = df2.rewards + df2.sim.map(lambda x: 0.05 if ((x>0.3) and (x<0.9)) else -0.1)"
   ]
  },
  {
   "cell_type": "code",
   "execution_count": 25,
   "metadata": {},
   "outputs": [],
   "source": [
    "df2['samples'] = df2.apply(lambda row: (row['sources'], row['targets']), axis=1)"
   ]
  },
  {
   "cell_type": "code",
   "execution_count": null,
   "metadata": {},
   "outputs": [],
   "source": []
  },
  {
   "cell_type": "code",
   "execution_count": 28,
   "metadata": {},
   "outputs": [
    {
     "data": {
      "text/html": [
       "<div>\n",
       "<style scoped>\n",
       "    .dataframe tbody tr th:only-of-type {\n",
       "        vertical-align: middle;\n",
       "    }\n",
       "\n",
       "    .dataframe tbody tr th {\n",
       "        vertical-align: top;\n",
       "    }\n",
       "\n",
       "    .dataframe thead th {\n",
       "        text-align: right;\n",
       "    }\n",
       "</style>\n",
       "<table border=\"1\" class=\"dataframe\">\n",
       "  <thead>\n",
       "    <tr style=\"text-align: right;\">\n",
       "      <th></th>\n",
       "      <th>sources</th>\n",
       "      <th>targets</th>\n",
       "      <th>source_template</th>\n",
       "      <th>target_template</th>\n",
       "      <th>template_diff</th>\n",
       "      <th>sim</th>\n",
       "      <th>rewards</th>\n",
       "      <th>samples</th>\n",
       "    </tr>\n",
       "  </thead>\n",
       "  <tbody>\n",
       "    <tr>\n",
       "      <th>61</th>\n",
       "      <td>O=C(Nc1c(F)cccc1Oc1ccccc1)c1ccc(OCc2ccccn2)cc1</td>\n",
       "      <td>O=C(Nc1c(F)cccc1F)c1ccc(OCc2ccccn2)cc1</td>\n",
       "      <td>1.299078</td>\n",
       "      <td>1.663756</td>\n",
       "      <td>0.364679</td>\n",
       "      <td>0.671053</td>\n",
       "      <td>0.570284</td>\n",
       "      <td>(O=C(Nc1c(F)cccc1Oc1ccccc1)c1ccc(OCc2ccccn2)cc...</td>\n",
       "    </tr>\n",
       "    <tr>\n",
       "      <th>196</th>\n",
       "      <td>O=C(CNC(=O)OCC1c2ccccc2-c2ccccc21)OCC(=O)N1CCOCC1</td>\n",
       "      <td>O=C(NCC(=O)N1CCOCC1)OCC1c2ccccc2-c2ccccc21</td>\n",
       "      <td>1.565747</td>\n",
       "      <td>1.769703</td>\n",
       "      <td>0.203956</td>\n",
       "      <td>0.750000</td>\n",
       "      <td>0.519671</td>\n",
       "      <td>(O=C(CNC(=O)OCC1c2ccccc2-c2ccccc21)OCC(=O)N1CC...</td>\n",
       "    </tr>\n",
       "    <tr>\n",
       "      <th>316</th>\n",
       "      <td>CC(C)Oc1nnc(S[C@@H](C)C(=O)NC(=O)Nc2ccccc2)s1</td>\n",
       "      <td>CC(C)Oc1nnc(NC(=O)Nc2ccccc2)s1</td>\n",
       "      <td>1.562559</td>\n",
       "      <td>1.773412</td>\n",
       "      <td>0.210853</td>\n",
       "      <td>0.493151</td>\n",
       "      <td>0.532015</td>\n",
       "      <td>(CC(C)Oc1nnc(S[C@@H](C)C(=O)NC(=O)Nc2ccccc2)s1...</td>\n",
       "    </tr>\n",
       "    <tr>\n",
       "      <th>953</th>\n",
       "      <td>COC[C@@H]1CCCCN1C(=O)c1cc(C(=O)O)nc2c1-c1[nH]c...</td>\n",
       "      <td>COC[C@@H]1CCCCN1C(=O)c1cc(=O)[nH]c2nc(C(=O)O)c...</td>\n",
       "      <td>1.302851</td>\n",
       "      <td>1.640916</td>\n",
       "      <td>0.338065</td>\n",
       "      <td>0.443396</td>\n",
       "      <td>0.534925</td>\n",
       "      <td>(COC[C@@H]1CCCCN1C(=O)c1cc(C(=O)O)nc2c1-c1[nH]...</td>\n",
       "    </tr>\n",
       "    <tr>\n",
       "      <th>1064</th>\n",
       "      <td>CCOC(=O)c1cc(C)c(NC(=N)C(C)(C)C)cc1C</td>\n",
       "      <td>CCOC(=O)c1cc(NC(C)(C)C(C)(C)C)c(C)cc1C</td>\n",
       "      <td>1.333026</td>\n",
       "      <td>1.649440</td>\n",
       "      <td>0.316413</td>\n",
       "      <td>0.428571</td>\n",
       "      <td>0.524402</td>\n",
       "      <td>(CCOC(=O)c1cc(C)c(NC(=N)C(C)(C)C)cc1C, CCOC(=O...</td>\n",
       "    </tr>\n",
       "    <tr>\n",
       "      <th>...</th>\n",
       "      <td>...</td>\n",
       "      <td>...</td>\n",
       "      <td>...</td>\n",
       "      <td>...</td>\n",
       "      <td>...</td>\n",
       "      <td>...</td>\n",
       "      <td>...</td>\n",
       "      <td>...</td>\n",
       "    </tr>\n",
       "    <tr>\n",
       "      <th>552863</th>\n",
       "      <td>O=Cc1ccc(OCC(=O)N2CCN(C(=O)c3cccnc3)CC2)c([N+]...</td>\n",
       "      <td>Cc1ccc(OCC(=O)N2CCN(C(=O)c3ccc(C)cc3)CC2)cc1</td>\n",
       "      <td>1.265461</td>\n",
       "      <td>1.770270</td>\n",
       "      <td>0.504809</td>\n",
       "      <td>0.311828</td>\n",
       "      <td>0.737246</td>\n",
       "      <td>(O=Cc1ccc(OCC(=O)N2CCN(C(=O)c3cccnc3)CC2)c([N+...</td>\n",
       "    </tr>\n",
       "    <tr>\n",
       "      <th>552864</th>\n",
       "      <td>Cc1ccc([C@H](C)NCc2ccc(OCC(=O)O)c([N+](=O)[O-]...</td>\n",
       "      <td>Cc1ccc(CN[C@H](C)c2ccc(C)cc2)cc1</td>\n",
       "      <td>1.401130</td>\n",
       "      <td>1.739435</td>\n",
       "      <td>0.338305</td>\n",
       "      <td>0.426471</td>\n",
       "      <td>0.614906</td>\n",
       "      <td>(Cc1ccc([C@H](C)NCc2ccc(OCC(=O)O)c([N+](=O)[O-...</td>\n",
       "    </tr>\n",
       "    <tr>\n",
       "      <th>552865</th>\n",
       "      <td>CCOCc1nnc(N2C[C@@H](F)[C@@H](c3ccccc3)C2)n1CC1...</td>\n",
       "      <td>CCOCc1nnc(N2CCCC2)n1Cc1ccccc1</td>\n",
       "      <td>1.250035</td>\n",
       "      <td>1.690846</td>\n",
       "      <td>0.440810</td>\n",
       "      <td>0.371134</td>\n",
       "      <td>0.637775</td>\n",
       "      <td>(CCOCc1nnc(N2C[C@@H](F)[C@@H](c3ccccc3)C2)n1CC...</td>\n",
       "    </tr>\n",
       "    <tr>\n",
       "      <th>552866</th>\n",
       "      <td>CCOC(=O)C(NC(=S)Nc1ccccc1OC(F)(F)F)C(=O)OCC</td>\n",
       "      <td>CCOc1ccccc1NC(=O)c1ccccc1</td>\n",
       "      <td>1.250881</td>\n",
       "      <td>1.855585</td>\n",
       "      <td>0.604704</td>\n",
       "      <td>0.320000</td>\n",
       "      <td>0.857221</td>\n",
       "      <td>(CCOC(=O)C(NC(=S)Nc1ccccc1OC(F)(F)F)C(=O)OCC, ...</td>\n",
       "    </tr>\n",
       "    <tr>\n",
       "      <th>552867</th>\n",
       "      <td>CCCOc1ccc(CNCc2c(F)cccc2Br)cc1</td>\n",
       "      <td>CCCOc1ccc(CNC(=O)c2ccccc2)cc1</td>\n",
       "      <td>1.679702</td>\n",
       "      <td>1.825983</td>\n",
       "      <td>0.146280</td>\n",
       "      <td>0.364865</td>\n",
       "      <td>0.506701</td>\n",
       "      <td>(CCCOc1ccc(CNCc2c(F)cccc2Br)cc1, CCCOc1ccc(CNC...</td>\n",
       "    </tr>\n",
       "  </tbody>\n",
       "</table>\n",
       "<p>157485 rows × 8 columns</p>\n",
       "</div>"
      ],
      "text/plain": [
       "                                                  sources  \\\n",
       "61         O=C(Nc1c(F)cccc1Oc1ccccc1)c1ccc(OCc2ccccn2)cc1   \n",
       "196     O=C(CNC(=O)OCC1c2ccccc2-c2ccccc21)OCC(=O)N1CCOCC1   \n",
       "316         CC(C)Oc1nnc(S[C@@H](C)C(=O)NC(=O)Nc2ccccc2)s1   \n",
       "953     COC[C@@H]1CCCCN1C(=O)c1cc(C(=O)O)nc2c1-c1[nH]c...   \n",
       "1064                 CCOC(=O)c1cc(C)c(NC(=N)C(C)(C)C)cc1C   \n",
       "...                                                   ...   \n",
       "552863  O=Cc1ccc(OCC(=O)N2CCN(C(=O)c3cccnc3)CC2)c([N+]...   \n",
       "552864  Cc1ccc([C@H](C)NCc2ccc(OCC(=O)O)c([N+](=O)[O-]...   \n",
       "552865  CCOCc1nnc(N2C[C@@H](F)[C@@H](c3ccccc3)C2)n1CC1...   \n",
       "552866        CCOC(=O)C(NC(=S)Nc1ccccc1OC(F)(F)F)C(=O)OCC   \n",
       "552867                     CCCOc1ccc(CNCc2c(F)cccc2Br)cc1   \n",
       "\n",
       "                                                  targets  source_template  \\\n",
       "61                 O=C(Nc1c(F)cccc1F)c1ccc(OCc2ccccn2)cc1         1.299078   \n",
       "196            O=C(NCC(=O)N1CCOCC1)OCC1c2ccccc2-c2ccccc21         1.565747   \n",
       "316                        CC(C)Oc1nnc(NC(=O)Nc2ccccc2)s1         1.562559   \n",
       "953     COC[C@@H]1CCCCN1C(=O)c1cc(=O)[nH]c2nc(C(=O)O)c...         1.302851   \n",
       "1064               CCOC(=O)c1cc(NC(C)(C)C(C)(C)C)c(C)cc1C         1.333026   \n",
       "...                                                   ...              ...   \n",
       "552863       Cc1ccc(OCC(=O)N2CCN(C(=O)c3ccc(C)cc3)CC2)cc1         1.265461   \n",
       "552864                   Cc1ccc(CN[C@H](C)c2ccc(C)cc2)cc1         1.401130   \n",
       "552865                      CCOCc1nnc(N2CCCC2)n1Cc1ccccc1         1.250035   \n",
       "552866                          CCOc1ccccc1NC(=O)c1ccccc1         1.250881   \n",
       "552867                      CCCOc1ccc(CNC(=O)c2ccccc2)cc1         1.679702   \n",
       "\n",
       "        target_template  template_diff       sim   rewards  \\\n",
       "61             1.663756       0.364679  0.671053  0.570284   \n",
       "196            1.769703       0.203956  0.750000  0.519671   \n",
       "316            1.773412       0.210853  0.493151  0.532015   \n",
       "953            1.640916       0.338065  0.443396  0.534925   \n",
       "1064           1.649440       0.316413  0.428571  0.524402   \n",
       "...                 ...            ...       ...       ...   \n",
       "552863         1.770270       0.504809  0.311828  0.737246   \n",
       "552864         1.739435       0.338305  0.426471  0.614906   \n",
       "552865         1.690846       0.440810  0.371134  0.637775   \n",
       "552866         1.855585       0.604704  0.320000  0.857221   \n",
       "552867         1.825983       0.146280  0.364865  0.506701   \n",
       "\n",
       "                                                  samples  \n",
       "61      (O=C(Nc1c(F)cccc1Oc1ccccc1)c1ccc(OCc2ccccn2)cc...  \n",
       "196     (O=C(CNC(=O)OCC1c2ccccc2-c2ccccc21)OCC(=O)N1CC...  \n",
       "316     (CC(C)Oc1nnc(S[C@@H](C)C(=O)NC(=O)Nc2ccccc2)s1...  \n",
       "953     (COC[C@@H]1CCCCN1C(=O)c1cc(C(=O)O)nc2c1-c1[nH]...  \n",
       "1064    (CCOC(=O)c1cc(C)c(NC(=N)C(C)(C)C)cc1C, CCOC(=O...  \n",
       "...                                                   ...  \n",
       "552863  (O=Cc1ccc(OCC(=O)N2CCN(C(=O)c3cccnc3)CC2)c([N+...  \n",
       "552864  (Cc1ccc([C@H](C)NCc2ccc(OCC(=O)O)c([N+](=O)[O-...  \n",
       "552865  (CCOCc1nnc(N2C[C@@H](F)[C@@H](c3ccccc3)C2)n1CC...  \n",
       "552866  (CCOC(=O)C(NC(=S)Nc1ccccc1OC(F)(F)F)C(=O)OCC, ...  \n",
       "552867  (CCCOc1ccc(CNCc2c(F)cccc2Br)cc1, CCCOc1ccc(CNC...  \n",
       "\n",
       "[157485 rows x 8 columns]"
      ]
     },
     "execution_count": 28,
     "metadata": {},
     "output_type": "execute_result"
    }
   ],
   "source": [
    "df2[(df2.rewards>0.5) & (df2.sim.between(0.3, 0.9))]"
   ]
  },
  {
   "cell_type": "code",
   "execution_count": null,
   "metadata": {},
   "outputs": [],
   "source": []
  },
  {
   "cell_type": "code",
   "execution_count": 29,
   "metadata": {},
   "outputs": [],
   "source": [
    "# agent.update_dataset_from_inputs(df2[df2.rewards>0.4].samples.values)\n",
    "agent.update_dataset_from_inputs(df2[(df2.rewards>0.5) & (df2.sim.between(0.3, 0.9))].samples.values)"
   ]
  },
  {
   "cell_type": "code",
   "execution_count": 30,
   "metadata": {},
   "outputs": [
    {
     "data": {
      "text/html": [
       "<table border=\"1\" class=\"dataframe\">\n",
       "  <thead>\n",
       "    <tr style=\"text-align: left;\">\n",
       "      <th>Epoch</th>\n",
       "      <th>Train Loss</th>\n",
       "      <th>Valid  Loss</th>\n",
       "      <th>Time</th>\n",
       "    </tr>\n",
       "  </thead>\n",
       "  <tbody>\n",
       "    <tr>\n",
       "      <td>0</td>\n",
       "      <td>0.13586</td>\n",
       "      <td>0.12640</td>\n",
       "      <td>03:28</td>\n",
       "    </tr>\n",
       "  </tbody>\n",
       "</table>"
      ],
      "text/plain": [
       "<IPython.core.display.HTML object>"
      ]
     },
     "metadata": {},
     "output_type": "display_data"
    }
   ],
   "source": [
    "agent.train_supervised(256, 1, 5e-5)"
   ]
  },
  {
   "cell_type": "code",
   "execution_count": 31,
   "metadata": {},
   "outputs": [
    {
     "data": {
      "text/plain": [
       "<All keys matched successfully>"
      ]
     },
     "execution_count": 31,
     "metadata": {},
     "output_type": "execute_result"
    }
   ],
   "source": [
    "agent.base_model.load_state_dict(agent.model.state_dict())"
   ]
  },
  {
   "cell_type": "code",
   "execution_count": null,
   "metadata": {},
   "outputs": [],
   "source": []
  },
  {
   "cell_type": "code",
   "execution_count": null,
   "metadata": {},
   "outputs": [],
   "source": []
  },
  {
   "cell_type": "code",
   "execution_count": 21,
   "metadata": {},
   "outputs": [
    {
     "data": {
      "text/html": [
       "<table border=\"1\" class=\"dataframe\">\n",
       "  <thead>\n",
       "    <tr style=\"text-align: left;\">\n",
       "      <th>iterations</th>\n",
       "      <th>rewards</th>\n",
       "      <th>valid</th>\n",
       "      <th>diversity</th>\n",
       "      <th>template</th>\n",
       "      <th>template_temp</th>\n",
       "      <th>template_sim</th>\n",
       "      <th>pg</th>\n",
       "    </tr>\n",
       "  </thead>\n",
       "  <tbody>\n",
       "    <tr>\n",
       "      <td>0</td>\n",
       "      <td>0.039</td>\n",
       "      <td>1.000</td>\n",
       "      <td>1.000</td>\n",
       "      <td>0.039</td>\n",
       "      <td>-0.011</td>\n",
       "      <td>0.050</td>\n",
       "      <td>-0.019</td>\n",
       "    </tr>\n",
       "    <tr>\n",
       "      <td>5</td>\n",
       "      <td>0.042</td>\n",
       "      <td>1.000</td>\n",
       "      <td>1.000</td>\n",
       "      <td>0.042</td>\n",
       "      <td>-0.008</td>\n",
       "      <td>0.050</td>\n",
       "      <td>-0.002</td>\n",
       "    </tr>\n",
       "  </tbody>\n",
       "</table>"
      ],
      "text/plain": [
       "<IPython.core.display.HTML object>"
      ]
     },
     "metadata": {},
     "output_type": "display_data"
    },
    {
     "name": "stdout",
     "output_type": "stream",
     "text": [
      "CPU times: user 38 s, sys: 8.62 s, total: 46.6 s\n",
      "Wall time: 1min 10s\n"
     ]
    }
   ],
   "source": [
    "%%time\n",
    "env.fit(bs, 90, 10, 5)"
   ]
  },
  {
   "cell_type": "code",
   "execution_count": null,
   "metadata": {},
   "outputs": [],
   "source": []
  },
  {
   "cell_type": "code",
   "execution_count": 32,
   "metadata": {
    "scrolled": true
   },
   "outputs": [
    {
     "data": {
      "text/html": [
       "<table border=\"1\" class=\"dataframe\">\n",
       "  <thead>\n",
       "    <tr style=\"text-align: left;\">\n",
       "      <th>iterations</th>\n",
       "      <th>rewards</th>\n",
       "      <th>template</th>\n",
       "      <th>template_temp</th>\n",
       "      <th>template_sim</th>\n",
       "      <th>diversity</th>\n",
       "      <th>valid</th>\n",
       "      <th>bs</th>\n",
       "      <th>pg</th>\n",
       "    </tr>\n",
       "  </thead>\n",
       "  <tbody>\n",
       "    <tr>\n",
       "      <td>0</td>\n",
       "      <td>-0.366</td>\n",
       "      <td>-0.366</td>\n",
       "      <td>0.297</td>\n",
       "      <td>-0.664</td>\n",
       "      <td>1.000</td>\n",
       "      <td>1.000</td>\n",
       "      <td>256</td>\n",
       "      <td>0.321</td>\n",
       "    </tr>\n",
       "    <tr>\n",
       "      <td>5</td>\n",
       "      <td>-0.254</td>\n",
       "      <td>-0.254</td>\n",
       "      <td>0.328</td>\n",
       "      <td>-0.582</td>\n",
       "      <td>1.000</td>\n",
       "      <td>1.000</td>\n",
       "      <td>256</td>\n",
       "      <td>0.230</td>\n",
       "    </tr>\n",
       "    <tr>\n",
       "      <td>10</td>\n",
       "      <td>-0.316</td>\n",
       "      <td>-0.316</td>\n",
       "      <td>0.266</td>\n",
       "      <td>-0.582</td>\n",
       "      <td>1.000</td>\n",
       "      <td>1.000</td>\n",
       "      <td>256</td>\n",
       "      <td>0.231</td>\n",
       "    </tr>\n",
       "    <tr>\n",
       "      <td>15</td>\n",
       "      <td>-0.367</td>\n",
       "      <td>-0.367</td>\n",
       "      <td>0.268</td>\n",
       "      <td>-0.635</td>\n",
       "      <td>1.000</td>\n",
       "      <td>1.000</td>\n",
       "      <td>256</td>\n",
       "      <td>0.238</td>\n",
       "    </tr>\n",
       "    <tr>\n",
       "      <td>20</td>\n",
       "      <td>-0.341</td>\n",
       "      <td>-0.341</td>\n",
       "      <td>0.278</td>\n",
       "      <td>-0.619</td>\n",
       "      <td>1.000</td>\n",
       "      <td>1.000</td>\n",
       "      <td>256</td>\n",
       "      <td>0.133</td>\n",
       "    </tr>\n",
       "    <tr>\n",
       "      <td>25</td>\n",
       "      <td>-0.289</td>\n",
       "      <td>-0.289</td>\n",
       "      <td>0.272</td>\n",
       "      <td>-0.561</td>\n",
       "      <td>1.000</td>\n",
       "      <td>1.000</td>\n",
       "      <td>256</td>\n",
       "      <td>0.222</td>\n",
       "    </tr>\n",
       "    <tr>\n",
       "      <td>30</td>\n",
       "      <td>-0.324</td>\n",
       "      <td>-0.324</td>\n",
       "      <td>0.282</td>\n",
       "      <td>-0.606</td>\n",
       "      <td>1.000</td>\n",
       "      <td>1.000</td>\n",
       "      <td>256</td>\n",
       "      <td>0.121</td>\n",
       "    </tr>\n",
       "    <tr>\n",
       "      <td>35</td>\n",
       "      <td>-0.335</td>\n",
       "      <td>-0.335</td>\n",
       "      <td>0.279</td>\n",
       "      <td>-0.614</td>\n",
       "      <td>1.000</td>\n",
       "      <td>1.000</td>\n",
       "      <td>256</td>\n",
       "      <td>0.236</td>\n",
       "    </tr>\n",
       "    <tr>\n",
       "      <td>40</td>\n",
       "      <td>-0.260</td>\n",
       "      <td>-0.260</td>\n",
       "      <td>0.280</td>\n",
       "      <td>-0.541</td>\n",
       "      <td>1.000</td>\n",
       "      <td>1.000</td>\n",
       "      <td>256</td>\n",
       "      <td>0.123</td>\n",
       "    </tr>\n",
       "    <tr>\n",
       "      <td>45</td>\n",
       "      <td>-0.303</td>\n",
       "      <td>-0.303</td>\n",
       "      <td>0.283</td>\n",
       "      <td>-0.586</td>\n",
       "      <td>1.000</td>\n",
       "      <td>1.000</td>\n",
       "      <td>256</td>\n",
       "      <td>0.158</td>\n",
       "    </tr>\n",
       "    <tr>\n",
       "      <td>50</td>\n",
       "      <td>-0.249</td>\n",
       "      <td>-0.249</td>\n",
       "      <td>0.276</td>\n",
       "      <td>-0.524</td>\n",
       "      <td>1.000</td>\n",
       "      <td>1.000</td>\n",
       "      <td>256</td>\n",
       "      <td>0.153</td>\n",
       "    </tr>\n",
       "    <tr>\n",
       "      <td>55</td>\n",
       "      <td>-0.230</td>\n",
       "      <td>-0.230</td>\n",
       "      <td>0.286</td>\n",
       "      <td>-0.516</td>\n",
       "      <td>1.000</td>\n",
       "      <td>1.000</td>\n",
       "      <td>256</td>\n",
       "      <td>0.128</td>\n",
       "    </tr>\n",
       "    <tr>\n",
       "      <td>60</td>\n",
       "      <td>-0.283</td>\n",
       "      <td>-0.283</td>\n",
       "      <td>0.282</td>\n",
       "      <td>-0.565</td>\n",
       "      <td>1.000</td>\n",
       "      <td>1.000</td>\n",
       "      <td>256</td>\n",
       "      <td>0.166</td>\n",
       "    </tr>\n",
       "    <tr>\n",
       "      <td>65</td>\n",
       "      <td>-0.253</td>\n",
       "      <td>-0.253</td>\n",
       "      <td>0.287</td>\n",
       "      <td>-0.541</td>\n",
       "      <td>1.000</td>\n",
       "      <td>1.000</td>\n",
       "      <td>256</td>\n",
       "      <td>0.160</td>\n",
       "    </tr>\n",
       "    <tr>\n",
       "      <td>70</td>\n",
       "      <td>-0.289</td>\n",
       "      <td>-0.289</td>\n",
       "      <td>0.272</td>\n",
       "      <td>-0.561</td>\n",
       "      <td>1.000</td>\n",
       "      <td>1.000</td>\n",
       "      <td>256</td>\n",
       "      <td>0.168</td>\n",
       "    </tr>\n",
       "    <tr>\n",
       "      <td>75</td>\n",
       "      <td>-0.221</td>\n",
       "      <td>-0.221</td>\n",
       "      <td>0.295</td>\n",
       "      <td>-0.516</td>\n",
       "      <td>1.000</td>\n",
       "      <td>1.000</td>\n",
       "      <td>256</td>\n",
       "      <td>0.180</td>\n",
       "    </tr>\n",
       "    <tr>\n",
       "      <td>80</td>\n",
       "      <td>-0.244</td>\n",
       "      <td>-0.244</td>\n",
       "      <td>0.292</td>\n",
       "      <td>-0.537</td>\n",
       "      <td>1.000</td>\n",
       "      <td>1.000</td>\n",
       "      <td>256</td>\n",
       "      <td>0.175</td>\n",
       "    </tr>\n",
       "    <tr>\n",
       "      <td>85</td>\n",
       "      <td>-0.207</td>\n",
       "      <td>-0.207</td>\n",
       "      <td>0.272</td>\n",
       "      <td>-0.479</td>\n",
       "      <td>1.000</td>\n",
       "      <td>1.000</td>\n",
       "      <td>256</td>\n",
       "      <td>0.157</td>\n",
       "    </tr>\n",
       "    <tr>\n",
       "      <td>90</td>\n",
       "      <td>-0.233</td>\n",
       "      <td>-0.233</td>\n",
       "      <td>0.295</td>\n",
       "      <td>-0.528</td>\n",
       "      <td>1.000</td>\n",
       "      <td>1.000</td>\n",
       "      <td>256</td>\n",
       "      <td>0.138</td>\n",
       "    </tr>\n",
       "    <tr>\n",
       "      <td>95</td>\n",
       "      <td>-0.251</td>\n",
       "      <td>-0.251</td>\n",
       "      <td>0.273</td>\n",
       "      <td>-0.524</td>\n",
       "      <td>1.000</td>\n",
       "      <td>1.000</td>\n",
       "      <td>256</td>\n",
       "      <td>0.266</td>\n",
       "    </tr>\n",
       "  </tbody>\n",
       "</table>"
      ],
      "text/plain": [
       "<IPython.core.display.HTML object>"
      ]
     },
     "metadata": {},
     "output_type": "display_data"
    },
    {
     "name": "stdout",
     "output_type": "stream",
     "text": [
      "CPU times: user 4min 51s, sys: 191 ms, total: 4min 51s\n",
      "Wall time: 4min 51s\n"
     ]
    }
   ],
   "source": [
    "%%time\n",
    "env.fit(bs, 90, 100, 5)"
   ]
  },
  {
   "cell_type": "code",
   "execution_count": 37,
   "metadata": {
    "scrolled": true
   },
   "outputs": [
    {
     "data": {
      "text/html": [
       "<table border=\"1\" class=\"dataframe\">\n",
       "  <thead>\n",
       "    <tr style=\"text-align: left;\">\n",
       "      <th>iterations</th>\n",
       "      <th>rewards</th>\n",
       "      <th>template</th>\n",
       "      <th>template_temp</th>\n",
       "      <th>template_sim</th>\n",
       "      <th>diversity</th>\n",
       "      <th>valid</th>\n",
       "      <th>bs</th>\n",
       "      <th>pg</th>\n",
       "    </tr>\n",
       "  </thead>\n",
       "  <tbody>\n",
       "    <tr>\n",
       "      <td>100</td>\n",
       "      <td>-0.218</td>\n",
       "      <td>-0.218</td>\n",
       "      <td>0.294</td>\n",
       "      <td>-0.512</td>\n",
       "      <td>1.000</td>\n",
       "      <td>1.000</td>\n",
       "      <td>256</td>\n",
       "      <td>0.137</td>\n",
       "    </tr>\n",
       "    <tr>\n",
       "      <td>105</td>\n",
       "      <td>-0.273</td>\n",
       "      <td>-0.273</td>\n",
       "      <td>0.288</td>\n",
       "      <td>-0.561</td>\n",
       "      <td>1.000</td>\n",
       "      <td>1.000</td>\n",
       "      <td>256</td>\n",
       "      <td>0.164</td>\n",
       "    </tr>\n",
       "    <tr>\n",
       "      <td>110</td>\n",
       "      <td>-0.217</td>\n",
       "      <td>-0.217</td>\n",
       "      <td>0.295</td>\n",
       "      <td>-0.512</td>\n",
       "      <td>1.000</td>\n",
       "      <td>1.000</td>\n",
       "      <td>256</td>\n",
       "      <td>0.401</td>\n",
       "    </tr>\n",
       "    <tr>\n",
       "      <td>115</td>\n",
       "      <td>-0.221</td>\n",
       "      <td>-0.221</td>\n",
       "      <td>0.270</td>\n",
       "      <td>-0.491</td>\n",
       "      <td>1.000</td>\n",
       "      <td>1.000</td>\n",
       "      <td>256</td>\n",
       "      <td>0.111</td>\n",
       "    </tr>\n",
       "    <tr>\n",
       "      <td>120</td>\n",
       "      <td>-0.208</td>\n",
       "      <td>-0.208</td>\n",
       "      <td>0.288</td>\n",
       "      <td>-0.496</td>\n",
       "      <td>1.000</td>\n",
       "      <td>1.000</td>\n",
       "      <td>256</td>\n",
       "      <td>0.188</td>\n",
       "    </tr>\n",
       "    <tr>\n",
       "      <td>125</td>\n",
       "      <td>-0.240</td>\n",
       "      <td>-0.240</td>\n",
       "      <td>0.280</td>\n",
       "      <td>-0.520</td>\n",
       "      <td>1.000</td>\n",
       "      <td>1.000</td>\n",
       "      <td>256</td>\n",
       "      <td>0.560</td>\n",
       "    </tr>\n",
       "    <tr>\n",
       "      <td>130</td>\n",
       "      <td>-0.250</td>\n",
       "      <td>-0.250</td>\n",
       "      <td>0.286</td>\n",
       "      <td>-0.537</td>\n",
       "      <td>1.000</td>\n",
       "      <td>1.000</td>\n",
       "      <td>256</td>\n",
       "      <td>0.195</td>\n",
       "    </tr>\n",
       "    <tr>\n",
       "      <td>135</td>\n",
       "      <td>-0.233</td>\n",
       "      <td>-0.233</td>\n",
       "      <td>0.316</td>\n",
       "      <td>-0.549</td>\n",
       "      <td>1.000</td>\n",
       "      <td>1.000</td>\n",
       "      <td>256</td>\n",
       "      <td>0.122</td>\n",
       "    </tr>\n",
       "    <tr>\n",
       "      <td>140</td>\n",
       "      <td>-0.219</td>\n",
       "      <td>-0.219</td>\n",
       "      <td>0.310</td>\n",
       "      <td>-0.528</td>\n",
       "      <td>1.000</td>\n",
       "      <td>1.000</td>\n",
       "      <td>256</td>\n",
       "      <td>0.224</td>\n",
       "    </tr>\n",
       "    <tr>\n",
       "      <td>145</td>\n",
       "      <td>-0.269</td>\n",
       "      <td>-0.269</td>\n",
       "      <td>0.300</td>\n",
       "      <td>-0.569</td>\n",
       "      <td>1.000</td>\n",
       "      <td>1.000</td>\n",
       "      <td>256</td>\n",
       "      <td>0.119</td>\n",
       "    </tr>\n",
       "    <tr>\n",
       "      <td>150</td>\n",
       "      <td>-0.207</td>\n",
       "      <td>-0.207</td>\n",
       "      <td>0.281</td>\n",
       "      <td>-0.487</td>\n",
       "      <td>1.000</td>\n",
       "      <td>1.000</td>\n",
       "      <td>256</td>\n",
       "      <td>0.160</td>\n",
       "    </tr>\n",
       "    <tr>\n",
       "      <td>155</td>\n",
       "      <td>-0.232</td>\n",
       "      <td>-0.232</td>\n",
       "      <td>0.293</td>\n",
       "      <td>-0.524</td>\n",
       "      <td>1.000</td>\n",
       "      <td>1.000</td>\n",
       "      <td>256</td>\n",
       "      <td>0.300</td>\n",
       "    </tr>\n",
       "    <tr>\n",
       "      <td>160</td>\n",
       "      <td>-0.220</td>\n",
       "      <td>-0.220</td>\n",
       "      <td>0.280</td>\n",
       "      <td>-0.500</td>\n",
       "      <td>1.000</td>\n",
       "      <td>1.000</td>\n",
       "      <td>256</td>\n",
       "      <td>0.299</td>\n",
       "    </tr>\n",
       "    <tr>\n",
       "      <td>165</td>\n",
       "      <td>-0.264</td>\n",
       "      <td>-0.264</td>\n",
       "      <td>0.285</td>\n",
       "      <td>-0.549</td>\n",
       "      <td>1.000</td>\n",
       "      <td>1.000</td>\n",
       "      <td>256</td>\n",
       "      <td>0.160</td>\n",
       "    </tr>\n",
       "    <tr>\n",
       "      <td>170</td>\n",
       "      <td>-0.238</td>\n",
       "      <td>-0.238</td>\n",
       "      <td>0.307</td>\n",
       "      <td>-0.545</td>\n",
       "      <td>1.000</td>\n",
       "      <td>1.000</td>\n",
       "      <td>256</td>\n",
       "      <td>0.119</td>\n",
       "    </tr>\n",
       "    <tr>\n",
       "      <td>175</td>\n",
       "      <td>-0.281</td>\n",
       "      <td>-0.281</td>\n",
       "      <td>0.284</td>\n",
       "      <td>-0.565</td>\n",
       "      <td>1.000</td>\n",
       "      <td>1.000</td>\n",
       "      <td>256</td>\n",
       "      <td>0.144</td>\n",
       "    </tr>\n",
       "    <tr>\n",
       "      <td>180</td>\n",
       "      <td>-0.166</td>\n",
       "      <td>-0.166</td>\n",
       "      <td>0.305</td>\n",
       "      <td>-0.471</td>\n",
       "      <td>1.000</td>\n",
       "      <td>1.000</td>\n",
       "      <td>256</td>\n",
       "      <td>0.141</td>\n",
       "    </tr>\n",
       "    <tr>\n",
       "      <td>185</td>\n",
       "      <td>-0.221</td>\n",
       "      <td>-0.221</td>\n",
       "      <td>0.332</td>\n",
       "      <td>-0.553</td>\n",
       "      <td>1.000</td>\n",
       "      <td>1.000</td>\n",
       "      <td>256</td>\n",
       "      <td>0.142</td>\n",
       "    </tr>\n",
       "    <tr>\n",
       "      <td>190</td>\n",
       "      <td>-0.194</td>\n",
       "      <td>-0.194</td>\n",
       "      <td>0.298</td>\n",
       "      <td>-0.491</td>\n",
       "      <td>1.000</td>\n",
       "      <td>1.000</td>\n",
       "      <td>256</td>\n",
       "      <td>0.153</td>\n",
       "    </tr>\n",
       "    <tr>\n",
       "      <td>195</td>\n",
       "      <td>-0.263</td>\n",
       "      <td>-0.263</td>\n",
       "      <td>0.298</td>\n",
       "      <td>-0.561</td>\n",
       "      <td>1.000</td>\n",
       "      <td>1.000</td>\n",
       "      <td>256</td>\n",
       "      <td>0.218</td>\n",
       "    </tr>\n",
       "    <tr>\n",
       "      <td>200</td>\n",
       "      <td>-0.227</td>\n",
       "      <td>-0.227</td>\n",
       "      <td>0.293</td>\n",
       "      <td>-0.520</td>\n",
       "      <td>1.000</td>\n",
       "      <td>1.000</td>\n",
       "      <td>256</td>\n",
       "      <td>0.130</td>\n",
       "    </tr>\n",
       "    <tr>\n",
       "      <td>205</td>\n",
       "      <td>-0.274</td>\n",
       "      <td>-0.274</td>\n",
       "      <td>0.316</td>\n",
       "      <td>-0.590</td>\n",
       "      <td>1.000</td>\n",
       "      <td>1.000</td>\n",
       "      <td>256</td>\n",
       "      <td>0.198</td>\n",
       "    </tr>\n",
       "    <tr>\n",
       "      <td>210</td>\n",
       "      <td>-0.299</td>\n",
       "      <td>-0.299</td>\n",
       "      <td>0.291</td>\n",
       "      <td>-0.590</td>\n",
       "      <td>1.000</td>\n",
       "      <td>1.000</td>\n",
       "      <td>256</td>\n",
       "      <td>0.207</td>\n",
       "    </tr>\n",
       "    <tr>\n",
       "      <td>215</td>\n",
       "      <td>-0.263</td>\n",
       "      <td>-0.263</td>\n",
       "      <td>0.294</td>\n",
       "      <td>-0.557</td>\n",
       "      <td>1.000</td>\n",
       "      <td>1.000</td>\n",
       "      <td>256</td>\n",
       "      <td>0.159</td>\n",
       "    </tr>\n",
       "    <tr>\n",
       "      <td>220</td>\n",
       "      <td>-0.245</td>\n",
       "      <td>-0.245</td>\n",
       "      <td>0.288</td>\n",
       "      <td>-0.532</td>\n",
       "      <td>1.000</td>\n",
       "      <td>1.000</td>\n",
       "      <td>256</td>\n",
       "      <td>0.128</td>\n",
       "    </tr>\n",
       "    <tr>\n",
       "      <td>225</td>\n",
       "      <td>-0.284</td>\n",
       "      <td>-0.284</td>\n",
       "      <td>0.281</td>\n",
       "      <td>-0.565</td>\n",
       "      <td>1.000</td>\n",
       "      <td>1.000</td>\n",
       "      <td>256</td>\n",
       "      <td>0.178</td>\n",
       "    </tr>\n",
       "    <tr>\n",
       "      <td>230</td>\n",
       "      <td>-0.239</td>\n",
       "      <td>-0.239</td>\n",
       "      <td>0.285</td>\n",
       "      <td>-0.524</td>\n",
       "      <td>1.000</td>\n",
       "      <td>1.000</td>\n",
       "      <td>256</td>\n",
       "      <td>0.343</td>\n",
       "    </tr>\n",
       "    <tr>\n",
       "      <td>235</td>\n",
       "      <td>-0.189</td>\n",
       "      <td>-0.189</td>\n",
       "      <td>0.278</td>\n",
       "      <td>-0.467</td>\n",
       "      <td>1.000</td>\n",
       "      <td>1.000</td>\n",
       "      <td>256</td>\n",
       "      <td>0.202</td>\n",
       "    </tr>\n",
       "    <tr>\n",
       "      <td>240</td>\n",
       "      <td>-0.249</td>\n",
       "      <td>-0.249</td>\n",
       "      <td>0.288</td>\n",
       "      <td>-0.537</td>\n",
       "      <td>1.000</td>\n",
       "      <td>1.000</td>\n",
       "      <td>256</td>\n",
       "      <td>0.127</td>\n",
       "    </tr>\n",
       "    <tr>\n",
       "      <td>245</td>\n",
       "      <td>-0.267</td>\n",
       "      <td>-0.267</td>\n",
       "      <td>0.319</td>\n",
       "      <td>-0.586</td>\n",
       "      <td>1.000</td>\n",
       "      <td>1.000</td>\n",
       "      <td>256</td>\n",
       "      <td>0.191</td>\n",
       "    </tr>\n",
       "    <tr>\n",
       "      <td>250</td>\n",
       "      <td>-0.240</td>\n",
       "      <td>-0.240</td>\n",
       "      <td>0.321</td>\n",
       "      <td>-0.561</td>\n",
       "      <td>1.000</td>\n",
       "      <td>1.000</td>\n",
       "      <td>256</td>\n",
       "      <td>0.130</td>\n",
       "    </tr>\n",
       "    <tr>\n",
       "      <td>255</td>\n",
       "      <td>-0.288</td>\n",
       "      <td>-0.288</td>\n",
       "      <td>0.326</td>\n",
       "      <td>-0.614</td>\n",
       "      <td>1.000</td>\n",
       "      <td>1.000</td>\n",
       "      <td>256</td>\n",
       "      <td>0.133</td>\n",
       "    </tr>\n",
       "    <tr>\n",
       "      <td>260</td>\n",
       "      <td>-0.208</td>\n",
       "      <td>-0.208</td>\n",
       "      <td>0.300</td>\n",
       "      <td>-0.508</td>\n",
       "      <td>1.000</td>\n",
       "      <td>1.000</td>\n",
       "      <td>256</td>\n",
       "      <td>0.189</td>\n",
       "    </tr>\n",
       "    <tr>\n",
       "      <td>265</td>\n",
       "      <td>-0.188</td>\n",
       "      <td>-0.188</td>\n",
       "      <td>0.304</td>\n",
       "      <td>-0.491</td>\n",
       "      <td>1.000</td>\n",
       "      <td>1.000</td>\n",
       "      <td>256</td>\n",
       "      <td>0.165</td>\n",
       "    </tr>\n",
       "    <tr>\n",
       "      <td>270</td>\n",
       "      <td>-0.217</td>\n",
       "      <td>-0.217</td>\n",
       "      <td>0.316</td>\n",
       "      <td>-0.532</td>\n",
       "      <td>1.000</td>\n",
       "      <td>1.000</td>\n",
       "      <td>256</td>\n",
       "      <td>0.184</td>\n",
       "    </tr>\n",
       "    <tr>\n",
       "      <td>275</td>\n",
       "      <td>-0.173</td>\n",
       "      <td>-0.173</td>\n",
       "      <td>0.290</td>\n",
       "      <td>-0.463</td>\n",
       "      <td>1.000</td>\n",
       "      <td>1.000</td>\n",
       "      <td>256</td>\n",
       "      <td>0.149</td>\n",
       "    </tr>\n",
       "    <tr>\n",
       "      <td>280</td>\n",
       "      <td>-0.239</td>\n",
       "      <td>-0.239</td>\n",
       "      <td>0.285</td>\n",
       "      <td>-0.524</td>\n",
       "      <td>1.000</td>\n",
       "      <td>1.000</td>\n",
       "      <td>256</td>\n",
       "      <td>0.386</td>\n",
       "    </tr>\n",
       "    <tr>\n",
       "      <td>285</td>\n",
       "      <td>-0.183</td>\n",
       "      <td>-0.183</td>\n",
       "      <td>0.308</td>\n",
       "      <td>-0.491</td>\n",
       "      <td>1.000</td>\n",
       "      <td>1.000</td>\n",
       "      <td>256</td>\n",
       "      <td>0.170</td>\n",
       "    </tr>\n",
       "    <tr>\n",
       "      <td>290</td>\n",
       "      <td>-0.186</td>\n",
       "      <td>-0.186</td>\n",
       "      <td>0.330</td>\n",
       "      <td>-0.516</td>\n",
       "      <td>1.000</td>\n",
       "      <td>1.000</td>\n",
       "      <td>256</td>\n",
       "      <td>0.138</td>\n",
       "    </tr>\n",
       "    <tr>\n",
       "      <td>295</td>\n",
       "      <td>-0.205</td>\n",
       "      <td>-0.205</td>\n",
       "      <td>0.319</td>\n",
       "      <td>-0.524</td>\n",
       "      <td>1.000</td>\n",
       "      <td>1.000</td>\n",
       "      <td>256</td>\n",
       "      <td>0.139</td>\n",
       "    </tr>\n",
       "    <tr>\n",
       "      <td>300</td>\n",
       "      <td>-0.232</td>\n",
       "      <td>-0.232</td>\n",
       "      <td>0.301</td>\n",
       "      <td>-0.532</td>\n",
       "      <td>1.000</td>\n",
       "      <td>1.000</td>\n",
       "      <td>256</td>\n",
       "      <td>0.179</td>\n",
       "    </tr>\n",
       "    <tr>\n",
       "      <td>305</td>\n",
       "      <td>-0.249</td>\n",
       "      <td>-0.249</td>\n",
       "      <td>0.296</td>\n",
       "      <td>-0.545</td>\n",
       "      <td>1.000</td>\n",
       "      <td>1.000</td>\n",
       "      <td>256</td>\n",
       "      <td>0.170</td>\n",
       "    </tr>\n",
       "    <tr>\n",
       "      <td>310</td>\n",
       "      <td>-0.211</td>\n",
       "      <td>-0.211</td>\n",
       "      <td>0.296</td>\n",
       "      <td>-0.508</td>\n",
       "      <td>1.000</td>\n",
       "      <td>1.000</td>\n",
       "      <td>256</td>\n",
       "      <td>0.277</td>\n",
       "    </tr>\n",
       "    <tr>\n",
       "      <td>315</td>\n",
       "      <td>-0.189</td>\n",
       "      <td>-0.189</td>\n",
       "      <td>0.298</td>\n",
       "      <td>-0.487</td>\n",
       "      <td>1.000</td>\n",
       "      <td>1.000</td>\n",
       "      <td>256</td>\n",
       "      <td>0.148</td>\n",
       "    </tr>\n",
       "    <tr>\n",
       "      <td>320</td>\n",
       "      <td>-0.247</td>\n",
       "      <td>-0.247</td>\n",
       "      <td>0.322</td>\n",
       "      <td>-0.569</td>\n",
       "      <td>1.000</td>\n",
       "      <td>1.000</td>\n",
       "      <td>256</td>\n",
       "      <td>0.139</td>\n",
       "    </tr>\n",
       "    <tr>\n",
       "      <td>325</td>\n",
       "      <td>-0.237</td>\n",
       "      <td>-0.237</td>\n",
       "      <td>0.312</td>\n",
       "      <td>-0.549</td>\n",
       "      <td>1.000</td>\n",
       "      <td>1.000</td>\n",
       "      <td>256</td>\n",
       "      <td>0.226</td>\n",
       "    </tr>\n",
       "    <tr>\n",
       "      <td>330</td>\n",
       "      <td>-0.204</td>\n",
       "      <td>-0.204</td>\n",
       "      <td>0.329</td>\n",
       "      <td>-0.532</td>\n",
       "      <td>1.000</td>\n",
       "      <td>1.000</td>\n",
       "      <td>256</td>\n",
       "      <td>0.212</td>\n",
       "    </tr>\n",
       "    <tr>\n",
       "      <td>335</td>\n",
       "      <td>-0.251</td>\n",
       "      <td>-0.251</td>\n",
       "      <td>0.326</td>\n",
       "      <td>-0.578</td>\n",
       "      <td>1.000</td>\n",
       "      <td>1.000</td>\n",
       "      <td>256</td>\n",
       "      <td>0.168</td>\n",
       "    </tr>\n",
       "    <tr>\n",
       "      <td>340</td>\n",
       "      <td>-0.206</td>\n",
       "      <td>-0.206</td>\n",
       "      <td>0.326</td>\n",
       "      <td>-0.532</td>\n",
       "      <td>1.000</td>\n",
       "      <td>1.000</td>\n",
       "      <td>256</td>\n",
       "      <td>0.149</td>\n",
       "    </tr>\n",
       "    <tr>\n",
       "      <td>345</td>\n",
       "      <td>-0.245</td>\n",
       "      <td>-0.245</td>\n",
       "      <td>0.304</td>\n",
       "      <td>-0.549</td>\n",
       "      <td>1.000</td>\n",
       "      <td>1.000</td>\n",
       "      <td>256</td>\n",
       "      <td>0.142</td>\n",
       "    </tr>\n",
       "    <tr>\n",
       "      <td>350</td>\n",
       "      <td>-0.226</td>\n",
       "      <td>-0.226</td>\n",
       "      <td>0.327</td>\n",
       "      <td>-0.553</td>\n",
       "      <td>1.000</td>\n",
       "      <td>1.000</td>\n",
       "      <td>256</td>\n",
       "      <td>0.352</td>\n",
       "    </tr>\n",
       "    <tr>\n",
       "      <td>355</td>\n",
       "      <td>-0.207</td>\n",
       "      <td>-0.207</td>\n",
       "      <td>0.309</td>\n",
       "      <td>-0.516</td>\n",
       "      <td>1.000</td>\n",
       "      <td>1.000</td>\n",
       "      <td>256</td>\n",
       "      <td>0.152</td>\n",
       "    </tr>\n",
       "    <tr>\n",
       "      <td>360</td>\n",
       "      <td>-0.185</td>\n",
       "      <td>-0.185</td>\n",
       "      <td>0.306</td>\n",
       "      <td>-0.491</td>\n",
       "      <td>1.000</td>\n",
       "      <td>1.000</td>\n",
       "      <td>256</td>\n",
       "      <td>0.222</td>\n",
       "    </tr>\n",
       "    <tr>\n",
       "      <td>365</td>\n",
       "      <td>-0.233</td>\n",
       "      <td>-0.233</td>\n",
       "      <td>0.291</td>\n",
       "      <td>-0.524</td>\n",
       "      <td>1.000</td>\n",
       "      <td>1.000</td>\n",
       "      <td>256</td>\n",
       "      <td>0.798</td>\n",
       "    </tr>\n",
       "    <tr>\n",
       "      <td>370</td>\n",
       "      <td>-0.200</td>\n",
       "      <td>-0.200</td>\n",
       "      <td>0.320</td>\n",
       "      <td>-0.520</td>\n",
       "      <td>1.000</td>\n",
       "      <td>1.000</td>\n",
       "      <td>256</td>\n",
       "      <td>0.213</td>\n",
       "    </tr>\n",
       "    <tr>\n",
       "      <td>375</td>\n",
       "      <td>-0.213</td>\n",
       "      <td>-0.213</td>\n",
       "      <td>0.295</td>\n",
       "      <td>-0.508</td>\n",
       "      <td>1.000</td>\n",
       "      <td>1.000</td>\n",
       "      <td>256</td>\n",
       "      <td>0.177</td>\n",
       "    </tr>\n",
       "    <tr>\n",
       "      <td>380</td>\n",
       "      <td>-0.156</td>\n",
       "      <td>-0.156</td>\n",
       "      <td>0.336</td>\n",
       "      <td>-0.491</td>\n",
       "      <td>1.000</td>\n",
       "      <td>1.000</td>\n",
       "      <td>256</td>\n",
       "      <td>0.138</td>\n",
       "    </tr>\n",
       "    <tr>\n",
       "      <td>385</td>\n",
       "      <td>-0.190</td>\n",
       "      <td>-0.190</td>\n",
       "      <td>0.350</td>\n",
       "      <td>-0.541</td>\n",
       "      <td>1.000</td>\n",
       "      <td>1.000</td>\n",
       "      <td>256</td>\n",
       "      <td>0.169</td>\n",
       "    </tr>\n",
       "    <tr>\n",
       "      <td>390</td>\n",
       "      <td>-0.154</td>\n",
       "      <td>-0.154</td>\n",
       "      <td>0.305</td>\n",
       "      <td>-0.459</td>\n",
       "      <td>1.000</td>\n",
       "      <td>1.000</td>\n",
       "      <td>256</td>\n",
       "      <td>0.173</td>\n",
       "    </tr>\n",
       "    <tr>\n",
       "      <td>395</td>\n",
       "      <td>-0.250</td>\n",
       "      <td>-0.250</td>\n",
       "      <td>0.287</td>\n",
       "      <td>-0.537</td>\n",
       "      <td>1.000</td>\n",
       "      <td>1.000</td>\n",
       "      <td>256</td>\n",
       "      <td>0.154</td>\n",
       "    </tr>\n",
       "  </tbody>\n",
       "</table>"
      ],
      "text/plain": [
       "<IPython.core.display.HTML object>"
      ]
     },
     "metadata": {},
     "output_type": "display_data"
    },
    {
     "name": "stdout",
     "output_type": "stream",
     "text": [
      "CPU times: user 14min 37s, sys: 688 ms, total: 14min 38s\n",
      "Wall time: 14min 37s\n"
     ]
    }
   ],
   "source": [
    "%%time\n",
    "env.fit(bs, 90, 300, 5)"
   ]
  },
  {
   "cell_type": "code",
   "execution_count": 40,
   "metadata": {
    "scrolled": true
   },
   "outputs": [
    {
     "data": {
      "text/html": [
       "<table border=\"1\" class=\"dataframe\">\n",
       "  <thead>\n",
       "    <tr style=\"text-align: left;\">\n",
       "      <th>iterations</th>\n",
       "      <th>rewards</th>\n",
       "      <th>template</th>\n",
       "      <th>template_temp</th>\n",
       "      <th>template_sim</th>\n",
       "      <th>diversity</th>\n",
       "      <th>valid</th>\n",
       "      <th>bs</th>\n",
       "      <th>pg</th>\n",
       "    </tr>\n",
       "  </thead>\n",
       "  <tbody>\n",
       "    <tr>\n",
       "      <td>400</td>\n",
       "      <td>-0.245</td>\n",
       "      <td>-0.245</td>\n",
       "      <td>0.308</td>\n",
       "      <td>-0.553</td>\n",
       "      <td>1.000</td>\n",
       "      <td>1.000</td>\n",
       "      <td>256</td>\n",
       "      <td>0.177</td>\n",
       "    </tr>\n",
       "    <tr>\n",
       "      <td>405</td>\n",
       "      <td>-0.166</td>\n",
       "      <td>-0.166</td>\n",
       "      <td>0.338</td>\n",
       "      <td>-0.504</td>\n",
       "      <td>1.000</td>\n",
       "      <td>1.000</td>\n",
       "      <td>256</td>\n",
       "      <td>0.360</td>\n",
       "    </tr>\n",
       "    <tr>\n",
       "      <td>410</td>\n",
       "      <td>-0.230</td>\n",
       "      <td>-0.230</td>\n",
       "      <td>0.331</td>\n",
       "      <td>-0.561</td>\n",
       "      <td>1.000</td>\n",
       "      <td>1.000</td>\n",
       "      <td>256</td>\n",
       "      <td>0.186</td>\n",
       "    </tr>\n",
       "    <tr>\n",
       "      <td>415</td>\n",
       "      <td>-0.270</td>\n",
       "      <td>-0.270</td>\n",
       "      <td>0.328</td>\n",
       "      <td>-0.598</td>\n",
       "      <td>1.000</td>\n",
       "      <td>1.000</td>\n",
       "      <td>256</td>\n",
       "      <td>0.191</td>\n",
       "    </tr>\n",
       "    <tr>\n",
       "      <td>420</td>\n",
       "      <td>-0.200</td>\n",
       "      <td>-0.200</td>\n",
       "      <td>0.308</td>\n",
       "      <td>-0.508</td>\n",
       "      <td>1.000</td>\n",
       "      <td>1.000</td>\n",
       "      <td>256</td>\n",
       "      <td>0.200</td>\n",
       "    </tr>\n",
       "    <tr>\n",
       "      <td>425</td>\n",
       "      <td>-0.247</td>\n",
       "      <td>-0.247</td>\n",
       "      <td>0.326</td>\n",
       "      <td>-0.573</td>\n",
       "      <td>1.000</td>\n",
       "      <td>1.000</td>\n",
       "      <td>256</td>\n",
       "      <td>0.118</td>\n",
       "    </tr>\n",
       "    <tr>\n",
       "      <td>430</td>\n",
       "      <td>-0.281</td>\n",
       "      <td>-0.281</td>\n",
       "      <td>0.330</td>\n",
       "      <td>-0.610</td>\n",
       "      <td>1.000</td>\n",
       "      <td>1.000</td>\n",
       "      <td>256</td>\n",
       "      <td>0.200</td>\n",
       "    </tr>\n",
       "    <tr>\n",
       "      <td>435</td>\n",
       "      <td>-0.231</td>\n",
       "      <td>-0.231</td>\n",
       "      <td>0.326</td>\n",
       "      <td>-0.557</td>\n",
       "      <td>1.000</td>\n",
       "      <td>1.000</td>\n",
       "      <td>256</td>\n",
       "      <td>0.264</td>\n",
       "    </tr>\n",
       "    <tr>\n",
       "      <td>440</td>\n",
       "      <td>-0.199</td>\n",
       "      <td>-0.199</td>\n",
       "      <td>0.317</td>\n",
       "      <td>-0.516</td>\n",
       "      <td>1.000</td>\n",
       "      <td>1.000</td>\n",
       "      <td>256</td>\n",
       "      <td>0.194</td>\n",
       "    </tr>\n",
       "    <tr>\n",
       "      <td>445</td>\n",
       "      <td>-0.225</td>\n",
       "      <td>-0.225</td>\n",
       "      <td>0.324</td>\n",
       "      <td>-0.549</td>\n",
       "      <td>1.000</td>\n",
       "      <td>1.000</td>\n",
       "      <td>256</td>\n",
       "      <td>1.507</td>\n",
       "    </tr>\n",
       "    <tr>\n",
       "      <td>450</td>\n",
       "      <td>-0.249</td>\n",
       "      <td>-0.249</td>\n",
       "      <td>0.317</td>\n",
       "      <td>-0.565</td>\n",
       "      <td>1.000</td>\n",
       "      <td>1.000</td>\n",
       "      <td>256</td>\n",
       "      <td>0.241</td>\n",
       "    </tr>\n",
       "    <tr>\n",
       "      <td>455</td>\n",
       "      <td>-0.294</td>\n",
       "      <td>-0.294</td>\n",
       "      <td>0.312</td>\n",
       "      <td>-0.606</td>\n",
       "      <td>1.000</td>\n",
       "      <td>1.000</td>\n",
       "      <td>256</td>\n",
       "      <td>0.157</td>\n",
       "    </tr>\n",
       "    <tr>\n",
       "      <td>460</td>\n",
       "      <td>-0.257</td>\n",
       "      <td>-0.257</td>\n",
       "      <td>0.341</td>\n",
       "      <td>-0.598</td>\n",
       "      <td>1.000</td>\n",
       "      <td>1.000</td>\n",
       "      <td>256</td>\n",
       "      <td>0.147</td>\n",
       "    </tr>\n",
       "    <tr>\n",
       "      <td>465</td>\n",
       "      <td>-0.282</td>\n",
       "      <td>-0.282</td>\n",
       "      <td>0.295</td>\n",
       "      <td>-0.578</td>\n",
       "      <td>1.000</td>\n",
       "      <td>1.000</td>\n",
       "      <td>256</td>\n",
       "      <td>0.479</td>\n",
       "    </tr>\n",
       "    <tr>\n",
       "      <td>470</td>\n",
       "      <td>-0.226</td>\n",
       "      <td>-0.226</td>\n",
       "      <td>0.298</td>\n",
       "      <td>-0.524</td>\n",
       "      <td>1.000</td>\n",
       "      <td>1.000</td>\n",
       "      <td>256</td>\n",
       "      <td>0.191</td>\n",
       "    </tr>\n",
       "    <tr>\n",
       "      <td>475</td>\n",
       "      <td>-0.220</td>\n",
       "      <td>-0.220</td>\n",
       "      <td>0.358</td>\n",
       "      <td>-0.578</td>\n",
       "      <td>1.000</td>\n",
       "      <td>1.000</td>\n",
       "      <td>256</td>\n",
       "      <td>0.546</td>\n",
       "    </tr>\n",
       "    <tr>\n",
       "      <td>480</td>\n",
       "      <td>-0.207</td>\n",
       "      <td>-0.207</td>\n",
       "      <td>0.346</td>\n",
       "      <td>-0.553</td>\n",
       "      <td>1.000</td>\n",
       "      <td>1.000</td>\n",
       "      <td>256</td>\n",
       "      <td>0.147</td>\n",
       "    </tr>\n",
       "    <tr>\n",
       "      <td>485</td>\n",
       "      <td>-0.297</td>\n",
       "      <td>-0.297</td>\n",
       "      <td>0.326</td>\n",
       "      <td>-0.623</td>\n",
       "      <td>1.000</td>\n",
       "      <td>1.000</td>\n",
       "      <td>256</td>\n",
       "      <td>0.170</td>\n",
       "    </tr>\n",
       "    <tr>\n",
       "      <td>490</td>\n",
       "      <td>-0.250</td>\n",
       "      <td>-0.250</td>\n",
       "      <td>0.319</td>\n",
       "      <td>-0.569</td>\n",
       "      <td>1.000</td>\n",
       "      <td>1.000</td>\n",
       "      <td>256</td>\n",
       "      <td>0.163</td>\n",
       "    </tr>\n",
       "    <tr>\n",
       "      <td>495</td>\n",
       "      <td>-0.215</td>\n",
       "      <td>-0.215</td>\n",
       "      <td>0.317</td>\n",
       "      <td>-0.532</td>\n",
       "      <td>1.000</td>\n",
       "      <td>1.000</td>\n",
       "      <td>256</td>\n",
       "      <td>0.131</td>\n",
       "    </tr>\n",
       "    <tr>\n",
       "      <td>500</td>\n",
       "      <td>-0.218</td>\n",
       "      <td>-0.218</td>\n",
       "      <td>0.323</td>\n",
       "      <td>-0.541</td>\n",
       "      <td>1.000</td>\n",
       "      <td>1.000</td>\n",
       "      <td>256</td>\n",
       "      <td>0.159</td>\n",
       "    </tr>\n",
       "    <tr>\n",
       "      <td>505</td>\n",
       "      <td>-0.266</td>\n",
       "      <td>-0.266</td>\n",
       "      <td>0.303</td>\n",
       "      <td>-0.569</td>\n",
       "      <td>1.000</td>\n",
       "      <td>1.000</td>\n",
       "      <td>256</td>\n",
       "      <td>0.176</td>\n",
       "    </tr>\n",
       "    <tr>\n",
       "      <td>510</td>\n",
       "      <td>-0.276</td>\n",
       "      <td>-0.276</td>\n",
       "      <td>0.351</td>\n",
       "      <td>-0.627</td>\n",
       "      <td>1.000</td>\n",
       "      <td>1.000</td>\n",
       "      <td>256</td>\n",
       "      <td>0.239</td>\n",
       "    </tr>\n",
       "    <tr>\n",
       "      <td>515</td>\n",
       "      <td>-0.265</td>\n",
       "      <td>-0.265</td>\n",
       "      <td>0.317</td>\n",
       "      <td>-0.582</td>\n",
       "      <td>1.000</td>\n",
       "      <td>1.000</td>\n",
       "      <td>256</td>\n",
       "      <td>0.166</td>\n",
       "    </tr>\n",
       "    <tr>\n",
       "      <td>520</td>\n",
       "      <td>-0.224</td>\n",
       "      <td>-0.224</td>\n",
       "      <td>0.321</td>\n",
       "      <td>-0.545</td>\n",
       "      <td>1.000</td>\n",
       "      <td>1.000</td>\n",
       "      <td>256</td>\n",
       "      <td>0.212</td>\n",
       "    </tr>\n",
       "    <tr>\n",
       "      <td>525</td>\n",
       "      <td>-0.312</td>\n",
       "      <td>-0.312</td>\n",
       "      <td>0.347</td>\n",
       "      <td>-0.660</td>\n",
       "      <td>1.000</td>\n",
       "      <td>1.000</td>\n",
       "      <td>256</td>\n",
       "      <td>0.242</td>\n",
       "    </tr>\n",
       "    <tr>\n",
       "      <td>530</td>\n",
       "      <td>-0.271</td>\n",
       "      <td>-0.271</td>\n",
       "      <td>0.319</td>\n",
       "      <td>-0.590</td>\n",
       "      <td>1.000</td>\n",
       "      <td>1.000</td>\n",
       "      <td>256</td>\n",
       "      <td>0.181</td>\n",
       "    </tr>\n",
       "    <tr>\n",
       "      <td>535</td>\n",
       "      <td>-0.234</td>\n",
       "      <td>-0.234</td>\n",
       "      <td>0.303</td>\n",
       "      <td>-0.537</td>\n",
       "      <td>1.000</td>\n",
       "      <td>1.000</td>\n",
       "      <td>256</td>\n",
       "      <td>0.205</td>\n",
       "    </tr>\n",
       "    <tr>\n",
       "      <td>540</td>\n",
       "      <td>-0.234</td>\n",
       "      <td>-0.234</td>\n",
       "      <td>0.327</td>\n",
       "      <td>-0.561</td>\n",
       "      <td>1.000</td>\n",
       "      <td>1.000</td>\n",
       "      <td>256</td>\n",
       "      <td>0.471</td>\n",
       "    </tr>\n",
       "    <tr>\n",
       "      <td>545</td>\n",
       "      <td>-0.200</td>\n",
       "      <td>-0.200</td>\n",
       "      <td>0.369</td>\n",
       "      <td>-0.569</td>\n",
       "      <td>1.000</td>\n",
       "      <td>1.000</td>\n",
       "      <td>256</td>\n",
       "      <td>0.129</td>\n",
       "    </tr>\n",
       "    <tr>\n",
       "      <td>550</td>\n",
       "      <td>-0.323</td>\n",
       "      <td>-0.323</td>\n",
       "      <td>0.340</td>\n",
       "      <td>-0.664</td>\n",
       "      <td>1.000</td>\n",
       "      <td>1.000</td>\n",
       "      <td>256</td>\n",
       "      <td>0.288</td>\n",
       "    </tr>\n",
       "    <tr>\n",
       "      <td>555</td>\n",
       "      <td>-0.235</td>\n",
       "      <td>-0.235</td>\n",
       "      <td>0.343</td>\n",
       "      <td>-0.578</td>\n",
       "      <td>1.000</td>\n",
       "      <td>1.000</td>\n",
       "      <td>256</td>\n",
       "      <td>0.832</td>\n",
       "    </tr>\n",
       "    <tr>\n",
       "      <td>560</td>\n",
       "      <td>-0.278</td>\n",
       "      <td>-0.278</td>\n",
       "      <td>0.348</td>\n",
       "      <td>-0.627</td>\n",
       "      <td>1.000</td>\n",
       "      <td>1.000</td>\n",
       "      <td>256</td>\n",
       "      <td>0.182</td>\n",
       "    </tr>\n",
       "    <tr>\n",
       "      <td>565</td>\n",
       "      <td>-0.268</td>\n",
       "      <td>-0.268</td>\n",
       "      <td>0.354</td>\n",
       "      <td>-0.623</td>\n",
       "      <td>1.000</td>\n",
       "      <td>1.000</td>\n",
       "      <td>256</td>\n",
       "      <td>0.337</td>\n",
       "    </tr>\n",
       "    <tr>\n",
       "      <td>570</td>\n",
       "      <td>-0.211</td>\n",
       "      <td>-0.211</td>\n",
       "      <td>0.313</td>\n",
       "      <td>-0.524</td>\n",
       "      <td>1.000</td>\n",
       "      <td>1.000</td>\n",
       "      <td>256</td>\n",
       "      <td>0.796</td>\n",
       "    </tr>\n",
       "    <tr>\n",
       "      <td>575</td>\n",
       "      <td>-0.232</td>\n",
       "      <td>-0.232</td>\n",
       "      <td>0.350</td>\n",
       "      <td>-0.582</td>\n",
       "      <td>1.000</td>\n",
       "      <td>1.000</td>\n",
       "      <td>256</td>\n",
       "      <td>0.184</td>\n",
       "    </tr>\n",
       "    <tr>\n",
       "      <td>580</td>\n",
       "      <td>-0.231</td>\n",
       "      <td>-0.231</td>\n",
       "      <td>0.326</td>\n",
       "      <td>-0.557</td>\n",
       "      <td>1.000</td>\n",
       "      <td>1.000</td>\n",
       "      <td>256</td>\n",
       "      <td>0.188</td>\n",
       "    </tr>\n",
       "    <tr>\n",
       "      <td>585</td>\n",
       "      <td>-0.208</td>\n",
       "      <td>-0.208</td>\n",
       "      <td>0.341</td>\n",
       "      <td>-0.549</td>\n",
       "      <td>1.000</td>\n",
       "      <td>1.000</td>\n",
       "      <td>256</td>\n",
       "      <td>0.213</td>\n",
       "    </tr>\n",
       "    <tr>\n",
       "      <td>590</td>\n",
       "      <td>-0.233</td>\n",
       "      <td>-0.233</td>\n",
       "      <td>0.340</td>\n",
       "      <td>-0.573</td>\n",
       "      <td>1.000</td>\n",
       "      <td>1.000</td>\n",
       "      <td>256</td>\n",
       "      <td>1.736</td>\n",
       "    </tr>\n",
       "    <tr>\n",
       "      <td>595</td>\n",
       "      <td>-0.247</td>\n",
       "      <td>-0.247</td>\n",
       "      <td>0.330</td>\n",
       "      <td>-0.578</td>\n",
       "      <td>1.000</td>\n",
       "      <td>1.000</td>\n",
       "      <td>256</td>\n",
       "      <td>0.245</td>\n",
       "    </tr>\n",
       "    <tr>\n",
       "      <td>600</td>\n",
       "      <td>-0.257</td>\n",
       "      <td>-0.257</td>\n",
       "      <td>0.333</td>\n",
       "      <td>-0.590</td>\n",
       "      <td>1.000</td>\n",
       "      <td>1.000</td>\n",
       "      <td>256</td>\n",
       "      <td>0.204</td>\n",
       "    </tr>\n",
       "    <tr>\n",
       "      <td>605</td>\n",
       "      <td>-0.218</td>\n",
       "      <td>-0.218</td>\n",
       "      <td>0.330</td>\n",
       "      <td>-0.549</td>\n",
       "      <td>1.000</td>\n",
       "      <td>1.000</td>\n",
       "      <td>256</td>\n",
       "      <td>0.235</td>\n",
       "    </tr>\n",
       "    <tr>\n",
       "      <td>610</td>\n",
       "      <td>-0.262</td>\n",
       "      <td>-0.262</td>\n",
       "      <td>0.332</td>\n",
       "      <td>-0.594</td>\n",
       "      <td>1.000</td>\n",
       "      <td>1.000</td>\n",
       "      <td>256</td>\n",
       "      <td>3.927</td>\n",
       "    </tr>\n",
       "    <tr>\n",
       "      <td>615</td>\n",
       "      <td>-0.252</td>\n",
       "      <td>-0.252</td>\n",
       "      <td>0.325</td>\n",
       "      <td>-0.578</td>\n",
       "      <td>1.000</td>\n",
       "      <td>1.000</td>\n",
       "      <td>256</td>\n",
       "      <td>0.233</td>\n",
       "    </tr>\n",
       "    <tr>\n",
       "      <td>620</td>\n",
       "      <td>-0.272</td>\n",
       "      <td>-0.272</td>\n",
       "      <td>0.334</td>\n",
       "      <td>-0.606</td>\n",
       "      <td>1.000</td>\n",
       "      <td>1.000</td>\n",
       "      <td>256</td>\n",
       "      <td>0.377</td>\n",
       "    </tr>\n",
       "    <tr>\n",
       "      <td>625</td>\n",
       "      <td>-0.297</td>\n",
       "      <td>-0.297</td>\n",
       "      <td>0.329</td>\n",
       "      <td>-0.627</td>\n",
       "      <td>1.000</td>\n",
       "      <td>1.000</td>\n",
       "      <td>256</td>\n",
       "      <td>0.364</td>\n",
       "    </tr>\n",
       "    <tr>\n",
       "      <td>630</td>\n",
       "      <td>-0.286</td>\n",
       "      <td>-0.286</td>\n",
       "      <td>0.349</td>\n",
       "      <td>-0.635</td>\n",
       "      <td>1.000</td>\n",
       "      <td>1.000</td>\n",
       "      <td>256</td>\n",
       "      <td>0.328</td>\n",
       "    </tr>\n",
       "    <tr>\n",
       "      <td>635</td>\n",
       "      <td>-0.316</td>\n",
       "      <td>-0.316</td>\n",
       "      <td>0.323</td>\n",
       "      <td>-0.639</td>\n",
       "      <td>1.000</td>\n",
       "      <td>1.000</td>\n",
       "      <td>256</td>\n",
       "      <td>1.566</td>\n",
       "    </tr>\n",
       "    <tr>\n",
       "      <td>640</td>\n",
       "      <td>-0.265</td>\n",
       "      <td>-0.265</td>\n",
       "      <td>0.350</td>\n",
       "      <td>-0.614</td>\n",
       "      <td>1.000</td>\n",
       "      <td>1.000</td>\n",
       "      <td>256</td>\n",
       "      <td>0.289</td>\n",
       "    </tr>\n",
       "    <tr>\n",
       "      <td>645</td>\n",
       "      <td>-0.256</td>\n",
       "      <td>-0.256</td>\n",
       "      <td>0.317</td>\n",
       "      <td>-0.573</td>\n",
       "      <td>1.000</td>\n",
       "      <td>1.000</td>\n",
       "      <td>256</td>\n",
       "      <td>0.224</td>\n",
       "    </tr>\n",
       "    <tr>\n",
       "      <td>650</td>\n",
       "      <td>-0.314</td>\n",
       "      <td>-0.314</td>\n",
       "      <td>0.292</td>\n",
       "      <td>-0.606</td>\n",
       "      <td>1.000</td>\n",
       "      <td>1.000</td>\n",
       "      <td>256</td>\n",
       "      <td>0.863</td>\n",
       "    </tr>\n",
       "    <tr>\n",
       "      <td>655</td>\n",
       "      <td>-0.295</td>\n",
       "      <td>-0.295</td>\n",
       "      <td>0.361</td>\n",
       "      <td>-0.655</td>\n",
       "      <td>1.000</td>\n",
       "      <td>1.000</td>\n",
       "      <td>256</td>\n",
       "      <td>0.173</td>\n",
       "    </tr>\n",
       "    <tr>\n",
       "      <td>660</td>\n",
       "      <td>-0.221</td>\n",
       "      <td>-0.221</td>\n",
       "      <td>0.344</td>\n",
       "      <td>-0.565</td>\n",
       "      <td>1.000</td>\n",
       "      <td>1.000</td>\n",
       "      <td>256</td>\n",
       "      <td>47.946</td>\n",
       "    </tr>\n",
       "    <tr>\n",
       "      <td>665</td>\n",
       "      <td>-0.246</td>\n",
       "      <td>-0.246</td>\n",
       "      <td>0.336</td>\n",
       "      <td>-0.582</td>\n",
       "      <td>1.000</td>\n",
       "      <td>1.000</td>\n",
       "      <td>256</td>\n",
       "      <td>0.235</td>\n",
       "    </tr>\n",
       "    <tr>\n",
       "      <td>670</td>\n",
       "      <td>-0.238</td>\n",
       "      <td>-0.238</td>\n",
       "      <td>0.327</td>\n",
       "      <td>-0.565</td>\n",
       "      <td>1.000</td>\n",
       "      <td>1.000</td>\n",
       "      <td>256</td>\n",
       "      <td>0.729</td>\n",
       "    </tr>\n",
       "    <tr>\n",
       "      <td>675</td>\n",
       "      <td>-0.312</td>\n",
       "      <td>-0.312</td>\n",
       "      <td>0.347</td>\n",
       "      <td>-0.660</td>\n",
       "      <td>1.000</td>\n",
       "      <td>1.000</td>\n",
       "      <td>256</td>\n",
       "      <td>0.175</td>\n",
       "    </tr>\n",
       "    <tr>\n",
       "      <td>680</td>\n",
       "      <td>-0.229</td>\n",
       "      <td>-0.229</td>\n",
       "      <td>0.348</td>\n",
       "      <td>-0.578</td>\n",
       "      <td>1.000</td>\n",
       "      <td>1.000</td>\n",
       "      <td>256</td>\n",
       "      <td>0.230</td>\n",
       "    </tr>\n",
       "    <tr>\n",
       "      <td>685</td>\n",
       "      <td>-0.238</td>\n",
       "      <td>-0.238</td>\n",
       "      <td>0.339</td>\n",
       "      <td>-0.578</td>\n",
       "      <td>1.000</td>\n",
       "      <td>1.000</td>\n",
       "      <td>256</td>\n",
       "      <td>0.334</td>\n",
       "    </tr>\n",
       "    <tr>\n",
       "      <td>690</td>\n",
       "      <td>-0.267</td>\n",
       "      <td>-0.267</td>\n",
       "      <td>0.336</td>\n",
       "      <td>-0.602</td>\n",
       "      <td>1.000</td>\n",
       "      <td>1.000</td>\n",
       "      <td>256</td>\n",
       "      <td>0.439</td>\n",
       "    </tr>\n",
       "    <tr>\n",
       "      <td>695</td>\n",
       "      <td>-0.235</td>\n",
       "      <td>-0.235</td>\n",
       "      <td>0.343</td>\n",
       "      <td>-0.578</td>\n",
       "      <td>1.000</td>\n",
       "      <td>1.000</td>\n",
       "      <td>256</td>\n",
       "      <td>0.215</td>\n",
       "    </tr>\n",
       "    <tr>\n",
       "      <td>700</td>\n",
       "      <td>-0.218</td>\n",
       "      <td>-0.218</td>\n",
       "      <td>0.348</td>\n",
       "      <td>-0.565</td>\n",
       "      <td>1.000</td>\n",
       "      <td>1.000</td>\n",
       "      <td>256</td>\n",
       "      <td>0.483</td>\n",
       "    </tr>\n",
       "    <tr>\n",
       "      <td>705</td>\n",
       "      <td>-0.251</td>\n",
       "      <td>-0.251</td>\n",
       "      <td>0.335</td>\n",
       "      <td>-0.586</td>\n",
       "      <td>1.000</td>\n",
       "      <td>1.000</td>\n",
       "      <td>256</td>\n",
       "      <td>0.276</td>\n",
       "    </tr>\n",
       "    <tr>\n",
       "      <td>710</td>\n",
       "      <td>-0.248</td>\n",
       "      <td>-0.248</td>\n",
       "      <td>0.329</td>\n",
       "      <td>-0.578</td>\n",
       "      <td>1.000</td>\n",
       "      <td>1.000</td>\n",
       "      <td>256</td>\n",
       "      <td>0.209</td>\n",
       "    </tr>\n",
       "    <tr>\n",
       "      <td>715</td>\n",
       "      <td>-0.314</td>\n",
       "      <td>-0.314</td>\n",
       "      <td>0.350</td>\n",
       "      <td>-0.664</td>\n",
       "      <td>1.000</td>\n",
       "      <td>1.000</td>\n",
       "      <td>256</td>\n",
       "      <td>3.212</td>\n",
       "    </tr>\n",
       "    <tr>\n",
       "      <td>720</td>\n",
       "      <td>-0.206</td>\n",
       "      <td>-0.206</td>\n",
       "      <td>0.355</td>\n",
       "      <td>-0.561</td>\n",
       "      <td>1.000</td>\n",
       "      <td>1.000</td>\n",
       "      <td>256</td>\n",
       "      <td>0.944</td>\n",
       "    </tr>\n",
       "    <tr>\n",
       "      <td>725</td>\n",
       "      <td>-0.311</td>\n",
       "      <td>-0.311</td>\n",
       "      <td>0.336</td>\n",
       "      <td>-0.647</td>\n",
       "      <td>1.000</td>\n",
       "      <td>1.000</td>\n",
       "      <td>256</td>\n",
       "      <td>0.427</td>\n",
       "    </tr>\n",
       "    <tr>\n",
       "      <td>730</td>\n",
       "      <td>-0.264</td>\n",
       "      <td>-0.264</td>\n",
       "      <td>0.351</td>\n",
       "      <td>-0.614</td>\n",
       "      <td>1.000</td>\n",
       "      <td>1.000</td>\n",
       "      <td>256</td>\n",
       "      <td>0.294</td>\n",
       "    </tr>\n",
       "    <tr>\n",
       "      <td>735</td>\n",
       "      <td>-0.311</td>\n",
       "      <td>-0.311</td>\n",
       "      <td>0.353</td>\n",
       "      <td>-0.664</td>\n",
       "      <td>1.000</td>\n",
       "      <td>1.000</td>\n",
       "      <td>256</td>\n",
       "      <td>0.286</td>\n",
       "    </tr>\n",
       "    <tr>\n",
       "      <td>740</td>\n",
       "      <td>-0.318</td>\n",
       "      <td>-0.318</td>\n",
       "      <td>0.341</td>\n",
       "      <td>-0.660</td>\n",
       "      <td>1.000</td>\n",
       "      <td>1.000</td>\n",
       "      <td>256</td>\n",
       "      <td>0.295</td>\n",
       "    </tr>\n",
       "    <tr>\n",
       "      <td>745</td>\n",
       "      <td>-0.339</td>\n",
       "      <td>-0.339</td>\n",
       "      <td>0.325</td>\n",
       "      <td>-0.664</td>\n",
       "      <td>1.000</td>\n",
       "      <td>1.000</td>\n",
       "      <td>256</td>\n",
       "      <td>0.166</td>\n",
       "    </tr>\n",
       "    <tr>\n",
       "      <td>750</td>\n",
       "      <td>-0.316</td>\n",
       "      <td>-0.316</td>\n",
       "      <td>0.335</td>\n",
       "      <td>-0.651</td>\n",
       "      <td>1.000</td>\n",
       "      <td>1.000</td>\n",
       "      <td>256</td>\n",
       "      <td>1.316</td>\n",
       "    </tr>\n",
       "    <tr>\n",
       "      <td>755</td>\n",
       "      <td>-0.268</td>\n",
       "      <td>-0.268</td>\n",
       "      <td>0.346</td>\n",
       "      <td>-0.614</td>\n",
       "      <td>1.000</td>\n",
       "      <td>1.000</td>\n",
       "      <td>256</td>\n",
       "      <td>0.454</td>\n",
       "    </tr>\n",
       "    <tr>\n",
       "      <td>760</td>\n",
       "      <td>-0.277</td>\n",
       "      <td>-0.277</td>\n",
       "      <td>0.325</td>\n",
       "      <td>-0.602</td>\n",
       "      <td>1.000</td>\n",
       "      <td>1.000</td>\n",
       "      <td>256</td>\n",
       "      <td>0.500</td>\n",
       "    </tr>\n",
       "    <tr>\n",
       "      <td>765</td>\n",
       "      <td>-0.273</td>\n",
       "      <td>-0.273</td>\n",
       "      <td>0.337</td>\n",
       "      <td>-0.610</td>\n",
       "      <td>1.000</td>\n",
       "      <td>1.000</td>\n",
       "      <td>256</td>\n",
       "      <td>0.380</td>\n",
       "    </tr>\n",
       "    <tr>\n",
       "      <td>770</td>\n",
       "      <td>-0.231</td>\n",
       "      <td>-0.231</td>\n",
       "      <td>0.334</td>\n",
       "      <td>-0.565</td>\n",
       "      <td>1.000</td>\n",
       "      <td>1.000</td>\n",
       "      <td>256</td>\n",
       "      <td>0.207</td>\n",
       "    </tr>\n",
       "    <tr>\n",
       "      <td>775</td>\n",
       "      <td>-0.271</td>\n",
       "      <td>-0.271</td>\n",
       "      <td>0.323</td>\n",
       "      <td>-0.594</td>\n",
       "      <td>1.000</td>\n",
       "      <td>1.000</td>\n",
       "      <td>256</td>\n",
       "      <td>0.313</td>\n",
       "    </tr>\n",
       "    <tr>\n",
       "      <td>780</td>\n",
       "      <td>-0.303</td>\n",
       "      <td>-0.303</td>\n",
       "      <td>0.348</td>\n",
       "      <td>-0.651</td>\n",
       "      <td>1.000</td>\n",
       "      <td>1.000</td>\n",
       "      <td>256</td>\n",
       "      <td>1.296</td>\n",
       "    </tr>\n",
       "    <tr>\n",
       "      <td>785</td>\n",
       "      <td>-0.275</td>\n",
       "      <td>-0.275</td>\n",
       "      <td>0.352</td>\n",
       "      <td>-0.627</td>\n",
       "      <td>1.000</td>\n",
       "      <td>1.000</td>\n",
       "      <td>256</td>\n",
       "      <td>0.452</td>\n",
       "    </tr>\n",
       "    <tr>\n",
       "      <td>790</td>\n",
       "      <td>-0.290</td>\n",
       "      <td>-0.290</td>\n",
       "      <td>0.324</td>\n",
       "      <td>-0.614</td>\n",
       "      <td>1.000</td>\n",
       "      <td>1.000</td>\n",
       "      <td>256</td>\n",
       "      <td>0.244</td>\n",
       "    </tr>\n",
       "    <tr>\n",
       "      <td>795</td>\n",
       "      <td>-0.237</td>\n",
       "      <td>-0.237</td>\n",
       "      <td>0.332</td>\n",
       "      <td>-0.569</td>\n",
       "      <td>1.000</td>\n",
       "      <td>1.000</td>\n",
       "      <td>256</td>\n",
       "      <td>0.587</td>\n",
       "    </tr>\n",
       "  </tbody>\n",
       "</table>"
      ],
      "text/plain": [
       "<IPython.core.display.HTML object>"
      ]
     },
     "metadata": {},
     "output_type": "display_data"
    },
    {
     "name": "stdout",
     "output_type": "stream",
     "text": [
      "CPU times: user 20min 40s, sys: 860 ms, total: 20min 40s\n",
      "Wall time: 20min 39s\n"
     ]
    }
   ],
   "source": [
    "%%time\n",
    "env.fit(bs, 90, 400, 5)"
   ]
  },
  {
   "cell_type": "code",
   "execution_count": null,
   "metadata": {},
   "outputs": [],
   "source": []
  },
  {
   "cell_type": "code",
   "execution_count": null,
   "metadata": {},
   "outputs": [],
   "source": []
  },
  {
   "cell_type": "code",
   "execution_count": 41,
   "metadata": {},
   "outputs": [
    {
     "data": {
      "image/png": "[encoded data removed]",
      "text/plain": [
       "<Figure size 1152x288 with 4 Axes>"
      ]
     },
     "metadata": {
      "needs_background": "light"
     },
     "output_type": "display_data"
    }
   ],
   "source": [
    "fig, axes = plt.subplots(1, 4, figsize=(16,4))\n",
    "plot_vals = ['rewards', 'template', 'template_temp', 'template_sim']\n",
    "\n",
    "for i, ax in enumerate(axes.flat):\n",
    "    ax.plot(np.stack(env.log.metrics[plot_vals[i]]))\n",
    "    ax.set_title(plot_vals[i])"
   ]
  },
  {
   "cell_type": "code",
   "execution_count": 39,
   "metadata": {},
   "outputs": [
    {
     "data": {
      "image/png": "[encoded data removed]",
      "text/plain": [
       "<Figure size 1152x576 with 6 Axes>"
      ]
     },
     "metadata": {
      "needs_background": "light"
     },
     "output_type": "display_data"
    }
   ],
   "source": [
    "fig, axes = plt.subplots(2, 3, figsize=(16,8))\n",
    "plot_vals = ['build_buffer', 'sample_batch', 'get_model_outputs', \n",
    "             'compute_reward', 'compute_loss', 'after_batch']\n",
    "\n",
    "for i, ax in enumerate(axes.flat):\n",
    "    ax.plot(np.stack(env.log.timelog[plot_vals[i]]))\n",
    "    ax.set_title(plot_vals[i])"
   ]
  },
  {
   "cell_type": "code",
   "execution_count": null,
   "metadata": {},
   "outputs": [],
   "source": []
  },
  {
   "cell_type": "code",
   "execution_count": null,
   "metadata": {},
   "outputs": [],
   "source": []
  },
  {
   "cell_type": "code",
   "execution_count": 35,
   "metadata": {},
   "outputs": [],
   "source": [
    "df3 = log_to_df(env.log.log, ['samples', 'rewards', 'template', 'template_temp',\n",
    "       'template_sim'] )"
   ]
  },
  {
   "cell_type": "code",
   "execution_count": 36,
   "metadata": {},
   "outputs": [
    {
     "data": {
      "text/html": [
       "<div>\n",
       "<style scoped>\n",
       "    .dataframe tbody tr th:only-of-type {\n",
       "        vertical-align: middle;\n",
       "    }\n",
       "\n",
       "    .dataframe tbody tr th {\n",
       "        vertical-align: top;\n",
       "    }\n",
       "\n",
       "    .dataframe thead th {\n",
       "        text-align: right;\n",
       "    }\n",
       "</style>\n",
       "<table border=\"1\" class=\"dataframe\">\n",
       "  <thead>\n",
       "    <tr style=\"text-align: right;\">\n",
       "      <th></th>\n",
       "      <th>batch</th>\n",
       "      <th>samples</th>\n",
       "      <th>rewards</th>\n",
       "      <th>template</th>\n",
       "      <th>template_temp</th>\n",
       "      <th>template_sim</th>\n",
       "    </tr>\n",
       "  </thead>\n",
       "  <tbody>\n",
       "    <tr>\n",
       "      <th>0</th>\n",
       "      <td>0</td>\n",
       "      <td>(CCCN(C(=O)CCN(C)CC)[C@@H]1CCN(Cc2ncc(C)o2)C1,...</td>\n",
       "      <td>0.160937</td>\n",
       "      <td>0.160937</td>\n",
       "      <td>0.110937</td>\n",
       "      <td>0.05</td>\n",
       "    </tr>\n",
       "    <tr>\n",
       "      <th>1</th>\n",
       "      <td>0</td>\n",
       "      <td>(C[C@@H](C(=O)NC1CC1)N1CCN(C(=S)Nc2cccc(Br)c2)...</td>\n",
       "      <td>-0.093381</td>\n",
       "      <td>-0.093381</td>\n",
       "      <td>-0.143381</td>\n",
       "      <td>0.05</td>\n",
       "    </tr>\n",
       "    <tr>\n",
       "      <th>2</th>\n",
       "      <td>0</td>\n",
       "      <td>(CCN(C)C(=O)c1cccc(NC(=O)C(=O)NCc2nc(C3CC3)no2...</td>\n",
       "      <td>0.152756</td>\n",
       "      <td>0.152756</td>\n",
       "      <td>0.102756</td>\n",
       "      <td>0.05</td>\n",
       "    </tr>\n",
       "    <tr>\n",
       "      <th>3</th>\n",
       "      <td>0</td>\n",
       "      <td>(COC(=O)N1CCC(Cn2c(COc3ccc(OC)cc3)nnc2N2C[C@H]...</td>\n",
       "      <td>0.388702</td>\n",
       "      <td>0.388702</td>\n",
       "      <td>0.338702</td>\n",
       "      <td>0.05</td>\n",
       "    </tr>\n",
       "    <tr>\n",
       "      <th>4</th>\n",
       "      <td>0</td>\n",
       "      <td>(Cc1ncncc1C(=O)N[C@@H]1CN(C(=O)[C@H]2CC2(F)F)C...</td>\n",
       "      <td>0.299853</td>\n",
       "      <td>0.299853</td>\n",
       "      <td>0.249853</td>\n",
       "      <td>0.05</td>\n",
       "    </tr>\n",
       "    <tr>\n",
       "      <th>...</th>\n",
       "      <td>...</td>\n",
       "      <td>...</td>\n",
       "      <td>...</td>\n",
       "      <td>...</td>\n",
       "      <td>...</td>\n",
       "      <td>...</td>\n",
       "    </tr>\n",
       "    <tr>\n",
       "      <th>238420</th>\n",
       "      <td>990</td>\n",
       "      <td>(O=C(Nc1ccc(OCc2ccccc2F)cc1)[C@@H]1CCS(=O)(=O)...</td>\n",
       "      <td>0.274791</td>\n",
       "      <td>0.274791</td>\n",
       "      <td>0.224791</td>\n",
       "      <td>0.05</td>\n",
       "    </tr>\n",
       "    <tr>\n",
       "      <th>238421</th>\n",
       "      <td>990</td>\n",
       "      <td>(Cc1ccc([C@H](C)NCc2ccc(OCC(=O)O)c([N+](=O)[O-...</td>\n",
       "      <td>0.388305</td>\n",
       "      <td>0.388305</td>\n",
       "      <td>0.338305</td>\n",
       "      <td>0.05</td>\n",
       "    </tr>\n",
       "    <tr>\n",
       "      <th>238422</th>\n",
       "      <td>990</td>\n",
       "      <td>(CCOCc1nnc(N2C[C@@H](F)[C@@H](c3ccccc3)C2)n1CC...</td>\n",
       "      <td>0.490810</td>\n",
       "      <td>0.490810</td>\n",
       "      <td>0.440810</td>\n",
       "      <td>0.05</td>\n",
       "    </tr>\n",
       "    <tr>\n",
       "      <th>238423</th>\n",
       "      <td>990</td>\n",
       "      <td>(CCOC(=O)C(NC(=S)Nc1ccccc1OC(F)(F)F)C(=O)OCC, ...</td>\n",
       "      <td>0.654704</td>\n",
       "      <td>0.654704</td>\n",
       "      <td>0.604704</td>\n",
       "      <td>0.05</td>\n",
       "    </tr>\n",
       "    <tr>\n",
       "      <th>238424</th>\n",
       "      <td>990</td>\n",
       "      <td>(CCCOc1ccc(CNCc2c(F)cccc2Br)cc1, CCCOc1ccc(CNC...</td>\n",
       "      <td>0.196280</td>\n",
       "      <td>0.196280</td>\n",
       "      <td>0.146280</td>\n",
       "      <td>0.05</td>\n",
       "    </tr>\n",
       "  </tbody>\n",
       "</table>\n",
       "<p>238425 rows × 6 columns</p>\n",
       "</div>"
      ],
      "text/plain": [
       "        batch                                            samples   rewards  \\\n",
       "0           0  (CCCN(C(=O)CCN(C)CC)[C@@H]1CCN(Cc2ncc(C)o2)C1,...  0.160937   \n",
       "1           0  (C[C@@H](C(=O)NC1CC1)N1CCN(C(=S)Nc2cccc(Br)c2)... -0.093381   \n",
       "2           0  (CCN(C)C(=O)c1cccc(NC(=O)C(=O)NCc2nc(C3CC3)no2...  0.152756   \n",
       "3           0  (COC(=O)N1CCC(Cn2c(COc3ccc(OC)cc3)nnc2N2C[C@H]...  0.388702   \n",
       "4           0  (Cc1ncncc1C(=O)N[C@@H]1CN(C(=O)[C@H]2CC2(F)F)C...  0.299853   \n",
       "...       ...                                                ...       ...   \n",
       "238420    990  (O=C(Nc1ccc(OCc2ccccc2F)cc1)[C@@H]1CCS(=O)(=O)...  0.274791   \n",
       "238421    990  (Cc1ccc([C@H](C)NCc2ccc(OCC(=O)O)c([N+](=O)[O-...  0.388305   \n",
       "238422    990  (CCOCc1nnc(N2C[C@@H](F)[C@@H](c3ccccc3)C2)n1CC...  0.490810   \n",
       "238423    990  (CCOC(=O)C(NC(=S)Nc1ccccc1OC(F)(F)F)C(=O)OCC, ...  0.654704   \n",
       "238424    990  (CCCOc1ccc(CNCc2c(F)cccc2Br)cc1, CCCOc1ccc(CNC...  0.196280   \n",
       "\n",
       "        template  template_temp  template_sim  \n",
       "0       0.160937       0.110937          0.05  \n",
       "1      -0.093381      -0.143381          0.05  \n",
       "2       0.152756       0.102756          0.05  \n",
       "3       0.388702       0.338702          0.05  \n",
       "4       0.299853       0.249853          0.05  \n",
       "...          ...            ...           ...  \n",
       "238420  0.274791       0.224791          0.05  \n",
       "238421  0.388305       0.338305          0.05  \n",
       "238422  0.490810       0.440810          0.05  \n",
       "238423  0.654704       0.604704          0.05  \n",
       "238424  0.196280       0.146280          0.05  \n",
       "\n",
       "[238425 rows x 6 columns]"
      ]
     },
     "execution_count": 36,
     "metadata": {},
     "output_type": "execute_result"
    }
   ],
   "source": [
    "df3"
   ]
  },
  {
   "cell_type": "code",
   "execution_count": 39,
   "metadata": {},
   "outputs": [],
   "source": [
    "df3.drop_duplicates(subset='samples', inplace=True)"
   ]
  },
  {
   "cell_type": "code",
   "execution_count": null,
   "metadata": {},
   "outputs": [],
   "source": []
  },
  {
   "cell_type": "code",
   "execution_count": 40,
   "metadata": {},
   "outputs": [],
   "source": [
    "df4 = pd.concat([df2, df3])"
   ]
  },
  {
   "cell_type": "code",
   "execution_count": 42,
   "metadata": {},
   "outputs": [],
   "source": [
    "df4.drop_duplicates(subset='samples', inplace=True)"
   ]
  },
  {
   "cell_type": "code",
   "execution_count": 43,
   "metadata": {},
   "outputs": [
    {
     "data": {
      "text/plain": [
       "(552868, 6)"
      ]
     },
     "execution_count": 43,
     "metadata": {},
     "output_type": "execute_result"
    }
   ],
   "source": [
    "df4.shape"
   ]
  },
  {
   "cell_type": "code",
   "execution_count": 44,
   "metadata": {},
   "outputs": [],
   "source": [
    "df4.to_csv('contrastive_data.csv', index=False)"
   ]
  },
  {
   "cell_type": "code",
   "execution_count": null,
   "metadata": {},
   "outputs": [],
   "source": []
  },
  {
   "cell_type": "code",
   "execution_count": null,
   "metadata": {},
   "outputs": [],
   "source": []
  },
  {
   "cell_type": "code",
   "execution_count": 46,
   "metadata": {},
   "outputs": [],
   "source": [
    "samples = df.sample(n=10000).smiles.values"
   ]
  },
  {
   "cell_type": "code",
   "execution_count": 47,
   "metadata": {},
   "outputs": [],
   "source": [
    "pairs = [(i,'') for i in samples]"
   ]
  },
  {
   "cell_type": "code",
   "execution_count": 92,
   "metadata": {},
   "outputs": [],
   "source": [
    "ds = agent.dataset.new(pairs)"
   ]
  },
  {
   "cell_type": "code",
   "execution_count": 93,
   "metadata": {},
   "outputs": [],
   "source": [
    "dl = ds.dataloader(128, shuffle=False)"
   ]
  },
  {
   "cell_type": "code",
   "execution_count": 94,
   "metadata": {},
   "outputs": [
    {
     "data": {
      "text/plain": [
       "79"
      ]
     },
     "execution_count": 94,
     "metadata": {},
     "output_type": "execute_result"
    }
   ],
   "source": [
    "len(dl)"
   ]
  },
  {
   "cell_type": "code",
   "execution_count": null,
   "metadata": {},
   "outputs": [],
   "source": []
  },
  {
   "cell_type": "code",
   "execution_count": 95,
   "metadata": {},
   "outputs": [],
   "source": [
    "outputs = []\n",
    "for i, batch in enumerate(dl):\n",
    "    batch = to_device(batch)\n",
    "    x,_ = batch\n",
    "    z = agent.model.x_to_latent(x)\n",
    "    z = z.unsqueeze(1).repeat(1,8,1).view(-1,512)\n",
    "    preds, _ = agent.model.sample_no_grad(z.shape[0], 100, z=z)\n",
    "    new_sequences = agent.reconstruct(preds)\n",
    "    outputs.append(new_sequences)"
   ]
  },
  {
   "cell_type": "code",
   "execution_count": null,
   "metadata": {},
   "outputs": [],
   "source": []
  },
  {
   "cell_type": "code",
   "execution_count": 96,
   "metadata": {},
   "outputs": [],
   "source": [
    "outputs = flatten_list_of_lists(outputs)"
   ]
  },
  {
   "cell_type": "code",
   "execution_count": 97,
   "metadata": {},
   "outputs": [
    {
     "data": {
      "text/plain": [
       "80000"
      ]
     },
     "execution_count": 97,
     "metadata": {},
     "output_type": "execute_result"
    }
   ],
   "source": [
    "len(outputs)"
   ]
  },
  {
   "cell_type": "code",
   "execution_count": 98,
   "metadata": {},
   "outputs": [
    {
     "name": "stdout",
     "output_type": "stream",
     "text": [
      "CPU times: user 726 ms, sys: 4.45 s, total: 5.18 s\n",
      "Wall time: 9.63 s\n"
     ]
    }
   ],
   "source": [
    "%%time\n",
    "template.cpus=64\n",
    "output_scores = template.eval_mols(outputs)\n",
    "template.cpus=3"
   ]
  },
  {
   "cell_type": "code",
   "execution_count": 99,
   "metadata": {},
   "outputs": [
    {
     "data": {
      "text/plain": [
       "[1.8136276591513028,\n",
       " 1.7748604670141332,\n",
       " 1.6993642174060333,\n",
       " 1.7209743056349702,\n",
       " 1.767877641551118,\n",
       " 1.8204415692960396,\n",
       " 1.812616927219032,\n",
       " 1.812616927219032,\n",
       " 1.831758982401984,\n",
       " 1.831758982401984]"
      ]
     },
     "execution_count": 99,
     "metadata": {},
     "output_type": "execute_result"
    }
   ],
   "source": [
    "output_scores[:10]"
   ]
  },
  {
   "cell_type": "code",
   "execution_count": 100,
   "metadata": {},
   "outputs": [],
   "source": [
    "outputs = chunk_list(outputs, 8)\n",
    "output_scores = chunk_list(output_scores, 8)"
   ]
  },
  {
   "cell_type": "code",
   "execution_count": 101,
   "metadata": {},
   "outputs": [
    {
     "name": "stdout",
     "output_type": "stream",
     "text": [
      "CPU times: user 117 ms, sys: 2.46 s, total: 2.57 s\n",
      "Wall time: 4.17 s\n"
     ]
    }
   ],
   "source": [
    "%%time\n",
    "template.cpus=32\n",
    "base_scores = template.eval_mols(samples)\n",
    "template.cpus=3"
   ]
  },
  {
   "cell_type": "code",
   "execution_count": 102,
   "metadata": {},
   "outputs": [
    {
     "data": {
      "text/plain": [
       "array([1.82044157, 1.83175898, 1.77916687, ..., 1.7474935 , 1.87203225,\n",
       "       1.86304831])"
      ]
     },
     "execution_count": 102,
     "metadata": {},
     "output_type": "execute_result"
    }
   ],
   "source": [
    "np.array(output_scores).max(-1)"
   ]
  },
  {
   "cell_type": "code",
   "execution_count": 105,
   "metadata": {},
   "outputs": [
    {
     "data": {
      "text/plain": [
       "(0.75, 2.0)"
      ]
     },
     "execution_count": 105,
     "metadata": {},
     "output_type": "execute_result"
    },
    {
     "data": {
      "image/png": "[encoded data removed]",
      "text/plain": [
       "<Figure size 432x288 with 1 Axes>"
      ]
     },
     "metadata": {
      "needs_background": "light"
     },
     "output_type": "display_data"
    }
   ],
   "source": [
    "plt.scatter(base_scores, np.array(output_scores).max(-1), c=np.array(output_scores).max(-1)>np.array(base_scores))\n",
    "plt.ylim(0.75,2)"
   ]
  },
  {
   "cell_type": "code",
   "execution_count": null,
   "metadata": {},
   "outputs": [],
   "source": []
  },
  {
   "cell_type": "code",
   "execution_count": 106,
   "metadata": {},
   "outputs": [
    {
     "data": {
      "text/plain": [
       "(-1.0, 2.0)"
      ]
     },
     "execution_count": 106,
     "metadata": {},
     "output_type": "execute_result"
    },
    {
     "data": {
      "image/png": "[encoded data removed]",
      "text/plain": [
       "<Figure size 432x288 with 1 Axes>"
      ]
     },
     "metadata": {
      "needs_background": "light"
     },
     "output_type": "display_data"
    }
   ],
   "source": [
    "plt.hist((np.array(output_scores).max(-1) - np.array(base_scores))/(2-np.array(base_scores)), density=True, bins=20)\n",
    "plt.xlim(-1,2)"
   ]
  },
  {
   "cell_type": "code",
   "execution_count": 107,
   "metadata": {},
   "outputs": [],
   "source": [
    "rel_score = (np.array(output_scores).max(-1) - np.array(base_scores))/(2-np.array(base_scores))"
   ]
  },
  {
   "cell_type": "code",
   "execution_count": 108,
   "metadata": {},
   "outputs": [
    {
     "data": {
      "text/plain": [
       "14"
      ]
     },
     "execution_count": 108,
     "metadata": {},
     "output_type": "execute_result"
    }
   ],
   "source": [
    "(rel_score>0.85).sum()"
   ]
  },
  {
   "cell_type": "code",
   "execution_count": 109,
   "metadata": {},
   "outputs": [],
   "source": [
    "sims = sf.get_sims(samples, [i[0] for i in outputs])"
   ]
  },
  {
   "cell_type": "code",
   "execution_count": 110,
   "metadata": {},
   "outputs": [
    {
     "data": {
      "image/png": "[encoded data removed]",
      "text/plain": [
       "<Figure size 432x288 with 1 Axes>"
      ]
     },
     "metadata": {
      "needs_background": "light"
     },
     "output_type": "display_data"
    }
   ],
   "source": [
    "plt.hist(sims);"
   ]
  },
  {
   "cell_type": "code",
   "execution_count": 111,
   "metadata": {},
   "outputs": [
    {
     "data": {
      "text/plain": [
       "0.2528"
      ]
     },
     "execution_count": 111,
     "metadata": {},
     "output_type": "execute_result"
    }
   ],
   "source": [
    "(np.array(sims)>0.3).mean()"
   ]
  },
  {
   "cell_type": "code",
   "execution_count": 79,
   "metadata": {},
   "outputs": [],
   "source": [
    "idxs = np.arange(len(rel_score))[(rel_score>0.85)]"
   ]
  },
  {
   "cell_type": "code",
   "execution_count": 80,
   "metadata": {},
   "outputs": [],
   "source": [
    "sources = [samples[i] for i in idxs]\n",
    "targets = [outputs[i] for i in idxs]"
   ]
  },
  {
   "cell_type": "code",
   "execution_count": 83,
   "metadata": {},
   "outputs": [],
   "source": [
    "t_scores = [output_scores[i] for i in idxs]"
   ]
  },
  {
   "cell_type": "code",
   "execution_count": 81,
   "metadata": {},
   "outputs": [
    {
     "data": {
      "text/plain": [
       "['COc1cc([N+](=O)[O-])c(C(=O)OC[C@H]2CCCN(C(=O)OC(C)(C)C)C2)cc1SC',\n",
       " 'CS(=O)(=O)NC[C@H]1CCCN(CN2C(=O)C(=O)N(C34CC5CC(CC(C5)C3)C4)C2=O)C1',\n",
       " 'COc1nc(C(=O)NC[C@H](O)CNCc2cc(-c3nn[nH]n3)ccc2F)co1',\n",
       " 'COc1ccc(C(=O)NCCC[C@H](C)CO)cc1S(=O)(=O)N[C@H]1CCCC[C@@H]1C',\n",
       " 'COc1cc([N+](=O)[O-])c(C(=O)OCc2cnn(-c3ccccc3)c2)cc1SC',\n",
       " 'ON[C@H]1CCNC1',\n",
       " 'O=C(CCO)CNc1cc([N+](=O)[O-])cc[n+]1[O-]',\n",
       " 'COc1cc(CCc2cc(OC)c(OC(=O)[C@H](O)COP(=O)(O)O)c(OC)c2)ccc1O',\n",
       " 'CC(C)(C)NS(=O)(=O)c1ccc(NC(=O)N[C@H]2CCCC[C@@H]2NS(C)(=O)=O)nc1']"
      ]
     },
     "execution_count": 81,
     "metadata": {},
     "output_type": "execute_result"
    }
   ],
   "source": [
    "sources"
   ]
  },
  {
   "cell_type": "code",
   "execution_count": 85,
   "metadata": {},
   "outputs": [
    {
     "data": {
      "text/plain": [
       "1"
      ]
     },
     "execution_count": 85,
     "metadata": {},
     "output_type": "execute_result"
    }
   ],
   "source": [
    "np.array(t_scores[0]).argmax()"
   ]
  },
  {
   "cell_type": "code",
   "execution_count": 86,
   "metadata": {},
   "outputs": [],
   "source": [
    "targets = [targets[i][np.array(t_scores[i]).argmax()] for i in range(len(targets))]"
   ]
  },
  {
   "cell_type": "code",
   "execution_count": null,
   "metadata": {},
   "outputs": [],
   "source": []
  },
  {
   "cell_type": "code",
   "execution_count": null,
   "metadata": {},
   "outputs": [],
   "source": []
  },
  {
   "cell_type": "code",
   "execution_count": 87,
   "metadata": {},
   "outputs": [
    {
     "data": {
      "image/png": "[encoded data removed]",
      "text/plain": [
       "<IPython.core.display.Image object>"
      ]
     },
     "execution_count": 87,
     "metadata": {},
     "output_type": "execute_result"
    }
   ],
   "source": [
    "draw_mols(to_mols(flatten_list_of_lists(zip(sources,targets))), mols_per_row=2)"
   ]
  },
  {
   "cell_type": "code",
   "execution_count": null,
   "metadata": {},
   "outputs": [],
   "source": []
  },
  {
   "cell_type": "code",
   "execution_count": 77,
   "metadata": {},
   "outputs": [
    {
     "data": {
      "text/plain": [
       "<All keys matched successfully>"
      ]
     },
     "execution_count": 77,
     "metadata": {},
     "output_type": "execute_result"
    }
   ],
   "source": [
    "agent.model.load_state_dict(torch.load('../nbs/untracked_files/fp_cond_lstm_lm_zinc.pt'))"
   ]
  },
  {
   "cell_type": "code",
   "execution_count": 79,
   "metadata": {},
   "outputs": [
    {
     "data": {
      "text/plain": [
       "0.3068362772464752"
      ]
     },
     "execution_count": 79,
     "metadata": {},
     "output_type": "execute_result"
    }
   ],
   "source": [
    "np.percentile(log_df.rewards.values, 75)"
   ]
  },
  {
   "cell_type": "code",
   "execution_count": null,
   "metadata": {},
   "outputs": [],
   "source": []
  },
  {
   "cell_type": "code",
   "execution_count": 81,
   "metadata": {},
   "outputs": [],
   "source": [
    "agent.update_dataset_from_inputs(log_df[log_df.rewards>np.percentile(log_df.rewards.values, 75)].samples.values)"
   ]
  },
  {
   "cell_type": "code",
   "execution_count": 82,
   "metadata": {},
   "outputs": [
    {
     "data": {
      "text/html": [
       "<table border=\"1\" class=\"dataframe\">\n",
       "  <thead>\n",
       "    <tr style=\"text-align: left;\">\n",
       "      <th>Epoch</th>\n",
       "      <th>Train Loss</th>\n",
       "      <th>Valid  Loss</th>\n",
       "      <th>Time</th>\n",
       "    </tr>\n",
       "  </thead>\n",
       "  <tbody>\n",
       "    <tr>\n",
       "      <td>0</td>\n",
       "      <td>0.18819</td>\n",
       "      <td>0.23523</td>\n",
       "      <td>02:09</td>\n",
       "    </tr>\n",
       "  </tbody>\n",
       "</table>"
      ],
      "text/plain": [
       "<IPython.core.display.HTML object>"
      ]
     },
     "metadata": {},
     "output_type": "display_data"
    }
   ],
   "source": [
    "agent.train_supervised(64, 1, 1e-5)"
   ]
  },
  {
   "cell_type": "code",
   "execution_count": 136,
   "metadata": {},
   "outputs": [
    {
     "data": {
      "text/html": [
       "<table border=\"1\" class=\"dataframe\">\n",
       "  <thead>\n",
       "    <tr style=\"text-align: left;\">\n",
       "      <th>Epoch</th>\n",
       "      <th>Train Loss</th>\n",
       "      <th>Valid  Loss</th>\n",
       "      <th>Time</th>\n",
       "    </tr>\n",
       "  </thead>\n",
       "  <tbody>\n",
       "    <tr>\n",
       "      <td>0</td>\n",
       "      <td>0.20413</td>\n",
       "      <td>0.29077</td>\n",
       "      <td>01:17</td>\n",
       "    </tr>\n",
       "  </tbody>\n",
       "</table>"
      ],
      "text/plain": [
       "<IPython.core.display.HTML object>"
      ]
     },
     "metadata": {},
     "output_type": "display_data"
    }
   ],
   "source": [
    "agent.update_dataset_from_inputs(log_df[log_df.rewards>np.percentile(log_df.rewards.values, 85)].samples.values)\n",
    "agent.train_supervised(64, 1, 1e-5)"
   ]
  },
  {
   "cell_type": "code",
   "execution_count": null,
   "metadata": {},
   "outputs": [],
   "source": []
  },
  {
   "cell_type": "code",
   "execution_count": null,
   "metadata": {},
   "outputs": [],
   "source": []
  },
  {
   "cell_type": "markdown",
   "metadata": {},
   "source": [
    "big question\n",
    "    should the buffer for contrastive traaining hold tuples\n",
    "    pros - allows for hand designed pairs\n",
    "    cons - complexity\n",
    "    could happen in agent after sample?"
   ]
  },
  {
   "cell_type": "code",
   "execution_count": null,
   "metadata": {},
   "outputs": [],
   "source": []
  },
  {
   "cell_type": "code",
   "execution_count": null,
   "metadata": {},
   "outputs": [],
   "source": []
  },
  {
   "cell_type": "code",
   "execution_count": 100,
   "metadata": {},
   "outputs": [],
   "source": [
    "smile = 'CCC(=O)Nc1ccc(NC(=O)NCCc2cccs2)cc1C'\n",
    "new_ds = ds.new([smile])\n",
    "batch = to_device(new_ds.collate_function([new_ds[i] for i in range(len(new_ds))]))"
   ]
  },
  {
   "cell_type": "code",
   "execution_count": 101,
   "metadata": {},
   "outputs": [],
   "source": [
    "x,y = batch"
   ]
  },
  {
   "cell_type": "code",
   "execution_count": 102,
   "metadata": {},
   "outputs": [
    {
     "data": {
      "text/plain": [
       "[tensor([[ 0, 23, 23, 23,  5, 20, 28,  6, 27, 34, 11, 34, 34, 34,  5, 27, 23,  5,\n",
       "          20, 28,  6, 27, 23, 23, 34, 12, 34, 34, 34, 40, 12,  6, 34, 34, 11, 23,\n",
       "           1]], device='cuda:0'),\n",
       " tensor([[0., 0., 0.,  ..., 0., 0., 0.]], device='cuda:0')]"
      ]
     },
     "execution_count": 102,
     "metadata": {},
     "output_type": "execute_result"
    }
   ],
   "source": [
    "x"
   ]
  },
  {
   "cell_type": "code",
   "execution_count": 103,
   "metadata": {},
   "outputs": [],
   "source": [
    "agent.model.eval();"
   ]
  },
  {
   "cell_type": "code",
   "execution_count": null,
   "metadata": {},
   "outputs": [],
   "source": []
  },
  {
   "cell_type": "code",
   "execution_count": 104,
   "metadata": {},
   "outputs": [],
   "source": [
    "z = agent.model.x_to_latent(x)\n",
    "preds, _ = agent.model.sample_no_grad(200, env.sl, z=z.repeat(200,1), temperature=1.)\n",
    "new_sequences = agent.reconstruct(preds)"
   ]
  },
  {
   "cell_type": "code",
   "execution_count": 105,
   "metadata": {},
   "outputs": [
    {
     "data": {
      "image/png": "[encoded data removed]",
      "text/plain": [
       "<rdkit.Chem.rdchem.Mol at 0x7fe6e631a080>"
      ]
     },
     "execution_count": 105,
     "metadata": {},
     "output_type": "execute_result"
    }
   ],
   "source": [
    "to_mol(smile)"
   ]
  },
  {
   "cell_type": "code",
   "execution_count": 106,
   "metadata": {},
   "outputs": [],
   "source": [
    "m = [i for i in to_mols(new_sequences) if i is not None]"
   ]
  },
  {
   "cell_type": "code",
   "execution_count": null,
   "metadata": {},
   "outputs": [],
   "source": []
  },
  {
   "cell_type": "code",
   "execution_count": 107,
   "metadata": {},
   "outputs": [],
   "source": [
    "agent.model.train();"
   ]
  },
  {
   "cell_type": "code",
   "execution_count": null,
   "metadata": {},
   "outputs": [],
   "source": []
  },
  {
   "cell_type": "code",
   "execution_count": 108,
   "metadata": {},
   "outputs": [
    {
     "data": {
      "text/plain": [
       "(200, 9)"
      ]
     },
     "execution_count": 108,
     "metadata": {},
     "output_type": "execute_result"
    }
   ],
   "source": [
    "len(new_sequences), len(set(new_sequences))"
   ]
  },
  {
   "cell_type": "code",
   "execution_count": 109,
   "metadata": {},
   "outputs": [
    {
     "data": {
      "text/plain": [
       "0.7538950146959063"
      ]
     },
     "execution_count": 109,
     "metadata": {},
     "output_type": "execute_result"
    }
   ],
   "source": [
    "qed(to_mol(smile))"
   ]
  },
  {
   "cell_type": "code",
   "execution_count": 110,
   "metadata": {},
   "outputs": [
    {
     "data": {
      "text/plain": [
       "[0.039273560067691005,\n",
       " 0.1038682273213214,\n",
       " 0.03439136272964527,\n",
       " 0.15344011465687724,\n",
       " 0.003647020980417248,\n",
       " 0.0,\n",
       " 0.009449008441467677,\n",
       " 0.032293207593628304,\n",
       " 0.03439136272964527]"
      ]
     },
     "execution_count": 110,
     "metadata": {},
     "output_type": "execute_result"
    }
   ],
   "source": [
    "[qed(i)-qed(to_mol(smile)) for i in to_mols(list(set(new_sequences)))]"
   ]
  },
  {
   "cell_type": "code",
   "execution_count": 111,
   "metadata": {},
   "outputs": [
    {
     "data": {
      "text/plain": [
       "[-0.07500355029585748,\n",
       " -0.19386410540412946,\n",
       " -0.2970106508875716,\n",
       " -0.09397290315075324,\n",
       " -0.24150254851740627,\n",
       " 0.005634319526627962,\n",
       " -0.11025834309054083,\n",
       " -0.034024489847009676,\n",
       " -0.29594556213017853]"
      ]
     },
     "execution_count": 111,
     "metadata": {},
     "output_type": "execute_result"
    }
   ],
   "source": [
    "[sa_score(i)-sa_score(to_mol(smile)) for i in to_mols(list(set(new_sequences)))]"
   ]
  },
  {
   "cell_type": "code",
   "execution_count": 112,
   "metadata": {},
   "outputs": [
    {
     "data": {
      "text/plain": [
       "array([ 0.04760729,  0.12540868,  0.06739255,  0.16388155,  0.03048064,\n",
       "       -0.00062604,  0.02169994,  0.03607371,  0.0672742 ])"
      ]
     },
     "execution_count": 112,
     "metadata": {},
     "output_type": "execute_result"
    }
   ],
   "source": [
    "np.array(template(list(set(new_sequences)), filter_type='soft')) - template(smile, filter_type='soft')"
   ]
  },
  {
   "cell_type": "code",
   "execution_count": null,
   "metadata": {},
   "outputs": [],
   "source": []
  },
  {
   "cell_type": "code",
   "execution_count": 113,
   "metadata": {},
   "outputs": [
    {
     "data": {
      "image/png": "[encoded data removed]",
      "text/plain": [
       "<IPython.core.display.Image object>"
      ]
     },
     "execution_count": 113,
     "metadata": {},
     "output_type": "execute_result"
    }
   ],
   "source": [
    "draw_mols(to_mols(list(set(new_sequences))))"
   ]
  },
  {
   "cell_type": "code",
   "execution_count": null,
   "metadata": {},
   "outputs": [],
   "source": []
  },
  {
   "cell_type": "code",
   "execution_count": null,
   "metadata": {},
   "outputs": [],
   "source": []
  },
  {
   "cell_type": "code",
   "execution_count": null,
   "metadata": {},
   "outputs": [],
   "source": [
    "results = []\n",
    "\n",
    "for b, batch in enumerate(smiles_batches):\n",
    "    if b%10==0:\n",
    "        print(b)\n",
    "    data = flatten_list_of_lists([[i]*8 for i in batch])\n",
    "    pred_ds = ds.new(data)\n",
    "    batch = pred_ds.collate_function([pred_ds[i] for i in range(len(pred_ds))])\n",
    "    x,y = batch\n",
    "    x, cond = x\n",
    "    with torch.no_grad():\n",
    "        z = agent.model.to_latent(cond)\n",
    "        preds, _ = agent.model.sample_no_grad(z.shape[0], 90, z=z, multinomial=True)\n",
    "        outsmiles = agent.reconstruct(preds)\n",
    "    \n",
    "    results.append([data, outsmiles])"
   ]
  },
  {
   "cell_type": "code",
   "execution_count": null,
   "metadata": {},
   "outputs": [],
   "source": []
  },
  {
   "cell_type": "code",
   "execution_count": null,
   "metadata": {},
   "outputs": [],
   "source": []
  },
  {
   "cell_type": "code",
   "execution_count": null,
   "metadata": {},
   "outputs": [],
   "source": []
  }
 ],
 "metadata": {
  "kernelspec": {
   "display_name": "Python (mrl)",
   "language": "python",
   "name": "mrl"
  },
  "language_info": {
   "codemirror_mode": {
    "name": "ipython",
    "version": 3
   },
   "file_extension": ".py",
   "mimetype": "text/x-python",
   "name": "python",
   "nbconvert_exporter": "python",
   "pygments_lexer": "ipython3",
   "version": "3.6.13"
  }
 },
 "nbformat": 4,
 "nbformat_minor": 4
}
