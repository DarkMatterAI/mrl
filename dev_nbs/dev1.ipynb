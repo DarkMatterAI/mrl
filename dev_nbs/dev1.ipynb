{
 "cells": [
  {
   "cell_type": "code",
   "execution_count": null,
   "metadata": {},
   "outputs": [],
   "source": [
    "import sys\n",
    "sys.path.append('/Users/karl/mrl/')"
   ]
  },
  {
   "cell_type": "code",
   "execution_count": null,
   "metadata": {},
   "outputs": [
    {
     "name": "stderr",
     "output_type": "stream",
     "text": [
      "//anaconda3/envs/mrl/lib/python3.6/importlib/_bootstrap.py:219: RuntimeWarning: to-Python converter for boost::shared_ptr<RDKit::FilterCatalogEntry const> already registered; second conversion method ignored.\n",
      "  return f(*args, **kwds)\n"
     ]
    }
   ],
   "source": [
    "from mrl.imports import *\n",
    "from mrl.core import *\n",
    "from mrl.chem import *\n",
    "from mrl.templates import *"
   ]
  },
  {
   "cell_type": "code",
   "execution_count": null,
   "metadata": {},
   "outputs": [],
   "source": [
    "from mrl.torch_imports import *\n",
    "from mrl.torch_core import *\n",
    "from mrl.layers import *\n",
    "from mrl.dataloaders import *"
   ]
  },
  {
   "cell_type": "code",
   "execution_count": null,
   "metadata": {},
   "outputs": [],
   "source": [
    "from torch.distributions import Normal"
   ]
  },
  {
   "cell_type": "code",
   "execution_count": null,
   "metadata": {},
   "outputs": [],
   "source": []
  },
  {
   "cell_type": "code",
   "execution_count": null,
   "metadata": {},
   "outputs": [],
   "source": [
    "from torch.distributions import VonMises"
   ]
  },
  {
   "cell_type": "code",
   "execution_count": null,
   "metadata": {},
   "outputs": [],
   "source": []
  },
  {
   "cell_type": "code",
   "execution_count": null,
   "metadata": {},
   "outputs": [],
   "source": [
    "d = VonMises(torch.tensor([0., 0.]), torch.tensor([1.0, 1.0]))"
   ]
  },
  {
   "cell_type": "code",
   "execution_count": null,
   "metadata": {},
   "outputs": [],
   "source": [
    "t = d.sample([50])"
   ]
  },
  {
   "cell_type": "code",
   "execution_count": null,
   "metadata": {},
   "outputs": [
    {
     "data": {
      "text/plain": [
       "<matplotlib.collections.PathCollection at 0x12f661400>"
      ]
     },
     "execution_count": null,
     "metadata": {},
     "output_type": "execute_result"
    },
    {
     "data": {
      "image/png": "[encoded data removed]",
      "text/plain": [
       "<Figure size 432x288 with 1 Axes>"
      ]
     },
     "metadata": {
      "needs_background": "light"
     },
     "output_type": "display_data"
    }
   ],
   "source": [
    "plt.scatter(t[:,0], t[:,1])"
   ]
  },
  {
   "cell_type": "code",
   "execution_count": null,
   "metadata": {},
   "outputs": [],
   "source": [
    "    res = (torch.sin((1.0-val)*omega)/so).unsqueeze(1)*low + (torch.sin(val*omega)/so).unsqueeze(1) * high\n"
   ]
  },
  {
   "cell_type": "code",
   "execution_count": null,
   "metadata": {},
   "outputs": [],
   "source": []
  },
  {
   "cell_type": "code",
   "execution_count": null,
   "metadata": {},
   "outputs": [],
   "source": [
    "class SphericalDistribution(torch.distributions.Distribution):\n",
    "    def __init__(self, loc, scale, validate_args=False):\n",
    "        super().__init__(loc.shape[0], validate_args=validate_args)\n",
    "        self.dim = loc.shape[0]\n",
    "        self.loc = loc\n",
    "        self.scale = scale\n",
    "        self.dist = Normal(self.loc, self.scale)\n",
    "        \n",
    "    def sample(self, n):\n",
    "        s = self.dist.sample(n)\n",
    "        s = F.normalize(s, p=2, dim=-1)\n",
    "        return s\n",
    "    \n",
    "    def rsample(self, n):\n",
    "        s = self.dist.rsample(n)\n",
    "        s = F.normalize(s, p=2, dim=-1)\n",
    "        return s"
   ]
  },
  {
   "cell_type": "code",
   "execution_count": null,
   "metadata": {},
   "outputs": [],
   "source": [
    "d = SphericalDistribution(torch.tensor([5., 5.]), torch.ones((1,)))"
   ]
  },
  {
   "cell_type": "code",
   "execution_count": null,
   "metadata": {},
   "outputs": [
    {
     "data": {
      "text/plain": [
       "<matplotlib.collections.PathCollection at 0x13025e5c0>"
      ]
     },
     "execution_count": null,
     "metadata": {},
     "output_type": "execute_result"
    },
    {
     "data": {
      "image/png": "[encoded data removed]",
      "text/plain": [
       "<Figure size 432x288 with 1 Axes>"
      ]
     },
     "metadata": {
      "needs_background": "light"
     },
     "output_type": "display_data"
    }
   ],
   "source": [
    "d1 = SphericalDistribution(torch.tensor([0., 0.]), torch.ones((1,)))\n",
    "t1 = d1.sample([500])\n",
    "\n",
    "d2 = SphericalDistribution(torch.tensor([.7, .7]), torch.tensor([0.1, 0.1]))\n",
    "t2 = d2.sample([500])\n",
    "\n",
    "plt.scatter(t1[:,0], t1[:,1])\n",
    "plt.scatter(t2[:,0], t2[:,1])"
   ]
  },
  {
   "cell_type": "code",
   "execution_count": null,
   "metadata": {},
   "outputs": [],
   "source": []
  },
  {
   "cell_type": "code",
   "execution_count": null,
   "metadata": {},
   "outputs": [
    {
     "data": {
      "text/plain": [
       "tensor([[0.7131, 0.7011],\n",
       "        [0.6645, 0.7473],\n",
       "        [0.7475, 0.6642],\n",
       "        [0.6969, 0.7171],\n",
       "        [0.7259, 0.6878]], grad_fn=<DivBackward0>)"
      ]
     },
     "execution_count": null,
     "metadata": {},
     "output_type": "execute_result"
    }
   ],
   "source": [
    "d3 = SphericalDistribution(nn.Parameter(torch.tensor([.7, .7])), nn.Parameter(torch.tensor([0.1, 0.1])))\n",
    "d3.rsample([5])"
   ]
  },
  {
   "cell_type": "code",
   "execution_count": null,
   "metadata": {},
   "outputs": [],
   "source": []
  },
  {
   "cell_type": "code",
   "execution_count": null,
   "metadata": {},
   "outputs": [],
   "source": []
  },
  {
   "cell_type": "code",
   "execution_count": null,
   "metadata": {},
   "outputs": [],
   "source": [
    "class HypersphericalUniform(torch.distributions.Distribution):\n",
    "\n",
    "    support = torch.distributions.constraints.real\n",
    "    has_rsample = False\n",
    "    _mean_carrier_measure = 0\n",
    "\n",
    "    @property\n",
    "    def dim(self):\n",
    "        return self._dim\n",
    "\n",
    "    @property\n",
    "    def device(self):\n",
    "        return self._device\n",
    "\n",
    "    @device.setter\n",
    "    def device(self, val):\n",
    "        self._device = val if isinstance(val, torch.device) else torch.device(val)\n",
    "\n",
    "    def __init__(self, dim, validate_args=None, device=\"cpu\"):\n",
    "        super(HypersphericalUniform, self).__init__(\n",
    "            torch.Size([dim]), validate_args=validate_args\n",
    "        )\n",
    "        self._dim = dim\n",
    "        self.device = device\n",
    "\n",
    "    def sample(self, shape=torch.Size()):\n",
    "        output = (\n",
    "            torch.distributions.Normal(0, 1)\n",
    "            .sample(\n",
    "                (shape if isinstance(shape, torch.Size) else torch.Size([shape]))\n",
    "                + torch.Size([self._dim + 1])\n",
    "            )\n",
    "            .to(self.device)\n",
    "        )\n",
    "\n",
    "        return output / output.norm(dim=-1, keepdim=True)\n",
    "\n",
    "    def entropy(self):\n",
    "        return self.__log_surface_area()\n",
    "\n",
    "    def log_prob(self, x):\n",
    "        return -torch.ones(x.shape[:-1], device=self.device) * self.__log_surface_area()\n",
    "\n",
    "    def __log_surface_area(self):\n",
    "        if torch.__version__ >= \"1.0.0\":\n",
    "            lgamma = torch.lgamma(torch.tensor([(self._dim + 1) / 2]).to(self.device))\n",
    "        else:\n",
    "            lgamma = torch.lgamma(\n",
    "                torch.Tensor([(self._dim + 1) / 2], device=self.device)\n",
    "            )\n",
    "        return math.log(2) + ((self._dim + 1) / 2) * math.log(math.pi) - lgamma"
   ]
  },
  {
   "cell_type": "code",
   "execution_count": null,
   "metadata": {},
   "outputs": [],
   "source": []
  },
  {
   "cell_type": "code",
   "execution_count": null,
   "metadata": {},
   "outputs": [
    {
     "name": "stderr",
     "output_type": "stream",
     "text": [
      "//anaconda3/envs/mrl/lib/python3.6/site-packages/torch/distributions/distribution.py:46: UserWarning: <class '__main__.HypersphericalUniform'> does not define `arg_constraints`. Please set `arg_constraints = {}` or initialize the distribution with `validate_args=False` to turn off validation.\n",
      "  'with `validate_args=False` to turn off validation.')\n"
     ]
    }
   ],
   "source": [
    "d = HypersphericalUniform(1)"
   ]
  },
  {
   "cell_type": "code",
   "execution_count": null,
   "metadata": {},
   "outputs": [
    {
     "data": {
      "text/plain": [
       "tensor([1.0000, 1.0000, 1.0000, 1.0000, 1.0000])"
      ]
     },
     "execution_count": null,
     "metadata": {},
     "output_type": "execute_result"
    }
   ],
   "source": [
    "d.sample(5).pow(2).sum(-1)"
   ]
  },
  {
   "cell_type": "code",
   "execution_count": null,
   "metadata": {},
   "outputs": [],
   "source": []
  },
  {
   "cell_type": "code",
   "execution_count": null,
   "metadata": {},
   "outputs": [
    {
     "data": {
      "text/plain": [
       "<matplotlib.collections.PathCollection at 0x12f455a20>"
      ]
     },
     "execution_count": null,
     "metadata": {},
     "output_type": "execute_result"
    },
    {
     "data": {
      "image/png": "[encoded data removed]",
      "text/plain": [
       "<Figure size 432x288 with 1 Axes>"
      ]
     },
     "metadata": {
      "needs_background": "light"
     },
     "output_type": "display_data"
    }
   ],
   "source": [
    "t = d.sample(50)\n",
    "plt.scatter(t[:,0], t[:,1])"
   ]
  },
  {
   "cell_type": "code",
   "execution_count": null,
   "metadata": {},
   "outputs": [],
   "source": []
  },
  {
   "cell_type": "code",
   "execution_count": null,
   "metadata": {},
   "outputs": [],
   "source": []
  },
  {
   "cell_type": "code",
   "execution_count": null,
   "metadata": {},
   "outputs": [],
   "source": []
  },
  {
   "cell_type": "code",
   "execution_count": null,
   "metadata": {},
   "outputs": [],
   "source": []
  },
  {
   "cell_type": "code",
   "execution_count": null,
   "metadata": {},
   "outputs": [],
   "source": []
  },
  {
   "cell_type": "code",
   "execution_count": null,
   "metadata": {},
   "outputs": [],
   "source": []
  },
  {
   "cell_type": "code",
   "execution_count": null,
   "metadata": {},
   "outputs": [],
   "source": [
    "vocab = CharacterVocab(SMILES_CHAR_VOCAB)"
   ]
  },
  {
   "cell_type": "code",
   "execution_count": null,
   "metadata": {},
   "outputs": [],
   "source": []
  },
  {
   "cell_type": "markdown",
   "metadata": {},
   "source": [
    "developing ideas\n",
    "\n",
    "turn fp-collate functions into generic latent-collate. this extends fp-latent to property condition latent\n",
    "\n",
    "redo vae structure. make encoders generic (linear, conv, lstm). all encoders return a single z variable. vae main class handles reparameterication trick and kl calculation. in fact make single layer to convert vector to mu, logvar, to z\n",
    "\n",
    "\n",
    "encoders:\n",
    "    map input to vector\n",
    "        lstm\n",
    "        conv\n",
    "        lin\n",
    "    \n",
    "transition:\n",
    "    map vector to latent\n",
    "        VAE/KL reparameterication\n",
    "        normaization\n",
    "        \n",
    "decoder:\n",
    "    map latent to output\n",
    "    \n",
    "LSTM LM\n",
    "    no encoder\n",
    "    zero hiddens\n",
    "    decoder\n",
    "    \n",
    "Conditional LSTM LM\n",
    "    any encoder\n",
    "    normalize transition\n",
    "    lstm decoder\n",
    "    \n",
    "vae\n",
    "    any encoder\n",
    "    kl-div transition\n",
    "    "
   ]
  },
  {
   "cell_type": "code",
   "execution_count": null,
   "metadata": {},
   "outputs": [],
   "source": []
  },
  {
   "cell_type": "code",
   "execution_count": null,
   "metadata": {},
   "outputs": [],
   "source": []
  },
  {
   "cell_type": "markdown",
   "metadata": {},
   "source": [
    "VAE questions\n",
    "\n",
    "sampling from nothing vs latents vs smiles\n",
    "\n",
    "best saampling procedure. ie we saample some from latent space (latent to smilles), some from explore straat (smiles to llatent to smilles)\n",
    "\n",
    "scale of noise on latent\n",
    "\n",
    "getting log prob of prior vs \n",
    "\n",
    "conditional LSTM class - condition on hidden or on decode"
   ]
  },
  {
   "cell_type": "code",
   "execution_count": null,
   "metadata": {},
   "outputs": [],
   "source": []
  },
  {
   "cell_type": "code",
   "execution_count": null,
   "metadata": {},
   "outputs": [],
   "source": []
  },
  {
   "cell_type": "code",
   "execution_count": null,
   "metadata": {},
   "outputs": [],
   "source": []
  },
  {
   "cell_type": "code",
   "execution_count": null,
   "metadata": {},
   "outputs": [],
   "source": []
  },
  {
   "cell_type": "code",
   "execution_count": null,
   "metadata": {},
   "outputs": [],
   "source": []
  },
  {
   "cell_type": "code",
   "execution_count": null,
   "metadata": {},
   "outputs": [],
   "source": []
  },
  {
   "cell_type": "markdown",
   "metadata": {},
   "source": [
    "torch/models roadmap\n",
    "\n",
    "torch_core\n",
    "    tensor operations\n",
    "    gather\n",
    "    \n",
    "dataloaders\n",
    "    vocab\n",
    "    dataset\n",
    "    dataloader\n",
    "\n",
    "models\n",
    "    LSTM LM\n",
    "    VAE\n",
    "    transformer\n",
    "    contain supervised training loop\n",
    "    dataset/dataloader\n",
    "\n",
    "fastai"
   ]
  },
  {
   "cell_type": "markdown",
   "metadata": {},
   "source": [
    "move onto torch/models\n",
    "get protein model running\n",
    "come back to chem/templates, remake with protein variants. code will hopefully be simpler\n",
    "\n",
    "\n",
    "get collab working\n",
    "get google search working\n",
    "\n",
    "torch core\n",
    "models (lstm, vae, transformer)\n",
    "    work in protein stuff here\n",
    "\n",
    "score functions\n",
    "\n",
    "training loop\n",
    "\n",
    "poicy gradients\n",
    "\n",
    "q-network\n",
    "\n",
    "diff-loss\n",
    "\n",
    "exploration strategies\n",
    "\n",
    "combichem\n",
    "\n",
    "pharmacophore \n",
    "\n",
    "\n",
    "pages\n",
    "overview\n",
    "\n",
    "generrative screening primerr"
   ]
  },
  {
   "cell_type": "code",
   "execution_count": null,
   "metadata": {},
   "outputs": [],
   "source": []
  }
 ],
 "metadata": {
  "kernelspec": {
   "display_name": "Python 3",
   "language": "python",
   "name": "python3"
  }
 },
 "nbformat": 4,
 "nbformat_minor": 2
}
