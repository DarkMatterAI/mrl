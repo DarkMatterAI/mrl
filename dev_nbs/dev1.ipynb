{
 "cells": [
  {
   "cell_type": "code",
   "execution_count": 1,
   "metadata": {},
   "outputs": [],
   "source": [
    "import sys\n",
    "sys.path.append('../')"
   ]
  },
  {
   "cell_type": "code",
   "execution_count": 2,
   "metadata": {},
   "outputs": [
    {
     "name": "stderr",
     "output_type": "stream",
     "text": [
      "/home/dmai/miniconda3/envs/mrl/lib/python3.6/importlib/_bootstrap.py:219: RuntimeWarning: to-Python converter for boost::shared_ptr<RDKit::FilterCatalogEntry const> already registered; second conversion method ignored.\n",
      "  return f(*args, **kwds)\n"
     ]
    }
   ],
   "source": [
    "from mrl.imports import *\n",
    "from mrl.core import *\n",
    "from mrl.chem import *\n",
    "from mrl.templates import *"
   ]
  },
  {
   "cell_type": "code",
   "execution_count": 3,
   "metadata": {},
   "outputs": [],
   "source": [
    "from mrl.torch_imports import *\n",
    "from mrl.torch_core import *\n",
    "from mrl.layers import *\n",
    "from mrl.dataloaders import *\n",
    "from mrl.g_models import *\n",
    "from mrl.agent import *\n",
    "from mrl.vocab import *\n",
    "from mrl.callbacks import *\n",
    "from mrl.callbacks.template_cb import *\n",
    "from mrl.agent import *\n",
    "from mrl.policy_gradient import *\n",
    "from mrl.loss import *\n",
    "from mrl.sampler import *\n",
    "from mrl.environment import *\n",
    "from mrl.reward import *"
   ]
  },
  {
   "cell_type": "code",
   "execution_count": null,
   "metadata": {},
   "outputs": [],
   "source": []
  },
  {
   "cell_type": "code",
   "execution_count": 4,
   "metadata": {},
   "outputs": [],
   "source": [
    "os.environ['ncpus'] = '0'\n",
    "torch.cuda.set_device(1)"
   ]
  },
  {
   "cell_type": "code",
   "execution_count": null,
   "metadata": {},
   "outputs": [],
   "source": []
  },
  {
   "cell_type": "code",
   "execution_count": 5,
   "metadata": {},
   "outputs": [],
   "source": [
    "df = pd.read_csv('../nbs/untracked_files/affinity_data.csv')"
   ]
  },
  {
   "cell_type": "code",
   "execution_count": 11,
   "metadata": {},
   "outputs": [
    {
     "data": {
      "text/plain": [
       "array(['Brc1cccc(Nc2ncnc3cc4[nH]cnc4cc23)c1',\n",
       "       'Brc1cccc(Nc2ncnc3cc4ccccc4cc23)c1',\n",
       "       'C=CC(=O)Nc1ccc2ncnc(Nc3cc(F)c(Cl)c(Cl)c3)c2c1',\n",
       "       'CCOc1cc2ncnc(Nc3cccc(Br)c3)c2cc1OCC',\n",
       "       'CN(C)C/C=C/C(=O)Nc1cc2c(Nc3ccc(F)c(Cl)c3)ncnc2cc1OCC1C2COCC21',\n",
       "       'COc1c(O)cc(O)c2c(=O)c(-c3ccc(O)cc3)coc12',\n",
       "       'COc1cc2ncnc(Nc3ccc(Br)c(Br)c3)c2cc1OC',\n",
       "       'Cn1cnc2cc3c(Nc4cccc(Br)c4)ncnc3cc21',\n",
       "       'Cn1cnc2cc3ncnc(Nc4cccc(Br)c4)c3cc21',\n",
       "       'Nc1ccc2c(Nc3cccc(Br)c3)ncnc2c1', 'Nc1ccc2cncnc2c1',\n",
       "       'O=C(CCCCCCn1cc(-c2ccc3ncnc(Nc4cccc(Cl)c4F)c3c2)nn1)NO',\n",
       "       'O=C(O)c1cc(N(Cc2cc(O)ccc2O)Cc2cc(O)ccc2O)ccc1O'], dtype=object)"
      ]
     },
     "execution_count": 11,
     "metadata": {},
     "output_type": "execute_result"
    }
   ],
   "source": [
    "df[df.value<-2].smiles.values"
   ]
  },
  {
   "cell_type": "code",
   "execution_count": 13,
   "metadata": {},
   "outputs": [
    {
     "data": {
      "image/png": "[encoded data removed]",
      "text/plain": [
       "<rdkit.Chem.rdchem.Mol at 0x7f779a008580>"
      ]
     },
     "execution_count": 13,
     "metadata": {},
     "output_type": "execute_result"
    }
   ],
   "source": [
    "to_mol('O=C(CCN1CCCCC1)Nc1ccc2ncnc(Nc3cccc(Br)c3)c2c1')"
   ]
  },
  {
   "cell_type": "code",
   "execution_count": 14,
   "metadata": {},
   "outputs": [
    {
     "data": {
      "image/png": "[encoded data removed]",
      "text/plain": [
       "<rdkit.Chem.rdchem.Mol at 0x7f779a008620>"
      ]
     },
     "execution_count": 14,
     "metadata": {},
     "output_type": "execute_result"
    }
   ],
   "source": [
    "to_mol('O=C(O)c1cc(N(Cc2cc(O)ccc2O)Cc2cc(O)ccc2O)ccc1O')"
   ]
  },
  {
   "cell_type": "code",
   "execution_count": 18,
   "metadata": {},
   "outputs": [
    {
     "data": {
      "text/plain": [
       "45       2\n",
       "61       2\n",
       "62       2\n",
       "161      6\n",
       "323      3\n",
       "857      3\n",
       "950      3\n",
       "1096     3\n",
       "1101     3\n",
       "1280     3\n",
       "1286     3\n",
       "1296     3\n",
       "1912     3\n",
       "2264     5\n",
       "2266     5\n",
       "2324     2\n",
       "2447     3\n",
       "2617     3\n",
       "2670     5\n",
       "2764     2\n",
       "3025     1\n",
       "3341     3\n",
       "3356     6\n",
       "3359     7\n",
       "3406     7\n",
       "3654     2\n",
       "3681     3\n",
       "3706     8\n",
       "3785    11\n",
       "4397     4\n",
       "4398     4\n",
       "4801     2\n",
       "4998     4\n",
       "5035     4\n",
       "5043     4\n",
       "5045     2\n",
       "5046     2\n",
       "5053     4\n",
       "5280     3\n",
       "5499     2\n",
       "5523     2\n",
       "5526     2\n",
       "5528     2\n",
       "5533     0\n",
       "5845     8\n",
       "5850     7\n",
       "5855     5\n",
       "5919     4\n",
       "6094     5\n",
       "6095     5\n",
       "6104     3\n",
       "6118     5\n",
       "6125     5\n",
       "6282     2\n",
       "6370     4\n",
       "6396     3\n",
       "6397     3\n",
       "6398     3\n",
       "6452     2\n",
       "Name: smiles, dtype: int64"
      ]
     },
     "execution_count": 18,
     "metadata": {},
     "output_type": "execute_result"
    }
   ],
   "source": [
    "df[df.value<-1].smiles.map(lambda x: rot_chain_length(to_mol(x)))"
   ]
  },
  {
   "cell_type": "code",
   "execution_count": 26,
   "metadata": {},
   "outputs": [
    {
     "data": {
      "image/png": "[encoded data removed]",
      "text/plain": [
       "<rdkit.Chem.rdchem.Mol at 0x7f7799dad8a0>"
      ]
     },
     "execution_count": 26,
     "metadata": {},
     "output_type": "execute_result"
    }
   ],
   "source": [
    "to_mol(df.iloc[3359].smiles)"
   ]
  },
  {
   "cell_type": "code",
   "execution_count": 27,
   "metadata": {},
   "outputs": [
    {
     "data": {
      "text/plain": [
       "'COc1cc2c(Nc3ccc(F)c(Cl)c3)ncnc2cc1OCCOCCn1ccnc1[N+](=O)[O-]'"
      ]
     },
     "execution_count": 27,
     "metadata": {},
     "output_type": "execute_result"
    }
   ],
   "source": [
    "df.iloc[3359].smiles"
   ]
  },
  {
   "cell_type": "code",
   "execution_count": null,
   "metadata": {},
   "outputs": [],
   "source": []
  },
  {
   "cell_type": "code",
   "execution_count": null,
   "metadata": {},
   "outputs": [],
   "source": []
  },
  {
   "cell_type": "code",
   "execution_count": 5,
   "metadata": {},
   "outputs": [],
   "source": [
    "df = pd.read_csv('/home/dmai/smiles_datasets/frags.csv')"
   ]
  },
  {
   "cell_type": "code",
   "execution_count": 6,
   "metadata": {},
   "outputs": [
    {
     "data": {
      "text/html": [
       "<div>\n",
       "<style scoped>\n",
       "    .dataframe tbody tr th:only-of-type {\n",
       "        vertical-align: middle;\n",
       "    }\n",
       "\n",
       "    .dataframe tbody tr th {\n",
       "        vertical-align: top;\n",
       "    }\n",
       "\n",
       "    .dataframe thead th {\n",
       "        text-align: right;\n",
       "    }\n",
       "</style>\n",
       "<table border=\"1\" class=\"dataframe\">\n",
       "  <thead>\n",
       "    <tr style=\"text-align: right;\">\n",
       "      <th></th>\n",
       "      <th>smiles</th>\n",
       "      <th>attachments</th>\n",
       "      <th>weight</th>\n",
       "      <th>atoms</th>\n",
       "    </tr>\n",
       "  </thead>\n",
       "  <tbody>\n",
       "    <tr>\n",
       "      <th>0</th>\n",
       "      <td>*COC(=O)C(C)(CCCOCC(*)COC(C)=O)C(=O)O*</td>\n",
       "      <td>3</td>\n",
       "      <td>287.113078</td>\n",
       "      <td>20</td>\n",
       "    </tr>\n",
       "    <tr>\n",
       "      <th>1</th>\n",
       "      <td>*N(C(=O)c1ccc(I)cc1OC)C(C)C(=O)OCC</td>\n",
       "      <td>1</td>\n",
       "      <td>376.004581</td>\n",
       "      <td>19</td>\n",
       "    </tr>\n",
       "    <tr>\n",
       "      <th>2</th>\n",
       "      <td>*CCOCCn1c(C2CC2)nnc1N1CC(C)OC2(CCOC2*)C1</td>\n",
       "      <td>2</td>\n",
       "      <td>334.200491</td>\n",
       "      <td>24</td>\n",
       "    </tr>\n",
       "    <tr>\n",
       "      <th>3</th>\n",
       "      <td>*CC(*)Oc1c(F)cc(CN(*)C)cc1O*</td>\n",
       "      <td>4</td>\n",
       "      <td>195.069557</td>\n",
       "      <td>14</td>\n",
       "    </tr>\n",
       "    <tr>\n",
       "      <th>4</th>\n",
       "      <td>*OC(=O)c1ccc(NC(=O)CN(*)c2nc3c(*)cccc3s2)cc1</td>\n",
       "      <td>3</td>\n",
       "      <td>324.044287</td>\n",
       "      <td>23</td>\n",
       "    </tr>\n",
       "  </tbody>\n",
       "</table>\n",
       "</div>"
      ],
      "text/plain": [
       "                                         smiles  attachments      weight  \\\n",
       "0        *COC(=O)C(C)(CCCOCC(*)COC(C)=O)C(=O)O*            3  287.113078   \n",
       "1            *N(C(=O)c1ccc(I)cc1OC)C(C)C(=O)OCC            1  376.004581   \n",
       "2      *CCOCCn1c(C2CC2)nnc1N1CC(C)OC2(CCOC2*)C1            2  334.200491   \n",
       "3                  *CC(*)Oc1c(F)cc(CN(*)C)cc1O*            4  195.069557   \n",
       "4  *OC(=O)c1ccc(NC(=O)CN(*)c2nc3c(*)cccc3s2)cc1            3  324.044287   \n",
       "\n",
       "   atoms  \n",
       "0     20  \n",
       "1     19  \n",
       "2     24  \n",
       "3     14  \n",
       "4     23  "
      ]
     },
     "execution_count": 6,
     "metadata": {},
     "output_type": "execute_result"
    }
   ],
   "source": [
    "df.head()"
   ]
  },
  {
   "cell_type": "code",
   "execution_count": 7,
   "metadata": {},
   "outputs": [
    {
     "data": {
      "text/plain": [
       "(182333193, 4)"
      ]
     },
     "execution_count": 7,
     "metadata": {},
     "output_type": "execute_result"
    }
   ],
   "source": [
    "df.shape"
   ]
  },
  {
   "cell_type": "code",
   "execution_count": 8,
   "metadata": {},
   "outputs": [],
   "source": [
    "linkers = df[df.attachments==2]"
   ]
  },
  {
   "cell_type": "code",
   "execution_count": 9,
   "metadata": {},
   "outputs": [
    {
     "data": {
      "text/plain": [
       "(52476775, 4)"
      ]
     },
     "execution_count": 9,
     "metadata": {},
     "output_type": "execute_result"
    }
   ],
   "source": [
    "linkers.shape"
   ]
  },
  {
   "cell_type": "code",
   "execution_count": 10,
   "metadata": {},
   "outputs": [
    {
     "data": {
      "text/html": [
       "<div>\n",
       "<style scoped>\n",
       "    .dataframe tbody tr th:only-of-type {\n",
       "        vertical-align: middle;\n",
       "    }\n",
       "\n",
       "    .dataframe tbody tr th {\n",
       "        vertical-align: top;\n",
       "    }\n",
       "\n",
       "    .dataframe thead th {\n",
       "        text-align: right;\n",
       "    }\n",
       "</style>\n",
       "<table border=\"1\" class=\"dataframe\">\n",
       "  <thead>\n",
       "    <tr style=\"text-align: right;\">\n",
       "      <th></th>\n",
       "      <th>smiles</th>\n",
       "      <th>attachments</th>\n",
       "      <th>weight</th>\n",
       "      <th>atoms</th>\n",
       "    </tr>\n",
       "  </thead>\n",
       "  <tbody>\n",
       "    <tr>\n",
       "      <th>2</th>\n",
       "      <td>*CCOCCn1c(C2CC2)nnc1N1CC(C)OC2(CCOC2*)C1</td>\n",
       "      <td>2</td>\n",
       "      <td>334.200491</td>\n",
       "      <td>24</td>\n",
       "    </tr>\n",
       "    <tr>\n",
       "      <th>9</th>\n",
       "      <td>*C(*)=CC(=O)N1CCC(Nc2nc(C)ccc2C#N)C1C</td>\n",
       "      <td>2</td>\n",
       "      <td>268.132411</td>\n",
       "      <td>20</td>\n",
       "    </tr>\n",
       "    <tr>\n",
       "      <th>14</th>\n",
       "      <td>*c1ccc(OC(F)F)c(CNc2ccc(OC(*)(F)F)c(C#N)c2)c1</td>\n",
       "      <td>2</td>\n",
       "      <td>338.067840</td>\n",
       "      <td>24</td>\n",
       "    </tr>\n",
       "    <tr>\n",
       "      <th>16</th>\n",
       "      <td>*CN(CCNC(=O)Cc1ccsc1C)CCO*</td>\n",
       "      <td>2</td>\n",
       "      <td>254.108899</td>\n",
       "      <td>17</td>\n",
       "    </tr>\n",
       "    <tr>\n",
       "      <th>17</th>\n",
       "      <td>*Oc1cc(O)ncc1C(=O)NCC(*)O</td>\n",
       "      <td>2</td>\n",
       "      <td>196.048407</td>\n",
       "      <td>14</td>\n",
       "    </tr>\n",
       "    <tr>\n",
       "      <th>...</th>\n",
       "      <td>...</td>\n",
       "      <td>...</td>\n",
       "      <td>...</td>\n",
       "      <td>...</td>\n",
       "    </tr>\n",
       "    <tr>\n",
       "      <th>182333181</th>\n",
       "      <td>*c1cc2ncnc(Nc3ccc4nn(*)cc4c3)c2cc1OC</td>\n",
       "      <td>2</td>\n",
       "      <td>289.096360</td>\n",
       "      <td>22</td>\n",
       "    </tr>\n",
       "    <tr>\n",
       "      <th>182333183</th>\n",
       "      <td>*c1c(O)cc2occ(*)c(=O)c2c1C(=O)O</td>\n",
       "      <td>2</td>\n",
       "      <td>204.005873</td>\n",
       "      <td>15</td>\n",
       "    </tr>\n",
       "    <tr>\n",
       "      <th>182333188</th>\n",
       "      <td>*SCc1ccc(C(=O)NCCCOC(*)C)cc1</td>\n",
       "      <td>2</td>\n",
       "      <td>251.098000</td>\n",
       "      <td>17</td>\n",
       "    </tr>\n",
       "    <tr>\n",
       "      <th>182333191</th>\n",
       "      <td>*COC(=O)NC(Cc1ccccc1)C(*)CN(Cc1ccccc1)S(=O)(=O...</td>\n",
       "      <td>2</td>\n",
       "      <td>450.161328</td>\n",
       "      <td>32</td>\n",
       "    </tr>\n",
       "    <tr>\n",
       "      <th>182333192</th>\n",
       "      <td>*CC(=O)NN=C(*)CC(=O)CCC(=O)Nc1ccccc1[N+](=O)[O-]</td>\n",
       "      <td>2</td>\n",
       "      <td>318.096420</td>\n",
       "      <td>23</td>\n",
       "    </tr>\n",
       "  </tbody>\n",
       "</table>\n",
       "<p>52476775 rows × 4 columns</p>\n",
       "</div>"
      ],
      "text/plain": [
       "                                                      smiles  attachments  \\\n",
       "2                   *CCOCCn1c(C2CC2)nnc1N1CC(C)OC2(CCOC2*)C1            2   \n",
       "9                      *C(*)=CC(=O)N1CCC(Nc2nc(C)ccc2C#N)C1C            2   \n",
       "14             *c1ccc(OC(F)F)c(CNc2ccc(OC(*)(F)F)c(C#N)c2)c1            2   \n",
       "16                                *CN(CCNC(=O)Cc1ccsc1C)CCO*            2   \n",
       "17                                 *Oc1cc(O)ncc1C(=O)NCC(*)O            2   \n",
       "...                                                      ...          ...   \n",
       "182333181               *c1cc2ncnc(Nc3ccc4nn(*)cc4c3)c2cc1OC            2   \n",
       "182333183                    *c1c(O)cc2occ(*)c(=O)c2c1C(=O)O            2   \n",
       "182333188                       *SCc1ccc(C(=O)NCCCOC(*)C)cc1            2   \n",
       "182333191  *COC(=O)NC(Cc1ccccc1)C(*)CN(Cc1ccccc1)S(=O)(=O...            2   \n",
       "182333192   *CC(=O)NN=C(*)CC(=O)CCC(=O)Nc1ccccc1[N+](=O)[O-]            2   \n",
       "\n",
       "               weight  atoms  \n",
       "2          334.200491     24  \n",
       "9          268.132411     20  \n",
       "14         338.067840     24  \n",
       "16         254.108899     17  \n",
       "17         196.048407     14  \n",
       "...               ...    ...  \n",
       "182333181  289.096360     22  \n",
       "182333183  204.005873     15  \n",
       "182333188  251.098000     17  \n",
       "182333191  450.161328     32  \n",
       "182333192  318.096420     23  \n",
       "\n",
       "[52476775 rows x 4 columns]"
      ]
     },
     "execution_count": 10,
     "metadata": {},
     "output_type": "execute_result"
    }
   ],
   "source": [
    "linkers"
   ]
  },
  {
   "cell_type": "code",
   "execution_count": 11,
   "metadata": {},
   "outputs": [],
   "source": [
    "set_global_pool(cpus=64)"
   ]
  },
  {
   "cell_type": "code",
   "execution_count": 12,
   "metadata": {},
   "outputs": [
    {
     "name": "stderr",
     "output_type": "stream",
     "text": [
      "/home/dmai/miniconda3/envs/mrl/lib/python3.6/site-packages/ipykernel_launcher.py:1: SettingWithCopyWarning: \n",
      "A value is trying to be set on a copy of a slice from a DataFrame.\n",
      "Try using .loc[row_indexer,col_indexer] = value instead\n",
      "\n",
      "See the caveats in the documentation: https://pandas.pydata.org/pandas-docs/stable/user_guide/indexing.html#returning-a-view-versus-a-copy\n",
      "  \"\"\"Entry point for launching an IPython kernel.\n"
     ]
    }
   ],
   "source": [
    "linkers['rings'] = linkers.smiles.map(lambda x: x.count('1')>1)"
   ]
  },
  {
   "cell_type": "code",
   "execution_count": 13,
   "metadata": {},
   "outputs": [
    {
     "data": {
      "text/html": [
       "<div>\n",
       "<style scoped>\n",
       "    .dataframe tbody tr th:only-of-type {\n",
       "        vertical-align: middle;\n",
       "    }\n",
       "\n",
       "    .dataframe tbody tr th {\n",
       "        vertical-align: top;\n",
       "    }\n",
       "\n",
       "    .dataframe thead th {\n",
       "        text-align: right;\n",
       "    }\n",
       "</style>\n",
       "<table border=\"1\" class=\"dataframe\">\n",
       "  <thead>\n",
       "    <tr style=\"text-align: right;\">\n",
       "      <th></th>\n",
       "      <th>smiles</th>\n",
       "      <th>attachments</th>\n",
       "      <th>weight</th>\n",
       "      <th>atoms</th>\n",
       "      <th>rings</th>\n",
       "    </tr>\n",
       "  </thead>\n",
       "  <tbody>\n",
       "    <tr>\n",
       "      <th>2</th>\n",
       "      <td>*CCOCCn1c(C2CC2)nnc1N1CC(C)OC2(CCOC2*)C1</td>\n",
       "      <td>2</td>\n",
       "      <td>334.200491</td>\n",
       "      <td>24</td>\n",
       "      <td>True</td>\n",
       "    </tr>\n",
       "    <tr>\n",
       "      <th>9</th>\n",
       "      <td>*C(*)=CC(=O)N1CCC(Nc2nc(C)ccc2C#N)C1C</td>\n",
       "      <td>2</td>\n",
       "      <td>268.132411</td>\n",
       "      <td>20</td>\n",
       "      <td>True</td>\n",
       "    </tr>\n",
       "    <tr>\n",
       "      <th>14</th>\n",
       "      <td>*c1ccc(OC(F)F)c(CNc2ccc(OC(*)(F)F)c(C#N)c2)c1</td>\n",
       "      <td>2</td>\n",
       "      <td>338.067840</td>\n",
       "      <td>24</td>\n",
       "      <td>True</td>\n",
       "    </tr>\n",
       "    <tr>\n",
       "      <th>16</th>\n",
       "      <td>*CN(CCNC(=O)Cc1ccsc1C)CCO*</td>\n",
       "      <td>2</td>\n",
       "      <td>254.108899</td>\n",
       "      <td>17</td>\n",
       "      <td>True</td>\n",
       "    </tr>\n",
       "    <tr>\n",
       "      <th>17</th>\n",
       "      <td>*Oc1cc(O)ncc1C(=O)NCC(*)O</td>\n",
       "      <td>2</td>\n",
       "      <td>196.048407</td>\n",
       "      <td>14</td>\n",
       "      <td>True</td>\n",
       "    </tr>\n",
       "    <tr>\n",
       "      <th>...</th>\n",
       "      <td>...</td>\n",
       "      <td>...</td>\n",
       "      <td>...</td>\n",
       "      <td>...</td>\n",
       "      <td>...</td>\n",
       "    </tr>\n",
       "    <tr>\n",
       "      <th>182333181</th>\n",
       "      <td>*c1cc2ncnc(Nc3ccc4nn(*)cc4c3)c2cc1OC</td>\n",
       "      <td>2</td>\n",
       "      <td>289.096360</td>\n",
       "      <td>22</td>\n",
       "      <td>True</td>\n",
       "    </tr>\n",
       "    <tr>\n",
       "      <th>182333183</th>\n",
       "      <td>*c1c(O)cc2occ(*)c(=O)c2c1C(=O)O</td>\n",
       "      <td>2</td>\n",
       "      <td>204.005873</td>\n",
       "      <td>15</td>\n",
       "      <td>True</td>\n",
       "    </tr>\n",
       "    <tr>\n",
       "      <th>182333188</th>\n",
       "      <td>*SCc1ccc(C(=O)NCCCOC(*)C)cc1</td>\n",
       "      <td>2</td>\n",
       "      <td>251.098000</td>\n",
       "      <td>17</td>\n",
       "      <td>True</td>\n",
       "    </tr>\n",
       "    <tr>\n",
       "      <th>182333191</th>\n",
       "      <td>*COC(=O)NC(Cc1ccccc1)C(*)CN(Cc1ccccc1)S(=O)(=O...</td>\n",
       "      <td>2</td>\n",
       "      <td>450.161328</td>\n",
       "      <td>32</td>\n",
       "      <td>True</td>\n",
       "    </tr>\n",
       "    <tr>\n",
       "      <th>182333192</th>\n",
       "      <td>*CC(=O)NN=C(*)CC(=O)CCC(=O)Nc1ccccc1[N+](=O)[O-]</td>\n",
       "      <td>2</td>\n",
       "      <td>318.096420</td>\n",
       "      <td>23</td>\n",
       "      <td>True</td>\n",
       "    </tr>\n",
       "  </tbody>\n",
       "</table>\n",
       "<p>52476775 rows × 5 columns</p>\n",
       "</div>"
      ],
      "text/plain": [
       "                                                      smiles  attachments  \\\n",
       "2                   *CCOCCn1c(C2CC2)nnc1N1CC(C)OC2(CCOC2*)C1            2   \n",
       "9                      *C(*)=CC(=O)N1CCC(Nc2nc(C)ccc2C#N)C1C            2   \n",
       "14             *c1ccc(OC(F)F)c(CNc2ccc(OC(*)(F)F)c(C#N)c2)c1            2   \n",
       "16                                *CN(CCNC(=O)Cc1ccsc1C)CCO*            2   \n",
       "17                                 *Oc1cc(O)ncc1C(=O)NCC(*)O            2   \n",
       "...                                                      ...          ...   \n",
       "182333181               *c1cc2ncnc(Nc3ccc4nn(*)cc4c3)c2cc1OC            2   \n",
       "182333183                    *c1c(O)cc2occ(*)c(=O)c2c1C(=O)O            2   \n",
       "182333188                       *SCc1ccc(C(=O)NCCCOC(*)C)cc1            2   \n",
       "182333191  *COC(=O)NC(Cc1ccccc1)C(*)CN(Cc1ccccc1)S(=O)(=O...            2   \n",
       "182333192   *CC(=O)NN=C(*)CC(=O)CCC(=O)Nc1ccccc1[N+](=O)[O-]            2   \n",
       "\n",
       "               weight  atoms  rings  \n",
       "2          334.200491     24   True  \n",
       "9          268.132411     20   True  \n",
       "14         338.067840     24   True  \n",
       "16         254.108899     17   True  \n",
       "17         196.048407     14   True  \n",
       "...               ...    ...    ...  \n",
       "182333181  289.096360     22   True  \n",
       "182333183  204.005873     15   True  \n",
       "182333188  251.098000     17   True  \n",
       "182333191  450.161328     32   True  \n",
       "182333192  318.096420     23   True  \n",
       "\n",
       "[52476775 rows x 5 columns]"
      ]
     },
     "execution_count": 13,
     "metadata": {},
     "output_type": "execute_result"
    }
   ],
   "source": [
    "linkers"
   ]
  },
  {
   "cell_type": "code",
   "execution_count": 14,
   "metadata": {},
   "outputs": [
    {
     "data": {
      "text/plain": [
       "0"
      ]
     },
     "execution_count": 14,
     "metadata": {},
     "output_type": "execute_result"
    }
   ],
   "source": [
    "gc.collect()"
   ]
  },
  {
   "cell_type": "code",
   "execution_count": 18,
   "metadata": {},
   "outputs": [],
   "source": [
    "linkers = linkers[~linkers.rings]"
   ]
  },
  {
   "cell_type": "code",
   "execution_count": 19,
   "metadata": {},
   "outputs": [
    {
     "data": {
      "text/plain": [
       "(1167776, 5)"
      ]
     },
     "execution_count": 19,
     "metadata": {},
     "output_type": "execute_result"
    }
   ],
   "source": [
    "linkers.shape"
   ]
  },
  {
   "cell_type": "code",
   "execution_count": 22,
   "metadata": {},
   "outputs": [],
   "source": [
    "linkers = linkers[['smiles', 'weight', 'atoms']]"
   ]
  },
  {
   "cell_type": "code",
   "execution_count": 23,
   "metadata": {},
   "outputs": [
    {
     "data": {
      "text/plain": [
       "(1167776, 3)"
      ]
     },
     "execution_count": 23,
     "metadata": {},
     "output_type": "execute_result"
    }
   ],
   "source": [
    "linkers.shape"
   ]
  },
  {
   "cell_type": "code",
   "execution_count": 24,
   "metadata": {},
   "outputs": [],
   "source": [
    "linkers.to_csv('/home/dmai/smiles_datasets/linkers.csv', index=False)"
   ]
  },
  {
   "cell_type": "code",
   "execution_count": 28,
   "metadata": {},
   "outputs": [
    {
     "data": {
      "text/plain": [
       "<AxesSubplot:>"
      ]
     },
     "execution_count": 28,
     "metadata": {},
     "output_type": "execute_result"
    },
    {
     "data": {
      "image/png": "[encoded data removed]",
      "text/plain": [
       "<Figure size 432x288 with 1 Axes>"
      ]
     },
     "metadata": {
      "needs_background": "light"
     },
     "output_type": "display_data"
    }
   ],
   "source": [
    "linkers.smiles.map(lambda x: len(x)).hist()"
   ]
  },
  {
   "cell_type": "code",
   "execution_count": null,
   "metadata": {},
   "outputs": [],
   "source": []
  },
  {
   "cell_type": "code",
   "execution_count": null,
   "metadata": {},
   "outputs": [],
   "source": []
  },
  {
   "cell_type": "code",
   "execution_count": null,
   "metadata": {},
   "outputs": [],
   "source": [
    "class PoolingHead(nn.Module):\n",
    "    def __init__(self, d_in, dims, d_out, drops, outrange=None):\n",
    "        super().__init__()\n",
    "        \n",
    "        self.layers = MLP_Encoder(d_in, dims, d_out, drops)\n",
    "        self.outrange = outrange\n",
    "        \n",
    "    def forward(self, x, mask=None):\n",
    "        # x - bs, sl, d\n",
    "        # mask - bs, sl\n",
    "        if mask is not None:\n",
    "            lengths = mask.sum(-1)\n",
    "            final_vals = x[torch.arange(x.shape[0]), lengths-1]\n",
    "            pool1 = x.masked_fill(mask.unsqueeze(-1), 0).sum(1)/lengths.unsqueeze(-1)\n",
    "            pool2 = x.masked_fill(mask.unsqueeze(-1), -float('inf')).max(1)[0]\n",
    "        else:\n",
    "            final_vals = x[:,-1]\n",
    "            pool1 = x.mean(1)\n",
    "            pool2 = x.max(1)[0]\n",
    "            \n",
    "        x = torch.cat([final_vals, pool1, pool2], 1)\n",
    "        x = self.layers(x)\n",
    "        \n",
    "        if self.outrange is not None:\n",
    "            x = torch.sigmoid(x) * (self.outrange[1]-self.outrange[0]) + self.outrange[0]\n",
    "        \n",
    "        return x\n",
    "    \n",
    "class Predictive_LSTM(nn.Module):\n",
    "    def __init__(self, d_vocab, d_embedding, d_hidden, n_layers, d_out_lstm,\n",
    "                 head_dims, head_drops, d_out, outrange=None,\n",
    "                 lstm_drop=0., bidir=False,):\n",
    "        super().__init__()\n",
    "        \n",
    "        self.embedding = nn.Embedding(d_vocab, d_embedding)\n",
    "        self.lstm = LSTM(d_embedding, d_hidden, d_out_lstm, n_layers,\n",
    "                                     bidir=bidir, dropout=lstm_drop)\n",
    "        \n",
    "        self.head = PoolingHead(d_out_lstm*3, head_dims, d_out, head_drops, outrange)\n",
    "\n",
    "        \n",
    "    def forward(self, x, hiddens=None, mask=None):\n",
    "        \n",
    "        x = self.embedding(x)\n",
    "        encoded, hiddens = self.lstm(x, hiddens)\n",
    "        output = self.head(encoded, mask)\n",
    "        return output\n",
    "    \n",
    "    def freeze_encoder(self):\n",
    "        for p in self.embedding.parameters():\n",
    "            p.requires_grad_(False)\n",
    "            \n",
    "        for p in self.lstm.parameters():\n",
    "            p.requires_grad_(False)\n",
    "    \n",
    "    def load_from_lm(self, lm_model):\n",
    "        if hasattr(lm_model, 'block'):\n",
    "            self.embedding.load_state_dict(lm_model.block.embedding.state_dict())\n",
    "            self.lstm.load_state_dict(lm_model.block.lstm.state_dict())\n",
    "        else:\n",
    "            if hasattr(lm_model, 'lstm'):\n",
    "                self.lstm.load_state_dict(lm_model.lstm.state_dict())\n",
    "                \n",
    "            if hasattr(lm_model, 'embedding'):\n",
    "                self.embedding.load_state_dict(lm_model.embedding.state_dict())"
   ]
  },
  {
   "cell_type": "code",
   "execution_count": null,
   "metadata": {},
   "outputs": [],
   "source": []
  },
  {
   "cell_type": "code",
   "execution_count": null,
   "metadata": {},
   "outputs": [],
   "source": []
  },
  {
   "cell_type": "markdown",
   "metadata": {},
   "source": []
  },
  {
   "cell_type": "markdown",
   "metadata": {},
   "source": [
    "\n",
    "\n",
    "current roadmap\n",
    "    python 3.7 upgrade?\n",
    "    Do PR\n",
    "    move template lookup out of parallel processing\n",
    "    now we do documentation/update site\n",
    "    test flags for cuda, rdkit\n",
    "    combichem\n",
    "    jtnnvae\n",
    "    model zoo/dataset zoo\n",
    "    start working on other docs\n",
    "        guides\n",
    "        examples\n",
    "    move to release v0\n",
    "    \n",
    "\n",
    "active learning sampler\n",
    "    input reward function\n",
    "    recompute every x iterations\n",
    "    \n",
    "    "
   ]
  },
  {
   "cell_type": "code",
   "execution_count": null,
   "metadata": {},
   "outputs": [],
   "source": []
  },
  {
   "cell_type": "markdown",
   "metadata": {},
   "source": [
    "future modules\n",
    "    combichem\n",
    "    pharmacophore\n",
    "    active learning\n",
    "    new models\n",
    "        jtnnvae\n",
    "        flow based\n",
    "    chemprop hooks\n",
    "    huggingface hooks\n",
    "    basic docking\n",
    "        \n",
    "project quality\n",
    "    collab links\n",
    "    google search on site\n",
    "    more documentation\n",
    "\n",
    "Use cases/examples\n",
    "    basic drug design\n",
    "    iterative drug design with dataset building\n",
    "    drug design with docking proxy\n",
    "    proteins/antibodies\n",
    "    polymers\n",
    "    catalyst\n",
    "    materials\n",
    "    \n",
    "guides\n",
    "    generative screening primer\n",
    "    basics\n",
    "        stuff about how bad score functions can be\n",
    "    how to use callbacks\n",
    "    basic drug design\n",
    "    contrastive optimization\n",
    "    latent/prior optimization\n",
    "    training tips/tricks (callback stuff)\n",
    "    \n",
    "paapers to implement\n",
    "    fastai guy - conditional lstm, contrastive\n",
    "    moldqn - dqn sampler (rollout), agent is score function, dqn loss\n",
    "    synthesis constrained? really same as DQN with different rolllout\n",
    "    stoned selfies/genetic algorithm examples\n",
    "    deep drug decoder/paul paper/other conditional generation\n",
    "    \n",
    "    \n",
    "other research\n",
    "    masif protein thing for ligands\n",
    "    conformer point clouds"
   ]
  },
  {
   "cell_type": "code",
   "execution_count": null,
   "metadata": {},
   "outputs": [],
   "source": []
  },
  {
   "cell_type": "code",
   "execution_count": null,
   "metadata": {},
   "outputs": [],
   "source": []
  },
  {
   "cell_type": "code",
   "execution_count": null,
   "metadata": {},
   "outputs": [],
   "source": []
  }
 ],
 "metadata": {
  "kernelspec": {
   "display_name": "Python (mrl)",
   "language": "python",
   "name": "mrl"
  },
  "language_info": {
   "codemirror_mode": {
    "name": "ipython",
    "version": 3
   },
   "file_extension": ".py",
   "mimetype": "text/x-python",
   "name": "python",
   "nbconvert_exporter": "python",
   "pygments_lexer": "ipython3",
   "version": "3.6.13"
  }
 },
 "nbformat": 4,
 "nbformat_minor": 2
}
