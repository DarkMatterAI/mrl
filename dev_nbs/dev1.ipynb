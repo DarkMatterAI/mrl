{
 "cells": [
  {
   "cell_type": "code",
   "execution_count": null,
   "metadata": {},
   "outputs": [],
   "source": [
    "import sys\n",
    "sys.path.append('/Users/karl/mrl/')"
   ]
  },
  {
   "cell_type": "code",
   "execution_count": null,
   "metadata": {},
   "outputs": [
    {
     "name": "stderr",
     "output_type": "stream",
     "text": [
      "//anaconda3/envs/mrl/lib/python3.6/importlib/_bootstrap.py:219: RuntimeWarning: to-Python converter for boost::shared_ptr<RDKit::FilterCatalogEntry const> already registered; second conversion method ignored.\n",
      "  return f(*args, **kwds)\n"
     ]
    }
   ],
   "source": [
    "from mrl.imports import *\n",
    "from mrl.core import *\n",
    "from mrl.chem import *\n",
    "from mrl.templates import *"
   ]
  },
  {
   "cell_type": "code",
   "execution_count": null,
   "metadata": {},
   "outputs": [],
   "source": [
    "from mrl.torch_imports import *\n",
    "from mrl.torch_core import *\n",
    "from mrl.layers import *\n",
    "from mrl.dataloaders import *"
   ]
  },
  {
   "cell_type": "code",
   "execution_count": null,
   "metadata": {},
   "outputs": [],
   "source": [
    "from torch.distributions import Normal"
   ]
  },
  {
   "cell_type": "code",
   "execution_count": null,
   "metadata": {},
   "outputs": [],
   "source": []
  },
  {
   "cell_type": "code",
   "execution_count": null,
   "metadata": {},
   "outputs": [],
   "source": [
    "class VAEEncoder(nn.Module):\n",
    "    def __init__(self):\n",
    "        super().__init__()\n",
    "        \n",
    "    def forward(self, x):\n",
    "        raise NotImplementedError\n",
    "        \n",
    "    def get_latent(self, mu, logvar):\n",
    "        z = torch.randn(mu.shape).to(mu.device)\n",
    "        z = mu + z*torch.exp(0.5*logvar)\n",
    "        kl_loss = 0.5 * (logvar.exp() + mu.pow(2) - 1 - logvar).sum(1).mean()\n",
    "        return z, kl_loss\n",
    "        \n",
    "class VAELSTMEncoder(VAEEncoder):\n",
    "    def __init__(self, d_vocab, d_embedding, d_hidden, n_layers, d_latent, dropout=0.):\n",
    "        super().__init__()\n",
    "        \n",
    "        self.embedding = nn.Embedding(d_vocab, d_embedding)\n",
    "        self.lstm_encoder = LSTM(d_embedding, d_hidden, d_hidden, n_layers, \n",
    "                                 bidir=True, batch_first=True, dropout=dropout)\n",
    "        self.transition = nn.Linear(d_hidden*2, d_latent*2)\n",
    "        \n",
    "        \n",
    "    def forward(self, x):\n",
    "        x = self.embedding(x)\n",
    "        x, hiddens = self.lstm_encoder(x)\n",
    "        hidden = torch.cat(list(torch.cat(hiddens[-1], -1)), -1) # concatenate hidden/cell states of last layer\n",
    "        \n",
    "        mu, logvar = torch.chunk(self.transition(hidden), 2, dim=-1)\n",
    "        z, kl_loss = self.get_latent(mu, logvar)\n",
    "        \n",
    "        return z, kl_loss\n",
    "              \n",
    "class VAEConvEncoder(VAEEncoder):\n",
    "    def __init__(self, d_vocab, d_embedding, kernel_size, n_layers, d_latent, dropout=0.):\n",
    "        super().__init__()\n",
    "    \n",
    "        self.embedding = nn.Embedding(d_vocab, d_embedding)\n",
    "\n",
    "        convs = []\n",
    "        input_size = d_embedding\n",
    "        for i in range(n_layers):\n",
    "            convs.append(Conv1d(input_size, input_size*2, ks=kernel_size, stride=2, \n",
    "                                act=True, bn=True, dropout=dropout))\n",
    "            input_size = input_size*2\n",
    "\n",
    "        self.convs = nn.Sequential(*convs)\n",
    "        self.pool = nn.AdaptiveAvgPool1d(1)\n",
    "        self.transition = nn.Linear(input_size, d_latent*2)\n",
    "    \n",
    "    def forward(self, x):\n",
    "        x = self.embedding(x)\n",
    "        x = x.permute(0,2,1)\n",
    "        x = self.convs(x)\n",
    "        x = self.pool(x).squeeze(-1)\n",
    "        \n",
    "        mu, logvar = torch.chunk(self.transition(x), 2, dim=-1)\n",
    "        z, kl_loss = self.get_latent(mu, logvar)\n",
    "        \n",
    "        return z, kl_loss\n",
    "              \n",
    "class VAELinEncoder(VAEEncoder):\n",
    "    def __init__(self, d_input, n_layers, d_latent, dropout=0.):\n",
    "        super().__init__()\n",
    "    \n",
    "        lins = []\n",
    "        input_size = d_input\n",
    "        for i in range(n_layers):\n",
    "            lins.append(Linear(input_size, input_size//2, act=True, bn=True, dropout=dropout))\n",
    "            input_size = input_size//2\n",
    "            \n",
    "        self.layers = nn.Sequential(*lins)\n",
    "        self.transition = nn.Linear(input_size, d_latent*2)\n",
    "    \n",
    "    def forward(self, x):\n",
    "        x = self.layers(x)\n",
    "        \n",
    "        mu, logvar = torch.chunk(self.transition(x), 2, dim=-1)\n",
    "        z, kl_loss = self.get_latent(mu, logvar)\n",
    "        \n",
    "        return z, kl_loss"
   ]
  },
  {
   "cell_type": "code",
   "execution_count": null,
   "metadata": {},
   "outputs": [],
   "source": [
    "class VAEDecoder(nn.Module):\n",
    "    def __init__(self, d_vocab, d_embedding, d_hidden, n_layers, d_latent,\n",
    "                condition_hidden=True, condition_output=True):\n",
    "        super().__init__()\n",
    "        \n",
    "        self.embedding = nn.Embedding(d_vocab, d_embedding)\n",
    "        self.decoder = Conditional_LSTM(d_embedding, d_hidden, d_embedding, d_latent, 3, \n",
    "                                    condition_hidden=condition_hidden, condition_output=condition_output, \n",
    "                                    bidir=False, batch_first=True)\n",
    "        \n",
    "        self.head = Linear(d_embedding, d_vocab, act=False, bn=False, dropout=0.)\n",
    "        \n",
    "    def forward(self, x, z, hiddens=None):\n",
    "        bs, sl = x.shape\n",
    "        x = self.embedding(x)\n",
    "        \n",
    "        decoded, hiddens = self.decoder(x, z, hiddens)\n",
    "        output = self.head(decoded)\n",
    "        \n",
    "        return output, hiddens"
   ]
  },
  {
   "cell_type": "code",
   "execution_count": null,
   "metadata": {},
   "outputs": [],
   "source": [
    "class VAE(nn.Module):\n",
    "    def __init__(self, encoder, decoder):\n",
    "        super().__init__()\n",
    "        \n",
    "        self.encoder = encoder\n",
    "        self.decoder = decoder\n",
    "        \n",
    "    def forward(self, x, decoder_input=None):\n",
    "        z, kl_loss = self.encoder(x)\n",
    "        \n",
    "        if decoder_input is None:\n",
    "            decoder_input = x\n",
    "            \n",
    "        output, hiddens = self.decoder(decoder_input, z)\n",
    "        return output, kl_loss"
   ]
  },
  {
   "cell_type": "code",
   "execution_count": null,
   "metadata": {},
   "outputs": [],
   "source": []
  },
  {
   "cell_type": "code",
   "execution_count": null,
   "metadata": {},
   "outputs": [],
   "source": [
    "df = pd.read_csv('../nbs/files/smiles.csv')"
   ]
  },
  {
   "cell_type": "code",
   "execution_count": null,
   "metadata": {},
   "outputs": [],
   "source": [
    "vocab = CharacterVocab(SMILES_CHAR_VOCAB)"
   ]
  },
  {
   "cell_type": "code",
   "execution_count": null,
   "metadata": {},
   "outputs": [],
   "source": [
    "data = TextDataset(df.smiles.values, vocab)"
   ]
  },
  {
   "cell_type": "code",
   "execution_count": null,
   "metadata": {},
   "outputs": [],
   "source": [
    "dl = data.dataloader(32)"
   ]
  },
  {
   "cell_type": "code",
   "execution_count": null,
   "metadata": {},
   "outputs": [],
   "source": [
    "x,y = next(iter(dl))"
   ]
  },
  {
   "cell_type": "code",
   "execution_count": null,
   "metadata": {},
   "outputs": [],
   "source": []
  },
  {
   "cell_type": "code",
   "execution_count": null,
   "metadata": {},
   "outputs": [],
   "source": [
    "# encoder = VAELSTMEncoder(len(vocab.itos), 256, 1024, 3, 512)\n",
    "encoder = VAEConvEncoder(len(vocab.itos), 256, 7, 3, 512)\n",
    "decoder = VAEDecoder(len(vocab.itos), 256, 1024, 3, 512, condition_hidden=True, condition_output=True)\n",
    "model = VAE(encoder, decoder)"
   ]
  },
  {
   "cell_type": "code",
   "execution_count": null,
   "metadata": {},
   "outputs": [],
   "source": [
    "with torch.no_grad():\n",
    "    out = model(x)"
   ]
  },
  {
   "cell_type": "code",
   "execution_count": null,
   "metadata": {},
   "outputs": [],
   "source": []
  },
  {
   "cell_type": "code",
   "execution_count": null,
   "metadata": {},
   "outputs": [],
   "source": [
    "data = FPReconstructionDataset(df.smiles.values, vocab, ECFP6)"
   ]
  },
  {
   "cell_type": "code",
   "execution_count": null,
   "metadata": {},
   "outputs": [],
   "source": [
    "dl = data.dataloader(32)"
   ]
  },
  {
   "cell_type": "code",
   "execution_count": null,
   "metadata": {},
   "outputs": [],
   "source": [
    "x,y = next(iter(dl))"
   ]
  },
  {
   "cell_type": "code",
   "execution_count": null,
   "metadata": {},
   "outputs": [
    {
     "data": {
      "text/plain": [
       "(torch.Size([32, 2048]), torch.Size([32, 67]))"
      ]
     },
     "execution_count": null,
     "metadata": {},
     "output_type": "execute_result"
    }
   ],
   "source": [
    "x.shape, y.shape"
   ]
  },
  {
   "cell_type": "code",
   "execution_count": null,
   "metadata": {},
   "outputs": [],
   "source": []
  },
  {
   "cell_type": "code",
   "execution_count": null,
   "metadata": {},
   "outputs": [],
   "source": [
    "encoder = VAELinEncoder(2048, 2, 512)\n",
    "decoder = VAEDecoder(len(vocab.itos), 256, 1024, 3, 512, condition_hidden=True, condition_output=True)\n",
    "model = VAE(encoder, decoder)"
   ]
  },
  {
   "cell_type": "code",
   "execution_count": null,
   "metadata": {},
   "outputs": [],
   "source": [
    "with torch.no_grad():\n",
    "    out = model(x,y)"
   ]
  },
  {
   "cell_type": "code",
   "execution_count": null,
   "metadata": {},
   "outputs": [
    {
     "data": {
      "text/plain": [
       "tensor(66.2236)"
      ]
     },
     "execution_count": null,
     "metadata": {},
     "output_type": "execute_result"
    }
   ],
   "source": [
    "out[-1]"
   ]
  },
  {
   "cell_type": "code",
   "execution_count": null,
   "metadata": {},
   "outputs": [
    {
     "data": {
      "text/plain": [
       "torch.Size([32, 67, 42])"
      ]
     },
     "execution_count": null,
     "metadata": {},
     "output_type": "execute_result"
    }
   ],
   "source": [
    "out[0].shape"
   ]
  },
  {
   "cell_type": "code",
   "execution_count": null,
   "metadata": {},
   "outputs": [],
   "source": []
  },
  {
   "cell_type": "code",
   "execution_count": null,
   "metadata": {},
   "outputs": [],
   "source": []
  },
  {
   "cell_type": "code",
   "execution_count": null,
   "metadata": {},
   "outputs": [],
   "source": [
    "inputs:\n",
    "    None (sample prior)\n",
    "    latents (from somewhere)\n",
    "    smiles\n",
    "    \n",
    "sample outputs"
   ]
  },
  {
   "cell_type": "code",
   "execution_count": null,
   "metadata": {},
   "outputs": [],
   "source": [
    "\n",
    "    \n",
    "\n",
    "        \n",
    "        \n",
    "class VAE(nn.Module):\n",
    "    def __init__(self, encoder, decoder, d_latent, bos_idx=0):\n",
    "        super().__init__(self)\n",
    "        \n",
    "        self.encoder = encoder\n",
    "        self.decoder = decoder\n",
    "        self.bos_idx = bos_idx\n",
    "#         self.prior = Normal(torch.tensor([0.0]*d_latent), torch.tensor([1.0]*d_latent))\n",
    "        \n",
    "    def forward(self, x):\n",
    "        z, kl_loss = self.encoder(x)\n",
    "        output = self.decoder(x, z)\n",
    "        return output, kl_loss\n",
    "    \n",
    "    \n",
    "    def sample(self, bs, sl, temperature=1., multinomial=True):\n",
    "        \n",
    "        preds = idxs = to_device(torch.tensor([self.bos_idx]*bs).long().unsqueeze(-1))\n",
    "        lps = []\n",
    "\n",
    "        hiddens = None\n",
    "        z = self.prior.sample(bs)\n",
    "        \n",
    "        for i in range(sl):\n",
    "            x = self.decoder(idxs, z, hiddens)\n",
    "            x.div_(temperature)\n",
    "            \n",
    "            log_probs = F.log_softmax(x, -1).squeeze(1)\n",
    "            probs = log_probs.detach().exp()\n",
    "            \n",
    "            if multinomial:\n",
    "                idxs = torch.multinomial(probs, 1)\n",
    "            else:\n",
    "                idxs = x.argmax(-1)\n",
    "                \n",
    "            lps.append(torch.gather(log_probs, 1, idxs))\n",
    "            \n",
    "            preds = torch.cat([preds, idxs], -1)\n",
    "            \n",
    "        return preds[:, 1:], torch.cat(lps,-1)\n",
    "    \n",
    "    def sample_no_grad(self, bs, sl, temperature=1., multinomial=True):\n",
    "        with torch.no_grad():\n",
    "            return self.sample(bs, sl, temperature=temperature, multinomial=multinomial)\n",
    "        \n",
    "    def get_lps(self, x, y, temperature=1.):\n",
    "        x = self.forward(x)\n",
    "        x.div_(temperature)\n",
    "        \n",
    "        lps = F.log_softmax(x, -1)\n",
    "        lps = lps.gather(2, y.unsqueeze(-1)).squeeze(-1)\n",
    "        \n",
    "        return lps\n",
    "    \n",
    "class TrainablePrior(nn.Module):\n",
    "    def __init__(self, vae, d_latent, prior=None):\n",
    "        super().__init__()\n",
    "        \n",
    "        self.vae = vae\n",
    "        self.d_latent = d_latent\n",
    "        \n",
    "        if prior is None:\n",
    "            prior = Normal(torch.tensor([0.0]*d_latent), torch.tensor([1.0]*d_latent))\n",
    "            \n",
    "        self.prior = prior\n",
    "        \n",
    "    def forward(self, x):\n",
    "        raise NotImplementedError\n"
   ]
  },
  {
   "cell_type": "markdown",
   "metadata": {},
   "source": [
    "VAE questions\n",
    "\n",
    "sampling from nothing vs latents vs smiles\n",
    "\n",
    "best saampling procedure. ie we saample some from latent space (latent to smilles), some from explore straat (smiles to llatent to smilles)\n",
    "\n",
    "scale of noise on latent\n",
    "\n",
    "getting log prob of prior vs \n",
    "\n",
    "conditional LSTM class - condition on hidden or on decode"
   ]
  },
  {
   "cell_type": "code",
   "execution_count": null,
   "metadata": {},
   "outputs": [],
   "source": [
    "df = pd.read_csv('../nbs/files/smiles.csv')"
   ]
  },
  {
   "cell_type": "code",
   "execution_count": null,
   "metadata": {},
   "outputs": [],
   "source": [
    "vocab = CharacterVocab(SMILES_CHAR_VOCAB)"
   ]
  },
  {
   "cell_type": "code",
   "execution_count": null,
   "metadata": {},
   "outputs": [],
   "source": [
    "data = TextDataset(df.smiles.values, vocab)"
   ]
  },
  {
   "cell_type": "code",
   "execution_count": null,
   "metadata": {},
   "outputs": [],
   "source": [
    "dl = data.dataloader(32)"
   ]
  },
  {
   "cell_type": "code",
   "execution_count": null,
   "metadata": {},
   "outputs": [],
   "source": [
    "x,y = next(iter(dl))"
   ]
  },
  {
   "cell_type": "code",
   "execution_count": null,
   "metadata": {},
   "outputs": [],
   "source": [
    "enc = VAELSTMEncoder(len(vocab.itos), 256, 1024, 3, 512)"
   ]
  },
  {
   "cell_type": "code",
   "execution_count": null,
   "metadata": {},
   "outputs": [],
   "source": [
    "out = enc(x)"
   ]
  },
  {
   "cell_type": "code",
   "execution_count": null,
   "metadata": {},
   "outputs": [
    {
     "data": {
      "text/plain": [
       "torch.Size([32, 512])"
      ]
     },
     "execution_count": null,
     "metadata": {},
     "output_type": "execute_result"
    }
   ],
   "source": [
    "out[0].shape"
   ]
  },
  {
   "cell_type": "code",
   "execution_count": null,
   "metadata": {},
   "outputs": [
    {
     "data": {
      "text/plain": [
       "tensor(0.3213, grad_fn=<MulBackward0>)"
      ]
     },
     "execution_count": null,
     "metadata": {},
     "output_type": "execute_result"
    }
   ],
   "source": [
    "out[1]"
   ]
  },
  {
   "cell_type": "code",
   "execution_count": null,
   "metadata": {},
   "outputs": [],
   "source": [
    "enc = VAEConvEncoder(len(vocab.itos), 256, 7, 3, 512)"
   ]
  },
  {
   "cell_type": "code",
   "execution_count": null,
   "metadata": {},
   "outputs": [],
   "source": [
    "out = enc(x)"
   ]
  },
  {
   "cell_type": "code",
   "execution_count": null,
   "metadata": {},
   "outputs": [
    {
     "data": {
      "text/plain": [
       "(torch.Size([32, 512]), tensor(24.9031, grad_fn=<MulBackward0>))"
      ]
     },
     "execution_count": null,
     "metadata": {},
     "output_type": "execute_result"
    }
   ],
   "source": [
    "out[0].shape, out[1]"
   ]
  },
  {
   "cell_type": "code",
   "execution_count": null,
   "metadata": {},
   "outputs": [],
   "source": [
    "data = FPReconstructionDataset(df.smiles.values, vocab, ECFP6)"
   ]
  },
  {
   "cell_type": "code",
   "execution_count": null,
   "metadata": {},
   "outputs": [],
   "source": [
    "dl = data.dataloader(32)"
   ]
  },
  {
   "cell_type": "code",
   "execution_count": null,
   "metadata": {},
   "outputs": [
    {
     "data": {
      "text/plain": [
       "(torch.Size([32, 2048]), torch.Size([32, 67]))"
      ]
     },
     "execution_count": null,
     "metadata": {},
     "output_type": "execute_result"
    }
   ],
   "source": [
    "x,y = next(iter(dl))\n",
    "x.shape, y.shape"
   ]
  },
  {
   "cell_type": "code",
   "execution_count": null,
   "metadata": {},
   "outputs": [],
   "source": [
    "enc = VAELinEncoder(2048, 3, 512)"
   ]
  },
  {
   "cell_type": "code",
   "execution_count": null,
   "metadata": {},
   "outputs": [
    {
     "data": {
      "text/plain": [
       "(tensor([[-0.7992,  0.8107, -0.6547,  ...,  0.3234,  1.5410, -0.3869],\n",
       "         [-1.7719, -0.4245,  1.9757,  ...,  0.7609, -0.6874,  0.3805],\n",
       "         [-1.7048,  1.0605,  2.8063,  ..., -1.6529, -0.7574, -0.9330],\n",
       "         ...,\n",
       "         [ 1.1450, -0.6193, -1.9589,  ..., -1.1366,  0.7022,  2.8290],\n",
       "         [ 1.2373,  3.1392, -0.9202,  ...,  0.5538,  1.6990, -1.0942],\n",
       "         [-0.0762,  0.0967,  2.3909,  ..., -0.3375,  1.1847,  0.1257]],\n",
       "        grad_fn=<AddBackward0>), tensor(64.6368, grad_fn=<MulBackward0>))"
      ]
     },
     "execution_count": null,
     "metadata": {},
     "output_type": "execute_result"
    }
   ],
   "source": [
    "enc(x)"
   ]
  },
  {
   "cell_type": "code",
   "execution_count": null,
   "metadata": {},
   "outputs": [],
   "source": []
  },
  {
   "cell_type": "code",
   "execution_count": null,
   "metadata": {},
   "outputs": [],
   "source": []
  },
  {
   "cell_type": "code",
   "execution_count": null,
   "metadata": {},
   "outputs": [],
   "source": []
  },
  {
   "cell_type": "code",
   "execution_count": null,
   "metadata": {},
   "outputs": [],
   "source": []
  },
  {
   "cell_type": "code",
   "execution_count": null,
   "metadata": {},
   "outputs": [],
   "source": []
  },
  {
   "cell_type": "code",
   "execution_count": null,
   "metadata": {},
   "outputs": [],
   "source": []
  },
  {
   "cell_type": "code",
   "execution_count": null,
   "metadata": {},
   "outputs": [],
   "source": [
    "import torch\n",
    "import torch.nn as nn\n",
    "import torch.nn.functional as F\n",
    "from torch.utils.data import Dataset, DataLoader"
   ]
  },
  {
   "cell_type": "code",
   "execution_count": null,
   "metadata": {},
   "outputs": [],
   "source": []
  },
  {
   "cell_type": "code",
   "execution_count": null,
   "metadata": {},
   "outputs": [],
   "source": [
    "from mrl.dataloaders import *\n",
    "from mrl.chem import *\n",
    "from mrl.core import *"
   ]
  },
  {
   "cell_type": "code",
   "execution_count": null,
   "metadata": {},
   "outputs": [],
   "source": [
    "vocab = CharacterVocab(SMILES_CHAR_VOCAB)"
   ]
  },
  {
   "cell_type": "code",
   "execution_count": null,
   "metadata": {},
   "outputs": [],
   "source": [
    "model = LSTMLM(len(vocab.itos), 256, 1024, 3, vocab.stoi['pad'])"
   ]
  },
  {
   "cell_type": "code",
   "execution_count": null,
   "metadata": {},
   "outputs": [
    {
     "data": {
      "text/plain": [
       "<All keys matched successfully>"
      ]
     },
     "execution_count": null,
     "metadata": {},
     "output_type": "execute_result"
    }
   ],
   "source": [
    "model.load_state_dict(torch.load('untracked_files/smiles_lm.pt'))"
   ]
  },
  {
   "cell_type": "code",
   "execution_count": null,
   "metadata": {},
   "outputs": [],
   "source": [
    "model.cuda();"
   ]
  },
  {
   "cell_type": "code",
   "execution_count": null,
   "metadata": {},
   "outputs": [],
   "source": [
    "from mrl.templates import *"
   ]
  },
  {
   "cell_type": "code",
   "execution_count": null,
   "metadata": {},
   "outputs": [],
   "source": []
  },
  {
   "cell_type": "code",
   "execution_count": null,
   "metadata": {},
   "outputs": [],
   "source": [
    "# template = Template([ValidityFilter(), SingleCompoundFilter()],\n",
    "#                     [QEDFilter(None, None, score=PassThroughScore()),\n",
    "#                      SAFilter(None, None, \n",
    "#                               score=PropertyFunctionScore(lambda x: (10-x)/9))], fail_score=-1.)\n",
    "\n",
    "template = Template([ValidityFilter(), SingleCompoundFilter()],\n",
    "                    [FPFilter.from_smiles(['CCN(CC)C(=O)C1CN(C2Cc3c[nH]c4c3c(ccc4)C2=C1)C',\n",
    "                                           'CCN(CC)C(=O)C1CN(C2Cc3c[nH]c4c3c(ccc4)C2=C1)C'],\n",
    "                        score=PropertyFunctionScore(lambda x: x.max()))], fail_score=-1.)\n",
    "\n"
   ]
  },
  {
   "cell_type": "code",
   "execution_count": null,
   "metadata": {},
   "outputs": [],
   "source": []
  },
  {
   "cell_type": "code",
   "execution_count": null,
   "metadata": {},
   "outputs": [],
   "source": [
    "preds, lps = model.sample_no_grad(100,100)\n",
    "smiles = [vocab.reconstruct(i) for i in preds]"
   ]
  },
  {
   "cell_type": "code",
   "execution_count": null,
   "metadata": {},
   "outputs": [],
   "source": [
    "os.environ['ncpus'] = '0'"
   ]
  },
  {
   "cell_type": "code",
   "execution_count": null,
   "metadata": {},
   "outputs": [
    {
     "data": {
      "text/plain": [
       "tensor([-1.2723e-01, -1.7745e+00, -8.4397e-01, -1.4067e-05, -4.9586e-02,\n",
       "        -5.0757e-02, -3.1345e-01, -5.1511e-01, -2.1337e+00, -4.2084e-01,\n",
       "        -2.9031e-02, -4.2183e-02, -4.1649e-02, -4.2915e-06, -9.7015e-01,\n",
       "        -7.6850e-01, -2.3939e-02, -4.6610e-05, -5.0068e-06, -4.6310e-03,\n",
       "        -1.2957e+00, -1.2310e-02, -1.6524e-01, -2.5445e+00, -4.6870e-01,\n",
       "        -4.6492e-06, -1.5020e-05, -8.2051e-01, -1.9669e-05, -5.8349e-02,\n",
       "        -2.2157e+00, -7.0333e-06, -5.9605e-07, -6.9516e-01, -3.3731e-04,\n",
       "        -2.7418e-06, -5.3541e-01, -2.4554e-04, -1.6570e-05, -8.4332e-02,\n",
       "        -7.7576e-01, -5.1260e-06, -3.1828e-05, -1.2875e-05, -1.0827e-02,\n",
       "        -4.4455e-01, -3.4791e-04, -2.1357e+00, -1.2579e+00, -3.5405e-05,\n",
       "        -1.5210e-04, -1.5497e-06, -3.9339e-06, -7.4573e-04, -1.8477e-05,\n",
       "        -4.4107e-06, -1.0014e-05, -3.5763e-07,  0.0000e+00,  0.0000e+00,\n",
       "         0.0000e+00,  0.0000e+00,  0.0000e+00,  0.0000e+00,  0.0000e+00,\n",
       "         0.0000e+00,  0.0000e+00,  0.0000e+00,  0.0000e+00,  0.0000e+00,\n",
       "         0.0000e+00,  0.0000e+00,  0.0000e+00,  0.0000e+00,  0.0000e+00,\n",
       "         0.0000e+00,  0.0000e+00,  0.0000e+00,  0.0000e+00,  0.0000e+00,\n",
       "         0.0000e+00,  0.0000e+00,  0.0000e+00,  0.0000e+00,  0.0000e+00,\n",
       "         0.0000e+00,  0.0000e+00,  0.0000e+00,  0.0000e+00,  0.0000e+00,\n",
       "         0.0000e+00,  0.0000e+00,  0.0000e+00,  0.0000e+00,  0.0000e+00,\n",
       "         0.0000e+00,  0.0000e+00,  0.0000e+00,  0.0000e+00,  0.0000e+00],\n",
       "       device='cuda:0')"
      ]
     },
     "execution_count": null,
     "metadata": {},
     "output_type": "execute_result"
    }
   ],
   "source": [
    "lps[0]"
   ]
  },
  {
   "cell_type": "code",
   "execution_count": null,
   "metadata": {},
   "outputs": [],
   "source": [
    "data = TextDataset(smiles, vocab)"
   ]
  },
  {
   "cell_type": "code",
   "execution_count": null,
   "metadata": {},
   "outputs": [],
   "source": [
    "x,y = data.collate_function([data[i] for i in range(len(data))])"
   ]
  },
  {
   "cell_type": "code",
   "execution_count": null,
   "metadata": {},
   "outputs": [],
   "source": [
    "with torch.no_grad():\n",
    "    out = model(x.cuda())"
   ]
  },
  {
   "cell_type": "code",
   "execution_count": null,
   "metadata": {},
   "outputs": [
    {
     "data": {
      "text/plain": [
       "torch.Size([100, 71, 42])"
      ]
     },
     "execution_count": null,
     "metadata": {},
     "output_type": "execute_result"
    }
   ],
   "source": [
    "out.shape"
   ]
  },
  {
   "cell_type": "code",
   "execution_count": null,
   "metadata": {},
   "outputs": [
    {
     "data": {
      "text/plain": [
       "torch.Size([100, 71])"
      ]
     },
     "execution_count": null,
     "metadata": {},
     "output_type": "execute_result"
    }
   ],
   "source": [
    "y.shape"
   ]
  },
  {
   "cell_type": "code",
   "execution_count": null,
   "metadata": {},
   "outputs": [
    {
     "data": {
      "text/plain": [
       "torch.Size([100, 100])"
      ]
     },
     "execution_count": null,
     "metadata": {},
     "output_type": "execute_result"
    }
   ],
   "source": [
    "lps.shape"
   ]
  },
  {
   "cell_type": "code",
   "execution_count": null,
   "metadata": {},
   "outputs": [],
   "source": [
    "out = F.log_softmax(out, -1)"
   ]
  },
  {
   "cell_type": "code",
   "execution_count": null,
   "metadata": {},
   "outputs": [
    {
     "data": {
      "text/plain": [
       "tensor([-1.2723e-01, -1.7745e+00, -8.4397e-01, -1.4067e-05, -4.9586e-02,\n",
       "        -5.0757e-02, -3.1345e-01, -5.1511e-01, -2.1337e+00, -4.2084e-01,\n",
       "        -2.9031e-02, -4.2183e-02, -4.1649e-02, -4.2915e-06, -9.7015e-01,\n",
       "        -7.6850e-01, -2.3939e-02, -4.6610e-05, -5.0068e-06, -4.6310e-03,\n",
       "        -1.2957e+00, -1.2310e-02, -1.6524e-01, -2.5445e+00, -4.6870e-01,\n",
       "        -4.6492e-06, -1.5020e-05, -8.2051e-01, -1.9669e-05, -5.8349e-02,\n",
       "        -2.2157e+00, -7.0333e-06, -5.9605e-07, -6.9516e-01, -3.3731e-04,\n",
       "        -2.7418e-06, -5.3541e-01, -2.4554e-04, -1.6570e-05, -8.4332e-02,\n",
       "        -7.7576e-01, -5.1260e-06, -3.1828e-05, -1.2875e-05, -1.0827e-02,\n",
       "        -4.4455e-01, -3.4791e-04, -2.1357e+00, -1.2579e+00, -3.5405e-05,\n",
       "        -1.5210e-04, -1.5497e-06, -3.9339e-06, -7.4573e-04, -1.8477e-05,\n",
       "        -4.4107e-06, -1.0014e-05, -3.5763e-07,  0.0000e+00,  0.0000e+00,\n",
       "         0.0000e+00,  0.0000e+00,  0.0000e+00,  0.0000e+00,  0.0000e+00,\n",
       "         0.0000e+00,  0.0000e+00,  0.0000e+00,  0.0000e+00,  0.0000e+00,\n",
       "         0.0000e+00], device='cuda:0')"
      ]
     },
     "execution_count": null,
     "metadata": {},
     "output_type": "execute_result"
    }
   ],
   "source": [
    "out.gather(2, y.cuda().unsqueeze(-1)).squeeze(-1)[0]"
   ]
  },
  {
   "cell_type": "code",
   "execution_count": null,
   "metadata": {},
   "outputs": [
    {
     "data": {
      "text/plain": [
       "tensor([-1.2723e-01, -1.7745e+00, -8.4397e-01, -1.4067e-05, -4.9586e-02,\n",
       "        -5.0757e-02, -3.1345e-01, -5.1511e-01, -2.1337e+00, -4.2084e-01,\n",
       "        -2.9031e-02, -4.2183e-02, -4.1649e-02, -4.2915e-06, -9.7015e-01,\n",
       "        -7.6850e-01, -2.3939e-02, -4.6610e-05, -5.0068e-06, -4.6310e-03,\n",
       "        -1.2957e+00, -1.2310e-02, -1.6524e-01, -2.5445e+00, -4.6870e-01,\n",
       "        -4.6492e-06, -1.5020e-05, -8.2051e-01, -1.9669e-05, -5.8349e-02,\n",
       "        -2.2157e+00, -7.0333e-06, -5.9605e-07, -6.9516e-01, -3.3731e-04,\n",
       "        -2.7418e-06, -5.3541e-01, -2.4554e-04, -1.6570e-05, -8.4332e-02,\n",
       "        -7.7576e-01, -5.1260e-06, -3.1828e-05, -1.2875e-05, -1.0827e-02,\n",
       "        -4.4455e-01, -3.4791e-04, -2.1357e+00, -1.2579e+00, -3.5405e-05,\n",
       "        -1.5210e-04, -1.5497e-06, -3.9339e-06, -7.4573e-04, -1.8477e-05,\n",
       "        -4.4107e-06, -1.0014e-05, -3.5763e-07,  0.0000e+00,  0.0000e+00,\n",
       "         0.0000e+00,  0.0000e+00,  0.0000e+00,  0.0000e+00,  0.0000e+00,\n",
       "         0.0000e+00,  0.0000e+00,  0.0000e+00,  0.0000e+00,  0.0000e+00,\n",
       "         0.0000e+00,  0.0000e+00,  0.0000e+00,  0.0000e+00,  0.0000e+00,\n",
       "         0.0000e+00,  0.0000e+00,  0.0000e+00,  0.0000e+00,  0.0000e+00,\n",
       "         0.0000e+00,  0.0000e+00,  0.0000e+00,  0.0000e+00,  0.0000e+00,\n",
       "         0.0000e+00,  0.0000e+00,  0.0000e+00,  0.0000e+00,  0.0000e+00,\n",
       "         0.0000e+00,  0.0000e+00,  0.0000e+00,  0.0000e+00,  0.0000e+00,\n",
       "         0.0000e+00,  0.0000e+00,  0.0000e+00,  0.0000e+00,  0.0000e+00],\n",
       "       device='cuda:0')"
      ]
     },
     "execution_count": null,
     "metadata": {},
     "output_type": "execute_result"
    }
   ],
   "source": [
    "lps[0]"
   ]
  },
  {
   "cell_type": "code",
   "execution_count": null,
   "metadata": {},
   "outputs": [],
   "source": []
  },
  {
   "cell_type": "code",
   "execution_count": null,
   "metadata": {},
   "outputs": [],
   "source": []
  },
  {
   "cell_type": "code",
   "execution_count": null,
   "metadata": {},
   "outputs": [],
   "source": [
    "opt = torch.optim.Adam(model.parameters(), lr=1e-3)"
   ]
  },
  {
   "cell_type": "code",
   "execution_count": null,
   "metadata": {},
   "outputs": [],
   "source": []
  },
  {
   "cell_type": "code",
   "execution_count": null,
   "metadata": {},
   "outputs": [
    {
     "name": "stdout",
     "output_type": "stream",
     "text": [
      "0 0.10146588268993592\n",
      "10 0.1338634037010431\n",
      "seeding\n",
      "20 0.273065905888256\n",
      "30 0.3125\n",
      "40 0.3478260869565218\n",
      "seeding\n",
      "seeding\n",
      "50 0.3492438563327031\n",
      "seeding\n",
      "seeding\n",
      "60 0.3462030604883481\n",
      "70 0.3478260869565217\n",
      "seeding\n",
      "80 0.3478260869565217\n",
      "seeding\n",
      "seeding\n",
      "90 0.34734440309388576\n"
     ]
    }
   ],
   "source": [
    "all_scores = []\n",
    "\n",
    "for i in range(100):\n",
    "        \n",
    "    preds, lps = model.sample_no_grad(512,90)\n",
    "    smiles = [vocab.reconstruct(i) for i in preds]\n",
    "    \n",
    "    if np.random.rand(1)<0.05:\n",
    "        print('seeding')\n",
    "        smiles.append('CCN(CC)C(=O)C1CN(C2Cc3c[nH]c4c3c(ccc4)C2=C1)C')\n",
    "\n",
    "    passes, fails = template.screen_mols(smiles)\n",
    "\n",
    "    if passes:\n",
    "        smiles = [i[0] for i in passes]\n",
    "        scores = np.array([i[1] for i in passes])\n",
    "\n",
    "        data = TextDataset(smiles, vocab)\n",
    "\n",
    "        x,y = data.collate_function([data[i] for i in range(len(data))])\n",
    "\n",
    "        lps = model(x.cuda())\n",
    "        lps = F.log_softmax(lps, -1)\n",
    "        lps = lps.gather(2, y.cuda().unsqueeze(-1)).squeeze(-1)\n",
    "\n",
    "        all_scores.append(scores)\n",
    "        scores = scores - scores.mean()\n",
    "\n",
    "        opt.zero_grad()\n",
    "        loss = -(lps.sum(-1))*torch.from_numpy(scores).cuda()\n",
    "        loss = loss.mean()\n",
    "        loss.backward()\n",
    "        opt.step()\n",
    "\n",
    "    if i%10==0:\n",
    "        print(i, all_scores[-1].mean())"
   ]
  },
  {
   "cell_type": "code",
   "execution_count": null,
   "metadata": {},
   "outputs": [
    {
     "data": {
      "text/html": [
       "<div>\n",
       "<style scoped>\n",
       "    .dataframe tbody tr th:only-of-type {\n",
       "        vertical-align: middle;\n",
       "    }\n",
       "\n",
       "    .dataframe tbody tr th {\n",
       "        vertical-align: top;\n",
       "    }\n",
       "\n",
       "    .dataframe thead th {\n",
       "        text-align: right;\n",
       "    }\n",
       "</style>\n",
       "<table border=\"1\" class=\"dataframe\">\n",
       "  <thead>\n",
       "    <tr style=\"text-align: right;\">\n",
       "      <th></th>\n",
       "      <th>smiles</th>\n",
       "      <th>0</th>\n",
       "      <th>final</th>\n",
       "    </tr>\n",
       "  </thead>\n",
       "  <tbody>\n",
       "    <tr>\n",
       "      <th>8527</th>\n",
       "      <td>CCN(CC)C(=O)C1C=C2c3cccc4[nH]cc(c34)CC2N(C)C1</td>\n",
       "      <td>1.000000</td>\n",
       "      <td>1.000000</td>\n",
       "    </tr>\n",
       "    <tr>\n",
       "      <th>8601</th>\n",
       "      <td>CCN(C(=O)c1c[nH]c2cccc(C(=O)O)c12)C1CN(C)C1</td>\n",
       "      <td>0.312500</td>\n",
       "      <td>0.312500</td>\n",
       "    </tr>\n",
       "    <tr>\n",
       "      <th>8667</th>\n",
       "      <td>CCN(C(=O)c1c[nH]c2cccc(C(=O)O)c12)N1C[C@H](C)C...</td>\n",
       "      <td>0.303030</td>\n",
       "      <td>0.303030</td>\n",
       "    </tr>\n",
       "    <tr>\n",
       "      <th>8668</th>\n",
       "      <td>CCN(C(=O)c1c[nH]c2cccc(C(=O)O)c12)C1CN(C)N1</td>\n",
       "      <td>0.309278</td>\n",
       "      <td>0.309278</td>\n",
       "    </tr>\n",
       "    <tr>\n",
       "      <th>8686</th>\n",
       "      <td>CCN(C(=O)c1c[nH]c2cccc(C(=O)O)c12)C1CN1C</td>\n",
       "      <td>0.347826</td>\n",
       "      <td>0.347826</td>\n",
       "    </tr>\n",
       "    <tr>\n",
       "      <th>8690</th>\n",
       "      <td>CCN(C(=O)c1c[nH]c2cccc(C(=O)O)c12)C1CN(C)S1(=O)=O</td>\n",
       "      <td>0.313131</td>\n",
       "      <td>0.313131</td>\n",
       "    </tr>\n",
       "    <tr>\n",
       "      <th>8693</th>\n",
       "      <td>CCN(C(=O)c1c[nH]c2cccc(C(=O)O)c12)C1CN1N</td>\n",
       "      <td>0.302083</td>\n",
       "      <td>0.302083</td>\n",
       "    </tr>\n",
       "    <tr>\n",
       "      <th>8696</th>\n",
       "      <td>CCN(CC)C(=O)c1c[nH]c2cccc(C(=O)O)c12</td>\n",
       "      <td>0.310345</td>\n",
       "      <td>0.310345</td>\n",
       "    </tr>\n",
       "    <tr>\n",
       "      <th>8720</th>\n",
       "      <td>CCN(C(=O)C(=O)c1c[nH]c2cccc(C(=O)O)c12)C1CN1C</td>\n",
       "      <td>0.340426</td>\n",
       "      <td>0.340426</td>\n",
       "    </tr>\n",
       "  </tbody>\n",
       "</table>\n",
       "</div>"
      ],
      "text/plain": [
       "                                                 smiles         0     final\n",
       "8527      CCN(CC)C(=O)C1C=C2c3cccc4[nH]cc(c34)CC2N(C)C1  1.000000  1.000000\n",
       "8601        CCN(C(=O)c1c[nH]c2cccc(C(=O)O)c12)C1CN(C)C1  0.312500  0.312500\n",
       "8667  CCN(C(=O)c1c[nH]c2cccc(C(=O)O)c12)N1C[C@H](C)C...  0.303030  0.303030\n",
       "8668        CCN(C(=O)c1c[nH]c2cccc(C(=O)O)c12)C1CN(C)N1  0.309278  0.309278\n",
       "8686           CCN(C(=O)c1c[nH]c2cccc(C(=O)O)c12)C1CN1C  0.347826  0.347826\n",
       "8690  CCN(C(=O)c1c[nH]c2cccc(C(=O)O)c12)C1CN(C)S1(=O)=O  0.313131  0.313131\n",
       "8693           CCN(C(=O)c1c[nH]c2cccc(C(=O)O)c12)C1CN1N  0.302083  0.302083\n",
       "8696               CCN(CC)C(=O)c1c[nH]c2cccc(C(=O)O)c12  0.310345  0.310345\n",
       "8720      CCN(C(=O)C(=O)c1c[nH]c2cccc(C(=O)O)c12)C1CN1C  0.340426  0.340426"
      ]
     },
     "execution_count": null,
     "metadata": {},
     "output_type": "execute_result"
    }
   ],
   "source": [
    "template.soft_log[template.soft_log.final>0.3]"
   ]
  },
  {
   "cell_type": "code",
   "execution_count": null,
   "metadata": {},
   "outputs": [
    {
     "data": {
      "image/png": "[encoded data removed]",
      "text/plain": [
       "<rdkit.Chem.rdchem.Mol at 0x1a08586cd00>"
      ]
     },
     "execution_count": null,
     "metadata": {},
     "output_type": "execute_result"
    }
   ],
   "source": [
    "to_mol('CCN(C(=O)C(=O)c1c[nH]c2cccc(C(=O)O)c12)C1CN1C')"
   ]
  },
  {
   "cell_type": "code",
   "execution_count": null,
   "metadata": {},
   "outputs": [],
   "source": []
  },
  {
   "cell_type": "code",
   "execution_count": null,
   "metadata": {},
   "outputs": [],
   "source": []
  },
  {
   "cell_type": "code",
   "execution_count": null,
   "metadata": {},
   "outputs": [],
   "source": []
  },
  {
   "cell_type": "code",
   "execution_count": null,
   "metadata": {},
   "outputs": [],
   "source": []
  },
  {
   "cell_type": "code",
   "execution_count": null,
   "metadata": {},
   "outputs": [],
   "source": []
  },
  {
   "cell_type": "markdown",
   "metadata": {},
   "source": [
    "torch/models roadmap\n",
    "\n",
    "torch_core\n",
    "    tensor operations\n",
    "    gather\n",
    "    \n",
    "dataloaders\n",
    "    vocab\n",
    "    dataset\n",
    "    dataloader\n",
    "\n",
    "models\n",
    "    LSTM LM\n",
    "    VAE\n",
    "    transformer\n",
    "    contain supervised training loop\n",
    "    dataset/dataloader\n",
    "\n",
    "fastai"
   ]
  },
  {
   "cell_type": "markdown",
   "metadata": {},
   "source": [
    "move onto torch/models\n",
    "get protein model running\n",
    "come back to chem/templates, remake with protein variants. code will hopefully be simpler\n",
    "\n",
    "\n",
    "get collab working\n",
    "get google search working\n",
    "\n",
    "torch core\n",
    "models (lstm, vae, transformer)\n",
    "    work in protein stuff here\n",
    "\n",
    "score functions\n",
    "\n",
    "training loop\n",
    "\n",
    "poicy gradients\n",
    "\n",
    "q-network\n",
    "\n",
    "diff-loss\n",
    "\n",
    "exploration strategies\n",
    "\n",
    "combichem\n",
    "\n",
    "pharmacophore \n",
    "\n",
    "\n",
    "pages\n",
    "overview\n",
    "\n",
    "generrative screening primerr"
   ]
  },
  {
   "cell_type": "code",
   "execution_count": null,
   "metadata": {},
   "outputs": [],
   "source": []
  },
  {
   "cell_type": "code",
   "execution_count": null,
   "metadata": {},
   "outputs": [],
   "source": [
    "(math.tanh((step - 15000)/1000) + 1) / 2"
   ]
  },
  {
   "cell_type": "code",
   "execution_count": null,
   "metadata": {},
   "outputs": [],
   "source": [
    "import math"
   ]
  },
  {
   "cell_type": "code",
   "execution_count": null,
   "metadata": {},
   "outputs": [
    {
     "data": {
      "text/plain": [
       "[<matplotlib.lines.Line2D at 0x12f7a0438>]"
      ]
     },
     "execution_count": null,
     "metadata": {},
     "output_type": "execute_result"
    },
    {
     "data": {
      "image/png": "[encoded data removed]",
      "text/plain": [
       "<Figure size 432x288 with 1 Axes>"
      ]
     },
     "metadata": {
      "needs_background": "light"
     },
     "output_type": "display_data"
    }
   ],
   "source": [
    "plt.plot([(math.tanh((step - 15000)/1000) + 1) / 2 for step in range(0,20000,100)])"
   ]
  },
  {
   "cell_type": "code",
   "execution_count": null,
   "metadata": {},
   "outputs": [],
   "source": []
  }
 ],
 "metadata": {
  "kernelspec": {
   "display_name": "Python 3",
   "language": "python",
   "name": "python3"
  }
 },
 "nbformat": 4,
 "nbformat_minor": 2
}
