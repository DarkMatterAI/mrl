{
 "cells": [
  {
   "cell_type": "code",
   "execution_count": 1,
   "metadata": {},
   "outputs": [],
   "source": [
    "import sys\n",
    "sys.path.append('../')"
   ]
  },
  {
   "cell_type": "code",
   "execution_count": 2,
   "metadata": {},
   "outputs": [
    {
     "name": "stderr",
     "output_type": "stream",
     "text": [
      "/home/dmai/miniconda3/envs/mrl/lib/python3.6/importlib/_bootstrap.py:219: RuntimeWarning: to-Python converter for boost::shared_ptr<RDKit::FilterCatalogEntry const> already registered; second conversion method ignored.\n",
      "  return f(*args, **kwds)\n"
     ]
    }
   ],
   "source": [
    "from mrl.imports import *\n",
    "from mrl.core import *\n",
    "from mrl.chem import *\n",
    "from mrl.templates import *"
   ]
  },
  {
   "cell_type": "code",
   "execution_count": 3,
   "metadata": {},
   "outputs": [],
   "source": [
    "from mrl.torch_imports import *\n",
    "from mrl.torch_core import *\n",
    "from mrl.layers import *\n",
    "from mrl.dataloaders import *\n",
    "from mrl.g_models import *\n",
    "from mrl.agent import *"
   ]
  },
  {
   "cell_type": "code",
   "execution_count": null,
   "metadata": {},
   "outputs": [],
   "source": []
  },
  {
   "cell_type": "code",
   "execution_count": 4,
   "metadata": {},
   "outputs": [],
   "source": [
    "from collections import namedtuple"
   ]
  },
  {
   "cell_type": "code",
   "execution_count": null,
   "metadata": {},
   "outputs": [],
   "source": []
  },
  {
   "cell_type": "code",
   "execution_count": 15,
   "metadata": {},
   "outputs": [],
   "source": [
    "from typing import Any, NamedTuple"
   ]
  },
  {
   "cell_type": "code",
   "execution_count": 29,
   "metadata": {},
   "outputs": [],
   "source": [
    "class Node(NamedTuple):\n",
    "    sample: Any\n",
    "    score: '0'=None\n",
    "    "
   ]
  },
  {
   "cell_type": "code",
   "execution_count": 30,
   "metadata": {},
   "outputs": [
    {
     "data": {
      "text/plain": [
       "Node(sample='c', score=None)"
      ]
     },
     "execution_count": 30,
     "metadata": {},
     "output_type": "execute_result"
    }
   ],
   "source": [
    "Node('c',)"
   ]
  },
  {
   "cell_type": "code",
   "execution_count": null,
   "metadata": {},
   "outputs": [],
   "source": []
  },
  {
   "cell_type": "code",
   "execution_count": 9,
   "metadata": {},
   "outputs": [],
   "source": [
    "t1 = (('ccc', 'c'), 5)\n",
    "t2 = (('c1c', 'c'), 6)\n",
    "t3 = (('ccc', 'c'), 5)"
   ]
  },
  {
   "cell_type": "code",
   "execution_count": 10,
   "metadata": {},
   "outputs": [
    {
     "data": {
      "text/plain": [
       "{(('c1c', 'c'), 6), (('ccc', 'c'), 5)}"
      ]
     },
     "execution_count": 10,
     "metadata": {},
     "output_type": "execute_result"
    }
   ],
   "source": [
    "set([t1,t2,t3])"
   ]
  },
  {
   "cell_type": "code",
   "execution_count": 14,
   "metadata": {},
   "outputs": [
    {
     "ename": "TypeError",
     "evalue": "namedtuple() got an unexpected keyword argument 'defaults'",
     "output_type": "error",
     "traceback": [
      "\u001b[0;31m---------------------------------------------------------------------------\u001b[0m",
      "\u001b[0;31mTypeError\u001b[0m                                 Traceback (most recent call last)",
      "\u001b[0;32m<ipython-input-14-ec6f5eeb8d5e>\u001b[0m in \u001b[0;36m<module>\u001b[0;34m\u001b[0m\n\u001b[0;32m----> 1\u001b[0;31m \u001b[0mtup\u001b[0m \u001b[0;34m=\u001b[0m \u001b[0mnamedtuple\u001b[0m\u001b[0;34m(\u001b[0m\u001b[0;34m'BufferItem'\u001b[0m\u001b[0;34m,\u001b[0m \u001b[0;34m[\u001b[0m\u001b[0;34m'sample'\u001b[0m\u001b[0;34m,\u001b[0m \u001b[0;34m'score'\u001b[0m\u001b[0;34m]\u001b[0m\u001b[0;34m,\u001b[0m \u001b[0mdefaults\u001b[0m\u001b[0;34m=\u001b[0m\u001b[0;34m(\u001b[0m\u001b[0;32mNone\u001b[0m\u001b[0;34m,\u001b[0m\u001b[0;32mNone\u001b[0m\u001b[0;34m)\u001b[0m\u001b[0;34m)\u001b[0m\u001b[0;34m\u001b[0m\u001b[0;34m\u001b[0m\u001b[0m\n\u001b[0m",
      "\u001b[0;31mTypeError\u001b[0m: namedtuple() got an unexpected keyword argument 'defaults'"
     ]
    }
   ],
   "source": [
    "tup = namedtuple('BufferItem', ['sample', 'score'], defaults=(None,None))"
   ]
  },
  {
   "cell_type": "code",
   "execution_count": null,
   "metadata": {},
   "outputs": [],
   "source": []
  },
  {
   "cell_type": "code",
   "execution_count": 12,
   "metadata": {},
   "outputs": [],
   "source": [
    "t1 = tup('cccc', 5)\n",
    "t2 = tup('c1c', 6)\n",
    "t3 = tup('cccc', 5)"
   ]
  },
  {
   "cell_type": "code",
   "execution_count": 13,
   "metadata": {
    "scrolled": true
   },
   "outputs": [
    {
     "data": {
      "text/plain": [
       "{BufferItem(sample='c1c', score=6), BufferItem(sample='cccc', score=5)}"
      ]
     },
     "execution_count": 13,
     "metadata": {},
     "output_type": "execute_result"
    }
   ],
   "source": [
    "set([t1,t2,t3])"
   ]
  },
  {
   "cell_type": "code",
   "execution_count": null,
   "metadata": {},
   "outputs": [],
   "source": [
    "class BufferItem(tuple):\n",
    "    def __init__(self, sample, score=None)"
   ]
  },
  {
   "cell_type": "code",
   "execution_count": null,
   "metadata": {},
   "outputs": [],
   "source": []
  },
  {
   "cell_type": "code",
   "execution_count": null,
   "metadata": {},
   "outputs": [],
   "source": []
  },
  {
   "cell_type": "code",
   "execution_count": null,
   "metadata": {},
   "outputs": [],
   "source": []
  },
  {
   "cell_type": "code",
   "execution_count": 4,
   "metadata": {},
   "outputs": [],
   "source": [
    "def permute_attachments(smile):\n",
    "    atts = smile.count('*')\n",
    "    \n",
    "    if atts>1:\n",
    "        chars = ['[H]' if i=='*' else i for i in smile]\n",
    "        att_idxs = [i for i in range(len(smile)) if smile[i]=='*']\n",
    "        outputs = []\n",
    "        \n",
    "        for i, idx in enumerate(att_idxs):\n",
    "            chars_iter = list(chars)\n",
    "            chars_iter[idx] = '*'\n",
    "            smile_iter = ''.join(chars_iter)\n",
    "            smile_iter = canon_smile(smile_iter)\n",
    "            outputs.append(smile_iter)\n",
    "            \n",
    "    else:\n",
    "        outputs = [smile]\n",
    "        \n",
    "    return outputs"
   ]
  },
  {
   "cell_type": "code",
   "execution_count": null,
   "metadata": {},
   "outputs": [],
   "source": []
  },
  {
   "cell_type": "code",
   "execution_count": 5,
   "metadata": {},
   "outputs": [],
   "source": [
    "# df = pd.read_csv('../../smiles_datasets/single_frags.csv')\n",
    "df = pd.read_csv('../../smiles_datasets/chembl/chembl.csv')"
   ]
  },
  {
   "cell_type": "code",
   "execution_count": 6,
   "metadata": {},
   "outputs": [
    {
     "data": {
      "text/html": [
       "<div>\n",
       "<style scoped>\n",
       "    .dataframe tbody tr th:only-of-type {\n",
       "        vertical-align: middle;\n",
       "    }\n",
       "\n",
       "    .dataframe tbody tr th {\n",
       "        vertical-align: top;\n",
       "    }\n",
       "\n",
       "    .dataframe thead th {\n",
       "        text-align: right;\n",
       "    }\n",
       "</style>\n",
       "<table border=\"1\" class=\"dataframe\">\n",
       "  <thead>\n",
       "    <tr style=\"text-align: right;\">\n",
       "      <th></th>\n",
       "      <th>ChEMBL ID</th>\n",
       "      <th>Name</th>\n",
       "      <th>Synonyms</th>\n",
       "      <th>Type</th>\n",
       "      <th>Max Phase</th>\n",
       "      <th>Molecular Weight</th>\n",
       "      <th>Targets</th>\n",
       "      <th>Bioactivities</th>\n",
       "      <th>AlogP</th>\n",
       "      <th>PSA</th>\n",
       "      <th>...</th>\n",
       "      <th>Inorganic Flag</th>\n",
       "      <th>Heavy Atoms</th>\n",
       "      <th>HBA Lipinski</th>\n",
       "      <th>HBD Lipinski</th>\n",
       "      <th>#RO5 Violations (Lipinski)</th>\n",
       "      <th>Molecular Weight (Monoisotopic)</th>\n",
       "      <th>Molecular Species</th>\n",
       "      <th>Molecular Formula</th>\n",
       "      <th>smiles</th>\n",
       "      <th>smiles_nc</th>\n",
       "    </tr>\n",
       "  </thead>\n",
       "  <tbody>\n",
       "    <tr>\n",
       "      <th>0</th>\n",
       "      <td>CHEMBL3545610</td>\n",
       "      <td>NaN</td>\n",
       "      <td>NaN</td>\n",
       "      <td>Small molecule</td>\n",
       "      <td>0</td>\n",
       "      <td>379.55</td>\n",
       "      <td>NaN</td>\n",
       "      <td>NaN</td>\n",
       "      <td>4.32</td>\n",
       "      <td>44.37</td>\n",
       "      <td>...</td>\n",
       "      <td>-1</td>\n",
       "      <td>28</td>\n",
       "      <td>4</td>\n",
       "      <td>2</td>\n",
       "      <td>0</td>\n",
       "      <td>379.2624</td>\n",
       "      <td>BASE</td>\n",
       "      <td>C24H33N3O</td>\n",
       "      <td>CN(C)[C@]1(c2ccccc2)CC[C@@H](NC(=O)NCCCc2ccccc...</td>\n",
       "      <td>CN(C)C1(c2ccccc2)CCC(NC(=O)NCCCc2ccccc2)CC1</td>\n",
       "    </tr>\n",
       "    <tr>\n",
       "      <th>1</th>\n",
       "      <td>CHEMBL3545637</td>\n",
       "      <td>NaN</td>\n",
       "      <td>NaN</td>\n",
       "      <td>Small molecule</td>\n",
       "      <td>0</td>\n",
       "      <td>346.47</td>\n",
       "      <td>NaN</td>\n",
       "      <td>NaN</td>\n",
       "      <td>4.62</td>\n",
       "      <td>37.05</td>\n",
       "      <td>...</td>\n",
       "      <td>-1</td>\n",
       "      <td>26</td>\n",
       "      <td>3</td>\n",
       "      <td>2</td>\n",
       "      <td>0</td>\n",
       "      <td>346.2045</td>\n",
       "      <td>BASE</td>\n",
       "      <td>C23H26N2O</td>\n",
       "      <td>CN[C@]1(c2ccccc2)CC[C@]2(CC1)OCCc1c3ccccc3[nH]c12</td>\n",
       "      <td>CNC1(c2ccccc2)CCC2(CC1)OCCc1c2[nH]c2ccccc12</td>\n",
       "    </tr>\n",
       "    <tr>\n",
       "      <th>2</th>\n",
       "      <td>CHEMBL1193654</td>\n",
       "      <td>NaN</td>\n",
       "      <td>NaN</td>\n",
       "      <td>Small molecule</td>\n",
       "      <td>0</td>\n",
       "      <td>494.63</td>\n",
       "      <td>NaN</td>\n",
       "      <td>NaN</td>\n",
       "      <td>5.43</td>\n",
       "      <td>32.78</td>\n",
       "      <td>...</td>\n",
       "      <td>-1</td>\n",
       "      <td>36</td>\n",
       "      <td>4</td>\n",
       "      <td>0</td>\n",
       "      <td>1</td>\n",
       "      <td>494.2745</td>\n",
       "      <td>NEUTRAL</td>\n",
       "      <td>C30H36F2N2O2</td>\n",
       "      <td>O=C(OCCN1CCN(C(c2ccc(F)cc2)c2ccc(F)cc2)CC1)C12...</td>\n",
       "      <td>O=C(OCCN1CCN(C(c2ccc(F)cc2)c2ccc(F)cc2)CC1)C12...</td>\n",
       "    </tr>\n",
       "    <tr>\n",
       "      <th>3</th>\n",
       "      <td>CHEMBL3403355</td>\n",
       "      <td>NaN</td>\n",
       "      <td>NaN</td>\n",
       "      <td>Small molecule</td>\n",
       "      <td>0</td>\n",
       "      <td>293.39</td>\n",
       "      <td>3.0</td>\n",
       "      <td>3.0</td>\n",
       "      <td>2.19</td>\n",
       "      <td>67.15</td>\n",
       "      <td>...</td>\n",
       "      <td>-1</td>\n",
       "      <td>20</td>\n",
       "      <td>5</td>\n",
       "      <td>2</td>\n",
       "      <td>0</td>\n",
       "      <td>293.1198</td>\n",
       "      <td>NEUTRAL</td>\n",
       "      <td>C14H19N3O2S</td>\n",
       "      <td>CCn1c(N[C@H]2CC[C@H](O)CC2)nc2ccsc2c1=O</td>\n",
       "      <td>CCn1c(NC2CCC(O)CC2)nc2ccsc2c1=O</td>\n",
       "    </tr>\n",
       "    <tr>\n",
       "      <th>4</th>\n",
       "      <td>CHEMBL3403357</td>\n",
       "      <td>NaN</td>\n",
       "      <td>NaN</td>\n",
       "      <td>Small molecule</td>\n",
       "      <td>0</td>\n",
       "      <td>321.40</td>\n",
       "      <td>3.0</td>\n",
       "      <td>3.0</td>\n",
       "      <td>2.53</td>\n",
       "      <td>84.22</td>\n",
       "      <td>...</td>\n",
       "      <td>-1</td>\n",
       "      <td>22</td>\n",
       "      <td>6</td>\n",
       "      <td>2</td>\n",
       "      <td>0</td>\n",
       "      <td>321.1147</td>\n",
       "      <td>ACID</td>\n",
       "      <td>C15H19N3O3S</td>\n",
       "      <td>CCn1c(N[C@H]2CC[C@H](C(=O)O)CC2)nc2ccsc2c1=O</td>\n",
       "      <td>CCn1c(NC2CCC(C(=O)O)CC2)nc2ccsc2c1=O</td>\n",
       "    </tr>\n",
       "  </tbody>\n",
       "</table>\n",
       "<p>5 rows × 32 columns</p>\n",
       "</div>"
      ],
      "text/plain": [
       "       ChEMBL ID Name Synonyms            Type  Max Phase  Molecular Weight  \\\n",
       "0  CHEMBL3545610  NaN      NaN  Small molecule          0            379.55   \n",
       "1  CHEMBL3545637  NaN      NaN  Small molecule          0            346.47   \n",
       "2  CHEMBL1193654  NaN      NaN  Small molecule          0            494.63   \n",
       "3  CHEMBL3403355  NaN      NaN  Small molecule          0            293.39   \n",
       "4  CHEMBL3403357  NaN      NaN  Small molecule          0            321.40   \n",
       "\n",
       "   Targets  Bioactivities AlogP    PSA  ... Inorganic Flag Heavy Atoms  \\\n",
       "0      NaN            NaN  4.32  44.37  ...             -1          28   \n",
       "1      NaN            NaN  4.62  37.05  ...             -1          26   \n",
       "2      NaN            NaN  5.43  32.78  ...             -1          36   \n",
       "3      3.0            3.0  2.19  67.15  ...             -1          20   \n",
       "4      3.0            3.0  2.53  84.22  ...             -1          22   \n",
       "\n",
       "  HBA Lipinski HBD Lipinski #RO5 Violations (Lipinski)  \\\n",
       "0            4            2                          0   \n",
       "1            3            2                          0   \n",
       "2            4            0                          1   \n",
       "3            5            2                          0   \n",
       "4            6            2                          0   \n",
       "\n",
       "  Molecular Weight (Monoisotopic) Molecular Species Molecular Formula  \\\n",
       "0                        379.2624              BASE         C24H33N3O   \n",
       "1                        346.2045              BASE         C23H26N2O   \n",
       "2                        494.2745           NEUTRAL      C30H36F2N2O2   \n",
       "3                        293.1198           NEUTRAL       C14H19N3O2S   \n",
       "4                        321.1147              ACID       C15H19N3O3S   \n",
       "\n",
       "                                              smiles  \\\n",
       "0  CN(C)[C@]1(c2ccccc2)CC[C@@H](NC(=O)NCCCc2ccccc...   \n",
       "1  CN[C@]1(c2ccccc2)CC[C@]2(CC1)OCCc1c3ccccc3[nH]c12   \n",
       "2  O=C(OCCN1CCN(C(c2ccc(F)cc2)c2ccc(F)cc2)CC1)C12...   \n",
       "3            CCn1c(N[C@H]2CC[C@H](O)CC2)nc2ccsc2c1=O   \n",
       "4       CCn1c(N[C@H]2CC[C@H](C(=O)O)CC2)nc2ccsc2c1=O   \n",
       "\n",
       "                                           smiles_nc  \n",
       "0        CN(C)C1(c2ccccc2)CCC(NC(=O)NCCCc2ccccc2)CC1  \n",
       "1        CNC1(c2ccccc2)CCC2(CC1)OCCc1c2[nH]c2ccccc12  \n",
       "2  O=C(OCCN1CCN(C(c2ccc(F)cc2)c2ccc(F)cc2)CC1)C12...  \n",
       "3                    CCn1c(NC2CCC(O)CC2)nc2ccsc2c1=O  \n",
       "4               CCn1c(NC2CCC(C(=O)O)CC2)nc2ccsc2c1=O  \n",
       "\n",
       "[5 rows x 32 columns]"
      ]
     },
     "execution_count": 6,
     "metadata": {},
     "output_type": "execute_result"
    }
   ],
   "source": [
    "df.head()"
   ]
  },
  {
   "cell_type": "code",
   "execution_count": null,
   "metadata": {},
   "outputs": [],
   "source": []
  },
  {
   "cell_type": "code",
   "execution_count": 7,
   "metadata": {},
   "outputs": [],
   "source": [
    "df.drop_duplicates(subset='smiles', inplace=True)"
   ]
  },
  {
   "cell_type": "code",
   "execution_count": 8,
   "metadata": {},
   "outputs": [
    {
     "data": {
      "text/plain": [
       "(2066246, 32)"
      ]
     },
     "execution_count": 8,
     "metadata": {},
     "output_type": "execute_result"
    }
   ],
   "source": [
    "df.shape"
   ]
  },
  {
   "cell_type": "code",
   "execution_count": 9,
   "metadata": {},
   "outputs": [],
   "source": [
    "os.environ['ncpus'] = '60'"
   ]
  },
  {
   "cell_type": "code",
   "execution_count": null,
   "metadata": {},
   "outputs": [],
   "source": []
  },
  {
   "cell_type": "code",
   "execution_count": 10,
   "metadata": {},
   "outputs": [
    {
     "data": {
      "text/plain": [
       "5"
      ]
     },
     "execution_count": 10,
     "metadata": {},
     "output_type": "execute_result"
    }
   ],
   "source": [
    "chunks = chunk_list(df, 500000)\n",
    "len(chunks)"
   ]
  },
  {
   "cell_type": "code",
   "execution_count": null,
   "metadata": {},
   "outputs": [],
   "source": []
  },
  {
   "cell_type": "code",
   "execution_count": 11,
   "metadata": {},
   "outputs": [
    {
     "name": "stdout",
     "output_type": "stream",
     "text": [
      "0 25743842\n",
      "1 44781181\n",
      "2 61240298\n",
      "3 75974704\n",
      "4 77799704\n"
     ]
    }
   ],
   "source": [
    "all_frags = []\n",
    "for i, chunk in enumerate(chunks):\n",
    "    frags = fragment_smiles(chunk.smiles.values, [1,2,3,4])\n",
    "    all_frags += frags\n",
    "    all_frags = deduplicate_list(all_frags)\n",
    "    print(i, len(all_frags))\n",
    "    gc.collect()"
   ]
  },
  {
   "cell_type": "code",
   "execution_count": null,
   "metadata": {},
   "outputs": [],
   "source": []
  },
  {
   "cell_type": "code",
   "execution_count": 12,
   "metadata": {},
   "outputs": [],
   "source": [
    "df2 = pd.DataFrame(all_frags, columns=['smiles'])"
   ]
  },
  {
   "cell_type": "code",
   "execution_count": 13,
   "metadata": {},
   "outputs": [
    {
     "data": {
      "text/html": [
       "<div>\n",
       "<style scoped>\n",
       "    .dataframe tbody tr th:only-of-type {\n",
       "        vertical-align: middle;\n",
       "    }\n",
       "\n",
       "    .dataframe tbody tr th {\n",
       "        vertical-align: top;\n",
       "    }\n",
       "\n",
       "    .dataframe thead th {\n",
       "        text-align: right;\n",
       "    }\n",
       "</style>\n",
       "<table border=\"1\" class=\"dataframe\">\n",
       "  <thead>\n",
       "    <tr style=\"text-align: right;\">\n",
       "      <th></th>\n",
       "      <th>smiles</th>\n",
       "    </tr>\n",
       "  </thead>\n",
       "  <tbody>\n",
       "    <tr>\n",
       "      <th>0</th>\n",
       "      <td>*Oc1nc(N2CCC(O)CC2)nc(NS(*)(=O)=O)c1*</td>\n",
       "    </tr>\n",
       "    <tr>\n",
       "      <th>1</th>\n",
       "      <td>*Cc1oc2ccccc2c1C(=O)c1ccc(OC)cc1</td>\n",
       "    </tr>\n",
       "    <tr>\n",
       "      <th>2</th>\n",
       "      <td>*CC(=O)NC(*)C(=O)NCC(=O)NC(C*)C(=O)OCCCl</td>\n",
       "    </tr>\n",
       "    <tr>\n",
       "      <th>3</th>\n",
       "      <td>*CC1CN(C(=O)c2cc3cc(OC)ccc3[nH]2)CC(=O)N1Cc1cc...</td>\n",
       "    </tr>\n",
       "    <tr>\n",
       "      <th>4</th>\n",
       "      <td>*c1cn(Cc2ncnc(OC(F)F)c2C)c2cc(OC)cnc12</td>\n",
       "    </tr>\n",
       "    <tr>\n",
       "      <th>...</th>\n",
       "      <td>...</td>\n",
       "    </tr>\n",
       "    <tr>\n",
       "      <th>77799699</th>\n",
       "      <td>*SCc1ccc(C(=O)NCCCOC(*)C)cc1</td>\n",
       "    </tr>\n",
       "    <tr>\n",
       "      <th>77799700</th>\n",
       "      <td>*c1cc2c(c3c1CCC(*)(*)O3)CCC(*)(OC)O2</td>\n",
       "    </tr>\n",
       "    <tr>\n",
       "      <th>77799701</th>\n",
       "      <td>*C1CCC2(C(=O)OC)CCC3(*)C(CCC4C5(C)CC(=CC)C(=O)...</td>\n",
       "    </tr>\n",
       "    <tr>\n",
       "      <th>77799702</th>\n",
       "      <td>*COC(=O)NC(Cc1ccccc1)C(*)CN(Cc1ccccc1)S(=O)(=O...</td>\n",
       "    </tr>\n",
       "    <tr>\n",
       "      <th>77799703</th>\n",
       "      <td>*CC(=O)NN=C(*)CC(=O)CCC(=O)Nc1ccccc1[N+](=O)[O-]</td>\n",
       "    </tr>\n",
       "  </tbody>\n",
       "</table>\n",
       "<p>77799704 rows × 1 columns</p>\n",
       "</div>"
      ],
      "text/plain": [
       "                                                     smiles\n",
       "0                     *Oc1nc(N2CCC(O)CC2)nc(NS(*)(=O)=O)c1*\n",
       "1                          *Cc1oc2ccccc2c1C(=O)c1ccc(OC)cc1\n",
       "2                  *CC(=O)NC(*)C(=O)NCC(=O)NC(C*)C(=O)OCCCl\n",
       "3         *CC1CN(C(=O)c2cc3cc(OC)ccc3[nH]2)CC(=O)N1Cc1cc...\n",
       "4                    *c1cn(Cc2ncnc(OC(F)F)c2C)c2cc(OC)cnc12\n",
       "...                                                     ...\n",
       "77799699                       *SCc1ccc(C(=O)NCCCOC(*)C)cc1\n",
       "77799700               *c1cc2c(c3c1CCC(*)(*)O3)CCC(*)(OC)O2\n",
       "77799701  *C1CCC2(C(=O)OC)CCC3(*)C(CCC4C5(C)CC(=CC)C(=O)...\n",
       "77799702  *COC(=O)NC(Cc1ccccc1)C(*)CN(Cc1ccccc1)S(=O)(=O...\n",
       "77799703   *CC(=O)NN=C(*)CC(=O)CCC(=O)Nc1ccccc1[N+](=O)[O-]\n",
       "\n",
       "[77799704 rows x 1 columns]"
      ]
     },
     "execution_count": 13,
     "metadata": {},
     "output_type": "execute_result"
    }
   ],
   "source": [
    "df2"
   ]
  },
  {
   "cell_type": "code",
   "execution_count": null,
   "metadata": {},
   "outputs": [],
   "source": []
  },
  {
   "cell_type": "code",
   "execution_count": 14,
   "metadata": {},
   "outputs": [],
   "source": [
    "def count_att(smile):\n",
    "    return smile.count('*')"
   ]
  },
  {
   "cell_type": "code",
   "execution_count": 15,
   "metadata": {},
   "outputs": [],
   "source": [
    "df2['attachments'] = maybe_parallel(count_att, df2.smiles.values, cpus=8)"
   ]
  },
  {
   "cell_type": "code",
   "execution_count": 16,
   "metadata": {},
   "outputs": [],
   "source": [
    "def get_stats(frag):\n",
    "    mol = to_mol(frag)\n",
    "    weight = molwt(mol)\n",
    "    atoms = heavy_atoms(mol)\n",
    "    return [weight, atoms]"
   ]
  },
  {
   "cell_type": "code",
   "execution_count": 17,
   "metadata": {},
   "outputs": [],
   "source": [
    "stats = maybe_parallel(get_stats, df2.smiles.values, cpus=64)"
   ]
  },
  {
   "cell_type": "code",
   "execution_count": 18,
   "metadata": {},
   "outputs": [],
   "source": [
    "stat_df = pd.DataFrame(stats, columns=['weight', 'atoms'])"
   ]
  },
  {
   "cell_type": "code",
   "execution_count": 19,
   "metadata": {},
   "outputs": [],
   "source": [
    "df2 = pd.concat([df2, stat_df], 1)"
   ]
  },
  {
   "cell_type": "code",
   "execution_count": null,
   "metadata": {},
   "outputs": [],
   "source": []
  },
  {
   "cell_type": "code",
   "execution_count": 21,
   "metadata": {},
   "outputs": [
    {
     "data": {
      "text/html": [
       "<div>\n",
       "<style scoped>\n",
       "    .dataframe tbody tr th:only-of-type {\n",
       "        vertical-align: middle;\n",
       "    }\n",
       "\n",
       "    .dataframe tbody tr th {\n",
       "        vertical-align: top;\n",
       "    }\n",
       "\n",
       "    .dataframe thead th {\n",
       "        text-align: right;\n",
       "    }\n",
       "</style>\n",
       "<table border=\"1\" class=\"dataframe\">\n",
       "  <thead>\n",
       "    <tr style=\"text-align: right;\">\n",
       "      <th></th>\n",
       "      <th>smiles</th>\n",
       "      <th>attachments</th>\n",
       "      <th>weight</th>\n",
       "      <th>atoms</th>\n",
       "    </tr>\n",
       "  </thead>\n",
       "  <tbody>\n",
       "    <tr>\n",
       "      <th>0</th>\n",
       "      <td>*Oc1nc(N2CCC(O)CC2)nc(NS(*)(=O)=O)c1*</td>\n",
       "      <td>3</td>\n",
       "      <td>271.050101</td>\n",
       "      <td>18</td>\n",
       "    </tr>\n",
       "    <tr>\n",
       "      <th>1</th>\n",
       "      <td>*Cc1oc2ccccc2c1C(=O)c1ccc(OC)cc1</td>\n",
       "      <td>1</td>\n",
       "      <td>265.086469</td>\n",
       "      <td>20</td>\n",
       "    </tr>\n",
       "    <tr>\n",
       "      <th>2</th>\n",
       "      <td>*CC(=O)NC(*)C(=O)NCC(=O)NC(C*)C(=O)OCCCl</td>\n",
       "      <td>3</td>\n",
       "      <td>304.070023</td>\n",
       "      <td>20</td>\n",
       "    </tr>\n",
       "    <tr>\n",
       "      <th>3</th>\n",
       "      <td>*CC1CN(C(=O)c2cc3cc(OC)ccc3[nH]2)CC(=O)N1Cc1cc...</td>\n",
       "      <td>2</td>\n",
       "      <td>375.158292</td>\n",
       "      <td>28</td>\n",
       "    </tr>\n",
       "    <tr>\n",
       "      <th>4</th>\n",
       "      <td>*c1cn(Cc2ncnc(OC(F)F)c2C)c2cc(OC)cnc12</td>\n",
       "      <td>1</td>\n",
       "      <td>319.100657</td>\n",
       "      <td>23</td>\n",
       "    </tr>\n",
       "  </tbody>\n",
       "</table>\n",
       "</div>"
      ],
      "text/plain": [
       "                                              smiles  attachments      weight  \\\n",
       "0              *Oc1nc(N2CCC(O)CC2)nc(NS(*)(=O)=O)c1*            3  271.050101   \n",
       "1                   *Cc1oc2ccccc2c1C(=O)c1ccc(OC)cc1            1  265.086469   \n",
       "2           *CC(=O)NC(*)C(=O)NCC(=O)NC(C*)C(=O)OCCCl            3  304.070023   \n",
       "3  *CC1CN(C(=O)c2cc3cc(OC)ccc3[nH]2)CC(=O)N1Cc1cc...            2  375.158292   \n",
       "4             *c1cn(Cc2ncnc(OC(F)F)c2C)c2cc(OC)cnc12            1  319.100657   \n",
       "\n",
       "   atoms  \n",
       "0     18  \n",
       "1     20  \n",
       "2     20  \n",
       "3     28  \n",
       "4     23  "
      ]
     },
     "execution_count": 21,
     "metadata": {},
     "output_type": "execute_result"
    }
   ],
   "source": [
    "df2.head()"
   ]
  },
  {
   "cell_type": "code",
   "execution_count": 22,
   "metadata": {},
   "outputs": [],
   "source": [
    "df = pd.read_csv('../../smiles_datasets/frags.csv')"
   ]
  },
  {
   "cell_type": "code",
   "execution_count": 23,
   "metadata": {},
   "outputs": [
    {
     "data": {
      "text/html": [
       "<div>\n",
       "<style scoped>\n",
       "    .dataframe tbody tr th:only-of-type {\n",
       "        vertical-align: middle;\n",
       "    }\n",
       "\n",
       "    .dataframe tbody tr th {\n",
       "        vertical-align: top;\n",
       "    }\n",
       "\n",
       "    .dataframe thead th {\n",
       "        text-align: right;\n",
       "    }\n",
       "</style>\n",
       "<table border=\"1\" class=\"dataframe\">\n",
       "  <thead>\n",
       "    <tr style=\"text-align: right;\">\n",
       "      <th></th>\n",
       "      <th>smiles</th>\n",
       "      <th>attachments</th>\n",
       "      <th>weight</th>\n",
       "      <th>atoms</th>\n",
       "    </tr>\n",
       "  </thead>\n",
       "  <tbody>\n",
       "    <tr>\n",
       "      <th>0</th>\n",
       "      <td>*COC(=O)C(C)(CCCOCC(*)COC(C)=O)C(=O)O*</td>\n",
       "      <td>3</td>\n",
       "      <td>287.113078</td>\n",
       "      <td>20</td>\n",
       "    </tr>\n",
       "    <tr>\n",
       "      <th>1</th>\n",
       "      <td>*N(C(=O)c1ccc(I)cc1OC)C(C)C(=O)OCC</td>\n",
       "      <td>1</td>\n",
       "      <td>376.004581</td>\n",
       "      <td>19</td>\n",
       "    </tr>\n",
       "    <tr>\n",
       "      <th>2</th>\n",
       "      <td>*CCOCCn1c(C2CC2)nnc1N1CC(C)OC2(CCOC2*)C1</td>\n",
       "      <td>2</td>\n",
       "      <td>334.200491</td>\n",
       "      <td>24</td>\n",
       "    </tr>\n",
       "    <tr>\n",
       "      <th>3</th>\n",
       "      <td>*CC(*)Oc1c(F)cc(CN(*)C)cc1O*</td>\n",
       "      <td>4</td>\n",
       "      <td>195.069557</td>\n",
       "      <td>14</td>\n",
       "    </tr>\n",
       "    <tr>\n",
       "      <th>4</th>\n",
       "      <td>*OC(=O)c1ccc(NC(=O)CN(*)c2nc3c(*)cccc3s2)cc1</td>\n",
       "      <td>3</td>\n",
       "      <td>324.044287</td>\n",
       "      <td>23</td>\n",
       "    </tr>\n",
       "  </tbody>\n",
       "</table>\n",
       "</div>"
      ],
      "text/plain": [
       "                                         smiles  attachments      weight  \\\n",
       "0        *COC(=O)C(C)(CCCOCC(*)COC(C)=O)C(=O)O*            3  287.113078   \n",
       "1            *N(C(=O)c1ccc(I)cc1OC)C(C)C(=O)OCC            1  376.004581   \n",
       "2      *CCOCCn1c(C2CC2)nnc1N1CC(C)OC2(CCOC2*)C1            2  334.200491   \n",
       "3                  *CC(*)Oc1c(F)cc(CN(*)C)cc1O*            4  195.069557   \n",
       "4  *OC(=O)c1ccc(NC(=O)CN(*)c2nc3c(*)cccc3s2)cc1            3  324.044287   \n",
       "\n",
       "   atoms  \n",
       "0     20  \n",
       "1     19  \n",
       "2     24  \n",
       "3     14  \n",
       "4     23  "
      ]
     },
     "execution_count": 23,
     "metadata": {},
     "output_type": "execute_result"
    }
   ],
   "source": [
    "df.head()"
   ]
  },
  {
   "cell_type": "code",
   "execution_count": 24,
   "metadata": {},
   "outputs": [
    {
     "data": {
      "text/plain": [
       "((77799704, 4), (106145041, 4))"
      ]
     },
     "execution_count": 24,
     "metadata": {},
     "output_type": "execute_result"
    }
   ],
   "source": [
    "df2.shape, df.shape"
   ]
  },
  {
   "cell_type": "code",
   "execution_count": null,
   "metadata": {},
   "outputs": [],
   "source": []
  },
  {
   "cell_type": "code",
   "execution_count": 25,
   "metadata": {},
   "outputs": [],
   "source": [
    "df = pd.concat([df, df2])"
   ]
  },
  {
   "cell_type": "code",
   "execution_count": 26,
   "metadata": {},
   "outputs": [
    {
     "data": {
      "text/plain": [
       "16"
      ]
     },
     "execution_count": 26,
     "metadata": {},
     "output_type": "execute_result"
    }
   ],
   "source": [
    "gc.collect()"
   ]
  },
  {
   "cell_type": "code",
   "execution_count": 27,
   "metadata": {},
   "outputs": [
    {
     "data": {
      "text/html": [
       "<div>\n",
       "<style scoped>\n",
       "    .dataframe tbody tr th:only-of-type {\n",
       "        vertical-align: middle;\n",
       "    }\n",
       "\n",
       "    .dataframe tbody tr th {\n",
       "        vertical-align: top;\n",
       "    }\n",
       "\n",
       "    .dataframe thead th {\n",
       "        text-align: right;\n",
       "    }\n",
       "</style>\n",
       "<table border=\"1\" class=\"dataframe\">\n",
       "  <thead>\n",
       "    <tr style=\"text-align: right;\">\n",
       "      <th></th>\n",
       "      <th>smiles</th>\n",
       "      <th>attachments</th>\n",
       "      <th>weight</th>\n",
       "      <th>atoms</th>\n",
       "    </tr>\n",
       "  </thead>\n",
       "  <tbody>\n",
       "    <tr>\n",
       "      <th>0</th>\n",
       "      <td>*COC(=O)C(C)(CCCOCC(*)COC(C)=O)C(=O)O*</td>\n",
       "      <td>3</td>\n",
       "      <td>287.113078</td>\n",
       "      <td>20</td>\n",
       "    </tr>\n",
       "    <tr>\n",
       "      <th>1</th>\n",
       "      <td>*N(C(=O)c1ccc(I)cc1OC)C(C)C(=O)OCC</td>\n",
       "      <td>1</td>\n",
       "      <td>376.004581</td>\n",
       "      <td>19</td>\n",
       "    </tr>\n",
       "    <tr>\n",
       "      <th>2</th>\n",
       "      <td>*CCOCCn1c(C2CC2)nnc1N1CC(C)OC2(CCOC2*)C1</td>\n",
       "      <td>2</td>\n",
       "      <td>334.200491</td>\n",
       "      <td>24</td>\n",
       "    </tr>\n",
       "    <tr>\n",
       "      <th>3</th>\n",
       "      <td>*CC(*)Oc1c(F)cc(CN(*)C)cc1O*</td>\n",
       "      <td>4</td>\n",
       "      <td>195.069557</td>\n",
       "      <td>14</td>\n",
       "    </tr>\n",
       "    <tr>\n",
       "      <th>4</th>\n",
       "      <td>*OC(=O)c1ccc(NC(=O)CN(*)c2nc3c(*)cccc3s2)cc1</td>\n",
       "      <td>3</td>\n",
       "      <td>324.044287</td>\n",
       "      <td>23</td>\n",
       "    </tr>\n",
       "  </tbody>\n",
       "</table>\n",
       "</div>"
      ],
      "text/plain": [
       "                                         smiles  attachments      weight  \\\n",
       "0        *COC(=O)C(C)(CCCOCC(*)COC(C)=O)C(=O)O*            3  287.113078   \n",
       "1            *N(C(=O)c1ccc(I)cc1OC)C(C)C(=O)OCC            1  376.004581   \n",
       "2      *CCOCCn1c(C2CC2)nnc1N1CC(C)OC2(CCOC2*)C1            2  334.200491   \n",
       "3                  *CC(*)Oc1c(F)cc(CN(*)C)cc1O*            4  195.069557   \n",
       "4  *OC(=O)c1ccc(NC(=O)CN(*)c2nc3c(*)cccc3s2)cc1            3  324.044287   \n",
       "\n",
       "   atoms  \n",
       "0     20  \n",
       "1     19  \n",
       "2     24  \n",
       "3     14  \n",
       "4     23  "
      ]
     },
     "execution_count": 27,
     "metadata": {},
     "output_type": "execute_result"
    }
   ],
   "source": [
    "df.head()"
   ]
  },
  {
   "cell_type": "code",
   "execution_count": 28,
   "metadata": {},
   "outputs": [
    {
     "data": {
      "text/plain": [
       "(183944745, 4)"
      ]
     },
     "execution_count": 28,
     "metadata": {},
     "output_type": "execute_result"
    }
   ],
   "source": [
    "df.shape"
   ]
  },
  {
   "cell_type": "code",
   "execution_count": 29,
   "metadata": {},
   "outputs": [],
   "source": [
    "df.drop_duplicates(subset='smiles', inplace=True)"
   ]
  },
  {
   "cell_type": "code",
   "execution_count": 30,
   "metadata": {},
   "outputs": [
    {
     "data": {
      "text/plain": [
       "(182354711, 4)"
      ]
     },
     "execution_count": 30,
     "metadata": {},
     "output_type": "execute_result"
    }
   ],
   "source": [
    "df.shape"
   ]
  },
  {
   "cell_type": "code",
   "execution_count": 31,
   "metadata": {},
   "outputs": [
    {
     "data": {
      "text/plain": [
       "3    55824684\n",
       "2    52476775\n",
       "4    45765060\n",
       "1    28266674\n",
       "0       21518\n",
       "Name: attachments, dtype: int64"
      ]
     },
     "execution_count": 31,
     "metadata": {},
     "output_type": "execute_result"
    }
   ],
   "source": [
    "df.attachments.value_counts()"
   ]
  },
  {
   "cell_type": "code",
   "execution_count": 34,
   "metadata": {},
   "outputs": [],
   "source": [
    "df = df[df.attachments>0]"
   ]
  },
  {
   "cell_type": "code",
   "execution_count": 35,
   "metadata": {},
   "outputs": [
    {
     "data": {
      "text/plain": [
       "(182333193, 4)"
      ]
     },
     "execution_count": 35,
     "metadata": {},
     "output_type": "execute_result"
    }
   ],
   "source": [
    "df.shape"
   ]
  },
  {
   "cell_type": "code",
   "execution_count": 36,
   "metadata": {},
   "outputs": [
    {
     "data": {
      "text/plain": [
       "0"
      ]
     },
     "execution_count": 36,
     "metadata": {},
     "output_type": "execute_result"
    }
   ],
   "source": [
    "gc.collect()"
   ]
  },
  {
   "cell_type": "code",
   "execution_count": 37,
   "metadata": {},
   "outputs": [],
   "source": [
    "df.to_csv('../../smiles_datasets/frags.csv', index=False)"
   ]
  },
  {
   "cell_type": "code",
   "execution_count": null,
   "metadata": {},
   "outputs": [],
   "source": []
  },
  {
   "cell_type": "code",
   "execution_count": 48,
   "metadata": {},
   "outputs": [],
   "source": [
    "single_df = pd.read_csv('../../smiles_datasets/single_frags.csv')"
   ]
  },
  {
   "cell_type": "code",
   "execution_count": 49,
   "metadata": {},
   "outputs": [
    {
     "data": {
      "text/plain": [
       "(4981640, 4)"
      ]
     },
     "execution_count": 49,
     "metadata": {},
     "output_type": "execute_result"
    }
   ],
   "source": [
    "single_df.shape"
   ]
  },
  {
   "cell_type": "code",
   "execution_count": 50,
   "metadata": {},
   "outputs": [
    {
     "data": {
      "text/plain": [
       "203.022344796"
      ]
     },
     "execution_count": 50,
     "metadata": {},
     "output_type": "execute_result"
    }
   ],
   "source": [
    "single_df.weight.max()"
   ]
  },
  {
   "cell_type": "code",
   "execution_count": 51,
   "metadata": {},
   "outputs": [
    {
     "data": {
      "text/plain": [
       "1"
      ]
     },
     "execution_count": 51,
     "metadata": {},
     "output_type": "execute_result"
    }
   ],
   "source": [
    "single_df.attachments.max()"
   ]
  },
  {
   "cell_type": "code",
   "execution_count": null,
   "metadata": {},
   "outputs": [],
   "source": []
  },
  {
   "cell_type": "code",
   "execution_count": 52,
   "metadata": {},
   "outputs": [],
   "source": [
    "single_df = pd.concat([single_df, df[(df.attachments==1) & (df.weight<=200)]])"
   ]
  },
  {
   "cell_type": "code",
   "execution_count": 53,
   "metadata": {},
   "outputs": [
    {
     "data": {
      "text/plain": [
       "(5993728, 4)"
      ]
     },
     "execution_count": 53,
     "metadata": {},
     "output_type": "execute_result"
    }
   ],
   "source": [
    "single_df.shape"
   ]
  },
  {
   "cell_type": "code",
   "execution_count": 54,
   "metadata": {},
   "outputs": [],
   "source": [
    "single_df.drop_duplicates(subset='smiles', inplace=True)"
   ]
  },
  {
   "cell_type": "code",
   "execution_count": 55,
   "metadata": {},
   "outputs": [
    {
     "data": {
      "text/plain": [
       "(5262287, 4)"
      ]
     },
     "execution_count": 55,
     "metadata": {},
     "output_type": "execute_result"
    }
   ],
   "source": [
    "single_df.shape"
   ]
  },
  {
   "cell_type": "code",
   "execution_count": null,
   "metadata": {},
   "outputs": [],
   "source": []
  },
  {
   "cell_type": "code",
   "execution_count": 56,
   "metadata": {},
   "outputs": [],
   "source": [
    "single_df.to_csv('../../smiles_datasets/single_frags.csv', index=False)"
   ]
  },
  {
   "cell_type": "code",
   "execution_count": null,
   "metadata": {},
   "outputs": [],
   "source": []
  },
  {
   "cell_type": "code",
   "execution_count": null,
   "metadata": {},
   "outputs": [],
   "source": []
  },
  {
   "cell_type": "code",
   "execution_count": 35,
   "metadata": {},
   "outputs": [],
   "source": [
    "single_frags = maybe_parallel(permute_attachments, df.smiles.values, cpus=60)"
   ]
  },
  {
   "cell_type": "code",
   "execution_count": 37,
   "metadata": {},
   "outputs": [],
   "source": [
    "single_frags = flatten_list_of_lists(single_frags)"
   ]
  },
  {
   "cell_type": "code",
   "execution_count": 38,
   "metadata": {},
   "outputs": [
    {
     "data": {
      "text/plain": [
       "21106230"
      ]
     },
     "execution_count": 38,
     "metadata": {},
     "output_type": "execute_result"
    }
   ],
   "source": [
    "len(single_frags)"
   ]
  },
  {
   "cell_type": "code",
   "execution_count": 39,
   "metadata": {},
   "outputs": [],
   "source": [
    "df2 = pd.DataFrame(single_frags, columns=['smiles'])"
   ]
  },
  {
   "cell_type": "code",
   "execution_count": 40,
   "metadata": {},
   "outputs": [
    {
     "data": {
      "text/plain": [
       "1.0"
      ]
     },
     "execution_count": 40,
     "metadata": {},
     "output_type": "execute_result"
    }
   ],
   "source": [
    "df[df.attachments==1].smiles.isin(df2.smiles).mean()"
   ]
  },
  {
   "cell_type": "code",
   "execution_count": 42,
   "metadata": {},
   "outputs": [],
   "source": [
    "df2['attachments'] = maybe_parallel(count_att, df2.smiles.values, cpus=8)"
   ]
  },
  {
   "cell_type": "code",
   "execution_count": 43,
   "metadata": {},
   "outputs": [],
   "source": [
    "stats = maybe_parallel(get_stats, df2.smiles.values, cpus=64)"
   ]
  },
  {
   "cell_type": "code",
   "execution_count": 44,
   "metadata": {},
   "outputs": [],
   "source": [
    "stat_df = pd.DataFrame(stats, columns=['weight', 'atoms'])"
   ]
  },
  {
   "cell_type": "code",
   "execution_count": 45,
   "metadata": {},
   "outputs": [],
   "source": [
    "df2 = pd.concat([df2, stat_df], 1)"
   ]
  },
  {
   "cell_type": "code",
   "execution_count": 46,
   "metadata": {},
   "outputs": [
    {
     "data": {
      "text/plain": [
       "0"
      ]
     },
     "execution_count": 46,
     "metadata": {},
     "output_type": "execute_result"
    }
   ],
   "source": [
    "gc.collect()"
   ]
  },
  {
   "cell_type": "code",
   "execution_count": 49,
   "metadata": {},
   "outputs": [],
   "source": [
    "df2.drop_duplicates(subset='smiles', inplace=True)"
   ]
  },
  {
   "cell_type": "code",
   "execution_count": null,
   "metadata": {},
   "outputs": [],
   "source": []
  },
  {
   "cell_type": "code",
   "execution_count": 50,
   "metadata": {},
   "outputs": [
    {
     "data": {
      "text/html": [
       "<div>\n",
       "<style scoped>\n",
       "    .dataframe tbody tr th:only-of-type {\n",
       "        vertical-align: middle;\n",
       "    }\n",
       "\n",
       "    .dataframe tbody tr th {\n",
       "        vertical-align: top;\n",
       "    }\n",
       "\n",
       "    .dataframe thead th {\n",
       "        text-align: right;\n",
       "    }\n",
       "</style>\n",
       "<table border=\"1\" class=\"dataframe\">\n",
       "  <thead>\n",
       "    <tr style=\"text-align: right;\">\n",
       "      <th></th>\n",
       "      <th>smiles</th>\n",
       "      <th>attachments</th>\n",
       "      <th>weight</th>\n",
       "      <th>atoms</th>\n",
       "    </tr>\n",
       "  </thead>\n",
       "  <tbody>\n",
       "    <tr>\n",
       "      <th>0</th>\n",
       "      <td>*CCOc1c(O)cc(CNC)cc1F</td>\n",
       "      <td>1</td>\n",
       "      <td>198.093032</td>\n",
       "      <td>14</td>\n",
       "    </tr>\n",
       "    <tr>\n",
       "      <th>1</th>\n",
       "      <td>*C(C)Oc1c(O)cc(CNC)cc1F</td>\n",
       "      <td>1</td>\n",
       "      <td>198.093032</td>\n",
       "      <td>14</td>\n",
       "    </tr>\n",
       "    <tr>\n",
       "      <th>2</th>\n",
       "      <td>*N(C)Cc1cc(O)c(OCC)c(F)c1</td>\n",
       "      <td>1</td>\n",
       "      <td>198.093032</td>\n",
       "      <td>14</td>\n",
       "    </tr>\n",
       "    <tr>\n",
       "      <th>3</th>\n",
       "      <td>*Oc1cc(CNC)cc(F)c1OCC</td>\n",
       "      <td>1</td>\n",
       "      <td>198.093032</td>\n",
       "      <td>14</td>\n",
       "    </tr>\n",
       "    <tr>\n",
       "      <th>4</th>\n",
       "      <td>*Oc1cc(O)ncc1C(=O)NCCO</td>\n",
       "      <td>1</td>\n",
       "      <td>197.056232</td>\n",
       "      <td>14</td>\n",
       "    </tr>\n",
       "    <tr>\n",
       "      <th>...</th>\n",
       "      <td>...</td>\n",
       "      <td>...</td>\n",
       "      <td>...</td>\n",
       "      <td>...</td>\n",
       "    </tr>\n",
       "    <tr>\n",
       "      <th>21101366</th>\n",
       "      <td>*C1(O)CN(c2ccc(C)c(C)c2)C1</td>\n",
       "      <td>1</td>\n",
       "      <td>176.107539</td>\n",
       "      <td>13</td>\n",
       "    </tr>\n",
       "    <tr>\n",
       "      <th>21102167</th>\n",
       "      <td>*c1nocc1C(=O)NCC(N)CF</td>\n",
       "      <td>1</td>\n",
       "      <td>186.067880</td>\n",
       "      <td>13</td>\n",
       "    </tr>\n",
       "    <tr>\n",
       "      <th>21102984</th>\n",
       "      <td>*COCC(NC(=O)O)C(=O)NO</td>\n",
       "      <td>1</td>\n",
       "      <td>177.051146</td>\n",
       "      <td>12</td>\n",
       "    </tr>\n",
       "    <tr>\n",
       "      <th>21104352</th>\n",
       "      <td>*c1nc[nH]c1Nc1cc(C)cnc1C</td>\n",
       "      <td>1</td>\n",
       "      <td>187.098371</td>\n",
       "      <td>14</td>\n",
       "    </tr>\n",
       "    <tr>\n",
       "      <th>21105320</th>\n",
       "      <td>*c1nc2ccc(C(C)O)cc2s1</td>\n",
       "      <td>1</td>\n",
       "      <td>178.032660</td>\n",
       "      <td>12</td>\n",
       "    </tr>\n",
       "  </tbody>\n",
       "</table>\n",
       "<p>4981640 rows × 4 columns</p>\n",
       "</div>"
      ],
      "text/plain": [
       "                              smiles  attachments      weight  atoms\n",
       "0              *CCOc1c(O)cc(CNC)cc1F            1  198.093032     14\n",
       "1            *C(C)Oc1c(O)cc(CNC)cc1F            1  198.093032     14\n",
       "2          *N(C)Cc1cc(O)c(OCC)c(F)c1            1  198.093032     14\n",
       "3              *Oc1cc(CNC)cc(F)c1OCC            1  198.093032     14\n",
       "4             *Oc1cc(O)ncc1C(=O)NCCO            1  197.056232     14\n",
       "...                              ...          ...         ...    ...\n",
       "21101366  *C1(O)CN(c2ccc(C)c(C)c2)C1            1  176.107539     13\n",
       "21102167       *c1nocc1C(=O)NCC(N)CF            1  186.067880     13\n",
       "21102984       *COCC(NC(=O)O)C(=O)NO            1  177.051146     12\n",
       "21104352    *c1nc[nH]c1Nc1cc(C)cnc1C            1  187.098371     14\n",
       "21105320       *c1nc2ccc(C(C)O)cc2s1            1  178.032660     12\n",
       "\n",
       "[4981640 rows x 4 columns]"
      ]
     },
     "execution_count": 50,
     "metadata": {},
     "output_type": "execute_result"
    }
   ],
   "source": [
    "df2"
   ]
  },
  {
   "cell_type": "code",
   "execution_count": null,
   "metadata": {},
   "outputs": [],
   "source": []
  },
  {
   "cell_type": "code",
   "execution_count": 53,
   "metadata": {},
   "outputs": [
    {
     "data": {
      "text/plain": [
       "(4981640, 4)"
      ]
     },
     "execution_count": 53,
     "metadata": {},
     "output_type": "execute_result"
    }
   ],
   "source": [
    "df2.shape"
   ]
  },
  {
   "cell_type": "code",
   "execution_count": 54,
   "metadata": {},
   "outputs": [],
   "source": [
    "df2.to_csv('../../smiles_datasets/single_frags.csv', index=False)"
   ]
  },
  {
   "cell_type": "code",
   "execution_count": 55,
   "metadata": {},
   "outputs": [
    {
     "data": {
      "text/plain": [
       "<AxesSubplot:>"
      ]
     },
     "execution_count": 55,
     "metadata": {},
     "output_type": "execute_result"
    },
    {
     "data": {
      "image/png": "[encoded data removed]",
      "text/plain": [
       "<Figure size 432x288 with 1 Axes>"
      ]
     },
     "metadata": {
      "needs_background": "light"
     },
     "output_type": "display_data"
    }
   ],
   "source": [
    "df2.weight.hist()"
   ]
  },
  {
   "cell_type": "code",
   "execution_count": null,
   "metadata": {},
   "outputs": [],
   "source": []
  },
  {
   "cell_type": "code",
   "execution_count": null,
   "metadata": {},
   "outputs": [],
   "source": []
  },
  {
   "cell_type": "code",
   "execution_count": null,
   "metadata": {},
   "outputs": [],
   "source": []
  },
  {
   "cell_type": "code",
   "execution_count": 22,
   "metadata": {},
   "outputs": [
    {
     "data": {
      "image/png": "[encoded data removed]",
      "text/plain": [
       "<rdkit.Chem.rdchem.Mol at 0x7f0d3058acb0>"
      ]
     },
     "execution_count": 22,
     "metadata": {},
     "output_type": "execute_result"
    }
   ],
   "source": [
    "to_mol('*c1ccc(C(=O)N2CCCC3C(*)C(*)(C)C32)c(O)c1')"
   ]
  },
  {
   "cell_type": "code",
   "execution_count": 29,
   "metadata": {},
   "outputs": [],
   "source": [
    "smile = '*c1ccc(C(=O)N2CCCC3C(*)C(*)(C)C32)c(O)c1'\n",
    "chars = [i for i in smile]\n",
    "att_idxs = [i for i in range(len(smile)) if chars[i]=='*']"
   ]
  },
  {
   "cell_type": "code",
   "execution_count": 30,
   "metadata": {},
   "outputs": [
    {
     "data": {
      "text/plain": [
       "[0, 21, 25]"
      ]
     },
     "execution_count": 30,
     "metadata": {},
     "output_type": "execute_result"
    }
   ],
   "source": [
    "att_idxs"
   ]
  },
  {
   "cell_type": "code",
   "execution_count": null,
   "metadata": {},
   "outputs": [],
   "source": []
  },
  {
   "cell_type": "code",
   "execution_count": 37,
   "metadata": {},
   "outputs": [
    {
     "data": {
      "image/png": "[encoded data removed]",
      "text/plain": [
       "<IPython.core.display.Image object>"
      ]
     },
     "execution_count": 37,
     "metadata": {},
     "output_type": "execute_result"
    }
   ],
   "source": [
    "draw_mols([to_mol(i) for i in ['*C1C2CCCN(C(=O)c3ccccc3O)C2C1(*)C',\n",
    " '*c1ccc(C(=O)N2CCCC3CC(*)(C)C32)c(O)c1',\n",
    " '*c1ccc(C(=O)N2CCCC3C(*)C(C)C32)c(O)c1']])"
   ]
  },
  {
   "cell_type": "code",
   "execution_count": null,
   "metadata": {},
   "outputs": [],
   "source": []
  },
  {
   "cell_type": "code",
   "execution_count": null,
   "metadata": {},
   "outputs": [],
   "source": []
  },
  {
   "cell_type": "code",
   "execution_count": 4,
   "metadata": {},
   "outputs": [],
   "source": [
    "# df = pd.read_csv('../../smiles_datasets/shard_0.csv', usecols=['smiles'])\n",
    "df_it = pd.read_csv('../../smiles_datasets/shard_0.csv', usecols=['smiles'], chunksize=2000000)\n",
    "df = next(df_it)\n",
    "df = next(df_it)"
   ]
  },
  {
   "cell_type": "code",
   "execution_count": 5,
   "metadata": {},
   "outputs": [
    {
     "data": {
      "text/plain": [
       "(2000000, 1)"
      ]
     },
     "execution_count": 5,
     "metadata": {},
     "output_type": "execute_result"
    }
   ],
   "source": [
    "df.shape"
   ]
  },
  {
   "cell_type": "code",
   "execution_count": null,
   "metadata": {},
   "outputs": [],
   "source": []
  },
  {
   "cell_type": "code",
   "execution_count": 7,
   "metadata": {},
   "outputs": [],
   "source": [
    "os.environ['ncpus'] = '60'"
   ]
  },
  {
   "cell_type": "code",
   "execution_count": 8,
   "metadata": {},
   "outputs": [
    {
     "data": {
      "text/plain": [
       "10"
      ]
     },
     "execution_count": 8,
     "metadata": {},
     "output_type": "execute_result"
    }
   ],
   "source": [
    "chunks = chunk_list(df, 200000)\n",
    "len(chunks)"
   ]
  },
  {
   "cell_type": "code",
   "execution_count": 9,
   "metadata": {},
   "outputs": [
    {
     "name": "stdout",
     "output_type": "stream",
     "text": [
      "0 8335894\n",
      "1 15334920\n",
      "2 21888459\n",
      "3 28145769\n",
      "4 34155835\n",
      "5 39998192\n",
      "6 45724829\n",
      "7 51334188\n",
      "8 56823386\n",
      "9 62229470\n"
     ]
    }
   ],
   "source": [
    "all_frags = []\n",
    "for i, chunk in enumerate(chunks):\n",
    "    frags = fragment_smiles(chunk.smiles.values, [1,2,3,4])\n",
    "    all_frags += frags\n",
    "    all_frags = deduplicate_list(all_frags)\n",
    "    print(i, len(all_frags))\n",
    "    gc.collect()"
   ]
  },
  {
   "cell_type": "code",
   "execution_count": null,
   "metadata": {},
   "outputs": [],
   "source": []
  },
  {
   "cell_type": "code",
   "execution_count": 10,
   "metadata": {},
   "outputs": [],
   "source": [
    "frag_df = pd.DataFrame(all_frags, columns=['smiles'])"
   ]
  },
  {
   "cell_type": "code",
   "execution_count": 11,
   "metadata": {},
   "outputs": [
    {
     "data": {
      "text/plain": [
       "(62229470, 1)"
      ]
     },
     "execution_count": 11,
     "metadata": {},
     "output_type": "execute_result"
    }
   ],
   "source": [
    "frag_df.shape"
   ]
  },
  {
   "cell_type": "code",
   "execution_count": 12,
   "metadata": {},
   "outputs": [],
   "source": [
    "def count_att(smile):\n",
    "    return smile.count('*')"
   ]
  },
  {
   "cell_type": "code",
   "execution_count": 13,
   "metadata": {},
   "outputs": [],
   "source": [
    "frag_df['attachments'] = maybe_parallel(count_att, frag_df.smiles.values, cpus=8)"
   ]
  },
  {
   "cell_type": "code",
   "execution_count": null,
   "metadata": {},
   "outputs": [],
   "source": []
  },
  {
   "cell_type": "code",
   "execution_count": 14,
   "metadata": {},
   "outputs": [
    {
     "data": {
      "text/plain": [
       "2    20467124\n",
       "3    18692774\n",
       "1    11697443\n",
       "4    11372129\n",
       "Name: attachments, dtype: int64"
      ]
     },
     "execution_count": 14,
     "metadata": {},
     "output_type": "execute_result"
    }
   ],
   "source": [
    "frag_df.attachments.value_counts()"
   ]
  },
  {
   "cell_type": "code",
   "execution_count": null,
   "metadata": {},
   "outputs": [],
   "source": []
  },
  {
   "cell_type": "code",
   "execution_count": 15,
   "metadata": {},
   "outputs": [],
   "source": [
    "def get_stats(frag):\n",
    "    mol = to_mol(frag)\n",
    "    weight = molwt(mol)\n",
    "    atoms = heavy_atoms(mol)\n",
    "    return [weight, atoms]"
   ]
  },
  {
   "cell_type": "code",
   "execution_count": 16,
   "metadata": {},
   "outputs": [],
   "source": [
    "stats = maybe_parallel(get_stats, frag_df.smiles.values, cpus=64)"
   ]
  },
  {
   "cell_type": "code",
   "execution_count": 17,
   "metadata": {},
   "outputs": [],
   "source": [
    "stat_df = pd.DataFrame(stats, columns=['weight', 'atoms'])"
   ]
  },
  {
   "cell_type": "code",
   "execution_count": 18,
   "metadata": {},
   "outputs": [],
   "source": [
    "frag_df = pd.concat([frag_df, stat_df], 1)"
   ]
  },
  {
   "cell_type": "code",
   "execution_count": 19,
   "metadata": {},
   "outputs": [
    {
     "data": {
      "text/plain": [
       "(62229470, 4)"
      ]
     },
     "execution_count": 19,
     "metadata": {},
     "output_type": "execute_result"
    }
   ],
   "source": [
    "frag_df.shape"
   ]
  },
  {
   "cell_type": "code",
   "execution_count": 20,
   "metadata": {},
   "outputs": [
    {
     "data": {
      "text/html": [
       "<div>\n",
       "<style scoped>\n",
       "    .dataframe tbody tr th:only-of-type {\n",
       "        vertical-align: middle;\n",
       "    }\n",
       "\n",
       "    .dataframe tbody tr th {\n",
       "        vertical-align: top;\n",
       "    }\n",
       "\n",
       "    .dataframe thead th {\n",
       "        text-align: right;\n",
       "    }\n",
       "</style>\n",
       "<table border=\"1\" class=\"dataframe\">\n",
       "  <thead>\n",
       "    <tr style=\"text-align: right;\">\n",
       "      <th></th>\n",
       "      <th>smiles</th>\n",
       "      <th>attachments</th>\n",
       "      <th>weight</th>\n",
       "      <th>atoms</th>\n",
       "    </tr>\n",
       "  </thead>\n",
       "  <tbody>\n",
       "    <tr>\n",
       "      <th>0</th>\n",
       "      <td>*C#CC(=O)N1CC2CC1C2NC(=O)CC*</td>\n",
       "      <td>2</td>\n",
       "      <td>204.089878</td>\n",
       "      <td>15</td>\n",
       "    </tr>\n",
       "    <tr>\n",
       "      <th>1</th>\n",
       "      <td>*C(CN(*)C(=O)Cc1cccc(C2CC2)c1)NC(=O)c1ccco1</td>\n",
       "      <td>2</td>\n",
       "      <td>310.131742</td>\n",
       "      <td>23</td>\n",
       "    </tr>\n",
       "    <tr>\n",
       "      <th>2</th>\n",
       "      <td>*CC(CC(=O)NC1CC(NCc2cncn2C)C1)C(*)C</td>\n",
       "      <td>2</td>\n",
       "      <td>276.195011</td>\n",
       "      <td>20</td>\n",
       "    </tr>\n",
       "    <tr>\n",
       "      <th>3</th>\n",
       "      <td>*CCNC(=O)C1CCN(c2nnc(CC(*)(C)C)n2Cc2cn(C3COC3)...</td>\n",
       "      <td>2</td>\n",
       "      <td>414.249172</td>\n",
       "      <td>30</td>\n",
       "    </tr>\n",
       "    <tr>\n",
       "      <th>4</th>\n",
       "      <td>*OC(*)c1nnc(N(C)Cc2cn(*)nc2C(F)(F)F)n1C</td>\n",
       "      <td>3</td>\n",
       "      <td>287.086819</td>\n",
       "      <td>20</td>\n",
       "    </tr>\n",
       "  </tbody>\n",
       "</table>\n",
       "</div>"
      ],
      "text/plain": [
       "                                              smiles  attachments      weight  \\\n",
       "0                       *C#CC(=O)N1CC2CC1C2NC(=O)CC*            2  204.089878   \n",
       "1        *C(CN(*)C(=O)Cc1cccc(C2CC2)c1)NC(=O)c1ccco1            2  310.131742   \n",
       "2                *CC(CC(=O)NC1CC(NCc2cncn2C)C1)C(*)C            2  276.195011   \n",
       "3  *CCNC(=O)C1CCN(c2nnc(CC(*)(C)C)n2Cc2cn(C3COC3)...            2  414.249172   \n",
       "4            *OC(*)c1nnc(N(C)Cc2cn(*)nc2C(F)(F)F)n1C            3  287.086819   \n",
       "\n",
       "   atoms  \n",
       "0     15  \n",
       "1     23  \n",
       "2     20  \n",
       "3     30  \n",
       "4     20  "
      ]
     },
     "execution_count": 20,
     "metadata": {},
     "output_type": "execute_result"
    }
   ],
   "source": [
    "frag_df.head()"
   ]
  },
  {
   "cell_type": "code",
   "execution_count": 21,
   "metadata": {},
   "outputs": [],
   "source": [
    "frag_df = frag_df[frag_df.weight<=400]"
   ]
  },
  {
   "cell_type": "code",
   "execution_count": 22,
   "metadata": {},
   "outputs": [
    {
     "data": {
      "text/plain": [
       "0"
      ]
     },
     "execution_count": 22,
     "metadata": {},
     "output_type": "execute_result"
    }
   ],
   "source": [
    "gc.collect()"
   ]
  },
  {
   "cell_type": "code",
   "execution_count": null,
   "metadata": {},
   "outputs": [],
   "source": []
  },
  {
   "cell_type": "code",
   "execution_count": 23,
   "metadata": {},
   "outputs": [
    {
     "data": {
      "text/plain": [
       "<AxesSubplot:>"
      ]
     },
     "execution_count": 23,
     "metadata": {},
     "output_type": "execute_result"
    },
    {
     "data": {
      "image/png": "[encoded data removed]",
      "text/plain": [
       "<Figure size 432x288 with 1 Axes>"
      ]
     },
     "metadata": {
      "needs_background": "light"
     },
     "output_type": "display_data"
    }
   ],
   "source": [
    "frag_df.weight.hist()"
   ]
  },
  {
   "cell_type": "code",
   "execution_count": 24,
   "metadata": {},
   "outputs": [
    {
     "data": {
      "text/html": [
       "<div>\n",
       "<style scoped>\n",
       "    .dataframe tbody tr th:only-of-type {\n",
       "        vertical-align: middle;\n",
       "    }\n",
       "\n",
       "    .dataframe tbody tr th {\n",
       "        vertical-align: top;\n",
       "    }\n",
       "\n",
       "    .dataframe thead th {\n",
       "        text-align: right;\n",
       "    }\n",
       "</style>\n",
       "<table border=\"1\" class=\"dataframe\">\n",
       "  <thead>\n",
       "    <tr style=\"text-align: right;\">\n",
       "      <th></th>\n",
       "      <th>smiles</th>\n",
       "      <th>attachments</th>\n",
       "      <th>weight</th>\n",
       "      <th>atoms</th>\n",
       "    </tr>\n",
       "  </thead>\n",
       "  <tbody>\n",
       "    <tr>\n",
       "      <th>9</th>\n",
       "      <td>*CCC(*)NC(C)c1nn(C*)nc1*</td>\n",
       "      <td>4</td>\n",
       "      <td>164.106196</td>\n",
       "      <td>12</td>\n",
       "    </tr>\n",
       "    <tr>\n",
       "      <th>16</th>\n",
       "      <td>*CC(NC(=O)N(C)C(*)C*)C(F)F</td>\n",
       "      <td>3</td>\n",
       "      <td>177.083944</td>\n",
       "      <td>12</td>\n",
       "    </tr>\n",
       "    <tr>\n",
       "      <th>25</th>\n",
       "      <td>*c1ccc(Nc2ccnc(F)c2)cc1*</td>\n",
       "      <td>2</td>\n",
       "      <td>186.059326</td>\n",
       "      <td>14</td>\n",
       "    </tr>\n",
       "    <tr>\n",
       "      <th>30</th>\n",
       "      <td>*C(=O)N1CCC(CNC(=O)C(*)(*)C)C(*)C1</td>\n",
       "      <td>4</td>\n",
       "      <td>194.105528</td>\n",
       "      <td>14</td>\n",
       "    </tr>\n",
       "    <tr>\n",
       "      <th>35</th>\n",
       "      <td>*CCC(=O)N1CC(*)C(NC(=O)C(*)(*)F)C1</td>\n",
       "      <td>4</td>\n",
       "      <td>198.080456</td>\n",
       "      <td>14</td>\n",
       "    </tr>\n",
       "    <tr>\n",
       "      <th>...</th>\n",
       "      <td>...</td>\n",
       "      <td>...</td>\n",
       "      <td>...</td>\n",
       "      <td>...</td>\n",
       "    </tr>\n",
       "    <tr>\n",
       "      <th>62229417</th>\n",
       "      <td>*CCCNC(=O)N1CCC(*)CC(C)C1</td>\n",
       "      <td>2</td>\n",
       "      <td>196.157563</td>\n",
       "      <td>14</td>\n",
       "    </tr>\n",
       "    <tr>\n",
       "      <th>62229424</th>\n",
       "      <td>*C(*)NC(=O)NC(*)Cc1ccc(F)cc1</td>\n",
       "      <td>3</td>\n",
       "      <td>193.077716</td>\n",
       "      <td>14</td>\n",
       "    </tr>\n",
       "    <tr>\n",
       "      <th>62229425</th>\n",
       "      <td>*CC(=O)NC(C)c1nnc(C)s1</td>\n",
       "      <td>1</td>\n",
       "      <td>184.054458</td>\n",
       "      <td>12</td>\n",
       "    </tr>\n",
       "    <tr>\n",
       "      <th>62229426</th>\n",
       "      <td>*Cn1cc(C(=O)N2CCCC2(*)C*)nn1</td>\n",
       "      <td>3</td>\n",
       "      <td>191.093286</td>\n",
       "      <td>14</td>\n",
       "    </tr>\n",
       "    <tr>\n",
       "      <th>62229434</th>\n",
       "      <td>*C(F)C(*)(*)CNCC(*)(O)CSC</td>\n",
       "      <td>4</td>\n",
       "      <td>177.062363</td>\n",
       "      <td>11</td>\n",
       "    </tr>\n",
       "  </tbody>\n",
       "</table>\n",
       "<p>4741478 rows × 4 columns</p>\n",
       "</div>"
      ],
      "text/plain": [
       "                                      smiles  attachments      weight  atoms\n",
       "9                   *CCC(*)NC(C)c1nn(C*)nc1*            4  164.106196     12\n",
       "16                *CC(NC(=O)N(C)C(*)C*)C(F)F            3  177.083944     12\n",
       "25                  *c1ccc(Nc2ccnc(F)c2)cc1*            2  186.059326     14\n",
       "30        *C(=O)N1CCC(CNC(=O)C(*)(*)C)C(*)C1            4  194.105528     14\n",
       "35        *CCC(=O)N1CC(*)C(NC(=O)C(*)(*)F)C1            4  198.080456     14\n",
       "...                                      ...          ...         ...    ...\n",
       "62229417           *CCCNC(=O)N1CCC(*)CC(C)C1            2  196.157563     14\n",
       "62229424        *C(*)NC(=O)NC(*)Cc1ccc(F)cc1            3  193.077716     14\n",
       "62229425              *CC(=O)NC(C)c1nnc(C)s1            1  184.054458     12\n",
       "62229426        *Cn1cc(C(=O)N2CCCC2(*)C*)nn1            3  191.093286     14\n",
       "62229434           *C(F)C(*)(*)CNCC(*)(O)CSC            4  177.062363     11\n",
       "\n",
       "[4741478 rows x 4 columns]"
      ]
     },
     "execution_count": 24,
     "metadata": {},
     "output_type": "execute_result"
    }
   ],
   "source": [
    "frag_df[frag_df.weight<200]"
   ]
  },
  {
   "cell_type": "code",
   "execution_count": null,
   "metadata": {},
   "outputs": [],
   "source": []
  },
  {
   "cell_type": "code",
   "execution_count": 25,
   "metadata": {},
   "outputs": [],
   "source": [
    "frag_df.to_csv('../../smiles_datasets/frag_df2.csv', index=False)"
   ]
  },
  {
   "cell_type": "code",
   "execution_count": null,
   "metadata": {},
   "outputs": [],
   "source": []
  },
  {
   "cell_type": "code",
   "execution_count": null,
   "metadata": {},
   "outputs": [],
   "source": []
  },
  {
   "cell_type": "code",
   "execution_count": null,
   "metadata": {},
   "outputs": [],
   "source": []
  },
  {
   "cell_type": "code",
   "execution_count": 7,
   "metadata": {},
   "outputs": [],
   "source": [
    "from collections import Counter\n",
    "\n",
    "def to_selfies(smile):\n",
    "    return sf.encoder(smile)\n",
    "\n",
    "def count_toks(selfie):\n",
    "    return Counter(sf.split_selfies(selfie))"
   ]
  },
  {
   "cell_type": "code",
   "execution_count": 10,
   "metadata": {
    "scrolled": false
   },
   "outputs": [
    {
     "name": "stdout",
     "output_type": "stream",
     "text": [
      "20\n",
      "78.9629\n",
      "81.8070\n",
      "81.9789\n",
      "82.7633\n",
      "83.1226\n",
      "83.2385\n",
      "82.3362\n",
      "84.5333\n",
      "83.7823\n",
      "84.8163\n",
      "84.4512\n",
      "85.1115\n",
      "83.0993\n",
      "85.1725\n",
      "85.7526\n",
      "85.9259\n",
      "85.8303\n",
      "86.3302\n",
      "87.0477\n",
      "18.6633\n"
     ]
    }
   ],
   "source": [
    "df_chunks = chunk_list(df, 4000000)\n",
    "print(len(df_chunks))\n",
    "c = Counter()\n",
    "\n",
    "for chunk in df_chunks:\n",
    "    start = time.time()\n",
    "    selfies = maybe_parallel(to_selfies, chunk.smiles.values, cpus=64)\n",
    "    counts = maybe_parallel(count_toks, selfies, cpus=64)\n",
    "    for count in counts:\n",
    "        c.update(count)\n",
    "        \n",
    "    del selfies\n",
    "    del counts\n",
    "    gc.collect()\n",
    "    print(f'{time.time()-start:.4f}')"
   ]
  },
  {
   "cell_type": "code",
   "execution_count": null,
   "metadata": {},
   "outputs": [],
   "source": []
  },
  {
   "cell_type": "code",
   "execution_count": 22,
   "metadata": {},
   "outputs": [
    {
     "data": {
      "text/plain": [
       "['[C]',\n",
       " '[Ring1]',\n",
       " '[=C]',\n",
       " '[Branch1_1]',\n",
       " '[N]',\n",
       " '[Branch1_2]',\n",
       " '[=O]',\n",
       " '[O]',\n",
       " '[Branch2_1]',\n",
       " '[=N]',\n",
       " '[Ring2]',\n",
       " '[C@Hexpl]',\n",
       " '[C@@Hexpl]',\n",
       " '[F]',\n",
       " '[S]',\n",
       " '[Branch1_3]',\n",
       " '[Branch2_2]',\n",
       " '[Branch2_3]',\n",
       " '[#C]',\n",
       " '[Expl=Ring1]',\n",
       " '[P]',\n",
       " '[Cl]',\n",
       " '[NHexpl]',\n",
       " '[Br]',\n",
       " '[/C]',\n",
       " '[C@expl]',\n",
       " '[C@@expl]',\n",
       " '[#N]',\n",
       " '[O-expl]',\n",
       " '[N+expl]',\n",
       " '[Expl=Ring2]',\n",
       " '[\\\\C]',\n",
       " '[=S]',\n",
       " '[I]',\n",
       " '[S@expl]',\n",
       " '[S@@expl]',\n",
       " '[=N+expl]',\n",
       " '[/N]',\n",
       " '[/Cl]',\n",
       " '[\\\\Cl]',\n",
       " '[/O]',\n",
       " '[/S]',\n",
       " '[Siexpl]',\n",
       " '[\\\\S]',\n",
       " '[=S@expl]',\n",
       " '[=S@@expl]',\n",
       " '[\\\\N]',\n",
       " '[/C@@Hexpl]',\n",
       " '[/C@Hexpl]',\n",
       " '[\\\\O]',\n",
       " '[\\\\C@Hexpl]',\n",
       " '[\\\\C@@Hexpl]',\n",
       " '[B]',\n",
       " '[/F]',\n",
       " '[/C@expl]',\n",
       " '[\\\\C@expl]',\n",
       " '[CHexpl]',\n",
       " '[\\\\F]',\n",
       " '[P@expl]',\n",
       " '[Cexpl]',\n",
       " '[/C@@expl]',\n",
       " '[\\\\C@@expl]',\n",
       " '[=P]',\n",
       " '[P@@expl]',\n",
       " '[/Br]',\n",
       " '[=N-expl]',\n",
       " '[/N+expl]',\n",
       " '[S+expl]',\n",
       " '[\\\\NHexpl]',\n",
       " '[\\\\Br]',\n",
       " '[/NHexpl]',\n",
       " '[N@+expl]',\n",
       " '[/S@expl]',\n",
       " '[N@@+expl]',\n",
       " '[N-expl]',\n",
       " '[/S@@expl]',\n",
       " '[CH2expl]',\n",
       " '[=P@expl]',\n",
       " '[Oexpl]',\n",
       " '[Snexpl]',\n",
       " '[\\\\S@expl]',\n",
       " '[C-expl]',\n",
       " '[/B]',\n",
       " '[\\\\N+expl]',\n",
       " '[#N+expl]',\n",
       " '[=P@@expl]',\n",
       " '[CH-expl]',\n",
       " '[\\\\O-expl]',\n",
       " '[Expl/Ring2]',\n",
       " '[/Oexpl]',\n",
       " '[B-expl]',\n",
       " '[S@@+expl]',\n",
       " '[=S+expl]',\n",
       " '[P+expl]',\n",
       " '[/O-expl]',\n",
       " '[PHexpl]',\n",
       " '[=S@+expl]',\n",
       " '[P@@Hexpl]',\n",
       " '[\\\\I]',\n",
       " '[Expl/Ring1]',\n",
       " '[Expl\\\\Ring2]',\n",
       " '[S@+expl]',\n",
       " '[/I]',\n",
       " '[Nexpl]',\n",
       " '[=B]',\n",
       " '[=O+expl]',\n",
       " '[O+expl]',\n",
       " '[CH2-expl]',\n",
       " '[B@-expl]',\n",
       " '[=S@@+expl]',\n",
       " '[B@@-expl]',\n",
       " '[\\\\B]',\n",
       " '[/S+expl]',\n",
       " '[SHexpl]',\n",
       " '[\\\\S@@expl]',\n",
       " '[\\\\P@@expl]',\n",
       " '[/P@expl]',\n",
       " '[=P@@Hexpl]',\n",
       " '[\\\\P@expl]',\n",
       " '[/P@@expl]',\n",
       " '[/Siexpl]',\n",
       " '[=17Oexpl]',\n",
       " '[=Nexpl]',\n",
       " '[I+expl]',\n",
       " '[=P@Hexpl]',\n",
       " '[\\\\Snexpl]',\n",
       " '[\\\\C-expl]',\n",
       " '[=SHexpl]',\n",
       " '[\\\\Siexpl]',\n",
       " '[SnH4+2expl]',\n",
       " '[Sn+expl]',\n",
       " '[=Snexpl]',\n",
       " '[=P+expl]',\n",
       " '[C+expl]',\n",
       " '[N@@H+expl]',\n",
       " '[Sn+3expl]',\n",
       " '[/C-expl]',\n",
       " '[/Cexpl]',\n",
       " '[BH3-expl]',\n",
       " '[\\\\CH-expl]',\n",
       " '[=Siexpl]',\n",
       " '[/CHexpl]',\n",
       " '[/Snexpl]',\n",
       " '[BH2-expl]',\n",
       " '[\\\\Cexpl]',\n",
       " '[\\\\P]',\n",
       " '[=PHexpl]']"
      ]
     },
     "execution_count": 22,
     "metadata": {},
     "output_type": "execute_result"
    }
   ],
   "source": [
    "[i[0] for i in c.most_common()]"
   ]
  },
  {
   "cell_type": "code",
   "execution_count": null,
   "metadata": {},
   "outputs": [],
   "source": []
  },
  {
   "cell_type": "code",
   "execution_count": null,
   "metadata": {},
   "outputs": [],
   "source": []
  },
  {
   "cell_type": "code",
   "execution_count": 15,
   "metadata": {},
   "outputs": [
    {
     "data": {
      "text/plain": [
       "[('[C]', 1252015745),\n",
       " ('[Ring1]', 273629547),\n",
       " ('[=C]', 272151960),\n",
       " ('[Branch1_1]', 224189584),\n",
       " ('[N]', 216158472),\n",
       " ('[Branch1_2]', 169988439),\n",
       " ('[=O]', 116078917),\n",
       " ('[O]', 98271804),\n",
       " ('[Branch2_1]', 70348347),\n",
       " ('[=N]', 60843193),\n",
       " ('[Ring2]', 56973372),\n",
       " ('[C@Hexpl]', 49306707),\n",
       " ('[C@@Hexpl]', 48344557),\n",
       " ('[F]', 32615317),\n",
       " ('[S]', 31639484),\n",
       " ('[Branch1_3]', 31072243),\n",
       " ('[Branch2_2]', 23775491),\n",
       " ('[Branch2_3]', 19324045),\n",
       " ('[#C]', 15224188),\n",
       " ('[Expl=Ring1]', 10644723),\n",
       " ('[P]', 9854055),\n",
       " ('[Cl]', 9280601),\n",
       " ('[NHexpl]', 7111714),\n",
       " ('[Br]', 3791530),\n",
       " ('[/C]', 3275729),\n",
       " ('[C@expl]', 3240548),\n",
       " ('[C@@expl]', 2834096),\n",
       " ('[#N]', 2663271),\n",
       " ('[O-expl]', 1643498),\n",
       " ('[N+expl]', 1531044),\n",
       " ('[Expl=Ring2]', 1518090),\n",
       " ('[\\\\C]', 966412),\n",
       " ('[=S]', 678940),\n",
       " ('[I]', 307148),\n",
       " ('[S@expl]', 236958),\n",
       " ('[S@@expl]', 213285),\n",
       " ('[=N+expl]', 124596),\n",
       " ('[/N]', 96867),\n",
       " ('[/Cl]', 68023),\n",
       " ('[\\\\Cl]', 66885),\n",
       " ('[/O]', 25118),\n",
       " ('[/S]', 21873),\n",
       " ('[Siexpl]', 18857),\n",
       " ('[\\\\S]', 18326),\n",
       " ('[=S@expl]', 17261),\n",
       " ('[=S@@expl]', 16318),\n",
       " ('[\\\\N]', 14486),\n",
       " ('[/C@@Hexpl]', 12689),\n",
       " ('[/C@Hexpl]', 9930),\n",
       " ('[\\\\O]', 8010),\n",
       " ('[\\\\C@Hexpl]', 6607),\n",
       " ('[\\\\C@@Hexpl]', 6399),\n",
       " ('[B]', 5062),\n",
       " ('[/F]', 2115),\n",
       " ('[/C@expl]', 2038),\n",
       " ('[\\\\C@expl]', 1725),\n",
       " ('[CHexpl]', 1704),\n",
       " ('[\\\\F]', 1649),\n",
       " ('[P@expl]', 1442),\n",
       " ('[Cexpl]', 1202),\n",
       " ('[/C@@expl]', 917),\n",
       " ('[\\\\C@@expl]', 810),\n",
       " ('[=P]', 725),\n",
       " ('[P@@expl]', 561),\n",
       " ('[/Br]', 477),\n",
       " ('[=N-expl]', 452),\n",
       " ('[/N+expl]', 415),\n",
       " ('[S+expl]', 310),\n",
       " ('[\\\\NHexpl]', 269),\n",
       " ('[\\\\Br]', 261),\n",
       " ('[/NHexpl]', 187),\n",
       " ('[N@+expl]', 183),\n",
       " ('[/S@expl]', 182),\n",
       " ('[N@@+expl]', 178),\n",
       " ('[N-expl]', 168),\n",
       " ('[/S@@expl]', 167),\n",
       " ('[CH2expl]', 161),\n",
       " ('[=P@expl]', 151),\n",
       " ('[Oexpl]', 127),\n",
       " ('[Snexpl]', 114),\n",
       " ('[\\\\S@expl]', 91),\n",
       " ('[C-expl]', 83),\n",
       " ('[/B]', 67),\n",
       " ('[\\\\N+expl]', 55),\n",
       " ('[#N+expl]', 49),\n",
       " ('[=P@@expl]', 36),\n",
       " ('[CH-expl]', 27),\n",
       " ('[\\\\O-expl]', 21),\n",
       " ('[Expl/Ring2]', 20),\n",
       " ('[/Oexpl]', 19),\n",
       " ('[B-expl]', 19),\n",
       " ('[S@@+expl]', 15),\n",
       " ('[=S+expl]', 14),\n",
       " ('[P+expl]', 11),\n",
       " ('[/O-expl]', 10),\n",
       " ('[PHexpl]', 9),\n",
       " ('[=S@+expl]', 7),\n",
       " ('[P@@Hexpl]', 6),\n",
       " ('[\\\\I]', 6),\n",
       " ('[Expl/Ring1]', 6),\n",
       " ('[Expl\\\\Ring2]', 6),\n",
       " ('[S@+expl]', 5),\n",
       " ('[/I]', 4),\n",
       " ('[Nexpl]', 4),\n",
       " ('[=B]', 4),\n",
       " ('[=O+expl]', 3),\n",
       " ('[O+expl]', 3),\n",
       " ('[CH2-expl]', 3),\n",
       " ('[B@-expl]', 3),\n",
       " ('[=S@@+expl]', 3),\n",
       " ('[B@@-expl]', 3),\n",
       " ('[\\\\B]', 3),\n",
       " ('[/S+expl]', 2),\n",
       " ('[SHexpl]', 2),\n",
       " ('[\\\\S@@expl]', 2),\n",
       " ('[\\\\P@@expl]', 2),\n",
       " ('[/P@expl]', 2),\n",
       " ('[=P@@Hexpl]', 2),\n",
       " ('[\\\\P@expl]', 2),\n",
       " ('[/P@@expl]', 2),\n",
       " ('[/Siexpl]', 2),\n",
       " ('[=17Oexpl]', 1),\n",
       " ('[=Nexpl]', 1),\n",
       " ('[I+expl]', 1),\n",
       " ('[=P@Hexpl]', 1),\n",
       " ('[\\\\Snexpl]', 1),\n",
       " ('[\\\\C-expl]', 1),\n",
       " ('[=SHexpl]', 1),\n",
       " ('[\\\\Siexpl]', 1),\n",
       " ('[SnH4+2expl]', 1),\n",
       " ('[Sn+expl]', 1),\n",
       " ('[=Snexpl]', 1),\n",
       " ('[=P+expl]', 1),\n",
       " ('[C+expl]', 1),\n",
       " ('[N@@H+expl]', 1),\n",
       " ('[Sn+3expl]', 1),\n",
       " ('[/C-expl]', 1),\n",
       " ('[/Cexpl]', 1),\n",
       " ('[BH3-expl]', 1),\n",
       " ('[\\\\CH-expl]', 1),\n",
       " ('[=Siexpl]', 1),\n",
       " ('[/CHexpl]', 1),\n",
       " ('[/Snexpl]', 1),\n",
       " ('[BH2-expl]', 1),\n",
       " ('[\\\\Cexpl]', 1),\n",
       " ('[\\\\P]', 1),\n",
       " ('[=PHexpl]', 1)]"
      ]
     },
     "execution_count": 15,
     "metadata": {},
     "output_type": "execute_result"
    }
   ],
   "source": [
    "c.most_common()"
   ]
  },
  {
   "cell_type": "code",
   "execution_count": 18,
   "metadata": {},
   "outputs": [
    {
     "data": {
      "text/plain": [
       "[('[C]', 16.388236967261374),\n",
       " ('[Ring1]', 3.5816689010411635),\n",
       " ('[=C]', 3.5623280532982746),\n",
       " ('[Branch1_1]', 2.9345254185950744),\n",
       " ('[N]', 2.8294023264197308),\n",
       " ('[Branch1_2]', 2.2250605323073276),\n",
       " ('[=O]', 1.5194128398912945),\n",
       " ('[O]', 1.2863269632062528),\n",
       " ('[Branch2_1]', 0.9208233885997422),\n",
       " ('[=N]', 0.7964058508935272),\n",
       " ('[Ring2]', 0.7457519003963757),\n",
       " ('[C@Hexpl]', 0.6453992304955599),\n",
       " ('[C@@Hexpl]', 0.6328051858431498),\n",
       " ('[F]', 0.426917589409667),\n",
       " ('[S]', 0.41414444138150575),\n",
       " ('[Branch1_3]', 0.4067195507899371),\n",
       " ('[Branch2_2]', 0.3112088502696826),\n",
       " ('[Branch2_3]', 0.25294173007865994),\n",
       " ('[#C]', 0.19927672760867476),\n",
       " ('[Expl=Ring1]', 0.13933390508188648),\n",
       " ('[P]', 0.1289844709009045),\n",
       " ('[Cl]', 0.12147825536060082),\n",
       " ('[NHexpl]', 0.09308864903722937),\n",
       " ('[Br]', 0.04962916189882302),\n",
       " ('[/C]', 0.04287759423706779),\n",
       " ('[C@expl]', 0.04241709318742227),\n",
       " ('[C@@expl]', 0.03709684724130014),\n",
       " ('[#N]', 0.03486083655923605),\n",
       " ('[O-expl]', 0.021512536712723317),\n",
       " ('[N+expl]', 0.020040572156944977),\n",
       " ('[Expl=Ring2]', 0.019871011013227968),\n",
       " ('[\\\\C]', 0.012649832022683547),\n",
       " ('[=S]', 0.008886972588793153),\n",
       " ('[I]', 0.004020408072440332),\n",
       " ('[S@expl]', 0.0031016573639721444),\n",
       " ('[S@@expl]', 0.002791790067753774),\n",
       " ('[=N+expl]', 0.0016308970404944054),\n",
       " ('[/N]', 0.0012679388071974347),\n",
       " ('[/Cl]', 0.0008903858019964601),\n",
       " ('[\\\\Cl]', 0.0008754899720173064),\n",
       " ('[/O]', 0.0003287815970266981),\n",
       " ('[/S]', 0.00028630622946751206),\n",
       " ('[Siexpl]', 0.0002468283531782963),\n",
       " ('[\\\\S]', 0.0002398778384867931),\n",
       " ('[=S@expl]', 0.000225937540659202),\n",
       " ('[=S@@expl]', 0.00021359415957805794),\n",
       " ('[\\\\N]', 0.0001896142294182956),\n",
       " ('[/C@@Hexpl]', 0.00016609243111202215),\n",
       " ('[/C@Hexpl]', 0.0001299785515755678),\n",
       " ('[\\\\O]', 0.00010484674704131904),\n",
       " ('[\\\\C@Hexpl]', 8.648220445717789e-05),\n",
       " ('[\\\\C@@Hexpl]', 8.375959229930094e-05),\n",
       " ('[B]', 6.625895549602459e-05),\n",
       " ('[/F]', 2.76842534322584e-05),\n",
       " ('[/C@expl]', 2.6676363354582798e-05),\n",
       " ('[\\\\C@expl]', 2.2579355636239118e-05),\n",
       " ('[CHexpl]', 2.2304476524145774e-05),\n",
       " ('[\\\\F]', 2.1584555040091774e-05),\n",
       " ('[P@expl]', 1.887503236374308e-05),\n",
       " ('[Cexpl]', 1.5733556796961985e-05),\n",
       " ('[/C@@expl]', 1.2003054561409434e-05),\n",
       " ('[\\\\C@@expl]', 1.0602480037886196e-05),\n",
       " ('[=P]', 9.489874107984557e-06),\n",
       " ('[P@@expl]', 7.34319913735081e-06),\n",
       " ('[/Br]', 6.243682688977426e-06),\n",
       " ('[=N-expl]', 5.916445650771062e-06),\n",
       " ('[/N+expl]', 5.432134834225644e-06),\n",
       " ('[S+expl]', 4.057739273758914e-06),\n",
       " ('[\\\\NHexpl]', 3.521070531100477e-06),\n",
       " ('[\\\\Br]', 3.4163546788744405e-06),\n",
       " ('[/NHexpl]', 2.447733045783603e-06),\n",
       " ('[N@+expl]', 2.395375119670585e-06),\n",
       " ('[/S@expl]', 2.38228563814233e-06),\n",
       " ('[N@@+expl]', 2.329927712029312e-06),\n",
       " ('[N-expl]', 2.1990328967467666e-06),\n",
       " ('[/S@@expl]', 2.1859434152185118e-06),\n",
       " ('[CH2expl]', 2.1074065260489844e-06),\n",
       " ('[=P@expl]', 1.976511710766439e-06),\n",
       " ('[Oexpl]', 1.6623641540883294e-06),\n",
       " ('[Snexpl]', 1.49220089422102e-06),\n",
       " ('[\\\\S@expl]', 1.191142819071165e-06),\n",
       " ('[C-expl]', 1.0864269668451287e-06),\n",
       " ('[/B]', 8.769952623930557e-07),\n",
       " ('[\\\\N+expl]', 7.199214840540009e-07),\n",
       " ('[#N+expl]', 6.413845948844735e-07),\n",
       " ('[=P@@expl]', 4.7122133501716425e-07),\n",
       " ('[CH-expl]', 3.534160012628732e-07),\n",
       " ('[\\\\O-expl]', 2.7487911209334583e-07),\n",
       " ('[Expl/Ring2]', 2.6178963056509125e-07),\n",
       " ('[/Oexpl]', 2.487001490368367e-07),\n",
       " ('[B-expl]', 2.487001490368367e-07),\n",
       " ('[S@@+expl]', 1.9634222292381843e-07),\n",
       " ('[=S+expl]', 1.8325274139556388e-07),\n",
       " ('[P+expl]', 1.4398429681080018e-07),\n",
       " ('[/O-expl]', 1.3089481528254563e-07),\n",
       " ('[PHexpl]', 1.1780533375429106e-07),\n",
       " ('[=S@+expl]', 9.162637069778194e-08),\n",
       " ('[P@@Hexpl]', 7.853688916952738e-08),\n",
       " ('[\\\\I]', 7.853688916952738e-08),\n",
       " ('[Expl/Ring1]', 7.853688916952738e-08),\n",
       " ('[Expl\\\\Ring2]', 7.853688916952738e-08),\n",
       " ('[S@+expl]', 6.544740764127281e-08),\n",
       " ('[/I]', 5.235792611301825e-08),\n",
       " ('[Nexpl]', 5.235792611301825e-08),\n",
       " ('[=B]', 5.235792611301825e-08),\n",
       " ('[=O+expl]', 3.926844458476369e-08),\n",
       " ('[O+expl]', 3.926844458476369e-08),\n",
       " ('[CH2-expl]', 3.926844458476369e-08),\n",
       " ('[B@-expl]', 3.926844458476369e-08),\n",
       " ('[=S@@+expl]', 3.926844458476369e-08),\n",
       " ('[B@@-expl]', 3.926844458476369e-08),\n",
       " ('[\\\\B]', 3.926844458476369e-08),\n",
       " ('[/S+expl]', 2.6178963056509125e-08),\n",
       " ('[SHexpl]', 2.6178963056509125e-08),\n",
       " ('[\\\\S@@expl]', 2.6178963056509125e-08),\n",
       " ('[\\\\P@@expl]', 2.6178963056509125e-08),\n",
       " ('[/P@expl]', 2.6178963056509125e-08),\n",
       " ('[=P@@Hexpl]', 2.6178963056509125e-08),\n",
       " ('[\\\\P@expl]', 2.6178963056509125e-08),\n",
       " ('[/P@@expl]', 2.6178963056509125e-08),\n",
       " ('[/Siexpl]', 2.6178963056509125e-08),\n",
       " ('[=17Oexpl]', 1.3089481528254563e-08),\n",
       " ('[=Nexpl]', 1.3089481528254563e-08),\n",
       " ('[I+expl]', 1.3089481528254563e-08),\n",
       " ('[=P@Hexpl]', 1.3089481528254563e-08),\n",
       " ('[\\\\Snexpl]', 1.3089481528254563e-08),\n",
       " ('[\\\\C-expl]', 1.3089481528254563e-08),\n",
       " ('[=SHexpl]', 1.3089481528254563e-08),\n",
       " ('[\\\\Siexpl]', 1.3089481528254563e-08),\n",
       " ('[SnH4+2expl]', 1.3089481528254563e-08),\n",
       " ('[Sn+expl]', 1.3089481528254563e-08),\n",
       " ('[=Snexpl]', 1.3089481528254563e-08),\n",
       " ('[=P+expl]', 1.3089481528254563e-08),\n",
       " ('[C+expl]', 1.3089481528254563e-08),\n",
       " ('[N@@H+expl]', 1.3089481528254563e-08),\n",
       " ('[Sn+3expl]', 1.3089481528254563e-08),\n",
       " ('[/C-expl]', 1.3089481528254563e-08),\n",
       " ('[/Cexpl]', 1.3089481528254563e-08),\n",
       " ('[BH3-expl]', 1.3089481528254563e-08),\n",
       " ('[\\\\CH-expl]', 1.3089481528254563e-08),\n",
       " ('[=Siexpl]', 1.3089481528254563e-08),\n",
       " ('[/CHexpl]', 1.3089481528254563e-08),\n",
       " ('[/Snexpl]', 1.3089481528254563e-08),\n",
       " ('[BH2-expl]', 1.3089481528254563e-08),\n",
       " ('[\\\\Cexpl]', 1.3089481528254563e-08),\n",
       " ('[\\\\P]', 1.3089481528254563e-08),\n",
       " ('[=PHexpl]', 1.3089481528254563e-08)]"
      ]
     },
     "execution_count": 18,
     "metadata": {},
     "output_type": "execute_result"
    }
   ],
   "source": [
    "[(i[0], i[1]/df.shape[0]) for i in c.most_common()]"
   ]
  },
  {
   "cell_type": "code",
   "execution_count": null,
   "metadata": {},
   "outputs": [],
   "source": []
  },
  {
   "cell_type": "code",
   "execution_count": null,
   "metadata": {},
   "outputs": [],
   "source": []
  },
  {
   "cell_type": "code",
   "execution_count": 17,
   "metadata": {},
   "outputs": [
    {
     "data": {
      "text/plain": [
       "16.388236967261374"
      ]
     },
     "execution_count": 17,
     "metadata": {},
     "output_type": "execute_result"
    }
   ],
   "source": [
    "1252015745/76397220"
   ]
  },
  {
   "cell_type": "code",
   "execution_count": null,
   "metadata": {},
   "outputs": [],
   "source": []
  },
  {
   "cell_type": "code",
   "execution_count": null,
   "metadata": {},
   "outputs": [],
   "source": []
  },
  {
   "cell_type": "code",
   "execution_count": null,
   "metadata": {},
   "outputs": [],
   "source": []
  },
  {
   "cell_type": "code",
   "execution_count": null,
   "metadata": {},
   "outputs": [],
   "source": []
  },
  {
   "cell_type": "code",
   "execution_count": 5,
   "metadata": {},
   "outputs": [],
   "source": [
    "df = next(pd.read_csv('../../smiles_datasets/shard_0.csv', chunksize=5000000))"
   ]
  },
  {
   "cell_type": "code",
   "execution_count": 6,
   "metadata": {},
   "outputs": [],
   "source": [
    "df = df[['smiles']]"
   ]
  },
  {
   "cell_type": "code",
   "execution_count": 7,
   "metadata": {},
   "outputs": [
    {
     "data": {
      "text/plain": [
       "20"
      ]
     },
     "execution_count": 7,
     "metadata": {},
     "output_type": "execute_result"
    }
   ],
   "source": [
    "gc.collect()"
   ]
  },
  {
   "cell_type": "code",
   "execution_count": 8,
   "metadata": {},
   "outputs": [],
   "source": [
    "def to_selfies(smile):\n",
    "    return sf.encoder(smile)"
   ]
  },
  {
   "cell_type": "code",
   "execution_count": 9,
   "metadata": {},
   "outputs": [],
   "source": [
    "def to_toks(selfie):\n",
    "    return set(sf.split_selfies(selfie))"
   ]
  },
  {
   "cell_type": "code",
   "execution_count": null,
   "metadata": {},
   "outputs": [],
   "source": []
  },
  {
   "cell_type": "code",
   "execution_count": 10,
   "metadata": {},
   "outputs": [
    {
     "name": "stdout",
     "output_type": "stream",
     "text": [
      "CPU times: user 1.75 s, sys: 1.65 s, total: 3.4 s\n",
      "Wall time: 25.4 s\n"
     ]
    }
   ],
   "source": [
    "%%time\n",
    "selfies = maybe_parallel(to_selfies, df.smiles.values, cpus=64)"
   ]
  },
  {
   "cell_type": "code",
   "execution_count": 11,
   "metadata": {},
   "outputs": [
    {
     "data": {
      "text/plain": [
       "5000000"
      ]
     },
     "execution_count": 11,
     "metadata": {},
     "output_type": "execute_result"
    }
   ],
   "source": [
    "len(selfies)"
   ]
  },
  {
   "cell_type": "code",
   "execution_count": 12,
   "metadata": {},
   "outputs": [
    {
     "data": {
      "text/plain": [
       "0"
      ]
     },
     "execution_count": 12,
     "metadata": {},
     "output_type": "execute_result"
    }
   ],
   "source": [
    "np.array([i is None for i in selfies]).sum()"
   ]
  },
  {
   "cell_type": "code",
   "execution_count": null,
   "metadata": {},
   "outputs": [],
   "source": []
  },
  {
   "cell_type": "code",
   "execution_count": 13,
   "metadata": {},
   "outputs": [
    {
     "name": "stdout",
     "output_type": "stream",
     "text": [
      "CPU times: user 41.2 s, sys: 3.78 s, total: 44.9 s\n",
      "Wall time: 45.2 s\n"
     ]
    }
   ],
   "source": [
    "%%time\n",
    "toks = maybe_parallel(to_toks, selfies, cpus=64)"
   ]
  },
  {
   "cell_type": "code",
   "execution_count": 14,
   "metadata": {},
   "outputs": [],
   "source": [
    "toks = set().union(*toks)"
   ]
  },
  {
   "cell_type": "code",
   "execution_count": 15,
   "metadata": {},
   "outputs": [
    {
     "data": {
      "text/plain": [
       "98"
      ]
     },
     "execution_count": 15,
     "metadata": {},
     "output_type": "execute_result"
    }
   ],
   "source": [
    "len(toks)"
   ]
  },
  {
   "cell_type": "code",
   "execution_count": 16,
   "metadata": {},
   "outputs": [
    {
     "data": {
      "text/plain": [
       "0"
      ]
     },
     "execution_count": 16,
     "metadata": {},
     "output_type": "execute_result"
    }
   ],
   "source": [
    "gc.collect()"
   ]
  },
  {
   "cell_type": "code",
   "execution_count": null,
   "metadata": {},
   "outputs": [],
   "source": []
  },
  {
   "cell_type": "code",
   "execution_count": 17,
   "metadata": {
    "scrolled": true
   },
   "outputs": [
    {
     "data": {
      "text/plain": [
       "{'[#C]',\n",
       " '[#N+expl]',\n",
       " '[#N]',\n",
       " '[/B]',\n",
       " '[/Br]',\n",
       " '[/C@@Hexpl]',\n",
       " '[/C@@expl]',\n",
       " '[/C@Hexpl]',\n",
       " '[/C@expl]',\n",
       " '[/C]',\n",
       " '[/Cl]',\n",
       " '[/F]',\n",
       " '[/I]',\n",
       " '[/N+expl]',\n",
       " '[/NHexpl]',\n",
       " '[/N]',\n",
       " '[/O]',\n",
       " '[/Oexpl]',\n",
       " '[/S+expl]',\n",
       " '[/S@@expl]',\n",
       " '[/S@expl]',\n",
       " '[/S]',\n",
       " '[=17Oexpl]',\n",
       " '[=C]',\n",
       " '[=N+expl]',\n",
       " '[=N-expl]',\n",
       " '[=N]',\n",
       " '[=O+expl]',\n",
       " '[=O]',\n",
       " '[=P@@expl]',\n",
       " '[=P@expl]',\n",
       " '[=P]',\n",
       " '[=S+expl]',\n",
       " '[=S@+expl]',\n",
       " '[=S@@expl]',\n",
       " '[=S@expl]',\n",
       " '[=S]',\n",
       " '[B-expl]',\n",
       " '[B]',\n",
       " '[Br]',\n",
       " '[Branch1_1]',\n",
       " '[Branch1_2]',\n",
       " '[Branch1_3]',\n",
       " '[Branch2_1]',\n",
       " '[Branch2_2]',\n",
       " '[Branch2_3]',\n",
       " '[C-expl]',\n",
       " '[C@@Hexpl]',\n",
       " '[C@@expl]',\n",
       " '[C@Hexpl]',\n",
       " '[C@expl]',\n",
       " '[CH-expl]',\n",
       " '[CH2expl]',\n",
       " '[CHexpl]',\n",
       " '[C]',\n",
       " '[Cexpl]',\n",
       " '[Cl]',\n",
       " '[Expl/Ring2]',\n",
       " '[Expl=Ring1]',\n",
       " '[Expl=Ring2]',\n",
       " '[F]',\n",
       " '[I]',\n",
       " '[N+expl]',\n",
       " '[N-expl]',\n",
       " '[N@+expl]',\n",
       " '[N@@+expl]',\n",
       " '[NHexpl]',\n",
       " '[N]',\n",
       " '[O-expl]',\n",
       " '[O]',\n",
       " '[Oexpl]',\n",
       " '[P@@expl]',\n",
       " '[P@expl]',\n",
       " '[P]',\n",
       " '[Ring1]',\n",
       " '[Ring2]',\n",
       " '[S+expl]',\n",
       " '[S@@expl]',\n",
       " '[S@expl]',\n",
       " '[SHexpl]',\n",
       " '[S]',\n",
       " '[Siexpl]',\n",
       " '[Snexpl]',\n",
       " '[\\\\Br]',\n",
       " '[\\\\C@@Hexpl]',\n",
       " '[\\\\C@@expl]',\n",
       " '[\\\\C@Hexpl]',\n",
       " '[\\\\C@expl]',\n",
       " '[\\\\C]',\n",
       " '[\\\\Cl]',\n",
       " '[\\\\F]',\n",
       " '[\\\\N+expl]',\n",
       " '[\\\\NHexpl]',\n",
       " '[\\\\N]',\n",
       " '[\\\\O-expl]',\n",
       " '[\\\\O]',\n",
       " '[\\\\S@expl]',\n",
       " '[\\\\S]'}"
      ]
     },
     "execution_count": 17,
     "metadata": {},
     "output_type": "execute_result"
    }
   ],
   "source": [
    "toks"
   ]
  },
  {
   "cell_type": "code",
   "execution_count": null,
   "metadata": {},
   "outputs": [],
   "source": []
  },
  {
   "cell_type": "code",
   "execution_count": 19,
   "metadata": {},
   "outputs": [],
   "source": [
    "from collections import Counter"
   ]
  },
  {
   "cell_type": "code",
   "execution_count": 34,
   "metadata": {},
   "outputs": [],
   "source": [
    "def count_toks(selfie):\n",
    "    return Counter(sf.split_selfies(selfie))"
   ]
  },
  {
   "cell_type": "code",
   "execution_count": 39,
   "metadata": {},
   "outputs": [
    {
     "name": "stdout",
     "output_type": "stream",
     "text": [
      "CPU times: user 41.6 s, sys: 3.66 s, total: 45.3 s\n",
      "Wall time: 45.5 s\n"
     ]
    }
   ],
   "source": [
    "%%time\n",
    "counts = maybe_parallel(count_toks, selfies, cpus=64)"
   ]
  },
  {
   "cell_type": "code",
   "execution_count": 40,
   "metadata": {},
   "outputs": [],
   "source": [
    "c = Counter()\n",
    "for count in counts:\n",
    "    c.update(count)"
   ]
  },
  {
   "cell_type": "code",
   "execution_count": null,
   "metadata": {},
   "outputs": [],
   "source": []
  },
  {
   "cell_type": "code",
   "execution_count": 41,
   "metadata": {},
   "outputs": [
    {
     "data": {
      "text/plain": [
       "Counter({'[O]': 6437869,\n",
       "         '[=C]': 17818649,\n",
       "         '[Branch1_1]': 14672492,\n",
       "         '[#C]': 996528,\n",
       "         '[N]': 14141826,\n",
       "         '[C]': 81933794,\n",
       "         '[Br]': 247801,\n",
       "         '[Ring1]': 17909313,\n",
       "         '[Branch1_3]': 2033660,\n",
       "         '[F]': 2137606,\n",
       "         '[Branch1_2]': 11126994,\n",
       "         '[=O]': 7597338,\n",
       "         '[Branch2_3]': 1266933,\n",
       "         '[C@@Hexpl]': 3163629,\n",
       "         '[Branch2_1]': 4605729,\n",
       "         '[=N]': 3980028,\n",
       "         '[Branch2_2]': 1557066,\n",
       "         '[S]': 2070681,\n",
       "         '[Expl=Ring1]': 697633,\n",
       "         '[Cl]': 608031,\n",
       "         '[C@Hexpl]': 3226381,\n",
       "         '[NHexpl]': 465971,\n",
       "         '[Ring2]': 3727943,\n",
       "         '[C@expl]': 212051,\n",
       "         '[C@@expl]': 185418,\n",
       "         '[P]': 644503,\n",
       "         '[N+expl]': 100321,\n",
       "         '[O-expl]': 107745,\n",
       "         '[#N]': 173949,\n",
       "         '[/C]': 214907,\n",
       "         '[/C@@Hexpl]': 827,\n",
       "         '[Expl=Ring2]': 98718,\n",
       "         '[\\\\Cl]': 4369,\n",
       "         '[=N+expl]': 8251,\n",
       "         '[/Cl]': 4510,\n",
       "         '[/S]': 1438,\n",
       "         '[\\\\C]': 63238,\n",
       "         '[=S]': 44745,\n",
       "         '[S@@expl]': 13852,\n",
       "         '[S@expl]': 15535,\n",
       "         '[/N]': 6432,\n",
       "         '[I]': 19888,\n",
       "         '[/O]': 1641,\n",
       "         '[P@expl]': 103,\n",
       "         '[=S@expl]': 1143,\n",
       "         '[\\\\S]': 1188,\n",
       "         '[\\\\O]': 569,\n",
       "         '[Siexpl]': 1214,\n",
       "         '[\\\\N]': 932,\n",
       "         '[=S@@expl]': 1044,\n",
       "         '[/C@Hexpl]': 635,\n",
       "         '[/F]': 122,\n",
       "         '[\\\\C@@Hexpl]': 396,\n",
       "         '[B]': 329,\n",
       "         '[/C@expl]': 140,\n",
       "         '[\\\\F]': 127,\n",
       "         '[\\\\C@@expl]': 47,\n",
       "         '[CHexpl]': 116,\n",
       "         '[=P@@expl]': 1,\n",
       "         '[\\\\NHexpl]': 16,\n",
       "         '[\\\\C@expl]': 109,\n",
       "         '[\\\\C@Hexpl]': 430,\n",
       "         '[CH2expl]': 10,\n",
       "         '[Snexpl]': 10,\n",
       "         '[/S@expl]': 10,\n",
       "         '[Cexpl]': 69,\n",
       "         '[=P]': 53,\n",
       "         '[/C@@expl]': 68,\n",
       "         '[S+expl]': 14,\n",
       "         '[/NHexpl]': 15,\n",
       "         '[=N-expl]': 24,\n",
       "         '[/N+expl]': 21,\n",
       "         '[N-expl]': 15,\n",
       "         '[\\\\Br]': 16,\n",
       "         '[P@@expl]': 44,\n",
       "         '[=S@+expl]': 2,\n",
       "         '[N@@+expl]': 9,\n",
       "         '[/Br]': 32,\n",
       "         '[=P@expl]': 11,\n",
       "         '[/S@@expl]': 9,\n",
       "         '[=O+expl]': 1,\n",
       "         '[\\\\N+expl]': 4,\n",
       "         '[Oexpl]': 3,\n",
       "         '[\\\\S@expl]': 5,\n",
       "         '[N@+expl]': 12,\n",
       "         '[/B]': 3,\n",
       "         '[/I]': 1,\n",
       "         '[C-expl]': 11,\n",
       "         '[CH-expl]': 7,\n",
       "         '[Expl/Ring2]': 2,\n",
       "         '[\\\\O-expl]': 2,\n",
       "         '[/S+expl]': 1,\n",
       "         '[/Oexpl]': 1,\n",
       "         '[=17Oexpl]': 1,\n",
       "         '[#N+expl]': 4,\n",
       "         '[SHexpl]': 1,\n",
       "         '[=S+expl]': 1,\n",
       "         '[B-expl]': 1})"
      ]
     },
     "execution_count": 41,
     "metadata": {},
     "output_type": "execute_result"
    }
   ],
   "source": [
    "c"
   ]
  },
  {
   "cell_type": "code",
   "execution_count": null,
   "metadata": {},
   "outputs": [],
   "source": []
  },
  {
   "cell_type": "code",
   "execution_count": 43,
   "metadata": {},
   "outputs": [
    {
     "name": "stdout",
     "output_type": "stream",
     "text": [
      "CPU times: user 4.85 s, sys: 472 ms, total: 5.32 s\n",
      "Wall time: 5.91 s\n"
     ]
    }
   ],
   "source": [
    "%%time\n",
    "_ = maybe_parallel(count_toks, selfies[:500000], cpus=8)"
   ]
  },
  {
   "cell_type": "code",
   "execution_count": 48,
   "metadata": {},
   "outputs": [
    {
     "name": "stdout",
     "output_type": "stream",
     "text": [
      "CPU times: user 4.4 s, sys: 937 ms, total: 5.34 s\n",
      "Wall time: 5.75 s\n"
     ]
    }
   ],
   "source": [
    "%%time\n",
    "_ = maybe_parallel(count_toks, selfies[:500000], cpus=12)"
   ]
  },
  {
   "cell_type": "code",
   "execution_count": null,
   "metadata": {},
   "outputs": [],
   "source": []
  },
  {
   "cell_type": "code",
   "execution_count": null,
   "metadata": {},
   "outputs": [],
   "source": []
  },
  {
   "cell_type": "code",
   "execution_count": null,
   "metadata": {},
   "outputs": [],
   "source": []
  },
  {
   "cell_type": "code",
   "execution_count": null,
   "metadata": {},
   "outputs": [],
   "source": []
  },
  {
   "cell_type": "code",
   "execution_count": null,
   "metadata": {},
   "outputs": [],
   "source": [
    "def whiten2(values, shift_mean=True, mask=None):\n",
    "    if mask is None:\n",
    "        mean = values.mean()\n",
    "        var = values.var()\n",
    "    else:\n",
    "        mean = (values*mask).sum()/mask.sum()\n",
    "        var = ((values-mean)*mask).pow(2).sum()/(mask.sum()-1)\n",
    "        \n",
    "    whitened = (values - mean) * torch.rsqrt(var + 1e-8)\n",
    "    \n",
    "    if not shift_mean:\n",
    "        whitened += mean\n",
    "        \n",
    "    if mask is not None:\n",
    "        whitened = whitened*mask\n",
    "        \n",
    "    return whitened"
   ]
  },
  {
   "cell_type": "code",
   "execution_count": null,
   "metadata": {},
   "outputs": [
    {
     "data": {
      "text/plain": [
       "tensor([[ 0.8125, -1.3386,  0.8953,  ..., -0.4803, -0.7517, -1.2892],\n",
       "        [-1.3297, -1.4749, -1.7278,  ..., -1.2667,  1.3369,  0.6980],\n",
       "        [-1.3244, -1.3284, -1.1509,  ...,  0.4678,  0.2433,  1.1388],\n",
       "        ...,\n",
       "        [-1.4587,  1.3587,  0.0729,  ..., -0.2084,  1.3918,  0.5296],\n",
       "        [-0.8462, -0.4195,  1.0463,  ...,  0.0501,  1.3445, -0.4174],\n",
       "        [-0.7110, -0.9490,  1.3654,  ..., -0.6700, -0.0429,  0.4606]])"
      ]
     },
     "execution_count": null,
     "metadata": {},
     "output_type": "execute_result"
    }
   ],
   "source": [
    "whiten2(values)"
   ]
  },
  {
   "cell_type": "code",
   "execution_count": null,
   "metadata": {},
   "outputs": [
    {
     "data": {
      "text/plain": [
       "tensor([[ 0.8125, -1.3386,  0.8953,  ..., -0.4803, -0.7517, -1.2892],\n",
       "        [-1.3297, -1.4749, -1.7278,  ..., -1.2667,  1.3369,  0.6980],\n",
       "        [-1.3244, -1.3284, -1.1509,  ...,  0.4678,  0.2433,  1.1388],\n",
       "        ...,\n",
       "        [-1.4587,  1.3587,  0.0729,  ..., -0.2084,  1.3918,  0.5296],\n",
       "        [-0.8462, -0.4195,  1.0463,  ...,  0.0501,  1.3445, -0.4174],\n",
       "        [-0.7110, -0.9490,  1.3654,  ..., -0.6700, -0.0429,  0.4606]])"
      ]
     },
     "execution_count": null,
     "metadata": {},
     "output_type": "execute_result"
    }
   ],
   "source": [
    "whiten2(values, mask=torch.ones(values.shape))"
   ]
  },
  {
   "cell_type": "code",
   "execution_count": null,
   "metadata": {},
   "outputs": [
    {
     "data": {
      "text/plain": [
       "tensor(True)"
      ]
     },
     "execution_count": null,
     "metadata": {},
     "output_type": "execute_result"
    }
   ],
   "source": [
    "(whiten2(values)==whiten2(values, mask=torch.ones(values.shape))).all()"
   ]
  },
  {
   "cell_type": "code",
   "execution_count": null,
   "metadata": {},
   "outputs": [
    {
     "data": {
      "text/plain": [
       "tensor([[ 0.8113, -1.3390,  0.8941,  ..., -0.0000, -0.0000, -0.0000],\n",
       "        [-1.3302, -1.4754, -1.7282,  ..., -0.0000,  0.0000,  0.0000],\n",
       "        [-1.3248, -1.3289, -1.1514,  ...,  0.0000,  0.0000,  0.0000],\n",
       "        ...,\n",
       "        [-1.4592,  1.3574,  0.0720,  ..., -0.0000,  0.0000,  0.0000],\n",
       "        [-0.8468, -0.4203,  1.0450,  ...,  0.0000,  0.0000, -0.0000],\n",
       "        [-0.7116, -0.9496,  1.3641,  ..., -0.0000, -0.0000,  0.0000]])"
      ]
     },
     "execution_count": null,
     "metadata": {},
     "output_type": "execute_result"
    }
   ],
   "source": [
    "whiten2(values, mask=mask)"
   ]
  },
  {
   "cell_type": "code",
   "execution_count": null,
   "metadata": {},
   "outputs": [],
   "source": []
  },
  {
   "cell_type": "code",
   "execution_count": null,
   "metadata": {},
   "outputs": [],
   "source": []
  },
  {
   "cell_type": "code",
   "execution_count": null,
   "metadata": {},
   "outputs": [],
   "source": []
  },
  {
   "cell_type": "code",
   "execution_count": null,
   "metadata": {},
   "outputs": [
    {
     "data": {
      "text/plain": [
       "tensor([[0.7341, 0.1199, 0.7577,  ..., 0.3650, 0.2875, 0.1340],\n",
       "        [0.1224, 0.0810, 0.0088,  ..., 0.1404, 0.8838, 0.7014],\n",
       "        [0.1240, 0.1228, 0.1735,  ..., 0.6357, 0.5716, 0.8272],\n",
       "        ...,\n",
       "        [0.0856, 0.8900, 0.5229,  ..., 0.4426, 0.8995, 0.6533],\n",
       "        [0.2605, 0.3823, 0.8008,  ..., 0.5164, 0.8860, 0.3829],\n",
       "        [0.2991, 0.2311, 0.8919,  ..., 0.3108, 0.4898, 0.6336]])"
      ]
     },
     "execution_count": null,
     "metadata": {},
     "output_type": "execute_result"
    }
   ],
   "source": [
    "    mean, var = torch.mean(values), torch.var(values)\n",
    "    whitened = (values - mean) * torch.rsqrt(var + 1e-8)\n",
    "    if not shift_mean:\n",
    "        whitened += mean\n",
    "    return whitened"
   ]
  },
  {
   "cell_type": "code",
   "execution_count": null,
   "metadata": {},
   "outputs": [],
   "source": []
  },
  {
   "cell_type": "code",
   "execution_count": null,
   "metadata": {},
   "outputs": [],
   "source": []
  },
  {
   "cell_type": "code",
   "execution_count": null,
   "metadata": {},
   "outputs": [],
   "source": [
    "class PoolingHead(nn.Module):\n",
    "    def __init__(self, d_in, dims, d_out, drops, outrange=None):\n",
    "        super().__init__()\n",
    "        \n",
    "        self.layers = MLP_Encoder(d_in, dims, d_out, drops)\n",
    "        self.outrange = outrange\n",
    "        \n",
    "    def forward(self, x, mask=None):\n",
    "        # x - bs, sl, d\n",
    "        # mask - bs, sl\n",
    "        if mask is not None:\n",
    "            lengths = mask.sum(-1)\n",
    "            final_vals = x[torch.arange(x.shape[0]), lengths-1]\n",
    "            pool1 = x.masked_fill(mask.unsqueeze(-1), 0).sum(1)/lengths.unsqueeze(-1)\n",
    "            pool2 = x.masked_fill(mask.unsqueeze(-1), -float('inf')).max(1)[0]\n",
    "        else:\n",
    "            final_vals = x[:,-1]\n",
    "            pool1 = x.mean(1)\n",
    "            pool2 = x.max(1)[0]\n",
    "            \n",
    "        x = torch.cat([final_vals, pool1, pool2], 1)\n",
    "        x = self.layers(x)\n",
    "        \n",
    "        if self.outrange is not None:\n",
    "            x = torch.sigmoid(x) * (self.outrange[1]-self.outrange[0]) + self.outrange[0]\n",
    "        \n",
    "        return x\n",
    "    \n",
    "class Predictive_LSTM(nn.Module):\n",
    "    def __init__(self, d_vocab, d_embedding, d_hidden, n_layers, d_out_lstm,\n",
    "                 head_dims, head_drops, d_out, outrange=None,\n",
    "                 lstm_drop=0., bidir=False,):\n",
    "        super().__init__()\n",
    "        \n",
    "        self.embedding = nn.Embedding(d_vocab, d_embedding)\n",
    "        self.lstm = LSTM(d_embedding, d_hidden, d_out_lstm, n_layers,\n",
    "                                     bidir=bidir, dropout=lstm_drop)\n",
    "        \n",
    "        self.head = PoolingHead(d_out_lstm*3, head_dims, d_out, head_drops, outrange)\n",
    "\n",
    "        \n",
    "    def forward(self, x, hiddens=None, mask=None):\n",
    "        \n",
    "        x = self.embedding(x)\n",
    "        encoded, hiddens = self.lstm(x, hiddens)\n",
    "        output = self.head(encoded, mask)\n",
    "        return output\n",
    "    \n",
    "    def freeze_encoder(self):\n",
    "        for p in self.embedding.parameters():\n",
    "            p.requires_grad_(False)\n",
    "            \n",
    "        for p in self.lstm.parameters():\n",
    "            p.requires_grad_(False)\n",
    "    \n",
    "    def load_from_lm(self, lm_model):\n",
    "        if hasattr(lm_model, 'block'):\n",
    "            self.embedding.load_state_dict(lm_model.block.embedding.state_dict())\n",
    "            self.lstm.load_state_dict(lm_model.block.lstm.state_dict())\n",
    "        else:\n",
    "            if hasattr(lm_model, 'lstm'):\n",
    "                self.lstm.load_state_dict(lm_model.lstm.state_dict())\n",
    "                \n",
    "            if hasattr(lm_model, 'embedding'):\n",
    "                self.embedding.load_state_dict(lm_model.embedding.state_dict())"
   ]
  },
  {
   "cell_type": "code",
   "execution_count": null,
   "metadata": {},
   "outputs": [],
   "source": []
  },
  {
   "cell_type": "code",
   "execution_count": null,
   "metadata": {},
   "outputs": [],
   "source": [
    "vocab = CharacterVocab(SMILES_CHAR_VOCAB)"
   ]
  },
  {
   "cell_type": "code",
   "execution_count": null,
   "metadata": {},
   "outputs": [
    {
     "data": {
      "text/plain": [
       "<All keys matched successfully>"
      ]
     },
     "execution_count": null,
     "metadata": {},
     "output_type": "execute_result"
    }
   ],
   "source": [
    "ds = TextDataset(['CCC'], vocab)\n",
    "\n",
    "d_vocab = len(vocab.itos)\n",
    "d_embedding = 256\n",
    "d_hidden = 1024\n",
    "n_layers = 3\n",
    "lstm_drop = 0.\n",
    "lin_drop = 0.\n",
    "bos_idx = vocab.stoi['bos']\n",
    "bidir = False\n",
    "tie_weights = True\n",
    "\n",
    "lm_model = LSTM_LM(d_vocab, d_embedding, d_hidden, n_layers,\n",
    "                lstm_drop, lin_drop, bos_idx, bidir, tie_weights)\n",
    "\n",
    "lm_model.load_state_dict(torch.load('../nbs/untracked_files/lstm_lm_small.pt', map_location=torch.device('cpu')))"
   ]
  },
  {
   "cell_type": "code",
   "execution_count": null,
   "metadata": {},
   "outputs": [],
   "source": []
  },
  {
   "cell_type": "code",
   "execution_count": null,
   "metadata": {},
   "outputs": [],
   "source": [
    "model = Predictive_LSTM(d_vocab, d_embedding, d_hidden, n_layers, d_embedding,\n",
    "                        [512, 256], [0.1, 0.1], 1)"
   ]
  },
  {
   "cell_type": "code",
   "execution_count": null,
   "metadata": {},
   "outputs": [],
   "source": [
    "model.load_from_lm(lm_model)"
   ]
  },
  {
   "cell_type": "code",
   "execution_count": null,
   "metadata": {},
   "outputs": [
    {
     "data": {
      "text/plain": [
       "Parameter containing:\n",
       "tensor([[ 0.0181,  0.0324,  0.0202,  ...,  0.0010,  0.0047,  0.0283],\n",
       "        [-0.0101,  0.0228,  0.0193,  ..., -0.0366,  0.0038, -0.0540],\n",
       "        [ 0.0537, -0.0437, -0.0073,  ...,  0.0270, -0.0121,  0.0504],\n",
       "        ...,\n",
       "        [ 0.0567,  0.0338, -0.0113,  ..., -0.0163,  0.0104,  0.0140],\n",
       "        [ 0.0025,  0.0101,  0.0410,  ..., -0.0130, -0.0164, -0.0144],\n",
       "        [ 0.0174,  0.0205,  0.0073,  ...,  0.0442, -0.0021,  0.0154]],\n",
       "       requires_grad=True)"
      ]
     },
     "execution_count": null,
     "metadata": {},
     "output_type": "execute_result"
    }
   ],
   "source": [
    "next(model.lstm.parameters())"
   ]
  },
  {
   "cell_type": "code",
   "execution_count": null,
   "metadata": {},
   "outputs": [],
   "source": [
    "df = pd.read_csv('../nbs/files/smiles.csv')"
   ]
  },
  {
   "cell_type": "code",
   "execution_count": null,
   "metadata": {},
   "outputs": [],
   "source": [
    "def masked_sequence_prediction_collate(batch, pad_idx, batch_first=True):\n",
    "    \n",
    "    x,y = sequence_prediction_collate(batch, pad_idx, batch_first)\n",
    "    mask = ~(x==pad_idx)\n",
    "    return ((x,None,mask), y)"
   ]
  },
  {
   "cell_type": "code",
   "execution_count": null,
   "metadata": {},
   "outputs": [],
   "source": [
    "collate_fn = partial(masked_sequence_prediction_collate, pad_idx=vocab.stoi['pad'])"
   ]
  },
  {
   "cell_type": "code",
   "execution_count": null,
   "metadata": {},
   "outputs": [],
   "source": [
    "ds = TextPredictionDataset(df.smiles.values, np.array([0.]*df.shape[0]), vocab,\n",
    "                          collate_function=collate_fn)"
   ]
  },
  {
   "cell_type": "code",
   "execution_count": null,
   "metadata": {},
   "outputs": [
    {
     "data": {
      "text/plain": [
       "(tensor([ 0, 22, 26, 33, 11, 36, 33,  5, 29, 22, 22,  5, 19, 27,  6, 26, 33, 12,\n",
       "         33, 33,  5, 22, 35,  6, 33, 33, 33, 12, 27, 22,  6, 36, 33, 12, 33, 33,\n",
       "         33, 33, 33, 11, 12,  1]), tensor([0.]))"
      ]
     },
     "execution_count": null,
     "metadata": {},
     "output_type": "execute_result"
    }
   ],
   "source": [
    "ds[0]"
   ]
  },
  {
   "cell_type": "code",
   "execution_count": null,
   "metadata": {},
   "outputs": [],
   "source": [
    "x,y = next(iter(ds.dataloader(16)))"
   ]
  },
  {
   "cell_type": "code",
   "execution_count": null,
   "metadata": {},
   "outputs": [
    {
     "data": {
      "text/plain": [
       "(tensor([[ 0, 22, 26,  ...,  2,  2,  2],\n",
       "         [ 0, 22, 27,  ...,  2,  2,  2],\n",
       "         [ 0, 22, 33,  ...,  2,  2,  2],\n",
       "         ...,\n",
       "         [ 0, 22, 33,  ...,  2,  2,  2],\n",
       "         [ 0, 22, 22,  ...,  2,  2,  2],\n",
       "         [ 0, 27, 19,  ...,  2,  2,  2]]),\n",
       " None,\n",
       " tensor([[ True,  True,  True,  ..., False, False, False],\n",
       "         [ True,  True,  True,  ..., False, False, False],\n",
       "         [ True,  True,  True,  ..., False, False, False],\n",
       "         ...,\n",
       "         [ True,  True,  True,  ..., False, False, False],\n",
       "         [ True,  True,  True,  ..., False, False, False],\n",
       "         [ True,  True,  True,  ..., False, False, False]]))"
      ]
     },
     "execution_count": null,
     "metadata": {},
     "output_type": "execute_result"
    }
   ],
   "source": [
    "x"
   ]
  },
  {
   "cell_type": "code",
   "execution_count": null,
   "metadata": {},
   "outputs": [
    {
     "data": {
      "text/plain": [
       "tensor([0., 0., 0., 0., 0., 0., 0., 0., 0., 0., 0., 0., 0., 0., 0., 0.])"
      ]
     },
     "execution_count": null,
     "metadata": {},
     "output_type": "execute_result"
    }
   ],
   "source": [
    "y"
   ]
  },
  {
   "cell_type": "code",
   "execution_count": null,
   "metadata": {},
   "outputs": [],
   "source": [
    "with torch.no_grad():\n",
    "    out = model(*x)"
   ]
  },
  {
   "cell_type": "code",
   "execution_count": null,
   "metadata": {},
   "outputs": [
    {
     "data": {
      "text/plain": [
       "tensor([[-0.2800],\n",
       "        [ 0.0608],\n",
       "        [-0.1827],\n",
       "        [-0.2925],\n",
       "        [ 0.2265],\n",
       "        [ 0.2253],\n",
       "        [ 0.0656],\n",
       "        [-0.0847],\n",
       "        [-0.8578],\n",
       "        [-0.3824],\n",
       "        [-0.1353],\n",
       "        [-0.4450],\n",
       "        [ 0.0713],\n",
       "        [ 0.5608],\n",
       "        [ 0.3842],\n",
       "        [-0.3874]])"
      ]
     },
     "execution_count": null,
     "metadata": {},
     "output_type": "execute_result"
    }
   ],
   "source": [
    "out"
   ]
  },
  {
   "cell_type": "code",
   "execution_count": null,
   "metadata": {},
   "outputs": [],
   "source": []
  },
  {
   "cell_type": "code",
   "execution_count": null,
   "metadata": {},
   "outputs": [
    {
     "data": {
      "text/plain": [
       "0.3943830166921718"
      ]
     },
     "execution_count": null,
     "metadata": {},
     "output_type": "execute_result"
    }
   ],
   "source": [
    "0.99907**1000"
   ]
  },
  {
   "cell_type": "code",
   "execution_count": null,
   "metadata": {},
   "outputs": [],
   "source": []
  },
  {
   "cell_type": "code",
   "execution_count": null,
   "metadata": {},
   "outputs": [],
   "source": []
  },
  {
   "cell_type": "code",
   "execution_count": null,
   "metadata": {},
   "outputs": [],
   "source": [
    "vocab = CharacterVocab(SMILES_CHAR_VOCAB)"
   ]
  },
  {
   "cell_type": "code",
   "execution_count": null,
   "metadata": {},
   "outputs": [],
   "source": []
  },
  {
   "cell_type": "code",
   "execution_count": null,
   "metadata": {},
   "outputs": [
    {
     "data": {
      "text/plain": [
       "<All keys matched successfully>"
      ]
     },
     "execution_count": null,
     "metadata": {},
     "output_type": "execute_result"
    }
   ],
   "source": [
    "ds = TextDataset(['CCC'], vocab)\n",
    "\n",
    "d_vocab = len(vocab.itos)\n",
    "d_embedding = 256\n",
    "d_hidden = 1024\n",
    "n_layers = 3\n",
    "lstm_drop = 0.\n",
    "lin_drop = 0.\n",
    "bos_idx = vocab.stoi['bos']\n",
    "bidir = False\n",
    "tie_weights = True\n",
    "\n",
    "model = LSTM_LM(d_vocab, d_embedding, d_hidden, n_layers,\n",
    "                lstm_drop, lin_drop, bos_idx, bidir, tie_weights)\n",
    "\n",
    "model.load_state_dict(torch.load('../nbs/untracked_files/lstm_lm_small.pt', map_location=torch.device('cpu')))"
   ]
  },
  {
   "cell_type": "code",
   "execution_count": null,
   "metadata": {},
   "outputs": [
    {
     "data": {
      "text/plain": [
       "True"
      ]
     },
     "execution_count": null,
     "metadata": {},
     "output_type": "execute_result"
    }
   ],
   "source": [
    "hasattr(model, 'block')"
   ]
  },
  {
   "cell_type": "code",
   "execution_count": null,
   "metadata": {},
   "outputs": [
    {
     "data": {
      "text/plain": [
       "LSTM_LM(\n",
       "  (block): LSTM_Block(\n",
       "    (embedding): Embedding(42, 256)\n",
       "    (lstm): LSTM(\n",
       "      (lstms): ModuleList(\n",
       "        (0): LSTM(256, 1024, batch_first=True)\n",
       "        (1): LSTM(1024, 1024, batch_first=True)\n",
       "        (2): LSTM(1024, 256, batch_first=True)\n",
       "      )\n",
       "    )\n",
       "    (head): Linear(in_features=256, out_features=42, bias=True)\n",
       "    (head_drop): Dropout(p=0.0, inplace=False)\n",
       "  )\n",
       ")"
      ]
     },
     "execution_count": null,
     "metadata": {},
     "output_type": "execute_result"
    }
   ],
   "source": [
    "model"
   ]
  },
  {
   "cell_type": "code",
   "execution_count": null,
   "metadata": {},
   "outputs": [],
   "source": []
  },
  {
   "cell_type": "code",
   "execution_count": null,
   "metadata": {},
   "outputs": [],
   "source": []
  },
  {
   "cell_type": "markdown",
   "metadata": {},
   "source": [
    "before rewrite\n",
    "    diff loss on learned latents\n",
    "    \n"
   ]
  },
  {
   "cell_type": "markdown",
   "metadata": {},
   "source": []
  },
  {
   "cell_type": "markdown",
   "metadata": {},
   "source": [
    "current roadmap\n",
    "    start big rewrite\n",
    "        after layers, go straight to callbacks/environment\n",
    "            keep things lean\n",
    "        merge double agent thing we have going on\n",
    "        do reward functions\n",
    "        revisit mol/protein distinctions in template/block\n",
    "    now we do documentation/update site\n",
    "    combichem\n",
    "    jtnnvae\n",
    "    start working on other docs\n",
    "        guides\n",
    "        examples\n",
    "    move to release v0\n",
    "    \n",
    "\n",
    "\n",
    "environment    \n",
    "callbacks (base)\n",
    "log/buffer callbacks\n",
    "samplers\n",
    "agent\n",
    "rewards\n",
    "losses\n",
    "policy gradient\n",
    "\n",
    "\n",
    "environment\n",
    "callbacks\n",
    "    core\n",
    "    log/buffer\n",
    "    samplers\n",
    "    template\n",
    "    \n",
    "environment\n",
    "callback\n",
    "    core\n",
    "logging\n",
    "    log/buffer\n",
    "agent\n",
    "rewards\n",
    "PG\n",
    "losses\n",
    "\n",
    "\n",
    "\n",
    "callbacks\n",
    "    core\n",
    "    logging\n",
    "    template\n",
    "    \n",
    "agent\n",
    "PG\n",
    "losses\n",
    "samplers\n",
    "rewards\n",
    "\n",
    "\n",
    "\n",
    "\n",
    "\n",
    "    "
   ]
  },
  {
   "cell_type": "code",
   "execution_count": null,
   "metadata": {},
   "outputs": [],
   "source": []
  },
  {
   "cell_type": "markdown",
   "metadata": {},
   "source": [
    "future modules\n",
    "    combichem\n",
    "    pharmacophore\n",
    "    new models\n",
    "        jtnnvae\n",
    "        flow based\n",
    "    chemprop hooks\n",
    "    huggingface hooks\n",
    "        \n",
    "project quality\n",
    "    collab links\n",
    "    google search on site\n",
    "    more documentation\n",
    "\n",
    "Use cases/examples\n",
    "    basic drug design\n",
    "    iterative drug design with dataset building\n",
    "    drug design with docking proxy\n",
    "    proteins/antibodies\n",
    "    polymers\n",
    "    catalyst\n",
    "    materials\n",
    "    \n",
    "guides\n",
    "    generative screening primer\n",
    "    basics\n",
    "        stuff about how bad score functions can be\n",
    "    how to use callbacks\n",
    "    basic drug design\n",
    "    contrastive optimization\n",
    "    latent/prior optimization\n",
    "    training tips/tricks (callback stuff)\n",
    "    \n",
    "paapers to implement\n",
    "    fastai guy - conditional lstm, contrastive\n",
    "    moldqn - dqn sampler (rollout), agent is score function, dqn loss\n",
    "    synthesis constrained? really same as DQN with different rolllout\n",
    "    stoned selfies/genetic algorithm examples\n",
    "    deep drug decoder/paul paper/other conditional generation"
   ]
  },
  {
   "cell_type": "code",
   "execution_count": null,
   "metadata": {},
   "outputs": [],
   "source": []
  },
  {
   "cell_type": "code",
   "execution_count": null,
   "metadata": {},
   "outputs": [],
   "source": []
  },
  {
   "cell_type": "code",
   "execution_count": null,
   "metadata": {},
   "outputs": [],
   "source": []
  }
 ],
 "metadata": {
  "kernelspec": {
   "display_name": "Python (mrl)",
   "language": "python",
   "name": "mrl"
  },
  "language_info": {
   "codemirror_mode": {
    "name": "ipython",
    "version": 3
   },
   "file_extension": ".py",
   "mimetype": "text/x-python",
   "name": "python",
   "nbconvert_exporter": "python",
   "pygments_lexer": "ipython3",
   "version": "3.6.13"
  }
 },
 "nbformat": 4,
 "nbformat_minor": 2
}
