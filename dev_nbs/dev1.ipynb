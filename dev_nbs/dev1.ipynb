{
 "cells": [
  {
   "cell_type": "code",
   "execution_count": null,
   "metadata": {},
   "outputs": [],
   "source": []
  },
  {
   "cell_type": "code",
   "execution_count": null,
   "metadata": {},
   "outputs": [],
   "source": [
    "class ConstantBlock():\n",
    "    def __init__(self, constant, name):\n",
    "        self.constant = constant\n",
    "        self.name = name\n",
    "        self.links = []\n",
    "        self.subblocks = []\n",
    "        self.sublinks = []\n",
    "        \n",
    "    def match_fragment(self, fragment):\n",
    "        return False\n",
    "    \n",
    "    def match_fragment_recursive(self, fragment):\n",
    "        return False\n",
    "\n",
    "    def load_data(self, fragments, recurse=False):\n",
    "        pass\n",
    "            \n",
    "    def sample_data(self, n):\n",
    "        return pd.DataFrame([self.constant]*n, columns=['smiles'])\n",
    "    \n",
    "    def __repr__(self):\n",
    "        \n",
    "        rep_str = f'Constant Block: {self.constant}'\n",
    "        \n",
    "        return rep_str\n",
    "    \n",
    "\n",
    "class ConstantMolBlock(ConstantBlock):\n",
    "    def __init__(self, smile, name):\n",
    "        super().__init__(smile, name)\n",
    "        self.smile = Chem.CanonSmiles(smile)\n",
    "        if '[*' in self.smile:\n",
    "            self.smile = self.smile.replace('[*', '[0*')\n",
    "        self.pattern = re.compile('\\[(.*?)\\*:(.*?)]')\n",
    "        self.links = self.pattern.findall(smile)\n",
    "    \n",
    "    def sample_smile(self, n):\n",
    "        return [self.smile]*n\n",
    "    \n",
    "    def __repr__(self):\n",
    "        \n",
    "        rep_str = f'Constant Block: {self.smile}'\n",
    "        \n",
    "        return rep_str"
   ]
  },
  {
   "cell_type": "code",
   "execution_count": null,
   "metadata": {},
   "outputs": [],
   "source": []
  },
  {
   "cell_type": "code",
   "execution_count": null,
   "metadata": {},
   "outputs": [],
   "source": [
    "# scheme - constant scaffold, two variable r groups\n",
    "\n",
    "# scaffod\n",
    "scaffold_smile = 'c1nc2c([0*:2])cncc2cc1[0*:1]'\n",
    "scaffold_block = ConstantMolBlock(scaffold_smile, 'scaffold')\n",
    "\n",
    "# R1, must have ring, be between 50-250 g/mol. must have 1 ring. ideally less thn 100-200 g/mol\n",
    "\n",
    "r1_template = Template(\n",
    "                    HardFilters([\n",
    "                        MolWtFilter(50, 250, None),\n",
    "                        RingFilter(1,1,None)\n",
    "                    ]),\n",
    "                    SoftFilters([\n",
    "                        MolWtFilter(100,200,1),\n",
    "                    ]),\n",
    "                    failscore = -1)\n",
    "r1_block = MolBlock(r1_template, [('1', '1')], 'r1')\n",
    "\n",
    "\n",
    "# R1, must have no rings, be between 0-200 g/mol. must have 0 rings. ideally less thn 50-150 g/mol\n",
    "\n",
    "r2_template = Template(\n",
    "                    HardFilters([\n",
    "                        MolWtFilter(0, 200, None),\n",
    "                        RingFilter(0,0,None)\n",
    "                    ]),\n",
    "                    SoftFilters([\n",
    "                        MolWtFilter(50,150,1),\n",
    "                    ]),\n",
    "                    failscore = -1)\n",
    "r2_block = MolBlock(r2_template, [('1', '2')], 'r2')\n",
    "\n",
    "\n",
    "# full compound, must be between 200 and 550 g/mol\n",
    "\n",
    "full_template = Template(\n",
    "                    HardFilters([\n",
    "                        MolWtFilter(200, 550, None)\n",
    "                    ]),\n",
    "                    SoftFilters([\n",
    "                        MolWtFilter(200,550,1),\n",
    "                    ]),\n",
    "                    failscore = -1)\n",
    "\n",
    "main_block = MolBlock(full_template, [], 'full_molecue', subblocks=[scaffold_block, r1_block, r2_block])"
   ]
  },
  {
   "cell_type": "code",
   "execution_count": null,
   "metadata": {},
   "outputs": [],
   "source": []
  },
  {
   "cell_type": "code",
   "execution_count": null,
   "metadata": {},
   "outputs": [],
   "source": [
    "main_block.load_data(df.smiles.values[:10000], recurse=True)"
   ]
  },
  {
   "cell_type": "code",
   "execution_count": null,
   "metadata": {},
   "outputs": [],
   "source": [
    "main_block.load_data(frag_df.smiles.values[:100000], recurse=True)"
   ]
  },
  {
   "cell_type": "code",
   "execution_count": null,
   "metadata": {},
   "outputs": [],
   "source": [
    "fragment_string = '[1*:2]C(=O)NC(CO)CC(C)C.[1*:1]S(=O)(=O)NCc1ccc(O)c(C(=O)O)c1'"
   ]
  },
  {
   "cell_type": "code",
   "execution_count": null,
   "metadata": {},
   "outputs": [
    {
     "data": {
      "text/plain": [
       "'CC(C)CC(CO)NC(=O)c1cncc2cc(S(=O)(=O)NCc3ccc(O)c(C(=O)O)c3)cnc12'"
      ]
     },
     "execution_count": null,
     "metadata": {},
     "output_type": "execute_result"
    }
   ],
   "source": [
    "main_block.fuse_fragments(fragment_string+'.'+scaffold_block.smile)"
   ]
  },
  {
   "cell_type": "code",
   "execution_count": null,
   "metadata": {},
   "outputs": [
    {
     "data": {
      "text/plain": [
       "False"
      ]
     },
     "execution_count": null,
     "metadata": {},
     "output_type": "execute_result"
    }
   ],
   "source": [
    "main_block.match_fragment('[1*:2]C(=O)NC(CO)CC(C)C')"
   ]
  },
  {
   "cell_type": "code",
   "execution_count": null,
   "metadata": {},
   "outputs": [
    {
     "data": {
      "text/plain": [
       "True"
      ]
     },
     "execution_count": null,
     "metadata": {},
     "output_type": "execute_result"
    }
   ],
   "source": [
    "main_block.match_fragment_recursive('[1*:2]C(=O)NC(CO)CC(C)C')"
   ]
  },
  {
   "cell_type": "code",
   "execution_count": null,
   "metadata": {},
   "outputs": [],
   "source": []
  },
  {
   "cell_type": "code",
   "execution_count": null,
   "metadata": {},
   "outputs": [],
   "source": [
    "out = main_block.recurse_fragments('[1*:2]C(=O)NC(CO)CC(C)C.[1*:1]S(=O)(=O)NCc1ccc(O)c(C(=O)O)c1')"
   ]
  },
  {
   "cell_type": "code",
   "execution_count": null,
   "metadata": {},
   "outputs": [
    {
     "data": {
      "text/plain": [
       "'CC(C)CC(CO)NC(=O)c1cncc2cc(S(=O)(=O)NCc3ccc(O)c(C(=O)O)c3)cnc12'"
      ]
     },
     "execution_count": null,
     "metadata": {},
     "output_type": "execute_result"
    }
   ],
   "source": [
    "out[0]"
   ]
  },
  {
   "cell_type": "code",
   "execution_count": null,
   "metadata": {},
   "outputs": [
    {
     "data": {
      "text/plain": [
       "True"
      ]
     },
     "execution_count": null,
     "metadata": {},
     "output_type": "execute_result"
    }
   ],
   "source": [
    "out[1]"
   ]
  },
  {
   "cell_type": "code",
   "execution_count": null,
   "metadata": {},
   "outputs": [
    {
     "data": {
      "text/plain": [
       "2.0"
      ]
     },
     "execution_count": null,
     "metadata": {},
     "output_type": "execute_result"
    }
   ],
   "source": [
    "out[2]"
   ]
  },
  {
   "cell_type": "code",
   "execution_count": null,
   "metadata": {},
   "outputs": [],
   "source": []
  },
  {
   "cell_type": "code",
   "execution_count": null,
   "metadata": {},
   "outputs": [],
   "source": [
    "# scheme - constant scaffold, two variable r groups. one r group has a ring with two attachments, \n",
    "# one constant and one variabe\n",
    "\n",
    "# scaffod\n",
    "scaffold_smile = 'c1nc2c([0*:2])cncc2cc1[0*:1]'\n",
    "scaffold_block = ConstantMolBlock(scaffold_smile, 'scaffold')\n",
    "\n",
    "# R1 has 3 groups - constant carbonyl, variable ring, variabe ring attachment\n",
    "\n",
    "r1_carbonyl_block = ConstantMolBlock('C(O)(=O)[1*:4]', 'carbonyl')\n",
    "\n",
    "r1_ring_substitution_tempate = Template(\n",
    "                                    HardFilters([\n",
    "                                        RotBondFilter(0, 3, None),\n",
    "                                        RingFilter(0,0,None)\n",
    "                                    ]),\n",
    "                                    SoftFilters([\n",
    "                                      RotBondFilter(0, 2, 1)\n",
    "                                    ]),\n",
    "                                    failscore = -1)\n",
    "\n",
    "r1_ring_substitution_block = MolBlock(r1_ring_substitution_tempate, [('1', '3')], 'r1 ring substitution')\n",
    "\n",
    "r1_ring_template = Template(\n",
    "                            HardFilters([\n",
    "                                RingFilter(1,1,None),\n",
    "                                RotBondFilter(0,1, None)\n",
    "                            ]),\n",
    "                            SoftFilters([\n",
    "                                RingFilter(1,1,1)\n",
    "                            ]))\n",
    "r1_ring_block = MolBlock(r1_ring_template, [('0', '3'), ('0', '4'), ('1', '2')], 'r1_ring')\n",
    "\n",
    "\n",
    "r1_full_group_template = Template(\n",
    "                            HardFilters([\n",
    "                                MolWtFilter(50, 250, None)\n",
    "                            ]),\n",
    "                            SoftFilters([\n",
    "                                MolWtFilter(100, 200, 1)\n",
    "                            ]))\n",
    "r1_block = MolBlock(r1_full_group_template, [('1', '2')], 'r1_full', \n",
    "                     subblocks=[r1_carbonyl_block, r1_ring_substitution_block, r1_ring_block])\n",
    "\n",
    "\n",
    "# R1, must have no rings, be between 0-200 g/mol. must have 0 rings. ideally less thn 50-150 g/mol\n",
    "\n",
    "r2_template = Template(\n",
    "                    HardFilters([\n",
    "                        MolWtFilter(0, 200, None),\n",
    "                        RingFilter(0,0,None)\n",
    "                    ]),\n",
    "                    SoftFilters([\n",
    "                        MolWtFilter(50,150,1),\n",
    "                    ]),\n",
    "                    failscore = -1)\n",
    "r2_block = MolBlock(r2_template, [('1', '1')], 'r2')\n",
    "\n",
    "\n",
    "# full compound, must be between 200 and 550 g/mol\n",
    "\n",
    "full_template = Template(\n",
    "                    HardFilters([\n",
    "                        MolWtFilter(200, 550, None),\n",
    "                        StructureFilter(['[#6](-[#8])(=[#8])-[*]',\n",
    "                             '[#6]1:[#7]:[#6]2:[#6](-[*]):[#6]:[#7]:[#6]:[#6]:2:[#6]:[#6]:1-[*]'\n",
    "                             ], 1, criteria='all', exclude=False)\n",
    "                    ]),\n",
    "                    SoftFilters([\n",
    "                        MolWtFilter(200,550,1),\n",
    "                    ]),\n",
    "                    failscore = -1)\n",
    "\n",
    "main_block = MolBlock(full_template, [], 'full_molecule', subblocks=[scaffold_block, r1_block, r2_block])"
   ]
  },
  {
   "cell_type": "code",
   "execution_count": null,
   "metadata": {},
   "outputs": [],
   "source": []
  },
  {
   "cell_type": "code",
   "execution_count": null,
   "metadata": {},
   "outputs": [],
   "source": [
    "main_block.load_data(df.smiles.values[:200000], recurse=False)"
   ]
  },
  {
   "cell_type": "code",
   "execution_count": null,
   "metadata": {},
   "outputs": [],
   "source": [
    "main_block.load_data(frag_df.smiles.values[:200000], recurse=True)"
   ]
  },
  {
   "cell_type": "code",
   "execution_count": null,
   "metadata": {},
   "outputs": [],
   "source": []
  },
  {
   "cell_type": "code",
   "execution_count": null,
   "metadata": {},
   "outputs": [],
   "source": [
    "\n",
    "\n",
    "def sample_leaf_nodes(block, include_constant=False):\n",
    "    \n",
    "    if block.subblocks:\n",
    "        output = [sample_leaf_nodes(i, include_constant=include_constant) for i in block.subblocks]\n",
    "    else:\n",
    "        if not isinstance(block, ConstantBlock):\n",
    "            output = block.sample_smile(1)\n",
    "        else:\n",
    "            if include_constant:\n",
    "                output = block.sample_smile(1)\n",
    "            else:\n",
    "                output = None\n",
    "    \n",
    "    if type(output) == list:\n",
    "        output = flatten_recursive(output)\n",
    "        output = [i for i in output if i is not None]\n",
    "            \n",
    "    return output\n",
    "\n",
    "def sample_leaf_nodes_n(n, block, include_constant=False):\n",
    "    output = [sample_leaf_nodes(block, include_constant=include_constant) for i in range(n)]\n",
    "    return output"
   ]
  },
  {
   "cell_type": "code",
   "execution_count": null,
   "metadata": {},
   "outputs": [],
   "source": []
  },
  {
   "cell_type": "code",
   "execution_count": null,
   "metadata": {},
   "outputs": [],
   "source": [
    "frags = maybe_parallel(sample_leaf_nodes_n, [1]*10000, block=main_block, include_constant=False)"
   ]
  },
  {
   "cell_type": "code",
   "execution_count": null,
   "metadata": {},
   "outputs": [],
   "source": [
    "frags = [item for sublist in frags for item in sublist]"
   ]
  },
  {
   "cell_type": "code",
   "execution_count": null,
   "metadata": {},
   "outputs": [
    {
     "data": {
      "text/plain": [
       "['[1*:3]CCCCC#N', '[0*:3]CC1C(O)C(O)C([1*:2])NC(=O)N1[0*:4]', '[1*:1]CCSC']"
      ]
     },
     "execution_count": null,
     "metadata": {},
     "output_type": "execute_result"
    }
   ],
   "source": [
    "frags[0]"
   ]
  },
  {
   "cell_type": "code",
   "execution_count": null,
   "metadata": {},
   "outputs": [],
   "source": [
    "fused = maybe_parallel(main_block.recurse_fragments, frags)"
   ]
  },
  {
   "cell_type": "code",
   "execution_count": null,
   "metadata": {},
   "outputs": [],
   "source": [
    "fused_smiles = []\n",
    "score_dicts = []\n",
    "for item in fused:\n",
    "    fused_smiles.append(item[0])\n",
    "    score_dicts+= item[-1]"
   ]
  },
  {
   "cell_type": "code",
   "execution_count": null,
   "metadata": {},
   "outputs": [],
   "source": [
    "fuse_df = pd.DataFrame(score_dicts)"
   ]
  },
  {
   "cell_type": "code",
   "execution_count": null,
   "metadata": {},
   "outputs": [
    {
     "data": {
      "text/plain": [
       "0.63992"
      ]
     },
     "execution_count": null,
     "metadata": {},
     "output_type": "execute_result"
    }
   ],
   "source": [
    "fuse_df.duplicated(subset='fused').mean()"
   ]
  },
  {
   "cell_type": "code",
   "execution_count": null,
   "metadata": {},
   "outputs": [],
   "source": [
    "fuse_df.drop_duplicates(subset='fused', inplace=True)"
   ]
  },
  {
   "cell_type": "code",
   "execution_count": null,
   "metadata": {},
   "outputs": [],
   "source": [
    "fuse_df.reset_index(inplace=True, drop=True)"
   ]
  },
  {
   "cell_type": "code",
   "execution_count": null,
   "metadata": {},
   "outputs": [
    {
     "data": {
      "text/html": [
       "<div>\n",
       "<style scoped>\n",
       "    .dataframe tbody tr th:only-of-type {\n",
       "        vertical-align: middle;\n",
       "    }\n",
       "\n",
       "    .dataframe tbody tr th {\n",
       "        vertical-align: top;\n",
       "    }\n",
       "\n",
       "    .dataframe thead th {\n",
       "        text-align: right;\n",
       "    }\n",
       "</style>\n",
       "<table border=\"1\" class=\"dataframe\">\n",
       "  <thead>\n",
       "    <tr style=\"text-align: right;\">\n",
       "      <th></th>\n",
       "      <th>block</th>\n",
       "      <th>fused</th>\n",
       "      <th>fragments</th>\n",
       "      <th>block_pass</th>\n",
       "      <th>block_score</th>\n",
       "      <th>all_pass</th>\n",
       "      <th>all_score</th>\n",
       "    </tr>\n",
       "  </thead>\n",
       "  <tbody>\n",
       "    <tr>\n",
       "      <td>0</td>\n",
       "      <td>r1 ring substitution</td>\n",
       "      <td>N#CCCCC[1*:3]</td>\n",
       "      <td>[[1*:3]CCCCC#N]</td>\n",
       "      <td>True</td>\n",
       "      <td>0.0</td>\n",
       "      <td>True</td>\n",
       "      <td>0.0</td>\n",
       "    </tr>\n",
       "    <tr>\n",
       "      <td>1</td>\n",
       "      <td>r1_ring</td>\n",
       "      <td>O=C1NC([1*:2])C(O)C(O)C(C[0*:3])N1[0*:4]</td>\n",
       "      <td>[[0*:3]CC1C(O)C(O)C([1*:2])NC(=O)N1[0*:4]]</td>\n",
       "      <td>False</td>\n",
       "      <td>0.0</td>\n",
       "      <td>False</td>\n",
       "      <td>0.0</td>\n",
       "    </tr>\n",
       "    <tr>\n",
       "      <td>2</td>\n",
       "      <td>r1_full</td>\n",
       "      <td>N#CCCCCCC1C(O)C(O)C([1*:2])NC(=O)N1C(=O)O</td>\n",
       "      <td>[O=C(O)[1*:4], N#CCCCC[1*:3], O=C1NC([1*:2])C(...</td>\n",
       "      <td>False</td>\n",
       "      <td>0.0</td>\n",
       "      <td>False</td>\n",
       "      <td>0.0</td>\n",
       "    </tr>\n",
       "    <tr>\n",
       "      <td>3</td>\n",
       "      <td>r2</td>\n",
       "      <td>CSCC[1*:1]</td>\n",
       "      <td>[[1*:1]CCSC]</td>\n",
       "      <td>True</td>\n",
       "      <td>1.0</td>\n",
       "      <td>True</td>\n",
       "      <td>1.0</td>\n",
       "    </tr>\n",
       "    <tr>\n",
       "      <td>4</td>\n",
       "      <td>full_molecule</td>\n",
       "      <td>CSCCc1cnc2c(C3NC(=O)N(C(=O)O)C(CCCCCC#N)C(O)C3...</td>\n",
       "      <td>[c1nc2c([0*:2])cncc2cc1[0*:1], N#CCCCCCC1C(O)C...</td>\n",
       "      <td>True</td>\n",
       "      <td>1.0</td>\n",
       "      <td>False</td>\n",
       "      <td>2.0</td>\n",
       "    </tr>\n",
       "    <tr>\n",
       "      <td>...</td>\n",
       "      <td>...</td>\n",
       "      <td>...</td>\n",
       "      <td>...</td>\n",
       "      <td>...</td>\n",
       "      <td>...</td>\n",
       "      <td>...</td>\n",
       "      <td>...</td>\n",
       "    </tr>\n",
       "    <tr>\n",
       "      <td>17999</td>\n",
       "      <td>r1_full</td>\n",
       "      <td>NC(CO)C1NC(=O)NC(C(=O)O)C1[1*:2]</td>\n",
       "      <td>[O=C(O)[1*:4], NC(CO)[1*:3], O=C1NC([0*:3])C([...</td>\n",
       "      <td>True</td>\n",
       "      <td>0.0</td>\n",
       "      <td>False</td>\n",
       "      <td>1.0</td>\n",
       "    </tr>\n",
       "    <tr>\n",
       "      <td>18000</td>\n",
       "      <td>full_molecule</td>\n",
       "      <td>CC(CCc1cnc2c(C3C(C(=O)O)NC(=O)NC3C(N)CO)cncc2c...</td>\n",
       "      <td>[c1nc2c([0*:2])cncc2cc1[0*:1], NC(CO)C1NC(=O)N...</td>\n",
       "      <td>True</td>\n",
       "      <td>1.0</td>\n",
       "      <td>False</td>\n",
       "      <td>3.0</td>\n",
       "    </tr>\n",
       "    <tr>\n",
       "      <td>18001</td>\n",
       "      <td>r1_full</td>\n",
       "      <td>CSCCC1C(O)C(CC(=O)O)N(C)S(=O)(=O)N(C)C1[1*:2]</td>\n",
       "      <td>[O=C(O)[1*:4], CSCC[1*:3], CN1C(C[0*:4])C(O)C(...</td>\n",
       "      <td>False</td>\n",
       "      <td>0.0</td>\n",
       "      <td>False</td>\n",
       "      <td>1.0</td>\n",
       "    </tr>\n",
       "    <tr>\n",
       "      <td>18002</td>\n",
       "      <td>full_molecule</td>\n",
       "      <td>CSCCC1C(O)C(CC(=O)O)N(C)S(=O)(=O)N(C)C1c1cncc2...</td>\n",
       "      <td>[c1nc2c([0*:2])cncc2cc1[0*:1], CSCCC1C(O)C(CC(...</td>\n",
       "      <td>True</td>\n",
       "      <td>1.0</td>\n",
       "      <td>False</td>\n",
       "      <td>3.0</td>\n",
       "    </tr>\n",
       "    <tr>\n",
       "      <td>18003</td>\n",
       "      <td>full_molecule</td>\n",
       "      <td>CNC(=O)NCc1cc(C(=O)O)cc(-c2cncc3cc(CCCCCC(=O)O...</td>\n",
       "      <td>[c1nc2c([0*:2])cncc2cc1[0*:1], CNC(=O)NCc1cc(C...</td>\n",
       "      <td>True</td>\n",
       "      <td>1.0</td>\n",
       "      <td>False</td>\n",
       "      <td>3.0</td>\n",
       "    </tr>\n",
       "  </tbody>\n",
       "</table>\n",
       "<p>18004 rows × 7 columns</p>\n",
       "</div>"
      ],
      "text/plain": [
       "                      block  \\\n",
       "0      r1 ring substitution   \n",
       "1                   r1_ring   \n",
       "2                   r1_full   \n",
       "3                        r2   \n",
       "4             full_molecule   \n",
       "...                     ...   \n",
       "17999               r1_full   \n",
       "18000         full_molecule   \n",
       "18001               r1_full   \n",
       "18002         full_molecule   \n",
       "18003         full_molecule   \n",
       "\n",
       "                                                   fused  \\\n",
       "0                                          N#CCCCC[1*:3]   \n",
       "1               O=C1NC([1*:2])C(O)C(O)C(C[0*:3])N1[0*:4]   \n",
       "2              N#CCCCCCC1C(O)C(O)C([1*:2])NC(=O)N1C(=O)O   \n",
       "3                                             CSCC[1*:1]   \n",
       "4      CSCCc1cnc2c(C3NC(=O)N(C(=O)O)C(CCCCCC#N)C(O)C3...   \n",
       "...                                                  ...   \n",
       "17999                   NC(CO)C1NC(=O)NC(C(=O)O)C1[1*:2]   \n",
       "18000  CC(CCc1cnc2c(C3C(C(=O)O)NC(=O)NC3C(N)CO)cncc2c...   \n",
       "18001      CSCCC1C(O)C(CC(=O)O)N(C)S(=O)(=O)N(C)C1[1*:2]   \n",
       "18002  CSCCC1C(O)C(CC(=O)O)N(C)S(=O)(=O)N(C)C1c1cncc2...   \n",
       "18003  CNC(=O)NCc1cc(C(=O)O)cc(-c2cncc3cc(CCCCCC(=O)O...   \n",
       "\n",
       "                                               fragments  block_pass  \\\n",
       "0                                        [[1*:3]CCCCC#N]        True   \n",
       "1             [[0*:3]CC1C(O)C(O)C([1*:2])NC(=O)N1[0*:4]]       False   \n",
       "2      [O=C(O)[1*:4], N#CCCCC[1*:3], O=C1NC([1*:2])C(...       False   \n",
       "3                                           [[1*:1]CCSC]        True   \n",
       "4      [c1nc2c([0*:2])cncc2cc1[0*:1], N#CCCCCCC1C(O)C...        True   \n",
       "...                                                  ...         ...   \n",
       "17999  [O=C(O)[1*:4], NC(CO)[1*:3], O=C1NC([0*:3])C([...        True   \n",
       "18000  [c1nc2c([0*:2])cncc2cc1[0*:1], NC(CO)C1NC(=O)N...        True   \n",
       "18001  [O=C(O)[1*:4], CSCC[1*:3], CN1C(C[0*:4])C(O)C(...       False   \n",
       "18002  [c1nc2c([0*:2])cncc2cc1[0*:1], CSCCC1C(O)C(CC(...        True   \n",
       "18003  [c1nc2c([0*:2])cncc2cc1[0*:1], CNC(=O)NCc1cc(C...        True   \n",
       "\n",
       "       block_score  all_pass  all_score  \n",
       "0              0.0      True        0.0  \n",
       "1              0.0     False        0.0  \n",
       "2              0.0     False        0.0  \n",
       "3              1.0      True        1.0  \n",
       "4              1.0     False        2.0  \n",
       "...            ...       ...        ...  \n",
       "17999          0.0     False        1.0  \n",
       "18000          1.0     False        3.0  \n",
       "18001          0.0     False        1.0  \n",
       "18002          1.0     False        3.0  \n",
       "18003          1.0     False        3.0  \n",
       "\n",
       "[18004 rows x 7 columns]"
      ]
     },
     "execution_count": null,
     "metadata": {},
     "output_type": "execute_result"
    }
   ],
   "source": [
    "fuse_df"
   ]
  },
  {
   "cell_type": "code",
   "execution_count": null,
   "metadata": {},
   "outputs": [],
   "source": [
    "subfrags = pd.DataFrame(frags, columns=['f1', 'f2', 'f3'])"
   ]
  },
  {
   "cell_type": "code",
   "execution_count": null,
   "metadata": {},
   "outputs": [
    {
     "data": {
      "text/plain": [
       "9988"
      ]
     },
     "execution_count": null,
     "metadata": {},
     "output_type": "execute_result"
    }
   ],
   "source": [
    "subfrags.shape[0] - subfrags.duplicated().sum()"
   ]
  },
  {
   "cell_type": "code",
   "execution_count": null,
   "metadata": {},
   "outputs": [
    {
     "data": {
      "text/plain": [
       "[]"
      ]
     },
     "execution_count": null,
     "metadata": {},
     "output_type": "execute_result"
    }
   ],
   "source": [
    "[i for i in fused if '*' in i[0]]"
   ]
  },
  {
   "cell_type": "code",
   "execution_count": null,
   "metadata": {},
   "outputs": [
    {
     "data": {
      "text/plain": [
       "['c1nc2c([0*:2])cncc2cc1[0*:1]',\n",
       " 'N#CCCCCCC1C(O)C(O)C([1*:2])NC(=O)N1C(=O)O',\n",
       " 'CSCC[1*:1]']"
      ]
     },
     "execution_count": null,
     "metadata": {},
     "output_type": "execute_result"
    }
   ],
   "source": [
    "fuse_df[(fuse_df.block=='full_molecule') & (fuse_df.block_pass==True)].iloc[0].fragments"
   ]
  },
  {
   "cell_type": "code",
   "execution_count": null,
   "metadata": {},
   "outputs": [
    {
     "data": {
      "text/html": [
       "<div>\n",
       "<style scoped>\n",
       "    .dataframe tbody tr th:only-of-type {\n",
       "        vertical-align: middle;\n",
       "    }\n",
       "\n",
       "    .dataframe tbody tr th {\n",
       "        vertical-align: top;\n",
       "    }\n",
       "\n",
       "    .dataframe thead th {\n",
       "        text-align: right;\n",
       "    }\n",
       "</style>\n",
       "<table border=\"1\" class=\"dataframe\">\n",
       "  <thead>\n",
       "    <tr style=\"text-align: right;\">\n",
       "      <th></th>\n",
       "      <th>block</th>\n",
       "      <th>fused</th>\n",
       "      <th>fragments</th>\n",
       "      <th>block_pass</th>\n",
       "      <th>block_score</th>\n",
       "      <th>all_pass</th>\n",
       "      <th>all_score</th>\n",
       "    </tr>\n",
       "  </thead>\n",
       "  <tbody>\n",
       "  </tbody>\n",
       "</table>\n",
       "</div>"
      ],
      "text/plain": [
       "Empty DataFrame\n",
       "Columns: [block, fused, fragments, block_pass, block_score, all_pass, all_score]\n",
       "Index: []"
      ]
     },
     "execution_count": null,
     "metadata": {},
     "output_type": "execute_result"
    }
   ],
   "source": [
    "fuse_df[fuse_df.fused=='COC(=O)CCN1C([1*:2])C(O)C(O)C(C(=O)O)N(C)S1(=O)=O']"
   ]
  },
  {
   "cell_type": "code",
   "execution_count": null,
   "metadata": {},
   "outputs": [
    {
     "data": {
      "text/plain": [
       "[False, 0]"
      ]
     },
     "execution_count": null,
     "metadata": {},
     "output_type": "execute_result"
    }
   ],
   "source": [
    "r1_full_group_template('COC(=O)CCN1C([1*:2])C(O)C(O)C(C(=O)O)N(C)S1(=O)=O')"
   ]
  },
  {
   "cell_type": "code",
   "execution_count": null,
   "metadata": {},
   "outputs": [
    {
     "data": {
      "text/plain": [
       "325.070561504"
      ]
     },
     "execution_count": null,
     "metadata": {},
     "output_type": "execute_result"
    }
   ],
   "source": [
    "molwt(to_mol('COC(=O)CCN1C([1*:2])C(O)C(O)C(C(=O)O)N(C)S1(=O)=O'))"
   ]
  },
  {
   "cell_type": "code",
   "execution_count": null,
   "metadata": {},
   "outputs": [],
   "source": []
  },
  {
   "cell_type": "code",
   "execution_count": null,
   "metadata": {},
   "outputs": [],
   "source": []
  },
  {
   "cell_type": "code",
   "execution_count": null,
   "metadata": {},
   "outputs": [],
   "source": [
    "class BlockTree():\n",
    "    def __init__(self, head_block):\n",
    "        self.head_block = head_block\n",
    "        self.nodes = self.nodes_to_list(self.head_block)\n",
    "        self.leaf_nodes = [i for i in self.nodes if not i.subblocks]\n",
    "        self.live_leafs = [i for i in self.leaf_nodes if not isinstance(i, ConstantBlock)]\n",
    "        self.node_dict = {i.name:i for i in self.nodes}\n",
    "        \n",
    "    def nodes_to_list(self, block):\n",
    "        nodes = [block]\n",
    "        if block.subblocks:\n",
    "            for subblock in block.subblocks:\n",
    "                nodes += self.nodes_to_list(subblock)\n",
    "                \n",
    "        return nodes\n",
    "    \n",
    "    def sample_leaf_nodes(self, include_constant=False):\n",
    "        pass\n",
    "    \n",
    "    def combinatorial_sample(self, n_sample, max_n, include_constant=False):\n",
    "        pass\n",
    "    \n",
    "    \n",
    "class MolBlockTree(BlockTree):\n",
    "    def __init__(self, head_block):\n",
    "        super().__init__(head_block)\n",
    "        \n",
    "    def _sample_leaf_nodes(self, include_constant=False):\n",
    "        if include_constant:\n",
    "            leaf_nodes = self.leaf_nodes\n",
    "        else:\n",
    "            leaf_nodes = self.live_leafs\n",
    "            \n",
    "        output = []\n",
    "        \n",
    "        for node in leaf_nodes:\n",
    "            output.append(node.sample_data(1))\n",
    "        \n",
    "        output = [list(i.smiles.values) for i in output]\n",
    "            \n",
    "        return output\n",
    "    \n",
    "    def sample_leaf_nodes(self, n, include_constant=False):\n",
    "        return maybe_parallel(self._sample_leaf_nodes, [include_constant]*n)\n",
    "    \n",
    "    def combinatorial_sample(self, n_sample, max_n, include_constant=False):\n",
    "        \n",
    "        if include_constant:\n",
    "            leaf_nodes = self.leaf_nodes\n",
    "        else:\n",
    "            leaf_nodes = self.live_leafs\n",
    "            \n",
    "        output = []\n",
    "        \n",
    "        for node in leaf_nodes:\n",
    "            output.append(node.sample_data(n_sample))\n",
    "        \n",
    "        output = [list(set(i.smiles.values)) for i in output]\n",
    "        it = itertools.product(*output)\n",
    "        \n",
    "        prods = []\n",
    "        \n",
    "        for i, p in enumerate(it):\n",
    "            prods.append(p)\n",
    "            if i>max_n:\n",
    "                break\n",
    "        \n",
    "        return prods"
   ]
  },
  {
   "cell_type": "code",
   "execution_count": null,
   "metadata": {},
   "outputs": [],
   "source": []
  },
  {
   "cell_type": "code",
   "execution_count": null,
   "metadata": {},
   "outputs": [],
   "source": [
    "tree = MolBlockTree(main_block)"
   ]
  },
  {
   "cell_type": "code",
   "execution_count": null,
   "metadata": {},
   "outputs": [],
   "source": []
  },
  {
   "cell_type": "code",
   "execution_count": null,
   "metadata": {},
   "outputs": [],
   "source": []
  },
  {
   "cell_type": "code",
   "execution_count": null,
   "metadata": {},
   "outputs": [],
   "source": []
  }
 ],
 "metadata": {
  "kernelspec": {
   "display_name": "Python 3",
   "language": "python",
   "name": "python3"
  }
 },
 "nbformat": 4,
 "nbformat_minor": 2
}
