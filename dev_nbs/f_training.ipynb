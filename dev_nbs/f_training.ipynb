{
 "cells": [
  {
   "cell_type": "code",
   "execution_count": null,
   "metadata": {},
   "outputs": [],
   "source": [
    "import sys\n",
    "\n",
    "sys.path.append('../')\n",
    "\n",
    "from fastai.text.all import *\n",
    "from fastai.vision.all import *\n",
    "\n",
    "from mrl.imports import *\n",
    "from mrl.core import *\n",
    "from mrl.chem import *\n",
    "from mrl.templates.all import *\n",
    "\n",
    "from mrl.torch_imports import *\n",
    "from mrl.torch_core import *\n",
    "from mrl.layers import *\n",
    "from mrl.dataloaders import *\n",
    "from mrl.g_models.all import *\n",
    "from mrl.vocab import *\n",
    "from mrl.policy_gradient import *\n",
    "from mrl.train.all import *"
   ]
  },
  {
   "cell_type": "code",
   "execution_count": null,
   "metadata": {},
   "outputs": [],
   "source": []
  },
  {
   "cell_type": "code",
   "execution_count": 3,
   "metadata": {},
   "outputs": [],
   "source": [
    "# os.environ['DEFAULT_GPU'] = '1'\n",
    "# os.environ['ncpus'] = '32'\n",
    "torch.cuda.set_device(0)"
   ]
  },
  {
   "cell_type": "code",
   "execution_count": null,
   "metadata": {},
   "outputs": [],
   "source": []
  },
  {
   "cell_type": "code",
   "execution_count": 4,
   "metadata": {},
   "outputs": [],
   "source": [
    "# df = pd.read_csv('template_filtered.csv')\n",
    "df = next(pd.read_csv('../../smiles_datasets/shard_0.csv', chunksize=20000))"
   ]
  },
  {
   "cell_type": "code",
   "execution_count": 5,
   "metadata": {},
   "outputs": [],
   "source": [
    "df = df[df.smiles.map(lambda x: 8<len(x)<=100)]\n",
    "df = df[df.smiles.map(lambda x: not '.' in x)]\n",
    "vocab = CharacterVocab(SMILES_CHAR_VOCAB)"
   ]
  },
  {
   "cell_type": "code",
   "execution_count": null,
   "metadata": {},
   "outputs": [],
   "source": []
  },
  {
   "cell_type": "code",
   "execution_count": 6,
   "metadata": {},
   "outputs": [],
   "source": [
    "bs = 1200\n",
    "\n",
    "train_df = df.sample(frac=0.99, random_state=42)\n",
    "valid_df = df[~(df.index.isin(train_df.index))]"
   ]
  },
  {
   "cell_type": "code",
   "execution_count": 7,
   "metadata": {},
   "outputs": [],
   "source": [
    "d_vocab = len(vocab.itos)\n",
    "d_embedding = 256\n",
    "d_hidden = 1024\n",
    "n_layers = 3\n",
    "input_dropout = 0.3\n",
    "lstm_dropout = 0.3\n",
    "bos_idx = vocab.stoi['bos']\n",
    "bidir = False\n",
    "tie_weights = True\n",
    "\n",
    "model = LSTM_LM(d_vocab, \n",
    "                d_embedding,\n",
    "                d_hidden, \n",
    "                n_layers,\n",
    "                input_dropout,\n",
    "                lstm_dropout,\n",
    "                bos_idx, \n",
    "                bidir, \n",
    "                tie_weights)"
   ]
  },
  {
   "cell_type": "code",
   "execution_count": 8,
   "metadata": {},
   "outputs": [],
   "source": [
    "train_ds = Text_Dataset(train_df.smiles.values, vocab)\n",
    "valid_ds = Text_Dataset(valid_df.smiles.values, vocab)\n",
    "\n",
    "train_dl = train_ds.dataloader(bs, shuffle=True, num_workers=10)\n",
    "valid_dl = valid_ds.dataloader(bs, shuffle=False, num_workers=10)"
   ]
  },
  {
   "cell_type": "code",
   "execution_count": 9,
   "metadata": {},
   "outputs": [],
   "source": [
    "to_device(model);"
   ]
  },
  {
   "cell_type": "code",
   "execution_count": 10,
   "metadata": {},
   "outputs": [],
   "source": [
    "sys.path.append('/home/dmai/mrl/nbs/pretrain_scripts/')\n",
    "from train import train_model"
   ]
  },
  {
   "cell_type": "code",
   "execution_count": 11,
   "metadata": {},
   "outputs": [],
   "source": [
    "bs = 1200\n",
    "lr = 1e-3\n",
    "epochs = 1\n",
    "loss_function = CrossEntropy()"
   ]
  },
  {
   "cell_type": "code",
   "execution_count": 12,
   "metadata": {},
   "outputs": [
    {
     "data": {
      "text/html": [
       "<table border=\"1\" class=\"dataframe\">\n",
       "  <thead>\n",
       "    <tr style=\"text-align: left;\">\n",
       "      <th>Epoch</th>\n",
       "      <th>Train Loss</th>\n",
       "      <th>Valid  Loss</th>\n",
       "      <th>Time</th>\n",
       "    </tr>\n",
       "  </thead>\n",
       "  <tbody>\n",
       "    <tr>\n",
       "      <td>0</td>\n",
       "      <td>2.84601</td>\n",
       "      <td>2.78433</td>\n",
       "      <td>00:03</td>\n",
       "    </tr>\n",
       "  </tbody>\n",
       "</table>"
      ],
      "text/plain": [
       "<IPython.core.display.HTML object>"
      ]
     },
     "metadata": {},
     "output_type": "display_data"
    }
   ],
   "source": [
    "train_model(model, train_dl, valid_dl, lr, epochs, bs, loss_function, 0)"
   ]
  },
  {
   "cell_type": "code",
   "execution_count": 15,
   "metadata": {},
   "outputs": [
    {
     "name": "stdout",
     "output_type": "stream",
     "text": [
      "/home/dmai/miniconda3/envs/mrl/lib/python3.6/importlib/_bootstrap.py:219: RuntimeWarning: to-Python converter for boost::shared_ptr<RDKit::FilterCatalogEntry const> already registered; second conversion method ignored.\n",
      "  return f(*args, **kwds)\n",
      "Epoch     Train Loss  Valid  Loss  Time    \n",
      "Traceback (most recent call last):                                    \n",
      "  File \"../nbs/pretrain_scripts/lstmlm_small_zinc.py\", line 60, in <module>\n",
      "    train_model(model, train_dl, valid_dl, lr, epochs, bs, loss_function, device)\n",
      "  File \"/home/dmai/mrl/nbs/pretrain_scripts/train.py\", line 72, in train_model\n",
      "    f'{valid_loss:.5f}', f'{format_time(end)}'], table=True)\n",
      "  File \"/home/dmai/miniconda3/envs/mrl/lib/python3.6/site-packages/fastprogress/fastprogress.py\", line 280, in write\n",
      "    for (t,name) in zip(line,self.names): text += t + ' ' * (2 + len(name)-len(t))\n",
      "TypeError: object of type 'int' has no len()\n"
     ]
    }
   ],
   "source": [
    "!python '../nbs/pretrain_scripts/lstmlm_small_zinc.py'"
   ]
  },
  {
   "cell_type": "code",
   "execution_count": 16,
   "metadata": {},
   "outputs": [
    {
     "name": "stderr",
     "output_type": "stream",
     "text": [
      "ERROR:root:No traceback has been produced, nothing to debug.\n"
     ]
    }
   ],
   "source": [
    "%debug"
   ]
  },
  {
   "cell_type": "code",
   "execution_count": null,
   "metadata": {},
   "outputs": [],
   "source": []
  },
  {
   "cell_type": "code",
   "execution_count": null,
   "metadata": {},
   "outputs": [],
   "source": []
  },
  {
   "cell_type": "code",
   "execution_count": null,
   "metadata": {},
   "outputs": [],
   "source": []
  },
  {
   "cell_type": "code",
   "execution_count": null,
   "metadata": {},
   "outputs": [],
   "source": [
    "# df = next(pd.read_csv('../../smiles_datasets/shard_0.csv', chunksize=2000000))\n",
    "# df = pd.read_csv('../../smiles_datasets/shard_0.csv', usecols=['smiles'])\n",
    "# df = pd.read_csv('../../smiles_datasets/chembl/chembl.csv')\n",
    "\n",
    "# df = pd.read_csv('../../smiles_datasets/single_frags.csv')\n",
    "\n",
    "df = pd.read_csv('template_filtered.csv')"
   ]
  },
  {
   "cell_type": "code",
   "execution_count": null,
   "metadata": {},
   "outputs": [],
   "source": [
    "df = df[df.smiles.map(lambda x: 8<len(x)<=100)]\n",
    "df = df[df.smiles.map(lambda x: not '.' in x)]\n",
    "vocab = CharacterVocab(SMILES_CHAR_VOCAB)\n",
    "\n",
    "# vocab = FuncVocab(SELFIES_VOCAB, split_selfie,\n",
    "#                   prefunc=smile_to_selfie, postfunc=selfie_to_smile)"
   ]
  },
  {
   "cell_type": "code",
   "execution_count": null,
   "metadata": {},
   "outputs": [
    {
     "data": {
      "text/plain": [
       "(4206401, 1)"
      ]
     },
     "execution_count": null,
     "metadata": {},
     "output_type": "execute_result"
    }
   ],
   "source": [
    "df.shape"
   ]
  },
  {
   "cell_type": "code",
   "execution_count": null,
   "metadata": {},
   "outputs": [],
   "source": []
  },
  {
   "cell_type": "code",
   "execution_count": null,
   "metadata": {},
   "outputs": [],
   "source": [
    "bs = 1000\n",
    "\n",
    "train_df = df.sample(frac=0.99, random_state=42)\n",
    "valid_df = df[~(df.index.isin(train_df.index))]"
   ]
  },
  {
   "cell_type": "code",
   "execution_count": null,
   "metadata": {},
   "outputs": [
    {
     "data": {
      "text/plain": [
       "0"
      ]
     },
     "execution_count": null,
     "metadata": {},
     "output_type": "execute_result"
    }
   ],
   "source": [
    "gc.collect()"
   ]
  },
  {
   "cell_type": "code",
   "execution_count": null,
   "metadata": {},
   "outputs": [],
   "source": [
    "from rdkit import Chem"
   ]
  },
  {
   "cell_type": "code",
   "execution_count": null,
   "metadata": {},
   "outputs": [],
   "source": [
    "m = to_mol('N[C@@H](C)C(=O)O')\n",
    "Chem.rdmolops.RemoveStereochemistry(m)"
   ]
  },
  {
   "cell_type": "code",
   "execution_count": null,
   "metadata": {},
   "outputs": [
    {
     "data": {
      "text/plain": [
       "'CC(N)C(=O)O'"
      ]
     },
     "execution_count": null,
     "metadata": {},
     "output_type": "execute_result"
    }
   ],
   "source": [
    "to_smile(m)"
   ]
  },
  {
   "cell_type": "code",
   "execution_count": null,
   "metadata": {},
   "outputs": [],
   "source": [
    "class Text_DS_NC(Text_Dataset):\n",
    "    def __init__(self, sequences, vocab, collate_function=None):\n",
    "        super().__init__(sequences, vocab, collate_function)\n",
    "        \n",
    "    def numericalize(self, sequence):\n",
    "        mol = to_mol(sequence)\n",
    "        Chem.rdmolops.RemoveStereochemistry(mol)\n",
    "        sequence = to_smile(mol)\n",
    "        \n",
    "        tokens = self.vocab.tokenize(sequence)\n",
    "        ints = self.vocab.numericalize(tokens)\n",
    "        ints = torch.LongTensor(ints)\n",
    "        return ints"
   ]
  },
  {
   "cell_type": "code",
   "execution_count": null,
   "metadata": {},
   "outputs": [],
   "source": [
    "train_ds = Text_DS_NC(train_df.smiles.values, vocab)\n",
    "valid_ds = Text_DS_NC(valid_df.smiles.values, vocab)\n",
    "\n",
    "train_dl = train_ds.dataloader(bs, shuffle=True, num_workers=10)\n",
    "valid_dl = valid_ds.dataloader(bs, shuffle=False, num_workers=10)\n",
    "\n",
    "dl = DataLoaders(train_dl, valid_dl)"
   ]
  },
  {
   "cell_type": "code",
   "execution_count": null,
   "metadata": {},
   "outputs": [],
   "source": []
  },
  {
   "cell_type": "code",
   "execution_count": null,
   "metadata": {},
   "outputs": [],
   "source": [
    "d_vocab = len(vocab.itos)\n",
    "d_embedding = 256\n",
    "d_hidden = 1024\n",
    "n_layers = 3\n",
    "input_dropout = 0.3\n",
    "lstm_dropout = 0.3\n",
    "bos_idx = vocab.stoi['bos']\n",
    "bidir = False\n",
    "tie_weights = True\n",
    "\n",
    "model = LSTM_LM(d_vocab, \n",
    "                d_embedding,\n",
    "                d_hidden, \n",
    "                n_layers,\n",
    "                input_dropout,\n",
    "                lstm_dropout,\n",
    "                bos_idx, \n",
    "                bidir, \n",
    "                tie_weights)\n",
    "\n"
   ]
  },
  {
   "cell_type": "code",
   "execution_count": null,
   "metadata": {},
   "outputs": [],
   "source": []
  },
  {
   "cell_type": "code",
   "execution_count": null,
   "metadata": {},
   "outputs": [],
   "source": [
    "learn = Learner(dl, model, loss_func=CrossEntropy())"
   ]
  },
  {
   "cell_type": "code",
   "execution_count": null,
   "metadata": {},
   "outputs": [],
   "source": [
    "learn = learn.to_fp16()"
   ]
  },
  {
   "cell_type": "code",
   "execution_count": null,
   "metadata": {},
   "outputs": [],
   "source": []
  },
  {
   "cell_type": "code",
   "execution_count": null,
   "metadata": {},
   "outputs": [
    {
     "data": {
      "text/html": [
       "<table border=\"1\" class=\"dataframe\">\n",
       "  <thead>\n",
       "    <tr style=\"text-align: left;\">\n",
       "      <th>epoch</th>\n",
       "      <th>train_loss</th>\n",
       "      <th>valid_loss</th>\n",
       "      <th>time</th>\n",
       "    </tr>\n",
       "  </thead>\n",
       "  <tbody>\n",
       "    <tr>\n",
       "      <td>0</td>\n",
       "      <td>0.307867</td>\n",
       "      <td>0.334042</td>\n",
       "      <td>2:42:30</td>\n",
       "    </tr>\n",
       "  </tbody>\n",
       "</table>"
      ],
      "text/plain": [
       "<IPython.core.display.HTML object>"
      ]
     },
     "metadata": {},
     "output_type": "display_data"
    }
   ],
   "source": [
    "learn.fit_one_cycle(1, 1e-3)"
   ]
  },
  {
   "cell_type": "code",
   "execution_count": null,
   "metadata": {},
   "outputs": [],
   "source": [
    "torch.save(learn.model.cpu().state_dict(), '../nbs/untracked_files/lstm_lm_zinc_nc.pt')"
   ]
  },
  {
   "cell_type": "code",
   "execution_count": null,
   "metadata": {},
   "outputs": [],
   "source": []
  },
  {
   "cell_type": "code",
   "execution_count": null,
   "metadata": {},
   "outputs": [],
   "source": []
  },
  {
   "cell_type": "code",
   "execution_count": null,
   "metadata": {},
   "outputs": [],
   "source": []
  },
  {
   "cell_type": "code",
   "execution_count": null,
   "metadata": {},
   "outputs": [],
   "source": []
  },
  {
   "cell_type": "code",
   "execution_count": null,
   "metadata": {},
   "outputs": [],
   "source": [
    "train_ds = Text_Dataset(train_df.smiles.values, vocab)\n",
    "valid_ds = Text_Dataset(valid_df.smiles.values, vocab)\n",
    "\n",
    "train_dl = train_ds.dataloader(bs, shuffle=True, num_workers=10)\n",
    "valid_dl = valid_ds.dataloader(bs, shuffle=False, num_workers=10)\n",
    "\n",
    "dl = DataLoaders(train_dl, valid_dl)"
   ]
  },
  {
   "cell_type": "code",
   "execution_count": null,
   "metadata": {},
   "outputs": [
    {
     "data": {
      "text/plain": [
       "<All keys matched successfully>"
      ]
     },
     "execution_count": null,
     "metadata": {},
     "output_type": "execute_result"
    }
   ],
   "source": [
    "d_vocab = len(vocab.itos)\n",
    "d_embedding = 256\n",
    "d_hidden = 1024\n",
    "n_layers = 3\n",
    "input_dropout = 0.3\n",
    "lstm_dropout = 0.3\n",
    "bos_idx = vocab.stoi['bos']\n",
    "bidir = False\n",
    "tie_weights = True\n",
    "\n",
    "model = LSTM_LM(d_vocab, \n",
    "                d_embedding,\n",
    "                d_hidden, \n",
    "                n_layers,\n",
    "                input_dropout,\n",
    "                lstm_dropout,\n",
    "                bos_idx, \n",
    "                bidir, \n",
    "                tie_weights)\n",
    "\n",
    "model.load_state_dict(torch.load('../nbs/untracked_files/lstm_lm_zinc.pt'))"
   ]
  },
  {
   "cell_type": "code",
   "execution_count": null,
   "metadata": {},
   "outputs": [],
   "source": [
    "learn = Learner(dl, model, loss_func=CrossEntropy())"
   ]
  },
  {
   "cell_type": "code",
   "execution_count": null,
   "metadata": {},
   "outputs": [],
   "source": [
    "learn = learn.to_fp16()"
   ]
  },
  {
   "cell_type": "code",
   "execution_count": null,
   "metadata": {},
   "outputs": [],
   "source": []
  },
  {
   "cell_type": "code",
   "execution_count": null,
   "metadata": {},
   "outputs": [
    {
     "data": {
      "text/html": [
       "<table border=\"1\" class=\"dataframe\">\n",
       "  <thead>\n",
       "    <tr style=\"text-align: left;\">\n",
       "      <th>epoch</th>\n",
       "      <th>train_loss</th>\n",
       "      <th>valid_loss</th>\n",
       "      <th>time</th>\n",
       "    </tr>\n",
       "  </thead>\n",
       "  <tbody>\n",
       "    <tr>\n",
       "      <td>0</td>\n",
       "      <td>0.339847</td>\n",
       "      <td>0.348997</td>\n",
       "      <td>04:59</td>\n",
       "    </tr>\n",
       "    <tr>\n",
       "      <td>1</td>\n",
       "      <td>0.330349</td>\n",
       "      <td>0.344911</td>\n",
       "      <td>04:59</td>\n",
       "    </tr>\n",
       "  </tbody>\n",
       "</table>"
      ],
      "text/plain": [
       "<IPython.core.display.HTML object>"
      ]
     },
     "metadata": {},
     "output_type": "display_data"
    }
   ],
   "source": [
    "learn.fit_one_cycle(2, 1e-4)"
   ]
  },
  {
   "cell_type": "code",
   "execution_count": null,
   "metadata": {},
   "outputs": [],
   "source": []
  },
  {
   "cell_type": "code",
   "execution_count": null,
   "metadata": {},
   "outputs": [],
   "source": [
    "torch.save(learn.model.cpu().state_dict(), '../nbs/untracked_files/lstm_lm_zinc.pt')"
   ]
  },
  {
   "cell_type": "code",
   "execution_count": null,
   "metadata": {},
   "outputs": [],
   "source": []
  },
  {
   "cell_type": "code",
   "execution_count": null,
   "metadata": {},
   "outputs": [],
   "source": []
  },
  {
   "cell_type": "code",
   "execution_count": null,
   "metadata": {},
   "outputs": [],
   "source": [
    "train_ds = Vec_To_Text_Dataset(train_df.smiles.values, vocab, ECFP6)\n",
    "valid_ds = Vec_To_Text_Dataset(valid_df.smiles.values, vocab, ECFP6)\n",
    "\n",
    "# train_ds = Text_Dataset(train_df.smiles.values, vocab)\n",
    "# valid_ds = Text_Dataset(valid_df.smiles.values, vocab)\n",
    "\n",
    "train_dl = train_ds.dataloader(bs, shuffle=True, num_workers=10)\n",
    "valid_dl = valid_ds.dataloader(bs, shuffle=False, num_workers=10)\n",
    "\n",
    "dl = DataLoaders(train_dl, valid_dl)"
   ]
  },
  {
   "cell_type": "code",
   "execution_count": null,
   "metadata": {},
   "outputs": [],
   "source": []
  },
  {
   "cell_type": "code",
   "execution_count": null,
   "metadata": {},
   "outputs": [],
   "source": [
    "d_vocab = len(vocab.itos)\n",
    "d_embedding = 256\n",
    "encoder_d_in = 2048\n",
    "encoder_dims = [1024, 512]\n",
    "encoder_drops = [0.1, 0.1]\n",
    "d_hidden = 1024\n",
    "d_latent = 512\n",
    "n_layers = 3\n",
    "input_dropout = 0.3\n",
    "lstm_dropout = 0.3\n",
    "condition_hidden = True\n",
    "condition_output = True\n",
    "bos_idx = vocab.stoi['bos']\n",
    "\n",
    "\n",
    "model = MLP_VAE(\n",
    "            d_vocab,\n",
    "            d_embedding,\n",
    "            encoder_d_in,\n",
    "            encoder_dims,\n",
    "            encoder_drops,\n",
    "            d_hidden,\n",
    "            n_layers,\n",
    "            d_latent,\n",
    "            input_dropout=input_dropout,\n",
    "            lstm_dropout=lstm_dropout,\n",
    "            condition_hidden=condition_hidden,\n",
    "            condition_output=condition_output,\n",
    "            prior=None,\n",
    "            bos_idx=bos_idx,\n",
    "            transition=None,\n",
    "        )\n",
    "\n",
    "\n",
    "# d_vocab = len(vocab.itos)\n",
    "# d_embedding = 256\n",
    "# conv_filters = [256, 512, 512, 1024]\n",
    "# kernel_sizes = [7,7,7,7]\n",
    "# strides = [2,2,2,2]\n",
    "# conv_drops = [0.3, 0.3, 0.3,0.3]\n",
    "# d_hidden = 1024\n",
    "# d_latent = 512\n",
    "# n_layers = 3\n",
    "# input_dropout = 0.3\n",
    "# lstm_dropout = 0.3\n",
    "# bidir = False\n",
    "# condition_hidden = True\n",
    "# condition_output = True\n",
    "# bos_idx = vocab.stoi['bos']\n",
    "\n",
    "# model = Conv_VAE(\n",
    "#                 d_vocab,\n",
    "#                 d_embedding,\n",
    "#                 conv_filters,\n",
    "#                 kernel_sizes,\n",
    "#                 strides,\n",
    "#                 conv_drops,\n",
    "#                 d_hidden,\n",
    "#                 n_layers,\n",
    "#                 d_latent,\n",
    "#                 input_dropout=input_dropout,\n",
    "#                 lstm_dropout=lstm_dropout,\n",
    "#                 condition_hidden=condition_hidden,\n",
    "#                 condition_output=condition_output,\n",
    "#                 prior=None,\n",
    "#                 bos_idx=bos_idx,\n",
    "#                 transition=None,\n",
    "#             )"
   ]
  },
  {
   "cell_type": "code",
   "execution_count": null,
   "metadata": {},
   "outputs": [],
   "source": [
    "loss = VAELoss(weight=0.5)"
   ]
  },
  {
   "cell_type": "code",
   "execution_count": null,
   "metadata": {},
   "outputs": [],
   "source": [
    "class FPVAECallback(Callback):\n",
    "    \"Move data to CUDA device\"\n",
    "    def before_batch(self): \n",
    "        self.learn.xb = self.learn.xb[0]"
   ]
  },
  {
   "cell_type": "code",
   "execution_count": null,
   "metadata": {},
   "outputs": [],
   "source": [
    "learn = Learner(dl, model, loss_func=VAELoss(weight=0.5), cbs=[FPVAECallback()])\n",
    "# learn = Learner(dl, model, loss_func=VAELoss(weight=0.5))"
   ]
  },
  {
   "cell_type": "code",
   "execution_count": null,
   "metadata": {},
   "outputs": [
    {
     "data": {
      "text/plain": [
       "<All keys matched successfully>"
      ]
     },
     "execution_count": null,
     "metadata": {},
     "output_type": "execute_result"
    }
   ],
   "source": [
    "learn.model.load_state_dict(torch.load('../nbs/untracked_files/fp_vae_zinc.pt'))"
   ]
  },
  {
   "cell_type": "code",
   "execution_count": null,
   "metadata": {},
   "outputs": [],
   "source": []
  },
  {
   "cell_type": "code",
   "execution_count": null,
   "metadata": {},
   "outputs": [],
   "source": []
  },
  {
   "cell_type": "code",
   "execution_count": null,
   "metadata": {},
   "outputs": [],
   "source": []
  },
  {
   "cell_type": "code",
   "execution_count": null,
   "metadata": {},
   "outputs": [],
   "source": [
    "learn = learn.to_fp16()"
   ]
  },
  {
   "cell_type": "code",
   "execution_count": null,
   "metadata": {},
   "outputs": [],
   "source": [
    "learn.model.forward_rollout = False"
   ]
  },
  {
   "cell_type": "code",
   "execution_count": null,
   "metadata": {},
   "outputs": [
    {
     "data": {
      "text/html": [
       "<table border=\"1\" class=\"dataframe\">\n",
       "  <thead>\n",
       "    <tr style=\"text-align: left;\">\n",
       "      <th>epoch</th>\n",
       "      <th>train_loss</th>\n",
       "      <th>valid_loss</th>\n",
       "      <th>time</th>\n",
       "    </tr>\n",
       "  </thead>\n",
       "  <tbody>\n",
       "    <tr>\n",
       "      <td>0</td>\n",
       "      <td>0.329212</td>\n",
       "      <td>0.334790</td>\n",
       "      <td>06:23</td>\n",
       "    </tr>\n",
       "    <tr>\n",
       "      <td>1</td>\n",
       "      <td>0.323479</td>\n",
       "      <td>0.332716</td>\n",
       "      <td>06:22</td>\n",
       "    </tr>\n",
       "  </tbody>\n",
       "</table>"
      ],
      "text/plain": [
       "<IPython.core.display.HTML object>"
      ]
     },
     "metadata": {},
     "output_type": "display_data"
    }
   ],
   "source": [
    "learn.fit_one_cycle(2, 1e-4)"
   ]
  },
  {
   "cell_type": "code",
   "execution_count": null,
   "metadata": {},
   "outputs": [],
   "source": [
    "learn.model.forward_rollout = True"
   ]
  },
  {
   "cell_type": "code",
   "execution_count": null,
   "metadata": {},
   "outputs": [
    {
     "data": {
      "text/html": [
       "<table border=\"1\" class=\"dataframe\">\n",
       "  <thead>\n",
       "    <tr style=\"text-align: left;\">\n",
       "      <th>epoch</th>\n",
       "      <th>train_loss</th>\n",
       "      <th>valid_loss</th>\n",
       "      <th>time</th>\n",
       "    </tr>\n",
       "  </thead>\n",
       "  <tbody>\n",
       "    <tr>\n",
       "      <td>0</td>\n",
       "      <td>0.608709</td>\n",
       "      <td>0.680992</td>\n",
       "      <td>13:24</td>\n",
       "    </tr>\n",
       "    <tr>\n",
       "      <td>1</td>\n",
       "      <td>0.611293</td>\n",
       "      <td>0.671171</td>\n",
       "      <td>13:26</td>\n",
       "    </tr>\n",
       "  </tbody>\n",
       "</table>"
      ],
      "text/plain": [
       "<IPython.core.display.HTML object>"
      ]
     },
     "metadata": {},
     "output_type": "display_data"
    }
   ],
   "source": [
    "learn.fit_one_cycle(2, 1e-4)"
   ]
  },
  {
   "cell_type": "code",
   "execution_count": null,
   "metadata": {},
   "outputs": [
    {
     "data": {
      "text/plain": [
       "1.0"
      ]
     },
     "execution_count": null,
     "metadata": {},
     "output_type": "execute_result"
    }
   ],
   "source": [
    "learn.model.p_force"
   ]
  },
  {
   "cell_type": "code",
   "execution_count": null,
   "metadata": {},
   "outputs": [],
   "source": [
    "learn.model.force_decay = 0.998"
   ]
  },
  {
   "cell_type": "code",
   "execution_count": null,
   "metadata": {},
   "outputs": [
    {
     "data": {
      "text/html": [
       "<table border=\"1\" class=\"dataframe\">\n",
       "  <thead>\n",
       "    <tr style=\"text-align: left;\">\n",
       "      <th>epoch</th>\n",
       "      <th>train_loss</th>\n",
       "      <th>valid_loss</th>\n",
       "      <th>time</th>\n",
       "    </tr>\n",
       "  </thead>\n",
       "  <tbody>\n",
       "    <tr>\n",
       "      <td>0</td>\n",
       "      <td>1.735332</td>\n",
       "      <td>1.745684</td>\n",
       "      <td>13:30</td>\n",
       "    </tr>\n",
       "    <tr>\n",
       "      <td>1</td>\n",
       "      <td>1.733853</td>\n",
       "      <td>1.732547</td>\n",
       "      <td>13:37</td>\n",
       "    </tr>\n",
       "    <tr>\n",
       "      <td>2</td>\n",
       "      <td>1.721871</td>\n",
       "      <td>1.735721</td>\n",
       "      <td>13:42</td>\n",
       "    </tr>\n",
       "    <tr>\n",
       "      <td>3</td>\n",
       "      <td>1.717928</td>\n",
       "      <td>1.733486</td>\n",
       "      <td>13:44</td>\n",
       "    </tr>\n",
       "  </tbody>\n",
       "</table>"
      ],
      "text/plain": [
       "<IPython.core.display.HTML object>"
      ]
     },
     "metadata": {},
     "output_type": "display_data"
    }
   ],
   "source": [
    "learn.fit_one_cycle(4, 1e-4)"
   ]
  },
  {
   "cell_type": "code",
   "execution_count": null,
   "metadata": {},
   "outputs": [
    {
     "data": {
      "text/plain": [
       "1.2264803595148308e-14"
      ]
     },
     "execution_count": null,
     "metadata": {},
     "output_type": "execute_result"
    }
   ],
   "source": [
    "learn.model.p_force"
   ]
  },
  {
   "cell_type": "code",
   "execution_count": null,
   "metadata": {},
   "outputs": [],
   "source": []
  },
  {
   "cell_type": "code",
   "execution_count": null,
   "metadata": {},
   "outputs": [],
   "source": [
    "x,y = next(iter(valid_dl))"
   ]
  },
  {
   "cell_type": "code",
   "execution_count": null,
   "metadata": {},
   "outputs": [],
   "source": []
  },
  {
   "cell_type": "code",
   "execution_count": null,
   "metadata": {},
   "outputs": [],
   "source": [
    "z,_ = learn.model.transition(learn.model.encoder(to_device(x[1])))"
   ]
  },
  {
   "cell_type": "code",
   "execution_count": null,
   "metadata": {},
   "outputs": [],
   "source": [
    "z = z[0].unsqueeze(0).repeat(512,1)"
   ]
  },
  {
   "cell_type": "code",
   "execution_count": null,
   "metadata": {},
   "outputs": [],
   "source": [
    "preds, _ = learn.model.sample_no_grad(512, 90, z=z)"
   ]
  },
  {
   "cell_type": "code",
   "execution_count": null,
   "metadata": {},
   "outputs": [],
   "source": [
    "smiles = [vocab.reconstruct(i) for i in preds]"
   ]
  },
  {
   "cell_type": "code",
   "execution_count": null,
   "metadata": {},
   "outputs": [
    {
     "data": {
      "text/plain": [
       "['CCCCc(H((cccC1CC)N()CC@Hccc]=)Oc[HHHc)nccCC)C1c)H2cncn-2cc)CF]@cC',\n",
       " 'CCC(c]C()CCCNC)[@HH(OCcncCCCc@(C)CCcccO)1F',\n",
       " 'O=(Ncc(C(OccCc3cc1()NCCc)c])CO])N1ClCc11C',\n",
       " 'CCC()1Oc[H]3ccC2(Cc=)CC1cC](CO)cCO))',\n",
       " 'CC1cc(c(OCCCnc(((3[@H]C1cnnc1Cc)1C)CC=)C1C1NCCncCCc@@]CO1CCCc))c',\n",
       " 'CC1C1ccNC(CC=)CC(O(OCS=)C)Cn]O2c2c)C)1CCCCC)',\n",
       " 'C[@H]cC1COC[@H](cc[@@Hn1ccCccC(C(N=)NCNccc[+HH(O@cn3ccN1c)CnC(C)O1H',\n",
       " 'CC([@H((1N[@H]CC1c]cCcCccccCC@H1()1[@H]C4SCc@cc(O)cc',\n",
       " 'Cnc1cccC)=C]COcC(C(OCCN1C(=)Cc)cc(c)OcCC)1CO',\n",
       " 'C=C1C(cccc()C((C)2cnc3N()CCcn2[HiH(]C)C)C1C[@HH((NCcc(nF(())[@@](CC)C[@H]CC()))O)C1']"
      ]
     },
     "execution_count": null,
     "metadata": {},
     "output_type": "execute_result"
    }
   ],
   "source": [
    "smiles[:10]"
   ]
  },
  {
   "cell_type": "code",
   "execution_count": null,
   "metadata": {},
   "outputs": [
    {
     "data": {
      "text/plain": [
       "0"
      ]
     },
     "execution_count": null,
     "metadata": {},
     "output_type": "execute_result"
    }
   ],
   "source": [
    "len([i for i in to_mols(smiles) if i is not None])"
   ]
  },
  {
   "cell_type": "code",
   "execution_count": null,
   "metadata": {},
   "outputs": [],
   "source": []
  },
  {
   "cell_type": "code",
   "execution_count": null,
   "metadata": {},
   "outputs": [],
   "source": []
  },
  {
   "cell_type": "code",
   "execution_count": null,
   "metadata": {},
   "outputs": [],
   "source": []
  },
  {
   "cell_type": "code",
   "execution_count": null,
   "metadata": {},
   "outputs": [],
   "source": []
  },
  {
   "cell_type": "code",
   "execution_count": null,
   "metadata": {},
   "outputs": [
    {
     "data": {
      "text/html": [
       "<table border=\"1\" class=\"dataframe\">\n",
       "  <thead>\n",
       "    <tr style=\"text-align: left;\">\n",
       "      <th>epoch</th>\n",
       "      <th>train_loss</th>\n",
       "      <th>valid_loss</th>\n",
       "      <th>time</th>\n",
       "    </tr>\n",
       "  </thead>\n",
       "  <tbody>\n",
       "    <tr>\n",
       "      <td>0</td>\n",
       "      <td>0.352807</td>\n",
       "      <td>0.376337</td>\n",
       "      <td>4:00:59</td>\n",
       "    </tr>\n",
       "  </tbody>\n",
       "</table>"
      ],
      "text/plain": [
       "<IPython.core.display.HTML object>"
      ]
     },
     "metadata": {},
     "output_type": "display_data"
    }
   ],
   "source": [
    "learn.fit_one_cycle(1, 1e-3)"
   ]
  },
  {
   "cell_type": "code",
   "execution_count": null,
   "metadata": {},
   "outputs": [],
   "source": []
  },
  {
   "cell_type": "code",
   "execution_count": null,
   "metadata": {},
   "outputs": [],
   "source": [
    "torch.save(learn.model.cpu().state_dict(), '../nbs/untracked_files/conv_vae_zinc_selfies.pt')"
   ]
  },
  {
   "cell_type": "code",
   "execution_count": null,
   "metadata": {},
   "outputs": [],
   "source": []
  },
  {
   "cell_type": "code",
   "execution_count": null,
   "metadata": {},
   "outputs": [],
   "source": []
  },
  {
   "cell_type": "code",
   "execution_count": null,
   "metadata": {},
   "outputs": [],
   "source": [
    "x,y = next(iter(valid_dl))"
   ]
  },
  {
   "cell_type": "code",
   "execution_count": null,
   "metadata": {},
   "outputs": [
    {
     "data": {
      "text/plain": [
       "torch.Size([500, 65])"
      ]
     },
     "execution_count": null,
     "metadata": {},
     "output_type": "execute_result"
    }
   ],
   "source": [
    "x.shape"
   ]
  },
  {
   "cell_type": "code",
   "execution_count": null,
   "metadata": {},
   "outputs": [],
   "source": []
  },
  {
   "cell_type": "code",
   "execution_count": null,
   "metadata": {},
   "outputs": [],
   "source": [
    "z,_ = learn.model.transition(learn.model.encoder(to_device(x)))"
   ]
  },
  {
   "cell_type": "code",
   "execution_count": null,
   "metadata": {},
   "outputs": [],
   "source": [
    "z = z[0].unsqueeze(0).repeat(512,1)"
   ]
  },
  {
   "cell_type": "code",
   "execution_count": null,
   "metadata": {},
   "outputs": [],
   "source": [
    "preds, _ = learn.model.sample_no_grad(512, 90, z=z)"
   ]
  },
  {
   "cell_type": "code",
   "execution_count": null,
   "metadata": {},
   "outputs": [],
   "source": [
    "smiles = [vocab.reconstruct(i) for i in preds]"
   ]
  },
  {
   "cell_type": "code",
   "execution_count": null,
   "metadata": {},
   "outputs": [
    {
     "data": {
      "text/plain": [
       "['CCCOc1ccc(C(=O)N(C)c2ccc(C#N)cc2)cc1',\n",
       " 'COc1cc(Nc2cccc(-n3ccnn3)c2)cc(F)c1Cl',\n",
       " 'COC(=O)N1C[C@H]2CC[C@H]1[C@H](NCC(=O)Nc1cc([N+](=O)[O-])ccn1)C2',\n",
       " 'Cc1cc(C(=O)N2CCC(NC(=O)[C@@H]3CN(c4ccccn4)C[C@H]3C)CC2)n[nH]1',\n",
       " 'CCC[C@@H]1C[C@H]1C(=O)N[C@@H]1CN(Cc2cc(OC)ccc2Cl)C[C@@H]1O',\n",
       " 'C[S@](=O)C[C@H](NC(=O)CCNS(=O)(=O)c1ccc(F)c(F)c1)c1ccccc1',\n",
       " 'CCc1nnc(N2CCO[C@](C)(c3cnn(C)c3)C2)n1Cc1ccc(Cl)cc1',\n",
       " 'CC[C@@H](C)Oc1cc(N2CCC[C@H]2c2ccco2)nc(C)n1',\n",
       " 'O=C(O)C1CCN(c2cc(C(F)(F)F)ccn2)CC1',\n",
       " 'CNS(=O)(=O)c1cc(C(=O)N2CCC(C(=O)c3cccs3)CC2)ccc1F']"
      ]
     },
     "execution_count": null,
     "metadata": {},
     "output_type": "execute_result"
    }
   ],
   "source": [
    "smiles[:10]"
   ]
  },
  {
   "cell_type": "code",
   "execution_count": null,
   "metadata": {},
   "outputs": [],
   "source": []
  },
  {
   "cell_type": "code",
   "execution_count": null,
   "metadata": {},
   "outputs": [],
   "source": []
  },
  {
   "cell_type": "code",
   "execution_count": null,
   "metadata": {},
   "outputs": [],
   "source": [
    "to_device(learn.model);"
   ]
  },
  {
   "cell_type": "code",
   "execution_count": null,
   "metadata": {},
   "outputs": [],
   "source": []
  },
  {
   "cell_type": "code",
   "execution_count": null,
   "metadata": {},
   "outputs": [],
   "source": [
    "df = pd.read_csv('../../smiles_datasets/chembl/chembl.csv')"
   ]
  },
  {
   "cell_type": "code",
   "execution_count": null,
   "metadata": {},
   "outputs": [],
   "source": [
    "df = df[df.smiles.map(lambda x: 8<len(x)<=100)]\n",
    "df = df[df.smiles.map(lambda x: not '.' in x)]"
   ]
  },
  {
   "cell_type": "code",
   "execution_count": null,
   "metadata": {},
   "outputs": [],
   "source": [
    "bs = 500\n",
    "\n",
    "train_df = df.sample(frac=0.99, random_state=42)\n",
    "valid_df = df[~(df.index.isin(train_df.index))]"
   ]
  },
  {
   "cell_type": "code",
   "execution_count": null,
   "metadata": {},
   "outputs": [],
   "source": [
    "# train_ds = Vec_To_Text_Dataset(train_df.smiles.values, vocab, ECFP6)\n",
    "# valid_ds = Vec_To_Text_Dataset(valid_df.smiles.values, vocab, ECFP6)\n",
    "\n",
    "train_ds = Text_Dataset(train_df.smiles.values, vocab)\n",
    "valid_ds = Text_Dataset(valid_df.smiles.values, vocab)\n",
    "\n",
    "train_dl = train_ds.dataloader(bs, shuffle=True, num_workers=10)\n",
    "valid_dl = valid_ds.dataloader(bs, shuffle=False, num_workers=10)\n",
    "\n",
    "dl = DataLoaders(train_dl, valid_dl)"
   ]
  },
  {
   "cell_type": "code",
   "execution_count": null,
   "metadata": {},
   "outputs": [
    {
     "data": {
      "text/plain": [
       "3657"
      ]
     },
     "execution_count": null,
     "metadata": {},
     "output_type": "execute_result"
    }
   ],
   "source": [
    "len(train_dl)"
   ]
  },
  {
   "cell_type": "code",
   "execution_count": null,
   "metadata": {},
   "outputs": [],
   "source": []
  },
  {
   "cell_type": "code",
   "execution_count": null,
   "metadata": {},
   "outputs": [],
   "source": [
    "# learn = Learner(dl, model, loss_func=VAELoss(weight=0.5), cbs=[FPVAECallback()])\n",
    "learn = Learner(dl, model, loss_func=VAELoss(weight=0.5))"
   ]
  },
  {
   "cell_type": "code",
   "execution_count": null,
   "metadata": {},
   "outputs": [
    {
     "data": {
      "text/plain": [
       "<All keys matched successfully>"
      ]
     },
     "execution_count": null,
     "metadata": {},
     "output_type": "execute_result"
    }
   ],
   "source": [
    "learn.model.load_state_dict(torch.load('../nbs/untracked_files/conv_vae_zinc_selfies.pt'))"
   ]
  },
  {
   "cell_type": "code",
   "execution_count": null,
   "metadata": {},
   "outputs": [],
   "source": []
  },
  {
   "cell_type": "code",
   "execution_count": null,
   "metadata": {},
   "outputs": [],
   "source": [
    "learn = learn.to_fp16()"
   ]
  },
  {
   "cell_type": "code",
   "execution_count": null,
   "metadata": {},
   "outputs": [],
   "source": []
  },
  {
   "cell_type": "code",
   "execution_count": null,
   "metadata": {},
   "outputs": [
    {
     "data": {
      "text/html": [
       "<table border=\"1\" class=\"dataframe\">\n",
       "  <thead>\n",
       "    <tr style=\"text-align: left;\">\n",
       "      <th>epoch</th>\n",
       "      <th>train_loss</th>\n",
       "      <th>valid_loss</th>\n",
       "      <th>time</th>\n",
       "    </tr>\n",
       "  </thead>\n",
       "  <tbody>\n",
       "    <tr>\n",
       "      <td>0</td>\n",
       "      <td>0.379176</td>\n",
       "      <td>0.408467</td>\n",
       "      <td>08:09</td>\n",
       "    </tr>\n",
       "    <tr>\n",
       "      <td>1</td>\n",
       "      <td>0.346460</td>\n",
       "      <td>0.367585</td>\n",
       "      <td>08:02</td>\n",
       "    </tr>\n",
       "    <tr>\n",
       "      <td>2</td>\n",
       "      <td>0.330632</td>\n",
       "      <td>0.351018</td>\n",
       "      <td>08:03</td>\n",
       "    </tr>\n",
       "    <tr>\n",
       "      <td>3</td>\n",
       "      <td>0.318140</td>\n",
       "      <td>0.339556</td>\n",
       "      <td>08:04</td>\n",
       "    </tr>\n",
       "    <tr>\n",
       "      <td>4</td>\n",
       "      <td>0.311918</td>\n",
       "      <td>0.329689</td>\n",
       "      <td>08:03</td>\n",
       "    </tr>\n",
       "    <tr>\n",
       "      <td>5</td>\n",
       "      <td>0.305336</td>\n",
       "      <td>0.325988</td>\n",
       "      <td>08:03</td>\n",
       "    </tr>\n",
       "    <tr>\n",
       "      <td>6</td>\n",
       "      <td>0.297668</td>\n",
       "      <td>0.321791</td>\n",
       "      <td>08:03</td>\n",
       "    </tr>\n",
       "    <tr>\n",
       "      <td>7</td>\n",
       "      <td>0.295900</td>\n",
       "      <td>0.319025</td>\n",
       "      <td>08:03</td>\n",
       "    </tr>\n",
       "    <tr>\n",
       "      <td>8</td>\n",
       "      <td>0.293085</td>\n",
       "      <td>0.318507</td>\n",
       "      <td>08:04</td>\n",
       "    </tr>\n",
       "    <tr>\n",
       "      <td>9</td>\n",
       "      <td>0.291604</td>\n",
       "      <td>0.318038</td>\n",
       "      <td>08:05</td>\n",
       "    </tr>\n",
       "  </tbody>\n",
       "</table>"
      ],
      "text/plain": [
       "<IPython.core.display.HTML object>"
      ]
     },
     "metadata": {},
     "output_type": "display_data"
    }
   ],
   "source": [
    "learn.fit_one_cycle(10, 5e-4)"
   ]
  },
  {
   "cell_type": "code",
   "execution_count": null,
   "metadata": {},
   "outputs": [],
   "source": []
  },
  {
   "cell_type": "code",
   "execution_count": null,
   "metadata": {},
   "outputs": [],
   "source": []
  },
  {
   "cell_type": "code",
   "execution_count": null,
   "metadata": {},
   "outputs": [],
   "source": [
    "torch.save(learn.model.cpu().state_dict(), '../nbs/untracked_files/conv_vae_chembl_selfies.pt')"
   ]
  },
  {
   "cell_type": "code",
   "execution_count": null,
   "metadata": {},
   "outputs": [],
   "source": []
  },
  {
   "cell_type": "code",
   "execution_count": null,
   "metadata": {},
   "outputs": [],
   "source": []
  },
  {
   "cell_type": "code",
   "execution_count": null,
   "metadata": {},
   "outputs": [],
   "source": []
  },
  {
   "cell_type": "code",
   "execution_count": null,
   "metadata": {},
   "outputs": [],
   "source": []
  }
 ],
 "metadata": {
  "kernelspec": {
   "display_name": "Python (mrl_f)",
   "language": "python",
   "name": "mrl_f"
  },
  "language_info": {
   "codemirror_mode": {
    "name": "ipython",
    "version": 3
   },
   "file_extension": ".py",
   "mimetype": "text/x-python",
   "name": "python",
   "nbconvert_exporter": "python",
   "pygments_lexer": "ipython3",
   "version": "3.6.13"
  }
 },
 "nbformat": 4,
 "nbformat_minor": 4
}
