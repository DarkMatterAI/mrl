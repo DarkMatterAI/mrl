{
 "cells": [
  {
   "cell_type": "code",
   "execution_count": 1,
   "metadata": {},
   "outputs": [
    {
     "name": "stderr",
     "output_type": "stream",
     "text": [
      "/home/dmai/miniconda3/envs/mrl/lib/python3.6/importlib/_bootstrap.py:219: RuntimeWarning: to-Python converter for boost::shared_ptr<RDKit::FilterCatalogEntry const> already registered; second conversion method ignored.\n",
      "  return f(*args, **kwds)\n"
     ]
    }
   ],
   "source": [
    "import sys\n",
    "sys.path.append('../')\n",
    "\n",
    "from mrl.imports import *\n",
    "from mrl.core import *\n",
    "from mrl.chem import *\n",
    "from mrl.templates import *\n",
    "from mrl.torch_imports import *\n",
    "from mrl.torch_core import *\n",
    "from mrl.layers import *\n",
    "from mrl.dataloaders import *\n",
    "from mrl.g_models import *\n",
    "from mrl.agent import *\n",
    "from mrl.policy_gradient import PolicyGradient, TRPO, PPO\n",
    "from mrl.environment import *"
   ]
  },
  {
   "cell_type": "code",
   "execution_count": 2,
   "metadata": {},
   "outputs": [],
   "source": [
    "os.environ['DEFAULT_GPU'] = '1'\n",
    "os.environ['ncpus'] = '32'"
   ]
  },
  {
   "cell_type": "code",
   "execution_count": null,
   "metadata": {},
   "outputs": [],
   "source": []
  },
  {
   "cell_type": "code",
   "execution_count": 3,
   "metadata": {},
   "outputs": [],
   "source": [
    "df = pd.read_csv('../../smiles_datasets/chembl/chembl.csv', usecols=['smiles', 'smiles_nc'])"
   ]
  },
  {
   "cell_type": "code",
   "execution_count": 4,
   "metadata": {},
   "outputs": [
    {
     "data": {
      "text/html": [
       "<div>\n",
       "<style scoped>\n",
       "    .dataframe tbody tr th:only-of-type {\n",
       "        vertical-align: middle;\n",
       "    }\n",
       "\n",
       "    .dataframe tbody tr th {\n",
       "        vertical-align: top;\n",
       "    }\n",
       "\n",
       "    .dataframe thead th {\n",
       "        text-align: right;\n",
       "    }\n",
       "</style>\n",
       "<table border=\"1\" class=\"dataframe\">\n",
       "  <thead>\n",
       "    <tr style=\"text-align: right;\">\n",
       "      <th></th>\n",
       "      <th>smiles</th>\n",
       "      <th>smiles_nc</th>\n",
       "    </tr>\n",
       "  </thead>\n",
       "  <tbody>\n",
       "    <tr>\n",
       "      <th>0</th>\n",
       "      <td>CN(C)[C@]1(c2ccccc2)CC[C@@H](NC(=O)NCCCc2ccccc...</td>\n",
       "      <td>CN(C)C1(c2ccccc2)CCC(NC(=O)NCCCc2ccccc2)CC1</td>\n",
       "    </tr>\n",
       "    <tr>\n",
       "      <th>1</th>\n",
       "      <td>CN[C@]1(c2ccccc2)CC[C@]2(CC1)OCCc1c3ccccc3[nH]c12</td>\n",
       "      <td>CNC1(c2ccccc2)CCC2(CC1)OCCc1c2[nH]c2ccccc12</td>\n",
       "    </tr>\n",
       "    <tr>\n",
       "      <th>2</th>\n",
       "      <td>O=C(OCCN1CCN(C(c2ccc(F)cc2)c2ccc(F)cc2)CC1)C12...</td>\n",
       "      <td>O=C(OCCN1CCN(C(c2ccc(F)cc2)c2ccc(F)cc2)CC1)C12...</td>\n",
       "    </tr>\n",
       "    <tr>\n",
       "      <th>3</th>\n",
       "      <td>CCn1c(N[C@H]2CC[C@H](O)CC2)nc2ccsc2c1=O</td>\n",
       "      <td>CCn1c(NC2CCC(O)CC2)nc2ccsc2c1=O</td>\n",
       "    </tr>\n",
       "    <tr>\n",
       "      <th>4</th>\n",
       "      <td>CCn1c(N[C@H]2CC[C@H](C(=O)O)CC2)nc2ccsc2c1=O</td>\n",
       "      <td>CCn1c(NC2CCC(C(=O)O)CC2)nc2ccsc2c1=O</td>\n",
       "    </tr>\n",
       "  </tbody>\n",
       "</table>\n",
       "</div>"
      ],
      "text/plain": [
       "                                              smiles  \\\n",
       "0  CN(C)[C@]1(c2ccccc2)CC[C@@H](NC(=O)NCCCc2ccccc...   \n",
       "1  CN[C@]1(c2ccccc2)CC[C@]2(CC1)OCCc1c3ccccc3[nH]c12   \n",
       "2  O=C(OCCN1CCN(C(c2ccc(F)cc2)c2ccc(F)cc2)CC1)C12...   \n",
       "3            CCn1c(N[C@H]2CC[C@H](O)CC2)nc2ccsc2c1=O   \n",
       "4       CCn1c(N[C@H]2CC[C@H](C(=O)O)CC2)nc2ccsc2c1=O   \n",
       "\n",
       "                                           smiles_nc  \n",
       "0        CN(C)C1(c2ccccc2)CCC(NC(=O)NCCCc2ccccc2)CC1  \n",
       "1        CNC1(c2ccccc2)CCC2(CC1)OCCc1c2[nH]c2ccccc12  \n",
       "2  O=C(OCCN1CCN(C(c2ccc(F)cc2)c2ccc(F)cc2)CC1)C12...  \n",
       "3                    CCn1c(NC2CCC(O)CC2)nc2ccsc2c1=O  \n",
       "4               CCn1c(NC2CCC(C(=O)O)CC2)nc2ccsc2c1=O  "
      ]
     },
     "execution_count": 4,
     "metadata": {},
     "output_type": "execute_result"
    }
   ],
   "source": [
    "df.head()"
   ]
  },
  {
   "cell_type": "code",
   "execution_count": 5,
   "metadata": {},
   "outputs": [
    {
     "data": {
      "text/plain": [
       "(2066376, 2)"
      ]
     },
     "execution_count": 5,
     "metadata": {},
     "output_type": "execute_result"
    }
   ],
   "source": [
    "df.shape"
   ]
  },
  {
   "cell_type": "code",
   "execution_count": 6,
   "metadata": {},
   "outputs": [],
   "source": [
    "df = df[df.smiles.map(lambda x: len(x)<=90)]"
   ]
  },
  {
   "cell_type": "code",
   "execution_count": 7,
   "metadata": {},
   "outputs": [
    {
     "data": {
      "text/plain": [
       "(1910252, 2)"
      ]
     },
     "execution_count": 7,
     "metadata": {},
     "output_type": "execute_result"
    }
   ],
   "source": [
    "df.shape"
   ]
  },
  {
   "cell_type": "code",
   "execution_count": null,
   "metadata": {},
   "outputs": [],
   "source": []
  },
  {
   "cell_type": "code",
   "execution_count": 8,
   "metadata": {},
   "outputs": [],
   "source": [
    "vocab = CharacterVocab(SMILES_CHAR_VOCAB)"
   ]
  },
  {
   "cell_type": "code",
   "execution_count": 9,
   "metadata": {},
   "outputs": [],
   "source": [
    "ds = TextDataset(df.smiles.values, vocab)"
   ]
  },
  {
   "cell_type": "code",
   "execution_count": null,
   "metadata": {},
   "outputs": [],
   "source": []
  },
  {
   "cell_type": "code",
   "execution_count": 10,
   "metadata": {},
   "outputs": [],
   "source": [
    "# d_vocab = len(vocab.itos)\n",
    "# d_embedding = 256\n",
    "# d_hidden = 1024\n",
    "# n_layers = 3\n",
    "# lstm_drop = 0.\n",
    "# lin_drop = 0.\n",
    "# bos_idx = vocab.stoi['bos']\n",
    "# bidir = False\n",
    "# tie_weights = True\n",
    "\n",
    "# lm_model = LSTM_LM(d_vocab, d_embedding, d_hidden, n_layers,\n",
    "#                 lstm_drop, lin_drop, bos_idx, bidir, tie_weights)\n",
    "\n",
    "# loss = CrossEntropy()\n",
    "# ds = TextDataset(df.smiles.values, vocab)"
   ]
  },
  {
   "cell_type": "code",
   "execution_count": 11,
   "metadata": {},
   "outputs": [],
   "source": [
    "def vector_reconstruction_collate2(batch, pad_idx, batch_first=True):\n",
    "\n",
    "    x,y = vector_reconstruction_collate(batch, pad_idx, batch_first)\n",
    "    x = x[::-1]\n",
    "    output = (x,y)\n",
    "    return output\n",
    "\n",
    "collate = partial(vector_reconstruction_collate2, pad_idx=vocab.stoi['pad'])\n",
    "# ds = Vec_Recon_Dataset(['CCC'], vocab, ECFP6, collate_function=collate)\n",
    "ds = Vec_Recon_Dataset(df.smiles.values, vocab, partial(failsafe_fp, fp_function=ECFP6), collate_function=collate)\n",
    "\n",
    "d_vocab = len(vocab.itos)\n",
    "d_embedding = 256\n",
    "encoder_d_in = 2048\n",
    "encoder_dims = [1024, 512]\n",
    "encoder_drops = [0.1, 0.1]\n",
    "d_hidden = 1024\n",
    "n_layers = 3\n",
    "d_latent = 512\n",
    "dec_drop=0.0\n",
    "condition_hidden=True\n",
    "condition_output=True\n",
    "prior=None\n",
    "bos_idx=0\n",
    "\n",
    "lm_model = MLP_VAE(d_vocab, d_embedding, encoder_d_in, encoder_dims, encoder_drops,\n",
    "                d_hidden, n_layers, d_latent, dec_drop, condition_hidden, condition_output,\n",
    "                prior, bos_idx)\n",
    "\n",
    "class VAELoss():\n",
    "    def __init__(self, weight=1.):\n",
    "        self.ce = CrossEntropy()\n",
    "        self.weight = weight\n",
    "        \n",
    "    def __call__(self, inputs, targs):\n",
    "        output, kl_loss = inputs\n",
    "        return self.ce(output, targs) + self.weight*kl_loss\n",
    "\n",
    "loss = VAELoss(weight=0.1)"
   ]
  },
  {
   "cell_type": "code",
   "execution_count": 12,
   "metadata": {},
   "outputs": [],
   "source": [
    "agent = GenerativeAgent(lm_model, vocab, loss, ds, base_model=None)"
   ]
  },
  {
   "cell_type": "code",
   "execution_count": null,
   "metadata": {},
   "outputs": [],
   "source": []
  },
  {
   "cell_type": "code",
   "execution_count": null,
   "metadata": {},
   "outputs": [],
   "source": []
  },
  {
   "cell_type": "code",
   "execution_count": null,
   "metadata": {},
   "outputs": [],
   "source": []
  },
  {
   "cell_type": "code",
   "execution_count": null,
   "metadata": {},
   "outputs": [],
   "source": []
  },
  {
   "cell_type": "code",
   "execution_count": 13,
   "metadata": {
    "scrolled": true
   },
   "outputs": [
    {
     "data": {
      "text/html": [
       "<table border=\"1\" class=\"dataframe\">\n",
       "  <thead>\n",
       "    <tr style=\"text-align: left;\">\n",
       "      <th>Epoch</th>\n",
       "      <th>Train Loss</th>\n",
       "      <th>Valid  Loss</th>\n",
       "      <th>Time</th>\n",
       "    </tr>\n",
       "  </thead>\n",
       "  <tbody>\n",
       "    <tr>\n",
       "      <td>0</td>\n",
       "      <td>0.39922</td>\n",
       "      <td>0.47122</td>\n",
       "      <td>12:26</td>\n",
       "    </tr>\n",
       "    <tr>\n",
       "      <td>1</td>\n",
       "      <td>0.33127</td>\n",
       "      <td>0.42784</td>\n",
       "      <td>12:29</td>\n",
       "    </tr>\n",
       "    <tr>\n",
       "      <td>2</td>\n",
       "      <td>0.29410</td>\n",
       "      <td>0.38968</td>\n",
       "      <td>11:03</td>\n",
       "    </tr>\n",
       "    <tr>\n",
       "      <td>3</td>\n",
       "      <td>0.28380</td>\n",
       "      <td>0.38069</td>\n",
       "      <td>10:56</td>\n",
       "    </tr>\n",
       "    <tr>\n",
       "      <td>4</td>\n",
       "      <td>0.28094</td>\n",
       "      <td>0.37192</td>\n",
       "      <td>10:59</td>\n",
       "    </tr>\n",
       "  </tbody>\n",
       "</table>"
      ],
      "text/plain": [
       "<IPython.core.display.HTML object>"
      ]
     },
     "metadata": {},
     "output_type": "display_data"
    }
   ],
   "source": [
    "agent.train_supervised(500, 5, 1e-3)"
   ]
  },
  {
   "cell_type": "code",
   "execution_count": null,
   "metadata": {},
   "outputs": [],
   "source": []
  },
  {
   "cell_type": "code",
   "execution_count": 14,
   "metadata": {},
   "outputs": [],
   "source": [
    "torch.save(agent.model.state_dict(), '../nbs/untracked_files/fp_vae_chembl.pt')"
   ]
  },
  {
   "cell_type": "code",
   "execution_count": 23,
   "metadata": {},
   "outputs": [
    {
     "data": {
      "text/plain": [
       "<All keys matched successfully>"
      ]
     },
     "execution_count": 23,
     "metadata": {},
     "output_type": "execute_result"
    }
   ],
   "source": [
    "agent.model.load_state_dict(torch.load('../nbs/untracked_files/fp_vae_chembl.pt'))"
   ]
  },
  {
   "cell_type": "code",
   "execution_count": null,
   "metadata": {},
   "outputs": [],
   "source": []
  },
  {
   "cell_type": "code",
   "execution_count": 26,
   "metadata": {},
   "outputs": [],
   "source": [
    "dl = agent.dataset.dataloader(128)"
   ]
  },
  {
   "cell_type": "code",
   "execution_count": 27,
   "metadata": {},
   "outputs": [],
   "source": [
    "x,y = next(iter(dl))"
   ]
  },
  {
   "cell_type": "code",
   "execution_count": 28,
   "metadata": {},
   "outputs": [
    {
     "data": {
      "text/plain": [
       "(tensor([[0., 0., 0.,  ..., 1., 0., 0.],\n",
       "         [0., 0., 0.,  ..., 0., 0., 0.],\n",
       "         [0., 1., 0.,  ..., 0., 0., 0.],\n",
       "         ...,\n",
       "         [0., 1., 0.,  ..., 0., 0., 0.],\n",
       "         [0., 0., 0.,  ..., 0., 0., 0.],\n",
       "         [0., 0., 0.,  ..., 0., 0., 0.]]),\n",
       " tensor([[ 0, 22, 26,  ...,  2,  2,  2],\n",
       "         [ 0, 22, 26,  ...,  2,  2,  2],\n",
       "         [ 0, 27, 19,  ...,  2,  2,  2],\n",
       "         ...,\n",
       "         [ 0, 22, 22,  ...,  2,  2,  2],\n",
       "         [ 0, 22, 22,  ...,  2,  2,  2],\n",
       "         [ 0, 27, 19,  ...,  2,  2,  2]]))"
      ]
     },
     "execution_count": 28,
     "metadata": {},
     "output_type": "execute_result"
    }
   ],
   "source": [
    "x"
   ]
  },
  {
   "cell_type": "code",
   "execution_count": null,
   "metadata": {},
   "outputs": [],
   "source": []
  },
  {
   "cell_type": "code",
   "execution_count": 29,
   "metadata": {},
   "outputs": [],
   "source": [
    "fp = x[0][0].unsqueeze(0).repeat(128,1)"
   ]
  },
  {
   "cell_type": "code",
   "execution_count": 31,
   "metadata": {},
   "outputs": [],
   "source": [
    "fp = to_device(fp)"
   ]
  },
  {
   "cell_type": "code",
   "execution_count": null,
   "metadata": {},
   "outputs": [],
   "source": []
  },
  {
   "cell_type": "code",
   "execution_count": 32,
   "metadata": {},
   "outputs": [],
   "source": [
    "latent = agent.model.encoder(fp)"
   ]
  },
  {
   "cell_type": "code",
   "execution_count": 52,
   "metadata": {},
   "outputs": [],
   "source": [
    "z,kl = agent.model.transition(latent, z_scale=0.)"
   ]
  },
  {
   "cell_type": "code",
   "execution_count": 53,
   "metadata": {},
   "outputs": [
    {
     "data": {
      "text/plain": [
       "tensor(3.5766e-05, device='cuda:1', grad_fn=<MulBackward0>)"
      ]
     },
     "execution_count": 53,
     "metadata": {},
     "output_type": "execute_result"
    }
   ],
   "source": [
    "kl"
   ]
  },
  {
   "cell_type": "code",
   "execution_count": 54,
   "metadata": {},
   "outputs": [
    {
     "data": {
      "text/plain": [
       "tensor([[-4.1041e-04, -5.9068e-04,  6.3178e-05,  ..., -6.5576e-04,\n",
       "          3.4454e-05,  2.8731e-04],\n",
       "        [-4.1041e-04, -5.9068e-04,  6.3178e-05,  ..., -6.5576e-04,\n",
       "          3.4454e-05,  2.8731e-04],\n",
       "        [-4.1041e-04, -5.9068e-04,  6.3178e-05,  ..., -6.5576e-04,\n",
       "          3.4454e-05,  2.8731e-04],\n",
       "        ...,\n",
       "        [-4.1041e-04, -5.9068e-04,  6.3178e-05,  ..., -6.5576e-04,\n",
       "          3.4454e-05,  2.8731e-04],\n",
       "        [-4.1041e-04, -5.9068e-04,  6.3178e-05,  ..., -6.5576e-04,\n",
       "          3.4454e-05,  2.8731e-04],\n",
       "        [-4.1041e-04, -5.9068e-04,  6.3178e-05,  ..., -6.5576e-04,\n",
       "          3.4454e-05,  2.8731e-04]], device='cuda:1', grad_fn=<AddBackward0>)"
      ]
     },
     "execution_count": 54,
     "metadata": {},
     "output_type": "execute_result"
    }
   ],
   "source": [
    "z"
   ]
  },
  {
   "cell_type": "code",
   "execution_count": 55,
   "metadata": {},
   "outputs": [],
   "source": [
    "preds, _ = agent.model.sample_no_grad(z.shape[0], 90, z=z, temperature=0.1)"
   ]
  },
  {
   "cell_type": "code",
   "execution_count": 56,
   "metadata": {},
   "outputs": [
    {
     "data": {
      "text/plain": [
       "tensor([[22, 22,  5,  ...,  2,  2,  2],\n",
       "        [22, 22,  5,  ...,  2,  2,  2],\n",
       "        [22, 22, 22,  ...,  2,  2,  2],\n",
       "        ...,\n",
       "        [22, 22,  5,  ...,  2,  2,  2],\n",
       "        [22, 22,  5,  ...,  2,  2,  2],\n",
       "        [22, 22,  5,  ...,  2,  2,  2]], device='cuda:1')"
      ]
     },
     "execution_count": 56,
     "metadata": {},
     "output_type": "execute_result"
    }
   ],
   "source": [
    "preds"
   ]
  },
  {
   "cell_type": "code",
   "execution_count": 57,
   "metadata": {},
   "outputs": [],
   "source": [
    "smiles = agent.reconstruct(preds)"
   ]
  },
  {
   "cell_type": "code",
   "execution_count": 58,
   "metadata": {},
   "outputs": [
    {
     "data": {
      "image/png": "[encoded data removed]",
      "text/plain": [
       "<IPython.core.display.Image object>"
      ]
     },
     "execution_count": 58,
     "metadata": {},
     "output_type": "execute_result"
    }
   ],
   "source": [
    "draw_mols(np.random.choice(to_mols(smiles),16), mols_per_row=4)"
   ]
  },
  {
   "cell_type": "code",
   "execution_count": null,
   "metadata": {},
   "outputs": [],
   "source": []
  },
  {
   "cell_type": "code",
   "execution_count": 65,
   "metadata": {},
   "outputs": [
    {
     "data": {
      "image/png": "[encoded data removed]",
      "text/plain": [
       "<rdkit.Chem.rdchem.Mol at 0x7f37f891d620>"
      ]
     },
     "execution_count": 65,
     "metadata": {},
     "output_type": "execute_result"
    }
   ],
   "source": [
    "to_mol('CN(C)[C@]1(c2ccccc2)CC[C@@H](NC(=O)NCCCc2ccccc2)CC1')"
   ]
  },
  {
   "cell_type": "code",
   "execution_count": null,
   "metadata": {},
   "outputs": [],
   "source": []
  },
  {
   "cell_type": "code",
   "execution_count": null,
   "metadata": {},
   "outputs": [],
   "source": []
  }
 ],
 "metadata": {
  "kernelspec": {
   "display_name": "Python (mrl)",
   "language": "python",
   "name": "mrl"
  },
  "language_info": {
   "codemirror_mode": {
    "name": "ipython",
    "version": 3
   },
   "file_extension": ".py",
   "mimetype": "text/x-python",
   "name": "python",
   "nbconvert_exporter": "python",
   "pygments_lexer": "ipython3",
   "version": "3.6.13"
  }
 },
 "nbformat": 4,
 "nbformat_minor": 4
}
